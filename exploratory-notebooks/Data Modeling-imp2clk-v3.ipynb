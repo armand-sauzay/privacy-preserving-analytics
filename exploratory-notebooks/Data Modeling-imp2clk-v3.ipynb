{
 "cells": [
  {
   "cell_type": "markdown",
   "metadata": {},
   "source": [
    "### Record"
   ]
  },
  {
   "cell_type": "markdown",
   "metadata": {},
   "source": [
    "* This version has the following tests:\n",
    "    * Use new dataset which keeps the ratio of impression to click\n",
    "    * Reduce the size of training data by removing obs whose advertisers has few clicks\n",
    "\n",
    "----\n",
    "* numerical value for city id & region id \n",
    "---- LinAlgError: Singular matrix\n",
    "\n",
    "keep only one of region id and city id \n",
    "\n",
    "* convert numerical variables to categorical variables based on the meaning\n",
    "\n",
    "* "
   ]
  },
  {
   "cell_type": "markdown",
   "metadata": {},
   "source": [
    "### Question"
   ]
  },
  {
   "cell_type": "markdown",
   "metadata": {},
   "source": [
    "1. which dataset is used to do the cross validation? test or train\n",
    "2. how to deal with NAN in n_clicks? "
   ]
  },
  {
   "cell_type": "markdown",
   "metadata": {},
   "source": [
    "### Goal\n",
    "\n",
    "4. bundle the region id\n",
    "\n",
    "5. random forest\n",
    "\n",
    "6. convert timestamp to see the effect of weekday\n",
    "\n",
    "7. set NAN as a column "
   ]
  },
  {
   "cell_type": "code",
   "execution_count": 1,
   "metadata": {
    "executionInfo": {
     "elapsed": 1742,
     "status": "ok",
     "timestamp": 1614207590009,
     "user": {
      "displayName": "Armand Sauzay",
      "photoUrl": "https://lh3.googleusercontent.com/a-/AOh14GhSIx1YAntEkGdNvdJfho_y-lCcaYPnyw9BHSfZ=s64",
      "userId": "07373814862822458780"
     },
     "user_tz": 480
    },
    "id": "A4xwuO02QQIA"
   },
   "outputs": [],
   "source": [
    "import pandas as pd\n",
    "import numpy as np\n",
    "import datetime as dt\n",
    "import matplotlib.pyplot as plt \n",
    "import seaborn as sns\n",
    "# from IPython.core.interactiveshell import InteractiveShell\n",
    "# InteractiveShell.ast_node_interactivity = \"all\"\n",
    "# import plotly.graph_objects as go\n",
    "# import plotly.express as px\n",
    "# from plotly.subplots import make_subplots"
   ]
  },
  {
   "cell_type": "code",
   "execution_count": 2,
   "metadata": {},
   "outputs": [
    {
     "data": {
      "text/plain": [
       "'/Users/jzw/Downloads/CAPSTONE/ipinyou.contest.dataset/data_exploration'"
      ]
     },
     "execution_count": 2,
     "metadata": {},
     "output_type": "execute_result"
    }
   ],
   "source": [
    "pwd()"
   ]
  },
  {
   "cell_type": "code",
   "execution_count": 3,
   "metadata": {
    "colab": {
     "base_uri": "https://localhost:8080/",
     "height": 702
    },
    "executionInfo": {
     "elapsed": 5599,
     "status": "ok",
     "timestamp": 1614207680959,
     "user": {
      "displayName": "Armand Sauzay",
      "photoUrl": "https://lh3.googleusercontent.com/a-/AOh14GhSIx1YAntEkGdNvdJfho_y-lCcaYPnyw9BHSfZ=s64",
      "userId": "07373814862822458780"
     },
     "user_tz": 480
    },
    "id": "3ItSS1njRTTB",
    "outputId": "e7f1c5ab-a7bb-4396-b5cf-0208348bd588"
   },
   "outputs": [
    {
     "name": "stderr",
     "output_type": "stream",
     "text": [
      "/opt/anaconda3/lib/python3.8/site-packages/IPython/core/interactiveshell.py:3165: DtypeWarning: Columns (21,22) have mixed types.Specify dtype option on import or set low_memory=False.\n",
      "  has_raised = await self.run_ast_nodes(code_ast.body, cell_name,\n"
     ]
    },
    {
     "name": "stdout",
     "output_type": "stream",
     "text": [
      "<class 'pandas.core.frame.DataFrame'>\n",
      "RangeIndex: 532897 entries, 0 to 532896\n",
      "Data columns (total 69 columns):\n",
      " #   Column                           Non-Null Count   Dtype  \n",
      "---  ------                           --------------   -----  \n",
      " 0   Timestamp_bid                    532897 non-null  int64  \n",
      " 1   User-Agent_bid                   532763 non-null  object \n",
      " 2   Region ID_bids_join_impressions  532897 non-null  int64  \n",
      " 3   City ID                          532897 non-null  int64  \n",
      " 4   Ad Exchange                      532897 non-null  int64  \n",
      " 5   Ad Slot Width                    532897 non-null  int64  \n",
      " 6   Ad Slot Height                   532897 non-null  int64  \n",
      " 7   Ad Slot Visibility               532897 non-null  int64  \n",
      " 8   Ad Slot Format                   532897 non-null  int64  \n",
      " 9   Ad Slot Floor Price              532897 non-null  int64  \n",
      " 10  Bidding Price                    532897 non-null  int64  \n",
      " 11  Advertiser ID                    532897 non-null  int64  \n",
      " 12  User Profile IDs_bid             0 non-null       float64\n",
      " 13  Timestamp_imp                    121904 non-null  float64\n",
      " 14  User-Agent_imp                   121895 non-null  object \n",
      " 15  Log Type                         121904 non-null  float64\n",
      " 16  Paying Price                     121904 non-null  float64\n",
      " 17  User Profile IDs_imp             105275 non-null  object \n",
      " 18  n_impressions                    121904 non-null  float64\n",
      " 19  Timestamp                        87 non-null      float64\n",
      " 20  User-Agent                       87 non-null      object \n",
      " 21  User Profile IDs                 80 non-null      object \n",
      " 22  Region ID_clicks                 87 non-null      float64\n",
      " 23  n_clicks                         87 non-null      float64\n",
      " 24  has impression                   532897 non-null  int64  \n",
      " 25  has click                        532897 non-null  int64  \n",
      " 26  10006                            109213 non-null  float64\n",
      " 27  10024                            109213 non-null  float64\n",
      " 28  10031                            109213 non-null  float64\n",
      " 29  10048                            109213 non-null  float64\n",
      " 30  10052                            109213 non-null  float64\n",
      " 31  10057                            109213 non-null  float64\n",
      " 32  10059                            109213 non-null  float64\n",
      " 33  10063                            109213 non-null  float64\n",
      " 34  10067                            109213 non-null  float64\n",
      " 35  10074                            109213 non-null  float64\n",
      " 36  10075                            109213 non-null  float64\n",
      " 37  10076                            109213 non-null  float64\n",
      " 38  10077                            109213 non-null  float64\n",
      " 39  10079                            109213 non-null  float64\n",
      " 40  10083                            109213 non-null  float64\n",
      " 41  10093                            109213 non-null  float64\n",
      " 42  10102                            109213 non-null  float64\n",
      " 43  10110                            109213 non-null  float64\n",
      " 44  10111                            109213 non-null  float64\n",
      " 45  10684                            109213 non-null  float64\n",
      " 46  11092                            109213 non-null  float64\n",
      " 47  11278                            109213 non-null  float64\n",
      " 48  11379                            109213 non-null  float64\n",
      " 49  11423                            109213 non-null  float64\n",
      " 50  11512                            109213 non-null  float64\n",
      " 51  11576                            109213 non-null  float64\n",
      " 52  11632                            109213 non-null  float64\n",
      " 53  11680                            109213 non-null  float64\n",
      " 54  11724                            109213 non-null  float64\n",
      " 55  11944                            109213 non-null  float64\n",
      " 56  13042                            109213 non-null  float64\n",
      " 57  13403                            109213 non-null  float64\n",
      " 58  13496                            109213 non-null  float64\n",
      " 59  13678                            109213 non-null  float64\n",
      " 60  13776                            109213 non-null  float64\n",
      " 61  13800                            109213 non-null  float64\n",
      " 62  13866                            109213 non-null  float64\n",
      " 63  13874                            109213 non-null  float64\n",
      " 64  14273                            109213 non-null  float64\n",
      " 65  16593                            109213 non-null  float64\n",
      " 66  16617                            109213 non-null  float64\n",
      " 67  16661                            109213 non-null  float64\n",
      " 68  16706                            109213 non-null  float64\n",
      "dtypes: float64(51), int64(13), object(5)\n",
      "memory usage: 280.5+ MB\n"
     ]
    },
    {
     "data": {
      "text/html": [
       "<div>\n",
       "<style scoped>\n",
       "    .dataframe tbody tr th:only-of-type {\n",
       "        vertical-align: middle;\n",
       "    }\n",
       "\n",
       "    .dataframe tbody tr th {\n",
       "        vertical-align: top;\n",
       "    }\n",
       "\n",
       "    .dataframe thead th {\n",
       "        text-align: right;\n",
       "    }\n",
       "</style>\n",
       "<table border=\"1\" class=\"dataframe\">\n",
       "  <thead>\n",
       "    <tr style=\"text-align: right;\">\n",
       "      <th></th>\n",
       "      <th>Timestamp_bid</th>\n",
       "      <th>User-Agent_bid</th>\n",
       "      <th>Region ID_bids_join_impressions</th>\n",
       "      <th>City ID</th>\n",
       "      <th>Ad Exchange</th>\n",
       "      <th>Ad Slot Width</th>\n",
       "      <th>Ad Slot Height</th>\n",
       "      <th>Ad Slot Visibility</th>\n",
       "      <th>Ad Slot Format</th>\n",
       "      <th>Ad Slot Floor Price</th>\n",
       "      <th>...</th>\n",
       "      <th>13678</th>\n",
       "      <th>13776</th>\n",
       "      <th>13800</th>\n",
       "      <th>13866</th>\n",
       "      <th>13874</th>\n",
       "      <th>14273</th>\n",
       "      <th>16593</th>\n",
       "      <th>16617</th>\n",
       "      <th>16661</th>\n",
       "      <th>16706</th>\n",
       "    </tr>\n",
       "  </thead>\n",
       "  <tbody>\n",
       "    <tr>\n",
       "      <th>0</th>\n",
       "      <td>20130606000104044</td>\n",
       "      <td>mozilla/4.0 (compatible; msie 8.0; windows nt ...</td>\n",
       "      <td>80</td>\n",
       "      <td>80</td>\n",
       "      <td>1</td>\n",
       "      <td>300</td>\n",
       "      <td>250</td>\n",
       "      <td>0</td>\n",
       "      <td>1</td>\n",
       "      <td>0</td>\n",
       "      <td>...</td>\n",
       "      <td>0.0</td>\n",
       "      <td>0.0</td>\n",
       "      <td>0.0</td>\n",
       "      <td>0.0</td>\n",
       "      <td>0.0</td>\n",
       "      <td>0.0</td>\n",
       "      <td>0.0</td>\n",
       "      <td>0.0</td>\n",
       "      <td>0.0</td>\n",
       "      <td>0.0</td>\n",
       "    </tr>\n",
       "    <tr>\n",
       "      <th>1</th>\n",
       "      <td>20130607000103558</td>\n",
       "      <td>Mozilla/4.0 (compatible; MSIE 7.0; Windows NT ...</td>\n",
       "      <td>106</td>\n",
       "      <td>107</td>\n",
       "      <td>2</td>\n",
       "      <td>728</td>\n",
       "      <td>90</td>\n",
       "      <td>0</td>\n",
       "      <td>0</td>\n",
       "      <td>162</td>\n",
       "      <td>...</td>\n",
       "      <td>NaN</td>\n",
       "      <td>NaN</td>\n",
       "      <td>NaN</td>\n",
       "      <td>NaN</td>\n",
       "      <td>NaN</td>\n",
       "      <td>NaN</td>\n",
       "      <td>NaN</td>\n",
       "      <td>NaN</td>\n",
       "      <td>NaN</td>\n",
       "      <td>NaN</td>\n",
       "    </tr>\n",
       "    <tr>\n",
       "      <th>2</th>\n",
       "      <td>20130607000103600</td>\n",
       "      <td>mozilla/5.0 (windows nt 6.1) applewebkit/537.1...</td>\n",
       "      <td>94</td>\n",
       "      <td>95</td>\n",
       "      <td>1</td>\n",
       "      <td>300</td>\n",
       "      <td>250</td>\n",
       "      <td>2</td>\n",
       "      <td>1</td>\n",
       "      <td>0</td>\n",
       "      <td>...</td>\n",
       "      <td>0.0</td>\n",
       "      <td>0.0</td>\n",
       "      <td>0.0</td>\n",
       "      <td>0.0</td>\n",
       "      <td>0.0</td>\n",
       "      <td>0.0</td>\n",
       "      <td>0.0</td>\n",
       "      <td>0.0</td>\n",
       "      <td>0.0</td>\n",
       "      <td>0.0</td>\n",
       "    </tr>\n",
       "    <tr>\n",
       "      <th>3</th>\n",
       "      <td>20130610000102963</td>\n",
       "      <td>Mozilla/5.0 (Windows NT 5.1) AppleWebKit/537.1...</td>\n",
       "      <td>275</td>\n",
       "      <td>275</td>\n",
       "      <td>2</td>\n",
       "      <td>120</td>\n",
       "      <td>600</td>\n",
       "      <td>0</td>\n",
       "      <td>0</td>\n",
       "      <td>250</td>\n",
       "      <td>...</td>\n",
       "      <td>0.0</td>\n",
       "      <td>0.0</td>\n",
       "      <td>0.0</td>\n",
       "      <td>0.0</td>\n",
       "      <td>0.0</td>\n",
       "      <td>0.0</td>\n",
       "      <td>0.0</td>\n",
       "      <td>0.0</td>\n",
       "      <td>0.0</td>\n",
       "      <td>0.0</td>\n",
       "    </tr>\n",
       "    <tr>\n",
       "      <th>4</th>\n",
       "      <td>20130608000103201</td>\n",
       "      <td>mozilla/4.0 (compatible; msie 6.0; windows nt ...</td>\n",
       "      <td>80</td>\n",
       "      <td>89</td>\n",
       "      <td>1</td>\n",
       "      <td>300</td>\n",
       "      <td>250</td>\n",
       "      <td>1</td>\n",
       "      <td>1</td>\n",
       "      <td>0</td>\n",
       "      <td>...</td>\n",
       "      <td>0.0</td>\n",
       "      <td>0.0</td>\n",
       "      <td>0.0</td>\n",
       "      <td>0.0</td>\n",
       "      <td>0.0</td>\n",
       "      <td>0.0</td>\n",
       "      <td>0.0</td>\n",
       "      <td>0.0</td>\n",
       "      <td>0.0</td>\n",
       "      <td>0.0</td>\n",
       "    </tr>\n",
       "  </tbody>\n",
       "</table>\n",
       "<p>5 rows × 69 columns</p>\n",
       "</div>"
      ],
      "text/plain": [
       "       Timestamp_bid                                     User-Agent_bid  \\\n",
       "0  20130606000104044  mozilla/4.0 (compatible; msie 8.0; windows nt ...   \n",
       "1  20130607000103558  Mozilla/4.0 (compatible; MSIE 7.0; Windows NT ...   \n",
       "2  20130607000103600  mozilla/5.0 (windows nt 6.1) applewebkit/537.1...   \n",
       "3  20130610000102963  Mozilla/5.0 (Windows NT 5.1) AppleWebKit/537.1...   \n",
       "4  20130608000103201  mozilla/4.0 (compatible; msie 6.0; windows nt ...   \n",
       "\n",
       "   Region ID_bids_join_impressions  City ID  Ad Exchange  Ad Slot Width  \\\n",
       "0                               80       80            1            300   \n",
       "1                              106      107            2            728   \n",
       "2                               94       95            1            300   \n",
       "3                              275      275            2            120   \n",
       "4                               80       89            1            300   \n",
       "\n",
       "   Ad Slot Height  Ad Slot Visibility  Ad Slot Format  Ad Slot Floor Price  \\\n",
       "0             250                   0               1                    0   \n",
       "1              90                   0               0                  162   \n",
       "2             250                   2               1                    0   \n",
       "3             600                   0               0                  250   \n",
       "4             250                   1               1                    0   \n",
       "\n",
       "   ...  13678  13776  13800  13866 13874  14273  16593 16617  16661  16706  \n",
       "0  ...    0.0    0.0    0.0    0.0   0.0    0.0    0.0   0.0    0.0    0.0  \n",
       "1  ...    NaN    NaN    NaN    NaN   NaN    NaN    NaN   NaN    NaN    NaN  \n",
       "2  ...    0.0    0.0    0.0    0.0   0.0    0.0    0.0   0.0    0.0    0.0  \n",
       "3  ...    0.0    0.0    0.0    0.0   0.0    0.0    0.0   0.0    0.0    0.0  \n",
       "4  ...    0.0    0.0    0.0    0.0   0.0    0.0    0.0   0.0    0.0    0.0  \n",
       "\n",
       "[5 rows x 69 columns]"
      ]
     },
     "execution_count": 3,
     "metadata": {},
     "output_type": "execute_result"
    }
   ],
   "source": [
    "com_ad = pd.read_csv('final_training_testing_stratified.csv')\n",
    "com_ad.drop(['Unnamed: 0'], axis=1, inplace=True)\n",
    "com_ad.info()\n",
    "com_ad.head()"
   ]
  },
  {
   "cell_type": "markdown",
   "metadata": {},
   "source": [
    "#### fillna with 0 to indicate if a specific user profile exists"
   ]
  },
  {
   "cell_type": "code",
   "execution_count": 4,
   "metadata": {},
   "outputs": [
    {
     "data": {
      "text/html": [
       "<div>\n",
       "<style scoped>\n",
       "    .dataframe tbody tr th:only-of-type {\n",
       "        vertical-align: middle;\n",
       "    }\n",
       "\n",
       "    .dataframe tbody tr th {\n",
       "        vertical-align: top;\n",
       "    }\n",
       "\n",
       "    .dataframe thead th {\n",
       "        text-align: right;\n",
       "    }\n",
       "</style>\n",
       "<table border=\"1\" class=\"dataframe\">\n",
       "  <thead>\n",
       "    <tr style=\"text-align: right;\">\n",
       "      <th></th>\n",
       "      <th>10006</th>\n",
       "      <th>10024</th>\n",
       "      <th>10031</th>\n",
       "      <th>10048</th>\n",
       "      <th>10052</th>\n",
       "      <th>10057</th>\n",
       "      <th>10059</th>\n",
       "      <th>10063</th>\n",
       "      <th>10067</th>\n",
       "      <th>10074</th>\n",
       "      <th>...</th>\n",
       "      <th>13678</th>\n",
       "      <th>13776</th>\n",
       "      <th>13800</th>\n",
       "      <th>13866</th>\n",
       "      <th>13874</th>\n",
       "      <th>14273</th>\n",
       "      <th>16593</th>\n",
       "      <th>16617</th>\n",
       "      <th>16661</th>\n",
       "      <th>16706</th>\n",
       "    </tr>\n",
       "  </thead>\n",
       "  <tbody>\n",
       "    <tr>\n",
       "      <th>0</th>\n",
       "      <td>1.0</td>\n",
       "      <td>0.0</td>\n",
       "      <td>0.0</td>\n",
       "      <td>0.0</td>\n",
       "      <td>0.0</td>\n",
       "      <td>0.0</td>\n",
       "      <td>0.0</td>\n",
       "      <td>1.0</td>\n",
       "      <td>0.0</td>\n",
       "      <td>0.0</td>\n",
       "      <td>...</td>\n",
       "      <td>0.0</td>\n",
       "      <td>0.0</td>\n",
       "      <td>0.0</td>\n",
       "      <td>0.0</td>\n",
       "      <td>0.0</td>\n",
       "      <td>0.0</td>\n",
       "      <td>0.0</td>\n",
       "      <td>0.0</td>\n",
       "      <td>0.0</td>\n",
       "      <td>0.0</td>\n",
       "    </tr>\n",
       "    <tr>\n",
       "      <th>1</th>\n",
       "      <td>0.0</td>\n",
       "      <td>0.0</td>\n",
       "      <td>0.0</td>\n",
       "      <td>0.0</td>\n",
       "      <td>0.0</td>\n",
       "      <td>0.0</td>\n",
       "      <td>0.0</td>\n",
       "      <td>0.0</td>\n",
       "      <td>0.0</td>\n",
       "      <td>0.0</td>\n",
       "      <td>...</td>\n",
       "      <td>0.0</td>\n",
       "      <td>0.0</td>\n",
       "      <td>0.0</td>\n",
       "      <td>0.0</td>\n",
       "      <td>0.0</td>\n",
       "      <td>0.0</td>\n",
       "      <td>0.0</td>\n",
       "      <td>0.0</td>\n",
       "      <td>0.0</td>\n",
       "      <td>0.0</td>\n",
       "    </tr>\n",
       "    <tr>\n",
       "      <th>2</th>\n",
       "      <td>1.0</td>\n",
       "      <td>1.0</td>\n",
       "      <td>0.0</td>\n",
       "      <td>0.0</td>\n",
       "      <td>0.0</td>\n",
       "      <td>1.0</td>\n",
       "      <td>0.0</td>\n",
       "      <td>1.0</td>\n",
       "      <td>0.0</td>\n",
       "      <td>0.0</td>\n",
       "      <td>...</td>\n",
       "      <td>0.0</td>\n",
       "      <td>0.0</td>\n",
       "      <td>0.0</td>\n",
       "      <td>0.0</td>\n",
       "      <td>0.0</td>\n",
       "      <td>0.0</td>\n",
       "      <td>0.0</td>\n",
       "      <td>0.0</td>\n",
       "      <td>0.0</td>\n",
       "      <td>0.0</td>\n",
       "    </tr>\n",
       "    <tr>\n",
       "      <th>3</th>\n",
       "      <td>1.0</td>\n",
       "      <td>0.0</td>\n",
       "      <td>0.0</td>\n",
       "      <td>0.0</td>\n",
       "      <td>0.0</td>\n",
       "      <td>0.0</td>\n",
       "      <td>1.0</td>\n",
       "      <td>1.0</td>\n",
       "      <td>0.0</td>\n",
       "      <td>0.0</td>\n",
       "      <td>...</td>\n",
       "      <td>0.0</td>\n",
       "      <td>0.0</td>\n",
       "      <td>0.0</td>\n",
       "      <td>0.0</td>\n",
       "      <td>0.0</td>\n",
       "      <td>0.0</td>\n",
       "      <td>0.0</td>\n",
       "      <td>0.0</td>\n",
       "      <td>0.0</td>\n",
       "      <td>0.0</td>\n",
       "    </tr>\n",
       "    <tr>\n",
       "      <th>4</th>\n",
       "      <td>0.0</td>\n",
       "      <td>0.0</td>\n",
       "      <td>1.0</td>\n",
       "      <td>0.0</td>\n",
       "      <td>0.0</td>\n",
       "      <td>0.0</td>\n",
       "      <td>0.0</td>\n",
       "      <td>1.0</td>\n",
       "      <td>0.0</td>\n",
       "      <td>0.0</td>\n",
       "      <td>...</td>\n",
       "      <td>0.0</td>\n",
       "      <td>0.0</td>\n",
       "      <td>0.0</td>\n",
       "      <td>0.0</td>\n",
       "      <td>0.0</td>\n",
       "      <td>0.0</td>\n",
       "      <td>0.0</td>\n",
       "      <td>0.0</td>\n",
       "      <td>0.0</td>\n",
       "      <td>0.0</td>\n",
       "    </tr>\n",
       "    <tr>\n",
       "      <th>...</th>\n",
       "      <td>...</td>\n",
       "      <td>...</td>\n",
       "      <td>...</td>\n",
       "      <td>...</td>\n",
       "      <td>...</td>\n",
       "      <td>...</td>\n",
       "      <td>...</td>\n",
       "      <td>...</td>\n",
       "      <td>...</td>\n",
       "      <td>...</td>\n",
       "      <td>...</td>\n",
       "      <td>...</td>\n",
       "      <td>...</td>\n",
       "      <td>...</td>\n",
       "      <td>...</td>\n",
       "      <td>...</td>\n",
       "      <td>...</td>\n",
       "      <td>...</td>\n",
       "      <td>...</td>\n",
       "      <td>...</td>\n",
       "      <td>...</td>\n",
       "    </tr>\n",
       "    <tr>\n",
       "      <th>532892</th>\n",
       "      <td>1.0</td>\n",
       "      <td>0.0</td>\n",
       "      <td>1.0</td>\n",
       "      <td>0.0</td>\n",
       "      <td>0.0</td>\n",
       "      <td>0.0</td>\n",
       "      <td>1.0</td>\n",
       "      <td>1.0</td>\n",
       "      <td>0.0</td>\n",
       "      <td>0.0</td>\n",
       "      <td>...</td>\n",
       "      <td>0.0</td>\n",
       "      <td>0.0</td>\n",
       "      <td>0.0</td>\n",
       "      <td>0.0</td>\n",
       "      <td>0.0</td>\n",
       "      <td>0.0</td>\n",
       "      <td>0.0</td>\n",
       "      <td>0.0</td>\n",
       "      <td>0.0</td>\n",
       "      <td>0.0</td>\n",
       "    </tr>\n",
       "    <tr>\n",
       "      <th>532893</th>\n",
       "      <td>1.0</td>\n",
       "      <td>0.0</td>\n",
       "      <td>0.0</td>\n",
       "      <td>0.0</td>\n",
       "      <td>0.0</td>\n",
       "      <td>0.0</td>\n",
       "      <td>0.0</td>\n",
       "      <td>1.0</td>\n",
       "      <td>0.0</td>\n",
       "      <td>0.0</td>\n",
       "      <td>...</td>\n",
       "      <td>0.0</td>\n",
       "      <td>0.0</td>\n",
       "      <td>0.0</td>\n",
       "      <td>0.0</td>\n",
       "      <td>0.0</td>\n",
       "      <td>0.0</td>\n",
       "      <td>0.0</td>\n",
       "      <td>0.0</td>\n",
       "      <td>0.0</td>\n",
       "      <td>0.0</td>\n",
       "    </tr>\n",
       "    <tr>\n",
       "      <th>532894</th>\n",
       "      <td>0.0</td>\n",
       "      <td>0.0</td>\n",
       "      <td>0.0</td>\n",
       "      <td>0.0</td>\n",
       "      <td>0.0</td>\n",
       "      <td>0.0</td>\n",
       "      <td>0.0</td>\n",
       "      <td>0.0</td>\n",
       "      <td>0.0</td>\n",
       "      <td>0.0</td>\n",
       "      <td>...</td>\n",
       "      <td>0.0</td>\n",
       "      <td>0.0</td>\n",
       "      <td>0.0</td>\n",
       "      <td>0.0</td>\n",
       "      <td>0.0</td>\n",
       "      <td>0.0</td>\n",
       "      <td>0.0</td>\n",
       "      <td>0.0</td>\n",
       "      <td>0.0</td>\n",
       "      <td>0.0</td>\n",
       "    </tr>\n",
       "    <tr>\n",
       "      <th>532895</th>\n",
       "      <td>0.0</td>\n",
       "      <td>0.0</td>\n",
       "      <td>0.0</td>\n",
       "      <td>0.0</td>\n",
       "      <td>0.0</td>\n",
       "      <td>0.0</td>\n",
       "      <td>0.0</td>\n",
       "      <td>0.0</td>\n",
       "      <td>0.0</td>\n",
       "      <td>0.0</td>\n",
       "      <td>...</td>\n",
       "      <td>0.0</td>\n",
       "      <td>0.0</td>\n",
       "      <td>0.0</td>\n",
       "      <td>0.0</td>\n",
       "      <td>0.0</td>\n",
       "      <td>0.0</td>\n",
       "      <td>0.0</td>\n",
       "      <td>0.0</td>\n",
       "      <td>0.0</td>\n",
       "      <td>0.0</td>\n",
       "    </tr>\n",
       "    <tr>\n",
       "      <th>532896</th>\n",
       "      <td>0.0</td>\n",
       "      <td>0.0</td>\n",
       "      <td>0.0</td>\n",
       "      <td>0.0</td>\n",
       "      <td>0.0</td>\n",
       "      <td>0.0</td>\n",
       "      <td>0.0</td>\n",
       "      <td>0.0</td>\n",
       "      <td>0.0</td>\n",
       "      <td>0.0</td>\n",
       "      <td>...</td>\n",
       "      <td>0.0</td>\n",
       "      <td>0.0</td>\n",
       "      <td>0.0</td>\n",
       "      <td>0.0</td>\n",
       "      <td>0.0</td>\n",
       "      <td>0.0</td>\n",
       "      <td>0.0</td>\n",
       "      <td>0.0</td>\n",
       "      <td>0.0</td>\n",
       "      <td>0.0</td>\n",
       "    </tr>\n",
       "  </tbody>\n",
       "</table>\n",
       "<p>532897 rows × 43 columns</p>\n",
       "</div>"
      ],
      "text/plain": [
       "        10006  10024  10031  10048  10052  10057  10059  10063  10067  10074  \\\n",
       "0         1.0    0.0    0.0    0.0    0.0    0.0    0.0    1.0    0.0    0.0   \n",
       "1         0.0    0.0    0.0    0.0    0.0    0.0    0.0    0.0    0.0    0.0   \n",
       "2         1.0    1.0    0.0    0.0    0.0    1.0    0.0    1.0    0.0    0.0   \n",
       "3         1.0    0.0    0.0    0.0    0.0    0.0    1.0    1.0    0.0    0.0   \n",
       "4         0.0    0.0    1.0    0.0    0.0    0.0    0.0    1.0    0.0    0.0   \n",
       "...       ...    ...    ...    ...    ...    ...    ...    ...    ...    ...   \n",
       "532892    1.0    0.0    1.0    0.0    0.0    0.0    1.0    1.0    0.0    0.0   \n",
       "532893    1.0    0.0    0.0    0.0    0.0    0.0    0.0    1.0    0.0    0.0   \n",
       "532894    0.0    0.0    0.0    0.0    0.0    0.0    0.0    0.0    0.0    0.0   \n",
       "532895    0.0    0.0    0.0    0.0    0.0    0.0    0.0    0.0    0.0    0.0   \n",
       "532896    0.0    0.0    0.0    0.0    0.0    0.0    0.0    0.0    0.0    0.0   \n",
       "\n",
       "        ...  13678  13776  13800  13866  13874  14273  16593  16617  16661  \\\n",
       "0       ...    0.0    0.0    0.0    0.0    0.0    0.0    0.0    0.0    0.0   \n",
       "1       ...    0.0    0.0    0.0    0.0    0.0    0.0    0.0    0.0    0.0   \n",
       "2       ...    0.0    0.0    0.0    0.0    0.0    0.0    0.0    0.0    0.0   \n",
       "3       ...    0.0    0.0    0.0    0.0    0.0    0.0    0.0    0.0    0.0   \n",
       "4       ...    0.0    0.0    0.0    0.0    0.0    0.0    0.0    0.0    0.0   \n",
       "...     ...    ...    ...    ...    ...    ...    ...    ...    ...    ...   \n",
       "532892  ...    0.0    0.0    0.0    0.0    0.0    0.0    0.0    0.0    0.0   \n",
       "532893  ...    0.0    0.0    0.0    0.0    0.0    0.0    0.0    0.0    0.0   \n",
       "532894  ...    0.0    0.0    0.0    0.0    0.0    0.0    0.0    0.0    0.0   \n",
       "532895  ...    0.0    0.0    0.0    0.0    0.0    0.0    0.0    0.0    0.0   \n",
       "532896  ...    0.0    0.0    0.0    0.0    0.0    0.0    0.0    0.0    0.0   \n",
       "\n",
       "        16706  \n",
       "0         0.0  \n",
       "1         0.0  \n",
       "2         0.0  \n",
       "3         0.0  \n",
       "4         0.0  \n",
       "...       ...  \n",
       "532892    0.0  \n",
       "532893    0.0  \n",
       "532894    0.0  \n",
       "532895    0.0  \n",
       "532896    0.0  \n",
       "\n",
       "[532897 rows x 43 columns]"
      ]
     },
     "execution_count": 4,
     "metadata": {},
     "output_type": "execute_result"
    }
   ],
   "source": [
    "# fillna with 0 to indicate if a specific user profile exists\n",
    "com_ad[['10006','10024', '10031', '10048', '10052', '10057', '10059', '10063', '10067',\n",
    "       '10074', '10075', '10076', '10077', '10079', '10083', '10093', '10102',\n",
    "       '10110', '10111', '10684', '11092', '11278', '11379', '11423', '11512',\n",
    "       '11576', '11632', '11680', '11724', '11944', '13042', '13403', '13496',\n",
    "       '13678', '13776', '13800', '13866', '13874', '14273', '16593', '16617',\n",
    "       '16661', '16706']] = com_ad[['10006','10024', '10031', '10048', '10052', '10057', '10059', '10063', '10067',\n",
    "       '10074', '10075', '10076', '10077', '10079', '10083', '10093', '10102',\n",
    "       '10110', '10111', '10684', '11092', '11278', '11379', '11423', '11512',\n",
    "       '11576', '11632', '11680', '11724', '11944', '13042', '13403', '13496',\n",
    "       '13678', '13776', '13800', '13866', '13874', '14273', '16593', '16617',\n",
    "       '16661', '16706']].fillna(0)\n",
    "\n",
    "com_ad[['10006','10024', '10031', '10048', '10052', '10057', '10059', '10063', '10067',\n",
    "       '10074', '10075', '10076', '10077', '10079', '10083', '10093', '10102',\n",
    "       '10110', '10111', '10684', '11092', '11278', '11379', '11423', '11512',\n",
    "       '11576', '11632', '11680', '11724', '11944', '13042', '13403', '13496',\n",
    "       '13678', '13776', '13800', '13866', '13874', '14273', '16593', '16617',\n",
    "       '16661', '16706']]"
   ]
  },
  {
   "cell_type": "code",
   "execution_count": 70,
   "metadata": {},
   "outputs": [],
   "source": [
    "# #columns in impression\n",
    "# '''\n",
    "\n",
    "# 'bidid', 'timestamp', 'logtype', 'ipinyouid', 'useragent', \n",
    "# 'ip', 'region', 'city', 'adexchange', 'domain', 'url', \n",
    "# 'urlid','slotid', 'slotwidth', 'slotheight', 'slotvisibility', \n",
    "# 'slotformat', 'slotprice','creative', 'bidprice', 'payprice', \n",
    "# 'keypage', 'advertiser', 'usertag'\n",
    "\n",
    "# '''"
   ]
  },
  {
   "cell_type": "markdown",
   "metadata": {},
   "source": [
    "### impression to click model"
   ]
  },
  {
   "cell_type": "code",
   "execution_count": 5,
   "metadata": {},
   "outputs": [
    {
     "data": {
      "text/plain": [
       "(532897, 69)"
      ]
     },
     "execution_count": 5,
     "metadata": {},
     "output_type": "execute_result"
    }
   ],
   "source": [
    "com_ad.shape"
   ]
  },
  {
   "cell_type": "code",
   "execution_count": 6,
   "metadata": {},
   "outputs": [
    {
     "data": {
      "text/plain": [
       "Index(['Timestamp_bid', 'User-Agent_bid', 'Region ID_bids_join_impressions',\n",
       "       'City ID', 'Ad Exchange', 'Ad Slot Width', 'Ad Slot Height',\n",
       "       'Ad Slot Visibility', 'Ad Slot Format', 'Ad Slot Floor Price',\n",
       "       'Bidding Price', 'Advertiser ID', 'User Profile IDs_bid',\n",
       "       'Timestamp_imp', 'User-Agent_imp', 'Log Type', 'Paying Price',\n",
       "       'User Profile IDs_imp', 'n_impressions', 'Timestamp', 'User-Agent',\n",
       "       'User Profile IDs', 'Region ID_clicks', 'n_clicks', 'has impression',\n",
       "       'has click', '10006', '10024', '10031', '10048', '10052', '10057',\n",
       "       '10059', '10063', '10067', '10074', '10075', '10076', '10077', '10079',\n",
       "       '10083', '10093', '10102', '10110', '10111', '10684', '11092', '11278',\n",
       "       '11379', '11423', '11512', '11576', '11632', '11680', '11724', '11944',\n",
       "       '13042', '13403', '13496', '13678', '13776', '13800', '13866', '13874',\n",
       "       '14273', '16593', '16617', '16661', '16706'],\n",
       "      dtype='object')"
      ]
     },
     "execution_count": 6,
     "metadata": {},
     "output_type": "execute_result"
    }
   ],
   "source": [
    "com_ad.columns"
   ]
  },
  {
   "cell_type": "markdown",
   "metadata": {},
   "source": [
    "#### Keep columns that are useful for model from imp to click"
   ]
  },
  {
   "cell_type": "code",
   "execution_count": 7,
   "metadata": {},
   "outputs": [],
   "source": [
    "# have a dataset for model probability of click from impression\n",
    "# user agent and user profile id\n",
    "# 0304 only keep region id since it's highly related to the city id\n",
    "\n",
    "ad_imp = com_ad[['City ID', 'Ad Exchange',\n",
    "       'Ad Slot Width', 'Ad Slot Height', 'Ad Slot Visibility',\n",
    "       'Ad Slot Format', 'Ad Slot Floor Price', 'Bidding Price',\n",
    "       'Advertiser ID', 'Timestamp_imp','Log Type', 'Paying Price',\n",
    "       'Region ID_clicks', 'n_clicks', 'has impression', 'has click', '10006',\n",
    "       '10024', '10031', '10048', '10052', '10057', '10059', '10063', '10067',\n",
    "       '10074', '10075', '10076', '10077', '10079', '10083', '10093', '10102',\n",
    "       '10110', '10111', '10684', '11092', '11278', '11379', '11423', '11512',\n",
    "       '11576', '11632', '11680', '11724', '11944', '13042', '13403', '13496',\n",
    "       '13678', '13776', '13800', '13866', '13874', '14273', '16593', '16617',\n",
    "       '16661', '16706']]"
   ]
  },
  {
   "cell_type": "code",
   "execution_count": 8,
   "metadata": {},
   "outputs": [
    {
     "data": {
      "text/plain": [
       "<AxesSubplot:>"
      ]
     },
     "execution_count": 8,
     "metadata": {},
     "output_type": "execute_result"
    },
    {
     "data": {
      "image/png": "[encoded data removed]",
      "text/plain": [
       "<Figure size 432x288 with 2 Axes>"
      ]
     },
     "metadata": {
      "needs_background": "light"
     },
     "output_type": "display_data"
    }
   ],
   "source": [
    "corr = ad_imp.corr()\n",
    "sns.heatmap(corr, xticklabels=corr.columns, yticklabels=corr.columns)"
   ]
  },
  {
   "cell_type": "code",
   "execution_count": 9,
   "metadata": {},
   "outputs": [
    {
     "name": "stdout",
     "output_type": "stream",
     "text": [
      "City ID             1.000000\n",
      "Region ID_clicks    0.998997\n",
      "Name: City ID, dtype: float64\n",
      "Ad Exchange            1.000000\n",
      "Ad Slot Floor Price    0.631783\n",
      "Name: Ad Exchange, dtype: float64\n",
      "Ad Slot Width    1.000000\n",
      "Ad Exchange      0.283041\n",
      "Name: Ad Slot Width, dtype: float64\n",
      "Ad Slot Height    1.000000\n",
      "Ad Slot Format    0.164827\n",
      "Name: Ad Slot Height, dtype: float64\n",
      "Ad Slot Visibility    1.000000\n",
      "Ad Slot Format        0.126547\n",
      "Name: Ad Slot Visibility, dtype: float64\n",
      "Ad Slot Format    1.000000\n",
      "n_clicks          0.380898\n",
      "Name: Ad Slot Format, dtype: float64\n",
      "Ad Slot Floor Price    1.000000\n",
      "Ad Exchange            0.631783\n",
      "Name: Ad Slot Floor Price, dtype: float64\n",
      "Bidding Price    1.000000\n",
      "Ad Exchange      0.371729\n",
      "Name: Bidding Price, dtype: float64\n",
      "Advertiser ID       1.0000\n",
      "Region ID_clicks    0.1442\n",
      "Name: Advertiser ID, dtype: float64\n",
      "Timestamp_imp    1.000000\n",
      "Ad Slot Width    0.120262\n",
      "Name: Timestamp_imp, dtype: float64\n",
      "Series([], Name: Log Type, dtype: float64)\n",
      "Paying Price      1.000000\n",
      "Ad Slot Format    0.216342\n",
      "Name: Paying Price, dtype: float64\n",
      "Region ID_clicks    1.000000\n",
      "City ID             0.998997\n",
      "Name: Region ID_clicks, dtype: float64\n",
      "n_clicks          1.000000\n",
      "Ad Slot Format    0.380898\n",
      "Name: n_clicks, dtype: float64\n",
      "has impression    1.000000\n",
      "10063             0.744687\n",
      "Name: has impression, dtype: float64\n",
      "has click    1.000000\n",
      "11278        0.140821\n",
      "Name: has click, dtype: float64\n",
      "10006    1.00000\n",
      "10063    0.75541\n",
      "Name: 10006, dtype: float64\n",
      "10024    1.000000\n",
      "10006    0.480396\n",
      "Name: 10024, dtype: float64\n",
      "10031    1.000000\n",
      "13042    0.622428\n",
      "Name: 10031, dtype: float64\n",
      "10048    1.000000\n",
      "10059    0.327868\n",
      "Name: 10048, dtype: float64\n",
      "10052    1.000000\n",
      "14273    0.477337\n",
      "Name: 10052, dtype: float64\n",
      "10057    1.000000\n",
      "10063    0.452368\n",
      "Name: 10057, dtype: float64\n",
      "10059    1.00000\n",
      "10063    0.50255\n",
      "Name: 10059, dtype: float64\n",
      "10063    1.00000\n",
      "10006    0.75541\n",
      "Name: 10063, dtype: float64\n",
      "10067    1.00000\n",
      "11724    0.32278\n",
      "Name: 10067, dtype: float64\n",
      "10074    1.000000\n",
      "10048    0.228572\n",
      "Name: 10074, dtype: float64\n",
      "10075    1.000000\n",
      "10059    0.482839\n",
      "Name: 10075, dtype: float64\n",
      "10076    1.000000\n",
      "10075    0.450128\n",
      "Name: 10076, dtype: float64\n",
      "10077    1.000000\n",
      "10059    0.331615\n",
      "Name: 10077, dtype: float64\n",
      "10079    1.000000\n",
      "10048    0.294491\n",
      "Name: 10079, dtype: float64\n",
      "10083    1.000000\n",
      "10110    0.599084\n",
      "Name: 10083, dtype: float64\n",
      "10093    1.000000\n",
      "13496    0.437622\n",
      "Name: 10093, dtype: float64\n",
      "10102    1.000000\n",
      "10075    0.115898\n",
      "Name: 10102, dtype: float64\n",
      "10110    1.000000\n",
      "10006    0.719904\n",
      "Name: 10110, dtype: float64\n",
      "10111    1.000000\n",
      "10063    0.442691\n",
      "Name: 10111, dtype: float64\n",
      "10684    1.000000\n",
      "11092    0.341859\n",
      "Name: 10684, dtype: float64\n",
      "11092    1.000000\n",
      "10684    0.341859\n",
      "Name: 11092, dtype: float64\n",
      "11278        1.000000\n",
      "has click    0.140821\n",
      "Name: 11278, dtype: float64\n",
      "11379    1.000000\n",
      "11680    0.246559\n",
      "Name: 11379, dtype: float64\n",
      "11423    1.000000\n",
      "11092    0.234432\n",
      "Name: 11423, dtype: float64\n",
      "11512    1.000000\n",
      "11423    0.112471\n",
      "Name: 11512, dtype: float64\n",
      "11576    1.00000\n",
      "10684    0.19758\n",
      "Name: 11576, dtype: float64\n",
      "11632    1.000000\n",
      "11576    0.177136\n",
      "Name: 11632, dtype: float64\n",
      "11680    1.000000\n",
      "11379    0.246559\n",
      "Name: 11680, dtype: float64\n",
      "11724    1.00000\n",
      "10067    0.32278\n",
      "Name: 11724, dtype: float64\n",
      "11944    1.000000\n",
      "10048    0.292827\n",
      "Name: 11944, dtype: float64\n",
      "13042    1.000000\n",
      "10031    0.622428\n",
      "Name: 13042, dtype: float64\n",
      "13403    1.000000\n",
      "10006    0.515834\n",
      "Name: 13403, dtype: float64\n",
      "13496    1.000000\n",
      "10093    0.437622\n",
      "Name: 13496, dtype: float64\n",
      "13678    1.000000\n",
      "10024    0.229299\n",
      "Name: 13678, dtype: float64\n",
      "13776               1.000000\n",
      "Region ID_clicks    0.277387\n",
      "Name: 13776, dtype: float64\n",
      "13800    1.000000\n",
      "10024    0.364805\n",
      "Name: 13800, dtype: float64\n",
      "13866    1.000000\n",
      "10111    0.439749\n",
      "Name: 13866, dtype: float64\n",
      "13874               1.000000\n",
      "Region ID_clicks    0.160494\n",
      "Name: 13874, dtype: float64\n",
      "14273    1.000000\n",
      "10052    0.477337\n",
      "Name: 14273, dtype: float64\n",
      "16593    1.000000\n",
      "13678    0.037723\n",
      "Name: 16593, dtype: float64\n",
      "16617               1.000000\n",
      "Region ID_clicks    0.160494\n",
      "Name: 16617, dtype: float64\n",
      "16661               1.000000\n",
      "Region ID_clicks    0.073732\n",
      "Name: 16661, dtype: float64\n",
      "16706    1.000000\n",
      "10048    0.075942\n",
      "Name: 16706, dtype: float64\n"
     ]
    }
   ],
   "source": [
    "# print top two correlations for each column \n",
    "for i in ad_imp.columns:\n",
    "    print(corr[i].nlargest(2))"
   ]
  },
  {
   "cell_type": "markdown",
   "metadata": {},
   "source": [
    "#### Remove city id because it's highly related to region id"
   ]
  },
  {
   "cell_type": "code",
   "execution_count": 10,
   "metadata": {},
   "outputs": [
    {
     "data": {
      "text/plain": [
       "(532897, 58)"
      ]
     },
     "execution_count": 10,
     "metadata": {},
     "output_type": "execute_result"
    }
   ],
   "source": [
    "ad_imp = ad_imp.drop(['City ID'], axis=1)\n",
    "ad_imp.shape"
   ]
  },
  {
   "cell_type": "code",
   "execution_count": 11,
   "metadata": {},
   "outputs": [
    {
     "data": {
      "text/html": [
       "<div>\n",
       "<style scoped>\n",
       "    .dataframe tbody tr th:only-of-type {\n",
       "        vertical-align: middle;\n",
       "    }\n",
       "\n",
       "    .dataframe tbody tr th {\n",
       "        vertical-align: top;\n",
       "    }\n",
       "\n",
       "    .dataframe thead th {\n",
       "        text-align: right;\n",
       "    }\n",
       "</style>\n",
       "<table border=\"1\" class=\"dataframe\">\n",
       "  <thead>\n",
       "    <tr style=\"text-align: right;\">\n",
       "      <th></th>\n",
       "      <th>Ad Exchange</th>\n",
       "      <th>Ad Slot Width</th>\n",
       "      <th>Ad Slot Height</th>\n",
       "      <th>Ad Slot Visibility</th>\n",
       "      <th>Ad Slot Format</th>\n",
       "      <th>Ad Slot Floor Price</th>\n",
       "      <th>Bidding Price</th>\n",
       "      <th>Advertiser ID</th>\n",
       "      <th>Timestamp_imp</th>\n",
       "      <th>Log Type</th>\n",
       "      <th>...</th>\n",
       "      <th>13678</th>\n",
       "      <th>13776</th>\n",
       "      <th>13800</th>\n",
       "      <th>13866</th>\n",
       "      <th>13874</th>\n",
       "      <th>14273</th>\n",
       "      <th>16593</th>\n",
       "      <th>16617</th>\n",
       "      <th>16661</th>\n",
       "      <th>16706</th>\n",
       "    </tr>\n",
       "  </thead>\n",
       "  <tbody>\n",
       "    <tr>\n",
       "      <th>count</th>\n",
       "      <td>532897.000000</td>\n",
       "      <td>532897.000000</td>\n",
       "      <td>532897.000000</td>\n",
       "      <td>532897.000000</td>\n",
       "      <td>532897.000000</td>\n",
       "      <td>532897.000000</td>\n",
       "      <td>532897.000000</td>\n",
       "      <td>532897.000000</td>\n",
       "      <td>1.219040e+05</td>\n",
       "      <td>121904.0</td>\n",
       "      <td>...</td>\n",
       "      <td>532897.000000</td>\n",
       "      <td>532897.000000</td>\n",
       "      <td>532897.000000</td>\n",
       "      <td>532897.000000</td>\n",
       "      <td>532897.000000</td>\n",
       "      <td>532897.000000</td>\n",
       "      <td>532897.000000</td>\n",
       "      <td>532897.000000</td>\n",
       "      <td>532897.000000</td>\n",
       "      <td>532897.000000</td>\n",
       "    </tr>\n",
       "    <tr>\n",
       "      <th>mean</th>\n",
       "      <td>2.522065</td>\n",
       "      <td>568.784527</td>\n",
       "      <td>187.061158</td>\n",
       "      <td>1.334027</td>\n",
       "      <td>0.132724</td>\n",
       "      <td>47.082524</td>\n",
       "      <td>272.818004</td>\n",
       "      <td>2876.632674</td>\n",
       "      <td>2.013061e+16</td>\n",
       "      <td>1.0</td>\n",
       "      <td>...</td>\n",
       "      <td>0.004269</td>\n",
       "      <td>0.012259</td>\n",
       "      <td>0.024487</td>\n",
       "      <td>0.045125</td>\n",
       "      <td>0.000105</td>\n",
       "      <td>0.023308</td>\n",
       "      <td>0.000180</td>\n",
       "      <td>0.000340</td>\n",
       "      <td>0.000358</td>\n",
       "      <td>0.000377</td>\n",
       "    </tr>\n",
       "    <tr>\n",
       "      <th>std</th>\n",
       "      <td>0.693825</td>\n",
       "      <td>323.229139</td>\n",
       "      <td>107.900763</td>\n",
       "      <td>14.931340</td>\n",
       "      <td>0.446124</td>\n",
       "      <td>40.992372</td>\n",
       "      <td>29.850926</td>\n",
       "      <td>873.591274</td>\n",
       "      <td>1.997986e+09</td>\n",
       "      <td>0.0</td>\n",
       "      <td>...</td>\n",
       "      <td>0.065199</td>\n",
       "      <td>0.110076</td>\n",
       "      <td>0.154725</td>\n",
       "      <td>0.208003</td>\n",
       "      <td>0.010251</td>\n",
       "      <td>0.151055</td>\n",
       "      <td>0.013421</td>\n",
       "      <td>0.018427</td>\n",
       "      <td>0.018929</td>\n",
       "      <td>0.019418</td>\n",
       "    </tr>\n",
       "    <tr>\n",
       "      <th>min</th>\n",
       "      <td>1.000000</td>\n",
       "      <td>120.000000</td>\n",
       "      <td>60.000000</td>\n",
       "      <td>0.000000</td>\n",
       "      <td>0.000000</td>\n",
       "      <td>0.000000</td>\n",
       "      <td>227.000000</td>\n",
       "      <td>1458.000000</td>\n",
       "      <td>2.013061e+16</td>\n",
       "      <td>1.0</td>\n",
       "      <td>...</td>\n",
       "      <td>0.000000</td>\n",
       "      <td>0.000000</td>\n",
       "      <td>0.000000</td>\n",
       "      <td>0.000000</td>\n",
       "      <td>0.000000</td>\n",
       "      <td>0.000000</td>\n",
       "      <td>0.000000</td>\n",
       "      <td>0.000000</td>\n",
       "      <td>0.000000</td>\n",
       "      <td>0.000000</td>\n",
       "    </tr>\n",
       "    <tr>\n",
       "      <th>25%</th>\n",
       "      <td>2.000000</td>\n",
       "      <td>300.000000</td>\n",
       "      <td>90.000000</td>\n",
       "      <td>0.000000</td>\n",
       "      <td>0.000000</td>\n",
       "      <td>5.000000</td>\n",
       "      <td>241.000000</td>\n",
       "      <td>1458.000000</td>\n",
       "      <td>2.013061e+16</td>\n",
       "      <td>1.0</td>\n",
       "      <td>...</td>\n",
       "      <td>0.000000</td>\n",
       "      <td>0.000000</td>\n",
       "      <td>0.000000</td>\n",
       "      <td>0.000000</td>\n",
       "      <td>0.000000</td>\n",
       "      <td>0.000000</td>\n",
       "      <td>0.000000</td>\n",
       "      <td>0.000000</td>\n",
       "      <td>0.000000</td>\n",
       "      <td>0.000000</td>\n",
       "    </tr>\n",
       "    <tr>\n",
       "      <th>50%</th>\n",
       "      <td>3.000000</td>\n",
       "      <td>336.000000</td>\n",
       "      <td>250.000000</td>\n",
       "      <td>0.000000</td>\n",
       "      <td>0.000000</td>\n",
       "      <td>50.000000</td>\n",
       "      <td>300.000000</td>\n",
       "      <td>3386.000000</td>\n",
       "      <td>2.013061e+16</td>\n",
       "      <td>1.0</td>\n",
       "      <td>...</td>\n",
       "      <td>0.000000</td>\n",
       "      <td>0.000000</td>\n",
       "      <td>0.000000</td>\n",
       "      <td>0.000000</td>\n",
       "      <td>0.000000</td>\n",
       "      <td>0.000000</td>\n",
       "      <td>0.000000</td>\n",
       "      <td>0.000000</td>\n",
       "      <td>0.000000</td>\n",
       "      <td>0.000000</td>\n",
       "    </tr>\n",
       "    <tr>\n",
       "      <th>75%</th>\n",
       "      <td>3.000000</td>\n",
       "      <td>1000.000000</td>\n",
       "      <td>250.000000</td>\n",
       "      <td>1.000000</td>\n",
       "      <td>0.000000</td>\n",
       "      <td>80.000000</td>\n",
       "      <td>300.000000</td>\n",
       "      <td>3427.000000</td>\n",
       "      <td>2.013061e+16</td>\n",
       "      <td>1.0</td>\n",
       "      <td>...</td>\n",
       "      <td>0.000000</td>\n",
       "      <td>0.000000</td>\n",
       "      <td>0.000000</td>\n",
       "      <td>0.000000</td>\n",
       "      <td>0.000000</td>\n",
       "      <td>0.000000</td>\n",
       "      <td>0.000000</td>\n",
       "      <td>0.000000</td>\n",
       "      <td>0.000000</td>\n",
       "      <td>0.000000</td>\n",
       "    </tr>\n",
       "    <tr>\n",
       "      <th>max</th>\n",
       "      <td>3.000000</td>\n",
       "      <td>1000.000000</td>\n",
       "      <td>600.000000</td>\n",
       "      <td>255.000000</td>\n",
       "      <td>5.000000</td>\n",
       "      <td>295.000000</td>\n",
       "      <td>300.000000</td>\n",
       "      <td>3476.000000</td>\n",
       "      <td>2.013061e+16</td>\n",
       "      <td>1.0</td>\n",
       "      <td>...</td>\n",
       "      <td>1.000000</td>\n",
       "      <td>2.000000</td>\n",
       "      <td>2.000000</td>\n",
       "      <td>2.000000</td>\n",
       "      <td>1.000000</td>\n",
       "      <td>2.000000</td>\n",
       "      <td>1.000000</td>\n",
       "      <td>1.000000</td>\n",
       "      <td>1.000000</td>\n",
       "      <td>1.000000</td>\n",
       "    </tr>\n",
       "  </tbody>\n",
       "</table>\n",
       "<p>8 rows × 58 columns</p>\n",
       "</div>"
      ],
      "text/plain": [
       "         Ad Exchange  Ad Slot Width  Ad Slot Height  Ad Slot Visibility  \\\n",
       "count  532897.000000  532897.000000   532897.000000       532897.000000   \n",
       "mean        2.522065     568.784527      187.061158            1.334027   \n",
       "std         0.693825     323.229139      107.900763           14.931340   \n",
       "min         1.000000     120.000000       60.000000            0.000000   \n",
       "25%         2.000000     300.000000       90.000000            0.000000   \n",
       "50%         3.000000     336.000000      250.000000            0.000000   \n",
       "75%         3.000000    1000.000000      250.000000            1.000000   \n",
       "max         3.000000    1000.000000      600.000000          255.000000   \n",
       "\n",
       "       Ad Slot Format  Ad Slot Floor Price  Bidding Price  Advertiser ID  \\\n",
       "count   532897.000000        532897.000000  532897.000000  532897.000000   \n",
       "mean         0.132724            47.082524     272.818004    2876.632674   \n",
       "std          0.446124            40.992372      29.850926     873.591274   \n",
       "min          0.000000             0.000000     227.000000    1458.000000   \n",
       "25%          0.000000             5.000000     241.000000    1458.000000   \n",
       "50%          0.000000            50.000000     300.000000    3386.000000   \n",
       "75%          0.000000            80.000000     300.000000    3427.000000   \n",
       "max          5.000000           295.000000     300.000000    3476.000000   \n",
       "\n",
       "       Timestamp_imp  Log Type  ...          13678          13776  \\\n",
       "count   1.219040e+05  121904.0  ...  532897.000000  532897.000000   \n",
       "mean    2.013061e+16       1.0  ...       0.004269       0.012259   \n",
       "std     1.997986e+09       0.0  ...       0.065199       0.110076   \n",
       "min     2.013061e+16       1.0  ...       0.000000       0.000000   \n",
       "25%     2.013061e+16       1.0  ...       0.000000       0.000000   \n",
       "50%     2.013061e+16       1.0  ...       0.000000       0.000000   \n",
       "75%     2.013061e+16       1.0  ...       0.000000       0.000000   \n",
       "max     2.013061e+16       1.0  ...       1.000000       2.000000   \n",
       "\n",
       "               13800          13866          13874          14273  \\\n",
       "count  532897.000000  532897.000000  532897.000000  532897.000000   \n",
       "mean        0.024487       0.045125       0.000105       0.023308   \n",
       "std         0.154725       0.208003       0.010251       0.151055   \n",
       "min         0.000000       0.000000       0.000000       0.000000   \n",
       "25%         0.000000       0.000000       0.000000       0.000000   \n",
       "50%         0.000000       0.000000       0.000000       0.000000   \n",
       "75%         0.000000       0.000000       0.000000       0.000000   \n",
       "max         2.000000       2.000000       1.000000       2.000000   \n",
       "\n",
       "               16593          16617          16661          16706  \n",
       "count  532897.000000  532897.000000  532897.000000  532897.000000  \n",
       "mean        0.000180       0.000340       0.000358       0.000377  \n",
       "std         0.013421       0.018427       0.018929       0.019418  \n",
       "min         0.000000       0.000000       0.000000       0.000000  \n",
       "25%         0.000000       0.000000       0.000000       0.000000  \n",
       "50%         0.000000       0.000000       0.000000       0.000000  \n",
       "75%         0.000000       0.000000       0.000000       0.000000  \n",
       "max         1.000000       1.000000       1.000000       1.000000  \n",
       "\n",
       "[8 rows x 58 columns]"
      ]
     },
     "execution_count": 11,
     "metadata": {},
     "output_type": "execute_result"
    }
   ],
   "source": [
    "ad_imp_summary = ad_imp.describe()\n",
    "ad_imp_summary"
   ]
  },
  {
   "cell_type": "code",
   "execution_count": 12,
   "metadata": {},
   "outputs": [
    {
     "data": {
      "text/plain": [
       "Log Type    0.0\n",
       "Name: std, dtype: float64"
      ]
     },
     "execution_count": 12,
     "metadata": {},
     "output_type": "execute_result"
    }
   ],
   "source": [
    "# filter constant feature [std = 0]\n",
    "ad_imp_summary.loc['std'][ad_imp_summary.loc['std'] == 0]"
   ]
  },
  {
   "cell_type": "code",
   "execution_count": 13,
   "metadata": {},
   "outputs": [],
   "source": [
    "# drop feature Log Type because it's a constant\n",
    "ad_imp.drop(['Log Type'], axis=1, inplace=True)"
   ]
  },
  {
   "cell_type": "markdown",
   "metadata": {},
   "source": [
    "#### filter data with `has impression` == 1"
   ]
  },
  {
   "cell_type": "code",
   "execution_count": 14,
   "metadata": {},
   "outputs": [
    {
     "name": "stdout",
     "output_type": "stream",
     "text": [
      "(121904, 57)\n",
      "(121904, 56)\n"
     ]
    }
   ],
   "source": [
    "# filter has impression == 1 to get the suitable dataset\n",
    "ad_imp2clk = ad_imp[ad_imp['has impression']==1]\n",
    "print(ad_imp2clk.shape)\n",
    "# drop the column has impression because now it is a constant\n",
    "ad_imp2clk = ad_imp2clk.drop(['has impression'], axis=1)\n",
    "print(ad_imp2clk.shape)"
   ]
  },
  {
   "cell_type": "markdown",
   "metadata": {},
   "source": [
    "#### Convert some numerical variables to categorical variables"
   ]
  },
  {
   "cell_type": "markdown",
   "metadata": {},
   "source": [
    "* Ad Exchange: the source of replacement of this as\n",
    "\n",
    "* Ad Slot Visibility: relative location to the fold\n",
    "\n",
    "* Ad Slot Format: popup / fixed\n",
    "\n",
    "* Advertiser ID: advertiser field\n",
    "\n",
    "* city/region ID\n",
    "\n",
    "\n",
    "NOT include in the dataset\n",
    "\n",
    "** Ad Slot ID: the location of current id\n",
    "\n",
    "** Creative ID:"
   ]
  },
  {
   "cell_type": "code",
   "execution_count": 15,
   "metadata": {},
   "outputs": [
    {
     "data": {
      "text/plain": [
       "Index(['Ad Exchange', 'Ad Slot Width', 'Ad Slot Height', 'Ad Slot Visibility',\n",
       "       'Ad Slot Format', 'Ad Slot Floor Price', 'Bidding Price',\n",
       "       'Advertiser ID', 'Timestamp_imp', 'Paying Price', 'Region ID_clicks',\n",
       "       'n_clicks', 'has click', '10006', '10024', '10031', '10048', '10052',\n",
       "       '10057', '10059', '10063', '10067', '10074', '10075', '10076', '10077',\n",
       "       '10079', '10083', '10093', '10102', '10110', '10111', '10684', '11092',\n",
       "       '11278', '11379', '11423', '11512', '11576', '11632', '11680', '11724',\n",
       "       '11944', '13042', '13403', '13496', '13678', '13776', '13800', '13866',\n",
       "       '13874', '14273', '16593', '16617', '16661', '16706'],\n",
       "      dtype='object')"
      ]
     },
     "execution_count": 15,
     "metadata": {},
     "output_type": "execute_result"
    }
   ],
   "source": [
    "ad_imp2clk.columns"
   ]
  },
  {
   "cell_type": "code",
   "execution_count": 16,
   "metadata": {},
   "outputs": [],
   "source": [
    "# set ad exchange as object to get dummy variables\n",
    "ad_imp2clk['Ad Exchange'] = ad_imp2clk['Ad Exchange'].astype('object')\n",
    "# set ad slot visibility as object to get dummy variables\n",
    "ad_imp2clk['Ad Slot Visibility'] = ad_imp2clk['Ad Slot Visibility'].astype('object')\n",
    "# set ad slot format as object to get dummy variables\n",
    "ad_imp2clk['Ad Slot Format'] = ad_imp2clk['Ad Slot Format'].astype('object')\n",
    "# set advertiser id as object to get dummy variables\n",
    "ad_imp2clk['Advertiser ID'] = ad_imp2clk['Advertiser ID'].astype('object')\n",
    "# set region id as object to get dummy variables\n",
    "ad_imp2clk['Region ID_clicks'] = ad_imp2clk['Region ID_clicks'].astype('object')\n",
    "# # set hour as object to get dummy variables\n",
    "# ad_imp2clk['Hour'] = ad_imp2clk['Hour'].astype('object')"
   ]
  },
  {
   "cell_type": "code",
   "execution_count": 17,
   "metadata": {},
   "outputs": [
    {
     "name": "stdout",
     "output_type": "stream",
     "text": [
      "(121904, 55)\n"
     ]
    }
   ],
   "source": [
    "# drop n_clicks because it has too many NAN\n",
    "ad_imp2clk = ad_imp2clk.drop(['n_clicks'], axis=1)\n",
    "print(ad_imp2clk.shape)"
   ]
  },
  {
   "cell_type": "code",
   "execution_count": 18,
   "metadata": {
    "scrolled": true
   },
   "outputs": [
    {
     "data": {
      "text/html": [
       "<div>\n",
       "<style scoped>\n",
       "    .dataframe tbody tr th:only-of-type {\n",
       "        vertical-align: middle;\n",
       "    }\n",
       "\n",
       "    .dataframe tbody tr th {\n",
       "        vertical-align: top;\n",
       "    }\n",
       "\n",
       "    .dataframe thead th {\n",
       "        text-align: right;\n",
       "    }\n",
       "</style>\n",
       "<table border=\"1\" class=\"dataframe\">\n",
       "  <thead>\n",
       "    <tr style=\"text-align: right;\">\n",
       "      <th></th>\n",
       "      <th>Ad Slot Width</th>\n",
       "      <th>Ad Slot Height</th>\n",
       "      <th>Ad Slot Floor Price</th>\n",
       "      <th>Bidding Price</th>\n",
       "      <th>Timestamp_imp</th>\n",
       "      <th>Paying Price</th>\n",
       "      <th>has click</th>\n",
       "      <th>10006</th>\n",
       "      <th>10024</th>\n",
       "      <th>10031</th>\n",
       "      <th>...</th>\n",
       "      <th>Region ID_clicks_276.0</th>\n",
       "      <th>Region ID_clicks_298.0</th>\n",
       "      <th>Region ID_clicks_308.0</th>\n",
       "      <th>Region ID_clicks_333.0</th>\n",
       "      <th>Region ID_clicks_374.0</th>\n",
       "      <th>Advertiser ID_1458</th>\n",
       "      <th>Advertiser ID_3358</th>\n",
       "      <th>Advertiser ID_3386</th>\n",
       "      <th>Advertiser ID_3427</th>\n",
       "      <th>Advertiser ID_3476</th>\n",
       "    </tr>\n",
       "  </thead>\n",
       "  <tbody>\n",
       "    <tr>\n",
       "      <th>0</th>\n",
       "      <td>300</td>\n",
       "      <td>250</td>\n",
       "      <td>0</td>\n",
       "      <td>227</td>\n",
       "      <td>2.013061e+16</td>\n",
       "      <td>62.0</td>\n",
       "      <td>0</td>\n",
       "      <td>1.0</td>\n",
       "      <td>0.0</td>\n",
       "      <td>0.0</td>\n",
       "      <td>...</td>\n",
       "      <td>0</td>\n",
       "      <td>0</td>\n",
       "      <td>0</td>\n",
       "      <td>0</td>\n",
       "      <td>0</td>\n",
       "      <td>0</td>\n",
       "      <td>1</td>\n",
       "      <td>0</td>\n",
       "      <td>0</td>\n",
       "      <td>0</td>\n",
       "    </tr>\n",
       "    <tr>\n",
       "      <th>1</th>\n",
       "      <td>728</td>\n",
       "      <td>90</td>\n",
       "      <td>162</td>\n",
       "      <td>238</td>\n",
       "      <td>2.013061e+16</td>\n",
       "      <td>182.0</td>\n",
       "      <td>0</td>\n",
       "      <td>0.0</td>\n",
       "      <td>0.0</td>\n",
       "      <td>0.0</td>\n",
       "      <td>...</td>\n",
       "      <td>0</td>\n",
       "      <td>0</td>\n",
       "      <td>0</td>\n",
       "      <td>0</td>\n",
       "      <td>0</td>\n",
       "      <td>0</td>\n",
       "      <td>1</td>\n",
       "      <td>0</td>\n",
       "      <td>0</td>\n",
       "      <td>0</td>\n",
       "    </tr>\n",
       "    <tr>\n",
       "      <th>2</th>\n",
       "      <td>300</td>\n",
       "      <td>250</td>\n",
       "      <td>0</td>\n",
       "      <td>227</td>\n",
       "      <td>2.013061e+16</td>\n",
       "      <td>95.0</td>\n",
       "      <td>0</td>\n",
       "      <td>1.0</td>\n",
       "      <td>1.0</td>\n",
       "      <td>0.0</td>\n",
       "      <td>...</td>\n",
       "      <td>0</td>\n",
       "      <td>0</td>\n",
       "      <td>0</td>\n",
       "      <td>0</td>\n",
       "      <td>0</td>\n",
       "      <td>0</td>\n",
       "      <td>0</td>\n",
       "      <td>0</td>\n",
       "      <td>1</td>\n",
       "      <td>0</td>\n",
       "    </tr>\n",
       "    <tr>\n",
       "      <th>3</th>\n",
       "      <td>120</td>\n",
       "      <td>600</td>\n",
       "      <td>250</td>\n",
       "      <td>300</td>\n",
       "      <td>2.013061e+16</td>\n",
       "      <td>250.0</td>\n",
       "      <td>0</td>\n",
       "      <td>1.0</td>\n",
       "      <td>0.0</td>\n",
       "      <td>0.0</td>\n",
       "      <td>...</td>\n",
       "      <td>0</td>\n",
       "      <td>0</td>\n",
       "      <td>0</td>\n",
       "      <td>0</td>\n",
       "      <td>0</td>\n",
       "      <td>0</td>\n",
       "      <td>0</td>\n",
       "      <td>1</td>\n",
       "      <td>0</td>\n",
       "      <td>0</td>\n",
       "    </tr>\n",
       "    <tr>\n",
       "      <th>4</th>\n",
       "      <td>300</td>\n",
       "      <td>250</td>\n",
       "      <td>0</td>\n",
       "      <td>227</td>\n",
       "      <td>2.013061e+16</td>\n",
       "      <td>234.0</td>\n",
       "      <td>0</td>\n",
       "      <td>0.0</td>\n",
       "      <td>0.0</td>\n",
       "      <td>1.0</td>\n",
       "      <td>...</td>\n",
       "      <td>0</td>\n",
       "      <td>0</td>\n",
       "      <td>0</td>\n",
       "      <td>0</td>\n",
       "      <td>0</td>\n",
       "      <td>0</td>\n",
       "      <td>0</td>\n",
       "      <td>0</td>\n",
       "      <td>1</td>\n",
       "      <td>0</td>\n",
       "    </tr>\n",
       "  </tbody>\n",
       "</table>\n",
       "<p>5 rows × 91 columns</p>\n",
       "</div>"
      ],
      "text/plain": [
       "   Ad Slot Width  Ad Slot Height  Ad Slot Floor Price  Bidding Price  \\\n",
       "0            300             250                    0            227   \n",
       "1            728              90                  162            238   \n",
       "2            300             250                    0            227   \n",
       "3            120             600                  250            300   \n",
       "4            300             250                    0            227   \n",
       "\n",
       "   Timestamp_imp  Paying Price  has click  10006  10024  10031  ...  \\\n",
       "0   2.013061e+16          62.0          0    1.0    0.0    0.0  ...   \n",
       "1   2.013061e+16         182.0          0    0.0    0.0    0.0  ...   \n",
       "2   2.013061e+16          95.0          0    1.0    1.0    0.0  ...   \n",
       "3   2.013061e+16         250.0          0    1.0    0.0    0.0  ...   \n",
       "4   2.013061e+16         234.0          0    0.0    0.0    1.0  ...   \n",
       "\n",
       "   Region ID_clicks_276.0  Region ID_clicks_298.0  Region ID_clicks_308.0  \\\n",
       "0                       0                       0                       0   \n",
       "1                       0                       0                       0   \n",
       "2                       0                       0                       0   \n",
       "3                       0                       0                       0   \n",
       "4                       0                       0                       0   \n",
       "\n",
       "   Region ID_clicks_333.0  Region ID_clicks_374.0  Advertiser ID_1458  \\\n",
       "0                       0                       0                   0   \n",
       "1                       0                       0                   0   \n",
       "2                       0                       0                   0   \n",
       "3                       0                       0                   0   \n",
       "4                       0                       0                   0   \n",
       "\n",
       "   Advertiser ID_3358  Advertiser ID_3386  Advertiser ID_3427  \\\n",
       "0                   1                   0                   0   \n",
       "1                   1                   0                   0   \n",
       "2                   0                   0                   1   \n",
       "3                   0                   1                   0   \n",
       "4                   0                   0                   1   \n",
       "\n",
       "   Advertiser ID_3476  \n",
       "0                   0  \n",
       "1                   0  \n",
       "2                   0  \n",
       "3                   0  \n",
       "4                   0  \n",
       "\n",
       "[5 rows x 91 columns]"
      ]
     },
     "execution_count": 18,
     "metadata": {},
     "output_type": "execute_result"
    }
   ],
   "source": [
    "# convert region id into dummy variables\n",
    "ad_imp2clk_enc = pd.get_dummies(ad_imp2clk, columns = ['Ad Exchange', 'Ad Slot Visibility','Ad Slot Format','Region ID_clicks','Advertiser ID'])\n",
    "ad_imp2clk_enc.head()"
   ]
  },
  {
   "cell_type": "code",
   "execution_count": 19,
   "metadata": {},
   "outputs": [
    {
     "data": {
      "text/plain": [
       "Index(['Ad Slot Width', 'Ad Slot Height', 'Ad Slot Floor Price',\n",
       "       'Bidding Price', 'Timestamp_imp', 'Paying Price', 'has click', '10006',\n",
       "       '10024', '10031', '10048', '10052', '10057', '10059', '10063', '10067',\n",
       "       '10074', '10075', '10076', '10077', '10079', '10083', '10093', '10102',\n",
       "       '10110', '10111', '10684', '11092', '11278', '11379', '11423', '11512',\n",
       "       '11576', '11632', '11680', '11724', '11944', '13042', '13403', '13496',\n",
       "       '13678', '13776', '13800', '13866', '13874', '14273', '16593', '16617',\n",
       "       '16661', '16706', 'Ad Exchange_1', 'Ad Exchange_2', 'Ad Exchange_3',\n",
       "       'Ad Slot Visibility_0', 'Ad Slot Visibility_1', 'Ad Slot Visibility_2',\n",
       "       'Ad Slot Visibility_255', 'Ad Slot Format_0', 'Ad Slot Format_1',\n",
       "       'Ad Slot Format_5', 'Region ID_clicks_0.0', 'Region ID_clicks_1.0',\n",
       "       'Region ID_clicks_2.0', 'Region ID_clicks_3.0', 'Region ID_clicks_15.0',\n",
       "       'Region ID_clicks_27.0', 'Region ID_clicks_40.0',\n",
       "       'Region ID_clicks_55.0', 'Region ID_clicks_65.0',\n",
       "       'Region ID_clicks_79.0', 'Region ID_clicks_80.0',\n",
       "       'Region ID_clicks_94.0', 'Region ID_clicks_106.0',\n",
       "       'Region ID_clicks_124.0', 'Region ID_clicks_146.0',\n",
       "       'Region ID_clicks_164.0', 'Region ID_clicks_183.0',\n",
       "       'Region ID_clicks_201.0', 'Region ID_clicks_216.0',\n",
       "       'Region ID_clicks_238.0', 'Region ID_clicks_275.0',\n",
       "       'Region ID_clicks_276.0', 'Region ID_clicks_298.0',\n",
       "       'Region ID_clicks_308.0', 'Region ID_clicks_333.0',\n",
       "       'Region ID_clicks_374.0', 'Advertiser ID_1458', 'Advertiser ID_3358',\n",
       "       'Advertiser ID_3386', 'Advertiser ID_3427', 'Advertiser ID_3476'],\n",
       "      dtype='object')"
      ]
     },
     "execution_count": 19,
     "metadata": {},
     "output_type": "execute_result"
    }
   ],
   "source": [
    "ad_imp2clk_enc.columns"
   ]
  },
  {
   "cell_type": "markdown",
   "metadata": {},
   "source": [
    "## Update"
   ]
  },
  {
   "cell_type": "markdown",
   "metadata": {},
   "source": [
    "#### Number of each advertiser's clicks "
   ]
  },
  {
   "cell_type": "code",
   "execution_count": 20,
   "metadata": {},
   "outputs": [
    {
     "data": {
      "text/plain": [
       "Advertiser ID\n",
       "1458    25\n",
       "3358     7\n",
       "3386    24\n",
       "3427    23\n",
       "3476     8\n",
       "dtype: int64"
      ]
     },
     "execution_count": 20,
     "metadata": {},
     "output_type": "execute_result"
    }
   ],
   "source": [
    "clk_only = ad_imp2clk[ad_imp2clk['has click']==1]\n",
    "clk_only_gb = clk_only.groupby(['Advertiser ID']).size()\n",
    "clk_only_gb"
   ]
  },
  {
   "cell_type": "code",
   "execution_count": 21,
   "metadata": {},
   "outputs": [],
   "source": [
    "# remove observations \n",
    "ad_imp2clk_update = ad_imp2clk[(ad_imp2clk['Advertiser ID'] != 3358) & (ad_imp2clk['Advertiser ID'] != 3476)]"
   ]
  },
  {
   "cell_type": "code",
   "execution_count": 22,
   "metadata": {},
   "outputs": [
    {
     "name": "stdout",
     "output_type": "stream",
     "text": [
      "(121904, 55)\n",
      "(84758, 55)\n"
     ]
    }
   ],
   "source": [
    "print(ad_imp2clk.shape)\n",
    "print(ad_imp2clk_update.shape)"
   ]
  },
  {
   "cell_type": "code",
   "execution_count": 23,
   "metadata": {},
   "outputs": [],
   "source": [
    "# update the ad_imp2clk_enc\n",
    "ad_imp2clk_enc_update = pd.get_dummies(ad_imp2clk_update, columns = ['Ad Exchange', 'Ad Slot Visibility','Ad Slot Format','Region ID_clicks','Advertiser ID'])"
   ]
  },
  {
   "cell_type": "code",
   "execution_count": 24,
   "metadata": {},
   "outputs": [
    {
     "name": "stdout",
     "output_type": "stream",
     "text": [
      "(121904, 91)\n",
      "(84758, 89)\n"
     ]
    }
   ],
   "source": [
    "print(ad_imp2clk_enc.shape)\n",
    "print(ad_imp2clk_enc_update.shape)"
   ]
  },
  {
   "cell_type": "markdown",
   "metadata": {},
   "source": [
    "   #### Prepare training and testing dataset based on encoded impression dataset"
   ]
  },
  {
   "cell_type": "code",
   "execution_count": 25,
   "metadata": {},
   "outputs": [
    {
     "data": {
      "text/plain": [
       "(84758, 89)"
      ]
     },
     "execution_count": 25,
     "metadata": {},
     "output_type": "execute_result"
    }
   ],
   "source": [
    "ad_imp2clk_enc_update.shape"
   ]
  },
  {
   "cell_type": "code",
   "execution_count": 26,
   "metadata": {},
   "outputs": [],
   "source": [
    "# use earlier five days as training data\n",
    "imp2clk_train = ad_imp2clk_enc_update[ad_imp2clk_enc_update['Timestamp_imp'] < 20130611000000000]\n",
    "# use later two days as testing data\n",
    "imp2clk_test = ad_imp2clk_enc_update[ad_imp2clk_enc_update['Timestamp_imp'] >= 20130611000000000]"
   ]
  },
  {
   "cell_type": "code",
   "execution_count": 27,
   "metadata": {},
   "outputs": [
    {
     "name": "stdout",
     "output_type": "stream",
     "text": [
      "0    60307\n",
      "1       46\n",
      "dtype: int64\n"
     ]
    }
   ],
   "source": [
    "# baseline model\n",
    "train_clk = np.sum(imp2clk_train['has click']==1)\n",
    "train_not_clk = np.sum(imp2clk_train['has click']==0)\n",
    "\n",
    "print(pd.Series({'0': train_not_clk, '1': train_clk}))\n",
    "\n",
    "# baseline model should predict not click for all observations in the test set"
   ]
  },
  {
   "cell_type": "code",
   "execution_count": 28,
   "metadata": {},
   "outputs": [
    {
     "data": {
      "text/plain": [
       "0.0007621824929995195"
      ]
     },
     "execution_count": 28,
     "metadata": {},
     "output_type": "execute_result"
    }
   ],
   "source": [
    "# baseline model prediction probability\n",
    "baseline_clk_prob = train_clk / (train_clk + train_not_clk)\n",
    "baseline_clk_prob"
   ]
  },
  {
   "cell_type": "markdown",
   "metadata": {},
   "source": [
    "#### Fitting the logistic regression -Preparation"
   ]
  },
  {
   "cell_type": "code",
   "execution_count": 29,
   "metadata": {},
   "outputs": [
    {
     "data": {
      "text/plain": [
       "Region ID_clicks_1.0      0.0\n",
       "Region ID_clicks_2.0      0.0\n",
       "Region ID_clicks_94.0     0.0\n",
       "Region ID_clicks_238.0    0.0\n",
       "Region ID_clicks_333.0    0.0\n",
       "Name: std, dtype: float64"
      ]
     },
     "execution_count": 29,
     "metadata": {},
     "output_type": "execute_result"
    }
   ],
   "source": [
    "# filter all constant features in the impression training set\n",
    "imp2clk_train_summary = imp2clk_train.describe()\n",
    "imp2clk_train_summary.loc['std'][imp2clk_train_summary.loc['std'] == 0]"
   ]
  },
  {
   "cell_type": "code",
   "execution_count": 30,
   "metadata": {},
   "outputs": [
    {
     "data": {
      "text/plain": [
       "Index(['Ad Slot Width', 'Ad Slot Height', 'Ad Slot Floor Price',\n",
       "       'Bidding Price', 'Timestamp_imp', 'Paying Price', 'has click', '10006',\n",
       "       '10024', '10031', '10048', '10052', '10057', '10059', '10063', '10067',\n",
       "       '10074', '10075', '10076', '10077', '10079', '10083', '10093', '10102',\n",
       "       '10110', '10111', '10684', '11092', '11278', '11379', '11423', '11512',\n",
       "       '11576', '11632', '11680', '11724', '11944', '13042', '13403', '13496',\n",
       "       '13678', '13776', '13800', '13866', '13874', '14273', '16593', '16617',\n",
       "       '16661', '16706', 'Ad Exchange_1', 'Ad Exchange_2', 'Ad Exchange_3',\n",
       "       'Ad Slot Visibility_0', 'Ad Slot Visibility_1', 'Ad Slot Visibility_2',\n",
       "       'Ad Slot Visibility_255', 'Ad Slot Format_0', 'Ad Slot Format_1',\n",
       "       'Ad Slot Format_5', 'Region ID_clicks_0.0', 'Region ID_clicks_1.0',\n",
       "       'Region ID_clicks_2.0', 'Region ID_clicks_3.0', 'Region ID_clicks_15.0',\n",
       "       'Region ID_clicks_27.0', 'Region ID_clicks_40.0',\n",
       "       'Region ID_clicks_55.0', 'Region ID_clicks_65.0',\n",
       "       'Region ID_clicks_79.0', 'Region ID_clicks_80.0',\n",
       "       'Region ID_clicks_94.0', 'Region ID_clicks_106.0',\n",
       "       'Region ID_clicks_124.0', 'Region ID_clicks_146.0',\n",
       "       'Region ID_clicks_164.0', 'Region ID_clicks_183.0',\n",
       "       'Region ID_clicks_201.0', 'Region ID_clicks_216.0',\n",
       "       'Region ID_clicks_238.0', 'Region ID_clicks_275.0',\n",
       "       'Region ID_clicks_276.0', 'Region ID_clicks_298.0',\n",
       "       'Region ID_clicks_308.0', 'Region ID_clicks_333.0',\n",
       "       'Region ID_clicks_374.0', 'Advertiser ID_1458', 'Advertiser ID_3386',\n",
       "       'Advertiser ID_3427'],\n",
       "      dtype='object')"
      ]
     },
     "execution_count": 30,
     "metadata": {},
     "output_type": "execute_result"
    }
   ],
   "source": [
    "imp2clk_train.columns"
   ]
  },
  {
   "cell_type": "code",
   "execution_count": 31,
   "metadata": {},
   "outputs": [],
   "source": [
    "# drop constant column 'Region ID_clicks_1.0', 'Region ID_clicks_2.0', 'Region ID_clicks_94.0', 'Region ID_clicks_238.0', 'Region ID_clicks_333.0'\n",
    "imp2clk_train_update = imp2clk_train.drop(['Region ID_clicks_1.0', 'Region ID_clicks_2.0', 'Region ID_clicks_94.0', 'Region ID_clicks_238.0', 'Region ID_clicks_333.0'], axis=1)\n",
    "# keep the same features in the imp2clk_test\n",
    "imp2clk_test_update = imp2clk_test.drop(['Region ID_clicks_1.0', 'Region ID_clicks_2.0', 'Region ID_clicks_94.0', 'Region ID_clicks_238.0', 'Region ID_clicks_333.0'], axis=1)"
   ]
  },
  {
   "cell_type": "code",
   "execution_count": 32,
   "metadata": {},
   "outputs": [],
   "source": [
    "# prepare training dataset\n",
    "X1_train = imp2clk_train_update.drop('has click', axis=1)\n",
    "y1_train = imp2clk_train_update[['has click']]\n",
    "\n",
    "# prepare testing dataset\n",
    "X1_test = imp2clk_test_update.drop('has click', axis=1)\n",
    "y1_test = imp2clk_test_update[['has click']]\n"
   ]
  },
  {
   "cell_type": "code",
   "execution_count": 33,
   "metadata": {},
   "outputs": [
    {
     "name": "stdout",
     "output_type": "stream",
     "text": [
      "(60353, 83)\n",
      "(24405, 83)\n"
     ]
    }
   ],
   "source": [
    "print(X1_train.shape)\n",
    "print(X1_test.shape)"
   ]
  },
  {
   "cell_type": "code",
   "execution_count": 55,
   "metadata": {},
   "outputs": [
    {
     "data": {
      "text/plain": [
       "Index(['Ad Slot Width', 'Ad Slot Height', 'Ad Slot Floor Price',\n",
       "       'Bidding Price', 'Timestamp_imp', 'Paying Price', '10006', '10024',\n",
       "       '10031', '10048', '10052', '10057', '10059', '10063', '10067', '10074',\n",
       "       '10075', '10076', '10077', '10079', '10083', '10093', '10102', '10110',\n",
       "       '10111', '10684', '11092', '11278', '11379', '11423', '11512', '11576',\n",
       "       '11632', '11680', '11724', '11944', '13042', '13403', '13496', '13678',\n",
       "       '13776', '13800', '13866', '13874', '14273', '16593', '16617', '16661',\n",
       "       '16706', 'Ad Exchange_1', 'Ad Exchange_2', 'Ad Exchange_3',\n",
       "       'Ad Slot Visibility_0', 'Ad Slot Visibility_1', 'Ad Slot Visibility_2',\n",
       "       'Ad Slot Visibility_255', 'Ad Slot Format_0', 'Ad Slot Format_1',\n",
       "       'Ad Slot Format_5', 'Region ID_clicks_0.0', 'Region ID_clicks_3.0',\n",
       "       'Region ID_clicks_15.0', 'Region ID_clicks_27.0',\n",
       "       'Region ID_clicks_40.0', 'Region ID_clicks_55.0',\n",
       "       'Region ID_clicks_65.0', 'Region ID_clicks_79.0',\n",
       "       'Region ID_clicks_80.0', 'Region ID_clicks_106.0',\n",
       "       'Region ID_clicks_124.0', 'Region ID_clicks_146.0',\n",
       "       'Region ID_clicks_164.0', 'Region ID_clicks_183.0',\n",
       "       'Region ID_clicks_201.0', 'Region ID_clicks_216.0',\n",
       "       'Region ID_clicks_275.0', 'Region ID_clicks_276.0',\n",
       "       'Region ID_clicks_298.0', 'Region ID_clicks_308.0',\n",
       "       'Region ID_clicks_374.0', 'Advertiser ID_1458', 'Advertiser ID_3386',\n",
       "       'Advertiser ID_3427'],\n",
       "      dtype='object')"
      ]
     },
     "execution_count": 55,
     "metadata": {},
     "output_type": "execute_result"
    }
   ],
   "source": [
    "X1_train.columns"
   ]
  },
  {
   "cell_type": "markdown",
   "metadata": {},
   "source": [
    "### Logistic Regression"
   ]
  },
  {
   "cell_type": "code",
   "execution_count": 34,
   "metadata": {},
   "outputs": [
    {
     "name": "stderr",
     "output_type": "stream",
     "text": [
      "/opt/anaconda3/lib/python3.8/site-packages/sklearn/utils/validation.py:63: DataConversionWarning: A column-vector y was passed when a 1d array was expected. Please change the shape of y to (n_samples, ), for example using ravel().\n",
      "  return f(*args, **kwargs)\n"
     ]
    }
   ],
   "source": [
    "# logistic regression model from linear_model\n",
    "from sklearn import linear_model\n",
    "logregC1 = linear_model.LogisticRegression(max_iter=50000000,C=0.001, solver='saga',penalty='l2')\n",
    "logregC1 = logregC1.fit(X1_train,y1_train)"
   ]
  },
  {
   "cell_type": "code",
   "execution_count": 35,
   "metadata": {},
   "outputs": [],
   "source": [
    "# predict the label/class\n",
    "y1_logreg_label= logregC1.predict(X1_test)\n",
    "\n",
    "# make probability predictions\n",
    "y1_logreg_prob = logregC1.predict_proba(X1_test)[:,1]"
   ]
  },
  {
   "cell_type": "markdown",
   "metadata": {},
   "source": [
    "#### Cross Entropy for logistic regression and baseline model"
   ]
  },
  {
   "cell_type": "code",
   "execution_count": 36,
   "metadata": {},
   "outputs": [
    {
     "name": "stdout",
     "output_type": "stream",
     "text": [
      "ce_logreg is:  0.008410198486271893\n"
     ]
    }
   ],
   "source": [
    "# cross entropy for logistic regression\n",
    "# log_loss(y_true, y_pred)\n",
    "# y_true: true labels\n",
    "# y_pred: Predicted probabilities\n",
    "from sklearn.metrics import log_loss\n",
    "ce_logreg = log_loss(y1_test, y1_logreg_prob)\n",
    "print('ce_logreg is: ', ce_logreg)"
   ]
  },
  {
   "cell_type": "code",
   "execution_count": 37,
   "metadata": {},
   "outputs": [
    {
     "name": "stdout",
     "output_type": "stream",
     "text": [
      "ce_baseline is:  0.008410193393035583\n"
     ]
    }
   ],
   "source": [
    "# cross entropy for baseline model\n",
    "# y1_base_label = [0] * len(y1_test)\n",
    "y1_base_prob = [baseline_clk_prob] * len(y1_test)\n",
    "ce_baseline = log_loss(y1_test, y1_base_prob)\n",
    "print('ce_baseline is: ', ce_baseline)"
   ]
  },
  {
   "cell_type": "code",
   "execution_count": 38,
   "metadata": {},
   "outputs": [
    {
     "name": "stdout",
     "output_type": "stream",
     "text": [
      "relative ce of logistic regression:  1.0000006056027575\n"
     ]
    }
   ],
   "source": [
    "# relative ce\n",
    "ce_logregRatio = ce_logreg / ce_baseline\n",
    "print('relative ce of logistic regression: ', ce_logregRatio)"
   ]
  },
  {
   "cell_type": "markdown",
   "metadata": {},
   "source": [
    "#### ROC curve for logistic regression and baseline model"
   ]
  },
  {
   "cell_type": "code",
   "execution_count": 39,
   "metadata": {},
   "outputs": [
    {
     "data": {
      "image/png": "[encoded data removed]",
      "text/plain": [
       "<Figure size 576x432 with 1 Axes>"
      ]
     },
     "metadata": {
      "needs_background": "light"
     },
     "output_type": "display_data"
    }
   ],
   "source": [
    "# y_scorendarray of shape (n_samples,)\n",
    "# Target scores, can either be probability estimates of the positive class, confidence values, or non-thresholded measure of decisions\n",
    "import matplotlib.pyplot as plt\n",
    "from sklearn.metrics import roc_curve, auc\n",
    "\n",
    "fpr, tpr, _ = roc_curve(y1_test, y1_logreg_prob)\n",
    "roc_auc = auc(fpr, tpr)\n",
    "plt.figure(figsize=(8, 6))\n",
    "plt.title('ROC Curve', fontsize=18)\n",
    "plt.xlabel('FPR', fontsize=16)\n",
    "plt.ylabel('TPR', fontsize=16)\n",
    "plt.xlim([-0.01, 1.00])\n",
    "plt.ylim([-0.01, 1.01])\n",
    "plt.plot(fpr, tpr, lw=3, label='Logistic Regression (area = {:0.2f})'.format(roc_auc))\n",
    "plt.plot([0, 1], [0, 1], color='navy', lw=3, linestyle='--')\n",
    "plt.legend(loc='lower right', fontsize=14)\n",
    "plt.show()"
   ]
  },
  {
   "cell_type": "markdown",
   "metadata": {},
   "source": [
    "#### Using Cross Validation to choose C "
   ]
  },
  {
   "cell_type": "code",
   "execution_count": 78,
   "metadata": {
    "scrolled": true
   },
   "outputs": [
    {
     "name": "stderr",
     "output_type": "stream",
     "text": [
      "/opt/anaconda3/lib/python3.8/site-packages/sklearn/utils/validation.py:63: DataConversionWarning: A column-vector y was passed when a 1d array was expected. Please change the shape of y to (n_samples, ), for example using ravel().\n",
      "  return f(*args, **kwargs)\n",
      "/opt/anaconda3/lib/python3.8/site-packages/sklearn/utils/validation.py:63: DataConversionWarning: A column-vector y was passed when a 1d array was expected. Please change the shape of y to (n_samples, ), for example using ravel().\n",
      "  return f(*args, **kwargs)\n",
      "/opt/anaconda3/lib/python3.8/site-packages/sklearn/utils/validation.py:63: DataConversionWarning: A column-vector y was passed when a 1d array was expected. Please change the shape of y to (n_samples, ), for example using ravel().\n",
      "  return f(*args, **kwargs)\n",
      "/opt/anaconda3/lib/python3.8/site-packages/sklearn/utils/validation.py:63: DataConversionWarning: A column-vector y was passed when a 1d array was expected. Please change the shape of y to (n_samples, ), for example using ravel().\n",
      "  return f(*args, **kwargs)\n",
      "/opt/anaconda3/lib/python3.8/site-packages/sklearn/utils/validation.py:63: DataConversionWarning: A column-vector y was passed when a 1d array was expected. Please change the shape of y to (n_samples, ), for example using ravel().\n",
      "  return f(*args, **kwargs)\n",
      "/opt/anaconda3/lib/python3.8/site-packages/sklearn/utils/validation.py:63: DataConversionWarning: A column-vector y was passed when a 1d array was expected. Please change the shape of y to (n_samples, ), for example using ravel().\n",
      "  return f(*args, **kwargs)\n",
      "/opt/anaconda3/lib/python3.8/site-packages/sklearn/utils/validation.py:63: DataConversionWarning: A column-vector y was passed when a 1d array was expected. Please change the shape of y to (n_samples, ), for example using ravel().\n",
      "  return f(*args, **kwargs)\n",
      "/opt/anaconda3/lib/python3.8/site-packages/sklearn/utils/validation.py:63: DataConversionWarning: A column-vector y was passed when a 1d array was expected. Please change the shape of y to (n_samples, ), for example using ravel().\n",
      "  return f(*args, **kwargs)\n",
      "/opt/anaconda3/lib/python3.8/site-packages/sklearn/utils/validation.py:63: DataConversionWarning: A column-vector y was passed when a 1d array was expected. Please change the shape of y to (n_samples, ), for example using ravel().\n",
      "  return f(*args, **kwargs)\n",
      "/opt/anaconda3/lib/python3.8/site-packages/sklearn/utils/validation.py:63: DataConversionWarning: A column-vector y was passed when a 1d array was expected. Please change the shape of y to (n_samples, ), for example using ravel().\n",
      "  return f(*args, **kwargs)\n",
      "/opt/anaconda3/lib/python3.8/site-packages/sklearn/utils/validation.py:63: DataConversionWarning: A column-vector y was passed when a 1d array was expected. Please change the shape of y to (n_samples, ), for example using ravel().\n",
      "  return f(*args, **kwargs)\n",
      "/opt/anaconda3/lib/python3.8/site-packages/sklearn/utils/validation.py:63: DataConversionWarning: A column-vector y was passed when a 1d array was expected. Please change the shape of y to (n_samples, ), for example using ravel().\n",
      "  return f(*args, **kwargs)\n",
      "/opt/anaconda3/lib/python3.8/site-packages/sklearn/utils/validation.py:63: DataConversionWarning: A column-vector y was passed when a 1d array was expected. Please change the shape of y to (n_samples, ), for example using ravel().\n",
      "  return f(*args, **kwargs)\n",
      "/opt/anaconda3/lib/python3.8/site-packages/sklearn/utils/validation.py:63: DataConversionWarning: A column-vector y was passed when a 1d array was expected. Please change the shape of y to (n_samples, ), for example using ravel().\n",
      "  return f(*args, **kwargs)\n",
      "/opt/anaconda3/lib/python3.8/site-packages/sklearn/utils/validation.py:63: DataConversionWarning: A column-vector y was passed when a 1d array was expected. Please change the shape of y to (n_samples, ), for example using ravel().\n",
      "  return f(*args, **kwargs)\n",
      "/opt/anaconda3/lib/python3.8/site-packages/sklearn/utils/validation.py:63: DataConversionWarning: A column-vector y was passed when a 1d array was expected. Please change the shape of y to (n_samples, ), for example using ravel().\n",
      "  return f(*args, **kwargs)\n",
      "/opt/anaconda3/lib/python3.8/site-packages/sklearn/utils/validation.py:63: DataConversionWarning: A column-vector y was passed when a 1d array was expected. Please change the shape of y to (n_samples, ), for example using ravel().\n",
      "  return f(*args, **kwargs)\n",
      "/opt/anaconda3/lib/python3.8/site-packages/sklearn/utils/validation.py:63: DataConversionWarning: A column-vector y was passed when a 1d array was expected. Please change the shape of y to (n_samples, ), for example using ravel().\n",
      "  return f(*args, **kwargs)\n",
      "/opt/anaconda3/lib/python3.8/site-packages/sklearn/utils/validation.py:63: DataConversionWarning: A column-vector y was passed when a 1d array was expected. Please change the shape of y to (n_samples, ), for example using ravel().\n",
      "  return f(*args, **kwargs)\n",
      "/opt/anaconda3/lib/python3.8/site-packages/sklearn/utils/validation.py:63: DataConversionWarning: A column-vector y was passed when a 1d array was expected. Please change the shape of y to (n_samples, ), for example using ravel().\n",
      "  return f(*args, **kwargs)\n",
      "/opt/anaconda3/lib/python3.8/site-packages/sklearn/utils/validation.py:63: DataConversionWarning: A column-vector y was passed when a 1d array was expected. Please change the shape of y to (n_samples, ), for example using ravel().\n",
      "  return f(*args, **kwargs)\n"
     ]
    },
    {
     "data": {
      "text/plain": [
       "GridSearchCV(cv=10, estimator=LogisticRegression(),\n",
       "             param_grid={'C': [10000, 100], 'max_iter': [50000000],\n",
       "                         'penalty': ['l2'], 'solver': ['saga']},\n",
       "             scoring=make_scorer(log_loss, greater_is_better=False, needs_proba=True))"
      ]
     },
     "execution_count": 78,
     "metadata": {},
     "output_type": "execute_result"
    }
   ],
   "source": [
    "from sklearn.model_selection import GridSearchCV\n",
    "from sklearn.metrics import log_loss, make_scorer\n",
    "\n",
    "grid_values = { 'C': [10000,100],\n",
    "                'max_iter': [50000000],\n",
    "                'solver': ['saga'],\n",
    "                'penalty': ['l2']\n",
    "}\n",
    "\n",
    "logreg = linear_model.LogisticRegression()\n",
    "logreg_cv = GridSearchCV(logreg, param_grid=grid_values, scoring=make_scorer(log_loss,greater_is_better=False, needs_proba=True),cv=10)\n",
    "logreg_cv.fit(X1_train, y1_train)"
   ]
  },
  {
   "cell_type": "code",
   "execution_count": 79,
   "metadata": {},
   "outputs": [
    {
     "data": {
      "text/html": [
       "<div>\n",
       "<style scoped>\n",
       "    .dataframe tbody tr th:only-of-type {\n",
       "        vertical-align: middle;\n",
       "    }\n",
       "\n",
       "    .dataframe tbody tr th {\n",
       "        vertical-align: top;\n",
       "    }\n",
       "\n",
       "    .dataframe thead th {\n",
       "        text-align: right;\n",
       "    }\n",
       "</style>\n",
       "<table border=\"1\" class=\"dataframe\">\n",
       "  <thead>\n",
       "    <tr style=\"text-align: right;\">\n",
       "      <th></th>\n",
       "      <th>C</th>\n",
       "      <th>Validation Logloss</th>\n",
       "    </tr>\n",
       "  </thead>\n",
       "  <tbody>\n",
       "    <tr>\n",
       "      <th>0</th>\n",
       "      <td>10000</td>\n",
       "      <td>-0.006235</td>\n",
       "    </tr>\n",
       "    <tr>\n",
       "      <th>1</th>\n",
       "      <td>100</td>\n",
       "      <td>-0.006235</td>\n",
       "    </tr>\n",
       "  </tbody>\n",
       "</table>\n",
       "</div>"
      ],
      "text/plain": [
       "       C  Validation Logloss\n",
       "0  10000           -0.006235\n",
       "1    100           -0.006235"
      ]
     },
     "execution_count": 79,
     "metadata": {},
     "output_type": "execute_result"
    }
   ],
   "source": [
    "logloss = logreg_cv.cv_results_['mean_test_score']\n",
    "c = logreg_cv.cv_results_['param_C'].data\n",
    "\n",
    "pd.DataFrame({'C': c, 'Validation Logloss': logloss})"
   ]
  },
  {
   "cell_type": "markdown",
   "metadata": {},
   "source": [
    "### Random Forest \n"
   ]
  },
  {
   "cell_type": "code",
   "execution_count": 40,
   "metadata": {
    "scrolled": true
   },
   "outputs": [
    {
     "name": "stderr",
     "output_type": "stream",
     "text": [
      "<ipython-input-40-317dad7048b4>:3: DataConversionWarning: A column-vector y was passed when a 1d array was expected. Please change the shape of y to (n_samples,), for example using ravel().\n",
      "  rf.fit(X1_train, y1_train)\n"
     ]
    },
    {
     "data": {
      "text/plain": [
       "RandomForestClassifier()"
      ]
     },
     "execution_count": 40,
     "metadata": {},
     "output_type": "execute_result"
    }
   ],
   "source": [
    "from sklearn.ensemble import RandomForestClassifier\n",
    "rf = RandomForestClassifier()\n",
    "rf.fit(X1_train, y1_train)"
   ]
  },
  {
   "cell_type": "code",
   "execution_count": 42,
   "metadata": {},
   "outputs": [
    {
     "name": "stdout",
     "output_type": "stream",
     "text": [
      "ce_rf:  0.005658818910433486\n",
      "ce_rfRatio:  0.672852412064568\n"
     ]
    }
   ],
   "source": [
    "y1_rf_label = rf.predict(X1_test)\n",
    "y1_rf_prob = rf.predict_proba(X1_test)[:,1]\n",
    "ce_rf = log_loss(y1_test, y1_rf_prob)\n",
    "print(\"ce_rf: \", ce_rf)\n",
    "print(\"ce_rfRatio: \", ce_rf / ce_baseline)"
   ]
  },
  {
   "cell_type": "code",
   "execution_count": 43,
   "metadata": {},
   "outputs": [
    {
     "data": {
      "image/png": "[encoded data removed]",
      "text/plain": [
       "<Figure size 576x432 with 1 Axes>"
      ]
     },
     "metadata": {
      "needs_background": "light"
     },
     "output_type": "display_data"
    }
   ],
   "source": [
    "fpr3, tpr3, _ = roc_curve(y1_test, y1_rf_prob)\n",
    "roc_auc3 = auc(fpr3, tpr3)\n",
    "plt.figure(figsize=(8, 6))\n",
    "plt.title('ROC Curve', fontsize=18)\n",
    "plt.xlabel('FPR', fontsize=16)\n",
    "plt.ylabel('TPR', fontsize=16)\n",
    "plt.xlim([-0.01, 1.00])\n",
    "plt.ylim([-0.01, 1.01])\n",
    "plt.plot(fpr3, tpr3, lw=3, label='Random Forest (area = {:0.2f})'.format(roc_auc3))\n",
    "plt.plot([0, 1], [0, 1], color='navy', lw=3, linestyle='--')\n",
    "plt.legend(loc='lower right', fontsize=14)\n",
    "plt.show()"
   ]
  },
  {
   "cell_type": "code",
   "execution_count": null,
   "metadata": {},
   "outputs": [],
   "source": [
    "# importance score \n",
    "importance_score = pd.DataFrame({'Feature' : X1_train.columns, \n",
    "              'Importance score': 100*rf_cv.best_estimator_.feature_importances_}).round(1)"
   ]
  },
  {
   "cell_type": "markdown",
   "metadata": {},
   "source": [
    "### Gradient Boosting Tree\n",
    "\n"
   ]
  },
  {
   "cell_type": "code",
   "execution_count": 86,
   "metadata": {},
   "outputs": [
    {
     "name": "stderr",
     "output_type": "stream",
     "text": [
      "/opt/anaconda3/lib/python3.8/site-packages/sklearn/utils/validation.py:63: DataConversionWarning: A column-vector y was passed when a 1d array was expected. Please change the shape of y to (n_samples, ), for example using ravel().\n",
      "  return f(*args, **kwargs)\n"
     ]
    },
    {
     "name": "stdout",
     "output_type": "stream",
     "text": [
      "      Iter       Train Loss   Remaining Time \n",
      "         1           0.0125           11.24m\n",
      "         2           0.0124           10.79m\n",
      "         3           0.0123           10.49m\n",
      "         4           0.0123           10.29m\n",
      "         5           0.0122           10.07m\n",
      "         6           0.0122            9.95m\n",
      "         7           0.0121            9.90m\n",
      "         8           0.0121            9.85m\n",
      "         9           0.0121            9.85m\n",
      "        10           0.0120           10.02m\n",
      "        20           0.0118           10.13m\n",
      "        30           0.0117           10.34m\n",
      "        40           0.0116            9.94m\n",
      "        50           0.0115            9.99m\n",
      "        60           0.0115            9.95m\n",
      "        70           0.0114            9.73m\n",
      "        80           0.0114            9.60m\n",
      "        90           0.0113            9.57m\n",
      "       100           0.0113            9.46m\n",
      "       200           0.0110            9.06m\n",
      "       300           0.0109            8.71m\n",
      "       400           0.0108            8.13m\n",
      "       500           0.0107            7.51m\n",
      "       600           0.0107            6.91m\n",
      "       700           0.0107            6.39m\n",
      "       800           0.0106            5.83m\n",
      "       900           0.0106            5.29m\n",
      "      1000           0.0106            4.78m\n",
      "      2000           0.0105            0.00s\n"
     ]
    },
    {
     "data": {
      "text/plain": [
       "GradientBoostingClassifier(learning_rate=0.001, max_depth=100, max_leaf_nodes=3,\n",
       "                           min_samples_leaf=10, n_estimators=2000,\n",
       "                           random_state=88, verbose=1)"
      ]
     },
     "execution_count": 86,
     "metadata": {},
     "output_type": "execute_result"
    }
   ],
   "source": [
    "from sklearn.ensemble import GradientBoostingClassifier\n",
    "\n",
    "gbr = GradientBoostingClassifier(n_estimators=2000, learning_rate= 0.001, max_leaf_nodes=3,\n",
    "                                max_depth=100, min_samples_leaf=10, random_state=88, verbose=1) \n",
    "gbr.fit(X1_train_enc, y1_train_enc)"
   ]
  },
  {
   "cell_type": "code",
   "execution_count": 90,
   "metadata": {},
   "outputs": [],
   "source": [
    "# predict label\n",
    "y1_gbc_label = gbr.predict(X1_test_enc)\n",
    "# predict probability\n",
    "y1_gbc_prob = gbr.predict_proba(X1_test_enc)[:,1]"
   ]
  },
  {
   "cell_type": "code",
   "execution_count": 91,
   "metadata": {},
   "outputs": [
    {
     "name": "stdout",
     "output_type": "stream",
     "text": [
      "ce_gbc is:  0.0053971161456864945\n"
     ]
    }
   ],
   "source": [
    "ce_gbc = log_loss(y1_test_enc, y1_gbc_prob)\n",
    "print (\"ce_gbc is: \", ce_gbc)"
   ]
  },
  {
   "cell_type": "code",
   "execution_count": 92,
   "metadata": {},
   "outputs": [
    {
     "data": {
      "text/plain": [
       "<Figure size 576x432 with 0 Axes>"
      ]
     },
     "execution_count": 92,
     "metadata": {},
     "output_type": "execute_result"
    },
    {
     "data": {
      "text/plain": [
       "Text(0.5, 1.0, 'ROC Curve')"
      ]
     },
     "execution_count": 92,
     "metadata": {},
     "output_type": "execute_result"
    },
    {
     "data": {
      "text/plain": [
       "Text(0.5, 0, 'FPR')"
      ]
     },
     "execution_count": 92,
     "metadata": {},
     "output_type": "execute_result"
    },
    {
     "data": {
      "text/plain": [
       "Text(0, 0.5, 'TPR')"
      ]
     },
     "execution_count": 92,
     "metadata": {},
     "output_type": "execute_result"
    },
    {
     "data": {
      "text/plain": [
       "(-0.01, 1.0)"
      ]
     },
     "execution_count": 92,
     "metadata": {},
     "output_type": "execute_result"
    },
    {
     "data": {
      "text/plain": [
       "(-0.01, 1.01)"
      ]
     },
     "execution_count": 92,
     "metadata": {},
     "output_type": "execute_result"
    },
    {
     "data": {
      "text/plain": [
       "[<matplotlib.lines.Line2D at 0x7fe2d0649eb0>]"
      ]
     },
     "execution_count": 92,
     "metadata": {},
     "output_type": "execute_result"
    },
    {
     "data": {
      "text/plain": [
       "[<matplotlib.lines.Line2D at 0x7fe2d06685b0>]"
      ]
     },
     "execution_count": 92,
     "metadata": {},
     "output_type": "execute_result"
    },
    {
     "data": {
      "text/plain": [
       "<matplotlib.legend.Legend at 0x7fe2d10f1ca0>"
      ]
     },
     "execution_count": 92,
     "metadata": {},
     "output_type": "execute_result"
    },
    {
     "data": {
      "image/png": "[encoded data removed]",
      "text/plain": [
       "<Figure size 576x432 with 1 Axes>"
      ]
     },
     "metadata": {
      "needs_background": "light"
     },
     "output_type": "display_data"
    }
   ],
   "source": [
    "fpr4, tpr4, _ = roc_curve(y1_test_enc, y1_gbc_prob)\n",
    "roc_auc4 = auc(fpr4, tpr4)\n",
    "plt.figure(figsize=(8, 6))\n",
    "plt.title('ROC Curve', fontsize=18)\n",
    "plt.xlabel('FPR', fontsize=16)\n",
    "plt.ylabel('TPR', fontsize=16)\n",
    "plt.xlim([-0.01, 1.00])\n",
    "plt.ylim([-0.01, 1.01])\n",
    "plt.plot(fpr3, tpr3, lw=3, label='Gradient Boosting Classifier (area = {:0.2f})'.format(roc_auc4))\n",
    "plt.plot([0, 1], [0, 1], color='navy', lw=3, linestyle='--')\n",
    "plt.legend(loc='lower right', fontsize=14)\n",
    "plt.show()"
   ]
  },
  {
   "cell_type": "code",
   "execution_count": 54,
   "metadata": {},
   "outputs": [
    {
     "name": "stderr",
     "output_type": "stream",
     "text": [
      "/opt/anaconda3/lib/python3.8/site-packages/sklearn/model_selection/_validation.py:593: DataConversionWarning: A column-vector y was passed when a 1d array was expected. Please change the shape of y to (n_samples,), for example using ravel().\n",
      "  estimator.fit(X_train, y_train, **fit_params)\n",
      "/opt/anaconda3/lib/python3.8/site-packages/sklearn/model_selection/_validation.py:593: DataConversionWarning: A column-vector y was passed when a 1d array was expected. Please change the shape of y to (n_samples,), for example using ravel().\n",
      "  estimator.fit(X_train, y_train, **fit_params)\n",
      "/opt/anaconda3/lib/python3.8/site-packages/sklearn/model_selection/_validation.py:593: DataConversionWarning: A column-vector y was passed when a 1d array was expected. Please change the shape of y to (n_samples,), for example using ravel().\n",
      "  estimator.fit(X_train, y_train, **fit_params)\n",
      "/opt/anaconda3/lib/python3.8/site-packages/sklearn/model_selection/_validation.py:593: DataConversionWarning: A column-vector y was passed when a 1d array was expected. Please change the shape of y to (n_samples,), for example using ravel().\n",
      "  estimator.fit(X_train, y_train, **fit_params)\n",
      "/opt/anaconda3/lib/python3.8/site-packages/sklearn/model_selection/_validation.py:593: DataConversionWarning: A column-vector y was passed when a 1d array was expected. Please change the shape of y to (n_samples,), for example using ravel().\n",
      "  estimator.fit(X_train, y_train, **fit_params)\n",
      "/opt/anaconda3/lib/python3.8/site-packages/sklearn/model_selection/_validation.py:593: DataConversionWarning: A column-vector y was passed when a 1d array was expected. Please change the shape of y to (n_samples,), for example using ravel().\n",
      "  estimator.fit(X_train, y_train, **fit_params)\n",
      "/opt/anaconda3/lib/python3.8/site-packages/sklearn/model_selection/_validation.py:593: DataConversionWarning: A column-vector y was passed when a 1d array was expected. Please change the shape of y to (n_samples,), for example using ravel().\n",
      "  estimator.fit(X_train, y_train, **fit_params)\n",
      "/opt/anaconda3/lib/python3.8/site-packages/sklearn/model_selection/_validation.py:593: DataConversionWarning: A column-vector y was passed when a 1d array was expected. Please change the shape of y to (n_samples,), for example using ravel().\n",
      "  estimator.fit(X_train, y_train, **fit_params)\n",
      "/opt/anaconda3/lib/python3.8/site-packages/sklearn/model_selection/_validation.py:593: DataConversionWarning: A column-vector y was passed when a 1d array was expected. Please change the shape of y to (n_samples,), for example using ravel().\n",
      "  estimator.fit(X_train, y_train, **fit_params)\n",
      "/opt/anaconda3/lib/python3.8/site-packages/sklearn/model_selection/_validation.py:593: DataConversionWarning: A column-vector y was passed when a 1d array was expected. Please change the shape of y to (n_samples,), for example using ravel().\n",
      "  estimator.fit(X_train, y_train, **fit_params)\n",
      "/opt/anaconda3/lib/python3.8/site-packages/sklearn/model_selection/_validation.py:593: DataConversionWarning: A column-vector y was passed when a 1d array was expected. Please change the shape of y to (n_samples,), for example using ravel().\n",
      "  estimator.fit(X_train, y_train, **fit_params)\n",
      "/opt/anaconda3/lib/python3.8/site-packages/sklearn/model_selection/_validation.py:593: DataConversionWarning: A column-vector y was passed when a 1d array was expected. Please change the shape of y to (n_samples,), for example using ravel().\n",
      "  estimator.fit(X_train, y_train, **fit_params)\n",
      "/opt/anaconda3/lib/python3.8/site-packages/sklearn/model_selection/_validation.py:593: DataConversionWarning: A column-vector y was passed when a 1d array was expected. Please change the shape of y to (n_samples,), for example using ravel().\n",
      "  estimator.fit(X_train, y_train, **fit_params)\n",
      "/opt/anaconda3/lib/python3.8/site-packages/sklearn/model_selection/_validation.py:593: DataConversionWarning: A column-vector y was passed when a 1d array was expected. Please change the shape of y to (n_samples,), for example using ravel().\n",
      "  estimator.fit(X_train, y_train, **fit_params)\n",
      "/opt/anaconda3/lib/python3.8/site-packages/sklearn/model_selection/_validation.py:593: DataConversionWarning: A column-vector y was passed when a 1d array was expected. Please change the shape of y to (n_samples,), for example using ravel().\n",
      "  estimator.fit(X_train, y_train, **fit_params)\n",
      "/opt/anaconda3/lib/python3.8/site-packages/sklearn/model_selection/_validation.py:593: DataConversionWarning: A column-vector y was passed when a 1d array was expected. Please change the shape of y to (n_samples,), for example using ravel().\n",
      "  estimator.fit(X_train, y_train, **fit_params)\n",
      "/opt/anaconda3/lib/python3.8/site-packages/sklearn/model_selection/_validation.py:593: DataConversionWarning: A column-vector y was passed when a 1d array was expected. Please change the shape of y to (n_samples,), for example using ravel().\n",
      "  estimator.fit(X_train, y_train, **fit_params)\n",
      "/opt/anaconda3/lib/python3.8/site-packages/sklearn/model_selection/_validation.py:593: DataConversionWarning: A column-vector y was passed when a 1d array was expected. Please change the shape of y to (n_samples,), for example using ravel().\n",
      "  estimator.fit(X_train, y_train, **fit_params)\n",
      "/opt/anaconda3/lib/python3.8/site-packages/sklearn/model_selection/_validation.py:593: DataConversionWarning: A column-vector y was passed when a 1d array was expected. Please change the shape of y to (n_samples,), for example using ravel().\n",
      "  estimator.fit(X_train, y_train, **fit_params)\n",
      "/opt/anaconda3/lib/python3.8/site-packages/sklearn/model_selection/_validation.py:593: DataConversionWarning: A column-vector y was passed when a 1d array was expected. Please change the shape of y to (n_samples,), for example using ravel().\n",
      "  estimator.fit(X_train, y_train, **fit_params)\n",
      "/opt/anaconda3/lib/python3.8/site-packages/sklearn/model_selection/_validation.py:593: DataConversionWarning: A column-vector y was passed when a 1d array was expected. Please change the shape of y to (n_samples,), for example using ravel().\n",
      "  estimator.fit(X_train, y_train, **fit_params)\n",
      "/opt/anaconda3/lib/python3.8/site-packages/sklearn/model_selection/_validation.py:593: DataConversionWarning: A column-vector y was passed when a 1d array was expected. Please change the shape of y to (n_samples,), for example using ravel().\n",
      "  estimator.fit(X_train, y_train, **fit_params)\n",
      "/opt/anaconda3/lib/python3.8/site-packages/sklearn/model_selection/_validation.py:593: DataConversionWarning: A column-vector y was passed when a 1d array was expected. Please change the shape of y to (n_samples,), for example using ravel().\n",
      "  estimator.fit(X_train, y_train, **fit_params)\n",
      "/opt/anaconda3/lib/python3.8/site-packages/sklearn/model_selection/_validation.py:593: DataConversionWarning: A column-vector y was passed when a 1d array was expected. Please change the shape of y to (n_samples,), for example using ravel().\n",
      "  estimator.fit(X_train, y_train, **fit_params)\n",
      "/opt/anaconda3/lib/python3.8/site-packages/sklearn/model_selection/_validation.py:593: DataConversionWarning: A column-vector y was passed when a 1d array was expected. Please change the shape of y to (n_samples,), for example using ravel().\n",
      "  estimator.fit(X_train, y_train, **fit_params)\n",
      "/opt/anaconda3/lib/python3.8/site-packages/sklearn/model_selection/_validation.py:593: DataConversionWarning: A column-vector y was passed when a 1d array was expected. Please change the shape of y to (n_samples,), for example using ravel().\n",
      "  estimator.fit(X_train, y_train, **fit_params)\n",
      "/opt/anaconda3/lib/python3.8/site-packages/sklearn/model_selection/_validation.py:593: DataConversionWarning: A column-vector y was passed when a 1d array was expected. Please change the shape of y to (n_samples,), for example using ravel().\n",
      "  estimator.fit(X_train, y_train, **fit_params)\n",
      "/opt/anaconda3/lib/python3.8/site-packages/sklearn/model_selection/_validation.py:593: DataConversionWarning: A column-vector y was passed when a 1d array was expected. Please change the shape of y to (n_samples,), for example using ravel().\n",
      "  estimator.fit(X_train, y_train, **fit_params)\n",
      "/opt/anaconda3/lib/python3.8/site-packages/sklearn/model_selection/_validation.py:593: DataConversionWarning: A column-vector y was passed when a 1d array was expected. Please change the shape of y to (n_samples,), for example using ravel().\n",
      "  estimator.fit(X_train, y_train, **fit_params)\n"
     ]
    },
    {
     "name": "stderr",
     "output_type": "stream",
     "text": [
      "/opt/anaconda3/lib/python3.8/site-packages/sklearn/model_selection/_validation.py:593: DataConversionWarning: A column-vector y was passed when a 1d array was expected. Please change the shape of y to (n_samples,), for example using ravel().\n",
      "  estimator.fit(X_train, y_train, **fit_params)\n",
      "/opt/anaconda3/lib/python3.8/site-packages/sklearn/model_selection/_validation.py:593: DataConversionWarning: A column-vector y was passed when a 1d array was expected. Please change the shape of y to (n_samples,), for example using ravel().\n",
      "  estimator.fit(X_train, y_train, **fit_params)\n",
      "/opt/anaconda3/lib/python3.8/site-packages/sklearn/model_selection/_validation.py:593: DataConversionWarning: A column-vector y was passed when a 1d array was expected. Please change the shape of y to (n_samples,), for example using ravel().\n",
      "  estimator.fit(X_train, y_train, **fit_params)\n",
      "/opt/anaconda3/lib/python3.8/site-packages/sklearn/model_selection/_validation.py:593: DataConversionWarning: A column-vector y was passed when a 1d array was expected. Please change the shape of y to (n_samples,), for example using ravel().\n",
      "  estimator.fit(X_train, y_train, **fit_params)\n",
      "/opt/anaconda3/lib/python3.8/site-packages/sklearn/model_selection/_validation.py:593: DataConversionWarning: A column-vector y was passed when a 1d array was expected. Please change the shape of y to (n_samples,), for example using ravel().\n",
      "  estimator.fit(X_train, y_train, **fit_params)\n",
      "/opt/anaconda3/lib/python3.8/site-packages/sklearn/model_selection/_validation.py:593: DataConversionWarning: A column-vector y was passed when a 1d array was expected. Please change the shape of y to (n_samples,), for example using ravel().\n",
      "  estimator.fit(X_train, y_train, **fit_params)\n",
      "/opt/anaconda3/lib/python3.8/site-packages/sklearn/model_selection/_validation.py:593: DataConversionWarning: A column-vector y was passed when a 1d array was expected. Please change the shape of y to (n_samples,), for example using ravel().\n",
      "  estimator.fit(X_train, y_train, **fit_params)\n",
      "/opt/anaconda3/lib/python3.8/site-packages/sklearn/model_selection/_validation.py:593: DataConversionWarning: A column-vector y was passed when a 1d array was expected. Please change the shape of y to (n_samples,), for example using ravel().\n",
      "  estimator.fit(X_train, y_train, **fit_params)\n",
      "/opt/anaconda3/lib/python3.8/site-packages/sklearn/model_selection/_validation.py:593: DataConversionWarning: A column-vector y was passed when a 1d array was expected. Please change the shape of y to (n_samples,), for example using ravel().\n",
      "  estimator.fit(X_train, y_train, **fit_params)\n",
      "/opt/anaconda3/lib/python3.8/site-packages/sklearn/model_selection/_validation.py:593: DataConversionWarning: A column-vector y was passed when a 1d array was expected. Please change the shape of y to (n_samples,), for example using ravel().\n",
      "  estimator.fit(X_train, y_train, **fit_params)\n",
      "/opt/anaconda3/lib/python3.8/site-packages/sklearn/model_selection/_validation.py:593: DataConversionWarning: A column-vector y was passed when a 1d array was expected. Please change the shape of y to (n_samples,), for example using ravel().\n",
      "  estimator.fit(X_train, y_train, **fit_params)\n",
      "/opt/anaconda3/lib/python3.8/site-packages/sklearn/model_selection/_validation.py:593: DataConversionWarning: A column-vector y was passed when a 1d array was expected. Please change the shape of y to (n_samples,), for example using ravel().\n",
      "  estimator.fit(X_train, y_train, **fit_params)\n",
      "/opt/anaconda3/lib/python3.8/site-packages/sklearn/model_selection/_validation.py:593: DataConversionWarning: A column-vector y was passed when a 1d array was expected. Please change the shape of y to (n_samples,), for example using ravel().\n",
      "  estimator.fit(X_train, y_train, **fit_params)\n",
      "/opt/anaconda3/lib/python3.8/site-packages/sklearn/model_selection/_validation.py:593: DataConversionWarning: A column-vector y was passed when a 1d array was expected. Please change the shape of y to (n_samples,), for example using ravel().\n",
      "  estimator.fit(X_train, y_train, **fit_params)\n",
      "/opt/anaconda3/lib/python3.8/site-packages/sklearn/model_selection/_validation.py:593: DataConversionWarning: A column-vector y was passed when a 1d array was expected. Please change the shape of y to (n_samples,), for example using ravel().\n",
      "  estimator.fit(X_train, y_train, **fit_params)\n",
      "/opt/anaconda3/lib/python3.8/site-packages/sklearn/model_selection/_validation.py:593: DataConversionWarning: A column-vector y was passed when a 1d array was expected. Please change the shape of y to (n_samples,), for example using ravel().\n",
      "  estimator.fit(X_train, y_train, **fit_params)\n",
      "/opt/anaconda3/lib/python3.8/site-packages/sklearn/model_selection/_validation.py:593: DataConversionWarning: A column-vector y was passed when a 1d array was expected. Please change the shape of y to (n_samples,), for example using ravel().\n",
      "  estimator.fit(X_train, y_train, **fit_params)\n",
      "/opt/anaconda3/lib/python3.8/site-packages/sklearn/model_selection/_validation.py:593: DataConversionWarning: A column-vector y was passed when a 1d array was expected. Please change the shape of y to (n_samples,), for example using ravel().\n",
      "  estimator.fit(X_train, y_train, **fit_params)\n",
      "/opt/anaconda3/lib/python3.8/site-packages/sklearn/model_selection/_validation.py:593: DataConversionWarning: A column-vector y was passed when a 1d array was expected. Please change the shape of y to (n_samples,), for example using ravel().\n",
      "  estimator.fit(X_train, y_train, **fit_params)\n",
      "/opt/anaconda3/lib/python3.8/site-packages/sklearn/model_selection/_validation.py:593: DataConversionWarning: A column-vector y was passed when a 1d array was expected. Please change the shape of y to (n_samples,), for example using ravel().\n",
      "  estimator.fit(X_train, y_train, **fit_params)\n",
      "/opt/anaconda3/lib/python3.8/site-packages/sklearn/model_selection/_validation.py:593: DataConversionWarning: A column-vector y was passed when a 1d array was expected. Please change the shape of y to (n_samples,), for example using ravel().\n",
      "  estimator.fit(X_train, y_train, **fit_params)\n",
      "/opt/anaconda3/lib/python3.8/site-packages/sklearn/model_selection/_validation.py:593: DataConversionWarning: A column-vector y was passed when a 1d array was expected. Please change the shape of y to (n_samples,), for example using ravel().\n",
      "  estimator.fit(X_train, y_train, **fit_params)\n",
      "/opt/anaconda3/lib/python3.8/site-packages/sklearn/model_selection/_validation.py:593: DataConversionWarning: A column-vector y was passed when a 1d array was expected. Please change the shape of y to (n_samples,), for example using ravel().\n",
      "  estimator.fit(X_train, y_train, **fit_params)\n",
      "/opt/anaconda3/lib/python3.8/site-packages/sklearn/model_selection/_validation.py:593: DataConversionWarning: A column-vector y was passed when a 1d array was expected. Please change the shape of y to (n_samples,), for example using ravel().\n",
      "  estimator.fit(X_train, y_train, **fit_params)\n",
      "/opt/anaconda3/lib/python3.8/site-packages/sklearn/model_selection/_validation.py:593: DataConversionWarning: A column-vector y was passed when a 1d array was expected. Please change the shape of y to (n_samples,), for example using ravel().\n",
      "  estimator.fit(X_train, y_train, **fit_params)\n",
      "/opt/anaconda3/lib/python3.8/site-packages/sklearn/model_selection/_validation.py:593: DataConversionWarning: A column-vector y was passed when a 1d array was expected. Please change the shape of y to (n_samples,), for example using ravel().\n",
      "  estimator.fit(X_train, y_train, **fit_params)\n",
      "/opt/anaconda3/lib/python3.8/site-packages/sklearn/model_selection/_validation.py:593: DataConversionWarning: A column-vector y was passed when a 1d array was expected. Please change the shape of y to (n_samples,), for example using ravel().\n",
      "  estimator.fit(X_train, y_train, **fit_params)\n",
      "/opt/anaconda3/lib/python3.8/site-packages/sklearn/model_selection/_validation.py:593: DataConversionWarning: A column-vector y was passed when a 1d array was expected. Please change the shape of y to (n_samples,), for example using ravel().\n",
      "  estimator.fit(X_train, y_train, **fit_params)\n",
      "/opt/anaconda3/lib/python3.8/site-packages/sklearn/model_selection/_validation.py:593: DataConversionWarning: A column-vector y was passed when a 1d array was expected. Please change the shape of y to (n_samples,), for example using ravel().\n",
      "  estimator.fit(X_train, y_train, **fit_params)\n"
     ]
    },
    {
     "name": "stderr",
     "output_type": "stream",
     "text": [
      "/opt/anaconda3/lib/python3.8/site-packages/sklearn/model_selection/_validation.py:593: DataConversionWarning: A column-vector y was passed when a 1d array was expected. Please change the shape of y to (n_samples,), for example using ravel().\n",
      "  estimator.fit(X_train, y_train, **fit_params)\n",
      "/opt/anaconda3/lib/python3.8/site-packages/sklearn/model_selection/_validation.py:593: DataConversionWarning: A column-vector y was passed when a 1d array was expected. Please change the shape of y to (n_samples,), for example using ravel().\n",
      "  estimator.fit(X_train, y_train, **fit_params)\n",
      "/opt/anaconda3/lib/python3.8/site-packages/sklearn/model_selection/_validation.py:593: DataConversionWarning: A column-vector y was passed when a 1d array was expected. Please change the shape of y to (n_samples,), for example using ravel().\n",
      "  estimator.fit(X_train, y_train, **fit_params)\n",
      "/opt/anaconda3/lib/python3.8/site-packages/sklearn/model_selection/_validation.py:593: DataConversionWarning: A column-vector y was passed when a 1d array was expected. Please change the shape of y to (n_samples,), for example using ravel().\n",
      "  estimator.fit(X_train, y_train, **fit_params)\n",
      "/opt/anaconda3/lib/python3.8/site-packages/sklearn/model_selection/_validation.py:593: DataConversionWarning: A column-vector y was passed when a 1d array was expected. Please change the shape of y to (n_samples,), for example using ravel().\n",
      "  estimator.fit(X_train, y_train, **fit_params)\n",
      "/opt/anaconda3/lib/python3.8/site-packages/sklearn/model_selection/_validation.py:593: DataConversionWarning: A column-vector y was passed when a 1d array was expected. Please change the shape of y to (n_samples,), for example using ravel().\n",
      "  estimator.fit(X_train, y_train, **fit_params)\n",
      "/opt/anaconda3/lib/python3.8/site-packages/sklearn/model_selection/_validation.py:593: DataConversionWarning: A column-vector y was passed when a 1d array was expected. Please change the shape of y to (n_samples,), for example using ravel().\n",
      "  estimator.fit(X_train, y_train, **fit_params)\n",
      "/opt/anaconda3/lib/python3.8/site-packages/sklearn/model_selection/_validation.py:593: DataConversionWarning: A column-vector y was passed when a 1d array was expected. Please change the shape of y to (n_samples,), for example using ravel().\n",
      "  estimator.fit(X_train, y_train, **fit_params)\n",
      "/opt/anaconda3/lib/python3.8/site-packages/sklearn/model_selection/_validation.py:593: DataConversionWarning: A column-vector y was passed when a 1d array was expected. Please change the shape of y to (n_samples,), for example using ravel().\n",
      "  estimator.fit(X_train, y_train, **fit_params)\n",
      "/opt/anaconda3/lib/python3.8/site-packages/sklearn/model_selection/_validation.py:593: DataConversionWarning: A column-vector y was passed when a 1d array was expected. Please change the shape of y to (n_samples,), for example using ravel().\n",
      "  estimator.fit(X_train, y_train, **fit_params)\n",
      "/opt/anaconda3/lib/python3.8/site-packages/sklearn/model_selection/_validation.py:593: DataConversionWarning: A column-vector y was passed when a 1d array was expected. Please change the shape of y to (n_samples,), for example using ravel().\n",
      "  estimator.fit(X_train, y_train, **fit_params)\n",
      "/opt/anaconda3/lib/python3.8/site-packages/sklearn/model_selection/_validation.py:593: DataConversionWarning: A column-vector y was passed when a 1d array was expected. Please change the shape of y to (n_samples,), for example using ravel().\n",
      "  estimator.fit(X_train, y_train, **fit_params)\n",
      "/opt/anaconda3/lib/python3.8/site-packages/sklearn/model_selection/_validation.py:593: DataConversionWarning: A column-vector y was passed when a 1d array was expected. Please change the shape of y to (n_samples,), for example using ravel().\n",
      "  estimator.fit(X_train, y_train, **fit_params)\n",
      "/opt/anaconda3/lib/python3.8/site-packages/sklearn/model_selection/_validation.py:593: DataConversionWarning: A column-vector y was passed when a 1d array was expected. Please change the shape of y to (n_samples,), for example using ravel().\n",
      "  estimator.fit(X_train, y_train, **fit_params)\n",
      "/opt/anaconda3/lib/python3.8/site-packages/sklearn/model_selection/_validation.py:593: DataConversionWarning: A column-vector y was passed when a 1d array was expected. Please change the shape of y to (n_samples,), for example using ravel().\n",
      "  estimator.fit(X_train, y_train, **fit_params)\n",
      "/opt/anaconda3/lib/python3.8/site-packages/sklearn/model_selection/_validation.py:593: DataConversionWarning: A column-vector y was passed when a 1d array was expected. Please change the shape of y to (n_samples,), for example using ravel().\n",
      "  estimator.fit(X_train, y_train, **fit_params)\n",
      "/opt/anaconda3/lib/python3.8/site-packages/sklearn/model_selection/_validation.py:593: DataConversionWarning: A column-vector y was passed when a 1d array was expected. Please change the shape of y to (n_samples,), for example using ravel().\n",
      "  estimator.fit(X_train, y_train, **fit_params)\n",
      "/opt/anaconda3/lib/python3.8/site-packages/sklearn/model_selection/_validation.py:593: DataConversionWarning: A column-vector y was passed when a 1d array was expected. Please change the shape of y to (n_samples,), for example using ravel().\n",
      "  estimator.fit(X_train, y_train, **fit_params)\n",
      "/opt/anaconda3/lib/python3.8/site-packages/sklearn/model_selection/_validation.py:593: DataConversionWarning: A column-vector y was passed when a 1d array was expected. Please change the shape of y to (n_samples,), for example using ravel().\n",
      "  estimator.fit(X_train, y_train, **fit_params)\n",
      "/opt/anaconda3/lib/python3.8/site-packages/sklearn/model_selection/_validation.py:593: DataConversionWarning: A column-vector y was passed when a 1d array was expected. Please change the shape of y to (n_samples,), for example using ravel().\n",
      "  estimator.fit(X_train, y_train, **fit_params)\n",
      "/opt/anaconda3/lib/python3.8/site-packages/sklearn/model_selection/_validation.py:593: DataConversionWarning: A column-vector y was passed when a 1d array was expected. Please change the shape of y to (n_samples,), for example using ravel().\n",
      "  estimator.fit(X_train, y_train, **fit_params)\n",
      "/opt/anaconda3/lib/python3.8/site-packages/sklearn/model_selection/_validation.py:593: DataConversionWarning: A column-vector y was passed when a 1d array was expected. Please change the shape of y to (n_samples,), for example using ravel().\n",
      "  estimator.fit(X_train, y_train, **fit_params)\n",
      "/opt/anaconda3/lib/python3.8/site-packages/sklearn/model_selection/_validation.py:593: DataConversionWarning: A column-vector y was passed when a 1d array was expected. Please change the shape of y to (n_samples,), for example using ravel().\n",
      "  estimator.fit(X_train, y_train, **fit_params)\n",
      "/opt/anaconda3/lib/python3.8/site-packages/sklearn/model_selection/_validation.py:593: DataConversionWarning: A column-vector y was passed when a 1d array was expected. Please change the shape of y to (n_samples,), for example using ravel().\n",
      "  estimator.fit(X_train, y_train, **fit_params)\n",
      "/opt/anaconda3/lib/python3.8/site-packages/sklearn/model_selection/_validation.py:593: DataConversionWarning: A column-vector y was passed when a 1d array was expected. Please change the shape of y to (n_samples,), for example using ravel().\n",
      "  estimator.fit(X_train, y_train, **fit_params)\n",
      "/opt/anaconda3/lib/python3.8/site-packages/sklearn/model_selection/_validation.py:593: DataConversionWarning: A column-vector y was passed when a 1d array was expected. Please change the shape of y to (n_samples,), for example using ravel().\n",
      "  estimator.fit(X_train, y_train, **fit_params)\n",
      "/opt/anaconda3/lib/python3.8/site-packages/sklearn/model_selection/_validation.py:593: DataConversionWarning: A column-vector y was passed when a 1d array was expected. Please change the shape of y to (n_samples,), for example using ravel().\n",
      "  estimator.fit(X_train, y_train, **fit_params)\n",
      "/opt/anaconda3/lib/python3.8/site-packages/sklearn/model_selection/_validation.py:593: DataConversionWarning: A column-vector y was passed when a 1d array was expected. Please change the shape of y to (n_samples,), for example using ravel().\n",
      "  estimator.fit(X_train, y_train, **fit_params)\n",
      "/opt/anaconda3/lib/python3.8/site-packages/sklearn/model_selection/_validation.py:593: DataConversionWarning: A column-vector y was passed when a 1d array was expected. Please change the shape of y to (n_samples,), for example using ravel().\n",
      "  estimator.fit(X_train, y_train, **fit_params)\n"
     ]
    },
    {
     "name": "stderr",
     "output_type": "stream",
     "text": [
      "/opt/anaconda3/lib/python3.8/site-packages/sklearn/model_selection/_validation.py:593: DataConversionWarning: A column-vector y was passed when a 1d array was expected. Please change the shape of y to (n_samples,), for example using ravel().\n",
      "  estimator.fit(X_train, y_train, **fit_params)\n",
      "/opt/anaconda3/lib/python3.8/site-packages/sklearn/model_selection/_validation.py:593: DataConversionWarning: A column-vector y was passed when a 1d array was expected. Please change the shape of y to (n_samples,), for example using ravel().\n",
      "  estimator.fit(X_train, y_train, **fit_params)\n",
      "/opt/anaconda3/lib/python3.8/site-packages/sklearn/model_selection/_validation.py:593: DataConversionWarning: A column-vector y was passed when a 1d array was expected. Please change the shape of y to (n_samples,), for example using ravel().\n",
      "  estimator.fit(X_train, y_train, **fit_params)\n",
      "/opt/anaconda3/lib/python3.8/site-packages/sklearn/model_selection/_search.py:880: DataConversionWarning: A column-vector y was passed when a 1d array was expected. Please change the shape of y to (n_samples,), for example using ravel().\n",
      "  self.best_estimator_.fit(X, y, **fit_params)\n"
     ]
    },
    {
     "data": {
      "text/plain": [
       "GridSearchCV(cv=5, estimator=RandomForestClassifier(),\n",
       "             param_grid={'max_features': array([ 1,  2,  3,  4,  5,  6,  7,  8,  9, 10, 11, 12, 13, 14, 15, 16, 17,\n",
       "       18], dtype=int32),\n",
       "                         'min_samples_leaf': [5], 'n_estimators': [500],\n",
       "                         'random_state': [88]},\n",
       "             scoring='neg_log_loss')"
      ]
     },
     "execution_count": 54,
     "metadata": {},
     "output_type": "execute_result"
    }
   ],
   "source": [
    "# find suitable parameters\n",
    "from sklearn.model_selection import GridSearchCV\n",
    "\n",
    "grid_values = {'max_features': np.linspace(1,,18, dtype='int32'),\n",
    "               'min_samples_leaf': [5],\n",
    "               'n_estimators': [500],\n",
    "               'random_state': [88]} \n",
    "\n",
    "rf2 = RandomForestClassifier() \n",
    "rf_cv = GridSearchCV(rf2, param_grid=grid_values, scoring='neg_log_loss', cv=5)\n",
    "rf_cv.fit(X1_train, y1_train)"
   ]
  },
  {
   "cell_type": "code",
   "execution_count": 55,
   "metadata": {},
   "outputs": [
    {
     "data": {
      "text/plain": [
       "<Figure size 576x432 with 0 Axes>"
      ]
     },
     "execution_count": 55,
     "metadata": {},
     "output_type": "execute_result"
    },
    {
     "data": {
      "text/plain": [
       "Text(0.5, 0, 'max features')"
      ]
     },
     "execution_count": 55,
     "metadata": {},
     "output_type": "execute_result"
    },
    {
     "data": {
      "text/plain": [
       "Text(0, 0.5, 'CV CE')"
      ]
     },
     "execution_count": 55,
     "metadata": {},
     "output_type": "execute_result"
    },
    {
     "data": {
      "text/plain": [
       "<matplotlib.collections.PathCollection at 0x7fd861d6c7c0>"
      ]
     },
     "execution_count": 55,
     "metadata": {},
     "output_type": "execute_result"
    },
    {
     "data": {
      "text/plain": [
       "[<matplotlib.lines.Line2D at 0x7fd861d6cf70>]"
      ]
     },
     "execution_count": 55,
     "metadata": {},
     "output_type": "execute_result"
    },
    {
     "data": {
      "text/plain": [
       "(1.0, 19.0)"
      ]
     },
     "execution_count": 55,
     "metadata": {},
     "output_type": "execute_result"
    },
    {
     "data": {
      "text/plain": [
       "(0.3, 0.6)"
      ]
     },
     "execution_count": 55,
     "metadata": {},
     "output_type": "execute_result"
    },
    {
     "data": {
      "image/png": "[encoded data removed]",
      "text/plain": [
       "<Figure size 576x432 with 1 Axes>"
      ]
     },
     "metadata": {
      "needs_background": "light"
     },
     "output_type": "display_data"
    }
   ],
   "source": [
    "max_features = rf_cv.cv_results_['param_max_features'].data\n",
    "ce_scores = rf_cv.cv_results_['mean_test_score']\n",
    "\n",
    "plt.figure(figsize=(8, 6))\n",
    "plt.xlabel('max features', fontsize=16)\n",
    "plt.ylabel('CV CE', fontsize=16)\n",
    "plt.scatter(max_features, ce_scores, s=30)\n",
    "plt.plot(max_features, ce_scores, linewidth=3)\n",
    "plt.grid(True, which='both')\n",
    "plt.xlim([1, 19])plt.ylim([0.3, 0.6])"
   ]
  },
  {
   "cell_type": "code",
   "execution_count": 90,
   "metadata": {},
   "outputs": [
    {
     "data": {
      "text/html": [
       "<div>\n",
       "<style scoped>\n",
       "    .dataframe tbody tr th:only-of-type {\n",
       "        vertical-align: middle;\n",
       "    }\n",
       "\n",
       "    .dataframe tbody tr th {\n",
       "        vertical-align: top;\n",
       "    }\n",
       "\n",
       "    .dataframe thead th {\n",
       "        text-align: right;\n",
       "    }\n",
       "</style>\n",
       "<table border=\"1\" class=\"dataframe\">\n",
       "  <thead>\n",
       "    <tr style=\"text-align: right;\">\n",
       "      <th></th>\n",
       "      <th>Feature</th>\n",
       "      <th>Importance score</th>\n",
       "    </tr>\n",
       "  </thead>\n",
       "  <tbody>\n",
       "    <tr>\n",
       "      <th>75</th>\n",
       "      <td>Region ID_clicks_216.0</td>\n",
       "      <td>11.6</td>\n",
       "    </tr>\n",
       "    <tr>\n",
       "      <th>5</th>\n",
       "      <td>Paying Price</td>\n",
       "      <td>10.3</td>\n",
       "    </tr>\n",
       "    <tr>\n",
       "      <th>27</th>\n",
       "      <td>11278</td>\n",
       "      <td>8.9</td>\n",
       "    </tr>\n",
       "    <tr>\n",
       "      <th>67</th>\n",
       "      <td>Region ID_clicks_94.0</td>\n",
       "      <td>7.7</td>\n",
       "    </tr>\n",
       "    <tr>\n",
       "      <th>8</th>\n",
       "      <td>10031</td>\n",
       "      <td>4.1</td>\n",
       "    </tr>\n",
       "    <tr>\n",
       "      <th>2</th>\n",
       "      <td>Ad Slot Floor Price</td>\n",
       "      <td>3.4</td>\n",
       "    </tr>\n",
       "    <tr>\n",
       "      <th>4</th>\n",
       "      <td>Timestamp_imp</td>\n",
       "      <td>3.3</td>\n",
       "    </tr>\n",
       "    <tr>\n",
       "      <th>0</th>\n",
       "      <td>Ad Slot Width</td>\n",
       "      <td>2.9</td>\n",
       "    </tr>\n",
       "    <tr>\n",
       "      <th>3</th>\n",
       "      <td>Bidding Price</td>\n",
       "      <td>2.8</td>\n",
       "    </tr>\n",
       "    <tr>\n",
       "      <th>59</th>\n",
       "      <td>Region ID_clicks_3.0</td>\n",
       "      <td>2.4</td>\n",
       "    </tr>\n",
       "    <tr>\n",
       "      <th>88</th>\n",
       "      <td>Advertiser ID_1458</td>\n",
       "      <td>2.4</td>\n",
       "    </tr>\n",
       "    <tr>\n",
       "      <th>36</th>\n",
       "      <td>13042</td>\n",
       "      <td>2.3</td>\n",
       "    </tr>\n",
       "    <tr>\n",
       "      <th>1</th>\n",
       "      <td>Ad Slot Height</td>\n",
       "      <td>2.3</td>\n",
       "    </tr>\n",
       "    <tr>\n",
       "      <th>72</th>\n",
       "      <td>Region ID_clicks_164.0</td>\n",
       "      <td>1.9</td>\n",
       "    </tr>\n",
       "    <tr>\n",
       "      <th>23</th>\n",
       "      <td>10110</td>\n",
       "      <td>1.6</td>\n",
       "    </tr>\n",
       "    <tr>\n",
       "      <th>13</th>\n",
       "      <td>10063</td>\n",
       "      <td>1.6</td>\n",
       "    </tr>\n",
       "    <tr>\n",
       "      <th>7</th>\n",
       "      <td>10024</td>\n",
       "      <td>1.6</td>\n",
       "    </tr>\n",
       "    <tr>\n",
       "      <th>6</th>\n",
       "      <td>10006</td>\n",
       "      <td>1.5</td>\n",
       "    </tr>\n",
       "    <tr>\n",
       "      <th>24</th>\n",
       "      <td>10111</td>\n",
       "      <td>1.5</td>\n",
       "    </tr>\n",
       "    <tr>\n",
       "      <th>91</th>\n",
       "      <td>Advertiser ID_3427</td>\n",
       "      <td>1.4</td>\n",
       "    </tr>\n",
       "    <tr>\n",
       "      <th>10</th>\n",
       "      <td>10052</td>\n",
       "      <td>1.4</td>\n",
       "    </tr>\n",
       "    <tr>\n",
       "      <th>25</th>\n",
       "      <td>10684</td>\n",
       "      <td>1.4</td>\n",
       "    </tr>\n",
       "    <tr>\n",
       "      <th>41</th>\n",
       "      <td>13800</td>\n",
       "      <td>1.2</td>\n",
       "    </tr>\n",
       "    <tr>\n",
       "      <th>44</th>\n",
       "      <td>14273</td>\n",
       "      <td>1.1</td>\n",
       "    </tr>\n",
       "    <tr>\n",
       "      <th>16</th>\n",
       "      <td>10075</td>\n",
       "      <td>1.1</td>\n",
       "    </tr>\n",
       "    <tr>\n",
       "      <th>90</th>\n",
       "      <td>Advertiser ID_3386</td>\n",
       "      <td>1.1</td>\n",
       "    </tr>\n",
       "    <tr>\n",
       "      <th>20</th>\n",
       "      <td>10083</td>\n",
       "      <td>1.0</td>\n",
       "    </tr>\n",
       "    <tr>\n",
       "      <th>11</th>\n",
       "      <td>10057</td>\n",
       "      <td>1.0</td>\n",
       "    </tr>\n",
       "    <tr>\n",
       "      <th>37</th>\n",
       "      <td>13403</td>\n",
       "      <td>1.0</td>\n",
       "    </tr>\n",
       "    <tr>\n",
       "      <th>89</th>\n",
       "      <td>Advertiser ID_3358</td>\n",
       "      <td>0.9</td>\n",
       "    </tr>\n",
       "    <tr>\n",
       "      <th>49</th>\n",
       "      <td>Ad Slot Visibility_0</td>\n",
       "      <td>0.9</td>\n",
       "    </tr>\n",
       "    <tr>\n",
       "      <th>12</th>\n",
       "      <td>10059</td>\n",
       "      <td>0.9</td>\n",
       "    </tr>\n",
       "    <tr>\n",
       "      <th>42</th>\n",
       "      <td>13866</td>\n",
       "      <td>0.9</td>\n",
       "    </tr>\n",
       "    <tr>\n",
       "      <th>50</th>\n",
       "      <td>Ad Slot Visibility_1</td>\n",
       "      <td>0.8</td>\n",
       "    </tr>\n",
       "    <tr>\n",
       "      <th>18</th>\n",
       "      <td>10077</td>\n",
       "      <td>0.8</td>\n",
       "    </tr>\n",
       "    <tr>\n",
       "      <th>51</th>\n",
       "      <td>Ad Slot Visibility_2</td>\n",
       "      <td>0.8</td>\n",
       "    </tr>\n",
       "    <tr>\n",
       "      <th>76</th>\n",
       "      <td>Region ID_clicks_238.0</td>\n",
       "      <td>0.7</td>\n",
       "    </tr>\n",
       "    <tr>\n",
       "      <th>40</th>\n",
       "      <td>13776</td>\n",
       "      <td>0.7</td>\n",
       "    </tr>\n",
       "    <tr>\n",
       "      <th>9</th>\n",
       "      <td>10048</td>\n",
       "      <td>0.6</td>\n",
       "    </tr>\n",
       "    <tr>\n",
       "      <th>82</th>\n",
       "      <td>Region ID_clicks_333.0</td>\n",
       "      <td>0.6</td>\n",
       "    </tr>\n",
       "    <tr>\n",
       "      <th>57</th>\n",
       "      <td>Region ID_clicks_1.0</td>\n",
       "      <td>0.6</td>\n",
       "    </tr>\n",
       "    <tr>\n",
       "      <th>71</th>\n",
       "      <td>Region ID_clicks_146.0</td>\n",
       "      <td>0.6</td>\n",
       "    </tr>\n",
       "    <tr>\n",
       "      <th>54</th>\n",
       "      <td>Ad Slot Format_1</td>\n",
       "      <td>0.6</td>\n",
       "    </tr>\n",
       "    <tr>\n",
       "      <th>53</th>\n",
       "      <td>Ad Slot Format_0</td>\n",
       "      <td>0.5</td>\n",
       "    </tr>\n",
       "    <tr>\n",
       "      <th>55</th>\n",
       "      <td>Ad Slot Format_5</td>\n",
       "      <td>0.5</td>\n",
       "    </tr>\n",
       "    <tr>\n",
       "      <th>92</th>\n",
       "      <td>Advertiser ID_3476</td>\n",
       "      <td>0.5</td>\n",
       "    </tr>\n",
       "    <tr>\n",
       "      <th>17</th>\n",
       "      <td>10076</td>\n",
       "      <td>0.5</td>\n",
       "    </tr>\n",
       "    <tr>\n",
       "      <th>21</th>\n",
       "      <td>10093</td>\n",
       "      <td>0.4</td>\n",
       "    </tr>\n",
       "    <tr>\n",
       "      <th>14</th>\n",
       "      <td>10067</td>\n",
       "      <td>0.3</td>\n",
       "    </tr>\n",
       "    <tr>\n",
       "      <th>45</th>\n",
       "      <td>16593</td>\n",
       "      <td>0.2</td>\n",
       "    </tr>\n",
       "  </tbody>\n",
       "</table>\n",
       "</div>"
      ],
      "text/plain": [
       "                   Feature  Importance score\n",
       "75  Region ID_clicks_216.0              11.6\n",
       "5             Paying Price              10.3\n",
       "27                   11278               8.9\n",
       "67   Region ID_clicks_94.0               7.7\n",
       "8                    10031               4.1\n",
       "2      Ad Slot Floor Price               3.4\n",
       "4            Timestamp_imp               3.3\n",
       "0            Ad Slot Width               2.9\n",
       "3            Bidding Price               2.8\n",
       "59    Region ID_clicks_3.0               2.4\n",
       "88      Advertiser ID_1458               2.4\n",
       "36                   13042               2.3\n",
       "1           Ad Slot Height               2.3\n",
       "72  Region ID_clicks_164.0               1.9\n",
       "23                   10110               1.6\n",
       "13                   10063               1.6\n",
       "7                    10024               1.6\n",
       "6                    10006               1.5\n",
       "24                   10111               1.5\n",
       "91      Advertiser ID_3427               1.4\n",
       "10                   10052               1.4\n",
       "25                   10684               1.4\n",
       "41                   13800               1.2\n",
       "44                   14273               1.1\n",
       "16                   10075               1.1\n",
       "90      Advertiser ID_3386               1.1\n",
       "20                   10083               1.0\n",
       "11                   10057               1.0\n",
       "37                   13403               1.0\n",
       "89      Advertiser ID_3358               0.9\n",
       "49    Ad Slot Visibility_0               0.9\n",
       "12                   10059               0.9\n",
       "42                   13866               0.9\n",
       "50    Ad Slot Visibility_1               0.8\n",
       "18                   10077               0.8\n",
       "51    Ad Slot Visibility_2               0.8\n",
       "76  Region ID_clicks_238.0               0.7\n",
       "40                   13776               0.7\n",
       "9                    10048               0.6\n",
       "82  Region ID_clicks_333.0               0.6\n",
       "57    Region ID_clicks_1.0               0.6\n",
       "71  Region ID_clicks_146.0               0.6\n",
       "54        Ad Slot Format_1               0.6\n",
       "53        Ad Slot Format_0               0.5\n",
       "55        Ad Slot Format_5               0.5\n",
       "92      Advertiser ID_3476               0.5\n",
       "17                   10076               0.5\n",
       "21                   10093               0.4\n",
       "14                   10067               0.3\n",
       "45                   16593               0.2"
      ]
     },
     "execution_count": 90,
     "metadata": {},
     "output_type": "execute_result"
    }
   ],
   "source": [
    "# top 50 importance score\n",
    "top50_is = importance_score.sort_values('Importance score',ascending=False).head(50)\n",
    "top50_is"
   ]
  },
  {
   "cell_type": "code",
   "execution_count": 74,
   "metadata": {},
   "outputs": [
    {
     "data": {
      "text/plain": [
       "<Figure size 1440x720 with 0 Axes>"
      ]
     },
     "execution_count": 74,
     "metadata": {},
     "output_type": "execute_result"
    },
    {
     "data": {
      "text/plain": [
       "<BarContainer object of 20 artists>"
      ]
     },
     "execution_count": 74,
     "metadata": {},
     "output_type": "execute_result"
    },
    {
     "data": {
      "image/png": "[encoded data removed]",
      "text/plain": [
       "<Figure size 1440x720 with 1 Axes>"
      ]
     },
     "metadata": {
      "needs_background": "light"
     },
     "output_type": "display_data"
    }
   ],
   "source": [
    "plt.figure(figsize=(20,10))\n",
    "plt.barh(top20_is['Feature'],top20_is['Importance score'])"
   ]
  },
  {
   "cell_type": "code",
   "execution_count": 98,
   "metadata": {},
   "outputs": [
    {
     "data": {
      "text/plain": [
       "array(['Region ID_clicks_216.0', 'Paying Price', '11278',\n",
       "       'Region ID_clicks_94.0', '10031', 'Ad Slot Floor Price',\n",
       "       'Timestamp_imp', 'Ad Slot Width', 'Bidding Price',\n",
       "       'Region ID_clicks_3.0', 'Advertiser ID_1458', '13042',\n",
       "       'Ad Slot Height', 'Region ID_clicks_164.0', '10110', '10063',\n",
       "       '10024', '10006', '10111', 'Advertiser ID_3427'], dtype=object)"
      ]
     },
     "execution_count": 98,
     "metadata": {},
     "output_type": "execute_result"
    }
   ],
   "source": [
    "top20_is['Feature'].values"
   ]
  },
  {
   "cell_type": "code",
   "execution_count": 99,
   "metadata": {},
   "outputs": [
    {
     "data": {
      "text/plain": [
       "<Figure size 1440x720 with 0 Axes>"
      ]
     },
     "execution_count": 99,
     "metadata": {},
     "output_type": "execute_result"
    },
    {
     "data": {
      "text/plain": [
       "<BarContainer object of 20 artists>"
      ]
     },
     "execution_count": 99,
     "metadata": {},
     "output_type": "execute_result"
    },
    {
     "name": "stderr",
     "output_type": "stream",
     "text": [
      "/opt/anaconda3/lib/python3.8/site-packages/matplotlib/backends/backend_agg.py:238: RuntimeWarning: Glyph 12289 missing from current font.\n",
      "  font.set_text(s, 0.0, flags=flags)\n",
      "/opt/anaconda3/lib/python3.8/site-packages/matplotlib/backends/backend_agg.py:201: RuntimeWarning: Glyph 12289 missing from current font.\n",
      "  font.set_text(s, 0, flags=flags)\n"
     ]
    },
    {
     "data": {
      "image/png": "[encoded data removed]",
      "text/plain": [
       "<Figure size 1440x720 with 1 Axes>"
      ]
     },
     "metadata": {
      "needs_background": "light"
     },
     "output_type": "display_data"
    }
   ],
   "source": [
    "top20_map = {'Region ID_clicks_216.0':'guangdong','Paying Price':'Payting price', '11278':'In-market/clothing、shoes&bags',\n",
    "       'Region ID_clicks_94.0':'zhejiang', '10031':'Long-term interest/automobile', 'Ad Slot Floor Price':'Ad Slot Floor Price',\n",
    "       'Timestamp_imp':'Timestamp_imp', 'Ad Slot Width':'Ad Slot Width', 'Bidding Price':'Bidding Price',\n",
    "       'Region ID_clicks_3.0':'hebei', 'Advertiser ID_1458':'Chinese vertical e-commerce', '13042':'In-market/automobile',\n",
    "       'Ad Slot Height': 'Ad Slot Height', 'Region ID_clicks_164.0':'henan', '10110':'Demographic/gender/male', '10063':'Long-term interest/entertainment',\n",
    "       '10024':'Long-term interest/eduation', '10006':'Long-term interest/news', '10111':'Demographic/gender/famale', \n",
    "       'Advertiser ID_3427':'Oil'}\n",
    "top20_is['Feature'] = top20_is['Feature'].map(top20_map)\n",
    "plt.figure(figsize=(20,10))\n",
    "plt.barh(top20_is['Feature'],top20_is['Importance score'])"
   ]
  },
  {
   "cell_type": "code",
   "execution_count": 78,
   "metadata": {
    "collapsed": true
   },
   "outputs": [
    {
     "data": {
      "text/plain": [
       "75    Region ID_clicks_216.0\n",
       "5               Paying Price\n",
       "27                     11278\n",
       "67     Region ID_clicks_94.0\n",
       "8                      10031\n",
       "2        Ad Slot Floor Price\n",
       "4              Timestamp_imp\n",
       "0              Ad Slot Width\n",
       "3              Bidding Price\n",
       "59      Region ID_clicks_3.0\n",
       "88        Advertiser ID_1458\n",
       "36                     13042\n",
       "1             Ad Slot Height\n",
       "72    Region ID_clicks_164.0\n",
       "23                     10110\n",
       "13                     10063\n",
       "7                      10024\n",
       "6                      10006\n",
       "24                     10111\n",
       "91        Advertiser ID_3427\n",
       "10                     10052\n",
       "25                     10684\n",
       "41                     13800\n",
       "44                     14273\n",
       "16                     10075\n",
       "90        Advertiser ID_3386\n",
       "20                     10083\n",
       "11                     10057\n",
       "37                     13403\n",
       "89        Advertiser ID_3358\n",
       "49      Ad Slot Visibility_0\n",
       "12                     10059\n",
       "42                     13866\n",
       "50      Ad Slot Visibility_1\n",
       "18                     10077\n",
       "51      Ad Slot Visibility_2\n",
       "76    Region ID_clicks_238.0\n",
       "40                     13776\n",
       "9                      10048\n",
       "82    Region ID_clicks_333.0\n",
       "57      Region ID_clicks_1.0\n",
       "71    Region ID_clicks_146.0\n",
       "54          Ad Slot Format_1\n",
       "53          Ad Slot Format_0\n",
       "55          Ad Slot Format_5\n",
       "92        Advertiser ID_3476\n",
       "17                     10076\n",
       "21                     10093\n",
       "14                     10067\n",
       "45                     16593\n",
       "Name: Feature, dtype: object"
      ]
     },
     "execution_count": 78,
     "metadata": {},
     "output_type": "execute_result"
    }
   ],
   "source": [
    "top50_is['Feature']"
   ]
  },
  {
   "cell_type": "code",
   "execution_count": 80,
   "metadata": {},
   "outputs": [
    {
     "data": {
      "text/plain": [
       "array(['Region ID_clicks_216.0', 'Paying Price', '11278',\n",
       "       'Region ID_clicks_94.0', '10031', 'Ad Slot Floor Price',\n",
       "       'Timestamp_imp', 'Ad Slot Width', 'Bidding Price',\n",
       "       'Region ID_clicks_3.0', 'Advertiser ID_1458', '13042',\n",
       "       'Ad Slot Height', 'Region ID_clicks_164.0', '10110', '10063',\n",
       "       '10024', '10006', '10111', 'Advertiser ID_3427', '10052', '10684',\n",
       "       '13800', '14273', '10075', 'Advertiser ID_3386', '10083', '10057',\n",
       "       '13403', 'Advertiser ID_3358', 'Ad Slot Visibility_0', '10059',\n",
       "       '13866', 'Ad Slot Visibility_1', '10077', 'Ad Slot Visibility_2',\n",
       "       'Region ID_clicks_238.0', '13776', '10048',\n",
       "       'Region ID_clicks_333.0', 'Region ID_clicks_1.0',\n",
       "       'Region ID_clicks_146.0', 'Ad Slot Format_1', 'Ad Slot Format_0',\n",
       "       'Ad Slot Format_5', 'Advertiser ID_3476', '10076', '10093',\n",
       "       '10067', '16593'], dtype=object)"
      ]
     },
     "execution_count": 80,
     "metadata": {},
     "output_type": "execute_result"
    }
   ],
   "source": [
    "top50_is['Feature'].values"
   ]
  },
  {
   "cell_type": "code",
   "execution_count": 86,
   "metadata": {},
   "outputs": [],
   "source": [
    " top50_map = {'Region ID_clicks_216.0':'guangdong','Paying Price':'Payting price', '11278':'In-market/clothing、shoes&bags',\n",
    "       'Region ID_clicks_94.0':'zhejiang', '10031':'Long-term interest/automobile', 'Ad Slot Floor Price':'Ad Slot Floor Price',\n",
    "       'Timestamp_imp':'Timestamp_imp', 'Ad Slot Width':'Ad Slot Width', 'Bidding Price':'Bidding Price',\n",
    "       'Region ID_clicks_3.0':'hebei', 'Advertiser ID_1458':'Chinese vertical e-commerce', '13042':'In-market/automobile',\n",
    "       'Ad Slot Height': 'Ad Slot Height', 'Region ID_clicks_164.0':'henan', '10110':'Demographic/gender/male', '10063':'Long-term interest/entertainment',\n",
    "       '10024':'Long-term interest/eduation', '10006':'Long-term interest/news', '10111':'Demographic/gender/famale', \n",
    "       'Advertiser ID_3427':'Oil', '10052':'Long-term interest/IT', '10684':'In-market/3c product',\n",
    "       '13800':'Long-term interest/art&photography&design', '14273':'Long-term interest/3c', '10075':'Long-term interest/health', \n",
    "       'Advertiser ID_3386':'International e-commerce', '10083':'Long-term interest/sports', '10057':'Long-term interest/electronic game',\n",
    "       '13403':'In-market/finance', 'Advertiser ID_3358':'Software', 'Ad Slot Visibility_0':'Ad Slot Visibility_0', '10059':'Long-term interest/fashion',\n",
    "       '13866':'Long-term interest/online literature', 'Ad Slot Visibility_1':'above the fold', '10077':'Long-term interest/divine', 'Ad Slot Visibility_2':'below the fold',\n",
    "       'Region ID_clicks_238.0':'guangxi', '13776':'In-market/service', '10048':'Long-term interest/real estate',\n",
    "       'Region ID_clicks_333.0':'shannxi', 'Region ID_clicks_1.0':'beijing',\n",
    "       'Region ID_clicks_146.0':'shandong', 'Ad Slot Format_1':'fixed slot format', 'Ad Slot Format_0':'Ad Slot Format_0',\n",
    "       'Ad Slot Format_5':'Ad Slot Format_5', 'Advertiser ID_3476':'Tire', '10076':'Long-term interest/food', '10093':'Long-term interest/travel&outdoors',\n",
    "       '10067':'Long-term interest/luxury', '16593':'In-market/book'}"
   ]
  },
  {
   "cell_type": "code",
   "execution_count": 91,
   "metadata": {},
   "outputs": [],
   "source": [
    "top50_is['Feature'] = top50_is['Feature'].map(top50_map)"
   ]
  },
  {
   "cell_type": "code",
   "execution_count": 92,
   "metadata": {},
   "outputs": [
    {
     "data": {
      "text/html": [
       "<div>\n",
       "<style scoped>\n",
       "    .dataframe tbody tr th:only-of-type {\n",
       "        vertical-align: middle;\n",
       "    }\n",
       "\n",
       "    .dataframe tbody tr th {\n",
       "        vertical-align: top;\n",
       "    }\n",
       "\n",
       "    .dataframe thead th {\n",
       "        text-align: right;\n",
       "    }\n",
       "</style>\n",
       "<table border=\"1\" class=\"dataframe\">\n",
       "  <thead>\n",
       "    <tr style=\"text-align: right;\">\n",
       "      <th></th>\n",
       "      <th>Feature</th>\n",
       "      <th>Importance score</th>\n",
       "    </tr>\n",
       "  </thead>\n",
       "  <tbody>\n",
       "    <tr>\n",
       "      <th>75</th>\n",
       "      <td>guangdong</td>\n",
       "      <td>11.6</td>\n",
       "    </tr>\n",
       "    <tr>\n",
       "      <th>5</th>\n",
       "      <td>Payting price</td>\n",
       "      <td>10.3</td>\n",
       "    </tr>\n",
       "    <tr>\n",
       "      <th>27</th>\n",
       "      <td>In-market/clothing、shoes&amp;bags</td>\n",
       "      <td>8.9</td>\n",
       "    </tr>\n",
       "    <tr>\n",
       "      <th>67</th>\n",
       "      <td>zhejiang</td>\n",
       "      <td>7.7</td>\n",
       "    </tr>\n",
       "    <tr>\n",
       "      <th>8</th>\n",
       "      <td>Long-term interest/automobile</td>\n",
       "      <td>4.1</td>\n",
       "    </tr>\n",
       "    <tr>\n",
       "      <th>2</th>\n",
       "      <td>Ad Slot Floor Price</td>\n",
       "      <td>3.4</td>\n",
       "    </tr>\n",
       "    <tr>\n",
       "      <th>4</th>\n",
       "      <td>Timestamp_imp</td>\n",
       "      <td>3.3</td>\n",
       "    </tr>\n",
       "    <tr>\n",
       "      <th>0</th>\n",
       "      <td>Ad Slot Width</td>\n",
       "      <td>2.9</td>\n",
       "    </tr>\n",
       "    <tr>\n",
       "      <th>3</th>\n",
       "      <td>Bidding Price</td>\n",
       "      <td>2.8</td>\n",
       "    </tr>\n",
       "    <tr>\n",
       "      <th>59</th>\n",
       "      <td>hebei</td>\n",
       "      <td>2.4</td>\n",
       "    </tr>\n",
       "    <tr>\n",
       "      <th>88</th>\n",
       "      <td>Chinese vertical e-commerce</td>\n",
       "      <td>2.4</td>\n",
       "    </tr>\n",
       "    <tr>\n",
       "      <th>36</th>\n",
       "      <td>In-market/automobile</td>\n",
       "      <td>2.3</td>\n",
       "    </tr>\n",
       "    <tr>\n",
       "      <th>1</th>\n",
       "      <td>Ad Slot Height</td>\n",
       "      <td>2.3</td>\n",
       "    </tr>\n",
       "    <tr>\n",
       "      <th>72</th>\n",
       "      <td>henan</td>\n",
       "      <td>1.9</td>\n",
       "    </tr>\n",
       "    <tr>\n",
       "      <th>23</th>\n",
       "      <td>Demographic/gender/male</td>\n",
       "      <td>1.6</td>\n",
       "    </tr>\n",
       "    <tr>\n",
       "      <th>13</th>\n",
       "      <td>Long-term interest/entertainment</td>\n",
       "      <td>1.6</td>\n",
       "    </tr>\n",
       "    <tr>\n",
       "      <th>7</th>\n",
       "      <td>Long-term interest/eduation</td>\n",
       "      <td>1.6</td>\n",
       "    </tr>\n",
       "    <tr>\n",
       "      <th>6</th>\n",
       "      <td>Long-term interest/news</td>\n",
       "      <td>1.5</td>\n",
       "    </tr>\n",
       "    <tr>\n",
       "      <th>24</th>\n",
       "      <td>Demographic/gender/famale</td>\n",
       "      <td>1.5</td>\n",
       "    </tr>\n",
       "    <tr>\n",
       "      <th>91</th>\n",
       "      <td>Oil</td>\n",
       "      <td>1.4</td>\n",
       "    </tr>\n",
       "    <tr>\n",
       "      <th>10</th>\n",
       "      <td>Long-term interest/IT</td>\n",
       "      <td>1.4</td>\n",
       "    </tr>\n",
       "    <tr>\n",
       "      <th>25</th>\n",
       "      <td>In-market/3c product</td>\n",
       "      <td>1.4</td>\n",
       "    </tr>\n",
       "    <tr>\n",
       "      <th>41</th>\n",
       "      <td>Long-term interest/art&amp;photography&amp;design</td>\n",
       "      <td>1.2</td>\n",
       "    </tr>\n",
       "    <tr>\n",
       "      <th>44</th>\n",
       "      <td>Long-term interest/3c</td>\n",
       "      <td>1.1</td>\n",
       "    </tr>\n",
       "    <tr>\n",
       "      <th>16</th>\n",
       "      <td>Long-term interest/health</td>\n",
       "      <td>1.1</td>\n",
       "    </tr>\n",
       "    <tr>\n",
       "      <th>90</th>\n",
       "      <td>International e-commerce</td>\n",
       "      <td>1.1</td>\n",
       "    </tr>\n",
       "    <tr>\n",
       "      <th>20</th>\n",
       "      <td>Long-term interest/sports</td>\n",
       "      <td>1.0</td>\n",
       "    </tr>\n",
       "    <tr>\n",
       "      <th>11</th>\n",
       "      <td>Long-term interest/electronic game</td>\n",
       "      <td>1.0</td>\n",
       "    </tr>\n",
       "    <tr>\n",
       "      <th>37</th>\n",
       "      <td>In-market/finance</td>\n",
       "      <td>1.0</td>\n",
       "    </tr>\n",
       "    <tr>\n",
       "      <th>89</th>\n",
       "      <td>Software</td>\n",
       "      <td>0.9</td>\n",
       "    </tr>\n",
       "    <tr>\n",
       "      <th>49</th>\n",
       "      <td>Ad Slot Visibility_0</td>\n",
       "      <td>0.9</td>\n",
       "    </tr>\n",
       "    <tr>\n",
       "      <th>12</th>\n",
       "      <td>Long-term interest/fashion</td>\n",
       "      <td>0.9</td>\n",
       "    </tr>\n",
       "    <tr>\n",
       "      <th>42</th>\n",
       "      <td>Long-term interest/online literature</td>\n",
       "      <td>0.9</td>\n",
       "    </tr>\n",
       "    <tr>\n",
       "      <th>50</th>\n",
       "      <td>above the fold</td>\n",
       "      <td>0.8</td>\n",
       "    </tr>\n",
       "    <tr>\n",
       "      <th>18</th>\n",
       "      <td>Long-term interest/divine</td>\n",
       "      <td>0.8</td>\n",
       "    </tr>\n",
       "    <tr>\n",
       "      <th>51</th>\n",
       "      <td>below the fold</td>\n",
       "      <td>0.8</td>\n",
       "    </tr>\n",
       "    <tr>\n",
       "      <th>76</th>\n",
       "      <td>guangxi</td>\n",
       "      <td>0.7</td>\n",
       "    </tr>\n",
       "    <tr>\n",
       "      <th>40</th>\n",
       "      <td>In-market/service</td>\n",
       "      <td>0.7</td>\n",
       "    </tr>\n",
       "    <tr>\n",
       "      <th>9</th>\n",
       "      <td>Long-term interest/real estate</td>\n",
       "      <td>0.6</td>\n",
       "    </tr>\n",
       "    <tr>\n",
       "      <th>82</th>\n",
       "      <td>shannxi</td>\n",
       "      <td>0.6</td>\n",
       "    </tr>\n",
       "    <tr>\n",
       "      <th>57</th>\n",
       "      <td>beijing</td>\n",
       "      <td>0.6</td>\n",
       "    </tr>\n",
       "    <tr>\n",
       "      <th>71</th>\n",
       "      <td>shandong</td>\n",
       "      <td>0.6</td>\n",
       "    </tr>\n",
       "    <tr>\n",
       "      <th>54</th>\n",
       "      <td>fixed slot format</td>\n",
       "      <td>0.6</td>\n",
       "    </tr>\n",
       "    <tr>\n",
       "      <th>53</th>\n",
       "      <td>Ad Slot Format_0</td>\n",
       "      <td>0.5</td>\n",
       "    </tr>\n",
       "    <tr>\n",
       "      <th>55</th>\n",
       "      <td>Ad Slot Format_5</td>\n",
       "      <td>0.5</td>\n",
       "    </tr>\n",
       "    <tr>\n",
       "      <th>92</th>\n",
       "      <td>Tire</td>\n",
       "      <td>0.5</td>\n",
       "    </tr>\n",
       "    <tr>\n",
       "      <th>17</th>\n",
       "      <td>Long-term interest/food</td>\n",
       "      <td>0.5</td>\n",
       "    </tr>\n",
       "    <tr>\n",
       "      <th>21</th>\n",
       "      <td>Long-term interest/travel&amp;outdoors</td>\n",
       "      <td>0.4</td>\n",
       "    </tr>\n",
       "    <tr>\n",
       "      <th>14</th>\n",
       "      <td>Long-term interest/luxury</td>\n",
       "      <td>0.3</td>\n",
       "    </tr>\n",
       "    <tr>\n",
       "      <th>45</th>\n",
       "      <td>In-market/book</td>\n",
       "      <td>0.2</td>\n",
       "    </tr>\n",
       "  </tbody>\n",
       "</table>\n",
       "</div>"
      ],
      "text/plain": [
       "                                      Feature  Importance score\n",
       "75                                  guangdong              11.6\n",
       "5                               Payting price              10.3\n",
       "27              In-market/clothing、shoes&bags               8.9\n",
       "67                                   zhejiang               7.7\n",
       "8               Long-term interest/automobile               4.1\n",
       "2                         Ad Slot Floor Price               3.4\n",
       "4                               Timestamp_imp               3.3\n",
       "0                               Ad Slot Width               2.9\n",
       "3                               Bidding Price               2.8\n",
       "59                                      hebei               2.4\n",
       "88                Chinese vertical e-commerce               2.4\n",
       "36                       In-market/automobile               2.3\n",
       "1                              Ad Slot Height               2.3\n",
       "72                                      henan               1.9\n",
       "23                    Demographic/gender/male               1.6\n",
       "13           Long-term interest/entertainment               1.6\n",
       "7                 Long-term interest/eduation               1.6\n",
       "6                     Long-term interest/news               1.5\n",
       "24                  Demographic/gender/famale               1.5\n",
       "91                                        Oil               1.4\n",
       "10                      Long-term interest/IT               1.4\n",
       "25                       In-market/3c product               1.4\n",
       "41  Long-term interest/art&photography&design               1.2\n",
       "44                      Long-term interest/3c               1.1\n",
       "16                  Long-term interest/health               1.1\n",
       "90                   International e-commerce               1.1\n",
       "20                  Long-term interest/sports               1.0\n",
       "11         Long-term interest/electronic game               1.0\n",
       "37                          In-market/finance               1.0\n",
       "89                                   Software               0.9\n",
       "49                       Ad Slot Visibility_0               0.9\n",
       "12                 Long-term interest/fashion               0.9\n",
       "42       Long-term interest/online literature               0.9\n",
       "50                             above the fold               0.8\n",
       "18                  Long-term interest/divine               0.8\n",
       "51                             below the fold               0.8\n",
       "76                                    guangxi               0.7\n",
       "40                          In-market/service               0.7\n",
       "9              Long-term interest/real estate               0.6\n",
       "82                                    shannxi               0.6\n",
       "57                                    beijing               0.6\n",
       "71                                   shandong               0.6\n",
       "54                          fixed slot format               0.6\n",
       "53                           Ad Slot Format_0               0.5\n",
       "55                           Ad Slot Format_5               0.5\n",
       "92                                       Tire               0.5\n",
       "17                    Long-term interest/food               0.5\n",
       "21         Long-term interest/travel&outdoors               0.4\n",
       "14                  Long-term interest/luxury               0.3\n",
       "45                             In-market/book               0.2"
      ]
     },
     "execution_count": 92,
     "metadata": {},
     "output_type": "execute_result"
    }
   ],
   "source": [
    "top50_is"
   ]
  },
  {
   "cell_type": "code",
   "execution_count": 93,
   "metadata": {},
   "outputs": [
    {
     "data": {
      "text/plain": [
       "<Figure size 1440x720 with 0 Axes>"
      ]
     },
     "execution_count": 93,
     "metadata": {},
     "output_type": "execute_result"
    },
    {
     "data": {
      "text/plain": [
       "<BarContainer object of 50 artists>"
      ]
     },
     "execution_count": 93,
     "metadata": {},
     "output_type": "execute_result"
    },
    {
     "name": "stderr",
     "output_type": "stream",
     "text": [
      "/opt/anaconda3/lib/python3.8/site-packages/matplotlib/backends/backend_agg.py:238: RuntimeWarning: Glyph 12289 missing from current font.\n",
      "  font.set_text(s, 0.0, flags=flags)\n",
      "/opt/anaconda3/lib/python3.8/site-packages/matplotlib/backends/backend_agg.py:201: RuntimeWarning: Glyph 12289 missing from current font.\n",
      "  font.set_text(s, 0, flags=flags)\n"
     ]
    },
    {
     "data": {
      "image/png": "[encoded data removed]",
      "text/plain": [
       "<Figure size 1440x720 with 1 Axes>"
      ]
     },
     "metadata": {
      "needs_background": "light"
     },
     "output_type": "display_data"
    }
   ],
   "source": [
    "plt.figure(figsize=(20,10))\n",
    "plt.barh(top50_is['Feature'],top50_is['Importance score'])"
   ]
  },
  {
   "cell_type": "code",
   "execution_count": 65,
   "metadata": {},
   "outputs": [
    {
     "data": {
      "text/plain": [
       "<Figure size 1440x720 with 0 Axes>"
      ]
     },
     "execution_count": 65,
     "metadata": {},
     "output_type": "execute_result"
    },
    {
     "data": {
      "text/plain": [
       "<BarContainer object of 93 artists>"
      ]
     },
     "execution_count": 65,
     "metadata": {},
     "output_type": "execute_result"
    },
    {
     "data": {
      "image/png": "[encoded data removed]",
      "text/plain": [
       "<Figure size 1440x720 with 1 Axes>"
      ]
     },
     "metadata": {
      "needs_background": "light"
     },
     "output_type": "display_data"
    }
   ],
   "source": [
    "plt.figure(figsize=(20,10))\n",
    "plt.barh(X1_train.columns, 100*rf_cv.best_estimator_.feature_importances_)\n",
    "plt.show()"
   ]
  }
 ],
 "metadata": {
  "colab": {
   "collapsed_sections": [],
   "name": "Data Modeling.ipynb",
   "provenance": []
  },
  "kernelspec": {
   "display_name": "Python 3",
   "language": "python",
   "name": "python3"
  },
  "language_info": {
   "codemirror_mode": {
    "name": "ipython",
    "version": 3
   },
   "file_extension": ".py",
   "mimetype": "text/x-python",
   "name": "python",
   "nbconvert_exporter": "python",
   "pygments_lexer": "ipython3",
   "version": "3.8.8"
  }
 },
 "nbformat": 4,
 "nbformat_minor": 1
}
