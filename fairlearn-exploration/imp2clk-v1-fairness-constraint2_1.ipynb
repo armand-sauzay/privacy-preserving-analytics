{
 "cells": [
  {
   "cell_type": "markdown",
   "metadata": {},
   "source": [
    "### Record"
   ]
  },
  {
   "cell_type": "markdown",
   "metadata": {},
   "source": [
    "This version is used for comparing the tradeoff\n",
    "\n",
    "----\n",
    "Process\n",
    "1. Data preparation\n",
    "   * \\# of rows: 131097, # of clicks: 6091\n",
    "   * choose gender as sensitive attribute \n",
    "   * \\# of rows: 131097 -> 88652\n",
    " \n",
    "2. Choose baseline model\n",
    "    * logitsic regression predicting all the obs to 0\n",
    "        * tpr and fpr are 0 when c changes from 0.01 to 10000\n",
    "    * label predictions of cart changes as ccp_alpha changes\n",
    "        * use default threshold\n",
    "        * choose ccp_alpha in terms of tpr and fpr\n",
    "3. Evaluate fairness in the baseline model using testing data\n",
    "4. Incorparate fairness constraint\n",
    "    * default\n",
    "    * a list of difference_bound\n",
    "    * a list of ratio_bound\n",
    "5. Tradeoff \n",
    "    * percentage change of tpr and fpr\n",
    "----\n",
    "\n",
    "Question\n",
    "\n",
    "1. What metrics to use for choosing hyperparameters in cart and random forest?\n",
    "2.  Can we implement logistic regression in fairlearn?\n"
   ]
  },
  {
   "cell_type": "code",
   "execution_count": 1,
   "metadata": {},
   "outputs": [],
   "source": [
    "import pandas as pd\n",
    "import numpy as np\n",
    "import datetime as dt\n",
    "import matplotlib.pyplot as plt \n",
    "import seaborn as sns\n",
    "from sklearn.ensemble import RandomForestClassifier\n",
    "from sklearn.tree import DecisionTreeClassifier\n",
    "from fairlearn.metrics import MetricFrame\n",
    "# from sklearn.metrics import log_loss"
   ]
  },
  {
   "cell_type": "markdown",
   "metadata": {},
   "source": [
    "## Fairlearn package"
   ]
  },
  {
   "cell_type": "markdown",
   "metadata": {},
   "source": [
    "#### Example"
   ]
  },
  {
   "cell_type": "code",
   "execution_count": null,
   "metadata": {},
   "outputs": [],
   "source": [
    "from sklearn.datasets import fetch_openml\n",
    "from sklearn.metrics import accuracy_score\n",
    "data = fetch_openml(data_id=1590, as_frame=True)\n",
    "X = pd.get_dummies(data.data)\n",
    "y_true = (data.target == '>50K') * 1\n",
    "sex = data.data['sex']"
   ]
  },
  {
   "cell_type": "code",
   "execution_count": null,
   "metadata": {},
   "outputs": [],
   "source": [
    "sex.value_counts()"
   ]
  },
  {
   "cell_type": "code",
   "execution_count": null,
   "metadata": {},
   "outputs": [],
   "source": [
    "32650 + 16192"
   ]
  },
  {
   "cell_type": "code",
   "execution_count": null,
   "metadata": {},
   "outputs": [],
   "source": [
    "X.shape"
   ]
  },
  {
   "cell_type": "markdown",
   "metadata": {},
   "source": [
    "#### evaluating fairness"
   ]
  },
  {
   "cell_type": "code",
   "execution_count": null,
   "metadata": {},
   "outputs": [],
   "source": [
    "classifier_test = DecisionTreeClassifier(min_samples_leaf=10, max_depth=4)\n",
    "classifier_test.fit(X, y_true)\n",
    "y_pred = classifier_test.predict(X)\n",
    "gm = MetricFrame(accuracy_score, y_true, y_pred, sensitive_features=sex)\n",
    "print(gm.overall)"
   ]
  },
  {
   "cell_type": "code",
   "execution_count": null,
   "metadata": {},
   "outputs": [],
   "source": [
    "print(gm.by_group)"
   ]
  },
  {
   "cell_type": "code",
   "execution_count": null,
   "metadata": {},
   "outputs": [],
   "source": [
    "sex"
   ]
  },
  {
   "cell_type": "code",
   "execution_count": null,
   "metadata": {},
   "outputs": [],
   "source": [
    "X[['sex_Female','sex_Male']].head()"
   ]
  },
  {
   "cell_type": "markdown",
   "metadata": {},
   "source": [
    "### Evaluating fairness"
   ]
  },
  {
   "cell_type": "code",
   "execution_count": 32,
   "metadata": {},
   "outputs": [
    {
     "data": {
      "text/plain": [
       "Index(['Timestamp_impressions', 'Region ID_impressions', 'Ad Exchange',\n",
       "       'Ad Slot Width', 'Ad Slot Height', 'Ad Slot Visibility',\n",
       "       'Ad Slot Format', 'Ad Slot Floor Price', 'Bidding Price',\n",
       "       'Paying Price', 'Advertiser ID', '10006', '10024', '10031', '10048',\n",
       "       '10052', '10057', '10059', '10063', '10067', '10074', '10075', '10076',\n",
       "       '10077', '10079', '10083', '10093', '10102', 'is_male', '10684',\n",
       "       '11092', '11278', '11379', '11423', '11512', '11576', '11632', '11680',\n",
       "       '11724', '11944', '13042', '13403', '13496', '13678', '13776', '13800',\n",
       "       '13866', '13874', '14273', '16593', '16617', '16661', '16706'],\n",
       "      dtype='object')"
      ]
     },
     "execution_count": 32,
     "metadata": {},
     "output_type": "execute_result"
    }
   ],
   "source": [
    "X1_test.columns"
   ]
  },
  {
   "cell_type": "code",
   "execution_count": 56,
   "metadata": {},
   "outputs": [],
   "source": [
    "# Sensitive attribute 10110\n",
    "gender = X1_test['is_male']"
   ]
  },
  {
   "cell_type": "markdown",
   "metadata": {},
   "source": [
    "## Metigating disparity "
   ]
  },
  {
   "cell_type": "markdown",
   "metadata": {},
   "source": [
    "#### CART"
   ]
  },
  {
   "cell_type": "code",
   "execution_count": 34,
   "metadata": {},
   "outputs": [],
   "source": [
    "classifier_dtc = DecisionTreeClassifier(ccp_alpha=0.01, min_samples_leaf=5, min_samples_split=20, max_depth=30, random_state=88)"
   ]
  },
  {
   "cell_type": "code",
   "execution_count": 35,
   "metadata": {},
   "outputs": [
    {
     "name": "stdout",
     "output_type": "stream",
     "text": [
      "time: 18.61 s\n"
     ]
    }
   ],
   "source": [
    "from fairlearn.reductions import ExponentiatedGradient, DemographicParity\n",
    "import time \n",
    "\n",
    "tic = time.time()\n",
    "\n",
    "np.random.seed(0)\n",
    "constraint = DemographicParity()\n",
    "mitigator_dtc = ExponentiatedGradient(classifier_dtc, constraint)\n",
    "mitigator_dtc.fit(X1_test_enc, y1_test_enc, sensitive_features=gender)\n",
    "\n",
    "toc = time.time()\n",
    "\n",
    "print('time:', round(toc-tic, 2),'s')"
   ]
  },
  {
   "cell_type": "code",
   "execution_count": 36,
   "metadata": {},
   "outputs": [],
   "source": [
    "y1_pred_dtc_mitigated = mitigator_rf.predict(X1_test_enc)"
   ]
  },
  {
   "cell_type": "code",
   "execution_count": 37,
   "metadata": {},
   "outputs": [],
   "source": [
    "from sklearn.metrics import confusion_matrix\n",
    "\n",
    "def tpr(y_true, y_pred):\n",
    "    cm = confusion_matrix(y_true, y_pred)\n",
    "    tpr = cm.ravel()[3] / (cm.ravel()[2] + cm.ravel()[3])\n",
    "    return tpr\n",
    "\n",
    "def fpr(y_true, y_pred):\n",
    "    cm = confusion_matrix(y_true, y_pred)\n",
    "    fpr = cm.ravel()[1] / (cm.ravel()[0] + cm.ravel()[1])\n",
    "    return fpr"
   ]
  },
  {
   "cell_type": "markdown",
   "metadata": {},
   "source": [
    "#### TPR"
   ]
  },
  {
   "cell_type": "code",
   "execution_count": 40,
   "metadata": {},
   "outputs": [],
   "source": [
    "tpr_dtc_mitigated = MetricFrame(tpr, y1_test_enc, y1_pred_dtc_mitigated, sensitive_features=gender)"
   ]
  },
  {
   "cell_type": "code",
   "execution_count": 41,
   "metadata": {
    "scrolled": true
   },
   "outputs": [
    {
     "name": "stdout",
     "output_type": "stream",
     "text": [
      "0.557711950970378\n"
     ]
    }
   ],
   "source": [
    "print(tpr_dtc_mitigated.overall)"
   ]
  },
  {
   "cell_type": "code",
   "execution_count": 42,
   "metadata": {},
   "outputs": [
    {
     "name": "stdout",
     "output_type": "stream",
     "text": [
      "is_male\n",
      "0.0    0.538012\n",
      "1.0    0.572983\n",
      "Name: tpr, dtype: object\n"
     ]
    }
   ],
   "source": [
    "print(tpr_dtc_mitigated.by_group)"
   ]
  },
  {
   "cell_type": "markdown",
   "metadata": {},
   "source": [
    "#### FPR"
   ]
  },
  {
   "cell_type": "code",
   "execution_count": 45,
   "metadata": {},
   "outputs": [
    {
     "name": "stdout",
     "output_type": "stream",
     "text": [
      "Mitigated fpr of CART is:  0.0030599196200219217\n",
      "Mitigated fpr of CART by group is:\n",
      " is_male\n",
      "0.0    0.003241\n",
      "1.0    0.002968\n",
      "Name: fpr, dtype: object\n"
     ]
    }
   ],
   "source": [
    "fpr_dtc_mitigated = MetricFrame(fpr, y1_test_enc, y1_pred_dtc_mitigated, sensitive_features=gender)\n",
    "print('Mitigated fpr of CART is: ', fpr_dtc_mitigated.overall)\n",
    "print('Mitigated fpr of CART by group is:\\n', fpr_dtc_mitigated.by_group)"
   ]
  },
  {
   "cell_type": "markdown",
   "metadata": {},
   "source": [
    "#### Comparison with baseline"
   ]
  },
  {
   "cell_type": "code",
   "execution_count": 53,
   "metadata": {},
   "outputs": [
    {
     "data": {
      "text/plain": [
       "0.13057324840764334"
      ]
     },
     "execution_count": 53,
     "metadata": {},
     "output_type": "execute_result"
    }
   ],
   "source": [
    "# percentage decrease of TPR\n",
    "(tpr_dtc - tpr_dtc_mitigated.overall)/tpr_dtc"
   ]
  },
  {
   "cell_type": "code",
   "execution_count": 55,
   "metadata": {},
   "outputs": [
    {
     "data": {
      "text/plain": [
       "0.06944444444444449"
      ]
     },
     "execution_count": 55,
     "metadata": {},
     "output_type": "execute_result"
    }
   ],
   "source": [
    "# percentage decrease of FPR\n",
    "(fpr_dtc - fpr_dtc_mitigated.overall) / fpr_dtc"
   ]
  },
  {
   "cell_type": "markdown",
   "metadata": {},
   "source": [
    "#### Tradeoff"
   ]
  },
  {
   "cell_type": "code",
   "execution_count": 84,
   "metadata": {},
   "outputs": [],
   "source": [
    "# a list of difference_bound\n",
    "bound_list = list(np.linspace(0, 0.05, 50))\n",
    "# relative change of tpr\n",
    "tpr_dtc_list = [np.nan]*len(bound_list)\n",
    "# relative change of fpr\n",
    "fpr_dtc_list = [np.nan]*len(bound_list)"
   ]
  },
  {
   "cell_type": "code",
   "execution_count": 85,
   "metadata": {},
   "outputs": [],
   "source": [
    "from fairlearn.reductions import ExponentiatedGradient, DemographicParity\n",
    "from sklearn.metrics import confusion_matrix\n",
    "import time\n",
    "\n",
    "\n",
    "def tpr(y_true, y_pred):\n",
    "    cm = confusion_matrix(y_true, y_pred)\n",
    "    tpr = cm.ravel()[3] / (cm.ravel()[2] + cm.ravel()[3])\n",
    "    return tpr\n",
    "\n",
    "def fpr(y_true, y_pred):\n",
    "    cm = confusion_matrix(y_true, y_pred)\n",
    "    fpr = cm.ravel()[1] / (cm.ravel()[0] + cm.ravel()[1])\n",
    "    return fpr\n",
    "\n",
    "# baseline\n",
    "classifier_dtc = DecisionTreeClassifier(ccp_alpha=0.01, min_samples_leaf=5, \n",
    "                                            min_samples_split=20, max_depth=30, random_state=88)\n",
    "\n",
    "tic = time.time()\n",
    "\n",
    "for i in range(len(bound_list)):\n",
    "    sample_i = bound_list[i]\n",
    "    # mitigating disparity\n",
    "    np.random.seed(0)\n",
    "    constraint = DemographicParity(difference_bound=sample_i)\n",
    "    mitigator_dtc = ExponentiatedGradient(classifier_dtc, constraint)\n",
    "    mitigator_dtc.fit(X1_train_enc, y1_train_enc, sensitive_features=gender)\n",
    "    y1_pred_dtc = mitigator_dtc.predict(X1_test_enc)\n",
    "    \n",
    "    # evaluating fairness in terms of tpr\n",
    "    tpr_dtc_mitigated_i = MetricFrame(tpr, y1_test_enc, y1_pred_dtc, sensitive_features=gender)\n",
    "    relative_change_tpr_i = (tpr_dtc - tpr_dtc_mitigated_i.overall) / tpr_dtc\n",
    "    tpr_dtc_list[i] = relative_change_tpr_i\n",
    "    \n",
    "    #evaluating fairness in terms of fpr\n",
    "    fpr_dtc_mitigated_i = MetricFrame(fpr, y1_test_enc, y1_pred_dtc, sensitive_features=gender)\n",
    "    relative_change_fpr_i = (fpr_dtc - fpr_dtc_mitigated_i.overall) / fpr_dtc\n",
    "    fpr_dtc_list[i] = relative_change_fpr_i\n",
    "    \n",
    "toc = time.time()\n",
    "\n",
    "print('time:', round(toc-tic,2), 's')"
   ]
  },
  {
   "cell_type": "code",
   "execution_count": 87,
   "metadata": {},
   "outputs": [
    {
     "data": {
      "text/plain": [
       "[0.24681528662420385,\n",
       " 0.23566878980891723,\n",
       " 0.22213375796178345,\n",
       " 0.20302547770700638,\n",
       " 0.19187898089171976,\n",
       " 0.18232484076433125,\n",
       " 0.17197452229299376,\n",
       " 0.16321656050955427,\n",
       " 0.15047770700636948,\n",
       " 0.14251592356687895,\n",
       " 0.12738853503184724,\n",
       " 0.12181528662420382,\n",
       " 0.10907643312101922,\n",
       " 0.10191082802547768,\n",
       " 0.08757961783439494,\n",
       " 0.07563694267515932,\n",
       " 0.0732484076433122,\n",
       " 0.05971337579617844,\n",
       " 0.051751592356687914,\n",
       " 0.042197452229299416,\n",
       " 0.0302547770700638,\n",
       " 0.017515923566879022,\n",
       " 0.0015923566878981402,\n",
       " 0.0,\n",
       " 0.0,\n",
       " 0.0,\n",
       " 0.0,\n",
       " 0.0,\n",
       " 0.0,\n",
       " 0.0,\n",
       " 0.0,\n",
       " 0.0,\n",
       " 0.0,\n",
       " 0.0,\n",
       " 0.0,\n",
       " 0.0,\n",
       " 0.0,\n",
       " 0.0,\n",
       " 0.0,\n",
       " 0.0,\n",
       " 0.0,\n",
       " 0.0,\n",
       " 0.0,\n",
       " 0.0,\n",
       " 0.0,\n",
       " 0.0,\n",
       " 0.0,\n",
       " 0.0,\n",
       " 0.0,\n",
       " 0.0]"
      ]
     },
     "execution_count": 87,
     "metadata": {},
     "output_type": "execute_result"
    }
   ],
   "source": [
    "tpr_dtc_list\n",
    "# tpr_dtc_list_r = list(reversed(tpr_dtc_list))"
   ]
  },
  {
   "cell_type": "code",
   "execution_count": 88,
   "metadata": {},
   "outputs": [],
   "source": [
    "fpr_dtc_list\n",
    "# fpr_dtc_list_r = list(reversed(fpr_dtc_list))"
   ]
  },
  {
   "cell_type": "code",
   "execution_count": 91,
   "metadata": {},
   "outputs": [],
   "source": [
    "comparison_dtc = pd.DataFrame({'difference_bound':bound_list, \n",
    "                               'decrease%_TPR': tpr_dtc_list, 'decrease%_FPR': fpr_dtc_list})"
   ]
  },
  {
   "cell_type": "code",
   "execution_count": 93,
   "metadata": {},
   "outputs": [
    {
     "data": {
      "text/html": [
       "<div>\n",
       "<style scoped>\n",
       "    .dataframe tbody tr th:only-of-type {\n",
       "        vertical-align: middle;\n",
       "    }\n",
       "\n",
       "    .dataframe tbody tr th {\n",
       "        vertical-align: top;\n",
       "    }\n",
       "\n",
       "    .dataframe thead th {\n",
       "        text-align: right;\n",
       "    }\n",
       "</style>\n",
       "<table border=\"1\" class=\"dataframe\">\n",
       "  <thead>\n",
       "    <tr style=\"text-align: right;\">\n",
       "      <th></th>\n",
       "      <th>difference_bound</th>\n",
       "      <th>decrease%_TPR</th>\n",
       "      <th>decrease%_FPR</th>\n",
       "    </tr>\n",
       "  </thead>\n",
       "  <tbody>\n",
       "    <tr>\n",
       "      <th>0</th>\n",
       "      <td>0.000000</td>\n",
       "      <td>0.246815</td>\n",
       "      <td>0.152778</td>\n",
       "    </tr>\n",
       "    <tr>\n",
       "      <th>1</th>\n",
       "      <td>0.001020</td>\n",
       "      <td>0.235669</td>\n",
       "      <td>0.152778</td>\n",
       "    </tr>\n",
       "    <tr>\n",
       "      <th>2</th>\n",
       "      <td>0.002041</td>\n",
       "      <td>0.222134</td>\n",
       "      <td>0.152778</td>\n",
       "    </tr>\n",
       "    <tr>\n",
       "      <th>3</th>\n",
       "      <td>0.003061</td>\n",
       "      <td>0.203025</td>\n",
       "      <td>0.152778</td>\n",
       "    </tr>\n",
       "    <tr>\n",
       "      <th>4</th>\n",
       "      <td>0.004082</td>\n",
       "      <td>0.191879</td>\n",
       "      <td>0.152778</td>\n",
       "    </tr>\n",
       "    <tr>\n",
       "      <th>5</th>\n",
       "      <td>0.005102</td>\n",
       "      <td>0.182325</td>\n",
       "      <td>0.125000</td>\n",
       "    </tr>\n",
       "    <tr>\n",
       "      <th>6</th>\n",
       "      <td>0.006122</td>\n",
       "      <td>0.171975</td>\n",
       "      <td>0.125000</td>\n",
       "    </tr>\n",
       "    <tr>\n",
       "      <th>7</th>\n",
       "      <td>0.007143</td>\n",
       "      <td>0.163217</td>\n",
       "      <td>0.097222</td>\n",
       "    </tr>\n",
       "    <tr>\n",
       "      <th>8</th>\n",
       "      <td>0.008163</td>\n",
       "      <td>0.150478</td>\n",
       "      <td>0.097222</td>\n",
       "    </tr>\n",
       "    <tr>\n",
       "      <th>9</th>\n",
       "      <td>0.009184</td>\n",
       "      <td>0.142516</td>\n",
       "      <td>0.083333</td>\n",
       "    </tr>\n",
       "  </tbody>\n",
       "</table>\n",
       "</div>"
      ],
      "text/plain": [
       "   difference_bound  decrease%_TPR  decrease%_FPR\n",
       "0          0.000000       0.246815       0.152778\n",
       "1          0.001020       0.235669       0.152778\n",
       "2          0.002041       0.222134       0.152778\n",
       "3          0.003061       0.203025       0.152778\n",
       "4          0.004082       0.191879       0.152778\n",
       "5          0.005102       0.182325       0.125000\n",
       "6          0.006122       0.171975       0.125000\n",
       "7          0.007143       0.163217       0.097222\n",
       "8          0.008163       0.150478       0.097222\n",
       "9          0.009184       0.142516       0.083333"
      ]
     },
     "execution_count": 93,
     "metadata": {},
     "output_type": "execute_result"
    }
   ],
   "source": [
    "comparison_dtc.head(10)"
   ]
  },
  {
   "cell_type": "code",
   "execution_count": 89,
   "metadata": {},
   "outputs": [
    {
     "data": {
      "text/plain": [
       "<matplotlib.collections.PathCollection at 0x7f8fd71c4190>"
      ]
     },
     "execution_count": 89,
     "metadata": {},
     "output_type": "execute_result"
    },
    {
     "data": {
      "image/png": "[encoded data removed]",
      "text/plain": [
       "<Figure size 576x432 with 1 Axes>"
      ]
     },
     "metadata": {
      "needs_background": "light"
     },
     "output_type": "display_data"
    }
   ],
   "source": [
    "import matplotlib.pyplot as plt\n",
    "\n",
    "plt.figure(figsize=(8,6))\n",
    "plt.title('Decision Tree Classifier', fontsize=16)\n",
    "plt.xlabel('relative decrease of TPR', fontsize=16)\n",
    "plt.ylabel('relative decrease of FPR', fontsize=16)\n",
    "plt.scatter(x=tpr_dtc_list, y=fpr_dtc_list)"
   ]
  },
  {
   "cell_type": "markdown",
   "metadata": {},
   "source": [
    "* Conslusion: \n",
    "1. percentage change decreases as difference_bound gets looser\n",
    "2. TPR is more sensitive to the change of difference_bound"
   ]
  },
  {
   "cell_type": "markdown",
   "metadata": {},
   "source": [
    "#### Random forest"
   ]
  },
  {
   "cell_type": "code",
   "execution_count": 94,
   "metadata": {},
   "outputs": [],
   "source": [
    "classifier_rf = RandomForestClassifier(max_features=16, min_samples_leaf=5, max_depth=30, n_estimators=500, random_state=88)"
   ]
  },
  {
   "cell_type": "code",
   "execution_count": 100,
   "metadata": {},
   "outputs": [
    {
     "name": "stderr",
     "output_type": "stream",
     "text": [
      "<ipython-input-100-4e4fb603f47f>:1: DataConversionWarning: A column-vector y was passed when a 1d array was expected. Please change the shape of y to (n_samples,), for example using ravel().\n",
      "  classifier_rf.fit(X1_train_enc, y1_train_enc)\n"
     ]
    }
   ],
   "source": [
    "classifier_rf.fit(X1_train_enc, y1_train_enc)\n",
    "y1_pred_rf = classifier_rf.predict(X1_test_enc)"
   ]
  },
  {
   "cell_type": "code",
   "execution_count": 101,
   "metadata": {},
   "outputs": [],
   "source": [
    "tpr_rf = tpr(y1_test_enc, y1_pred_rf)\n",
    "fpr_rf = fpr(y1_test_enc, y1_pred_rf)"
   ]
  },
  {
   "cell_type": "code",
   "execution_count": 95,
   "metadata": {},
   "outputs": [
    {
     "name": "stdout",
     "output_type": "stream",
     "text": [
      "time: 990.31 s\n"
     ]
    }
   ],
   "source": [
    "from fairlearn.reductions import ExponentiatedGradient, DemographicParity\n",
    "import time \n",
    "\n",
    "tic = time.time()\n",
    "\n",
    "np.random.seed(0)\n",
    "constraint = DemographicParity()\n",
    "mitigator_rf = ExponentiatedGradient(classifier_rf, constraint)\n",
    "mitigator_rf.fit(X1_test_enc, y1_test_enc, sensitive_features=gender)\n",
    "\n",
    "toc = time.time()\n",
    "\n",
    "print('time:', round(toc-tic, 2),'s')"
   ]
  },
  {
   "cell_type": "code",
   "execution_count": 96,
   "metadata": {},
   "outputs": [],
   "source": [
    "y1_pred_rf_mitigated = mitigator_rf.predict(X1_test_enc)"
   ]
  },
  {
   "cell_type": "code",
   "execution_count": 97,
   "metadata": {},
   "outputs": [
    {
     "name": "stdout",
     "output_type": "stream",
     "text": [
      "0.719611848825332\n",
      "is_male\n",
      "0.0    0.694737\n",
      "1.0    0.738894\n",
      "Name: tpr, dtype: object\n"
     ]
    }
   ],
   "source": [
    "# TPR\n",
    "tpr_rf_mitigated = MetricFrame(tpr, y1_test_enc, y1_pred_rf_mitigated, sensitive_features=gender)\n",
    "print(tpr_rf_mitigated.overall)\n",
    "print(tpr_rf_mitigated.by_group)"
   ]
  },
  {
   "cell_type": "code",
   "execution_count": 102,
   "metadata": {},
   "outputs": [
    {
     "data": {
      "text/plain": [
       "-0.00786838340486411"
      ]
     },
     "execution_count": 102,
     "metadata": {},
     "output_type": "execute_result"
    }
   ],
   "source": [
    "# percentage decrease in tpr\n",
    "(tpr_rf - tpr_rf_mitigated.overall)/tpr_rf"
   ]
  },
  {
   "cell_type": "code",
   "execution_count": 98,
   "metadata": {},
   "outputs": [
    {
     "name": "stdout",
     "output_type": "stream",
     "text": [
      "0.00401899890390939\n",
      "is_male\n",
      "0.0    0.000405\n",
      "1.0    0.005866\n",
      "Name: fpr, dtype: object\n"
     ]
    }
   ],
   "source": [
    "# FPR\n",
    "fpr_rf_mitigated = MetricFrame(fpr, y1_test_enc, y1_pred_rf_mitigated, sensitive_features=gender)\n",
    "print(fpr_rf_mitigated.overall)\n",
    "print(fpr_rf_mitigated.by_group)"
   ]
  },
  {
   "cell_type": "code",
   "execution_count": 103,
   "metadata": {},
   "outputs": [
    {
     "data": {
      "text/plain": [
       "-0.8723404255319149"
      ]
     },
     "execution_count": 103,
     "metadata": {},
     "output_type": "execute_result"
    }
   ],
   "source": [
    "# percentage decrease in fpr\n",
    "(fpr_rf - fpr_rf_mitigated.overall)/fpr_rf"
   ]
  },
  {
   "cell_type": "markdown",
   "metadata": {},
   "source": [
    "#### difference_bound"
   ]
  },
  {
   "cell_type": "code",
   "execution_count": 104,
   "metadata": {},
   "outputs": [],
   "source": [
    "# # a list of difference_bound\n",
    "# bound_list = list(np.linspace(0, 0.05, 50))\n",
    "# relative change of tpr\n",
    "tpr_rf_list = [np.nan]*len(bound_list)\n",
    "# relative change of fpr\n",
    "fpr_rf_list = [np.nan]*len(bound_list)"
   ]
  },
  {
   "cell_type": "code",
   "execution_count": 105,
   "metadata": {},
   "outputs": [
    {
     "name": "stderr",
     "output_type": "stream",
     "text": [
      "/opt/anaconda3/lib/python3.8/site-packages/fairlearn/reductions/_exponentiated_gradient/_lagrangian.py:139: OptimizeWarning: The pivot operation produces a pivot value of: 4.7e-06, which is only slightly greater than the specified tolerance 1.0e-09. This may lead to issues regarding the numerical stability of the simplex method. Removing redundant constraints, changing the pivot strategy via Bland's rule or increasing the tolerance may help reduce the issue.\n",
      "  result_dual = opt.linprog(dual_c,\n"
     ]
    },
    {
     "ename": "KeyboardInterrupt",
     "evalue": "",
     "output_type": "error",
     "traceback": [
      "\u001b[0;31m---------------------------------------------------------------------------\u001b[0m",
      "\u001b[0;31mKeyboardInterrupt\u001b[0m                         Traceback (most recent call last)",
      "\u001b[0;32m<ipython-input-105-20f6cf1a9523>\u001b[0m in \u001b[0;36m<module>\u001b[0;34m\u001b[0m\n\u001b[1;32m     26\u001b[0m     \u001b[0mconstraint\u001b[0m \u001b[0;34m=\u001b[0m \u001b[0mDemographicParity\u001b[0m\u001b[0;34m(\u001b[0m\u001b[0mdifference_bound\u001b[0m\u001b[0;34m=\u001b[0m\u001b[0msample_i\u001b[0m\u001b[0;34m)\u001b[0m\u001b[0;34m\u001b[0m\u001b[0;34m\u001b[0m\u001b[0m\n\u001b[1;32m     27\u001b[0m     \u001b[0mmitigator_rf\u001b[0m \u001b[0;34m=\u001b[0m \u001b[0mExponentiatedGradient\u001b[0m\u001b[0;34m(\u001b[0m\u001b[0mclassifier_rf\u001b[0m\u001b[0;34m,\u001b[0m \u001b[0mconstraint\u001b[0m\u001b[0;34m)\u001b[0m\u001b[0;34m\u001b[0m\u001b[0;34m\u001b[0m\u001b[0m\n\u001b[0;32m---> 28\u001b[0;31m     \u001b[0mmitigator_rf\u001b[0m\u001b[0;34m.\u001b[0m\u001b[0mfit\u001b[0m\u001b[0;34m(\u001b[0m\u001b[0mX1_test_enc\u001b[0m\u001b[0;34m,\u001b[0m \u001b[0my1_test_enc\u001b[0m\u001b[0;34m,\u001b[0m \u001b[0msensitive_features\u001b[0m\u001b[0;34m=\u001b[0m\u001b[0mgender\u001b[0m\u001b[0;34m)\u001b[0m\u001b[0;34m\u001b[0m\u001b[0;34m\u001b[0m\u001b[0m\n\u001b[0m\u001b[1;32m     29\u001b[0m     \u001b[0my1_pred_rf\u001b[0m \u001b[0;34m=\u001b[0m \u001b[0mmitigator_rf\u001b[0m\u001b[0;34m.\u001b[0m\u001b[0mpredict\u001b[0m\u001b[0;34m(\u001b[0m\u001b[0mX1_test_enc\u001b[0m\u001b[0;34m)\u001b[0m\u001b[0;34m\u001b[0m\u001b[0;34m\u001b[0m\u001b[0m\n\u001b[1;32m     30\u001b[0m \u001b[0;34m\u001b[0m\u001b[0m\n",
      "\u001b[0;32m/opt/anaconda3/lib/python3.8/site-packages/fairlearn/reductions/_exponentiated_gradient/exponentiated_gradient.py\u001b[0m in \u001b[0;36mfit\u001b[0;34m(self, X, y, **kwargs)\u001b[0m\n\u001b[1;32m    124\u001b[0m             \u001b[0mgamma\u001b[0m \u001b[0;34m=\u001b[0m \u001b[0mlagrangian\u001b[0m\u001b[0;34m.\u001b[0m\u001b[0mgammas\u001b[0m\u001b[0;34m[\u001b[0m\u001b[0mh_idx\u001b[0m\u001b[0;34m]\u001b[0m\u001b[0;34m\u001b[0m\u001b[0;34m\u001b[0m\u001b[0m\n\u001b[1;32m    125\u001b[0m             \u001b[0mQ_EG\u001b[0m \u001b[0;34m=\u001b[0m \u001b[0mQsum\u001b[0m \u001b[0;34m/\u001b[0m \u001b[0mQsum\u001b[0m\u001b[0;34m.\u001b[0m\u001b[0msum\u001b[0m\u001b[0;34m(\u001b[0m\u001b[0;34m)\u001b[0m\u001b[0;34m\u001b[0m\u001b[0;34m\u001b[0m\u001b[0m\n\u001b[0;32m--> 126\u001b[0;31m             \u001b[0mresult_EG\u001b[0m \u001b[0;34m=\u001b[0m \u001b[0mlagrangian\u001b[0m\u001b[0;34m.\u001b[0m\u001b[0meval_gap\u001b[0m\u001b[0;34m(\u001b[0m\u001b[0mQ_EG\u001b[0m\u001b[0;34m,\u001b[0m \u001b[0mlambda_EG\u001b[0m\u001b[0;34m,\u001b[0m \u001b[0mself\u001b[0m\u001b[0;34m.\u001b[0m\u001b[0mnu\u001b[0m\u001b[0;34m)\u001b[0m\u001b[0;34m\u001b[0m\u001b[0;34m\u001b[0m\u001b[0m\n\u001b[0m\u001b[1;32m    127\u001b[0m             \u001b[0mgap_EG\u001b[0m \u001b[0;34m=\u001b[0m \u001b[0mresult_EG\u001b[0m\u001b[0;34m.\u001b[0m\u001b[0mgap\u001b[0m\u001b[0;34m(\u001b[0m\u001b[0;34m)\u001b[0m\u001b[0;34m\u001b[0m\u001b[0;34m\u001b[0m\u001b[0m\n\u001b[1;32m    128\u001b[0m             \u001b[0mgaps_EG\u001b[0m\u001b[0;34m.\u001b[0m\u001b[0mappend\u001b[0m\u001b[0;34m(\u001b[0m\u001b[0mgap_EG\u001b[0m\u001b[0;34m)\u001b[0m\u001b[0;34m\u001b[0m\u001b[0;34m\u001b[0m\u001b[0m\n",
      "\u001b[0;32m/opt/anaconda3/lib/python3.8/site-packages/fairlearn/reductions/_exponentiated_gradient/_lagrangian.py\u001b[0m in \u001b[0;36meval_gap\u001b[0;34m(self, Q, lambda_hat, nu)\u001b[0m\n\u001b[1;32m    111\u001b[0m         \u001b[0mresult\u001b[0m \u001b[0;34m=\u001b[0m \u001b[0m_GapResult\u001b[0m\u001b[0;34m(\u001b[0m\u001b[0mL\u001b[0m\u001b[0;34m,\u001b[0m \u001b[0mL\u001b[0m\u001b[0;34m,\u001b[0m \u001b[0mL_high\u001b[0m\u001b[0;34m,\u001b[0m \u001b[0mgamma\u001b[0m\u001b[0;34m,\u001b[0m \u001b[0merror\u001b[0m\u001b[0;34m)\u001b[0m\u001b[0;34m\u001b[0m\u001b[0;34m\u001b[0m\u001b[0m\n\u001b[1;32m    112\u001b[0m         \u001b[0;32mfor\u001b[0m \u001b[0mmul\u001b[0m \u001b[0;32min\u001b[0m \u001b[0;34m[\u001b[0m\u001b[0;36m1.0\u001b[0m\u001b[0;34m,\u001b[0m \u001b[0;36m2.0\u001b[0m\u001b[0;34m,\u001b[0m \u001b[0;36m5.0\u001b[0m\u001b[0;34m,\u001b[0m \u001b[0;36m10.0\u001b[0m\u001b[0;34m]\u001b[0m\u001b[0;34m:\u001b[0m\u001b[0;34m\u001b[0m\u001b[0;34m\u001b[0m\u001b[0m\n\u001b[0;32m--> 113\u001b[0;31m             \u001b[0mh_hat\u001b[0m\u001b[0;34m,\u001b[0m \u001b[0mh_hat_idx\u001b[0m \u001b[0;34m=\u001b[0m \u001b[0mself\u001b[0m\u001b[0;34m.\u001b[0m\u001b[0mbest_h\u001b[0m\u001b[0;34m(\u001b[0m\u001b[0mmul\u001b[0m \u001b[0;34m*\u001b[0m \u001b[0mlambda_hat\u001b[0m\u001b[0;34m)\u001b[0m\u001b[0;34m\u001b[0m\u001b[0;34m\u001b[0m\u001b[0m\n\u001b[0m\u001b[1;32m    114\u001b[0m             \u001b[0mlogger\u001b[0m\u001b[0;34m.\u001b[0m\u001b[0mdebug\u001b[0m\u001b[0;34m(\u001b[0m\u001b[0;34m\"%smul=%.0f\"\u001b[0m\u001b[0;34m,\u001b[0m \u001b[0m_INDENTATION\u001b[0m\u001b[0;34m,\u001b[0m \u001b[0mmul\u001b[0m\u001b[0;34m)\u001b[0m\u001b[0;34m\u001b[0m\u001b[0;34m\u001b[0m\u001b[0m\n\u001b[1;32m    115\u001b[0m             \u001b[0mL_low_mul\u001b[0m\u001b[0;34m,\u001b[0m \u001b[0m_\u001b[0m\u001b[0;34m,\u001b[0m \u001b[0m_\u001b[0m\u001b[0;34m,\u001b[0m \u001b[0m_\u001b[0m \u001b[0;34m=\u001b[0m \u001b[0mself\u001b[0m\u001b[0;34m.\u001b[0m\u001b[0m_eval\u001b[0m\u001b[0;34m(\u001b[0m\u001b[0mpd\u001b[0m\u001b[0;34m.\u001b[0m\u001b[0mSeries\u001b[0m\u001b[0;34m(\u001b[0m\u001b[0;34m{\u001b[0m\u001b[0mh_hat_idx\u001b[0m\u001b[0;34m:\u001b[0m \u001b[0;36m1.0\u001b[0m\u001b[0;34m}\u001b[0m\u001b[0;34m)\u001b[0m\u001b[0;34m,\u001b[0m \u001b[0mlambda_hat\u001b[0m\u001b[0;34m)\u001b[0m\u001b[0;34m\u001b[0m\u001b[0;34m\u001b[0m\u001b[0m\n",
      "\u001b[0;32m/opt/anaconda3/lib/python3.8/site-packages/fairlearn/reductions/_exponentiated_gradient/_lagrangian.py\u001b[0m in \u001b[0;36mbest_h\u001b[0;34m(self, lambda_vec)\u001b[0m\n\u001b[1;32m    185\u001b[0m         \u001b[0mthe\u001b[0m \u001b[0mvector\u001b[0m \u001b[0mof\u001b[0m \u001b[0mLagrange\u001b[0m \u001b[0mmultipliers\u001b[0m\u001b[0;31m \u001b[0m\u001b[0;31m`\u001b[0m\u001b[0mlambda_vec\u001b[0m\u001b[0;31m`\u001b[0m\u001b[0;34m.\u001b[0m\u001b[0;34m\u001b[0m\u001b[0;34m\u001b[0m\u001b[0m\n\u001b[1;32m    186\u001b[0m         \"\"\"\n\u001b[0;32m--> 187\u001b[0;31m         \u001b[0mclassifier\u001b[0m \u001b[0;34m=\u001b[0m \u001b[0mself\u001b[0m\u001b[0;34m.\u001b[0m\u001b[0m_call_oracle\u001b[0m\u001b[0;34m(\u001b[0m\u001b[0mlambda_vec\u001b[0m\u001b[0;34m)\u001b[0m\u001b[0;34m\u001b[0m\u001b[0;34m\u001b[0m\u001b[0m\n\u001b[0m\u001b[1;32m    188\u001b[0m \u001b[0;34m\u001b[0m\u001b[0m\n\u001b[1;32m    189\u001b[0m         \u001b[0;32mdef\u001b[0m \u001b[0mh\u001b[0m\u001b[0;34m(\u001b[0m\u001b[0mX\u001b[0m\u001b[0;34m)\u001b[0m\u001b[0;34m:\u001b[0m\u001b[0;34m\u001b[0m\u001b[0;34m\u001b[0m\u001b[0m\n",
      "\u001b[0;32m/opt/anaconda3/lib/python3.8/site-packages/fairlearn/reductions/_exponentiated_gradient/_lagrangian.py\u001b[0m in \u001b[0;36m_call_oracle\u001b[0;34m(self, lambda_vec)\u001b[0m\n\u001b[1;32m    173\u001b[0m \u001b[0;34m\u001b[0m\u001b[0m\n\u001b[1;32m    174\u001b[0m         \u001b[0moracle_call_start_time\u001b[0m \u001b[0;34m=\u001b[0m \u001b[0mtime\u001b[0m\u001b[0;34m(\u001b[0m\u001b[0;34m)\u001b[0m\u001b[0;34m\u001b[0m\u001b[0;34m\u001b[0m\u001b[0m\n\u001b[0;32m--> 175\u001b[0;31m         \u001b[0mestimator\u001b[0m\u001b[0;34m.\u001b[0m\u001b[0mfit\u001b[0m\u001b[0;34m(\u001b[0m\u001b[0mself\u001b[0m\u001b[0;34m.\u001b[0m\u001b[0mconstraints\u001b[0m\u001b[0;34m.\u001b[0m\u001b[0mX\u001b[0m\u001b[0;34m,\u001b[0m \u001b[0mredY\u001b[0m\u001b[0;34m,\u001b[0m \u001b[0;34m**\u001b[0m\u001b[0;34m{\u001b[0m\u001b[0mself\u001b[0m\u001b[0;34m.\u001b[0m\u001b[0msample_weight_name\u001b[0m\u001b[0;34m:\u001b[0m \u001b[0mredW\u001b[0m\u001b[0;34m}\u001b[0m\u001b[0;34m)\u001b[0m\u001b[0;34m\u001b[0m\u001b[0;34m\u001b[0m\u001b[0m\n\u001b[0m\u001b[1;32m    176\u001b[0m         \u001b[0mself\u001b[0m\u001b[0;34m.\u001b[0m\u001b[0moracle_execution_times\u001b[0m\u001b[0;34m.\u001b[0m\u001b[0mappend\u001b[0m\u001b[0;34m(\u001b[0m\u001b[0mtime\u001b[0m\u001b[0;34m(\u001b[0m\u001b[0;34m)\u001b[0m \u001b[0;34m-\u001b[0m \u001b[0moracle_call_start_time\u001b[0m\u001b[0;34m)\u001b[0m\u001b[0;34m\u001b[0m\u001b[0;34m\u001b[0m\u001b[0m\n\u001b[1;32m    177\u001b[0m         \u001b[0mself\u001b[0m\u001b[0;34m.\u001b[0m\u001b[0mn_oracle_calls\u001b[0m \u001b[0;34m+=\u001b[0m \u001b[0;36m1\u001b[0m\u001b[0;34m\u001b[0m\u001b[0;34m\u001b[0m\u001b[0m\n",
      "\u001b[0;32m/opt/anaconda3/lib/python3.8/site-packages/sklearn/ensemble/_forest.py\u001b[0m in \u001b[0;36mfit\u001b[0;34m(self, X, y, sample_weight)\u001b[0m\n\u001b[1;32m    385\u001b[0m             \u001b[0;31m# parallel_backend contexts set at a higher level,\u001b[0m\u001b[0;34m\u001b[0m\u001b[0;34m\u001b[0m\u001b[0;34m\u001b[0m\u001b[0m\n\u001b[1;32m    386\u001b[0m             \u001b[0;31m# since correctness does not rely on using threads.\u001b[0m\u001b[0;34m\u001b[0m\u001b[0;34m\u001b[0m\u001b[0;34m\u001b[0m\u001b[0m\n\u001b[0;32m--> 387\u001b[0;31m             trees = Parallel(n_jobs=self.n_jobs, verbose=self.verbose,\n\u001b[0m\u001b[1;32m    388\u001b[0m                              \u001b[0;34m**\u001b[0m\u001b[0m_joblib_parallel_args\u001b[0m\u001b[0;34m(\u001b[0m\u001b[0mprefer\u001b[0m\u001b[0;34m=\u001b[0m\u001b[0;34m'threads'\u001b[0m\u001b[0;34m)\u001b[0m\u001b[0;34m)\u001b[0m\u001b[0;34m(\u001b[0m\u001b[0;34m\u001b[0m\u001b[0;34m\u001b[0m\u001b[0m\n\u001b[1;32m    389\u001b[0m                 delayed(_parallel_build_trees)(\n",
      "\u001b[0;32m/opt/anaconda3/lib/python3.8/site-packages/joblib/parallel.py\u001b[0m in \u001b[0;36m__call__\u001b[0;34m(self, iterable)\u001b[0m\n\u001b[1;32m   1042\u001b[0m                 \u001b[0mself\u001b[0m\u001b[0;34m.\u001b[0m\u001b[0m_iterating\u001b[0m \u001b[0;34m=\u001b[0m \u001b[0mself\u001b[0m\u001b[0;34m.\u001b[0m\u001b[0m_original_iterator\u001b[0m \u001b[0;32mis\u001b[0m \u001b[0;32mnot\u001b[0m \u001b[0;32mNone\u001b[0m\u001b[0;34m\u001b[0m\u001b[0;34m\u001b[0m\u001b[0m\n\u001b[1;32m   1043\u001b[0m \u001b[0;34m\u001b[0m\u001b[0m\n\u001b[0;32m-> 1044\u001b[0;31m             \u001b[0;32mwhile\u001b[0m \u001b[0mself\u001b[0m\u001b[0;34m.\u001b[0m\u001b[0mdispatch_one_batch\u001b[0m\u001b[0;34m(\u001b[0m\u001b[0miterator\u001b[0m\u001b[0;34m)\u001b[0m\u001b[0;34m:\u001b[0m\u001b[0;34m\u001b[0m\u001b[0;34m\u001b[0m\u001b[0m\n\u001b[0m\u001b[1;32m   1045\u001b[0m                 \u001b[0;32mpass\u001b[0m\u001b[0;34m\u001b[0m\u001b[0;34m\u001b[0m\u001b[0m\n\u001b[1;32m   1046\u001b[0m \u001b[0;34m\u001b[0m\u001b[0m\n",
      "\u001b[0;32m/opt/anaconda3/lib/python3.8/site-packages/joblib/parallel.py\u001b[0m in \u001b[0;36mdispatch_one_batch\u001b[0;34m(self, iterator)\u001b[0m\n\u001b[1;32m    857\u001b[0m                 \u001b[0;32mreturn\u001b[0m \u001b[0;32mFalse\u001b[0m\u001b[0;34m\u001b[0m\u001b[0;34m\u001b[0m\u001b[0m\n\u001b[1;32m    858\u001b[0m             \u001b[0;32melse\u001b[0m\u001b[0;34m:\u001b[0m\u001b[0;34m\u001b[0m\u001b[0;34m\u001b[0m\u001b[0m\n\u001b[0;32m--> 859\u001b[0;31m                 \u001b[0mself\u001b[0m\u001b[0;34m.\u001b[0m\u001b[0m_dispatch\u001b[0m\u001b[0;34m(\u001b[0m\u001b[0mtasks\u001b[0m\u001b[0;34m)\u001b[0m\u001b[0;34m\u001b[0m\u001b[0;34m\u001b[0m\u001b[0m\n\u001b[0m\u001b[1;32m    860\u001b[0m                 \u001b[0;32mreturn\u001b[0m \u001b[0;32mTrue\u001b[0m\u001b[0;34m\u001b[0m\u001b[0;34m\u001b[0m\u001b[0m\n\u001b[1;32m    861\u001b[0m \u001b[0;34m\u001b[0m\u001b[0m\n",
      "\u001b[0;32m/opt/anaconda3/lib/python3.8/site-packages/joblib/parallel.py\u001b[0m in \u001b[0;36m_dispatch\u001b[0;34m(self, batch)\u001b[0m\n\u001b[1;32m    775\u001b[0m         \u001b[0;32mwith\u001b[0m \u001b[0mself\u001b[0m\u001b[0;34m.\u001b[0m\u001b[0m_lock\u001b[0m\u001b[0;34m:\u001b[0m\u001b[0;34m\u001b[0m\u001b[0;34m\u001b[0m\u001b[0m\n\u001b[1;32m    776\u001b[0m             \u001b[0mjob_idx\u001b[0m \u001b[0;34m=\u001b[0m \u001b[0mlen\u001b[0m\u001b[0;34m(\u001b[0m\u001b[0mself\u001b[0m\u001b[0;34m.\u001b[0m\u001b[0m_jobs\u001b[0m\u001b[0;34m)\u001b[0m\u001b[0;34m\u001b[0m\u001b[0;34m\u001b[0m\u001b[0m\n\u001b[0;32m--> 777\u001b[0;31m             \u001b[0mjob\u001b[0m \u001b[0;34m=\u001b[0m \u001b[0mself\u001b[0m\u001b[0;34m.\u001b[0m\u001b[0m_backend\u001b[0m\u001b[0;34m.\u001b[0m\u001b[0mapply_async\u001b[0m\u001b[0;34m(\u001b[0m\u001b[0mbatch\u001b[0m\u001b[0;34m,\u001b[0m \u001b[0mcallback\u001b[0m\u001b[0;34m=\u001b[0m\u001b[0mcb\u001b[0m\u001b[0;34m)\u001b[0m\u001b[0;34m\u001b[0m\u001b[0;34m\u001b[0m\u001b[0m\n\u001b[0m\u001b[1;32m    778\u001b[0m             \u001b[0;31m# A job can complete so quickly than its callback is\u001b[0m\u001b[0;34m\u001b[0m\u001b[0;34m\u001b[0m\u001b[0;34m\u001b[0m\u001b[0m\n\u001b[1;32m    779\u001b[0m             \u001b[0;31m# called before we get here, causing self._jobs to\u001b[0m\u001b[0;34m\u001b[0m\u001b[0;34m\u001b[0m\u001b[0;34m\u001b[0m\u001b[0m\n",
      "\u001b[0;32m/opt/anaconda3/lib/python3.8/site-packages/joblib/_parallel_backends.py\u001b[0m in \u001b[0;36mapply_async\u001b[0;34m(self, func, callback)\u001b[0m\n\u001b[1;32m    206\u001b[0m     \u001b[0;32mdef\u001b[0m \u001b[0mapply_async\u001b[0m\u001b[0;34m(\u001b[0m\u001b[0mself\u001b[0m\u001b[0;34m,\u001b[0m \u001b[0mfunc\u001b[0m\u001b[0;34m,\u001b[0m \u001b[0mcallback\u001b[0m\u001b[0;34m=\u001b[0m\u001b[0;32mNone\u001b[0m\u001b[0;34m)\u001b[0m\u001b[0;34m:\u001b[0m\u001b[0;34m\u001b[0m\u001b[0;34m\u001b[0m\u001b[0m\n\u001b[1;32m    207\u001b[0m         \u001b[0;34m\"\"\"Schedule a func to be run\"\"\"\u001b[0m\u001b[0;34m\u001b[0m\u001b[0;34m\u001b[0m\u001b[0m\n\u001b[0;32m--> 208\u001b[0;31m         \u001b[0mresult\u001b[0m \u001b[0;34m=\u001b[0m \u001b[0mImmediateResult\u001b[0m\u001b[0;34m(\u001b[0m\u001b[0mfunc\u001b[0m\u001b[0;34m)\u001b[0m\u001b[0;34m\u001b[0m\u001b[0;34m\u001b[0m\u001b[0m\n\u001b[0m\u001b[1;32m    209\u001b[0m         \u001b[0;32mif\u001b[0m \u001b[0mcallback\u001b[0m\u001b[0;34m:\u001b[0m\u001b[0;34m\u001b[0m\u001b[0;34m\u001b[0m\u001b[0m\n\u001b[1;32m    210\u001b[0m             \u001b[0mcallback\u001b[0m\u001b[0;34m(\u001b[0m\u001b[0mresult\u001b[0m\u001b[0;34m)\u001b[0m\u001b[0;34m\u001b[0m\u001b[0;34m\u001b[0m\u001b[0m\n",
      "\u001b[0;32m/opt/anaconda3/lib/python3.8/site-packages/joblib/_parallel_backends.py\u001b[0m in \u001b[0;36m__init__\u001b[0;34m(self, batch)\u001b[0m\n\u001b[1;32m    570\u001b[0m         \u001b[0;31m# Don't delay the application, to avoid keeping the input\u001b[0m\u001b[0;34m\u001b[0m\u001b[0;34m\u001b[0m\u001b[0;34m\u001b[0m\u001b[0m\n\u001b[1;32m    571\u001b[0m         \u001b[0;31m# arguments in memory\u001b[0m\u001b[0;34m\u001b[0m\u001b[0;34m\u001b[0m\u001b[0;34m\u001b[0m\u001b[0m\n\u001b[0;32m--> 572\u001b[0;31m         \u001b[0mself\u001b[0m\u001b[0;34m.\u001b[0m\u001b[0mresults\u001b[0m \u001b[0;34m=\u001b[0m \u001b[0mbatch\u001b[0m\u001b[0;34m(\u001b[0m\u001b[0;34m)\u001b[0m\u001b[0;34m\u001b[0m\u001b[0;34m\u001b[0m\u001b[0m\n\u001b[0m\u001b[1;32m    573\u001b[0m \u001b[0;34m\u001b[0m\u001b[0m\n\u001b[1;32m    574\u001b[0m     \u001b[0;32mdef\u001b[0m \u001b[0mget\u001b[0m\u001b[0;34m(\u001b[0m\u001b[0mself\u001b[0m\u001b[0;34m)\u001b[0m\u001b[0;34m:\u001b[0m\u001b[0;34m\u001b[0m\u001b[0;34m\u001b[0m\u001b[0m\n",
      "\u001b[0;32m/opt/anaconda3/lib/python3.8/site-packages/joblib/parallel.py\u001b[0m in \u001b[0;36m__call__\u001b[0;34m(self)\u001b[0m\n\u001b[1;32m    260\u001b[0m         \u001b[0;31m# change the default number of processes to -1\u001b[0m\u001b[0;34m\u001b[0m\u001b[0;34m\u001b[0m\u001b[0;34m\u001b[0m\u001b[0m\n\u001b[1;32m    261\u001b[0m         \u001b[0;32mwith\u001b[0m \u001b[0mparallel_backend\u001b[0m\u001b[0;34m(\u001b[0m\u001b[0mself\u001b[0m\u001b[0;34m.\u001b[0m\u001b[0m_backend\u001b[0m\u001b[0;34m,\u001b[0m \u001b[0mn_jobs\u001b[0m\u001b[0;34m=\u001b[0m\u001b[0mself\u001b[0m\u001b[0;34m.\u001b[0m\u001b[0m_n_jobs\u001b[0m\u001b[0;34m)\u001b[0m\u001b[0;34m:\u001b[0m\u001b[0;34m\u001b[0m\u001b[0;34m\u001b[0m\u001b[0m\n\u001b[0;32m--> 262\u001b[0;31m             return [func(*args, **kwargs)\n\u001b[0m\u001b[1;32m    263\u001b[0m                     for func, args, kwargs in self.items]\n\u001b[1;32m    264\u001b[0m \u001b[0;34m\u001b[0m\u001b[0m\n",
      "\u001b[0;32m/opt/anaconda3/lib/python3.8/site-packages/joblib/parallel.py\u001b[0m in \u001b[0;36m<listcomp>\u001b[0;34m(.0)\u001b[0m\n\u001b[1;32m    260\u001b[0m         \u001b[0;31m# change the default number of processes to -1\u001b[0m\u001b[0;34m\u001b[0m\u001b[0;34m\u001b[0m\u001b[0;34m\u001b[0m\u001b[0m\n\u001b[1;32m    261\u001b[0m         \u001b[0;32mwith\u001b[0m \u001b[0mparallel_backend\u001b[0m\u001b[0;34m(\u001b[0m\u001b[0mself\u001b[0m\u001b[0;34m.\u001b[0m\u001b[0m_backend\u001b[0m\u001b[0;34m,\u001b[0m \u001b[0mn_jobs\u001b[0m\u001b[0;34m=\u001b[0m\u001b[0mself\u001b[0m\u001b[0;34m.\u001b[0m\u001b[0m_n_jobs\u001b[0m\u001b[0;34m)\u001b[0m\u001b[0;34m:\u001b[0m\u001b[0;34m\u001b[0m\u001b[0;34m\u001b[0m\u001b[0m\n\u001b[0;32m--> 262\u001b[0;31m             return [func(*args, **kwargs)\n\u001b[0m\u001b[1;32m    263\u001b[0m                     for func, args, kwargs in self.items]\n\u001b[1;32m    264\u001b[0m \u001b[0;34m\u001b[0m\u001b[0m\n",
      "\u001b[0;32m/opt/anaconda3/lib/python3.8/site-packages/sklearn/utils/fixes.py\u001b[0m in \u001b[0;36m__call__\u001b[0;34m(self, *args, **kwargs)\u001b[0m\n\u001b[1;32m    220\u001b[0m     \u001b[0;32mdef\u001b[0m \u001b[0m__call__\u001b[0m\u001b[0;34m(\u001b[0m\u001b[0mself\u001b[0m\u001b[0;34m,\u001b[0m \u001b[0;34m*\u001b[0m\u001b[0margs\u001b[0m\u001b[0;34m,\u001b[0m \u001b[0;34m**\u001b[0m\u001b[0mkwargs\u001b[0m\u001b[0;34m)\u001b[0m\u001b[0;34m:\u001b[0m\u001b[0;34m\u001b[0m\u001b[0;34m\u001b[0m\u001b[0m\n\u001b[1;32m    221\u001b[0m         \u001b[0;32mwith\u001b[0m \u001b[0mconfig_context\u001b[0m\u001b[0;34m(\u001b[0m\u001b[0;34m**\u001b[0m\u001b[0mself\u001b[0m\u001b[0;34m.\u001b[0m\u001b[0mconfig\u001b[0m\u001b[0;34m)\u001b[0m\u001b[0;34m:\u001b[0m\u001b[0;34m\u001b[0m\u001b[0;34m\u001b[0m\u001b[0m\n\u001b[0;32m--> 222\u001b[0;31m             \u001b[0;32mreturn\u001b[0m \u001b[0mself\u001b[0m\u001b[0;34m.\u001b[0m\u001b[0mfunction\u001b[0m\u001b[0;34m(\u001b[0m\u001b[0;34m*\u001b[0m\u001b[0margs\u001b[0m\u001b[0;34m,\u001b[0m \u001b[0;34m**\u001b[0m\u001b[0mkwargs\u001b[0m\u001b[0;34m)\u001b[0m\u001b[0;34m\u001b[0m\u001b[0;34m\u001b[0m\u001b[0m\n\u001b[0m",
      "\u001b[0;32m/opt/anaconda3/lib/python3.8/site-packages/sklearn/ensemble/_forest.py\u001b[0m in \u001b[0;36m_parallel_build_trees\u001b[0;34m(tree, forest, X, y, sample_weight, tree_idx, n_trees, verbose, class_weight, n_samples_bootstrap)\u001b[0m\n\u001b[1;32m    167\u001b[0m                                                         indices=indices)\n\u001b[1;32m    168\u001b[0m \u001b[0;34m\u001b[0m\u001b[0m\n\u001b[0;32m--> 169\u001b[0;31m         \u001b[0mtree\u001b[0m\u001b[0;34m.\u001b[0m\u001b[0mfit\u001b[0m\u001b[0;34m(\u001b[0m\u001b[0mX\u001b[0m\u001b[0;34m,\u001b[0m \u001b[0my\u001b[0m\u001b[0;34m,\u001b[0m \u001b[0msample_weight\u001b[0m\u001b[0;34m=\u001b[0m\u001b[0mcurr_sample_weight\u001b[0m\u001b[0;34m,\u001b[0m \u001b[0mcheck_input\u001b[0m\u001b[0;34m=\u001b[0m\u001b[0;32mFalse\u001b[0m\u001b[0;34m)\u001b[0m\u001b[0;34m\u001b[0m\u001b[0;34m\u001b[0m\u001b[0m\n\u001b[0m\u001b[1;32m    170\u001b[0m     \u001b[0;32melse\u001b[0m\u001b[0;34m:\u001b[0m\u001b[0;34m\u001b[0m\u001b[0;34m\u001b[0m\u001b[0m\n\u001b[1;32m    171\u001b[0m         \u001b[0mtree\u001b[0m\u001b[0;34m.\u001b[0m\u001b[0mfit\u001b[0m\u001b[0;34m(\u001b[0m\u001b[0mX\u001b[0m\u001b[0;34m,\u001b[0m \u001b[0my\u001b[0m\u001b[0;34m,\u001b[0m \u001b[0msample_weight\u001b[0m\u001b[0;34m=\u001b[0m\u001b[0msample_weight\u001b[0m\u001b[0;34m,\u001b[0m \u001b[0mcheck_input\u001b[0m\u001b[0;34m=\u001b[0m\u001b[0;32mFalse\u001b[0m\u001b[0;34m)\u001b[0m\u001b[0;34m\u001b[0m\u001b[0;34m\u001b[0m\u001b[0m\n",
      "\u001b[0;32m/opt/anaconda3/lib/python3.8/site-packages/sklearn/tree/_classes.py\u001b[0m in \u001b[0;36mfit\u001b[0;34m(self, X, y, sample_weight, check_input, X_idx_sorted)\u001b[0m\n\u001b[1;32m    896\u001b[0m         \"\"\"\n\u001b[1;32m    897\u001b[0m \u001b[0;34m\u001b[0m\u001b[0m\n\u001b[0;32m--> 898\u001b[0;31m         super().fit(\n\u001b[0m\u001b[1;32m    899\u001b[0m             \u001b[0mX\u001b[0m\u001b[0;34m,\u001b[0m \u001b[0my\u001b[0m\u001b[0;34m,\u001b[0m\u001b[0;34m\u001b[0m\u001b[0;34m\u001b[0m\u001b[0m\n\u001b[1;32m    900\u001b[0m             \u001b[0msample_weight\u001b[0m\u001b[0;34m=\u001b[0m\u001b[0msample_weight\u001b[0m\u001b[0;34m,\u001b[0m\u001b[0;34m\u001b[0m\u001b[0;34m\u001b[0m\u001b[0m\n",
      "\u001b[0;32m/opt/anaconda3/lib/python3.8/site-packages/sklearn/tree/_classes.py\u001b[0m in \u001b[0;36mfit\u001b[0;34m(self, X, y, sample_weight, check_input, X_idx_sorted)\u001b[0m\n\u001b[1;32m    188\u001b[0m \u001b[0;34m\u001b[0m\u001b[0m\n\u001b[1;32m    189\u001b[0m         \u001b[0;32mif\u001b[0m \u001b[0mis_classification\u001b[0m\u001b[0;34m:\u001b[0m\u001b[0;34m\u001b[0m\u001b[0;34m\u001b[0m\u001b[0m\n\u001b[0;32m--> 190\u001b[0;31m             \u001b[0mcheck_classification_targets\u001b[0m\u001b[0;34m(\u001b[0m\u001b[0my\u001b[0m\u001b[0;34m)\u001b[0m\u001b[0;34m\u001b[0m\u001b[0;34m\u001b[0m\u001b[0m\n\u001b[0m\u001b[1;32m    191\u001b[0m             \u001b[0my\u001b[0m \u001b[0;34m=\u001b[0m \u001b[0mnp\u001b[0m\u001b[0;34m.\u001b[0m\u001b[0mcopy\u001b[0m\u001b[0;34m(\u001b[0m\u001b[0my\u001b[0m\u001b[0;34m)\u001b[0m\u001b[0;34m\u001b[0m\u001b[0;34m\u001b[0m\u001b[0m\n\u001b[1;32m    192\u001b[0m \u001b[0;34m\u001b[0m\u001b[0m\n",
      "\u001b[0;32m/opt/anaconda3/lib/python3.8/site-packages/sklearn/utils/multiclass.py\u001b[0m in \u001b[0;36mcheck_classification_targets\u001b[0;34m(y)\u001b[0m\n\u001b[1;32m    178\u001b[0m     \u001b[0my\u001b[0m \u001b[0;34m:\u001b[0m \u001b[0marray\u001b[0m\u001b[0;34m-\u001b[0m\u001b[0mlike\u001b[0m\u001b[0;34m\u001b[0m\u001b[0;34m\u001b[0m\u001b[0m\n\u001b[1;32m    179\u001b[0m     \"\"\"\n\u001b[0;32m--> 180\u001b[0;31m     \u001b[0my_type\u001b[0m \u001b[0;34m=\u001b[0m \u001b[0mtype_of_target\u001b[0m\u001b[0;34m(\u001b[0m\u001b[0my\u001b[0m\u001b[0;34m)\u001b[0m\u001b[0;34m\u001b[0m\u001b[0;34m\u001b[0m\u001b[0m\n\u001b[0m\u001b[1;32m    181\u001b[0m     if y_type not in ['binary', 'multiclass', 'multiclass-multioutput',\n\u001b[1;32m    182\u001b[0m                       'multilabel-indicator', 'multilabel-sequences']:\n",
      "\u001b[0;32m/opt/anaconda3/lib/python3.8/site-packages/sklearn/utils/multiclass.py\u001b[0m in \u001b[0;36mtype_of_target\u001b[0;34m(y)\u001b[0m\n\u001b[1;32m    304\u001b[0m         \u001b[0;32mreturn\u001b[0m \u001b[0;34m'continuous'\u001b[0m \u001b[0;34m+\u001b[0m \u001b[0msuffix\u001b[0m\u001b[0;34m\u001b[0m\u001b[0;34m\u001b[0m\u001b[0m\n\u001b[1;32m    305\u001b[0m \u001b[0;34m\u001b[0m\u001b[0m\n\u001b[0;32m--> 306\u001b[0;31m     \u001b[0;32mif\u001b[0m \u001b[0;34m(\u001b[0m\u001b[0mlen\u001b[0m\u001b[0;34m(\u001b[0m\u001b[0mnp\u001b[0m\u001b[0;34m.\u001b[0m\u001b[0munique\u001b[0m\u001b[0;34m(\u001b[0m\u001b[0my\u001b[0m\u001b[0;34m)\u001b[0m\u001b[0;34m)\u001b[0m \u001b[0;34m>\u001b[0m \u001b[0;36m2\u001b[0m\u001b[0;34m)\u001b[0m \u001b[0;32mor\u001b[0m \u001b[0;34m(\u001b[0m\u001b[0my\u001b[0m\u001b[0;34m.\u001b[0m\u001b[0mndim\u001b[0m \u001b[0;34m>=\u001b[0m \u001b[0;36m2\u001b[0m \u001b[0;32mand\u001b[0m \u001b[0mlen\u001b[0m\u001b[0;34m(\u001b[0m\u001b[0my\u001b[0m\u001b[0;34m[\u001b[0m\u001b[0;36m0\u001b[0m\u001b[0;34m]\u001b[0m\u001b[0;34m)\u001b[0m \u001b[0;34m>\u001b[0m \u001b[0;36m1\u001b[0m\u001b[0;34m)\u001b[0m\u001b[0;34m:\u001b[0m\u001b[0;34m\u001b[0m\u001b[0;34m\u001b[0m\u001b[0m\n\u001b[0m\u001b[1;32m    307\u001b[0m         \u001b[0;32mreturn\u001b[0m \u001b[0;34m'multiclass'\u001b[0m \u001b[0;34m+\u001b[0m \u001b[0msuffix\u001b[0m  \u001b[0;31m# [1, 2, 3] or [[1., 2., 3]] or [[1, 2]]\u001b[0m\u001b[0;34m\u001b[0m\u001b[0;34m\u001b[0m\u001b[0m\n\u001b[1;32m    308\u001b[0m     \u001b[0;32melse\u001b[0m\u001b[0;34m:\u001b[0m\u001b[0;34m\u001b[0m\u001b[0;34m\u001b[0m\u001b[0m\n",
      "\u001b[0;32m<__array_function__ internals>\u001b[0m in \u001b[0;36munique\u001b[0;34m(*args, **kwargs)\u001b[0m\n",
      "\u001b[0;32m/opt/anaconda3/lib/python3.8/site-packages/numpy/lib/arraysetops.py\u001b[0m in \u001b[0;36munique\u001b[0;34m(ar, return_index, return_inverse, return_counts, axis)\u001b[0m\n\u001b[1;32m    259\u001b[0m     \u001b[0mar\u001b[0m \u001b[0;34m=\u001b[0m \u001b[0mnp\u001b[0m\u001b[0;34m.\u001b[0m\u001b[0masanyarray\u001b[0m\u001b[0;34m(\u001b[0m\u001b[0mar\u001b[0m\u001b[0;34m)\u001b[0m\u001b[0;34m\u001b[0m\u001b[0;34m\u001b[0m\u001b[0m\n\u001b[1;32m    260\u001b[0m     \u001b[0;32mif\u001b[0m \u001b[0maxis\u001b[0m \u001b[0;32mis\u001b[0m \u001b[0;32mNone\u001b[0m\u001b[0;34m:\u001b[0m\u001b[0;34m\u001b[0m\u001b[0;34m\u001b[0m\u001b[0m\n\u001b[0;32m--> 261\u001b[0;31m         \u001b[0mret\u001b[0m \u001b[0;34m=\u001b[0m \u001b[0m_unique1d\u001b[0m\u001b[0;34m(\u001b[0m\u001b[0mar\u001b[0m\u001b[0;34m,\u001b[0m \u001b[0mreturn_index\u001b[0m\u001b[0;34m,\u001b[0m \u001b[0mreturn_inverse\u001b[0m\u001b[0;34m,\u001b[0m \u001b[0mreturn_counts\u001b[0m\u001b[0;34m)\u001b[0m\u001b[0;34m\u001b[0m\u001b[0;34m\u001b[0m\u001b[0m\n\u001b[0m\u001b[1;32m    262\u001b[0m         \u001b[0;32mreturn\u001b[0m \u001b[0m_unpack_tuple\u001b[0m\u001b[0;34m(\u001b[0m\u001b[0mret\u001b[0m\u001b[0;34m)\u001b[0m\u001b[0;34m\u001b[0m\u001b[0;34m\u001b[0m\u001b[0m\n\u001b[1;32m    263\u001b[0m \u001b[0;34m\u001b[0m\u001b[0m\n",
      "\u001b[0;32m/opt/anaconda3/lib/python3.8/site-packages/numpy/lib/arraysetops.py\u001b[0m in \u001b[0;36m_unique1d\u001b[0;34m(ar, return_index, return_inverse, return_counts)\u001b[0m\n\u001b[1;32m    320\u001b[0m         \u001b[0maux\u001b[0m \u001b[0;34m=\u001b[0m \u001b[0mar\u001b[0m\u001b[0;34m[\u001b[0m\u001b[0mperm\u001b[0m\u001b[0;34m]\u001b[0m\u001b[0;34m\u001b[0m\u001b[0;34m\u001b[0m\u001b[0m\n\u001b[1;32m    321\u001b[0m     \u001b[0;32melse\u001b[0m\u001b[0;34m:\u001b[0m\u001b[0;34m\u001b[0m\u001b[0;34m\u001b[0m\u001b[0m\n\u001b[0;32m--> 322\u001b[0;31m         \u001b[0mar\u001b[0m\u001b[0;34m.\u001b[0m\u001b[0msort\u001b[0m\u001b[0;34m(\u001b[0m\u001b[0;34m)\u001b[0m\u001b[0;34m\u001b[0m\u001b[0;34m\u001b[0m\u001b[0m\n\u001b[0m\u001b[1;32m    323\u001b[0m         \u001b[0maux\u001b[0m \u001b[0;34m=\u001b[0m \u001b[0mar\u001b[0m\u001b[0;34m\u001b[0m\u001b[0;34m\u001b[0m\u001b[0m\n\u001b[1;32m    324\u001b[0m     \u001b[0mmask\u001b[0m \u001b[0;34m=\u001b[0m \u001b[0mnp\u001b[0m\u001b[0;34m.\u001b[0m\u001b[0mempty\u001b[0m\u001b[0;34m(\u001b[0m\u001b[0maux\u001b[0m\u001b[0;34m.\u001b[0m\u001b[0mshape\u001b[0m\u001b[0;34m,\u001b[0m \u001b[0mdtype\u001b[0m\u001b[0;34m=\u001b[0m\u001b[0mnp\u001b[0m\u001b[0;34m.\u001b[0m\u001b[0mbool_\u001b[0m\u001b[0;34m)\u001b[0m\u001b[0;34m\u001b[0m\u001b[0;34m\u001b[0m\u001b[0m\n",
      "\u001b[0;31mKeyboardInterrupt\u001b[0m: "
     ]
    }
   ],
   "source": [
    "from fairlearn.reductions import ExponentiatedGradient, DemographicParity\n",
    "from sklearn.metrics import confusion_matrix\n",
    "import time\n",
    "\n",
    "\n",
    "def tpr(y_true, y_pred):\n",
    "    cm = confusion_matrix(y_true, y_pred)\n",
    "    tpr = cm.ravel()[3] / (cm.ravel()[2] + cm.ravel()[3])\n",
    "    return tpr\n",
    "\n",
    "def fpr(y_true, y_pred):\n",
    "    cm = confusion_matrix(y_true, y_pred)\n",
    "    fpr = cm.ravel()[1] / (cm.ravel()[0] + cm.ravel()[1])\n",
    "    return fpr\n",
    "\n",
    "# baseline\n",
    "classifier_rf = RandomForestClassifier(max_features=16, min_samples_leaf=5, \n",
    "                                       max_depth=30, n_estimators=500, random_state=88)\n",
    "\n",
    "tic = time.time()\n",
    "\n",
    "for i in range(len(bound_list)):\n",
    "    sample_i = bound_list[i]\n",
    "    # mitigating disparity\n",
    "    np.random.seed(0)\n",
    "    constraint = DemographicParity(difference_bound=sample_i)\n",
    "    mitigator_rf = ExponentiatedGradient(classifier_rf, constraint)\n",
    "    mitigator_rf.fit(X1_train_enc, y1_train_enc, sensitive_features=gender)\n",
    "    y1_pred_rf = mitigator_rf.predict(X1_test_enc)\n",
    "    \n",
    "    # evaluating fairness in terms of tpr\n",
    "    tpr_rf_mitigated_i = MetricFrame(tpr, y1_test_enc, y1_pred_rf, sensitive_features=gender)\n",
    "    relative_change_tpr_i = (tpr_rf - tpr_rf_mitigated_i.overall) / tpr_rf\n",
    "    tpr_rf_list[i] = relative_change_tpr_i\n",
    "    \n",
    "    #evaluating fairness in terms of fpr\n",
    "    fpr_rf_mitigated_i = MetricFrame(fpr, y1_test_enc, y1_pred_rf, sensitive_features=gender)\n",
    "    relative_change_fpr_i = (fpr_rf - fpr_rf_mitigated_i.overall) / fpr_rf\n",
    "    fpr_rf_list[i] = relative_change_fpr_i\n",
    "    \n",
    "toc = time.time()\n",
    "\n",
    "print('time:', round(toc-tic,2), 's')"
   ]
  },
  {
   "cell_type": "code",
   "execution_count": null,
   "metadata": {},
   "outputs": [],
   "source": []
  },
  {
   "cell_type": "code",
   "execution_count": null,
   "metadata": {},
   "outputs": [],
   "source": []
  },
  {
   "cell_type": "code",
   "execution_count": null,
   "metadata": {},
   "outputs": [],
   "source": []
  },
  {
   "cell_type": "markdown",
   "metadata": {},
   "source": [
    "## Data preparation"
   ]
  },
  {
   "cell_type": "code",
   "execution_count": 2,
   "metadata": {
    "colab": {
     "base_uri": "https://localhost:8080/",
     "height": 702
    },
    "executionInfo": {
     "elapsed": 5599,
     "status": "ok",
     "timestamp": 1614207680959,
     "user": {
      "displayName": "Armand Sauzay",
      "photoUrl": "https://lh3.googleusercontent.com/a-/AOh14GhSIx1YAntEkGdNvdJfho_y-lCcaYPnyw9BHSfZ=s64",
      "userId": "07373814862822458780"
     },
     "user_tz": 480
    },
    "id": "3ItSS1njRTTB",
    "outputId": "e7f1c5ab-a7bb-4396-b5cf-0208348bd588",
    "scrolled": false
   },
   "outputs": [
    {
     "data": {
      "text/html": [
       "<div>\n",
       "<style scoped>\n",
       "    .dataframe tbody tr th:only-of-type {\n",
       "        vertical-align: middle;\n",
       "    }\n",
       "\n",
       "    .dataframe tbody tr th {\n",
       "        vertical-align: top;\n",
       "    }\n",
       "\n",
       "    .dataframe thead th {\n",
       "        text-align: right;\n",
       "    }\n",
       "</style>\n",
       "<table border=\"1\" class=\"dataframe\">\n",
       "  <thead>\n",
       "    <tr style=\"text-align: right;\">\n",
       "      <th></th>\n",
       "      <th>Timestamp_impressions</th>\n",
       "      <th>Log Type</th>\n",
       "      <th>User-Agent_impressions</th>\n",
       "      <th>Region ID_impressions</th>\n",
       "      <th>City ID</th>\n",
       "      <th>Ad Exchange</th>\n",
       "      <th>Ad Slot Width</th>\n",
       "      <th>Ad Slot Height</th>\n",
       "      <th>Ad Slot Visibility</th>\n",
       "      <th>Ad Slot Format</th>\n",
       "      <th>...</th>\n",
       "      <th>13678</th>\n",
       "      <th>13776</th>\n",
       "      <th>13800</th>\n",
       "      <th>13866</th>\n",
       "      <th>13874</th>\n",
       "      <th>14273</th>\n",
       "      <th>16593</th>\n",
       "      <th>16617</th>\n",
       "      <th>16661</th>\n",
       "      <th>16706</th>\n",
       "    </tr>\n",
       "  </thead>\n",
       "  <tbody>\n",
       "    <tr>\n",
       "      <th>0</th>\n",
       "      <td>20130606000104828</td>\n",
       "      <td>1</td>\n",
       "      <td>Mozilla/4.0 (compatible; MSIE 8.0; Windows NT ...</td>\n",
       "      <td>216</td>\n",
       "      <td>219</td>\n",
       "      <td>1</td>\n",
       "      <td>336</td>\n",
       "      <td>280</td>\n",
       "      <td>2</td>\n",
       "      <td>1</td>\n",
       "      <td>...</td>\n",
       "      <td>0.0</td>\n",
       "      <td>0.0</td>\n",
       "      <td>0.0</td>\n",
       "      <td>0.0</td>\n",
       "      <td>0.0</td>\n",
       "      <td>0.0</td>\n",
       "      <td>0.0</td>\n",
       "      <td>0.0</td>\n",
       "      <td>0.0</td>\n",
       "      <td>0.0</td>\n",
       "    </tr>\n",
       "    <tr>\n",
       "      <th>1</th>\n",
       "      <td>20130606000104915</td>\n",
       "      <td>1</td>\n",
       "      <td>Mozilla/5.0 (Windows NT 5.1) AppleWebKit/537.1...</td>\n",
       "      <td>333</td>\n",
       "      <td>334</td>\n",
       "      <td>2</td>\n",
       "      <td>250</td>\n",
       "      <td>250</td>\n",
       "      <td>2</td>\n",
       "      <td>0</td>\n",
       "      <td>...</td>\n",
       "      <td>0.0</td>\n",
       "      <td>0.0</td>\n",
       "      <td>1.0</td>\n",
       "      <td>1.0</td>\n",
       "      <td>0.0</td>\n",
       "      <td>1.0</td>\n",
       "      <td>0.0</td>\n",
       "      <td>0.0</td>\n",
       "      <td>0.0</td>\n",
       "      <td>0.0</td>\n",
       "    </tr>\n",
       "    <tr>\n",
       "      <th>2</th>\n",
       "      <td>20130606000105049</td>\n",
       "      <td>1</td>\n",
       "      <td>Mozilla/5.0 (Linux; U; Android 4.1.1; zh-cn; M...</td>\n",
       "      <td>216</td>\n",
       "      <td>234</td>\n",
       "      <td>1</td>\n",
       "      <td>950</td>\n",
       "      <td>90</td>\n",
       "      <td>0</td>\n",
       "      <td>1</td>\n",
       "      <td>...</td>\n",
       "      <td>NaN</td>\n",
       "      <td>NaN</td>\n",
       "      <td>NaN</td>\n",
       "      <td>NaN</td>\n",
       "      <td>NaN</td>\n",
       "      <td>NaN</td>\n",
       "      <td>NaN</td>\n",
       "      <td>NaN</td>\n",
       "      <td>NaN</td>\n",
       "      <td>NaN</td>\n",
       "    </tr>\n",
       "    <tr>\n",
       "      <th>3</th>\n",
       "      <td>20130606000105216</td>\n",
       "      <td>1</td>\n",
       "      <td>Mozilla/5.0 (Windows NT 6.1) AppleWebKit/537.2...</td>\n",
       "      <td>79</td>\n",
       "      <td>79</td>\n",
       "      <td>2</td>\n",
       "      <td>728</td>\n",
       "      <td>90</td>\n",
       "      <td>2</td>\n",
       "      <td>0</td>\n",
       "      <td>...</td>\n",
       "      <td>0.0</td>\n",
       "      <td>0.0</td>\n",
       "      <td>0.0</td>\n",
       "      <td>1.0</td>\n",
       "      <td>0.0</td>\n",
       "      <td>0.0</td>\n",
       "      <td>0.0</td>\n",
       "      <td>0.0</td>\n",
       "      <td>0.0</td>\n",
       "      <td>0.0</td>\n",
       "    </tr>\n",
       "    <tr>\n",
       "      <th>4</th>\n",
       "      <td>20130606000105295</td>\n",
       "      <td>1</td>\n",
       "      <td>Mozilla/5.0 (Windows NT 5.1) AppleWebKit/537.2...</td>\n",
       "      <td>80</td>\n",
       "      <td>86</td>\n",
       "      <td>1</td>\n",
       "      <td>300</td>\n",
       "      <td>250</td>\n",
       "      <td>0</td>\n",
       "      <td>1</td>\n",
       "      <td>...</td>\n",
       "      <td>NaN</td>\n",
       "      <td>NaN</td>\n",
       "      <td>NaN</td>\n",
       "      <td>NaN</td>\n",
       "      <td>NaN</td>\n",
       "      <td>NaN</td>\n",
       "      <td>NaN</td>\n",
       "      <td>NaN</td>\n",
       "      <td>NaN</td>\n",
       "      <td>NaN</td>\n",
       "    </tr>\n",
       "  </tbody>\n",
       "</table>\n",
       "<p>5 rows × 64 columns</p>\n",
       "</div>"
      ],
      "text/plain": [
       "   Timestamp_impressions  Log Type  \\\n",
       "0      20130606000104828         1   \n",
       "1      20130606000104915         1   \n",
       "2      20130606000105049         1   \n",
       "3      20130606000105216         1   \n",
       "4      20130606000105295         1   \n",
       "\n",
       "                              User-Agent_impressions  Region ID_impressions  \\\n",
       "0  Mozilla/4.0 (compatible; MSIE 8.0; Windows NT ...                    216   \n",
       "1  Mozilla/5.0 (Windows NT 5.1) AppleWebKit/537.1...                    333   \n",
       "2  Mozilla/5.0 (Linux; U; Android 4.1.1; zh-cn; M...                    216   \n",
       "3  Mozilla/5.0 (Windows NT 6.1) AppleWebKit/537.2...                     79   \n",
       "4  Mozilla/5.0 (Windows NT 5.1) AppleWebKit/537.2...                     80   \n",
       "\n",
       "   City ID  Ad Exchange  Ad Slot Width  Ad Slot Height  Ad Slot Visibility  \\\n",
       "0      219            1            336             280                   2   \n",
       "1      334            2            250             250                   2   \n",
       "2      234            1            950              90                   0   \n",
       "3       79            2            728              90                   2   \n",
       "4       86            1            300             250                   0   \n",
       "\n",
       "   Ad Slot Format  ...  13678  13776  13800  13866 13874  14273 16593 16617  \\\n",
       "0               1  ...    0.0    0.0    0.0    0.0   0.0    0.0   0.0   0.0   \n",
       "1               0  ...    0.0    0.0    1.0    1.0   0.0    1.0   0.0   0.0   \n",
       "2               1  ...    NaN    NaN    NaN    NaN   NaN    NaN   NaN   NaN   \n",
       "3               0  ...    0.0    0.0    0.0    1.0   0.0    0.0   0.0   0.0   \n",
       "4               1  ...    NaN    NaN    NaN    NaN   NaN    NaN   NaN   NaN   \n",
       "\n",
       "   16661  16706  \n",
       "0    0.0    0.0  \n",
       "1    0.0    0.0  \n",
       "2    NaN    NaN  \n",
       "3    0.0    0.0  \n",
       "4    NaN    NaN  \n",
       "\n",
       "[5 rows x 64 columns]"
      ]
     },
     "execution_count": 2,
     "metadata": {},
     "output_type": "execute_result"
    }
   ],
   "source": [
    "com_ad = pd.read_csv('imp_to_click_final.csv')\n",
    "com_ad.drop(['Unnamed: 0'], axis=1, inplace=True)\n",
    "# com_ad.info()\n",
    "com_ad.head()"
   ]
  },
  {
   "cell_type": "code",
   "execution_count": 3,
   "metadata": {},
   "outputs": [
    {
     "data": {
      "text/plain": [
       "(131097, 64)"
      ]
     },
     "execution_count": 3,
     "metadata": {},
     "output_type": "execute_result"
    }
   ],
   "source": [
    "com_ad.shape"
   ]
  },
  {
   "cell_type": "code",
   "execution_count": 4,
   "metadata": {},
   "outputs": [
    {
     "data": {
      "text/plain": [
       "Index(['Timestamp_impressions', 'Log Type', 'User-Agent_impressions',\n",
       "       'Region ID_impressions', 'City ID', 'Ad Exchange', 'Ad Slot Width',\n",
       "       'Ad Slot Height', 'Ad Slot Visibility', 'Ad Slot Format',\n",
       "       'Ad Slot Floor Price', 'Bidding Price', 'Paying Price', 'Advertiser ID',\n",
       "       'User Profile IDs_impressions', 'Timestamp_clicks', 'User-Agent_clicks',\n",
       "       'User Profile IDs_clicks', 'Region ID_clicks', 'n_clicks', 'has click',\n",
       "       '10006', '10024', '10031', '10048', '10052', '10057', '10059', '10063',\n",
       "       '10067', '10074', '10075', '10076', '10077', '10079', '10083', '10093',\n",
       "       '10102', '10110', '10111', '10684', '11092', '11278', '11379', '11423',\n",
       "       '11512', '11576', '11632', '11680', '11724', '11944', '13042', '13403',\n",
       "       '13496', '13678', '13776', '13800', '13866', '13874', '14273', '16593',\n",
       "       '16617', '16661', '16706'],\n",
       "      dtype='object')"
      ]
     },
     "execution_count": 4,
     "metadata": {},
     "output_type": "execute_result"
    }
   ],
   "source": [
    "com_ad.columns"
   ]
  },
  {
   "cell_type": "code",
   "execution_count": 4,
   "metadata": {},
   "outputs": [],
   "source": [
    "com_ad['gender'] = com_ad['10110'] + com_ad['10111']"
   ]
  },
  {
   "cell_type": "code",
   "execution_count": 5,
   "metadata": {},
   "outputs": [
    {
     "data": {
      "text/plain": [
       "(88652, 65)"
      ]
     },
     "execution_count": 5,
     "metadata": {},
     "output_type": "execute_result"
    }
   ],
   "source": [
    "com_ad = com_ad[com_ad['gender']==1]\n",
    "com_ad.shape"
   ]
  },
  {
   "cell_type": "code",
   "execution_count": 6,
   "metadata": {},
   "outputs": [
    {
     "data": {
      "text/plain": [
       "0"
      ]
     },
     "execution_count": 6,
     "metadata": {},
     "output_type": "execute_result"
    }
   ],
   "source": [
    "com_ad['10110'].isna().sum()"
   ]
  },
  {
   "cell_type": "code",
   "execution_count": 7,
   "metadata": {},
   "outputs": [
    {
     "data": {
      "text/plain": [
       "0"
      ]
     },
     "execution_count": 7,
     "metadata": {},
     "output_type": "execute_result"
    }
   ],
   "source": [
    "com_ad['10111'].isna().sum()"
   ]
  },
  {
   "cell_type": "code",
   "execution_count": 8,
   "metadata": {},
   "outputs": [],
   "source": [
    "com_ad = com_ad.drop(['gender','10111'],axis=1)\n",
    "com_ad = com_ad.rename(columns={'10110':'is_male'})"
   ]
  },
  {
   "cell_type": "markdown",
   "metadata": {},
   "source": [
    "#### fillna with 0 to indicate if a specific user profile exists excluding gender"
   ]
  },
  {
   "cell_type": "code",
   "execution_count": 10,
   "metadata": {},
   "outputs": [
    {
     "data": {
      "text/html": [
       "<div>\n",
       "<style scoped>\n",
       "    .dataframe tbody tr th:only-of-type {\n",
       "        vertical-align: middle;\n",
       "    }\n",
       "\n",
       "    .dataframe tbody tr th {\n",
       "        vertical-align: top;\n",
       "    }\n",
       "\n",
       "    .dataframe thead th {\n",
       "        text-align: right;\n",
       "    }\n",
       "</style>\n",
       "<table border=\"1\" class=\"dataframe\">\n",
       "  <thead>\n",
       "    <tr style=\"text-align: right;\">\n",
       "      <th></th>\n",
       "      <th>10006</th>\n",
       "      <th>10024</th>\n",
       "      <th>10031</th>\n",
       "      <th>10048</th>\n",
       "      <th>10052</th>\n",
       "      <th>10057</th>\n",
       "      <th>10059</th>\n",
       "      <th>10063</th>\n",
       "      <th>10067</th>\n",
       "      <th>10074</th>\n",
       "      <th>...</th>\n",
       "      <th>13678</th>\n",
       "      <th>13776</th>\n",
       "      <th>13800</th>\n",
       "      <th>13866</th>\n",
       "      <th>13874</th>\n",
       "      <th>14273</th>\n",
       "      <th>16593</th>\n",
       "      <th>16617</th>\n",
       "      <th>16661</th>\n",
       "      <th>16706</th>\n",
       "    </tr>\n",
       "  </thead>\n",
       "  <tbody>\n",
       "    <tr>\n",
       "      <th>0</th>\n",
       "      <td>1.0</td>\n",
       "      <td>0.0</td>\n",
       "      <td>0.0</td>\n",
       "      <td>0.0</td>\n",
       "      <td>0.0</td>\n",
       "      <td>0.0</td>\n",
       "      <td>0.0</td>\n",
       "      <td>0.0</td>\n",
       "      <td>0.0</td>\n",
       "      <td>0.0</td>\n",
       "      <td>...</td>\n",
       "      <td>0.0</td>\n",
       "      <td>0.0</td>\n",
       "      <td>0.0</td>\n",
       "      <td>0.0</td>\n",
       "      <td>0.0</td>\n",
       "      <td>0.0</td>\n",
       "      <td>0.0</td>\n",
       "      <td>0.0</td>\n",
       "      <td>0.0</td>\n",
       "      <td>0.0</td>\n",
       "    </tr>\n",
       "    <tr>\n",
       "      <th>1</th>\n",
       "      <td>1.0</td>\n",
       "      <td>1.0</td>\n",
       "      <td>1.0</td>\n",
       "      <td>0.0</td>\n",
       "      <td>1.0</td>\n",
       "      <td>0.0</td>\n",
       "      <td>0.0</td>\n",
       "      <td>1.0</td>\n",
       "      <td>0.0</td>\n",
       "      <td>0.0</td>\n",
       "      <td>...</td>\n",
       "      <td>0.0</td>\n",
       "      <td>0.0</td>\n",
       "      <td>1.0</td>\n",
       "      <td>1.0</td>\n",
       "      <td>0.0</td>\n",
       "      <td>1.0</td>\n",
       "      <td>0.0</td>\n",
       "      <td>0.0</td>\n",
       "      <td>0.0</td>\n",
       "      <td>0.0</td>\n",
       "    </tr>\n",
       "    <tr>\n",
       "      <th>3</th>\n",
       "      <td>1.0</td>\n",
       "      <td>1.0</td>\n",
       "      <td>0.0</td>\n",
       "      <td>0.0</td>\n",
       "      <td>1.0</td>\n",
       "      <td>1.0</td>\n",
       "      <td>0.0</td>\n",
       "      <td>1.0</td>\n",
       "      <td>0.0</td>\n",
       "      <td>0.0</td>\n",
       "      <td>...</td>\n",
       "      <td>0.0</td>\n",
       "      <td>0.0</td>\n",
       "      <td>0.0</td>\n",
       "      <td>1.0</td>\n",
       "      <td>0.0</td>\n",
       "      <td>0.0</td>\n",
       "      <td>0.0</td>\n",
       "      <td>0.0</td>\n",
       "      <td>0.0</td>\n",
       "      <td>0.0</td>\n",
       "    </tr>\n",
       "    <tr>\n",
       "      <th>9</th>\n",
       "      <td>1.0</td>\n",
       "      <td>0.0</td>\n",
       "      <td>1.0</td>\n",
       "      <td>1.0</td>\n",
       "      <td>0.0</td>\n",
       "      <td>0.0</td>\n",
       "      <td>1.0</td>\n",
       "      <td>1.0</td>\n",
       "      <td>0.0</td>\n",
       "      <td>0.0</td>\n",
       "      <td>...</td>\n",
       "      <td>0.0</td>\n",
       "      <td>0.0</td>\n",
       "      <td>0.0</td>\n",
       "      <td>1.0</td>\n",
       "      <td>0.0</td>\n",
       "      <td>1.0</td>\n",
       "      <td>0.0</td>\n",
       "      <td>0.0</td>\n",
       "      <td>0.0</td>\n",
       "      <td>0.0</td>\n",
       "    </tr>\n",
       "    <tr>\n",
       "      <th>12</th>\n",
       "      <td>0.0</td>\n",
       "      <td>0.0</td>\n",
       "      <td>0.0</td>\n",
       "      <td>0.0</td>\n",
       "      <td>0.0</td>\n",
       "      <td>0.0</td>\n",
       "      <td>0.0</td>\n",
       "      <td>1.0</td>\n",
       "      <td>0.0</td>\n",
       "      <td>0.0</td>\n",
       "      <td>...</td>\n",
       "      <td>0.0</td>\n",
       "      <td>0.0</td>\n",
       "      <td>0.0</td>\n",
       "      <td>0.0</td>\n",
       "      <td>0.0</td>\n",
       "      <td>0.0</td>\n",
       "      <td>0.0</td>\n",
       "      <td>0.0</td>\n",
       "      <td>0.0</td>\n",
       "      <td>0.0</td>\n",
       "    </tr>\n",
       "    <tr>\n",
       "      <th>...</th>\n",
       "      <td>...</td>\n",
       "      <td>...</td>\n",
       "      <td>...</td>\n",
       "      <td>...</td>\n",
       "      <td>...</td>\n",
       "      <td>...</td>\n",
       "      <td>...</td>\n",
       "      <td>...</td>\n",
       "      <td>...</td>\n",
       "      <td>...</td>\n",
       "      <td>...</td>\n",
       "      <td>...</td>\n",
       "      <td>...</td>\n",
       "      <td>...</td>\n",
       "      <td>...</td>\n",
       "      <td>...</td>\n",
       "      <td>...</td>\n",
       "      <td>...</td>\n",
       "      <td>...</td>\n",
       "      <td>...</td>\n",
       "      <td>...</td>\n",
       "    </tr>\n",
       "    <tr>\n",
       "      <th>131092</th>\n",
       "      <td>1.0</td>\n",
       "      <td>0.0</td>\n",
       "      <td>0.0</td>\n",
       "      <td>0.0</td>\n",
       "      <td>0.0</td>\n",
       "      <td>0.0</td>\n",
       "      <td>0.0</td>\n",
       "      <td>0.0</td>\n",
       "      <td>0.0</td>\n",
       "      <td>0.0</td>\n",
       "      <td>...</td>\n",
       "      <td>0.0</td>\n",
       "      <td>0.0</td>\n",
       "      <td>0.0</td>\n",
       "      <td>0.0</td>\n",
       "      <td>0.0</td>\n",
       "      <td>0.0</td>\n",
       "      <td>0.0</td>\n",
       "      <td>0.0</td>\n",
       "      <td>0.0</td>\n",
       "      <td>0.0</td>\n",
       "    </tr>\n",
       "    <tr>\n",
       "      <th>131093</th>\n",
       "      <td>1.0</td>\n",
       "      <td>1.0</td>\n",
       "      <td>0.0</td>\n",
       "      <td>0.0</td>\n",
       "      <td>1.0</td>\n",
       "      <td>1.0</td>\n",
       "      <td>0.0</td>\n",
       "      <td>1.0</td>\n",
       "      <td>0.0</td>\n",
       "      <td>0.0</td>\n",
       "      <td>...</td>\n",
       "      <td>0.0</td>\n",
       "      <td>0.0</td>\n",
       "      <td>0.0</td>\n",
       "      <td>0.0</td>\n",
       "      <td>0.0</td>\n",
       "      <td>0.0</td>\n",
       "      <td>0.0</td>\n",
       "      <td>0.0</td>\n",
       "      <td>0.0</td>\n",
       "      <td>0.0</td>\n",
       "    </tr>\n",
       "    <tr>\n",
       "      <th>131094</th>\n",
       "      <td>1.0</td>\n",
       "      <td>0.0</td>\n",
       "      <td>0.0</td>\n",
       "      <td>0.0</td>\n",
       "      <td>0.0</td>\n",
       "      <td>1.0</td>\n",
       "      <td>1.0</td>\n",
       "      <td>1.0</td>\n",
       "      <td>0.0</td>\n",
       "      <td>0.0</td>\n",
       "      <td>...</td>\n",
       "      <td>0.0</td>\n",
       "      <td>0.0</td>\n",
       "      <td>0.0</td>\n",
       "      <td>0.0</td>\n",
       "      <td>0.0</td>\n",
       "      <td>0.0</td>\n",
       "      <td>0.0</td>\n",
       "      <td>0.0</td>\n",
       "      <td>0.0</td>\n",
       "      <td>0.0</td>\n",
       "    </tr>\n",
       "    <tr>\n",
       "      <th>131095</th>\n",
       "      <td>1.0</td>\n",
       "      <td>1.0</td>\n",
       "      <td>0.0</td>\n",
       "      <td>0.0</td>\n",
       "      <td>1.0</td>\n",
       "      <td>1.0</td>\n",
       "      <td>1.0</td>\n",
       "      <td>1.0</td>\n",
       "      <td>0.0</td>\n",
       "      <td>0.0</td>\n",
       "      <td>...</td>\n",
       "      <td>0.0</td>\n",
       "      <td>0.0</td>\n",
       "      <td>0.0</td>\n",
       "      <td>0.0</td>\n",
       "      <td>0.0</td>\n",
       "      <td>1.0</td>\n",
       "      <td>0.0</td>\n",
       "      <td>0.0</td>\n",
       "      <td>0.0</td>\n",
       "      <td>0.0</td>\n",
       "    </tr>\n",
       "    <tr>\n",
       "      <th>131096</th>\n",
       "      <td>1.0</td>\n",
       "      <td>0.0</td>\n",
       "      <td>0.0</td>\n",
       "      <td>0.0</td>\n",
       "      <td>0.0</td>\n",
       "      <td>0.0</td>\n",
       "      <td>1.0</td>\n",
       "      <td>1.0</td>\n",
       "      <td>0.0</td>\n",
       "      <td>0.0</td>\n",
       "      <td>...</td>\n",
       "      <td>0.0</td>\n",
       "      <td>0.0</td>\n",
       "      <td>0.0</td>\n",
       "      <td>0.0</td>\n",
       "      <td>0.0</td>\n",
       "      <td>0.0</td>\n",
       "      <td>0.0</td>\n",
       "      <td>0.0</td>\n",
       "      <td>0.0</td>\n",
       "      <td>0.0</td>\n",
       "    </tr>\n",
       "  </tbody>\n",
       "</table>\n",
       "<p>88652 rows × 41 columns</p>\n",
       "</div>"
      ],
      "text/plain": [
       "        10006  10024  10031  10048  10052  10057  10059  10063  10067  10074  \\\n",
       "0         1.0    0.0    0.0    0.0    0.0    0.0    0.0    0.0    0.0    0.0   \n",
       "1         1.0    1.0    1.0    0.0    1.0    0.0    0.0    1.0    0.0    0.0   \n",
       "3         1.0    1.0    0.0    0.0    1.0    1.0    0.0    1.0    0.0    0.0   \n",
       "9         1.0    0.0    1.0    1.0    0.0    0.0    1.0    1.0    0.0    0.0   \n",
       "12        0.0    0.0    0.0    0.0    0.0    0.0    0.0    1.0    0.0    0.0   \n",
       "...       ...    ...    ...    ...    ...    ...    ...    ...    ...    ...   \n",
       "131092    1.0    0.0    0.0    0.0    0.0    0.0    0.0    0.0    0.0    0.0   \n",
       "131093    1.0    1.0    0.0    0.0    1.0    1.0    0.0    1.0    0.0    0.0   \n",
       "131094    1.0    0.0    0.0    0.0    0.0    1.0    1.0    1.0    0.0    0.0   \n",
       "131095    1.0    1.0    0.0    0.0    1.0    1.0    1.0    1.0    0.0    0.0   \n",
       "131096    1.0    0.0    0.0    0.0    0.0    0.0    1.0    1.0    0.0    0.0   \n",
       "\n",
       "        ...  13678  13776  13800  13866  13874  14273  16593  16617  16661  \\\n",
       "0       ...    0.0    0.0    0.0    0.0    0.0    0.0    0.0    0.0    0.0   \n",
       "1       ...    0.0    0.0    1.0    1.0    0.0    1.0    0.0    0.0    0.0   \n",
       "3       ...    0.0    0.0    0.0    1.0    0.0    0.0    0.0    0.0    0.0   \n",
       "9       ...    0.0    0.0    0.0    1.0    0.0    1.0    0.0    0.0    0.0   \n",
       "12      ...    0.0    0.0    0.0    0.0    0.0    0.0    0.0    0.0    0.0   \n",
       "...     ...    ...    ...    ...    ...    ...    ...    ...    ...    ...   \n",
       "131092  ...    0.0    0.0    0.0    0.0    0.0    0.0    0.0    0.0    0.0   \n",
       "131093  ...    0.0    0.0    0.0    0.0    0.0    0.0    0.0    0.0    0.0   \n",
       "131094  ...    0.0    0.0    0.0    0.0    0.0    0.0    0.0    0.0    0.0   \n",
       "131095  ...    0.0    0.0    0.0    0.0    0.0    1.0    0.0    0.0    0.0   \n",
       "131096  ...    0.0    0.0    0.0    0.0    0.0    0.0    0.0    0.0    0.0   \n",
       "\n",
       "        16706  \n",
       "0         0.0  \n",
       "1         0.0  \n",
       "3         0.0  \n",
       "9         0.0  \n",
       "12        0.0  \n",
       "...       ...  \n",
       "131092    0.0  \n",
       "131093    0.0  \n",
       "131094    0.0  \n",
       "131095    0.0  \n",
       "131096    0.0  \n",
       "\n",
       "[88652 rows x 41 columns]"
      ]
     },
     "execution_count": 10,
     "metadata": {},
     "output_type": "execute_result"
    }
   ],
   "source": [
    "# fillna with 0 to indicate if a specific user profile exists\n",
    "com_ad[['10006','10024', '10031', '10048', '10052', '10057', '10059', '10063', '10067',\n",
    "       '10074', '10075', '10076', '10077', '10079', '10083', '10093', '10102',\n",
    "       '10684', '11092', '11278', '11379', '11423', '11512',\n",
    "       '11576', '11632', '11680', '11724', '11944', '13042', '13403', '13496',\n",
    "       '13678', '13776', '13800', '13866', '13874', '14273', '16593', '16617',\n",
    "       '16661', '16706']] = com_ad[['10006','10024', '10031', '10048', '10052', '10057', '10059', '10063', '10067',\n",
    "       '10074', '10075', '10076', '10077', '10079', '10083', '10093', '10102',\n",
    "       '10684', '11092', '11278', '11379', '11423', '11512',\n",
    "       '11576', '11632', '11680', '11724', '11944', '13042', '13403', '13496',\n",
    "       '13678', '13776', '13800', '13866', '13874', '14273', '16593', '16617',\n",
    "       '16661', '16706']].fillna(0)\n",
    "\n",
    "com_ad[['10006','10024', '10031', '10048', '10052', '10057', '10059', '10063', '10067',\n",
    "       '10074', '10075', '10076', '10077', '10079', '10083', '10093', '10102',\n",
    "       '10684', '11092', '11278', '11379', '11423', '11512',\n",
    "       '11576', '11632', '11680', '11724', '11944', '13042', '13403', '13496',\n",
    "       '13678', '13776', '13800', '13866', '13874', '14273', '16593', '16617',\n",
    "       '16661', '16706']]"
   ]
  },
  {
   "cell_type": "markdown",
   "metadata": {},
   "source": [
    "#### Keep columns that are useful for model from imp to click"
   ]
  },
  {
   "cell_type": "code",
   "execution_count": 11,
   "metadata": {},
   "outputs": [
    {
     "data": {
      "text/plain": [
       "(88652, 56)"
      ]
     },
     "execution_count": 11,
     "metadata": {},
     "output_type": "execute_result"
    }
   ],
   "source": [
    "ad_imp = com_ad[['Timestamp_impressions', 'Log Type', \n",
    "       'Region ID_impressions', 'City ID', 'Ad Exchange', 'Ad Slot Width',\n",
    "       'Ad Slot Height', 'Ad Slot Visibility', 'Ad Slot Format',\n",
    "       'Ad Slot Floor Price', 'Bidding Price', 'Paying Price', 'Advertiser ID',\n",
    "       'has click',\n",
    "       '10006', '10024', '10031', '10048', '10052', '10057', '10059', '10063',\n",
    "       '10067', '10074', '10075', '10076', '10077', '10079', '10083', '10093',\n",
    "       '10102', 'is_male', '10684', '11092', '11278', '11379', '11423',\n",
    "       '11512', '11576', '11632', '11680', '11724', '11944', '13042', '13403',\n",
    "       '13496', '13678', '13776', '13800', '13866', '13874', '14273', '16593',\n",
    "       '16617', '16661', '16706']]\n",
    "\n",
    "ad_imp.shape"
   ]
  },
  {
   "cell_type": "code",
   "execution_count": null,
   "metadata": {},
   "outputs": [],
   "source": [
    "corr = ad_imp.corr()\n",
    "sns.heatmap(corr, xticklabels=corr.columns, yticklabels=corr.columns)"
   ]
  },
  {
   "cell_type": "code",
   "execution_count": null,
   "metadata": {},
   "outputs": [],
   "source": [
    "# print top two correlations for each column \n",
    "for i in ad_imp.columns:\n",
    "    print(corr[i].nlargest(2))"
   ]
  },
  {
   "cell_type": "markdown",
   "metadata": {},
   "source": [
    "#### Remove the city id since it's highly related to region id"
   ]
  },
  {
   "cell_type": "code",
   "execution_count": 12,
   "metadata": {},
   "outputs": [
    {
     "data": {
      "text/plain": [
       "(88652, 55)"
      ]
     },
     "execution_count": 12,
     "metadata": {},
     "output_type": "execute_result"
    }
   ],
   "source": [
    "ad_imp = ad_imp.drop(['City ID'], axis=1)\n",
    "ad_imp.shape"
   ]
  },
  {
   "cell_type": "code",
   "execution_count": 13,
   "metadata": {},
   "outputs": [
    {
     "data": {
      "text/html": [
       "<div>\n",
       "<style scoped>\n",
       "    .dataframe tbody tr th:only-of-type {\n",
       "        vertical-align: middle;\n",
       "    }\n",
       "\n",
       "    .dataframe tbody tr th {\n",
       "        vertical-align: top;\n",
       "    }\n",
       "\n",
       "    .dataframe thead th {\n",
       "        text-align: right;\n",
       "    }\n",
       "</style>\n",
       "<table border=\"1\" class=\"dataframe\">\n",
       "  <thead>\n",
       "    <tr style=\"text-align: right;\">\n",
       "      <th></th>\n",
       "      <th>Timestamp_impressions</th>\n",
       "      <th>Log Type</th>\n",
       "      <th>Region ID_impressions</th>\n",
       "      <th>Ad Exchange</th>\n",
       "      <th>Ad Slot Width</th>\n",
       "      <th>Ad Slot Height</th>\n",
       "      <th>Ad Slot Visibility</th>\n",
       "      <th>Ad Slot Format</th>\n",
       "      <th>Ad Slot Floor Price</th>\n",
       "      <th>Bidding Price</th>\n",
       "      <th>...</th>\n",
       "      <th>13678</th>\n",
       "      <th>13776</th>\n",
       "      <th>13800</th>\n",
       "      <th>13866</th>\n",
       "      <th>13874</th>\n",
       "      <th>14273</th>\n",
       "      <th>16593</th>\n",
       "      <th>16617</th>\n",
       "      <th>16661</th>\n",
       "      <th>16706</th>\n",
       "    </tr>\n",
       "  </thead>\n",
       "  <tbody>\n",
       "    <tr>\n",
       "      <th>count</th>\n",
       "      <td>8.865200e+04</td>\n",
       "      <td>88652.0</td>\n",
       "      <td>88652.000000</td>\n",
       "      <td>88652.000000</td>\n",
       "      <td>88652.000000</td>\n",
       "      <td>88652.000000</td>\n",
       "      <td>88652.000000</td>\n",
       "      <td>88652.000000</td>\n",
       "      <td>88652.000000</td>\n",
       "      <td>88652.000000</td>\n",
       "      <td>...</td>\n",
       "      <td>88652.000000</td>\n",
       "      <td>88652.000000</td>\n",
       "      <td>88652.000000</td>\n",
       "      <td>88652.000000</td>\n",
       "      <td>88652.000000</td>\n",
       "      <td>88652.000000</td>\n",
       "      <td>88652.000000</td>\n",
       "      <td>88652.000000</td>\n",
       "      <td>88652.000000</td>\n",
       "      <td>88652.000000</td>\n",
       "    </tr>\n",
       "    <tr>\n",
       "      <th>mean</th>\n",
       "      <td>2.013061e+16</td>\n",
       "      <td>1.0</td>\n",
       "      <td>143.652033</td>\n",
       "      <td>2.074753</td>\n",
       "      <td>596.181812</td>\n",
       "      <td>192.394193</td>\n",
       "      <td>3.098091</td>\n",
       "      <td>0.364391</td>\n",
       "      <td>27.381920</td>\n",
       "      <td>268.064680</td>\n",
       "      <td>...</td>\n",
       "      <td>0.022932</td>\n",
       "      <td>0.061014</td>\n",
       "      <td>0.123663</td>\n",
       "      <td>0.236836</td>\n",
       "      <td>0.001072</td>\n",
       "      <td>0.129642</td>\n",
       "      <td>0.001286</td>\n",
       "      <td>0.001974</td>\n",
       "      <td>0.003305</td>\n",
       "      <td>0.002008</td>\n",
       "    </tr>\n",
       "    <tr>\n",
       "      <th>std</th>\n",
       "      <td>1.984319e+09</td>\n",
       "      <td>0.0</td>\n",
       "      <td>102.245699</td>\n",
       "      <td>0.839593</td>\n",
       "      <td>328.123548</td>\n",
       "      <td>132.482990</td>\n",
       "      <td>23.979628</td>\n",
       "      <td>0.681330</td>\n",
       "      <td>34.636356</td>\n",
       "      <td>30.345306</td>\n",
       "      <td>...</td>\n",
       "      <td>0.149689</td>\n",
       "      <td>0.239357</td>\n",
       "      <td>0.329199</td>\n",
       "      <td>0.425143</td>\n",
       "      <td>0.032718</td>\n",
       "      <td>0.335911</td>\n",
       "      <td>0.035837</td>\n",
       "      <td>0.044386</td>\n",
       "      <td>0.057395</td>\n",
       "      <td>0.044764</td>\n",
       "    </tr>\n",
       "    <tr>\n",
       "      <th>min</th>\n",
       "      <td>2.013061e+16</td>\n",
       "      <td>1.0</td>\n",
       "      <td>0.000000</td>\n",
       "      <td>1.000000</td>\n",
       "      <td>120.000000</td>\n",
       "      <td>60.000000</td>\n",
       "      <td>0.000000</td>\n",
       "      <td>0.000000</td>\n",
       "      <td>0.000000</td>\n",
       "      <td>227.000000</td>\n",
       "      <td>...</td>\n",
       "      <td>0.000000</td>\n",
       "      <td>0.000000</td>\n",
       "      <td>0.000000</td>\n",
       "      <td>0.000000</td>\n",
       "      <td>0.000000</td>\n",
       "      <td>0.000000</td>\n",
       "      <td>0.000000</td>\n",
       "      <td>0.000000</td>\n",
       "      <td>0.000000</td>\n",
       "      <td>0.000000</td>\n",
       "    </tr>\n",
       "    <tr>\n",
       "      <th>25%</th>\n",
       "      <td>2.013061e+16</td>\n",
       "      <td>1.0</td>\n",
       "      <td>65.000000</td>\n",
       "      <td>1.000000</td>\n",
       "      <td>300.000000</td>\n",
       "      <td>90.000000</td>\n",
       "      <td>0.000000</td>\n",
       "      <td>0.000000</td>\n",
       "      <td>0.000000</td>\n",
       "      <td>238.000000</td>\n",
       "      <td>...</td>\n",
       "      <td>0.000000</td>\n",
       "      <td>0.000000</td>\n",
       "      <td>0.000000</td>\n",
       "      <td>0.000000</td>\n",
       "      <td>0.000000</td>\n",
       "      <td>0.000000</td>\n",
       "      <td>0.000000</td>\n",
       "      <td>0.000000</td>\n",
       "      <td>0.000000</td>\n",
       "      <td>0.000000</td>\n",
       "    </tr>\n",
       "    <tr>\n",
       "      <th>50%</th>\n",
       "      <td>2.013061e+16</td>\n",
       "      <td>1.0</td>\n",
       "      <td>134.000000</td>\n",
       "      <td>2.000000</td>\n",
       "      <td>468.000000</td>\n",
       "      <td>90.000000</td>\n",
       "      <td>0.000000</td>\n",
       "      <td>0.000000</td>\n",
       "      <td>5.000000</td>\n",
       "      <td>254.000000</td>\n",
       "      <td>...</td>\n",
       "      <td>0.000000</td>\n",
       "      <td>0.000000</td>\n",
       "      <td>0.000000</td>\n",
       "      <td>0.000000</td>\n",
       "      <td>0.000000</td>\n",
       "      <td>0.000000</td>\n",
       "      <td>0.000000</td>\n",
       "      <td>0.000000</td>\n",
       "      <td>0.000000</td>\n",
       "      <td>0.000000</td>\n",
       "    </tr>\n",
       "    <tr>\n",
       "      <th>75%</th>\n",
       "      <td>2.013061e+16</td>\n",
       "      <td>1.0</td>\n",
       "      <td>216.000000</td>\n",
       "      <td>3.000000</td>\n",
       "      <td>1000.000000</td>\n",
       "      <td>250.000000</td>\n",
       "      <td>2.000000</td>\n",
       "      <td>1.000000</td>\n",
       "      <td>50.000000</td>\n",
       "      <td>300.000000</td>\n",
       "      <td>...</td>\n",
       "      <td>0.000000</td>\n",
       "      <td>0.000000</td>\n",
       "      <td>0.000000</td>\n",
       "      <td>0.000000</td>\n",
       "      <td>0.000000</td>\n",
       "      <td>0.000000</td>\n",
       "      <td>0.000000</td>\n",
       "      <td>0.000000</td>\n",
       "      <td>0.000000</td>\n",
       "      <td>0.000000</td>\n",
       "    </tr>\n",
       "    <tr>\n",
       "      <th>max</th>\n",
       "      <td>2.013061e+16</td>\n",
       "      <td>1.0</td>\n",
       "      <td>395.000000</td>\n",
       "      <td>3.000000</td>\n",
       "      <td>1000.000000</td>\n",
       "      <td>600.000000</td>\n",
       "      <td>255.000000</td>\n",
       "      <td>5.000000</td>\n",
       "      <td>295.000000</td>\n",
       "      <td>300.000000</td>\n",
       "      <td>...</td>\n",
       "      <td>1.000000</td>\n",
       "      <td>1.000000</td>\n",
       "      <td>1.000000</td>\n",
       "      <td>1.000000</td>\n",
       "      <td>1.000000</td>\n",
       "      <td>1.000000</td>\n",
       "      <td>1.000000</td>\n",
       "      <td>1.000000</td>\n",
       "      <td>1.000000</td>\n",
       "      <td>1.000000</td>\n",
       "    </tr>\n",
       "  </tbody>\n",
       "</table>\n",
       "<p>8 rows × 55 columns</p>\n",
       "</div>"
      ],
      "text/plain": [
       "       Timestamp_impressions  Log Type  Region ID_impressions   Ad Exchange  \\\n",
       "count           8.865200e+04   88652.0           88652.000000  88652.000000   \n",
       "mean            2.013061e+16       1.0             143.652033      2.074753   \n",
       "std             1.984319e+09       0.0             102.245699      0.839593   \n",
       "min             2.013061e+16       1.0               0.000000      1.000000   \n",
       "25%             2.013061e+16       1.0              65.000000      1.000000   \n",
       "50%             2.013061e+16       1.0             134.000000      2.000000   \n",
       "75%             2.013061e+16       1.0             216.000000      3.000000   \n",
       "max             2.013061e+16       1.0             395.000000      3.000000   \n",
       "\n",
       "       Ad Slot Width  Ad Slot Height  Ad Slot Visibility  Ad Slot Format  \\\n",
       "count   88652.000000    88652.000000        88652.000000    88652.000000   \n",
       "mean      596.181812      192.394193            3.098091        0.364391   \n",
       "std       328.123548      132.482990           23.979628        0.681330   \n",
       "min       120.000000       60.000000            0.000000        0.000000   \n",
       "25%       300.000000       90.000000            0.000000        0.000000   \n",
       "50%       468.000000       90.000000            0.000000        0.000000   \n",
       "75%      1000.000000      250.000000            2.000000        1.000000   \n",
       "max      1000.000000      600.000000          255.000000        5.000000   \n",
       "\n",
       "       Ad Slot Floor Price  Bidding Price  ...         13678         13776  \\\n",
       "count         88652.000000   88652.000000  ...  88652.000000  88652.000000   \n",
       "mean             27.381920     268.064680  ...      0.022932      0.061014   \n",
       "std              34.636356      30.345306  ...      0.149689      0.239357   \n",
       "min               0.000000     227.000000  ...      0.000000      0.000000   \n",
       "25%               0.000000     238.000000  ...      0.000000      0.000000   \n",
       "50%               5.000000     254.000000  ...      0.000000      0.000000   \n",
       "75%              50.000000     300.000000  ...      0.000000      0.000000   \n",
       "max             295.000000     300.000000  ...      1.000000      1.000000   \n",
       "\n",
       "              13800         13866         13874         14273         16593  \\\n",
       "count  88652.000000  88652.000000  88652.000000  88652.000000  88652.000000   \n",
       "mean       0.123663      0.236836      0.001072      0.129642      0.001286   \n",
       "std        0.329199      0.425143      0.032718      0.335911      0.035837   \n",
       "min        0.000000      0.000000      0.000000      0.000000      0.000000   \n",
       "25%        0.000000      0.000000      0.000000      0.000000      0.000000   \n",
       "50%        0.000000      0.000000      0.000000      0.000000      0.000000   \n",
       "75%        0.000000      0.000000      0.000000      0.000000      0.000000   \n",
       "max        1.000000      1.000000      1.000000      1.000000      1.000000   \n",
       "\n",
       "              16617         16661         16706  \n",
       "count  88652.000000  88652.000000  88652.000000  \n",
       "mean       0.001974      0.003305      0.002008  \n",
       "std        0.044386      0.057395      0.044764  \n",
       "min        0.000000      0.000000      0.000000  \n",
       "25%        0.000000      0.000000      0.000000  \n",
       "50%        0.000000      0.000000      0.000000  \n",
       "75%        0.000000      0.000000      0.000000  \n",
       "max        1.000000      1.000000      1.000000  \n",
       "\n",
       "[8 rows x 55 columns]"
      ]
     },
     "execution_count": 13,
     "metadata": {},
     "output_type": "execute_result"
    }
   ],
   "source": [
    "ad_imp_summary = ad_imp.describe()\n",
    "ad_imp_summary"
   ]
  },
  {
   "cell_type": "code",
   "execution_count": 14,
   "metadata": {
    "scrolled": true
   },
   "outputs": [
    {
     "data": {
      "text/plain": [
       "Log Type    0.0\n",
       "Name: std, dtype: float64"
      ]
     },
     "execution_count": 14,
     "metadata": {},
     "output_type": "execute_result"
    }
   ],
   "source": [
    "# filter constant feature [std = 0]\n",
    "ad_imp_summary.loc['std'][ad_imp_summary.loc['std'] == 0]"
   ]
  },
  {
   "cell_type": "code",
   "execution_count": 15,
   "metadata": {},
   "outputs": [
    {
     "data": {
      "text/plain": [
       "(88652, 54)"
      ]
     },
     "execution_count": 15,
     "metadata": {},
     "output_type": "execute_result"
    }
   ],
   "source": [
    "# drop feature Log Type because it's a constant\n",
    "ad_imp.drop(['Log Type'], axis=1, inplace=True)\n",
    "ad_imp.shape"
   ]
  },
  {
   "cell_type": "markdown",
   "metadata": {},
   "source": [
    "#### filter data with `impression` == 1"
   ]
  },
  {
   "cell_type": "code",
   "execution_count": 16,
   "metadata": {},
   "outputs": [],
   "source": [
    "# filter has impression == 1 to get the suitable dataset\n",
    "ad_imp2clk = ad_imp.copy()"
   ]
  },
  {
   "cell_type": "markdown",
   "metadata": {},
   "source": [
    "#### Convert some numerical variables to categorical variables"
   ]
  },
  {
   "cell_type": "markdown",
   "metadata": {},
   "source": [
    "* Ad Exchange: the source of replacement of this as\n",
    "\n",
    "* Ad Slot Visibility: relative location to the fold\n",
    "\n",
    "* Ad Slot Format: popup / fixed\n",
    "\n",
    "* Advertiser ID: advertiser field\n",
    "\n",
    "* Region ID\n",
    "\n",
    "NOT include in the dataset\n",
    "\n",
    "** Ad Slot ID: the location of current id\n",
    "\n",
    "** Creative ID:"
   ]
  },
  {
   "cell_type": "code",
   "execution_count": 17,
   "metadata": {
    "scrolled": true
   },
   "outputs": [],
   "source": [
    "# set ad exchange as object to get dummy variables\n",
    "ad_imp2clk['Ad Exchange'] = ad_imp2clk['Ad Exchange'].astype('object')\n",
    "# set ad slot visibility as object to get dummy variables\n",
    "ad_imp2clk['Ad Slot Visibility'] = ad_imp2clk['Ad Slot Visibility'].astype('object')\n",
    "# set ad slot format as object to get dummy variables\n",
    "ad_imp2clk['Ad Slot Format'] = ad_imp2clk['Ad Slot Format'].astype('object')\n",
    "# set advertiser id as object to get dummy variables\n",
    "ad_imp2clk['Advertiser ID'] = ad_imp2clk['Advertiser ID'].astype('object')\n",
    "# set region id as object to get dummy variables\n",
    "ad_imp2clk['Region ID_impressions'] = ad_imp2clk['Region ID_impressions'].astype('object')"
   ]
  },
  {
   "cell_type": "markdown",
   "metadata": {},
   "source": [
    "#### Training and testing data for fairlearn constraint"
   ]
  },
  {
   "cell_type": "markdown",
   "metadata": {},
   "source": [
    "* Only used for extracting sensitive attribute"
   ]
  },
  {
   "cell_type": "code",
   "execution_count": 18,
   "metadata": {},
   "outputs": [
    {
     "name": "stdout",
     "output_type": "stream",
     "text": [
      "(64798, 54)\n",
      "(23854, 54)\n"
     ]
    }
   ],
   "source": [
    "# use earlier five days as training data\n",
    "imp2clk_train = ad_imp2clk[ad_imp2clk['Timestamp_impressions']<20130611000000000]\n",
    "print(imp2clk_train.shape)\n",
    "# use the following two days as testing data\n",
    "imp2clk_test = ad_imp2clk[ad_imp2clk['Timestamp_impressions']>=20130611000000000]\n",
    "print(imp2clk_test.shape)"
   ]
  },
  {
   "cell_type": "code",
   "execution_count": 19,
   "metadata": {},
   "outputs": [
    {
     "data": {
      "text/plain": [
       "4133"
      ]
     },
     "execution_count": 19,
     "metadata": {},
     "output_type": "execute_result"
    }
   ],
   "source": [
    "imp2clk_train['has click'].sum()"
   ]
  },
  {
   "cell_type": "code",
   "execution_count": 20,
   "metadata": {},
   "outputs": [
    {
     "data": {
      "text/plain": [
       "(60665, 54)"
      ]
     },
     "execution_count": 20,
     "metadata": {},
     "output_type": "execute_result"
    }
   ],
   "source": [
    "imp2clk_train[imp2clk_train['has click']==0].shape"
   ]
  },
  {
   "cell_type": "code",
   "execution_count": 21,
   "metadata": {},
   "outputs": [],
   "source": [
    "# training set without dummy variables\n",
    "X1_train = imp2clk_train.drop('has click',axis=1)\n",
    "y1_train = imp2clk_train['has click']"
   ]
  },
  {
   "cell_type": "code",
   "execution_count": 22,
   "metadata": {},
   "outputs": [],
   "source": [
    "# testing set without dummy variables\n",
    "X1_test = imp2clk_test.drop('has click',axis=1)\n",
    "y1_test = imp2clk_test['has click']"
   ]
  },
  {
   "cell_type": "code",
   "execution_count": 25,
   "metadata": {},
   "outputs": [
    {
     "data": {
      "text/plain": [
       "Index(['Timestamp_impressions', 'Region ID_impressions', 'Ad Exchange',\n",
       "       'Ad Slot Width', 'Ad Slot Height', 'Ad Slot Visibility',\n",
       "       'Ad Slot Format', 'Ad Slot Floor Price', 'Bidding Price',\n",
       "       'Paying Price', 'Advertiser ID', '10006', '10024', '10031', '10048',\n",
       "       '10052', '10057', '10059', '10063', '10067', '10074', '10075', '10076',\n",
       "       '10077', '10079', '10083', '10093', '10102', 'is_male', '10684',\n",
       "       '11092', '11278', '11379', '11423', '11512', '11576', '11632', '11680',\n",
       "       '11724', '11944', '13042', '13403', '13496', '13678', '13776', '13800',\n",
       "       '13866', '13874', '14273', '16593', '16617', '16661', '16706'],\n",
       "      dtype='object')"
      ]
     },
     "execution_count": 25,
     "metadata": {},
     "output_type": "execute_result"
    }
   ],
   "source": [
    "X1_train.columns"
   ]
  },
  {
   "cell_type": "markdown",
   "metadata": {},
   "source": [
    "   #### Prepare training and testing dataset based on encoded impression dataset"
   ]
  },
  {
   "cell_type": "markdown",
   "metadata": {},
   "source": [
    "* Use encoded version in the modeling "
   ]
  },
  {
   "cell_type": "code",
   "execution_count": 23,
   "metadata": {
    "scrolled": true
   },
   "outputs": [
    {
     "data": {
      "text/html": [
       "<div>\n",
       "<style scoped>\n",
       "    .dataframe tbody tr th:only-of-type {\n",
       "        vertical-align: middle;\n",
       "    }\n",
       "\n",
       "    .dataframe tbody tr th {\n",
       "        vertical-align: top;\n",
       "    }\n",
       "\n",
       "    .dataframe thead th {\n",
       "        text-align: right;\n",
       "    }\n",
       "</style>\n",
       "<table border=\"1\" class=\"dataframe\">\n",
       "  <thead>\n",
       "    <tr style=\"text-align: right;\">\n",
       "      <th></th>\n",
       "      <th>Timestamp_impressions</th>\n",
       "      <th>Ad Slot Width</th>\n",
       "      <th>Ad Slot Height</th>\n",
       "      <th>Ad Slot Floor Price</th>\n",
       "      <th>Bidding Price</th>\n",
       "      <th>Paying Price</th>\n",
       "      <th>has click</th>\n",
       "      <th>10006</th>\n",
       "      <th>10024</th>\n",
       "      <th>10031</th>\n",
       "      <th>...</th>\n",
       "      <th>Region ID_impressions_368</th>\n",
       "      <th>Region ID_impressions_374</th>\n",
       "      <th>Region ID_impressions_393</th>\n",
       "      <th>Region ID_impressions_394</th>\n",
       "      <th>Region ID_impressions_395</th>\n",
       "      <th>Advertiser ID_1458</th>\n",
       "      <th>Advertiser ID_3358</th>\n",
       "      <th>Advertiser ID_3386</th>\n",
       "      <th>Advertiser ID_3427</th>\n",
       "      <th>Advertiser ID_3476</th>\n",
       "    </tr>\n",
       "  </thead>\n",
       "  <tbody>\n",
       "    <tr>\n",
       "      <th>0</th>\n",
       "      <td>20130606000104828</td>\n",
       "      <td>336</td>\n",
       "      <td>280</td>\n",
       "      <td>0</td>\n",
       "      <td>300</td>\n",
       "      <td>51</td>\n",
       "      <td>0</td>\n",
       "      <td>1.0</td>\n",
       "      <td>0.0</td>\n",
       "      <td>0.0</td>\n",
       "      <td>...</td>\n",
       "      <td>0</td>\n",
       "      <td>0</td>\n",
       "      <td>0</td>\n",
       "      <td>0</td>\n",
       "      <td>0</td>\n",
       "      <td>1</td>\n",
       "      <td>0</td>\n",
       "      <td>0</td>\n",
       "      <td>0</td>\n",
       "      <td>0</td>\n",
       "    </tr>\n",
       "    <tr>\n",
       "      <th>1</th>\n",
       "      <td>20130606000104915</td>\n",
       "      <td>250</td>\n",
       "      <td>250</td>\n",
       "      <td>23</td>\n",
       "      <td>249</td>\n",
       "      <td>68</td>\n",
       "      <td>0</td>\n",
       "      <td>1.0</td>\n",
       "      <td>1.0</td>\n",
       "      <td>1.0</td>\n",
       "      <td>...</td>\n",
       "      <td>0</td>\n",
       "      <td>0</td>\n",
       "      <td>0</td>\n",
       "      <td>0</td>\n",
       "      <td>0</td>\n",
       "      <td>0</td>\n",
       "      <td>0</td>\n",
       "      <td>0</td>\n",
       "      <td>0</td>\n",
       "      <td>1</td>\n",
       "    </tr>\n",
       "    <tr>\n",
       "      <th>3</th>\n",
       "      <td>20130606000105216</td>\n",
       "      <td>728</td>\n",
       "      <td>90</td>\n",
       "      <td>5</td>\n",
       "      <td>238</td>\n",
       "      <td>45</td>\n",
       "      <td>0</td>\n",
       "      <td>1.0</td>\n",
       "      <td>1.0</td>\n",
       "      <td>0.0</td>\n",
       "      <td>...</td>\n",
       "      <td>0</td>\n",
       "      <td>0</td>\n",
       "      <td>0</td>\n",
       "      <td>0</td>\n",
       "      <td>0</td>\n",
       "      <td>0</td>\n",
       "      <td>0</td>\n",
       "      <td>0</td>\n",
       "      <td>1</td>\n",
       "      <td>0</td>\n",
       "    </tr>\n",
       "    <tr>\n",
       "      <th>9</th>\n",
       "      <td>20130606000105938</td>\n",
       "      <td>728</td>\n",
       "      <td>90</td>\n",
       "      <td>5</td>\n",
       "      <td>249</td>\n",
       "      <td>45</td>\n",
       "      <td>0</td>\n",
       "      <td>1.0</td>\n",
       "      <td>0.0</td>\n",
       "      <td>1.0</td>\n",
       "      <td>...</td>\n",
       "      <td>0</td>\n",
       "      <td>0</td>\n",
       "      <td>0</td>\n",
       "      <td>0</td>\n",
       "      <td>0</td>\n",
       "      <td>0</td>\n",
       "      <td>0</td>\n",
       "      <td>0</td>\n",
       "      <td>0</td>\n",
       "      <td>1</td>\n",
       "    </tr>\n",
       "    <tr>\n",
       "      <th>12</th>\n",
       "      <td>20130606000106153</td>\n",
       "      <td>950</td>\n",
       "      <td>90</td>\n",
       "      <td>0</td>\n",
       "      <td>227</td>\n",
       "      <td>109</td>\n",
       "      <td>0</td>\n",
       "      <td>0.0</td>\n",
       "      <td>0.0</td>\n",
       "      <td>0.0</td>\n",
       "      <td>...</td>\n",
       "      <td>0</td>\n",
       "      <td>0</td>\n",
       "      <td>0</td>\n",
       "      <td>0</td>\n",
       "      <td>0</td>\n",
       "      <td>0</td>\n",
       "      <td>1</td>\n",
       "      <td>0</td>\n",
       "      <td>0</td>\n",
       "      <td>0</td>\n",
       "    </tr>\n",
       "  </tbody>\n",
       "</table>\n",
       "<p>5 rows × 99 columns</p>\n",
       "</div>"
      ],
      "text/plain": [
       "    Timestamp_impressions  Ad Slot Width  Ad Slot Height  Ad Slot Floor Price  \\\n",
       "0       20130606000104828            336             280                    0   \n",
       "1       20130606000104915            250             250                   23   \n",
       "3       20130606000105216            728              90                    5   \n",
       "9       20130606000105938            728              90                    5   \n",
       "12      20130606000106153            950              90                    0   \n",
       "\n",
       "    Bidding Price  Paying Price  has click  10006  10024  10031  ...  \\\n",
       "0             300            51          0    1.0    0.0    0.0  ...   \n",
       "1             249            68          0    1.0    1.0    1.0  ...   \n",
       "3             238            45          0    1.0    1.0    0.0  ...   \n",
       "9             249            45          0    1.0    0.0    1.0  ...   \n",
       "12            227           109          0    0.0    0.0    0.0  ...   \n",
       "\n",
       "    Region ID_impressions_368  Region ID_impressions_374  \\\n",
       "0                           0                          0   \n",
       "1                           0                          0   \n",
       "3                           0                          0   \n",
       "9                           0                          0   \n",
       "12                          0                          0   \n",
       "\n",
       "    Region ID_impressions_393  Region ID_impressions_394  \\\n",
       "0                           0                          0   \n",
       "1                           0                          0   \n",
       "3                           0                          0   \n",
       "9                           0                          0   \n",
       "12                          0                          0   \n",
       "\n",
       "    Region ID_impressions_395  Advertiser ID_1458  Advertiser ID_3358  \\\n",
       "0                           0                   1                   0   \n",
       "1                           0                   0                   0   \n",
       "3                           0                   0                   0   \n",
       "9                           0                   0                   0   \n",
       "12                          0                   0                   1   \n",
       "\n",
       "    Advertiser ID_3386  Advertiser ID_3427  Advertiser ID_3476  \n",
       "0                    0                   0                   0  \n",
       "1                    0                   0                   1  \n",
       "3                    0                   1                   0  \n",
       "9                    0                   0                   1  \n",
       "12                   0                   0                   0  \n",
       "\n",
       "[5 rows x 99 columns]"
      ]
     },
     "execution_count": 23,
     "metadata": {},
     "output_type": "execute_result"
    }
   ],
   "source": [
    "# convert region id into dummy variables\n",
    "ad_imp2clk_enc = pd.get_dummies(ad_imp2clk, columns = ['Ad Exchange', 'Ad Slot Visibility','Ad Slot Format','Region ID_impressions','Advertiser ID'])\n",
    "ad_imp2clk_enc.head()"
   ]
  },
  {
   "cell_type": "code",
   "execution_count": 24,
   "metadata": {},
   "outputs": [],
   "source": [
    "# use earlier five days as training data \n",
    "imp2clk_train_enc = ad_imp2clk_enc[ad_imp2clk_enc['Timestamp_impressions']<20130611000000000]\n",
    "# use the following two days as testing data\n",
    "imp2clk_test_enc = ad_imp2clk_enc[ad_imp2clk_enc['Timestamp_impressions'] >= 20130611000000000]"
   ]
  },
  {
   "cell_type": "code",
   "execution_count": 25,
   "metadata": {},
   "outputs": [
    {
     "name": "stdout",
     "output_type": "stream",
     "text": [
      "0    60665\n",
      "1     4133\n",
      "dtype: int64\n"
     ]
    }
   ],
   "source": [
    "# baseline model\n",
    "train_clk = np.sum(imp2clk_train_enc['has click']==1)\n",
    "train_not_clk = np.sum(imp2clk_train_enc['has click']==0)\n",
    "\n",
    "print(pd.Series({'0': train_not_clk, '1': train_clk}))\n",
    "\n",
    "# baseline model should predict not click for all observations in the test set"
   ]
  },
  {
   "cell_type": "code",
   "execution_count": 26,
   "metadata": {},
   "outputs": [
    {
     "data": {
      "text/plain": [
       "0.06378283280348158"
      ]
     },
     "execution_count": 26,
     "metadata": {},
     "output_type": "execute_result"
    }
   ],
   "source": [
    "# baseline model prediction probability\n",
    "baseline_clk_prob = train_clk / (train_clk + train_not_clk)\n",
    "baseline_clk_prob"
   ]
  },
  {
   "cell_type": "code",
   "execution_count": 27,
   "metadata": {},
   "outputs": [
    {
     "data": {
      "text/plain": [
       "Series([], Name: std, dtype: float64)"
      ]
     },
     "execution_count": 27,
     "metadata": {},
     "output_type": "execute_result"
    }
   ],
   "source": [
    "# filter all constant features in the impression training set\n",
    "imp2clk_train_enc_summary = imp2clk_train_enc.describe()\n",
    "imp2clk_train_enc_summary.loc['std'][imp2clk_train_enc_summary.loc['std'] == 0]"
   ]
  },
  {
   "cell_type": "code",
   "execution_count": 28,
   "metadata": {},
   "outputs": [],
   "source": [
    "# encoded training set\n",
    "X1_train_enc = imp2clk_train_enc.drop('has click', axis=1)\n",
    "y1_train_enc = imp2clk_train_enc[['has click']]"
   ]
  },
  {
   "cell_type": "code",
   "execution_count": 29,
   "metadata": {},
   "outputs": [],
   "source": [
    "# encoded testing set\n",
    "X1_test_enc = imp2clk_test_enc.drop('has click', axis=1)\n",
    "y1_test_enc = imp2clk_test_enc[['has click']]"
   ]
  },
  {
   "cell_type": "code",
   "execution_count": 30,
   "metadata": {},
   "outputs": [
    {
     "data": {
      "text/plain": [
       "has click    1958\n",
       "dtype: int64"
      ]
     },
     "execution_count": 30,
     "metadata": {},
     "output_type": "execute_result"
    }
   ],
   "source": [
    "y1_test_enc.sum()"
   ]
  },
  {
   "cell_type": "code",
   "execution_count": 31,
   "metadata": {},
   "outputs": [
    {
     "data": {
      "text/plain": [
       "has click    4133\n",
       "dtype: int64"
      ]
     },
     "execution_count": 31,
     "metadata": {},
     "output_type": "execute_result"
    }
   ],
   "source": [
    "y1_train_enc.sum()"
   ]
  },
  {
   "cell_type": "markdown",
   "metadata": {},
   "source": [
    "## Logistic Regression"
   ]
  },
  {
   "cell_type": "markdown",
   "metadata": {},
   "source": [
    "### default"
   ]
  },
  {
   "cell_type": "code",
   "execution_count": 36,
   "metadata": {},
   "outputs": [
    {
     "name": "stderr",
     "output_type": "stream",
     "text": [
      "/opt/anaconda3/lib/python3.8/site-packages/sklearn/utils/validation.py:63: DataConversionWarning: A column-vector y was passed when a 1d array was expected. Please change the shape of y to (n_samples, ), for example using ravel().\n",
      "  return f(*args, **kwargs)\n"
     ]
    }
   ],
   "source": [
    "# logistic regression model from linear_model\n",
    "from sklearn import linear_model\n",
    "logreg2 = linear_model.LogisticRegression(max_iter=500000,solver='saga')\n",
    "logreg2 = logreg2.fit(X1_train_enc,y1_train_enc)"
   ]
  },
  {
   "cell_type": "code",
   "execution_count": 37,
   "metadata": {},
   "outputs": [],
   "source": [
    "# predict the label/class\n",
    "y1_logreg_label= logreg2.predict(X1_test_enc)"
   ]
  },
  {
   "cell_type": "code",
   "execution_count": 38,
   "metadata": {},
   "outputs": [
    {
     "data": {
      "text/plain": [
       "array([[21896,     0],\n",
       "       [ 1958,     0]])"
      ]
     },
     "execution_count": 38,
     "metadata": {},
     "output_type": "execute_result"
    }
   ],
   "source": [
    "from sklearn.metrics import confusion_matrix\n",
    "\n",
    "cm_logreg = confusion_matrix(y1_test_enc, y1_logreg_label)\n",
    "cm_logreg\n",
    "# tn, fp, fn, tp"
   ]
  },
  {
   "cell_type": "code",
   "execution_count": 39,
   "metadata": {},
   "outputs": [
    {
     "name": "stdout",
     "output_type": "stream",
     "text": [
      "tpr for logistic regression is: 0.0\n",
      "fpr for logistic regression is: 0.0\n"
     ]
    }
   ],
   "source": [
    "# true positive rate\n",
    "tpr_lr = cm_logreg.ravel()[3] / (cm_logreg.ravel()[2] + cm_logreg.ravel()[3])\n",
    "print('tpr for logistic regression is:', tpr_lr )\n",
    "# false positive rate\n",
    "fpr_lr = cm_logreg.ravel()[1] / (cm_logreg.ravel()[0] + cm_logreg.ravel()[1])\n",
    "print('fpr for logistic regression is:', fpr_lr)"
   ]
  },
  {
   "cell_type": "code",
   "execution_count": 40,
   "metadata": {},
   "outputs": [
    {
     "data": {
      "image/png": "[encoded data removed]",
      "text/plain": [
       "<Figure size 576x432 with 1 Axes>"
      ]
     },
     "metadata": {
      "needs_background": "light"
     },
     "output_type": "display_data"
    }
   ],
   "source": [
    "import matplotlib.pyplot as plt\n",
    "from sklearn.metrics import roc_curve, auc\n",
    "\n",
    "fpr, tpr, _ = roc_curve(y1_test_enc, y1_logreg_label)\n",
    "roc_auc = auc(fpr, tpr)\n",
    "plt.figure(figsize=(8, 6))\n",
    "plt.title('ROC Curve', fontsize=18)\n",
    "plt.xlabel('FPR', fontsize=16)\n",
    "plt.ylabel('TPR', fontsize=16)\n",
    "plt.xlim([-0.01, 1.00])\n",
    "plt.ylim([-0.01, 1.01])\n",
    "plt.plot(fpr, tpr, lw=3, label='Logistic Regression (area = {:0.2f})'.format(roc_auc))\n",
    "plt.plot([0, 1], [0, 1], color='navy', lw=3, linestyle='--')\n",
    "plt.legend(loc='lower right', fontsize=14)\n",
    "plt.show()"
   ]
  },
  {
   "cell_type": "markdown",
   "metadata": {},
   "source": [
    "### cross-validation choosing c"
   ]
  },
  {
   "cell_type": "code",
   "execution_count": 59,
   "metadata": {},
   "outputs": [],
   "source": [
    "from sklearn.metrics import confusion_matrix\n",
    "\n",
    "def tpr(y_true, y_pred):\n",
    "    cm = confusion_matrix(y_true, y_pred)\n",
    "    tpr = cm.ravel()[3] / (cm.ravel()[2] + cm.ravel()[3])\n",
    "    return tpr\n",
    "\n",
    "def fpr(y_true, y_pred):\n",
    "    cm = confusion_matrix(y_true, y_pred)\n",
    "    fpr = cm.ravel()[1] / (cm.ravel()[0] + cm.ravel()[1])\n",
    "    return fpr"
   ]
  },
  {
   "cell_type": "code",
   "execution_count": 60,
   "metadata": {
    "collapsed": true
   },
   "outputs": [
    {
     "name": "stderr",
     "output_type": "stream",
     "text": [
      "/opt/anaconda3/lib/python3.8/site-packages/sklearn/utils/validation.py:63: DataConversionWarning: A column-vector y was passed when a 1d array was expected. Please change the shape of y to (n_samples, ), for example using ravel().\n",
      "  return f(*args, **kwargs)\n",
      "/opt/anaconda3/lib/python3.8/site-packages/sklearn/utils/validation.py:63: DataConversionWarning: A column-vector y was passed when a 1d array was expected. Please change the shape of y to (n_samples, ), for example using ravel().\n",
      "  return f(*args, **kwargs)\n",
      "/opt/anaconda3/lib/python3.8/site-packages/sklearn/utils/validation.py:63: DataConversionWarning: A column-vector y was passed when a 1d array was expected. Please change the shape of y to (n_samples, ), for example using ravel().\n",
      "  return f(*args, **kwargs)\n",
      "/opt/anaconda3/lib/python3.8/site-packages/sklearn/utils/validation.py:63: DataConversionWarning: A column-vector y was passed when a 1d array was expected. Please change the shape of y to (n_samples, ), for example using ravel().\n",
      "  return f(*args, **kwargs)\n",
      "/opt/anaconda3/lib/python3.8/site-packages/sklearn/utils/validation.py:63: DataConversionWarning: A column-vector y was passed when a 1d array was expected. Please change the shape of y to (n_samples, ), for example using ravel().\n",
      "  return f(*args, **kwargs)\n",
      "/opt/anaconda3/lib/python3.8/site-packages/sklearn/utils/validation.py:63: DataConversionWarning: A column-vector y was passed when a 1d array was expected. Please change the shape of y to (n_samples, ), for example using ravel().\n",
      "  return f(*args, **kwargs)\n",
      "/opt/anaconda3/lib/python3.8/site-packages/sklearn/utils/validation.py:63: DataConversionWarning: A column-vector y was passed when a 1d array was expected. Please change the shape of y to (n_samples, ), for example using ravel().\n",
      "  return f(*args, **kwargs)\n",
      "/opt/anaconda3/lib/python3.8/site-packages/sklearn/utils/validation.py:63: DataConversionWarning: A column-vector y was passed when a 1d array was expected. Please change the shape of y to (n_samples, ), for example using ravel().\n",
      "  return f(*args, **kwargs)\n",
      "/opt/anaconda3/lib/python3.8/site-packages/sklearn/utils/validation.py:63: DataConversionWarning: A column-vector y was passed when a 1d array was expected. Please change the shape of y to (n_samples, ), for example using ravel().\n",
      "  return f(*args, **kwargs)\n",
      "/opt/anaconda3/lib/python3.8/site-packages/sklearn/utils/validation.py:63: DataConversionWarning: A column-vector y was passed when a 1d array was expected. Please change the shape of y to (n_samples, ), for example using ravel().\n",
      "  return f(*args, **kwargs)\n",
      "/opt/anaconda3/lib/python3.8/site-packages/sklearn/utils/validation.py:63: DataConversionWarning: A column-vector y was passed when a 1d array was expected. Please change the shape of y to (n_samples, ), for example using ravel().\n",
      "  return f(*args, **kwargs)\n",
      "/opt/anaconda3/lib/python3.8/site-packages/sklearn/utils/validation.py:63: DataConversionWarning: A column-vector y was passed when a 1d array was expected. Please change the shape of y to (n_samples, ), for example using ravel().\n",
      "  return f(*args, **kwargs)\n",
      "/opt/anaconda3/lib/python3.8/site-packages/sklearn/utils/validation.py:63: DataConversionWarning: A column-vector y was passed when a 1d array was expected. Please change the shape of y to (n_samples, ), for example using ravel().\n",
      "  return f(*args, **kwargs)\n",
      "/opt/anaconda3/lib/python3.8/site-packages/sklearn/utils/validation.py:63: DataConversionWarning: A column-vector y was passed when a 1d array was expected. Please change the shape of y to (n_samples, ), for example using ravel().\n",
      "  return f(*args, **kwargs)\n",
      "/opt/anaconda3/lib/python3.8/site-packages/sklearn/utils/validation.py:63: DataConversionWarning: A column-vector y was passed when a 1d array was expected. Please change the shape of y to (n_samples, ), for example using ravel().\n",
      "  return f(*args, **kwargs)\n",
      "/opt/anaconda3/lib/python3.8/site-packages/sklearn/utils/validation.py:63: DataConversionWarning: A column-vector y was passed when a 1d array was expected. Please change the shape of y to (n_samples, ), for example using ravel().\n",
      "  return f(*args, **kwargs)\n",
      "/opt/anaconda3/lib/python3.8/site-packages/sklearn/utils/validation.py:63: DataConversionWarning: A column-vector y was passed when a 1d array was expected. Please change the shape of y to (n_samples, ), for example using ravel().\n",
      "  return f(*args, **kwargs)\n",
      "/opt/anaconda3/lib/python3.8/site-packages/sklearn/utils/validation.py:63: DataConversionWarning: A column-vector y was passed when a 1d array was expected. Please change the shape of y to (n_samples, ), for example using ravel().\n",
      "  return f(*args, **kwargs)\n",
      "/opt/anaconda3/lib/python3.8/site-packages/sklearn/utils/validation.py:63: DataConversionWarning: A column-vector y was passed when a 1d array was expected. Please change the shape of y to (n_samples, ), for example using ravel().\n",
      "  return f(*args, **kwargs)\n",
      "/opt/anaconda3/lib/python3.8/site-packages/sklearn/utils/validation.py:63: DataConversionWarning: A column-vector y was passed when a 1d array was expected. Please change the shape of y to (n_samples, ), for example using ravel().\n",
      "  return f(*args, **kwargs)\n",
      "/opt/anaconda3/lib/python3.8/site-packages/sklearn/utils/validation.py:63: DataConversionWarning: A column-vector y was passed when a 1d array was expected. Please change the shape of y to (n_samples, ), for example using ravel().\n",
      "  return f(*args, **kwargs)\n",
      "/opt/anaconda3/lib/python3.8/site-packages/sklearn/utils/validation.py:63: DataConversionWarning: A column-vector y was passed when a 1d array was expected. Please change the shape of y to (n_samples, ), for example using ravel().\n",
      "  return f(*args, **kwargs)\n",
      "/opt/anaconda3/lib/python3.8/site-packages/sklearn/utils/validation.py:63: DataConversionWarning: A column-vector y was passed when a 1d array was expected. Please change the shape of y to (n_samples, ), for example using ravel().\n",
      "  return f(*args, **kwargs)\n",
      "/opt/anaconda3/lib/python3.8/site-packages/sklearn/utils/validation.py:63: DataConversionWarning: A column-vector y was passed when a 1d array was expected. Please change the shape of y to (n_samples, ), for example using ravel().\n",
      "  return f(*args, **kwargs)\n",
      "/opt/anaconda3/lib/python3.8/site-packages/sklearn/utils/validation.py:63: DataConversionWarning: A column-vector y was passed when a 1d array was expected. Please change the shape of y to (n_samples, ), for example using ravel().\n",
      "  return f(*args, **kwargs)\n",
      "/opt/anaconda3/lib/python3.8/site-packages/sklearn/utils/validation.py:63: DataConversionWarning: A column-vector y was passed when a 1d array was expected. Please change the shape of y to (n_samples, ), for example using ravel().\n",
      "  return f(*args, **kwargs)\n",
      "/opt/anaconda3/lib/python3.8/site-packages/sklearn/utils/validation.py:63: DataConversionWarning: A column-vector y was passed when a 1d array was expected. Please change the shape of y to (n_samples, ), for example using ravel().\n",
      "  return f(*args, **kwargs)\n",
      "/opt/anaconda3/lib/python3.8/site-packages/sklearn/utils/validation.py:63: DataConversionWarning: A column-vector y was passed when a 1d array was expected. Please change the shape of y to (n_samples, ), for example using ravel().\n",
      "  return f(*args, **kwargs)\n",
      "/opt/anaconda3/lib/python3.8/site-packages/sklearn/utils/validation.py:63: DataConversionWarning: A column-vector y was passed when a 1d array was expected. Please change the shape of y to (n_samples, ), for example using ravel().\n",
      "  return f(*args, **kwargs)\n",
      "/opt/anaconda3/lib/python3.8/site-packages/sklearn/utils/validation.py:63: DataConversionWarning: A column-vector y was passed when a 1d array was expected. Please change the shape of y to (n_samples, ), for example using ravel().\n",
      "  return f(*args, **kwargs)\n"
     ]
    },
    {
     "data": {
      "text/plain": [
       "GridSearchCV(cv=5, estimator=LogisticRegression(),\n",
       "             param_grid={'C': [10000, 100, 10, 1, 0.1, 0.01],\n",
       "                         'max_iter': [50000000], 'penalty': ['l2'],\n",
       "                         'solver': ['saga']},\n",
       "             refit=False,\n",
       "             scoring={'fpr': make_scorer(fpr, greater_is_better=False),\n",
       "                      'tpr': make_scorer(tpr)})"
      ]
     },
     "execution_count": 60,
     "metadata": {},
     "output_type": "execute_result"
    }
   ],
   "source": [
    "from sklearn.model_selection import GridSearchCV\n",
    "# from sklearn.metrics import \n",
    "from sklearn.metrics import make_scorer\n",
    "\n",
    "grid_values = { 'C': [10000,100,10,1,0.1,0.01],\n",
    "                'max_iter': [50000000],\n",
    "                'solver': ['saga'],\n",
    "                'penalty': ['l2']\n",
    "}\n",
    "\n",
    "logreg = linear_model.LogisticRegression()\n",
    "logreg_cv = GridSearchCV(logreg, param_grid=grid_values, \n",
    "                         scoring={'tpr':make_scorer(tpr), 'fpr':make_scorer(fpr,greater_is_better=False)},cv=5, refit=False)\n",
    "logreg_cv.fit(X1_train_enc, y1_train_enc)"
   ]
  },
  {
   "cell_type": "code",
   "execution_count": 65,
   "metadata": {},
   "outputs": [
    {
     "data": {
      "text/html": [
       "<div>\n",
       "<style scoped>\n",
       "    .dataframe tbody tr th:only-of-type {\n",
       "        vertical-align: middle;\n",
       "    }\n",
       "\n",
       "    .dataframe tbody tr th {\n",
       "        vertical-align: top;\n",
       "    }\n",
       "\n",
       "    .dataframe thead th {\n",
       "        text-align: right;\n",
       "    }\n",
       "</style>\n",
       "<table border=\"1\" class=\"dataframe\">\n",
       "  <thead>\n",
       "    <tr style=\"text-align: right;\">\n",
       "      <th></th>\n",
       "      <th>C</th>\n",
       "      <th>TPR</th>\n",
       "      <th>FPR</th>\n",
       "    </tr>\n",
       "  </thead>\n",
       "  <tbody>\n",
       "    <tr>\n",
       "      <th>0</th>\n",
       "      <td>10000</td>\n",
       "      <td>0.0</td>\n",
       "      <td>0.0</td>\n",
       "    </tr>\n",
       "    <tr>\n",
       "      <th>1</th>\n",
       "      <td>100</td>\n",
       "      <td>0.0</td>\n",
       "      <td>0.0</td>\n",
       "    </tr>\n",
       "    <tr>\n",
       "      <th>2</th>\n",
       "      <td>10</td>\n",
       "      <td>0.0</td>\n",
       "      <td>0.0</td>\n",
       "    </tr>\n",
       "    <tr>\n",
       "      <th>3</th>\n",
       "      <td>1</td>\n",
       "      <td>0.0</td>\n",
       "      <td>0.0</td>\n",
       "    </tr>\n",
       "    <tr>\n",
       "      <th>4</th>\n",
       "      <td>0.1</td>\n",
       "      <td>0.0</td>\n",
       "      <td>0.0</td>\n",
       "    </tr>\n",
       "    <tr>\n",
       "      <th>5</th>\n",
       "      <td>0.01</td>\n",
       "      <td>0.0</td>\n",
       "      <td>0.0</td>\n",
       "    </tr>\n",
       "  </tbody>\n",
       "</table>\n",
       "</div>"
      ],
      "text/plain": [
       "       C  TPR  FPR\n",
       "0  10000  0.0  0.0\n",
       "1    100  0.0  0.0\n",
       "2     10  0.0  0.0\n",
       "3      1  0.0  0.0\n",
       "4    0.1  0.0  0.0\n",
       "5   0.01  0.0  0.0"
      ]
     },
     "execution_count": 65,
     "metadata": {},
     "output_type": "execute_result"
    }
   ],
   "source": [
    "fpr_lr = logreg_cv.cv_results_['mean_test_fpr']\n",
    "tpr_lr = logreg_cv.cv_results_['mean_test_tpr']\n",
    "c = logreg_cv.cv_results_['param_C'].data\n",
    "\n",
    "pd.DataFrame({'C': c, 'TPR':tpr_lr, 'FPR':fpr_lr})"
   ]
  },
  {
   "cell_type": "markdown",
   "metadata": {},
   "source": [
    "## CART "
   ]
  },
  {
   "cell_type": "markdown",
   "metadata": {},
   "source": [
    "#### max_depth=30"
   ]
  },
  {
   "cell_type": "code",
   "execution_count": 64,
   "metadata": {
    "collapsed": true
   },
   "outputs": [
    {
     "name": "stdout",
     "output_type": "stream",
     "text": [
      "Fitting 5 folds for each of 201 candidates, totalling 1005 fits\n",
      "[CV] END ccp_alpha=0.0, max_depth=30, min_samples_leaf=5, min_samples_split=20, random_state=88; total time=   0.7s\n",
      "[CV] END ccp_alpha=0.0, max_depth=30, min_samples_leaf=5, min_samples_split=20, random_state=88; total time=   0.7s\n",
      "[CV] END ccp_alpha=0.0, max_depth=30, min_samples_leaf=5, min_samples_split=20, random_state=88; total time=   0.7s\n",
      "[CV] END ccp_alpha=0.0, max_depth=30, min_samples_leaf=5, min_samples_split=20, random_state=88; total time=   0.7s\n",
      "[CV] END ccp_alpha=0.0, max_depth=30, min_samples_leaf=5, min_samples_split=20, random_state=88; total time=   0.7s\n",
      "[CV] END ccp_alpha=0.0005, max_depth=30, min_samples_leaf=5, min_samples_split=20, random_state=88; total time=   0.7s\n",
      "[CV] END ccp_alpha=0.0005, max_depth=30, min_samples_leaf=5, min_samples_split=20, random_state=88; total time=   0.6s\n",
      "[CV] END ccp_alpha=0.0005, max_depth=30, min_samples_leaf=5, min_samples_split=20, random_state=88; total time=   0.7s\n",
      "[CV] END ccp_alpha=0.0005, max_depth=30, min_samples_leaf=5, min_samples_split=20, random_state=88; total time=   0.7s\n",
      "[CV] END ccp_alpha=0.0005, max_depth=30, min_samples_leaf=5, min_samples_split=20, random_state=88; total time=   0.7s\n",
      "[CV] END ccp_alpha=0.001, max_depth=30, min_samples_leaf=5, min_samples_split=20, random_state=88; total time=   0.7s\n",
      "[CV] END ccp_alpha=0.001, max_depth=30, min_samples_leaf=5, min_samples_split=20, random_state=88; total time=   0.6s\n",
      "[CV] END ccp_alpha=0.001, max_depth=30, min_samples_leaf=5, min_samples_split=20, random_state=88; total time=   0.6s\n",
      "[CV] END ccp_alpha=0.001, max_depth=30, min_samples_leaf=5, min_samples_split=20, random_state=88; total time=   0.7s\n",
      "[CV] END ccp_alpha=0.001, max_depth=30, min_samples_leaf=5, min_samples_split=20, random_state=88; total time=   0.8s\n",
      "[CV] END ccp_alpha=0.0015, max_depth=30, min_samples_leaf=5, min_samples_split=20, random_state=88; total time=   0.7s\n",
      "[CV] END ccp_alpha=0.0015, max_depth=30, min_samples_leaf=5, min_samples_split=20, random_state=88; total time=   0.6s\n",
      "[CV] END ccp_alpha=0.0015, max_depth=30, min_samples_leaf=5, min_samples_split=20, random_state=88; total time=   0.7s\n",
      "[CV] END ccp_alpha=0.0015, max_depth=30, min_samples_leaf=5, min_samples_split=20, random_state=88; total time=   0.8s\n",
      "[CV] END ccp_alpha=0.0015, max_depth=30, min_samples_leaf=5, min_samples_split=20, random_state=88; total time=   0.7s\n",
      "[CV] END ccp_alpha=0.002, max_depth=30, min_samples_leaf=5, min_samples_split=20, random_state=88; total time=   0.7s\n",
      "[CV] END ccp_alpha=0.002, max_depth=30, min_samples_leaf=5, min_samples_split=20, random_state=88; total time=   0.7s\n",
      "[CV] END ccp_alpha=0.002, max_depth=30, min_samples_leaf=5, min_samples_split=20, random_state=88; total time=   0.7s\n",
      "[CV] END ccp_alpha=0.002, max_depth=30, min_samples_leaf=5, min_samples_split=20, random_state=88; total time=   0.8s\n",
      "[CV] END ccp_alpha=0.002, max_depth=30, min_samples_leaf=5, min_samples_split=20, random_state=88; total time=   0.7s\n",
      "[CV] END ccp_alpha=0.0025, max_depth=30, min_samples_leaf=5, min_samples_split=20, random_state=88; total time=   0.7s\n",
      "[CV] END ccp_alpha=0.0025, max_depth=30, min_samples_leaf=5, min_samples_split=20, random_state=88; total time=   0.6s\n",
      "[CV] END ccp_alpha=0.0025, max_depth=30, min_samples_leaf=5, min_samples_split=20, random_state=88; total time=   0.7s\n",
      "[CV] END ccp_alpha=0.0025, max_depth=30, min_samples_leaf=5, min_samples_split=20, random_state=88; total time=   0.7s\n",
      "[CV] END ccp_alpha=0.0025, max_depth=30, min_samples_leaf=5, min_samples_split=20, random_state=88; total time=   0.8s\n",
      "[CV] END ccp_alpha=0.003, max_depth=30, min_samples_leaf=5, min_samples_split=20, random_state=88; total time=   0.7s\n",
      "[CV] END ccp_alpha=0.003, max_depth=30, min_samples_leaf=5, min_samples_split=20, random_state=88; total time=   0.7s\n",
      "[CV] END ccp_alpha=0.003, max_depth=30, min_samples_leaf=5, min_samples_split=20, random_state=88; total time=   0.8s\n",
      "[CV] END ccp_alpha=0.003, max_depth=30, min_samples_leaf=5, min_samples_split=20, random_state=88; total time=   0.7s\n",
      "[CV] END ccp_alpha=0.003, max_depth=30, min_samples_leaf=5, min_samples_split=20, random_state=88; total time=   0.8s\n",
      "[CV] END ccp_alpha=0.0035, max_depth=30, min_samples_leaf=5, min_samples_split=20, random_state=88; total time=   0.7s\n",
      "[CV] END ccp_alpha=0.0035, max_depth=30, min_samples_leaf=5, min_samples_split=20, random_state=88; total time=   0.6s\n",
      "[CV] END ccp_alpha=0.0035, max_depth=30, min_samples_leaf=5, min_samples_split=20, random_state=88; total time=   0.7s\n",
      "[CV] END ccp_alpha=0.0035, max_depth=30, min_samples_leaf=5, min_samples_split=20, random_state=88; total time=   0.8s\n",
      "[CV] END ccp_alpha=0.0035, max_depth=30, min_samples_leaf=5, min_samples_split=20, random_state=88; total time=   0.7s\n",
      "[CV] END ccp_alpha=0.004, max_depth=30, min_samples_leaf=5, min_samples_split=20, random_state=88; total time=   0.7s\n",
      "[CV] END ccp_alpha=0.004, max_depth=30, min_samples_leaf=5, min_samples_split=20, random_state=88; total time=   0.6s\n",
      "[CV] END ccp_alpha=0.004, max_depth=30, min_samples_leaf=5, min_samples_split=20, random_state=88; total time=   0.7s\n",
      "[CV] END ccp_alpha=0.004, max_depth=30, min_samples_leaf=5, min_samples_split=20, random_state=88; total time=   0.8s\n",
      "[CV] END ccp_alpha=0.004, max_depth=30, min_samples_leaf=5, min_samples_split=20, random_state=88; total time=   0.8s\n",
      "[CV] END ccp_alpha=0.0045000000000000005, max_depth=30, min_samples_leaf=5, min_samples_split=20, random_state=88; total time=   0.7s\n",
      "[CV] END ccp_alpha=0.0045000000000000005, max_depth=30, min_samples_leaf=5, min_samples_split=20, random_state=88; total time=   0.6s\n",
      "[CV] END ccp_alpha=0.0045000000000000005, max_depth=30, min_samples_leaf=5, min_samples_split=20, random_state=88; total time=   0.7s\n",
      "[CV] END ccp_alpha=0.0045000000000000005, max_depth=30, min_samples_leaf=5, min_samples_split=20, random_state=88; total time=   0.8s\n",
      "[CV] END ccp_alpha=0.0045000000000000005, max_depth=30, min_samples_leaf=5, min_samples_split=20, random_state=88; total time=   0.8s\n",
      "[CV] END ccp_alpha=0.005, max_depth=30, min_samples_leaf=5, min_samples_split=20, random_state=88; total time=   0.8s\n",
      "[CV] END ccp_alpha=0.005, max_depth=30, min_samples_leaf=5, min_samples_split=20, random_state=88; total time=   0.6s\n",
      "[CV] END ccp_alpha=0.005, max_depth=30, min_samples_leaf=5, min_samples_split=20, random_state=88; total time=   0.6s\n",
      "[CV] END ccp_alpha=0.005, max_depth=30, min_samples_leaf=5, min_samples_split=20, random_state=88; total time=   0.7s\n",
      "[CV] END ccp_alpha=0.005, max_depth=30, min_samples_leaf=5, min_samples_split=20, random_state=88; total time=   0.7s\n",
      "[CV] END ccp_alpha=0.0055, max_depth=30, min_samples_leaf=5, min_samples_split=20, random_state=88; total time=   0.7s\n",
      "[CV] END ccp_alpha=0.0055, max_depth=30, min_samples_leaf=5, min_samples_split=20, random_state=88; total time=   0.6s\n",
      "[CV] END ccp_alpha=0.0055, max_depth=30, min_samples_leaf=5, min_samples_split=20, random_state=88; total time=   0.8s\n",
      "[CV] END ccp_alpha=0.0055, max_depth=30, min_samples_leaf=5, min_samples_split=20, random_state=88; total time=   0.8s\n",
      "[CV] END ccp_alpha=0.0055, max_depth=30, min_samples_leaf=5, min_samples_split=20, random_state=88; total time=   0.7s\n",
      "[CV] END ccp_alpha=0.006, max_depth=30, min_samples_leaf=5, min_samples_split=20, random_state=88; total time=   0.6s\n",
      "[CV] END ccp_alpha=0.006, max_depth=30, min_samples_leaf=5, min_samples_split=20, random_state=88; total time=   0.7s\n",
      "[CV] END ccp_alpha=0.006, max_depth=30, min_samples_leaf=5, min_samples_split=20, random_state=88; total time=   0.7s\n",
      "[CV] END ccp_alpha=0.006, max_depth=30, min_samples_leaf=5, min_samples_split=20, random_state=88; total time=   0.7s\n",
      "[CV] END ccp_alpha=0.006, max_depth=30, min_samples_leaf=5, min_samples_split=20, random_state=88; total time=   0.8s\n",
      "[CV] END ccp_alpha=0.006500000000000001, max_depth=30, min_samples_leaf=5, min_samples_split=20, random_state=88; total time=   0.6s\n",
      "[CV] END ccp_alpha=0.006500000000000001, max_depth=30, min_samples_leaf=5, min_samples_split=20, random_state=88; total time=   0.7s\n",
      "[CV] END ccp_alpha=0.006500000000000001, max_depth=30, min_samples_leaf=5, min_samples_split=20, random_state=88; total time=   0.7s\n"
     ]
    },
    {
     "name": "stdout",
     "output_type": "stream",
     "text": [
      "[CV] END ccp_alpha=0.006500000000000001, max_depth=30, min_samples_leaf=5, min_samples_split=20, random_state=88; total time=   0.8s\n",
      "[CV] END ccp_alpha=0.006500000000000001, max_depth=30, min_samples_leaf=5, min_samples_split=20, random_state=88; total time=   0.7s\n",
      "[CV] END ccp_alpha=0.007, max_depth=30, min_samples_leaf=5, min_samples_split=20, random_state=88; total time=   0.7s\n",
      "[CV] END ccp_alpha=0.007, max_depth=30, min_samples_leaf=5, min_samples_split=20, random_state=88; total time=   0.5s\n",
      "[CV] END ccp_alpha=0.007, max_depth=30, min_samples_leaf=5, min_samples_split=20, random_state=88; total time=   0.7s\n",
      "[CV] END ccp_alpha=0.007, max_depth=30, min_samples_leaf=5, min_samples_split=20, random_state=88; total time=   0.7s\n",
      "[CV] END ccp_alpha=0.007, max_depth=30, min_samples_leaf=5, min_samples_split=20, random_state=88; total time=   0.7s\n",
      "[CV] END ccp_alpha=0.0075, max_depth=30, min_samples_leaf=5, min_samples_split=20, random_state=88; total time=   0.6s\n",
      "[CV] END ccp_alpha=0.0075, max_depth=30, min_samples_leaf=5, min_samples_split=20, random_state=88; total time=   0.6s\n",
      "[CV] END ccp_alpha=0.0075, max_depth=30, min_samples_leaf=5, min_samples_split=20, random_state=88; total time=   0.7s\n",
      "[CV] END ccp_alpha=0.0075, max_depth=30, min_samples_leaf=5, min_samples_split=20, random_state=88; total time=   0.7s\n",
      "[CV] END ccp_alpha=0.0075, max_depth=30, min_samples_leaf=5, min_samples_split=20, random_state=88; total time=   0.7s\n",
      "[CV] END ccp_alpha=0.008, max_depth=30, min_samples_leaf=5, min_samples_split=20, random_state=88; total time=   0.6s\n",
      "[CV] END ccp_alpha=0.008, max_depth=30, min_samples_leaf=5, min_samples_split=20, random_state=88; total time=   0.6s\n",
      "[CV] END ccp_alpha=0.008, max_depth=30, min_samples_leaf=5, min_samples_split=20, random_state=88; total time=   0.6s\n",
      "[CV] END ccp_alpha=0.008, max_depth=30, min_samples_leaf=5, min_samples_split=20, random_state=88; total time=   0.7s\n",
      "[CV] END ccp_alpha=0.008, max_depth=30, min_samples_leaf=5, min_samples_split=20, random_state=88; total time=   0.7s\n",
      "[CV] END ccp_alpha=0.0085, max_depth=30, min_samples_leaf=5, min_samples_split=20, random_state=88; total time=   0.7s\n",
      "[CV] END ccp_alpha=0.0085, max_depth=30, min_samples_leaf=5, min_samples_split=20, random_state=88; total time=   0.6s\n",
      "[CV] END ccp_alpha=0.0085, max_depth=30, min_samples_leaf=5, min_samples_split=20, random_state=88; total time=   0.7s\n",
      "[CV] END ccp_alpha=0.0085, max_depth=30, min_samples_leaf=5, min_samples_split=20, random_state=88; total time=   0.7s\n",
      "[CV] END ccp_alpha=0.0085, max_depth=30, min_samples_leaf=5, min_samples_split=20, random_state=88; total time=   0.7s\n",
      "[CV] END ccp_alpha=0.009000000000000001, max_depth=30, min_samples_leaf=5, min_samples_split=20, random_state=88; total time=   0.7s\n",
      "[CV] END ccp_alpha=0.009000000000000001, max_depth=30, min_samples_leaf=5, min_samples_split=20, random_state=88; total time=   0.6s\n",
      "[CV] END ccp_alpha=0.009000000000000001, max_depth=30, min_samples_leaf=5, min_samples_split=20, random_state=88; total time=   0.7s\n",
      "[CV] END ccp_alpha=0.009000000000000001, max_depth=30, min_samples_leaf=5, min_samples_split=20, random_state=88; total time=   0.7s\n",
      "[CV] END ccp_alpha=0.009000000000000001, max_depth=30, min_samples_leaf=5, min_samples_split=20, random_state=88; total time=   0.7s\n",
      "[CV] END ccp_alpha=0.0095, max_depth=30, min_samples_leaf=5, min_samples_split=20, random_state=88; total time=   0.7s\n",
      "[CV] END ccp_alpha=0.0095, max_depth=30, min_samples_leaf=5, min_samples_split=20, random_state=88; total time=   0.6s\n",
      "[CV] END ccp_alpha=0.0095, max_depth=30, min_samples_leaf=5, min_samples_split=20, random_state=88; total time=   0.7s\n",
      "[CV] END ccp_alpha=0.0095, max_depth=30, min_samples_leaf=5, min_samples_split=20, random_state=88; total time=   0.8s\n",
      "[CV] END ccp_alpha=0.0095, max_depth=30, min_samples_leaf=5, min_samples_split=20, random_state=88; total time=   0.8s\n",
      "[CV] END ccp_alpha=0.01, max_depth=30, min_samples_leaf=5, min_samples_split=20, random_state=88; total time=   0.7s\n",
      "[CV] END ccp_alpha=0.01, max_depth=30, min_samples_leaf=5, min_samples_split=20, random_state=88; total time=   0.6s\n",
      "[CV] END ccp_alpha=0.01, max_depth=30, min_samples_leaf=5, min_samples_split=20, random_state=88; total time=   0.7s\n",
      "[CV] END ccp_alpha=0.01, max_depth=30, min_samples_leaf=5, min_samples_split=20, random_state=88; total time=   0.7s\n",
      "[CV] END ccp_alpha=0.01, max_depth=30, min_samples_leaf=5, min_samples_split=20, random_state=88; total time=   0.7s\n",
      "[CV] END ccp_alpha=0.0105, max_depth=30, min_samples_leaf=5, min_samples_split=20, random_state=88; total time=   0.7s\n",
      "[CV] END ccp_alpha=0.0105, max_depth=30, min_samples_leaf=5, min_samples_split=20, random_state=88; total time=   0.6s\n",
      "[CV] END ccp_alpha=0.0105, max_depth=30, min_samples_leaf=5, min_samples_split=20, random_state=88; total time=   0.7s\n",
      "[CV] END ccp_alpha=0.0105, max_depth=30, min_samples_leaf=5, min_samples_split=20, random_state=88; total time=   0.7s\n",
      "[CV] END ccp_alpha=0.0105, max_depth=30, min_samples_leaf=5, min_samples_split=20, random_state=88; total time=   0.7s\n",
      "[CV] END ccp_alpha=0.011, max_depth=30, min_samples_leaf=5, min_samples_split=20, random_state=88; total time=   0.6s\n",
      "[CV] END ccp_alpha=0.011, max_depth=30, min_samples_leaf=5, min_samples_split=20, random_state=88; total time=   0.6s\n",
      "[CV] END ccp_alpha=0.011, max_depth=30, min_samples_leaf=5, min_samples_split=20, random_state=88; total time=   0.7s\n",
      "[CV] END ccp_alpha=0.011, max_depth=30, min_samples_leaf=5, min_samples_split=20, random_state=88; total time=   0.7s\n",
      "[CV] END ccp_alpha=0.011, max_depth=30, min_samples_leaf=5, min_samples_split=20, random_state=88; total time=   0.7s\n",
      "[CV] END ccp_alpha=0.0115, max_depth=30, min_samples_leaf=5, min_samples_split=20, random_state=88; total time=   0.6s\n",
      "[CV] END ccp_alpha=0.0115, max_depth=30, min_samples_leaf=5, min_samples_split=20, random_state=88; total time=   0.6s\n",
      "[CV] END ccp_alpha=0.0115, max_depth=30, min_samples_leaf=5, min_samples_split=20, random_state=88; total time=   0.7s\n",
      "[CV] END ccp_alpha=0.0115, max_depth=30, min_samples_leaf=5, min_samples_split=20, random_state=88; total time=   0.7s\n",
      "[CV] END ccp_alpha=0.0115, max_depth=30, min_samples_leaf=5, min_samples_split=20, random_state=88; total time=   0.7s\n",
      "[CV] END ccp_alpha=0.012, max_depth=30, min_samples_leaf=5, min_samples_split=20, random_state=88; total time=   0.7s\n",
      "[CV] END ccp_alpha=0.012, max_depth=30, min_samples_leaf=5, min_samples_split=20, random_state=88; total time=   0.6s\n",
      "[CV] END ccp_alpha=0.012, max_depth=30, min_samples_leaf=5, min_samples_split=20, random_state=88; total time=   0.6s\n",
      "[CV] END ccp_alpha=0.012, max_depth=30, min_samples_leaf=5, min_samples_split=20, random_state=88; total time=   0.7s\n",
      "[CV] END ccp_alpha=0.012, max_depth=30, min_samples_leaf=5, min_samples_split=20, random_state=88; total time=   0.7s\n",
      "[CV] END ccp_alpha=0.0125, max_depth=30, min_samples_leaf=5, min_samples_split=20, random_state=88; total time=   0.6s\n",
      "[CV] END ccp_alpha=0.0125, max_depth=30, min_samples_leaf=5, min_samples_split=20, random_state=88; total time=   0.6s\n",
      "[CV] END ccp_alpha=0.0125, max_depth=30, min_samples_leaf=5, min_samples_split=20, random_state=88; total time=   0.7s\n",
      "[CV] END ccp_alpha=0.0125, max_depth=30, min_samples_leaf=5, min_samples_split=20, random_state=88; total time=   0.7s\n",
      "[CV] END ccp_alpha=0.0125, max_depth=30, min_samples_leaf=5, min_samples_split=20, random_state=88; total time=   0.7s\n",
      "[CV] END ccp_alpha=0.013000000000000001, max_depth=30, min_samples_leaf=5, min_samples_split=20, random_state=88; total time=   0.6s\n",
      "[CV] END ccp_alpha=0.013000000000000001, max_depth=30, min_samples_leaf=5, min_samples_split=20, random_state=88; total time=   0.6s\n",
      "[CV] END ccp_alpha=0.013000000000000001, max_depth=30, min_samples_leaf=5, min_samples_split=20, random_state=88; total time=   0.6s\n",
      "[CV] END ccp_alpha=0.013000000000000001, max_depth=30, min_samples_leaf=5, min_samples_split=20, random_state=88; total time=   0.7s\n",
      "[CV] END ccp_alpha=0.013000000000000001, max_depth=30, min_samples_leaf=5, min_samples_split=20, random_state=88; total time=   0.7s\n",
      "[CV] END ccp_alpha=0.0135, max_depth=30, min_samples_leaf=5, min_samples_split=20, random_state=88; total time=   0.7s\n"
     ]
    },
    {
     "name": "stdout",
     "output_type": "stream",
     "text": [
      "[CV] END ccp_alpha=0.0135, max_depth=30, min_samples_leaf=5, min_samples_split=20, random_state=88; total time=   0.6s\n",
      "[CV] END ccp_alpha=0.0135, max_depth=30, min_samples_leaf=5, min_samples_split=20, random_state=88; total time=   0.7s\n",
      "[CV] END ccp_alpha=0.0135, max_depth=30, min_samples_leaf=5, min_samples_split=20, random_state=88; total time=   0.7s\n",
      "[CV] END ccp_alpha=0.0135, max_depth=30, min_samples_leaf=5, min_samples_split=20, random_state=88; total time=   0.7s\n",
      "[CV] END ccp_alpha=0.014, max_depth=30, min_samples_leaf=5, min_samples_split=20, random_state=88; total time=   0.7s\n",
      "[CV] END ccp_alpha=0.014, max_depth=30, min_samples_leaf=5, min_samples_split=20, random_state=88; total time=   0.6s\n",
      "[CV] END ccp_alpha=0.014, max_depth=30, min_samples_leaf=5, min_samples_split=20, random_state=88; total time=   0.7s\n",
      "[CV] END ccp_alpha=0.014, max_depth=30, min_samples_leaf=5, min_samples_split=20, random_state=88; total time=   0.7s\n",
      "[CV] END ccp_alpha=0.014, max_depth=30, min_samples_leaf=5, min_samples_split=20, random_state=88; total time=   0.7s\n",
      "[CV] END ccp_alpha=0.0145, max_depth=30, min_samples_leaf=5, min_samples_split=20, random_state=88; total time=   0.6s\n",
      "[CV] END ccp_alpha=0.0145, max_depth=30, min_samples_leaf=5, min_samples_split=20, random_state=88; total time=   0.6s\n",
      "[CV] END ccp_alpha=0.0145, max_depth=30, min_samples_leaf=5, min_samples_split=20, random_state=88; total time=   0.7s\n",
      "[CV] END ccp_alpha=0.0145, max_depth=30, min_samples_leaf=5, min_samples_split=20, random_state=88; total time=   0.7s\n",
      "[CV] END ccp_alpha=0.0145, max_depth=30, min_samples_leaf=5, min_samples_split=20, random_state=88; total time=   0.7s\n",
      "[CV] END ccp_alpha=0.015, max_depth=30, min_samples_leaf=5, min_samples_split=20, random_state=88; total time=   0.6s\n",
      "[CV] END ccp_alpha=0.015, max_depth=30, min_samples_leaf=5, min_samples_split=20, random_state=88; total time=   0.6s\n",
      "[CV] END ccp_alpha=0.015, max_depth=30, min_samples_leaf=5, min_samples_split=20, random_state=88; total time=   0.7s\n",
      "[CV] END ccp_alpha=0.015, max_depth=30, min_samples_leaf=5, min_samples_split=20, random_state=88; total time=   0.7s\n",
      "[CV] END ccp_alpha=0.015, max_depth=30, min_samples_leaf=5, min_samples_split=20, random_state=88; total time=   0.7s\n",
      "[CV] END ccp_alpha=0.0155, max_depth=30, min_samples_leaf=5, min_samples_split=20, random_state=88; total time=   0.7s\n",
      "[CV] END ccp_alpha=0.0155, max_depth=30, min_samples_leaf=5, min_samples_split=20, random_state=88; total time=   0.6s\n",
      "[CV] END ccp_alpha=0.0155, max_depth=30, min_samples_leaf=5, min_samples_split=20, random_state=88; total time=   0.7s\n",
      "[CV] END ccp_alpha=0.0155, max_depth=30, min_samples_leaf=5, min_samples_split=20, random_state=88; total time=   0.7s\n",
      "[CV] END ccp_alpha=0.0155, max_depth=30, min_samples_leaf=5, min_samples_split=20, random_state=88; total time=   0.7s\n",
      "[CV] END ccp_alpha=0.016, max_depth=30, min_samples_leaf=5, min_samples_split=20, random_state=88; total time=   0.6s\n",
      "[CV] END ccp_alpha=0.016, max_depth=30, min_samples_leaf=5, min_samples_split=20, random_state=88; total time=   0.6s\n",
      "[CV] END ccp_alpha=0.016, max_depth=30, min_samples_leaf=5, min_samples_split=20, random_state=88; total time=   0.7s\n",
      "[CV] END ccp_alpha=0.016, max_depth=30, min_samples_leaf=5, min_samples_split=20, random_state=88; total time=   0.7s\n",
      "[CV] END ccp_alpha=0.016, max_depth=30, min_samples_leaf=5, min_samples_split=20, random_state=88; total time=   0.7s\n",
      "[CV] END ccp_alpha=0.0165, max_depth=30, min_samples_leaf=5, min_samples_split=20, random_state=88; total time=   0.7s\n",
      "[CV] END ccp_alpha=0.0165, max_depth=30, min_samples_leaf=5, min_samples_split=20, random_state=88; total time=   0.6s\n",
      "[CV] END ccp_alpha=0.0165, max_depth=30, min_samples_leaf=5, min_samples_split=20, random_state=88; total time=   0.7s\n",
      "[CV] END ccp_alpha=0.0165, max_depth=30, min_samples_leaf=5, min_samples_split=20, random_state=88; total time=   0.7s\n",
      "[CV] END ccp_alpha=0.0165, max_depth=30, min_samples_leaf=5, min_samples_split=20, random_state=88; total time=   0.7s\n",
      "[CV] END ccp_alpha=0.017, max_depth=30, min_samples_leaf=5, min_samples_split=20, random_state=88; total time=   0.6s\n",
      "[CV] END ccp_alpha=0.017, max_depth=30, min_samples_leaf=5, min_samples_split=20, random_state=88; total time=   0.6s\n",
      "[CV] END ccp_alpha=0.017, max_depth=30, min_samples_leaf=5, min_samples_split=20, random_state=88; total time=   0.7s\n",
      "[CV] END ccp_alpha=0.017, max_depth=30, min_samples_leaf=5, min_samples_split=20, random_state=88; total time=   0.7s\n",
      "[CV] END ccp_alpha=0.017, max_depth=30, min_samples_leaf=5, min_samples_split=20, random_state=88; total time=   0.7s\n",
      "[CV] END ccp_alpha=0.0175, max_depth=30, min_samples_leaf=5, min_samples_split=20, random_state=88; total time=   0.6s\n",
      "[CV] END ccp_alpha=0.0175, max_depth=30, min_samples_leaf=5, min_samples_split=20, random_state=88; total time=   0.6s\n",
      "[CV] END ccp_alpha=0.0175, max_depth=30, min_samples_leaf=5, min_samples_split=20, random_state=88; total time=   0.7s\n",
      "[CV] END ccp_alpha=0.0175, max_depth=30, min_samples_leaf=5, min_samples_split=20, random_state=88; total time=   0.7s\n",
      "[CV] END ccp_alpha=0.0175, max_depth=30, min_samples_leaf=5, min_samples_split=20, random_state=88; total time=   0.7s\n",
      "[CV] END ccp_alpha=0.018000000000000002, max_depth=30, min_samples_leaf=5, min_samples_split=20, random_state=88; total time=   0.7s\n",
      "[CV] END ccp_alpha=0.018000000000000002, max_depth=30, min_samples_leaf=5, min_samples_split=20, random_state=88; total time=   0.6s\n",
      "[CV] END ccp_alpha=0.018000000000000002, max_depth=30, min_samples_leaf=5, min_samples_split=20, random_state=88; total time=   0.7s\n",
      "[CV] END ccp_alpha=0.018000000000000002, max_depth=30, min_samples_leaf=5, min_samples_split=20, random_state=88; total time=   0.7s\n",
      "[CV] END ccp_alpha=0.018000000000000002, max_depth=30, min_samples_leaf=5, min_samples_split=20, random_state=88; total time=   0.7s\n",
      "[CV] END ccp_alpha=0.0185, max_depth=30, min_samples_leaf=5, min_samples_split=20, random_state=88; total time=   0.6s\n",
      "[CV] END ccp_alpha=0.0185, max_depth=30, min_samples_leaf=5, min_samples_split=20, random_state=88; total time=   0.6s\n",
      "[CV] END ccp_alpha=0.0185, max_depth=30, min_samples_leaf=5, min_samples_split=20, random_state=88; total time=   0.7s\n",
      "[CV] END ccp_alpha=0.0185, max_depth=30, min_samples_leaf=5, min_samples_split=20, random_state=88; total time=   0.7s\n",
      "[CV] END ccp_alpha=0.0185, max_depth=30, min_samples_leaf=5, min_samples_split=20, random_state=88; total time=   0.7s\n",
      "[CV] END ccp_alpha=0.019, max_depth=30, min_samples_leaf=5, min_samples_split=20, random_state=88; total time=   0.7s\n",
      "[CV] END ccp_alpha=0.019, max_depth=30, min_samples_leaf=5, min_samples_split=20, random_state=88; total time=   0.6s\n",
      "[CV] END ccp_alpha=0.019, max_depth=30, min_samples_leaf=5, min_samples_split=20, random_state=88; total time=   0.7s\n",
      "[CV] END ccp_alpha=0.019, max_depth=30, min_samples_leaf=5, min_samples_split=20, random_state=88; total time=   0.7s\n",
      "[CV] END ccp_alpha=0.019, max_depth=30, min_samples_leaf=5, min_samples_split=20, random_state=88; total time=   0.7s\n",
      "[CV] END ccp_alpha=0.0195, max_depth=30, min_samples_leaf=5, min_samples_split=20, random_state=88; total time=   0.6s\n",
      "[CV] END ccp_alpha=0.0195, max_depth=30, min_samples_leaf=5, min_samples_split=20, random_state=88; total time=   0.6s\n",
      "[CV] END ccp_alpha=0.0195, max_depth=30, min_samples_leaf=5, min_samples_split=20, random_state=88; total time=   0.7s\n",
      "[CV] END ccp_alpha=0.0195, max_depth=30, min_samples_leaf=5, min_samples_split=20, random_state=88; total time=   0.7s\n",
      "[CV] END ccp_alpha=0.0195, max_depth=30, min_samples_leaf=5, min_samples_split=20, random_state=88; total time=   0.7s\n",
      "[CV] END ccp_alpha=0.02, max_depth=30, min_samples_leaf=5, min_samples_split=20, random_state=88; total time=   0.7s\n",
      "[CV] END ccp_alpha=0.02, max_depth=30, min_samples_leaf=5, min_samples_split=20, random_state=88; total time=   0.6s\n",
      "[CV] END ccp_alpha=0.02, max_depth=30, min_samples_leaf=5, min_samples_split=20, random_state=88; total time=   0.7s\n",
      "[CV] END ccp_alpha=0.02, max_depth=30, min_samples_leaf=5, min_samples_split=20, random_state=88; total time=   0.7s\n",
      "[CV] END ccp_alpha=0.02, max_depth=30, min_samples_leaf=5, min_samples_split=20, random_state=88; total time=   0.7s\n"
     ]
    },
    {
     "name": "stdout",
     "output_type": "stream",
     "text": [
      "[CV] END ccp_alpha=0.0205, max_depth=30, min_samples_leaf=5, min_samples_split=20, random_state=88; total time=   0.6s\n",
      "[CV] END ccp_alpha=0.0205, max_depth=30, min_samples_leaf=5, min_samples_split=20, random_state=88; total time=   0.6s\n",
      "[CV] END ccp_alpha=0.0205, max_depth=30, min_samples_leaf=5, min_samples_split=20, random_state=88; total time=   0.7s\n",
      "[CV] END ccp_alpha=0.0205, max_depth=30, min_samples_leaf=5, min_samples_split=20, random_state=88; total time=   0.7s\n",
      "[CV] END ccp_alpha=0.0205, max_depth=30, min_samples_leaf=5, min_samples_split=20, random_state=88; total time=   0.7s\n",
      "[CV] END ccp_alpha=0.021, max_depth=30, min_samples_leaf=5, min_samples_split=20, random_state=88; total time=   0.6s\n",
      "[CV] END ccp_alpha=0.021, max_depth=30, min_samples_leaf=5, min_samples_split=20, random_state=88; total time=   0.6s\n",
      "[CV] END ccp_alpha=0.021, max_depth=30, min_samples_leaf=5, min_samples_split=20, random_state=88; total time=   0.7s\n",
      "[CV] END ccp_alpha=0.021, max_depth=30, min_samples_leaf=5, min_samples_split=20, random_state=88; total time=   0.7s\n",
      "[CV] END ccp_alpha=0.021, max_depth=30, min_samples_leaf=5, min_samples_split=20, random_state=88; total time=   0.7s\n",
      "[CV] END ccp_alpha=0.021500000000000002, max_depth=30, min_samples_leaf=5, min_samples_split=20, random_state=88; total time=   0.6s\n",
      "[CV] END ccp_alpha=0.021500000000000002, max_depth=30, min_samples_leaf=5, min_samples_split=20, random_state=88; total time=   0.6s\n",
      "[CV] END ccp_alpha=0.021500000000000002, max_depth=30, min_samples_leaf=5, min_samples_split=20, random_state=88; total time=   0.7s\n",
      "[CV] END ccp_alpha=0.021500000000000002, max_depth=30, min_samples_leaf=5, min_samples_split=20, random_state=88; total time=   0.7s\n",
      "[CV] END ccp_alpha=0.021500000000000002, max_depth=30, min_samples_leaf=5, min_samples_split=20, random_state=88; total time=   0.7s\n",
      "[CV] END ccp_alpha=0.022, max_depth=30, min_samples_leaf=5, min_samples_split=20, random_state=88; total time=   0.6s\n",
      "[CV] END ccp_alpha=0.022, max_depth=30, min_samples_leaf=5, min_samples_split=20, random_state=88; total time=   0.6s\n",
      "[CV] END ccp_alpha=0.022, max_depth=30, min_samples_leaf=5, min_samples_split=20, random_state=88; total time=   0.7s\n",
      "[CV] END ccp_alpha=0.022, max_depth=30, min_samples_leaf=5, min_samples_split=20, random_state=88; total time=   0.7s\n",
      "[CV] END ccp_alpha=0.022, max_depth=30, min_samples_leaf=5, min_samples_split=20, random_state=88; total time=   0.7s\n",
      "[CV] END ccp_alpha=0.0225, max_depth=30, min_samples_leaf=5, min_samples_split=20, random_state=88; total time=   0.6s\n",
      "[CV] END ccp_alpha=0.0225, max_depth=30, min_samples_leaf=5, min_samples_split=20, random_state=88; total time=   0.6s\n",
      "[CV] END ccp_alpha=0.0225, max_depth=30, min_samples_leaf=5, min_samples_split=20, random_state=88; total time=   0.7s\n",
      "[CV] END ccp_alpha=0.0225, max_depth=30, min_samples_leaf=5, min_samples_split=20, random_state=88; total time=   0.7s\n",
      "[CV] END ccp_alpha=0.0225, max_depth=30, min_samples_leaf=5, min_samples_split=20, random_state=88; total time=   0.7s\n",
      "[CV] END ccp_alpha=0.023, max_depth=30, min_samples_leaf=5, min_samples_split=20, random_state=88; total time=   0.7s\n",
      "[CV] END ccp_alpha=0.023, max_depth=30, min_samples_leaf=5, min_samples_split=20, random_state=88; total time=   0.6s\n",
      "[CV] END ccp_alpha=0.023, max_depth=30, min_samples_leaf=5, min_samples_split=20, random_state=88; total time=   0.6s\n",
      "[CV] END ccp_alpha=0.023, max_depth=30, min_samples_leaf=5, min_samples_split=20, random_state=88; total time=   0.7s\n",
      "[CV] END ccp_alpha=0.023, max_depth=30, min_samples_leaf=5, min_samples_split=20, random_state=88; total time=   0.7s\n",
      "[CV] END ccp_alpha=0.0235, max_depth=30, min_samples_leaf=5, min_samples_split=20, random_state=88; total time=   0.7s\n",
      "[CV] END ccp_alpha=0.0235, max_depth=30, min_samples_leaf=5, min_samples_split=20, random_state=88; total time=   0.6s\n",
      "[CV] END ccp_alpha=0.0235, max_depth=30, min_samples_leaf=5, min_samples_split=20, random_state=88; total time=   0.6s\n",
      "[CV] END ccp_alpha=0.0235, max_depth=30, min_samples_leaf=5, min_samples_split=20, random_state=88; total time=   0.7s\n",
      "[CV] END ccp_alpha=0.0235, max_depth=30, min_samples_leaf=5, min_samples_split=20, random_state=88; total time=   0.7s\n",
      "[CV] END ccp_alpha=0.024, max_depth=30, min_samples_leaf=5, min_samples_split=20, random_state=88; total time=   0.6s\n",
      "[CV] END ccp_alpha=0.024, max_depth=30, min_samples_leaf=5, min_samples_split=20, random_state=88; total time=   0.6s\n",
      "[CV] END ccp_alpha=0.024, max_depth=30, min_samples_leaf=5, min_samples_split=20, random_state=88; total time=   0.6s\n",
      "[CV] END ccp_alpha=0.024, max_depth=30, min_samples_leaf=5, min_samples_split=20, random_state=88; total time=   0.7s\n",
      "[CV] END ccp_alpha=0.024, max_depth=30, min_samples_leaf=5, min_samples_split=20, random_state=88; total time=   0.7s\n",
      "[CV] END ccp_alpha=0.0245, max_depth=30, min_samples_leaf=5, min_samples_split=20, random_state=88; total time=   0.7s\n",
      "[CV] END ccp_alpha=0.0245, max_depth=30, min_samples_leaf=5, min_samples_split=20, random_state=88; total time=   0.6s\n",
      "[CV] END ccp_alpha=0.0245, max_depth=30, min_samples_leaf=5, min_samples_split=20, random_state=88; total time=   0.7s\n",
      "[CV] END ccp_alpha=0.0245, max_depth=30, min_samples_leaf=5, min_samples_split=20, random_state=88; total time=   0.7s\n",
      "[CV] END ccp_alpha=0.0245, max_depth=30, min_samples_leaf=5, min_samples_split=20, random_state=88; total time=   0.7s\n",
      "[CV] END ccp_alpha=0.025, max_depth=30, min_samples_leaf=5, min_samples_split=20, random_state=88; total time=   0.7s\n",
      "[CV] END ccp_alpha=0.025, max_depth=30, min_samples_leaf=5, min_samples_split=20, random_state=88; total time=   0.6s\n",
      "[CV] END ccp_alpha=0.025, max_depth=30, min_samples_leaf=5, min_samples_split=20, random_state=88; total time=   0.7s\n",
      "[CV] END ccp_alpha=0.025, max_depth=30, min_samples_leaf=5, min_samples_split=20, random_state=88; total time=   0.7s\n",
      "[CV] END ccp_alpha=0.025, max_depth=30, min_samples_leaf=5, min_samples_split=20, random_state=88; total time=   0.7s\n",
      "[CV] END ccp_alpha=0.025500000000000002, max_depth=30, min_samples_leaf=5, min_samples_split=20, random_state=88; total time=   0.7s\n",
      "[CV] END ccp_alpha=0.025500000000000002, max_depth=30, min_samples_leaf=5, min_samples_split=20, random_state=88; total time=   0.6s\n",
      "[CV] END ccp_alpha=0.025500000000000002, max_depth=30, min_samples_leaf=5, min_samples_split=20, random_state=88; total time=   0.7s\n",
      "[CV] END ccp_alpha=0.025500000000000002, max_depth=30, min_samples_leaf=5, min_samples_split=20, random_state=88; total time=   0.7s\n",
      "[CV] END ccp_alpha=0.025500000000000002, max_depth=30, min_samples_leaf=5, min_samples_split=20, random_state=88; total time=   0.7s\n",
      "[CV] END ccp_alpha=0.026000000000000002, max_depth=30, min_samples_leaf=5, min_samples_split=20, random_state=88; total time=   0.7s\n",
      "[CV] END ccp_alpha=0.026000000000000002, max_depth=30, min_samples_leaf=5, min_samples_split=20, random_state=88; total time=   0.6s\n",
      "[CV] END ccp_alpha=0.026000000000000002, max_depth=30, min_samples_leaf=5, min_samples_split=20, random_state=88; total time=   0.7s\n",
      "[CV] END ccp_alpha=0.026000000000000002, max_depth=30, min_samples_leaf=5, min_samples_split=20, random_state=88; total time=   0.7s\n",
      "[CV] END ccp_alpha=0.026000000000000002, max_depth=30, min_samples_leaf=5, min_samples_split=20, random_state=88; total time=   0.7s\n",
      "[CV] END ccp_alpha=0.0265, max_depth=30, min_samples_leaf=5, min_samples_split=20, random_state=88; total time=   0.6s\n",
      "[CV] END ccp_alpha=0.0265, max_depth=30, min_samples_leaf=5, min_samples_split=20, random_state=88; total time=   0.6s\n",
      "[CV] END ccp_alpha=0.0265, max_depth=30, min_samples_leaf=5, min_samples_split=20, random_state=88; total time=   0.7s\n",
      "[CV] END ccp_alpha=0.0265, max_depth=30, min_samples_leaf=5, min_samples_split=20, random_state=88; total time=   0.7s\n",
      "[CV] END ccp_alpha=0.0265, max_depth=30, min_samples_leaf=5, min_samples_split=20, random_state=88; total time=   0.7s\n",
      "[CV] END ccp_alpha=0.027, max_depth=30, min_samples_leaf=5, min_samples_split=20, random_state=88; total time=   0.6s\n",
      "[CV] END ccp_alpha=0.027, max_depth=30, min_samples_leaf=5, min_samples_split=20, random_state=88; total time=   0.6s\n",
      "[CV] END ccp_alpha=0.027, max_depth=30, min_samples_leaf=5, min_samples_split=20, random_state=88; total time=   0.7s\n"
     ]
    },
    {
     "name": "stdout",
     "output_type": "stream",
     "text": [
      "[CV] END ccp_alpha=0.027, max_depth=30, min_samples_leaf=5, min_samples_split=20, random_state=88; total time=   0.7s\n",
      "[CV] END ccp_alpha=0.027, max_depth=30, min_samples_leaf=5, min_samples_split=20, random_state=88; total time=   0.7s\n",
      "[CV] END ccp_alpha=0.0275, max_depth=30, min_samples_leaf=5, min_samples_split=20, random_state=88; total time=   0.7s\n",
      "[CV] END ccp_alpha=0.0275, max_depth=30, min_samples_leaf=5, min_samples_split=20, random_state=88; total time=   0.6s\n",
      "[CV] END ccp_alpha=0.0275, max_depth=30, min_samples_leaf=5, min_samples_split=20, random_state=88; total time=   0.7s\n",
      "[CV] END ccp_alpha=0.0275, max_depth=30, min_samples_leaf=5, min_samples_split=20, random_state=88; total time=   0.7s\n",
      "[CV] END ccp_alpha=0.0275, max_depth=30, min_samples_leaf=5, min_samples_split=20, random_state=88; total time=   0.7s\n",
      "[CV] END ccp_alpha=0.028, max_depth=30, min_samples_leaf=5, min_samples_split=20, random_state=88; total time=   0.6s\n",
      "[CV] END ccp_alpha=0.028, max_depth=30, min_samples_leaf=5, min_samples_split=20, random_state=88; total time=   0.6s\n",
      "[CV] END ccp_alpha=0.028, max_depth=30, min_samples_leaf=5, min_samples_split=20, random_state=88; total time=   0.7s\n",
      "[CV] END ccp_alpha=0.028, max_depth=30, min_samples_leaf=5, min_samples_split=20, random_state=88; total time=   0.7s\n",
      "[CV] END ccp_alpha=0.028, max_depth=30, min_samples_leaf=5, min_samples_split=20, random_state=88; total time=   0.7s\n",
      "[CV] END ccp_alpha=0.0285, max_depth=30, min_samples_leaf=5, min_samples_split=20, random_state=88; total time=   0.6s\n",
      "[CV] END ccp_alpha=0.0285, max_depth=30, min_samples_leaf=5, min_samples_split=20, random_state=88; total time=   0.6s\n",
      "[CV] END ccp_alpha=0.0285, max_depth=30, min_samples_leaf=5, min_samples_split=20, random_state=88; total time=   0.7s\n",
      "[CV] END ccp_alpha=0.0285, max_depth=30, min_samples_leaf=5, min_samples_split=20, random_state=88; total time=   0.7s\n",
      "[CV] END ccp_alpha=0.0285, max_depth=30, min_samples_leaf=5, min_samples_split=20, random_state=88; total time=   0.7s\n",
      "[CV] END ccp_alpha=0.029, max_depth=30, min_samples_leaf=5, min_samples_split=20, random_state=88; total time=   0.6s\n",
      "[CV] END ccp_alpha=0.029, max_depth=30, min_samples_leaf=5, min_samples_split=20, random_state=88; total time=   0.6s\n",
      "[CV] END ccp_alpha=0.029, max_depth=30, min_samples_leaf=5, min_samples_split=20, random_state=88; total time=   0.7s\n",
      "[CV] END ccp_alpha=0.029, max_depth=30, min_samples_leaf=5, min_samples_split=20, random_state=88; total time=   0.7s\n",
      "[CV] END ccp_alpha=0.029, max_depth=30, min_samples_leaf=5, min_samples_split=20, random_state=88; total time=   0.7s\n",
      "[CV] END ccp_alpha=0.029500000000000002, max_depth=30, min_samples_leaf=5, min_samples_split=20, random_state=88; total time=   0.7s\n",
      "[CV] END ccp_alpha=0.029500000000000002, max_depth=30, min_samples_leaf=5, min_samples_split=20, random_state=88; total time=   0.6s\n",
      "[CV] END ccp_alpha=0.029500000000000002, max_depth=30, min_samples_leaf=5, min_samples_split=20, random_state=88; total time=   0.7s\n",
      "[CV] END ccp_alpha=0.029500000000000002, max_depth=30, min_samples_leaf=5, min_samples_split=20, random_state=88; total time=   0.7s\n",
      "[CV] END ccp_alpha=0.029500000000000002, max_depth=30, min_samples_leaf=5, min_samples_split=20, random_state=88; total time=   0.7s\n",
      "[CV] END ccp_alpha=0.03, max_depth=30, min_samples_leaf=5, min_samples_split=20, random_state=88; total time=   0.6s\n",
      "[CV] END ccp_alpha=0.03, max_depth=30, min_samples_leaf=5, min_samples_split=20, random_state=88; total time=   0.6s\n",
      "[CV] END ccp_alpha=0.03, max_depth=30, min_samples_leaf=5, min_samples_split=20, random_state=88; total time=   0.6s\n",
      "[CV] END ccp_alpha=0.03, max_depth=30, min_samples_leaf=5, min_samples_split=20, random_state=88; total time=   0.7s\n",
      "[CV] END ccp_alpha=0.03, max_depth=30, min_samples_leaf=5, min_samples_split=20, random_state=88; total time=   0.7s\n",
      "[CV] END ccp_alpha=0.0305, max_depth=30, min_samples_leaf=5, min_samples_split=20, random_state=88; total time=   0.6s\n",
      "[CV] END ccp_alpha=0.0305, max_depth=30, min_samples_leaf=5, min_samples_split=20, random_state=88; total time=   0.6s\n",
      "[CV] END ccp_alpha=0.0305, max_depth=30, min_samples_leaf=5, min_samples_split=20, random_state=88; total time=   0.6s\n",
      "[CV] END ccp_alpha=0.0305, max_depth=30, min_samples_leaf=5, min_samples_split=20, random_state=88; total time=   0.7s\n",
      "[CV] END ccp_alpha=0.0305, max_depth=30, min_samples_leaf=5, min_samples_split=20, random_state=88; total time=   0.7s\n",
      "[CV] END ccp_alpha=0.031, max_depth=30, min_samples_leaf=5, min_samples_split=20, random_state=88; total time=   0.6s\n",
      "[CV] END ccp_alpha=0.031, max_depth=30, min_samples_leaf=5, min_samples_split=20, random_state=88; total time=   0.6s\n",
      "[CV] END ccp_alpha=0.031, max_depth=30, min_samples_leaf=5, min_samples_split=20, random_state=88; total time=   0.7s\n",
      "[CV] END ccp_alpha=0.031, max_depth=30, min_samples_leaf=5, min_samples_split=20, random_state=88; total time=   0.7s\n",
      "[CV] END ccp_alpha=0.031, max_depth=30, min_samples_leaf=5, min_samples_split=20, random_state=88; total time=   0.7s\n",
      "[CV] END ccp_alpha=0.0315, max_depth=30, min_samples_leaf=5, min_samples_split=20, random_state=88; total time=   0.6s\n",
      "[CV] END ccp_alpha=0.0315, max_depth=30, min_samples_leaf=5, min_samples_split=20, random_state=88; total time=   0.6s\n",
      "[CV] END ccp_alpha=0.0315, max_depth=30, min_samples_leaf=5, min_samples_split=20, random_state=88; total time=   0.6s\n",
      "[CV] END ccp_alpha=0.0315, max_depth=30, min_samples_leaf=5, min_samples_split=20, random_state=88; total time=   0.7s\n",
      "[CV] END ccp_alpha=0.0315, max_depth=30, min_samples_leaf=5, min_samples_split=20, random_state=88; total time=   0.7s\n",
      "[CV] END ccp_alpha=0.032, max_depth=30, min_samples_leaf=5, min_samples_split=20, random_state=88; total time=   0.6s\n",
      "[CV] END ccp_alpha=0.032, max_depth=30, min_samples_leaf=5, min_samples_split=20, random_state=88; total time=   0.6s\n",
      "[CV] END ccp_alpha=0.032, max_depth=30, min_samples_leaf=5, min_samples_split=20, random_state=88; total time=   0.6s\n",
      "[CV] END ccp_alpha=0.032, max_depth=30, min_samples_leaf=5, min_samples_split=20, random_state=88; total time=   0.7s\n",
      "[CV] END ccp_alpha=0.032, max_depth=30, min_samples_leaf=5, min_samples_split=20, random_state=88; total time=   0.7s\n",
      "[CV] END ccp_alpha=0.0325, max_depth=30, min_samples_leaf=5, min_samples_split=20, random_state=88; total time=   0.6s\n",
      "[CV] END ccp_alpha=0.0325, max_depth=30, min_samples_leaf=5, min_samples_split=20, random_state=88; total time=   0.6s\n",
      "[CV] END ccp_alpha=0.0325, max_depth=30, min_samples_leaf=5, min_samples_split=20, random_state=88; total time=   0.7s\n",
      "[CV] END ccp_alpha=0.0325, max_depth=30, min_samples_leaf=5, min_samples_split=20, random_state=88; total time=   0.7s\n",
      "[CV] END ccp_alpha=0.0325, max_depth=30, min_samples_leaf=5, min_samples_split=20, random_state=88; total time=   0.7s\n",
      "[CV] END ccp_alpha=0.033, max_depth=30, min_samples_leaf=5, min_samples_split=20, random_state=88; total time=   0.6s\n",
      "[CV] END ccp_alpha=0.033, max_depth=30, min_samples_leaf=5, min_samples_split=20, random_state=88; total time=   0.6s\n",
      "[CV] END ccp_alpha=0.033, max_depth=30, min_samples_leaf=5, min_samples_split=20, random_state=88; total time=   0.7s\n",
      "[CV] END ccp_alpha=0.033, max_depth=30, min_samples_leaf=5, min_samples_split=20, random_state=88; total time=   0.7s\n",
      "[CV] END ccp_alpha=0.033, max_depth=30, min_samples_leaf=5, min_samples_split=20, random_state=88; total time=   0.7s\n",
      "[CV] END ccp_alpha=0.0335, max_depth=30, min_samples_leaf=5, min_samples_split=20, random_state=88; total time=   0.6s\n",
      "[CV] END ccp_alpha=0.0335, max_depth=30, min_samples_leaf=5, min_samples_split=20, random_state=88; total time=   0.6s\n",
      "[CV] END ccp_alpha=0.0335, max_depth=30, min_samples_leaf=5, min_samples_split=20, random_state=88; total time=   0.7s\n",
      "[CV] END ccp_alpha=0.0335, max_depth=30, min_samples_leaf=5, min_samples_split=20, random_state=88; total time=   0.7s\n",
      "[CV] END ccp_alpha=0.0335, max_depth=30, min_samples_leaf=5, min_samples_split=20, random_state=88; total time=   0.7s\n",
      "[CV] END ccp_alpha=0.034, max_depth=30, min_samples_leaf=5, min_samples_split=20, random_state=88; total time=   0.6s\n",
      "[CV] END ccp_alpha=0.034, max_depth=30, min_samples_leaf=5, min_samples_split=20, random_state=88; total time=   0.6s\n"
     ]
    },
    {
     "name": "stdout",
     "output_type": "stream",
     "text": [
      "[CV] END ccp_alpha=0.034, max_depth=30, min_samples_leaf=5, min_samples_split=20, random_state=88; total time=   0.7s\n",
      "[CV] END ccp_alpha=0.034, max_depth=30, min_samples_leaf=5, min_samples_split=20, random_state=88; total time=   0.7s\n",
      "[CV] END ccp_alpha=0.034, max_depth=30, min_samples_leaf=5, min_samples_split=20, random_state=88; total time=   0.7s\n",
      "[CV] END ccp_alpha=0.0345, max_depth=30, min_samples_leaf=5, min_samples_split=20, random_state=88; total time=   0.6s\n",
      "[CV] END ccp_alpha=0.0345, max_depth=30, min_samples_leaf=5, min_samples_split=20, random_state=88; total time=   0.6s\n",
      "[CV] END ccp_alpha=0.0345, max_depth=30, min_samples_leaf=5, min_samples_split=20, random_state=88; total time=   0.6s\n",
      "[CV] END ccp_alpha=0.0345, max_depth=30, min_samples_leaf=5, min_samples_split=20, random_state=88; total time=   0.7s\n",
      "[CV] END ccp_alpha=0.0345, max_depth=30, min_samples_leaf=5, min_samples_split=20, random_state=88; total time=   0.7s\n",
      "[CV] END ccp_alpha=0.035, max_depth=30, min_samples_leaf=5, min_samples_split=20, random_state=88; total time=   0.6s\n",
      "[CV] END ccp_alpha=0.035, max_depth=30, min_samples_leaf=5, min_samples_split=20, random_state=88; total time=   0.6s\n",
      "[CV] END ccp_alpha=0.035, max_depth=30, min_samples_leaf=5, min_samples_split=20, random_state=88; total time=   0.6s\n",
      "[CV] END ccp_alpha=0.035, max_depth=30, min_samples_leaf=5, min_samples_split=20, random_state=88; total time=   0.7s\n",
      "[CV] END ccp_alpha=0.035, max_depth=30, min_samples_leaf=5, min_samples_split=20, random_state=88; total time=   0.7s\n",
      "[CV] END ccp_alpha=0.035500000000000004, max_depth=30, min_samples_leaf=5, min_samples_split=20, random_state=88; total time=   0.6s\n",
      "[CV] END ccp_alpha=0.035500000000000004, max_depth=30, min_samples_leaf=5, min_samples_split=20, random_state=88; total time=   0.6s\n",
      "[CV] END ccp_alpha=0.035500000000000004, max_depth=30, min_samples_leaf=5, min_samples_split=20, random_state=88; total time=   0.7s\n",
      "[CV] END ccp_alpha=0.035500000000000004, max_depth=30, min_samples_leaf=5, min_samples_split=20, random_state=88; total time=   0.7s\n",
      "[CV] END ccp_alpha=0.035500000000000004, max_depth=30, min_samples_leaf=5, min_samples_split=20, random_state=88; total time=   0.7s\n",
      "[CV] END ccp_alpha=0.036000000000000004, max_depth=30, min_samples_leaf=5, min_samples_split=20, random_state=88; total time=   0.7s\n",
      "[CV] END ccp_alpha=0.036000000000000004, max_depth=30, min_samples_leaf=5, min_samples_split=20, random_state=88; total time=   0.6s\n",
      "[CV] END ccp_alpha=0.036000000000000004, max_depth=30, min_samples_leaf=5, min_samples_split=20, random_state=88; total time=   0.7s\n",
      "[CV] END ccp_alpha=0.036000000000000004, max_depth=30, min_samples_leaf=5, min_samples_split=20, random_state=88; total time=   0.7s\n",
      "[CV] END ccp_alpha=0.036000000000000004, max_depth=30, min_samples_leaf=5, min_samples_split=20, random_state=88; total time=   0.7s\n",
      "[CV] END ccp_alpha=0.0365, max_depth=30, min_samples_leaf=5, min_samples_split=20, random_state=88; total time=   0.6s\n",
      "[CV] END ccp_alpha=0.0365, max_depth=30, min_samples_leaf=5, min_samples_split=20, random_state=88; total time=   0.6s\n",
      "[CV] END ccp_alpha=0.0365, max_depth=30, min_samples_leaf=5, min_samples_split=20, random_state=88; total time=   0.7s\n",
      "[CV] END ccp_alpha=0.0365, max_depth=30, min_samples_leaf=5, min_samples_split=20, random_state=88; total time=   0.7s\n",
      "[CV] END ccp_alpha=0.0365, max_depth=30, min_samples_leaf=5, min_samples_split=20, random_state=88; total time=   0.7s\n",
      "[CV] END ccp_alpha=0.037, max_depth=30, min_samples_leaf=5, min_samples_split=20, random_state=88; total time=   0.6s\n",
      "[CV] END ccp_alpha=0.037, max_depth=30, min_samples_leaf=5, min_samples_split=20, random_state=88; total time=   0.6s\n",
      "[CV] END ccp_alpha=0.037, max_depth=30, min_samples_leaf=5, min_samples_split=20, random_state=88; total time=   0.7s\n",
      "[CV] END ccp_alpha=0.037, max_depth=30, min_samples_leaf=5, min_samples_split=20, random_state=88; total time=   0.7s\n",
      "[CV] END ccp_alpha=0.037, max_depth=30, min_samples_leaf=5, min_samples_split=20, random_state=88; total time=   0.7s\n",
      "[CV] END ccp_alpha=0.0375, max_depth=30, min_samples_leaf=5, min_samples_split=20, random_state=88; total time=   0.7s\n",
      "[CV] END ccp_alpha=0.0375, max_depth=30, min_samples_leaf=5, min_samples_split=20, random_state=88; total time=   0.6s\n",
      "[CV] END ccp_alpha=0.0375, max_depth=30, min_samples_leaf=5, min_samples_split=20, random_state=88; total time=   0.7s\n",
      "[CV] END ccp_alpha=0.0375, max_depth=30, min_samples_leaf=5, min_samples_split=20, random_state=88; total time=   0.7s\n",
      "[CV] END ccp_alpha=0.0375, max_depth=30, min_samples_leaf=5, min_samples_split=20, random_state=88; total time=   0.7s\n",
      "[CV] END ccp_alpha=0.038, max_depth=30, min_samples_leaf=5, min_samples_split=20, random_state=88; total time=   0.7s\n",
      "[CV] END ccp_alpha=0.038, max_depth=30, min_samples_leaf=5, min_samples_split=20, random_state=88; total time=   0.6s\n",
      "[CV] END ccp_alpha=0.038, max_depth=30, min_samples_leaf=5, min_samples_split=20, random_state=88; total time=   0.7s\n",
      "[CV] END ccp_alpha=0.038, max_depth=30, min_samples_leaf=5, min_samples_split=20, random_state=88; total time=   0.7s\n",
      "[CV] END ccp_alpha=0.038, max_depth=30, min_samples_leaf=5, min_samples_split=20, random_state=88; total time=   0.7s\n",
      "[CV] END ccp_alpha=0.0385, max_depth=30, min_samples_leaf=5, min_samples_split=20, random_state=88; total time=   0.6s\n",
      "[CV] END ccp_alpha=0.0385, max_depth=30, min_samples_leaf=5, min_samples_split=20, random_state=88; total time=   0.6s\n",
      "[CV] END ccp_alpha=0.0385, max_depth=30, min_samples_leaf=5, min_samples_split=20, random_state=88; total time=   0.7s\n",
      "[CV] END ccp_alpha=0.0385, max_depth=30, min_samples_leaf=5, min_samples_split=20, random_state=88; total time=   0.7s\n",
      "[CV] END ccp_alpha=0.0385, max_depth=30, min_samples_leaf=5, min_samples_split=20, random_state=88; total time=   0.7s\n",
      "[CV] END ccp_alpha=0.039, max_depth=30, min_samples_leaf=5, min_samples_split=20, random_state=88; total time=   0.6s\n",
      "[CV] END ccp_alpha=0.039, max_depth=30, min_samples_leaf=5, min_samples_split=20, random_state=88; total time=   0.6s\n",
      "[CV] END ccp_alpha=0.039, max_depth=30, min_samples_leaf=5, min_samples_split=20, random_state=88; total time=   0.7s\n",
      "[CV] END ccp_alpha=0.039, max_depth=30, min_samples_leaf=5, min_samples_split=20, random_state=88; total time=   0.7s\n",
      "[CV] END ccp_alpha=0.039, max_depth=30, min_samples_leaf=5, min_samples_split=20, random_state=88; total time=   0.7s\n",
      "[CV] END ccp_alpha=0.0395, max_depth=30, min_samples_leaf=5, min_samples_split=20, random_state=88; total time=   0.6s\n",
      "[CV] END ccp_alpha=0.0395, max_depth=30, min_samples_leaf=5, min_samples_split=20, random_state=88; total time=   0.6s\n",
      "[CV] END ccp_alpha=0.0395, max_depth=30, min_samples_leaf=5, min_samples_split=20, random_state=88; total time=   0.7s\n",
      "[CV] END ccp_alpha=0.0395, max_depth=30, min_samples_leaf=5, min_samples_split=20, random_state=88; total time=   0.7s\n",
      "[CV] END ccp_alpha=0.0395, max_depth=30, min_samples_leaf=5, min_samples_split=20, random_state=88; total time=   0.7s\n",
      "[CV] END ccp_alpha=0.04, max_depth=30, min_samples_leaf=5, min_samples_split=20, random_state=88; total time=   0.6s\n",
      "[CV] END ccp_alpha=0.04, max_depth=30, min_samples_leaf=5, min_samples_split=20, random_state=88; total time=   0.6s\n",
      "[CV] END ccp_alpha=0.04, max_depth=30, min_samples_leaf=5, min_samples_split=20, random_state=88; total time=   0.7s\n",
      "[CV] END ccp_alpha=0.04, max_depth=30, min_samples_leaf=5, min_samples_split=20, random_state=88; total time=   0.7s\n",
      "[CV] END ccp_alpha=0.04, max_depth=30, min_samples_leaf=5, min_samples_split=20, random_state=88; total time=   0.7s\n",
      "[CV] END ccp_alpha=0.0405, max_depth=30, min_samples_leaf=5, min_samples_split=20, random_state=88; total time=   0.6s\n",
      "[CV] END ccp_alpha=0.0405, max_depth=30, min_samples_leaf=5, min_samples_split=20, random_state=88; total time=   0.6s\n",
      "[CV] END ccp_alpha=0.0405, max_depth=30, min_samples_leaf=5, min_samples_split=20, random_state=88; total time=   0.7s\n",
      "[CV] END ccp_alpha=0.0405, max_depth=30, min_samples_leaf=5, min_samples_split=20, random_state=88; total time=   0.7s\n",
      "[CV] END ccp_alpha=0.0405, max_depth=30, min_samples_leaf=5, min_samples_split=20, random_state=88; total time=   0.7s\n"
     ]
    },
    {
     "name": "stdout",
     "output_type": "stream",
     "text": [
      "[CV] END ccp_alpha=0.041, max_depth=30, min_samples_leaf=5, min_samples_split=20, random_state=88; total time=   0.6s\n",
      "[CV] END ccp_alpha=0.041, max_depth=30, min_samples_leaf=5, min_samples_split=20, random_state=88; total time=   0.6s\n",
      "[CV] END ccp_alpha=0.041, max_depth=30, min_samples_leaf=5, min_samples_split=20, random_state=88; total time=   0.7s\n",
      "[CV] END ccp_alpha=0.041, max_depth=30, min_samples_leaf=5, min_samples_split=20, random_state=88; total time=   0.7s\n",
      "[CV] END ccp_alpha=0.041, max_depth=30, min_samples_leaf=5, min_samples_split=20, random_state=88; total time=   0.7s\n",
      "[CV] END ccp_alpha=0.0415, max_depth=30, min_samples_leaf=5, min_samples_split=20, random_state=88; total time=   0.6s\n",
      "[CV] END ccp_alpha=0.0415, max_depth=30, min_samples_leaf=5, min_samples_split=20, random_state=88; total time=   0.6s\n",
      "[CV] END ccp_alpha=0.0415, max_depth=30, min_samples_leaf=5, min_samples_split=20, random_state=88; total time=   0.7s\n",
      "[CV] END ccp_alpha=0.0415, max_depth=30, min_samples_leaf=5, min_samples_split=20, random_state=88; total time=   0.7s\n",
      "[CV] END ccp_alpha=0.0415, max_depth=30, min_samples_leaf=5, min_samples_split=20, random_state=88; total time=   0.7s\n",
      "[CV] END ccp_alpha=0.042, max_depth=30, min_samples_leaf=5, min_samples_split=20, random_state=88; total time=   0.6s\n",
      "[CV] END ccp_alpha=0.042, max_depth=30, min_samples_leaf=5, min_samples_split=20, random_state=88; total time=   0.6s\n",
      "[CV] END ccp_alpha=0.042, max_depth=30, min_samples_leaf=5, min_samples_split=20, random_state=88; total time=   0.7s\n",
      "[CV] END ccp_alpha=0.042, max_depth=30, min_samples_leaf=5, min_samples_split=20, random_state=88; total time=   0.7s\n",
      "[CV] END ccp_alpha=0.042, max_depth=30, min_samples_leaf=5, min_samples_split=20, random_state=88; total time=   0.7s\n",
      "[CV] END ccp_alpha=0.0425, max_depth=30, min_samples_leaf=5, min_samples_split=20, random_state=88; total time=   0.6s\n",
      "[CV] END ccp_alpha=0.0425, max_depth=30, min_samples_leaf=5, min_samples_split=20, random_state=88; total time=   0.6s\n",
      "[CV] END ccp_alpha=0.0425, max_depth=30, min_samples_leaf=5, min_samples_split=20, random_state=88; total time=   0.6s\n",
      "[CV] END ccp_alpha=0.0425, max_depth=30, min_samples_leaf=5, min_samples_split=20, random_state=88; total time=   0.6s\n",
      "[CV] END ccp_alpha=0.0425, max_depth=30, min_samples_leaf=5, min_samples_split=20, random_state=88; total time=   0.6s\n",
      "[CV] END ccp_alpha=0.043000000000000003, max_depth=30, min_samples_leaf=5, min_samples_split=20, random_state=88; total time=   0.6s\n",
      "[CV] END ccp_alpha=0.043000000000000003, max_depth=30, min_samples_leaf=5, min_samples_split=20, random_state=88; total time=   0.6s\n",
      "[CV] END ccp_alpha=0.043000000000000003, max_depth=30, min_samples_leaf=5, min_samples_split=20, random_state=88; total time=   0.7s\n",
      "[CV] END ccp_alpha=0.043000000000000003, max_depth=30, min_samples_leaf=5, min_samples_split=20, random_state=88; total time=   0.7s\n",
      "[CV] END ccp_alpha=0.043000000000000003, max_depth=30, min_samples_leaf=5, min_samples_split=20, random_state=88; total time=   0.7s\n",
      "[CV] END ccp_alpha=0.043500000000000004, max_depth=30, min_samples_leaf=5, min_samples_split=20, random_state=88; total time=   0.6s\n",
      "[CV] END ccp_alpha=0.043500000000000004, max_depth=30, min_samples_leaf=5, min_samples_split=20, random_state=88; total time=   0.6s\n",
      "[CV] END ccp_alpha=0.043500000000000004, max_depth=30, min_samples_leaf=5, min_samples_split=20, random_state=88; total time=   0.7s\n",
      "[CV] END ccp_alpha=0.043500000000000004, max_depth=30, min_samples_leaf=5, min_samples_split=20, random_state=88; total time=   0.7s\n",
      "[CV] END ccp_alpha=0.043500000000000004, max_depth=30, min_samples_leaf=5, min_samples_split=20, random_state=88; total time=   0.7s\n",
      "[CV] END ccp_alpha=0.044, max_depth=30, min_samples_leaf=5, min_samples_split=20, random_state=88; total time=   0.7s\n",
      "[CV] END ccp_alpha=0.044, max_depth=30, min_samples_leaf=5, min_samples_split=20, random_state=88; total time=   0.5s\n",
      "[CV] END ccp_alpha=0.044, max_depth=30, min_samples_leaf=5, min_samples_split=20, random_state=88; total time=   0.7s\n",
      "[CV] END ccp_alpha=0.044, max_depth=30, min_samples_leaf=5, min_samples_split=20, random_state=88; total time=   0.7s\n",
      "[CV] END ccp_alpha=0.044, max_depth=30, min_samples_leaf=5, min_samples_split=20, random_state=88; total time=   0.6s\n",
      "[CV] END ccp_alpha=0.0445, max_depth=30, min_samples_leaf=5, min_samples_split=20, random_state=88; total time=   0.6s\n",
      "[CV] END ccp_alpha=0.0445, max_depth=30, min_samples_leaf=5, min_samples_split=20, random_state=88; total time=   0.6s\n",
      "[CV] END ccp_alpha=0.0445, max_depth=30, min_samples_leaf=5, min_samples_split=20, random_state=88; total time=   0.7s\n",
      "[CV] END ccp_alpha=0.0445, max_depth=30, min_samples_leaf=5, min_samples_split=20, random_state=88; total time=   0.7s\n",
      "[CV] END ccp_alpha=0.0445, max_depth=30, min_samples_leaf=5, min_samples_split=20, random_state=88; total time=   0.7s\n",
      "[CV] END ccp_alpha=0.045, max_depth=30, min_samples_leaf=5, min_samples_split=20, random_state=88; total time=   0.7s\n",
      "[CV] END ccp_alpha=0.045, max_depth=30, min_samples_leaf=5, min_samples_split=20, random_state=88; total time=   0.6s\n",
      "[CV] END ccp_alpha=0.045, max_depth=30, min_samples_leaf=5, min_samples_split=20, random_state=88; total time=   0.7s\n",
      "[CV] END ccp_alpha=0.045, max_depth=30, min_samples_leaf=5, min_samples_split=20, random_state=88; total time=   0.7s\n",
      "[CV] END ccp_alpha=0.045, max_depth=30, min_samples_leaf=5, min_samples_split=20, random_state=88; total time=   0.7s\n",
      "[CV] END ccp_alpha=0.0455, max_depth=30, min_samples_leaf=5, min_samples_split=20, random_state=88; total time=   0.7s\n",
      "[CV] END ccp_alpha=0.0455, max_depth=30, min_samples_leaf=5, min_samples_split=20, random_state=88; total time=   0.6s\n",
      "[CV] END ccp_alpha=0.0455, max_depth=30, min_samples_leaf=5, min_samples_split=20, random_state=88; total time=   0.7s\n",
      "[CV] END ccp_alpha=0.0455, max_depth=30, min_samples_leaf=5, min_samples_split=20, random_state=88; total time=   0.7s\n",
      "[CV] END ccp_alpha=0.0455, max_depth=30, min_samples_leaf=5, min_samples_split=20, random_state=88; total time=   0.7s\n",
      "[CV] END ccp_alpha=0.046, max_depth=30, min_samples_leaf=5, min_samples_split=20, random_state=88; total time=   0.7s\n",
      "[CV] END ccp_alpha=0.046, max_depth=30, min_samples_leaf=5, min_samples_split=20, random_state=88; total time=   0.6s\n",
      "[CV] END ccp_alpha=0.046, max_depth=30, min_samples_leaf=5, min_samples_split=20, random_state=88; total time=   0.7s\n",
      "[CV] END ccp_alpha=0.046, max_depth=30, min_samples_leaf=5, min_samples_split=20, random_state=88; total time=   0.7s\n",
      "[CV] END ccp_alpha=0.046, max_depth=30, min_samples_leaf=5, min_samples_split=20, random_state=88; total time=   0.7s\n",
      "[CV] END ccp_alpha=0.0465, max_depth=30, min_samples_leaf=5, min_samples_split=20, random_state=88; total time=   0.6s\n",
      "[CV] END ccp_alpha=0.0465, max_depth=30, min_samples_leaf=5, min_samples_split=20, random_state=88; total time=   0.6s\n",
      "[CV] END ccp_alpha=0.0465, max_depth=30, min_samples_leaf=5, min_samples_split=20, random_state=88; total time=   0.7s\n",
      "[CV] END ccp_alpha=0.0465, max_depth=30, min_samples_leaf=5, min_samples_split=20, random_state=88; total time=   0.7s\n",
      "[CV] END ccp_alpha=0.0465, max_depth=30, min_samples_leaf=5, min_samples_split=20, random_state=88; total time=   0.7s\n",
      "[CV] END ccp_alpha=0.047, max_depth=30, min_samples_leaf=5, min_samples_split=20, random_state=88; total time=   0.7s\n",
      "[CV] END ccp_alpha=0.047, max_depth=30, min_samples_leaf=5, min_samples_split=20, random_state=88; total time=   0.6s\n",
      "[CV] END ccp_alpha=0.047, max_depth=30, min_samples_leaf=5, min_samples_split=20, random_state=88; total time=   0.7s\n",
      "[CV] END ccp_alpha=0.047, max_depth=30, min_samples_leaf=5, min_samples_split=20, random_state=88; total time=   0.7s\n",
      "[CV] END ccp_alpha=0.047, max_depth=30, min_samples_leaf=5, min_samples_split=20, random_state=88; total time=   0.7s\n",
      "[CV] END ccp_alpha=0.0475, max_depth=30, min_samples_leaf=5, min_samples_split=20, random_state=88; total time=   0.7s\n",
      "[CV] END ccp_alpha=0.0475, max_depth=30, min_samples_leaf=5, min_samples_split=20, random_state=88; total time=   0.6s\n",
      "[CV] END ccp_alpha=0.0475, max_depth=30, min_samples_leaf=5, min_samples_split=20, random_state=88; total time=   0.6s\n"
     ]
    },
    {
     "name": "stdout",
     "output_type": "stream",
     "text": [
      "[CV] END ccp_alpha=0.0475, max_depth=30, min_samples_leaf=5, min_samples_split=20, random_state=88; total time=   0.6s\n",
      "[CV] END ccp_alpha=0.0475, max_depth=30, min_samples_leaf=5, min_samples_split=20, random_state=88; total time=   0.6s\n",
      "[CV] END ccp_alpha=0.048, max_depth=30, min_samples_leaf=5, min_samples_split=20, random_state=88; total time=   0.6s\n",
      "[CV] END ccp_alpha=0.048, max_depth=30, min_samples_leaf=5, min_samples_split=20, random_state=88; total time=   0.6s\n",
      "[CV] END ccp_alpha=0.048, max_depth=30, min_samples_leaf=5, min_samples_split=20, random_state=88; total time=   0.7s\n",
      "[CV] END ccp_alpha=0.048, max_depth=30, min_samples_leaf=5, min_samples_split=20, random_state=88; total time=   0.7s\n",
      "[CV] END ccp_alpha=0.048, max_depth=30, min_samples_leaf=5, min_samples_split=20, random_state=88; total time=   0.7s\n",
      "[CV] END ccp_alpha=0.0485, max_depth=30, min_samples_leaf=5, min_samples_split=20, random_state=88; total time=   0.7s\n",
      "[CV] END ccp_alpha=0.0485, max_depth=30, min_samples_leaf=5, min_samples_split=20, random_state=88; total time=   0.6s\n",
      "[CV] END ccp_alpha=0.0485, max_depth=30, min_samples_leaf=5, min_samples_split=20, random_state=88; total time=   0.7s\n",
      "[CV] END ccp_alpha=0.0485, max_depth=30, min_samples_leaf=5, min_samples_split=20, random_state=88; total time=   0.7s\n",
      "[CV] END ccp_alpha=0.0485, max_depth=30, min_samples_leaf=5, min_samples_split=20, random_state=88; total time=   0.7s\n",
      "[CV] END ccp_alpha=0.049, max_depth=30, min_samples_leaf=5, min_samples_split=20, random_state=88; total time=   0.7s\n",
      "[CV] END ccp_alpha=0.049, max_depth=30, min_samples_leaf=5, min_samples_split=20, random_state=88; total time=   0.6s\n",
      "[CV] END ccp_alpha=0.049, max_depth=30, min_samples_leaf=5, min_samples_split=20, random_state=88; total time=   0.7s\n",
      "[CV] END ccp_alpha=0.049, max_depth=30, min_samples_leaf=5, min_samples_split=20, random_state=88; total time=   0.7s\n",
      "[CV] END ccp_alpha=0.049, max_depth=30, min_samples_leaf=5, min_samples_split=20, random_state=88; total time=   0.7s\n",
      "[CV] END ccp_alpha=0.0495, max_depth=30, min_samples_leaf=5, min_samples_split=20, random_state=88; total time=   0.7s\n",
      "[CV] END ccp_alpha=0.0495, max_depth=30, min_samples_leaf=5, min_samples_split=20, random_state=88; total time=   0.6s\n",
      "[CV] END ccp_alpha=0.0495, max_depth=30, min_samples_leaf=5, min_samples_split=20, random_state=88; total time=   0.7s\n",
      "[CV] END ccp_alpha=0.0495, max_depth=30, min_samples_leaf=5, min_samples_split=20, random_state=88; total time=   0.7s\n",
      "[CV] END ccp_alpha=0.0495, max_depth=30, min_samples_leaf=5, min_samples_split=20, random_state=88; total time=   0.7s\n",
      "[CV] END ccp_alpha=0.05, max_depth=30, min_samples_leaf=5, min_samples_split=20, random_state=88; total time=   0.7s\n",
      "[CV] END ccp_alpha=0.05, max_depth=30, min_samples_leaf=5, min_samples_split=20, random_state=88; total time=   0.6s\n",
      "[CV] END ccp_alpha=0.05, max_depth=30, min_samples_leaf=5, min_samples_split=20, random_state=88; total time=   0.7s\n",
      "[CV] END ccp_alpha=0.05, max_depth=30, min_samples_leaf=5, min_samples_split=20, random_state=88; total time=   0.7s\n",
      "[CV] END ccp_alpha=0.05, max_depth=30, min_samples_leaf=5, min_samples_split=20, random_state=88; total time=   0.7s\n",
      "[CV] END ccp_alpha=0.0505, max_depth=30, min_samples_leaf=5, min_samples_split=20, random_state=88; total time=   0.7s\n",
      "[CV] END ccp_alpha=0.0505, max_depth=30, min_samples_leaf=5, min_samples_split=20, random_state=88; total time=   0.6s\n",
      "[CV] END ccp_alpha=0.0505, max_depth=30, min_samples_leaf=5, min_samples_split=20, random_state=88; total time=   0.7s\n",
      "[CV] END ccp_alpha=0.0505, max_depth=30, min_samples_leaf=5, min_samples_split=20, random_state=88; total time=   0.7s\n",
      "[CV] END ccp_alpha=0.0505, max_depth=30, min_samples_leaf=5, min_samples_split=20, random_state=88; total time=   0.7s\n",
      "[CV] END ccp_alpha=0.051000000000000004, max_depth=30, min_samples_leaf=5, min_samples_split=20, random_state=88; total time=   0.7s\n",
      "[CV] END ccp_alpha=0.051000000000000004, max_depth=30, min_samples_leaf=5, min_samples_split=20, random_state=88; total time=   0.6s\n",
      "[CV] END ccp_alpha=0.051000000000000004, max_depth=30, min_samples_leaf=5, min_samples_split=20, random_state=88; total time=   0.7s\n",
      "[CV] END ccp_alpha=0.051000000000000004, max_depth=30, min_samples_leaf=5, min_samples_split=20, random_state=88; total time=   0.7s\n",
      "[CV] END ccp_alpha=0.051000000000000004, max_depth=30, min_samples_leaf=5, min_samples_split=20, random_state=88; total time=   0.7s\n",
      "[CV] END ccp_alpha=0.051500000000000004, max_depth=30, min_samples_leaf=5, min_samples_split=20, random_state=88; total time=   0.7s\n",
      "[CV] END ccp_alpha=0.051500000000000004, max_depth=30, min_samples_leaf=5, min_samples_split=20, random_state=88; total time=   0.6s\n",
      "[CV] END ccp_alpha=0.051500000000000004, max_depth=30, min_samples_leaf=5, min_samples_split=20, random_state=88; total time=   0.6s\n",
      "[CV] END ccp_alpha=0.051500000000000004, max_depth=30, min_samples_leaf=5, min_samples_split=20, random_state=88; total time=   0.7s\n",
      "[CV] END ccp_alpha=0.051500000000000004, max_depth=30, min_samples_leaf=5, min_samples_split=20, random_state=88; total time=   0.7s\n",
      "[CV] END ccp_alpha=0.052000000000000005, max_depth=30, min_samples_leaf=5, min_samples_split=20, random_state=88; total time=   0.6s\n",
      "[CV] END ccp_alpha=0.052000000000000005, max_depth=30, min_samples_leaf=5, min_samples_split=20, random_state=88; total time=   0.6s\n",
      "[CV] END ccp_alpha=0.052000000000000005, max_depth=30, min_samples_leaf=5, min_samples_split=20, random_state=88; total time=   0.7s\n",
      "[CV] END ccp_alpha=0.052000000000000005, max_depth=30, min_samples_leaf=5, min_samples_split=20, random_state=88; total time=   0.7s\n",
      "[CV] END ccp_alpha=0.052000000000000005, max_depth=30, min_samples_leaf=5, min_samples_split=20, random_state=88; total time=   0.7s\n",
      "[CV] END ccp_alpha=0.0525, max_depth=30, min_samples_leaf=5, min_samples_split=20, random_state=88; total time=   0.7s\n",
      "[CV] END ccp_alpha=0.0525, max_depth=30, min_samples_leaf=5, min_samples_split=20, random_state=88; total time=   0.6s\n",
      "[CV] END ccp_alpha=0.0525, max_depth=30, min_samples_leaf=5, min_samples_split=20, random_state=88; total time=   0.7s\n",
      "[CV] END ccp_alpha=0.0525, max_depth=30, min_samples_leaf=5, min_samples_split=20, random_state=88; total time=   0.7s\n",
      "[CV] END ccp_alpha=0.0525, max_depth=30, min_samples_leaf=5, min_samples_split=20, random_state=88; total time=   0.7s\n",
      "[CV] END ccp_alpha=0.053, max_depth=30, min_samples_leaf=5, min_samples_split=20, random_state=88; total time=   0.6s\n",
      "[CV] END ccp_alpha=0.053, max_depth=30, min_samples_leaf=5, min_samples_split=20, random_state=88; total time=   0.6s\n",
      "[CV] END ccp_alpha=0.053, max_depth=30, min_samples_leaf=5, min_samples_split=20, random_state=88; total time=   0.7s\n",
      "[CV] END ccp_alpha=0.053, max_depth=30, min_samples_leaf=5, min_samples_split=20, random_state=88; total time=   0.7s\n",
      "[CV] END ccp_alpha=0.053, max_depth=30, min_samples_leaf=5, min_samples_split=20, random_state=88; total time=   0.7s\n",
      "[CV] END ccp_alpha=0.0535, max_depth=30, min_samples_leaf=5, min_samples_split=20, random_state=88; total time=   0.6s\n",
      "[CV] END ccp_alpha=0.0535, max_depth=30, min_samples_leaf=5, min_samples_split=20, random_state=88; total time=   0.6s\n",
      "[CV] END ccp_alpha=0.0535, max_depth=30, min_samples_leaf=5, min_samples_split=20, random_state=88; total time=   0.6s\n",
      "[CV] END ccp_alpha=0.0535, max_depth=30, min_samples_leaf=5, min_samples_split=20, random_state=88; total time=   0.7s\n",
      "[CV] END ccp_alpha=0.0535, max_depth=30, min_samples_leaf=5, min_samples_split=20, random_state=88; total time=   0.7s\n",
      "[CV] END ccp_alpha=0.054, max_depth=30, min_samples_leaf=5, min_samples_split=20, random_state=88; total time=   0.7s\n",
      "[CV] END ccp_alpha=0.054, max_depth=30, min_samples_leaf=5, min_samples_split=20, random_state=88; total time=   0.6s\n",
      "[CV] END ccp_alpha=0.054, max_depth=30, min_samples_leaf=5, min_samples_split=20, random_state=88; total time=   0.7s\n",
      "[CV] END ccp_alpha=0.054, max_depth=30, min_samples_leaf=5, min_samples_split=20, random_state=88; total time=   0.7s\n",
      "[CV] END ccp_alpha=0.054, max_depth=30, min_samples_leaf=5, min_samples_split=20, random_state=88; total time=   0.7s\n",
      "[CV] END ccp_alpha=0.0545, max_depth=30, min_samples_leaf=5, min_samples_split=20, random_state=88; total time=   0.7s\n"
     ]
    },
    {
     "name": "stdout",
     "output_type": "stream",
     "text": [
      "[CV] END ccp_alpha=0.0545, max_depth=30, min_samples_leaf=5, min_samples_split=20, random_state=88; total time=   0.6s\n",
      "[CV] END ccp_alpha=0.0545, max_depth=30, min_samples_leaf=5, min_samples_split=20, random_state=88; total time=   0.7s\n",
      "[CV] END ccp_alpha=0.0545, max_depth=30, min_samples_leaf=5, min_samples_split=20, random_state=88; total time=   0.7s\n",
      "[CV] END ccp_alpha=0.0545, max_depth=30, min_samples_leaf=5, min_samples_split=20, random_state=88; total time=   0.7s\n",
      "[CV] END ccp_alpha=0.055, max_depth=30, min_samples_leaf=5, min_samples_split=20, random_state=88; total time=   0.6s\n",
      "[CV] END ccp_alpha=0.055, max_depth=30, min_samples_leaf=5, min_samples_split=20, random_state=88; total time=   0.6s\n",
      "[CV] END ccp_alpha=0.055, max_depth=30, min_samples_leaf=5, min_samples_split=20, random_state=88; total time=   0.7s\n",
      "[CV] END ccp_alpha=0.055, max_depth=30, min_samples_leaf=5, min_samples_split=20, random_state=88; total time=   0.7s\n",
      "[CV] END ccp_alpha=0.055, max_depth=30, min_samples_leaf=5, min_samples_split=20, random_state=88; total time=   0.7s\n",
      "[CV] END ccp_alpha=0.0555, max_depth=30, min_samples_leaf=5, min_samples_split=20, random_state=88; total time=   0.7s\n",
      "[CV] END ccp_alpha=0.0555, max_depth=30, min_samples_leaf=5, min_samples_split=20, random_state=88; total time=   0.6s\n",
      "[CV] END ccp_alpha=0.0555, max_depth=30, min_samples_leaf=5, min_samples_split=20, random_state=88; total time=   0.7s\n",
      "[CV] END ccp_alpha=0.0555, max_depth=30, min_samples_leaf=5, min_samples_split=20, random_state=88; total time=   0.7s\n",
      "[CV] END ccp_alpha=0.0555, max_depth=30, min_samples_leaf=5, min_samples_split=20, random_state=88; total time=   0.7s\n",
      "[CV] END ccp_alpha=0.056, max_depth=30, min_samples_leaf=5, min_samples_split=20, random_state=88; total time=   0.6s\n",
      "[CV] END ccp_alpha=0.056, max_depth=30, min_samples_leaf=5, min_samples_split=20, random_state=88; total time=   0.6s\n",
      "[CV] END ccp_alpha=0.056, max_depth=30, min_samples_leaf=5, min_samples_split=20, random_state=88; total time=   0.7s\n",
      "[CV] END ccp_alpha=0.056, max_depth=30, min_samples_leaf=5, min_samples_split=20, random_state=88; total time=   0.7s\n",
      "[CV] END ccp_alpha=0.056, max_depth=30, min_samples_leaf=5, min_samples_split=20, random_state=88; total time=   0.7s\n",
      "[CV] END ccp_alpha=0.0565, max_depth=30, min_samples_leaf=5, min_samples_split=20, random_state=88; total time=   0.6s\n",
      "[CV] END ccp_alpha=0.0565, max_depth=30, min_samples_leaf=5, min_samples_split=20, random_state=88; total time=   0.6s\n",
      "[CV] END ccp_alpha=0.0565, max_depth=30, min_samples_leaf=5, min_samples_split=20, random_state=88; total time=   0.6s\n",
      "[CV] END ccp_alpha=0.0565, max_depth=30, min_samples_leaf=5, min_samples_split=20, random_state=88; total time=   0.7s\n",
      "[CV] END ccp_alpha=0.0565, max_depth=30, min_samples_leaf=5, min_samples_split=20, random_state=88; total time=   0.7s\n",
      "[CV] END ccp_alpha=0.057, max_depth=30, min_samples_leaf=5, min_samples_split=20, random_state=88; total time=   0.7s\n",
      "[CV] END ccp_alpha=0.057, max_depth=30, min_samples_leaf=5, min_samples_split=20, random_state=88; total time=   0.6s\n",
      "[CV] END ccp_alpha=0.057, max_depth=30, min_samples_leaf=5, min_samples_split=20, random_state=88; total time=   0.7s\n",
      "[CV] END ccp_alpha=0.057, max_depth=30, min_samples_leaf=5, min_samples_split=20, random_state=88; total time=   0.7s\n",
      "[CV] END ccp_alpha=0.057, max_depth=30, min_samples_leaf=5, min_samples_split=20, random_state=88; total time=   0.7s\n",
      "[CV] END ccp_alpha=0.0575, max_depth=30, min_samples_leaf=5, min_samples_split=20, random_state=88; total time=   0.6s\n",
      "[CV] END ccp_alpha=0.0575, max_depth=30, min_samples_leaf=5, min_samples_split=20, random_state=88; total time=   0.6s\n",
      "[CV] END ccp_alpha=0.0575, max_depth=30, min_samples_leaf=5, min_samples_split=20, random_state=88; total time=   0.7s\n",
      "[CV] END ccp_alpha=0.0575, max_depth=30, min_samples_leaf=5, min_samples_split=20, random_state=88; total time=   0.7s\n",
      "[CV] END ccp_alpha=0.0575, max_depth=30, min_samples_leaf=5, min_samples_split=20, random_state=88; total time=   0.7s\n",
      "[CV] END ccp_alpha=0.058, max_depth=30, min_samples_leaf=5, min_samples_split=20, random_state=88; total time=   0.6s\n",
      "[CV] END ccp_alpha=0.058, max_depth=30, min_samples_leaf=5, min_samples_split=20, random_state=88; total time=   0.6s\n",
      "[CV] END ccp_alpha=0.058, max_depth=30, min_samples_leaf=5, min_samples_split=20, random_state=88; total time=   0.6s\n",
      "[CV] END ccp_alpha=0.058, max_depth=30, min_samples_leaf=5, min_samples_split=20, random_state=88; total time=   0.7s\n",
      "[CV] END ccp_alpha=0.058, max_depth=30, min_samples_leaf=5, min_samples_split=20, random_state=88; total time=   0.7s\n",
      "[CV] END ccp_alpha=0.0585, max_depth=30, min_samples_leaf=5, min_samples_split=20, random_state=88; total time=   0.7s\n",
      "[CV] END ccp_alpha=0.0585, max_depth=30, min_samples_leaf=5, min_samples_split=20, random_state=88; total time=   0.6s\n",
      "[CV] END ccp_alpha=0.0585, max_depth=30, min_samples_leaf=5, min_samples_split=20, random_state=88; total time=   0.7s\n",
      "[CV] END ccp_alpha=0.0585, max_depth=30, min_samples_leaf=5, min_samples_split=20, random_state=88; total time=   0.7s\n",
      "[CV] END ccp_alpha=0.0585, max_depth=30, min_samples_leaf=5, min_samples_split=20, random_state=88; total time=   0.7s\n",
      "[CV] END ccp_alpha=0.059000000000000004, max_depth=30, min_samples_leaf=5, min_samples_split=20, random_state=88; total time=   0.6s\n",
      "[CV] END ccp_alpha=0.059000000000000004, max_depth=30, min_samples_leaf=5, min_samples_split=20, random_state=88; total time=   0.6s\n",
      "[CV] END ccp_alpha=0.059000000000000004, max_depth=30, min_samples_leaf=5, min_samples_split=20, random_state=88; total time=   0.7s\n",
      "[CV] END ccp_alpha=0.059000000000000004, max_depth=30, min_samples_leaf=5, min_samples_split=20, random_state=88; total time=   0.7s\n",
      "[CV] END ccp_alpha=0.059000000000000004, max_depth=30, min_samples_leaf=5, min_samples_split=20, random_state=88; total time=   0.7s\n",
      "[CV] END ccp_alpha=0.059500000000000004, max_depth=30, min_samples_leaf=5, min_samples_split=20, random_state=88; total time=   0.6s\n",
      "[CV] END ccp_alpha=0.059500000000000004, max_depth=30, min_samples_leaf=5, min_samples_split=20, random_state=88; total time=   0.6s\n",
      "[CV] END ccp_alpha=0.059500000000000004, max_depth=30, min_samples_leaf=5, min_samples_split=20, random_state=88; total time=   0.7s\n",
      "[CV] END ccp_alpha=0.059500000000000004, max_depth=30, min_samples_leaf=5, min_samples_split=20, random_state=88; total time=   0.7s\n",
      "[CV] END ccp_alpha=0.059500000000000004, max_depth=30, min_samples_leaf=5, min_samples_split=20, random_state=88; total time=   0.7s\n",
      "[CV] END ccp_alpha=0.06, max_depth=30, min_samples_leaf=5, min_samples_split=20, random_state=88; total time=   0.6s\n",
      "[CV] END ccp_alpha=0.06, max_depth=30, min_samples_leaf=5, min_samples_split=20, random_state=88; total time=   0.6s\n",
      "[CV] END ccp_alpha=0.06, max_depth=30, min_samples_leaf=5, min_samples_split=20, random_state=88; total time=   0.7s\n",
      "[CV] END ccp_alpha=0.06, max_depth=30, min_samples_leaf=5, min_samples_split=20, random_state=88; total time=   0.7s\n",
      "[CV] END ccp_alpha=0.06, max_depth=30, min_samples_leaf=5, min_samples_split=20, random_state=88; total time=   0.7s\n",
      "[CV] END ccp_alpha=0.0605, max_depth=30, min_samples_leaf=5, min_samples_split=20, random_state=88; total time=   0.7s\n",
      "[CV] END ccp_alpha=0.0605, max_depth=30, min_samples_leaf=5, min_samples_split=20, random_state=88; total time=   0.6s\n",
      "[CV] END ccp_alpha=0.0605, max_depth=30, min_samples_leaf=5, min_samples_split=20, random_state=88; total time=   0.7s\n",
      "[CV] END ccp_alpha=0.0605, max_depth=30, min_samples_leaf=5, min_samples_split=20, random_state=88; total time=   0.7s\n",
      "[CV] END ccp_alpha=0.0605, max_depth=30, min_samples_leaf=5, min_samples_split=20, random_state=88; total time=   0.7s\n",
      "[CV] END ccp_alpha=0.061, max_depth=30, min_samples_leaf=5, min_samples_split=20, random_state=88; total time=   0.6s\n",
      "[CV] END ccp_alpha=0.061, max_depth=30, min_samples_leaf=5, min_samples_split=20, random_state=88; total time=   0.6s\n",
      "[CV] END ccp_alpha=0.061, max_depth=30, min_samples_leaf=5, min_samples_split=20, random_state=88; total time=   0.7s\n",
      "[CV] END ccp_alpha=0.061, max_depth=30, min_samples_leaf=5, min_samples_split=20, random_state=88; total time=   0.7s\n"
     ]
    },
    {
     "name": "stdout",
     "output_type": "stream",
     "text": [
      "[CV] END ccp_alpha=0.061, max_depth=30, min_samples_leaf=5, min_samples_split=20, random_state=88; total time=   0.7s\n",
      "[CV] END ccp_alpha=0.0615, max_depth=30, min_samples_leaf=5, min_samples_split=20, random_state=88; total time=   0.6s\n",
      "[CV] END ccp_alpha=0.0615, max_depth=30, min_samples_leaf=5, min_samples_split=20, random_state=88; total time=   0.6s\n",
      "[CV] END ccp_alpha=0.0615, max_depth=30, min_samples_leaf=5, min_samples_split=20, random_state=88; total time=   0.7s\n",
      "[CV] END ccp_alpha=0.0615, max_depth=30, min_samples_leaf=5, min_samples_split=20, random_state=88; total time=   0.7s\n",
      "[CV] END ccp_alpha=0.0615, max_depth=30, min_samples_leaf=5, min_samples_split=20, random_state=88; total time=   0.7s\n",
      "[CV] END ccp_alpha=0.062, max_depth=30, min_samples_leaf=5, min_samples_split=20, random_state=88; total time=   0.6s\n",
      "[CV] END ccp_alpha=0.062, max_depth=30, min_samples_leaf=5, min_samples_split=20, random_state=88; total time=   0.6s\n",
      "[CV] END ccp_alpha=0.062, max_depth=30, min_samples_leaf=5, min_samples_split=20, random_state=88; total time=   0.7s\n",
      "[CV] END ccp_alpha=0.062, max_depth=30, min_samples_leaf=5, min_samples_split=20, random_state=88; total time=   0.7s\n",
      "[CV] END ccp_alpha=0.062, max_depth=30, min_samples_leaf=5, min_samples_split=20, random_state=88; total time=   0.7s\n",
      "[CV] END ccp_alpha=0.0625, max_depth=30, min_samples_leaf=5, min_samples_split=20, random_state=88; total time=   0.6s\n",
      "[CV] END ccp_alpha=0.0625, max_depth=30, min_samples_leaf=5, min_samples_split=20, random_state=88; total time=   0.6s\n",
      "[CV] END ccp_alpha=0.0625, max_depth=30, min_samples_leaf=5, min_samples_split=20, random_state=88; total time=   0.7s\n",
      "[CV] END ccp_alpha=0.0625, max_depth=30, min_samples_leaf=5, min_samples_split=20, random_state=88; total time=   0.7s\n",
      "[CV] END ccp_alpha=0.0625, max_depth=30, min_samples_leaf=5, min_samples_split=20, random_state=88; total time=   0.7s\n",
      "[CV] END ccp_alpha=0.063, max_depth=30, min_samples_leaf=5, min_samples_split=20, random_state=88; total time=   0.6s\n",
      "[CV] END ccp_alpha=0.063, max_depth=30, min_samples_leaf=5, min_samples_split=20, random_state=88; total time=   0.6s\n",
      "[CV] END ccp_alpha=0.063, max_depth=30, min_samples_leaf=5, min_samples_split=20, random_state=88; total time=   0.7s\n",
      "[CV] END ccp_alpha=0.063, max_depth=30, min_samples_leaf=5, min_samples_split=20, random_state=88; total time=   0.7s\n",
      "[CV] END ccp_alpha=0.063, max_depth=30, min_samples_leaf=5, min_samples_split=20, random_state=88; total time=   0.7s\n",
      "[CV] END ccp_alpha=0.0635, max_depth=30, min_samples_leaf=5, min_samples_split=20, random_state=88; total time=   0.6s\n",
      "[CV] END ccp_alpha=0.0635, max_depth=30, min_samples_leaf=5, min_samples_split=20, random_state=88; total time=   0.6s\n",
      "[CV] END ccp_alpha=0.0635, max_depth=30, min_samples_leaf=5, min_samples_split=20, random_state=88; total time=   0.7s\n",
      "[CV] END ccp_alpha=0.0635, max_depth=30, min_samples_leaf=5, min_samples_split=20, random_state=88; total time=   0.7s\n",
      "[CV] END ccp_alpha=0.0635, max_depth=30, min_samples_leaf=5, min_samples_split=20, random_state=88; total time=   0.7s\n",
      "[CV] END ccp_alpha=0.064, max_depth=30, min_samples_leaf=5, min_samples_split=20, random_state=88; total time=   0.7s\n",
      "[CV] END ccp_alpha=0.064, max_depth=30, min_samples_leaf=5, min_samples_split=20, random_state=88; total time=   0.6s\n",
      "[CV] END ccp_alpha=0.064, max_depth=30, min_samples_leaf=5, min_samples_split=20, random_state=88; total time=   0.6s\n",
      "[CV] END ccp_alpha=0.064, max_depth=30, min_samples_leaf=5, min_samples_split=20, random_state=88; total time=   0.7s\n",
      "[CV] END ccp_alpha=0.064, max_depth=30, min_samples_leaf=5, min_samples_split=20, random_state=88; total time=   0.7s\n",
      "[CV] END ccp_alpha=0.0645, max_depth=30, min_samples_leaf=5, min_samples_split=20, random_state=88; total time=   0.6s\n",
      "[CV] END ccp_alpha=0.0645, max_depth=30, min_samples_leaf=5, min_samples_split=20, random_state=88; total time=   0.6s\n",
      "[CV] END ccp_alpha=0.0645, max_depth=30, min_samples_leaf=5, min_samples_split=20, random_state=88; total time=   0.7s\n",
      "[CV] END ccp_alpha=0.0645, max_depth=30, min_samples_leaf=5, min_samples_split=20, random_state=88; total time=   0.7s\n",
      "[CV] END ccp_alpha=0.0645, max_depth=30, min_samples_leaf=5, min_samples_split=20, random_state=88; total time=   0.7s\n",
      "[CV] END ccp_alpha=0.065, max_depth=30, min_samples_leaf=5, min_samples_split=20, random_state=88; total time=   0.6s\n",
      "[CV] END ccp_alpha=0.065, max_depth=30, min_samples_leaf=5, min_samples_split=20, random_state=88; total time=   0.6s\n",
      "[CV] END ccp_alpha=0.065, max_depth=30, min_samples_leaf=5, min_samples_split=20, random_state=88; total time=   0.7s\n",
      "[CV] END ccp_alpha=0.065, max_depth=30, min_samples_leaf=5, min_samples_split=20, random_state=88; total time=   0.7s\n",
      "[CV] END ccp_alpha=0.065, max_depth=30, min_samples_leaf=5, min_samples_split=20, random_state=88; total time=   0.7s\n",
      "[CV] END ccp_alpha=0.0655, max_depth=30, min_samples_leaf=5, min_samples_split=20, random_state=88; total time=   0.6s\n",
      "[CV] END ccp_alpha=0.0655, max_depth=30, min_samples_leaf=5, min_samples_split=20, random_state=88; total time=   0.6s\n",
      "[CV] END ccp_alpha=0.0655, max_depth=30, min_samples_leaf=5, min_samples_split=20, random_state=88; total time=   0.7s\n",
      "[CV] END ccp_alpha=0.0655, max_depth=30, min_samples_leaf=5, min_samples_split=20, random_state=88; total time=   0.7s\n",
      "[CV] END ccp_alpha=0.0655, max_depth=30, min_samples_leaf=5, min_samples_split=20, random_state=88; total time=   0.7s\n",
      "[CV] END ccp_alpha=0.066, max_depth=30, min_samples_leaf=5, min_samples_split=20, random_state=88; total time=   0.7s\n",
      "[CV] END ccp_alpha=0.066, max_depth=30, min_samples_leaf=5, min_samples_split=20, random_state=88; total time=   0.6s\n",
      "[CV] END ccp_alpha=0.066, max_depth=30, min_samples_leaf=5, min_samples_split=20, random_state=88; total time=   0.7s\n",
      "[CV] END ccp_alpha=0.066, max_depth=30, min_samples_leaf=5, min_samples_split=20, random_state=88; total time=   0.7s\n",
      "[CV] END ccp_alpha=0.066, max_depth=30, min_samples_leaf=5, min_samples_split=20, random_state=88; total time=   0.7s\n",
      "[CV] END ccp_alpha=0.0665, max_depth=30, min_samples_leaf=5, min_samples_split=20, random_state=88; total time=   0.6s\n",
      "[CV] END ccp_alpha=0.0665, max_depth=30, min_samples_leaf=5, min_samples_split=20, random_state=88; total time=   0.6s\n",
      "[CV] END ccp_alpha=0.0665, max_depth=30, min_samples_leaf=5, min_samples_split=20, random_state=88; total time=   0.6s\n",
      "[CV] END ccp_alpha=0.0665, max_depth=30, min_samples_leaf=5, min_samples_split=20, random_state=88; total time=   0.7s\n",
      "[CV] END ccp_alpha=0.0665, max_depth=30, min_samples_leaf=5, min_samples_split=20, random_state=88; total time=   0.7s\n",
      "[CV] END ccp_alpha=0.067, max_depth=30, min_samples_leaf=5, min_samples_split=20, random_state=88; total time=   0.6s\n",
      "[CV] END ccp_alpha=0.067, max_depth=30, min_samples_leaf=5, min_samples_split=20, random_state=88; total time=   0.6s\n",
      "[CV] END ccp_alpha=0.067, max_depth=30, min_samples_leaf=5, min_samples_split=20, random_state=88; total time=   0.7s\n",
      "[CV] END ccp_alpha=0.067, max_depth=30, min_samples_leaf=5, min_samples_split=20, random_state=88; total time=   0.7s\n",
      "[CV] END ccp_alpha=0.067, max_depth=30, min_samples_leaf=5, min_samples_split=20, random_state=88; total time=   0.7s\n",
      "[CV] END ccp_alpha=0.0675, max_depth=30, min_samples_leaf=5, min_samples_split=20, random_state=88; total time=   0.6s\n",
      "[CV] END ccp_alpha=0.0675, max_depth=30, min_samples_leaf=5, min_samples_split=20, random_state=88; total time=   0.6s\n",
      "[CV] END ccp_alpha=0.0675, max_depth=30, min_samples_leaf=5, min_samples_split=20, random_state=88; total time=   0.7s\n",
      "[CV] END ccp_alpha=0.0675, max_depth=30, min_samples_leaf=5, min_samples_split=20, random_state=88; total time=   0.7s\n",
      "[CV] END ccp_alpha=0.0675, max_depth=30, min_samples_leaf=5, min_samples_split=20, random_state=88; total time=   0.7s\n",
      "[CV] END ccp_alpha=0.068, max_depth=30, min_samples_leaf=5, min_samples_split=20, random_state=88; total time=   0.7s\n",
      "[CV] END ccp_alpha=0.068, max_depth=30, min_samples_leaf=5, min_samples_split=20, random_state=88; total time=   0.6s\n",
      "[CV] END ccp_alpha=0.068, max_depth=30, min_samples_leaf=5, min_samples_split=20, random_state=88; total time=   0.7s\n",
      "[CV] END ccp_alpha=0.068, max_depth=30, min_samples_leaf=5, min_samples_split=20, random_state=88; total time=   0.7s\n"
     ]
    },
    {
     "name": "stdout",
     "output_type": "stream",
     "text": [
      "[CV] END ccp_alpha=0.068, max_depth=30, min_samples_leaf=5, min_samples_split=20, random_state=88; total time=   0.7s\n",
      "[CV] END ccp_alpha=0.0685, max_depth=30, min_samples_leaf=5, min_samples_split=20, random_state=88; total time=   0.7s\n",
      "[CV] END ccp_alpha=0.0685, max_depth=30, min_samples_leaf=5, min_samples_split=20, random_state=88; total time=   0.6s\n",
      "[CV] END ccp_alpha=0.0685, max_depth=30, min_samples_leaf=5, min_samples_split=20, random_state=88; total time=   0.7s\n",
      "[CV] END ccp_alpha=0.0685, max_depth=30, min_samples_leaf=5, min_samples_split=20, random_state=88; total time=   0.7s\n",
      "[CV] END ccp_alpha=0.0685, max_depth=30, min_samples_leaf=5, min_samples_split=20, random_state=88; total time=   0.7s\n",
      "[CV] END ccp_alpha=0.069, max_depth=30, min_samples_leaf=5, min_samples_split=20, random_state=88; total time=   0.7s\n",
      "[CV] END ccp_alpha=0.069, max_depth=30, min_samples_leaf=5, min_samples_split=20, random_state=88; total time=   0.6s\n",
      "[CV] END ccp_alpha=0.069, max_depth=30, min_samples_leaf=5, min_samples_split=20, random_state=88; total time=   0.7s\n",
      "[CV] END ccp_alpha=0.069, max_depth=30, min_samples_leaf=5, min_samples_split=20, random_state=88; total time=   0.7s\n",
      "[CV] END ccp_alpha=0.069, max_depth=30, min_samples_leaf=5, min_samples_split=20, random_state=88; total time=   0.7s\n",
      "[CV] END ccp_alpha=0.0695, max_depth=30, min_samples_leaf=5, min_samples_split=20, random_state=88; total time=   0.6s\n",
      "[CV] END ccp_alpha=0.0695, max_depth=30, min_samples_leaf=5, min_samples_split=20, random_state=88; total time=   0.6s\n",
      "[CV] END ccp_alpha=0.0695, max_depth=30, min_samples_leaf=5, min_samples_split=20, random_state=88; total time=   0.7s\n",
      "[CV] END ccp_alpha=0.0695, max_depth=30, min_samples_leaf=5, min_samples_split=20, random_state=88; total time=   0.7s\n",
      "[CV] END ccp_alpha=0.0695, max_depth=30, min_samples_leaf=5, min_samples_split=20, random_state=88; total time=   0.7s\n",
      "[CV] END ccp_alpha=0.07, max_depth=30, min_samples_leaf=5, min_samples_split=20, random_state=88; total time=   0.6s\n",
      "[CV] END ccp_alpha=0.07, max_depth=30, min_samples_leaf=5, min_samples_split=20, random_state=88; total time=   0.6s\n",
      "[CV] END ccp_alpha=0.07, max_depth=30, min_samples_leaf=5, min_samples_split=20, random_state=88; total time=   0.7s\n",
      "[CV] END ccp_alpha=0.07, max_depth=30, min_samples_leaf=5, min_samples_split=20, random_state=88; total time=   0.7s\n",
      "[CV] END ccp_alpha=0.07, max_depth=30, min_samples_leaf=5, min_samples_split=20, random_state=88; total time=   0.7s\n",
      "[CV] END ccp_alpha=0.07050000000000001, max_depth=30, min_samples_leaf=5, min_samples_split=20, random_state=88; total time=   0.7s\n",
      "[CV] END ccp_alpha=0.07050000000000001, max_depth=30, min_samples_leaf=5, min_samples_split=20, random_state=88; total time=   0.6s\n",
      "[CV] END ccp_alpha=0.07050000000000001, max_depth=30, min_samples_leaf=5, min_samples_split=20, random_state=88; total time=   0.7s\n",
      "[CV] END ccp_alpha=0.07050000000000001, max_depth=30, min_samples_leaf=5, min_samples_split=20, random_state=88; total time=   0.7s\n",
      "[CV] END ccp_alpha=0.07050000000000001, max_depth=30, min_samples_leaf=5, min_samples_split=20, random_state=88; total time=   0.7s\n",
      "[CV] END ccp_alpha=0.07100000000000001, max_depth=30, min_samples_leaf=5, min_samples_split=20, random_state=88; total time=   0.6s\n",
      "[CV] END ccp_alpha=0.07100000000000001, max_depth=30, min_samples_leaf=5, min_samples_split=20, random_state=88; total time=   0.6s\n",
      "[CV] END ccp_alpha=0.07100000000000001, max_depth=30, min_samples_leaf=5, min_samples_split=20, random_state=88; total time=   0.7s\n",
      "[CV] END ccp_alpha=0.07100000000000001, max_depth=30, min_samples_leaf=5, min_samples_split=20, random_state=88; total time=   0.7s\n",
      "[CV] END ccp_alpha=0.07100000000000001, max_depth=30, min_samples_leaf=5, min_samples_split=20, random_state=88; total time=   0.7s\n",
      "[CV] END ccp_alpha=0.07150000000000001, max_depth=30, min_samples_leaf=5, min_samples_split=20, random_state=88; total time=   0.6s\n",
      "[CV] END ccp_alpha=0.07150000000000001, max_depth=30, min_samples_leaf=5, min_samples_split=20, random_state=88; total time=   0.6s\n",
      "[CV] END ccp_alpha=0.07150000000000001, max_depth=30, min_samples_leaf=5, min_samples_split=20, random_state=88; total time=   0.7s\n",
      "[CV] END ccp_alpha=0.07150000000000001, max_depth=30, min_samples_leaf=5, min_samples_split=20, random_state=88; total time=   0.7s\n",
      "[CV] END ccp_alpha=0.07150000000000001, max_depth=30, min_samples_leaf=5, min_samples_split=20, random_state=88; total time=   0.7s\n",
      "[CV] END ccp_alpha=0.07200000000000001, max_depth=30, min_samples_leaf=5, min_samples_split=20, random_state=88; total time=   0.7s\n",
      "[CV] END ccp_alpha=0.07200000000000001, max_depth=30, min_samples_leaf=5, min_samples_split=20, random_state=88; total time=   0.6s\n",
      "[CV] END ccp_alpha=0.07200000000000001, max_depth=30, min_samples_leaf=5, min_samples_split=20, random_state=88; total time=   0.7s\n",
      "[CV] END ccp_alpha=0.07200000000000001, max_depth=30, min_samples_leaf=5, min_samples_split=20, random_state=88; total time=   0.7s\n",
      "[CV] END ccp_alpha=0.07200000000000001, max_depth=30, min_samples_leaf=5, min_samples_split=20, random_state=88; total time=   0.7s\n",
      "[CV] END ccp_alpha=0.0725, max_depth=30, min_samples_leaf=5, min_samples_split=20, random_state=88; total time=   0.6s\n",
      "[CV] END ccp_alpha=0.0725, max_depth=30, min_samples_leaf=5, min_samples_split=20, random_state=88; total time=   0.6s\n",
      "[CV] END ccp_alpha=0.0725, max_depth=30, min_samples_leaf=5, min_samples_split=20, random_state=88; total time=   0.7s\n",
      "[CV] END ccp_alpha=0.0725, max_depth=30, min_samples_leaf=5, min_samples_split=20, random_state=88; total time=   0.7s\n",
      "[CV] END ccp_alpha=0.0725, max_depth=30, min_samples_leaf=5, min_samples_split=20, random_state=88; total time=   0.7s\n",
      "[CV] END ccp_alpha=0.073, max_depth=30, min_samples_leaf=5, min_samples_split=20, random_state=88; total time=   0.7s\n",
      "[CV] END ccp_alpha=0.073, max_depth=30, min_samples_leaf=5, min_samples_split=20, random_state=88; total time=   0.6s\n",
      "[CV] END ccp_alpha=0.073, max_depth=30, min_samples_leaf=5, min_samples_split=20, random_state=88; total time=   0.7s\n",
      "[CV] END ccp_alpha=0.073, max_depth=30, min_samples_leaf=5, min_samples_split=20, random_state=88; total time=   0.7s\n",
      "[CV] END ccp_alpha=0.073, max_depth=30, min_samples_leaf=5, min_samples_split=20, random_state=88; total time=   0.7s\n",
      "[CV] END ccp_alpha=0.0735, max_depth=30, min_samples_leaf=5, min_samples_split=20, random_state=88; total time=   0.7s\n",
      "[CV] END ccp_alpha=0.0735, max_depth=30, min_samples_leaf=5, min_samples_split=20, random_state=88; total time=   0.6s\n",
      "[CV] END ccp_alpha=0.0735, max_depth=30, min_samples_leaf=5, min_samples_split=20, random_state=88; total time=   0.7s\n",
      "[CV] END ccp_alpha=0.0735, max_depth=30, min_samples_leaf=5, min_samples_split=20, random_state=88; total time=   0.7s\n",
      "[CV] END ccp_alpha=0.0735, max_depth=30, min_samples_leaf=5, min_samples_split=20, random_state=88; total time=   0.7s\n",
      "[CV] END ccp_alpha=0.074, max_depth=30, min_samples_leaf=5, min_samples_split=20, random_state=88; total time=   0.6s\n",
      "[CV] END ccp_alpha=0.074, max_depth=30, min_samples_leaf=5, min_samples_split=20, random_state=88; total time=   0.6s\n",
      "[CV] END ccp_alpha=0.074, max_depth=30, min_samples_leaf=5, min_samples_split=20, random_state=88; total time=   0.7s\n",
      "[CV] END ccp_alpha=0.074, max_depth=30, min_samples_leaf=5, min_samples_split=20, random_state=88; total time=   0.7s\n",
      "[CV] END ccp_alpha=0.074, max_depth=30, min_samples_leaf=5, min_samples_split=20, random_state=88; total time=   0.7s\n",
      "[CV] END ccp_alpha=0.0745, max_depth=30, min_samples_leaf=5, min_samples_split=20, random_state=88; total time=   0.6s\n",
      "[CV] END ccp_alpha=0.0745, max_depth=30, min_samples_leaf=5, min_samples_split=20, random_state=88; total time=   0.6s\n",
      "[CV] END ccp_alpha=0.0745, max_depth=30, min_samples_leaf=5, min_samples_split=20, random_state=88; total time=   0.7s\n",
      "[CV] END ccp_alpha=0.0745, max_depth=30, min_samples_leaf=5, min_samples_split=20, random_state=88; total time=   0.7s\n",
      "[CV] END ccp_alpha=0.0745, max_depth=30, min_samples_leaf=5, min_samples_split=20, random_state=88; total time=   0.7s\n",
      "[CV] END ccp_alpha=0.075, max_depth=30, min_samples_leaf=5, min_samples_split=20, random_state=88; total time=   0.7s\n"
     ]
    },
    {
     "name": "stdout",
     "output_type": "stream",
     "text": [
      "[CV] END ccp_alpha=0.075, max_depth=30, min_samples_leaf=5, min_samples_split=20, random_state=88; total time=   0.6s\n",
      "[CV] END ccp_alpha=0.075, max_depth=30, min_samples_leaf=5, min_samples_split=20, random_state=88; total time=   0.7s\n",
      "[CV] END ccp_alpha=0.075, max_depth=30, min_samples_leaf=5, min_samples_split=20, random_state=88; total time=   0.7s\n",
      "[CV] END ccp_alpha=0.075, max_depth=30, min_samples_leaf=5, min_samples_split=20, random_state=88; total time=   0.7s\n",
      "[CV] END ccp_alpha=0.0755, max_depth=30, min_samples_leaf=5, min_samples_split=20, random_state=88; total time=   0.6s\n",
      "[CV] END ccp_alpha=0.0755, max_depth=30, min_samples_leaf=5, min_samples_split=20, random_state=88; total time=   0.6s\n",
      "[CV] END ccp_alpha=0.0755, max_depth=30, min_samples_leaf=5, min_samples_split=20, random_state=88; total time=   0.7s\n",
      "[CV] END ccp_alpha=0.0755, max_depth=30, min_samples_leaf=5, min_samples_split=20, random_state=88; total time=   0.7s\n",
      "[CV] END ccp_alpha=0.0755, max_depth=30, min_samples_leaf=5, min_samples_split=20, random_state=88; total time=   0.7s\n",
      "[CV] END ccp_alpha=0.076, max_depth=30, min_samples_leaf=5, min_samples_split=20, random_state=88; total time=   0.6s\n",
      "[CV] END ccp_alpha=0.076, max_depth=30, min_samples_leaf=5, min_samples_split=20, random_state=88; total time=   0.6s\n",
      "[CV] END ccp_alpha=0.076, max_depth=30, min_samples_leaf=5, min_samples_split=20, random_state=88; total time=   0.7s\n",
      "[CV] END ccp_alpha=0.076, max_depth=30, min_samples_leaf=5, min_samples_split=20, random_state=88; total time=   0.7s\n",
      "[CV] END ccp_alpha=0.076, max_depth=30, min_samples_leaf=5, min_samples_split=20, random_state=88; total time=   0.7s\n",
      "[CV] END ccp_alpha=0.0765, max_depth=30, min_samples_leaf=5, min_samples_split=20, random_state=88; total time=   0.6s\n",
      "[CV] END ccp_alpha=0.0765, max_depth=30, min_samples_leaf=5, min_samples_split=20, random_state=88; total time=   0.6s\n",
      "[CV] END ccp_alpha=0.0765, max_depth=30, min_samples_leaf=5, min_samples_split=20, random_state=88; total time=   0.7s\n",
      "[CV] END ccp_alpha=0.0765, max_depth=30, min_samples_leaf=5, min_samples_split=20, random_state=88; total time=   0.7s\n",
      "[CV] END ccp_alpha=0.0765, max_depth=30, min_samples_leaf=5, min_samples_split=20, random_state=88; total time=   0.7s\n",
      "[CV] END ccp_alpha=0.077, max_depth=30, min_samples_leaf=5, min_samples_split=20, random_state=88; total time=   0.7s\n",
      "[CV] END ccp_alpha=0.077, max_depth=30, min_samples_leaf=5, min_samples_split=20, random_state=88; total time=   0.6s\n",
      "[CV] END ccp_alpha=0.077, max_depth=30, min_samples_leaf=5, min_samples_split=20, random_state=88; total time=   0.7s\n",
      "[CV] END ccp_alpha=0.077, max_depth=30, min_samples_leaf=5, min_samples_split=20, random_state=88; total time=   0.7s\n",
      "[CV] END ccp_alpha=0.077, max_depth=30, min_samples_leaf=5, min_samples_split=20, random_state=88; total time=   0.7s\n",
      "[CV] END ccp_alpha=0.0775, max_depth=30, min_samples_leaf=5, min_samples_split=20, random_state=88; total time=   0.6s\n",
      "[CV] END ccp_alpha=0.0775, max_depth=30, min_samples_leaf=5, min_samples_split=20, random_state=88; total time=   0.6s\n",
      "[CV] END ccp_alpha=0.0775, max_depth=30, min_samples_leaf=5, min_samples_split=20, random_state=88; total time=   0.7s\n",
      "[CV] END ccp_alpha=0.0775, max_depth=30, min_samples_leaf=5, min_samples_split=20, random_state=88; total time=   0.7s\n",
      "[CV] END ccp_alpha=0.0775, max_depth=30, min_samples_leaf=5, min_samples_split=20, random_state=88; total time=   0.7s\n",
      "[CV] END ccp_alpha=0.078, max_depth=30, min_samples_leaf=5, min_samples_split=20, random_state=88; total time=   0.6s\n",
      "[CV] END ccp_alpha=0.078, max_depth=30, min_samples_leaf=5, min_samples_split=20, random_state=88; total time=   0.6s\n",
      "[CV] END ccp_alpha=0.078, max_depth=30, min_samples_leaf=5, min_samples_split=20, random_state=88; total time=   0.7s\n",
      "[CV] END ccp_alpha=0.078, max_depth=30, min_samples_leaf=5, min_samples_split=20, random_state=88; total time=   0.7s\n",
      "[CV] END ccp_alpha=0.078, max_depth=30, min_samples_leaf=5, min_samples_split=20, random_state=88; total time=   0.7s\n",
      "[CV] END ccp_alpha=0.0785, max_depth=30, min_samples_leaf=5, min_samples_split=20, random_state=88; total time=   0.6s\n",
      "[CV] END ccp_alpha=0.0785, max_depth=30, min_samples_leaf=5, min_samples_split=20, random_state=88; total time=   0.6s\n",
      "[CV] END ccp_alpha=0.0785, max_depth=30, min_samples_leaf=5, min_samples_split=20, random_state=88; total time=   0.7s\n",
      "[CV] END ccp_alpha=0.0785, max_depth=30, min_samples_leaf=5, min_samples_split=20, random_state=88; total time=   0.7s\n",
      "[CV] END ccp_alpha=0.0785, max_depth=30, min_samples_leaf=5, min_samples_split=20, random_state=88; total time=   0.7s\n",
      "[CV] END ccp_alpha=0.079, max_depth=30, min_samples_leaf=5, min_samples_split=20, random_state=88; total time=   0.6s\n",
      "[CV] END ccp_alpha=0.079, max_depth=30, min_samples_leaf=5, min_samples_split=20, random_state=88; total time=   0.6s\n",
      "[CV] END ccp_alpha=0.079, max_depth=30, min_samples_leaf=5, min_samples_split=20, random_state=88; total time=   0.7s\n",
      "[CV] END ccp_alpha=0.079, max_depth=30, min_samples_leaf=5, min_samples_split=20, random_state=88; total time=   0.7s\n",
      "[CV] END ccp_alpha=0.079, max_depth=30, min_samples_leaf=5, min_samples_split=20, random_state=88; total time=   0.7s\n",
      "[CV] END ccp_alpha=0.0795, max_depth=30, min_samples_leaf=5, min_samples_split=20, random_state=88; total time=   0.6s\n",
      "[CV] END ccp_alpha=0.0795, max_depth=30, min_samples_leaf=5, min_samples_split=20, random_state=88; total time=   0.6s\n",
      "[CV] END ccp_alpha=0.0795, max_depth=30, min_samples_leaf=5, min_samples_split=20, random_state=88; total time=   0.7s\n",
      "[CV] END ccp_alpha=0.0795, max_depth=30, min_samples_leaf=5, min_samples_split=20, random_state=88; total time=   0.7s\n",
      "[CV] END ccp_alpha=0.0795, max_depth=30, min_samples_leaf=5, min_samples_split=20, random_state=88; total time=   0.7s\n",
      "[CV] END ccp_alpha=0.08, max_depth=30, min_samples_leaf=5, min_samples_split=20, random_state=88; total time=   0.6s\n",
      "[CV] END ccp_alpha=0.08, max_depth=30, min_samples_leaf=5, min_samples_split=20, random_state=88; total time=   0.6s\n",
      "[CV] END ccp_alpha=0.08, max_depth=30, min_samples_leaf=5, min_samples_split=20, random_state=88; total time=   0.7s\n",
      "[CV] END ccp_alpha=0.08, max_depth=30, min_samples_leaf=5, min_samples_split=20, random_state=88; total time=   0.7s\n",
      "[CV] END ccp_alpha=0.08, max_depth=30, min_samples_leaf=5, min_samples_split=20, random_state=88; total time=   0.7s\n",
      "[CV] END ccp_alpha=0.0805, max_depth=30, min_samples_leaf=5, min_samples_split=20, random_state=88; total time=   0.6s\n",
      "[CV] END ccp_alpha=0.0805, max_depth=30, min_samples_leaf=5, min_samples_split=20, random_state=88; total time=   0.6s\n",
      "[CV] END ccp_alpha=0.0805, max_depth=30, min_samples_leaf=5, min_samples_split=20, random_state=88; total time=   0.7s\n",
      "[CV] END ccp_alpha=0.0805, max_depth=30, min_samples_leaf=5, min_samples_split=20, random_state=88; total time=   0.7s\n",
      "[CV] END ccp_alpha=0.0805, max_depth=30, min_samples_leaf=5, min_samples_split=20, random_state=88; total time=   0.7s\n",
      "[CV] END ccp_alpha=0.081, max_depth=30, min_samples_leaf=5, min_samples_split=20, random_state=88; total time=   0.6s\n",
      "[CV] END ccp_alpha=0.081, max_depth=30, min_samples_leaf=5, min_samples_split=20, random_state=88; total time=   0.6s\n",
      "[CV] END ccp_alpha=0.081, max_depth=30, min_samples_leaf=5, min_samples_split=20, random_state=88; total time=   0.6s\n",
      "[CV] END ccp_alpha=0.081, max_depth=30, min_samples_leaf=5, min_samples_split=20, random_state=88; total time=   0.7s\n",
      "[CV] END ccp_alpha=0.081, max_depth=30, min_samples_leaf=5, min_samples_split=20, random_state=88; total time=   0.7s\n",
      "[CV] END ccp_alpha=0.0815, max_depth=30, min_samples_leaf=5, min_samples_split=20, random_state=88; total time=   0.6s\n",
      "[CV] END ccp_alpha=0.0815, max_depth=30, min_samples_leaf=5, min_samples_split=20, random_state=88; total time=   0.6s\n",
      "[CV] END ccp_alpha=0.0815, max_depth=30, min_samples_leaf=5, min_samples_split=20, random_state=88; total time=   0.6s\n",
      "[CV] END ccp_alpha=0.0815, max_depth=30, min_samples_leaf=5, min_samples_split=20, random_state=88; total time=   0.7s\n",
      "[CV] END ccp_alpha=0.0815, max_depth=30, min_samples_leaf=5, min_samples_split=20, random_state=88; total time=   0.7s\n",
      "[CV] END ccp_alpha=0.082, max_depth=30, min_samples_leaf=5, min_samples_split=20, random_state=88; total time=   0.6s\n"
     ]
    },
    {
     "name": "stdout",
     "output_type": "stream",
     "text": [
      "[CV] END ccp_alpha=0.082, max_depth=30, min_samples_leaf=5, min_samples_split=20, random_state=88; total time=   0.6s\n",
      "[CV] END ccp_alpha=0.082, max_depth=30, min_samples_leaf=5, min_samples_split=20, random_state=88; total time=   0.7s\n",
      "[CV] END ccp_alpha=0.082, max_depth=30, min_samples_leaf=5, min_samples_split=20, random_state=88; total time=   0.7s\n",
      "[CV] END ccp_alpha=0.082, max_depth=30, min_samples_leaf=5, min_samples_split=20, random_state=88; total time=   0.7s\n",
      "[CV] END ccp_alpha=0.0825, max_depth=30, min_samples_leaf=5, min_samples_split=20, random_state=88; total time=   0.7s\n",
      "[CV] END ccp_alpha=0.0825, max_depth=30, min_samples_leaf=5, min_samples_split=20, random_state=88; total time=   0.6s\n",
      "[CV] END ccp_alpha=0.0825, max_depth=30, min_samples_leaf=5, min_samples_split=20, random_state=88; total time=   0.7s\n",
      "[CV] END ccp_alpha=0.0825, max_depth=30, min_samples_leaf=5, min_samples_split=20, random_state=88; total time=   0.7s\n",
      "[CV] END ccp_alpha=0.0825, max_depth=30, min_samples_leaf=5, min_samples_split=20, random_state=88; total time=   0.7s\n",
      "[CV] END ccp_alpha=0.083, max_depth=30, min_samples_leaf=5, min_samples_split=20, random_state=88; total time=   0.6s\n",
      "[CV] END ccp_alpha=0.083, max_depth=30, min_samples_leaf=5, min_samples_split=20, random_state=88; total time=   0.6s\n",
      "[CV] END ccp_alpha=0.083, max_depth=30, min_samples_leaf=5, min_samples_split=20, random_state=88; total time=   0.6s\n",
      "[CV] END ccp_alpha=0.083, max_depth=30, min_samples_leaf=5, min_samples_split=20, random_state=88; total time=   0.7s\n",
      "[CV] END ccp_alpha=0.083, max_depth=30, min_samples_leaf=5, min_samples_split=20, random_state=88; total time=   0.7s\n",
      "[CV] END ccp_alpha=0.0835, max_depth=30, min_samples_leaf=5, min_samples_split=20, random_state=88; total time=   0.6s\n",
      "[CV] END ccp_alpha=0.0835, max_depth=30, min_samples_leaf=5, min_samples_split=20, random_state=88; total time=   0.6s\n",
      "[CV] END ccp_alpha=0.0835, max_depth=30, min_samples_leaf=5, min_samples_split=20, random_state=88; total time=   0.7s\n",
      "[CV] END ccp_alpha=0.0835, max_depth=30, min_samples_leaf=5, min_samples_split=20, random_state=88; total time=   0.7s\n",
      "[CV] END ccp_alpha=0.0835, max_depth=30, min_samples_leaf=5, min_samples_split=20, random_state=88; total time=   0.7s\n",
      "[CV] END ccp_alpha=0.084, max_depth=30, min_samples_leaf=5, min_samples_split=20, random_state=88; total time=   0.7s\n",
      "[CV] END ccp_alpha=0.084, max_depth=30, min_samples_leaf=5, min_samples_split=20, random_state=88; total time=   0.6s\n",
      "[CV] END ccp_alpha=0.084, max_depth=30, min_samples_leaf=5, min_samples_split=20, random_state=88; total time=   0.7s\n",
      "[CV] END ccp_alpha=0.084, max_depth=30, min_samples_leaf=5, min_samples_split=20, random_state=88; total time=   0.7s\n",
      "[CV] END ccp_alpha=0.084, max_depth=30, min_samples_leaf=5, min_samples_split=20, random_state=88; total time=   0.7s\n",
      "[CV] END ccp_alpha=0.0845, max_depth=30, min_samples_leaf=5, min_samples_split=20, random_state=88; total time=   0.6s\n",
      "[CV] END ccp_alpha=0.0845, max_depth=30, min_samples_leaf=5, min_samples_split=20, random_state=88; total time=   0.6s\n",
      "[CV] END ccp_alpha=0.0845, max_depth=30, min_samples_leaf=5, min_samples_split=20, random_state=88; total time=   0.7s\n",
      "[CV] END ccp_alpha=0.0845, max_depth=30, min_samples_leaf=5, min_samples_split=20, random_state=88; total time=   0.7s\n",
      "[CV] END ccp_alpha=0.0845, max_depth=30, min_samples_leaf=5, min_samples_split=20, random_state=88; total time=   0.7s\n",
      "[CV] END ccp_alpha=0.085, max_depth=30, min_samples_leaf=5, min_samples_split=20, random_state=88; total time=   0.7s\n",
      "[CV] END ccp_alpha=0.085, max_depth=30, min_samples_leaf=5, min_samples_split=20, random_state=88; total time=   0.6s\n",
      "[CV] END ccp_alpha=0.085, max_depth=30, min_samples_leaf=5, min_samples_split=20, random_state=88; total time=   0.7s\n",
      "[CV] END ccp_alpha=0.085, max_depth=30, min_samples_leaf=5, min_samples_split=20, random_state=88; total time=   0.7s\n",
      "[CV] END ccp_alpha=0.085, max_depth=30, min_samples_leaf=5, min_samples_split=20, random_state=88; total time=   0.7s\n",
      "[CV] END ccp_alpha=0.0855, max_depth=30, min_samples_leaf=5, min_samples_split=20, random_state=88; total time=   0.6s\n",
      "[CV] END ccp_alpha=0.0855, max_depth=30, min_samples_leaf=5, min_samples_split=20, random_state=88; total time=   0.6s\n",
      "[CV] END ccp_alpha=0.0855, max_depth=30, min_samples_leaf=5, min_samples_split=20, random_state=88; total time=   0.6s\n",
      "[CV] END ccp_alpha=0.0855, max_depth=30, min_samples_leaf=5, min_samples_split=20, random_state=88; total time=   0.7s\n",
      "[CV] END ccp_alpha=0.0855, max_depth=30, min_samples_leaf=5, min_samples_split=20, random_state=88; total time=   0.7s\n",
      "[CV] END ccp_alpha=0.08600000000000001, max_depth=30, min_samples_leaf=5, min_samples_split=20, random_state=88; total time=   0.6s\n",
      "[CV] END ccp_alpha=0.08600000000000001, max_depth=30, min_samples_leaf=5, min_samples_split=20, random_state=88; total time=   0.6s\n",
      "[CV] END ccp_alpha=0.08600000000000001, max_depth=30, min_samples_leaf=5, min_samples_split=20, random_state=88; total time=   0.7s\n",
      "[CV] END ccp_alpha=0.08600000000000001, max_depth=30, min_samples_leaf=5, min_samples_split=20, random_state=88; total time=   0.7s\n",
      "[CV] END ccp_alpha=0.08600000000000001, max_depth=30, min_samples_leaf=5, min_samples_split=20, random_state=88; total time=   0.7s\n",
      "[CV] END ccp_alpha=0.08650000000000001, max_depth=30, min_samples_leaf=5, min_samples_split=20, random_state=88; total time=   0.7s\n",
      "[CV] END ccp_alpha=0.08650000000000001, max_depth=30, min_samples_leaf=5, min_samples_split=20, random_state=88; total time=   0.6s\n",
      "[CV] END ccp_alpha=0.08650000000000001, max_depth=30, min_samples_leaf=5, min_samples_split=20, random_state=88; total time=   0.7s\n",
      "[CV] END ccp_alpha=0.08650000000000001, max_depth=30, min_samples_leaf=5, min_samples_split=20, random_state=88; total time=   0.7s\n",
      "[CV] END ccp_alpha=0.08650000000000001, max_depth=30, min_samples_leaf=5, min_samples_split=20, random_state=88; total time=   0.7s\n",
      "[CV] END ccp_alpha=0.08700000000000001, max_depth=30, min_samples_leaf=5, min_samples_split=20, random_state=88; total time=   0.7s\n",
      "[CV] END ccp_alpha=0.08700000000000001, max_depth=30, min_samples_leaf=5, min_samples_split=20, random_state=88; total time=   0.6s\n",
      "[CV] END ccp_alpha=0.08700000000000001, max_depth=30, min_samples_leaf=5, min_samples_split=20, random_state=88; total time=   0.7s\n",
      "[CV] END ccp_alpha=0.08700000000000001, max_depth=30, min_samples_leaf=5, min_samples_split=20, random_state=88; total time=   0.7s\n",
      "[CV] END ccp_alpha=0.08700000000000001, max_depth=30, min_samples_leaf=5, min_samples_split=20, random_state=88; total time=   0.7s\n",
      "[CV] END ccp_alpha=0.08750000000000001, max_depth=30, min_samples_leaf=5, min_samples_split=20, random_state=88; total time=   0.6s\n",
      "[CV] END ccp_alpha=0.08750000000000001, max_depth=30, min_samples_leaf=5, min_samples_split=20, random_state=88; total time=   0.6s\n",
      "[CV] END ccp_alpha=0.08750000000000001, max_depth=30, min_samples_leaf=5, min_samples_split=20, random_state=88; total time=   0.7s\n",
      "[CV] END ccp_alpha=0.08750000000000001, max_depth=30, min_samples_leaf=5, min_samples_split=20, random_state=88; total time=   0.7s\n",
      "[CV] END ccp_alpha=0.08750000000000001, max_depth=30, min_samples_leaf=5, min_samples_split=20, random_state=88; total time=   0.7s\n",
      "[CV] END ccp_alpha=0.088, max_depth=30, min_samples_leaf=5, min_samples_split=20, random_state=88; total time=   0.6s\n",
      "[CV] END ccp_alpha=0.088, max_depth=30, min_samples_leaf=5, min_samples_split=20, random_state=88; total time=   0.6s\n",
      "[CV] END ccp_alpha=0.088, max_depth=30, min_samples_leaf=5, min_samples_split=20, random_state=88; total time=   0.7s\n",
      "[CV] END ccp_alpha=0.088, max_depth=30, min_samples_leaf=5, min_samples_split=20, random_state=88; total time=   0.7s\n",
      "[CV] END ccp_alpha=0.088, max_depth=30, min_samples_leaf=5, min_samples_split=20, random_state=88; total time=   0.7s\n",
      "[CV] END ccp_alpha=0.0885, max_depth=30, min_samples_leaf=5, min_samples_split=20, random_state=88; total time=   0.6s\n",
      "[CV] END ccp_alpha=0.0885, max_depth=30, min_samples_leaf=5, min_samples_split=20, random_state=88; total time=   0.6s\n",
      "[CV] END ccp_alpha=0.0885, max_depth=30, min_samples_leaf=5, min_samples_split=20, random_state=88; total time=   0.7s\n"
     ]
    },
    {
     "name": "stdout",
     "output_type": "stream",
     "text": [
      "[CV] END ccp_alpha=0.0885, max_depth=30, min_samples_leaf=5, min_samples_split=20, random_state=88; total time=   0.7s\n",
      "[CV] END ccp_alpha=0.0885, max_depth=30, min_samples_leaf=5, min_samples_split=20, random_state=88; total time=   0.7s\n",
      "[CV] END ccp_alpha=0.089, max_depth=30, min_samples_leaf=5, min_samples_split=20, random_state=88; total time=   0.7s\n",
      "[CV] END ccp_alpha=0.089, max_depth=30, min_samples_leaf=5, min_samples_split=20, random_state=88; total time=   0.6s\n",
      "[CV] END ccp_alpha=0.089, max_depth=30, min_samples_leaf=5, min_samples_split=20, random_state=88; total time=   0.7s\n",
      "[CV] END ccp_alpha=0.089, max_depth=30, min_samples_leaf=5, min_samples_split=20, random_state=88; total time=   0.7s\n",
      "[CV] END ccp_alpha=0.089, max_depth=30, min_samples_leaf=5, min_samples_split=20, random_state=88; total time=   0.7s\n",
      "[CV] END ccp_alpha=0.0895, max_depth=30, min_samples_leaf=5, min_samples_split=20, random_state=88; total time=   0.6s\n",
      "[CV] END ccp_alpha=0.0895, max_depth=30, min_samples_leaf=5, min_samples_split=20, random_state=88; total time=   0.6s\n",
      "[CV] END ccp_alpha=0.0895, max_depth=30, min_samples_leaf=5, min_samples_split=20, random_state=88; total time=   0.7s\n",
      "[CV] END ccp_alpha=0.0895, max_depth=30, min_samples_leaf=5, min_samples_split=20, random_state=88; total time=   0.7s\n",
      "[CV] END ccp_alpha=0.0895, max_depth=30, min_samples_leaf=5, min_samples_split=20, random_state=88; total time=   0.7s\n",
      "[CV] END ccp_alpha=0.09, max_depth=30, min_samples_leaf=5, min_samples_split=20, random_state=88; total time=   0.6s\n",
      "[CV] END ccp_alpha=0.09, max_depth=30, min_samples_leaf=5, min_samples_split=20, random_state=88; total time=   0.6s\n",
      "[CV] END ccp_alpha=0.09, max_depth=30, min_samples_leaf=5, min_samples_split=20, random_state=88; total time=   0.6s\n",
      "[CV] END ccp_alpha=0.09, max_depth=30, min_samples_leaf=5, min_samples_split=20, random_state=88; total time=   0.7s\n",
      "[CV] END ccp_alpha=0.09, max_depth=30, min_samples_leaf=5, min_samples_split=20, random_state=88; total time=   0.7s\n",
      "[CV] END ccp_alpha=0.0905, max_depth=30, min_samples_leaf=5, min_samples_split=20, random_state=88; total time=   0.7s\n",
      "[CV] END ccp_alpha=0.0905, max_depth=30, min_samples_leaf=5, min_samples_split=20, random_state=88; total time=   0.6s\n",
      "[CV] END ccp_alpha=0.0905, max_depth=30, min_samples_leaf=5, min_samples_split=20, random_state=88; total time=   0.7s\n",
      "[CV] END ccp_alpha=0.0905, max_depth=30, min_samples_leaf=5, min_samples_split=20, random_state=88; total time=   0.7s\n",
      "[CV] END ccp_alpha=0.0905, max_depth=30, min_samples_leaf=5, min_samples_split=20, random_state=88; total time=   0.7s\n",
      "[CV] END ccp_alpha=0.091, max_depth=30, min_samples_leaf=5, min_samples_split=20, random_state=88; total time=   0.6s\n",
      "[CV] END ccp_alpha=0.091, max_depth=30, min_samples_leaf=5, min_samples_split=20, random_state=88; total time=   0.6s\n",
      "[CV] END ccp_alpha=0.091, max_depth=30, min_samples_leaf=5, min_samples_split=20, random_state=88; total time=   0.6s\n",
      "[CV] END ccp_alpha=0.091, max_depth=30, min_samples_leaf=5, min_samples_split=20, random_state=88; total time=   0.7s\n",
      "[CV] END ccp_alpha=0.091, max_depth=30, min_samples_leaf=5, min_samples_split=20, random_state=88; total time=   0.7s\n",
      "[CV] END ccp_alpha=0.0915, max_depth=30, min_samples_leaf=5, min_samples_split=20, random_state=88; total time=   0.6s\n",
      "[CV] END ccp_alpha=0.0915, max_depth=30, min_samples_leaf=5, min_samples_split=20, random_state=88; total time=   0.6s\n",
      "[CV] END ccp_alpha=0.0915, max_depth=30, min_samples_leaf=5, min_samples_split=20, random_state=88; total time=   0.6s\n",
      "[CV] END ccp_alpha=0.0915, max_depth=30, min_samples_leaf=5, min_samples_split=20, random_state=88; total time=   0.7s\n",
      "[CV] END ccp_alpha=0.0915, max_depth=30, min_samples_leaf=5, min_samples_split=20, random_state=88; total time=   0.7s\n",
      "[CV] END ccp_alpha=0.092, max_depth=30, min_samples_leaf=5, min_samples_split=20, random_state=88; total time=   0.6s\n",
      "[CV] END ccp_alpha=0.092, max_depth=30, min_samples_leaf=5, min_samples_split=20, random_state=88; total time=   0.6s\n",
      "[CV] END ccp_alpha=0.092, max_depth=30, min_samples_leaf=5, min_samples_split=20, random_state=88; total time=   0.7s\n",
      "[CV] END ccp_alpha=0.092, max_depth=30, min_samples_leaf=5, min_samples_split=20, random_state=88; total time=   0.7s\n",
      "[CV] END ccp_alpha=0.092, max_depth=30, min_samples_leaf=5, min_samples_split=20, random_state=88; total time=   0.7s\n",
      "[CV] END ccp_alpha=0.0925, max_depth=30, min_samples_leaf=5, min_samples_split=20, random_state=88; total time=   0.6s\n",
      "[CV] END ccp_alpha=0.0925, max_depth=30, min_samples_leaf=5, min_samples_split=20, random_state=88; total time=   0.6s\n",
      "[CV] END ccp_alpha=0.0925, max_depth=30, min_samples_leaf=5, min_samples_split=20, random_state=88; total time=   0.7s\n",
      "[CV] END ccp_alpha=0.0925, max_depth=30, min_samples_leaf=5, min_samples_split=20, random_state=88; total time=   0.7s\n",
      "[CV] END ccp_alpha=0.0925, max_depth=30, min_samples_leaf=5, min_samples_split=20, random_state=88; total time=   0.7s\n",
      "[CV] END ccp_alpha=0.093, max_depth=30, min_samples_leaf=5, min_samples_split=20, random_state=88; total time=   0.7s\n",
      "[CV] END ccp_alpha=0.093, max_depth=30, min_samples_leaf=5, min_samples_split=20, random_state=88; total time=   0.6s\n",
      "[CV] END ccp_alpha=0.093, max_depth=30, min_samples_leaf=5, min_samples_split=20, random_state=88; total time=   0.7s\n",
      "[CV] END ccp_alpha=0.093, max_depth=30, min_samples_leaf=5, min_samples_split=20, random_state=88; total time=   0.7s\n",
      "[CV] END ccp_alpha=0.093, max_depth=30, min_samples_leaf=5, min_samples_split=20, random_state=88; total time=   0.7s\n",
      "[CV] END ccp_alpha=0.0935, max_depth=30, min_samples_leaf=5, min_samples_split=20, random_state=88; total time=   0.6s\n",
      "[CV] END ccp_alpha=0.0935, max_depth=30, min_samples_leaf=5, min_samples_split=20, random_state=88; total time=   0.6s\n",
      "[CV] END ccp_alpha=0.0935, max_depth=30, min_samples_leaf=5, min_samples_split=20, random_state=88; total time=   0.6s\n",
      "[CV] END ccp_alpha=0.0935, max_depth=30, min_samples_leaf=5, min_samples_split=20, random_state=88; total time=   0.7s\n",
      "[CV] END ccp_alpha=0.0935, max_depth=30, min_samples_leaf=5, min_samples_split=20, random_state=88; total time=   0.7s\n",
      "[CV] END ccp_alpha=0.094, max_depth=30, min_samples_leaf=5, min_samples_split=20, random_state=88; total time=   0.7s\n",
      "[CV] END ccp_alpha=0.094, max_depth=30, min_samples_leaf=5, min_samples_split=20, random_state=88; total time=   0.6s\n",
      "[CV] END ccp_alpha=0.094, max_depth=30, min_samples_leaf=5, min_samples_split=20, random_state=88; total time=   0.7s\n",
      "[CV] END ccp_alpha=0.094, max_depth=30, min_samples_leaf=5, min_samples_split=20, random_state=88; total time=   0.7s\n",
      "[CV] END ccp_alpha=0.094, max_depth=30, min_samples_leaf=5, min_samples_split=20, random_state=88; total time=   0.7s\n",
      "[CV] END ccp_alpha=0.0945, max_depth=30, min_samples_leaf=5, min_samples_split=20, random_state=88; total time=   0.6s\n",
      "[CV] END ccp_alpha=0.0945, max_depth=30, min_samples_leaf=5, min_samples_split=20, random_state=88; total time=   0.6s\n",
      "[CV] END ccp_alpha=0.0945, max_depth=30, min_samples_leaf=5, min_samples_split=20, random_state=88; total time=   0.7s\n",
      "[CV] END ccp_alpha=0.0945, max_depth=30, min_samples_leaf=5, min_samples_split=20, random_state=88; total time=   0.7s\n",
      "[CV] END ccp_alpha=0.0945, max_depth=30, min_samples_leaf=5, min_samples_split=20, random_state=88; total time=   0.7s\n",
      "[CV] END ccp_alpha=0.095, max_depth=30, min_samples_leaf=5, min_samples_split=20, random_state=88; total time=   0.6s\n",
      "[CV] END ccp_alpha=0.095, max_depth=30, min_samples_leaf=5, min_samples_split=20, random_state=88; total time=   0.6s\n",
      "[CV] END ccp_alpha=0.095, max_depth=30, min_samples_leaf=5, min_samples_split=20, random_state=88; total time=   0.6s\n",
      "[CV] END ccp_alpha=0.095, max_depth=30, min_samples_leaf=5, min_samples_split=20, random_state=88; total time=   0.7s\n",
      "[CV] END ccp_alpha=0.095, max_depth=30, min_samples_leaf=5, min_samples_split=20, random_state=88; total time=   0.7s\n",
      "[CV] END ccp_alpha=0.0955, max_depth=30, min_samples_leaf=5, min_samples_split=20, random_state=88; total time=   0.7s\n",
      "[CV] END ccp_alpha=0.0955, max_depth=30, min_samples_leaf=5, min_samples_split=20, random_state=88; total time=   0.6s\n",
      "[CV] END ccp_alpha=0.0955, max_depth=30, min_samples_leaf=5, min_samples_split=20, random_state=88; total time=   0.7s\n"
     ]
    },
    {
     "name": "stdout",
     "output_type": "stream",
     "text": [
      "[CV] END ccp_alpha=0.0955, max_depth=30, min_samples_leaf=5, min_samples_split=20, random_state=88; total time=   0.7s\n",
      "[CV] END ccp_alpha=0.0955, max_depth=30, min_samples_leaf=5, min_samples_split=20, random_state=88; total time=   0.7s\n",
      "[CV] END ccp_alpha=0.096, max_depth=30, min_samples_leaf=5, min_samples_split=20, random_state=88; total time=   0.7s\n",
      "[CV] END ccp_alpha=0.096, max_depth=30, min_samples_leaf=5, min_samples_split=20, random_state=88; total time=   0.6s\n",
      "[CV] END ccp_alpha=0.096, max_depth=30, min_samples_leaf=5, min_samples_split=20, random_state=88; total time=   0.7s\n",
      "[CV] END ccp_alpha=0.096, max_depth=30, min_samples_leaf=5, min_samples_split=20, random_state=88; total time=   0.7s\n",
      "[CV] END ccp_alpha=0.096, max_depth=30, min_samples_leaf=5, min_samples_split=20, random_state=88; total time=   0.7s\n",
      "[CV] END ccp_alpha=0.0965, max_depth=30, min_samples_leaf=5, min_samples_split=20, random_state=88; total time=   0.7s\n",
      "[CV] END ccp_alpha=0.0965, max_depth=30, min_samples_leaf=5, min_samples_split=20, random_state=88; total time=   0.6s\n",
      "[CV] END ccp_alpha=0.0965, max_depth=30, min_samples_leaf=5, min_samples_split=20, random_state=88; total time=   0.7s\n",
      "[CV] END ccp_alpha=0.0965, max_depth=30, min_samples_leaf=5, min_samples_split=20, random_state=88; total time=   0.7s\n",
      "[CV] END ccp_alpha=0.0965, max_depth=30, min_samples_leaf=5, min_samples_split=20, random_state=88; total time=   0.7s\n",
      "[CV] END ccp_alpha=0.097, max_depth=30, min_samples_leaf=5, min_samples_split=20, random_state=88; total time=   0.6s\n",
      "[CV] END ccp_alpha=0.097, max_depth=30, min_samples_leaf=5, min_samples_split=20, random_state=88; total time=   0.6s\n",
      "[CV] END ccp_alpha=0.097, max_depth=30, min_samples_leaf=5, min_samples_split=20, random_state=88; total time=   0.7s\n",
      "[CV] END ccp_alpha=0.097, max_depth=30, min_samples_leaf=5, min_samples_split=20, random_state=88; total time=   0.7s\n",
      "[CV] END ccp_alpha=0.097, max_depth=30, min_samples_leaf=5, min_samples_split=20, random_state=88; total time=   0.7s\n",
      "[CV] END ccp_alpha=0.0975, max_depth=30, min_samples_leaf=5, min_samples_split=20, random_state=88; total time=   0.6s\n",
      "[CV] END ccp_alpha=0.0975, max_depth=30, min_samples_leaf=5, min_samples_split=20, random_state=88; total time=   0.5s\n",
      "[CV] END ccp_alpha=0.0975, max_depth=30, min_samples_leaf=5, min_samples_split=20, random_state=88; total time=   0.6s\n",
      "[CV] END ccp_alpha=0.0975, max_depth=30, min_samples_leaf=5, min_samples_split=20, random_state=88; total time=   0.7s\n",
      "[CV] END ccp_alpha=0.0975, max_depth=30, min_samples_leaf=5, min_samples_split=20, random_state=88; total time=   0.7s\n",
      "[CV] END ccp_alpha=0.098, max_depth=30, min_samples_leaf=5, min_samples_split=20, random_state=88; total time=   0.6s\n",
      "[CV] END ccp_alpha=0.098, max_depth=30, min_samples_leaf=5, min_samples_split=20, random_state=88; total time=   0.6s\n",
      "[CV] END ccp_alpha=0.098, max_depth=30, min_samples_leaf=5, min_samples_split=20, random_state=88; total time=   0.7s\n",
      "[CV] END ccp_alpha=0.098, max_depth=30, min_samples_leaf=5, min_samples_split=20, random_state=88; total time=   0.7s\n",
      "[CV] END ccp_alpha=0.098, max_depth=30, min_samples_leaf=5, min_samples_split=20, random_state=88; total time=   0.7s\n",
      "[CV] END ccp_alpha=0.0985, max_depth=30, min_samples_leaf=5, min_samples_split=20, random_state=88; total time=   0.6s\n",
      "[CV] END ccp_alpha=0.0985, max_depth=30, min_samples_leaf=5, min_samples_split=20, random_state=88; total time=   0.6s\n",
      "[CV] END ccp_alpha=0.0985, max_depth=30, min_samples_leaf=5, min_samples_split=20, random_state=88; total time=   0.7s\n",
      "[CV] END ccp_alpha=0.0985, max_depth=30, min_samples_leaf=5, min_samples_split=20, random_state=88; total time=   0.7s\n",
      "[CV] END ccp_alpha=0.0985, max_depth=30, min_samples_leaf=5, min_samples_split=20, random_state=88; total time=   0.7s\n",
      "[CV] END ccp_alpha=0.099, max_depth=30, min_samples_leaf=5, min_samples_split=20, random_state=88; total time=   0.6s\n",
      "[CV] END ccp_alpha=0.099, max_depth=30, min_samples_leaf=5, min_samples_split=20, random_state=88; total time=   0.6s\n",
      "[CV] END ccp_alpha=0.099, max_depth=30, min_samples_leaf=5, min_samples_split=20, random_state=88; total time=   0.7s\n",
      "[CV] END ccp_alpha=0.099, max_depth=30, min_samples_leaf=5, min_samples_split=20, random_state=88; total time=   0.7s\n",
      "[CV] END ccp_alpha=0.099, max_depth=30, min_samples_leaf=5, min_samples_split=20, random_state=88; total time=   0.7s\n",
      "[CV] END ccp_alpha=0.0995, max_depth=30, min_samples_leaf=5, min_samples_split=20, random_state=88; total time=   0.7s\n",
      "[CV] END ccp_alpha=0.0995, max_depth=30, min_samples_leaf=5, min_samples_split=20, random_state=88; total time=   0.6s\n",
      "[CV] END ccp_alpha=0.0995, max_depth=30, min_samples_leaf=5, min_samples_split=20, random_state=88; total time=   0.7s\n",
      "[CV] END ccp_alpha=0.0995, max_depth=30, min_samples_leaf=5, min_samples_split=20, random_state=88; total time=   0.7s\n",
      "[CV] END ccp_alpha=0.0995, max_depth=30, min_samples_leaf=5, min_samples_split=20, random_state=88; total time=   0.7s\n",
      "[CV] END ccp_alpha=0.1, max_depth=30, min_samples_leaf=5, min_samples_split=20, random_state=88; total time=   0.6s\n",
      "[CV] END ccp_alpha=0.1, max_depth=30, min_samples_leaf=5, min_samples_split=20, random_state=88; total time=   0.6s\n",
      "[CV] END ccp_alpha=0.1, max_depth=30, min_samples_leaf=5, min_samples_split=20, random_state=88; total time=   0.7s\n",
      "[CV] END ccp_alpha=0.1, max_depth=30, min_samples_leaf=5, min_samples_split=20, random_state=88; total time=   0.7s\n",
      "[CV] END ccp_alpha=0.1, max_depth=30, min_samples_leaf=5, min_samples_split=20, random_state=88; total time=   0.7s\n",
      "time: 670.27 s\n"
     ]
    }
   ],
   "source": [
    "from sklearn.metrics import recall_score\n",
    "from sklearn.metrics import confusion_matrix\n",
    "import time\n",
    "\n",
    "def tpr(y_true, y_pred):\n",
    "    cm = confusion_matrix(y_true, y_pred)\n",
    "    tpr = cm.ravel()[3] / (cm.ravel()[2] + cm.ravel()[3])\n",
    "\n",
    "    return tpr\n",
    "\n",
    "def fpr(y_true, y_pred):\n",
    "    cm = confusion_matrix(y_true, y_pred)\n",
    "    fpr = cm.ravel()[1] / (cm.ravel()[0] + cm.ravel()[1])\n",
    "    \n",
    "    return fpr\n",
    "\n",
    "grid_values = {'ccp_alpha': np.linspace(0, 0.1, 201),\n",
    "               'min_samples_leaf': [5],\n",
    "               'min_samples_split': [20],\n",
    "               'max_depth': [30],\n",
    "#                'class_weight' : [{0: 1, 1: 20}],\n",
    "               'random_state': [88]} \n",
    "\n",
    "tic = time.time()\n",
    "\n",
    "dtc2 = DecisionTreeClassifier()\n",
    "dtc_cv2_logloss = GridSearchCV(dtc2, param_grid = grid_values,\n",
    "                               scoring={'tpr':make_scorer(tpr), 'fpr':make_scorer(fpr,greater_is_better=False)},\n",
    "                               cv=5, verbose=2, refit=False) \n",
    "dtc_cv2_logloss.fit(X1_train_enc, y1_train_enc)\n",
    "\n",
    "toc = time.time()\n",
    "print('time:', round(toc-tic, 2),'s')"
   ]
  },
  {
   "cell_type": "code",
   "execution_count": 73,
   "metadata": {
    "collapsed": true
   },
   "outputs": [
    {
     "data": {
      "text/html": [
       "<div>\n",
       "<style scoped>\n",
       "    .dataframe tbody tr th:only-of-type {\n",
       "        vertical-align: middle;\n",
       "    }\n",
       "\n",
       "    .dataframe tbody tr th {\n",
       "        vertical-align: top;\n",
       "    }\n",
       "\n",
       "    .dataframe thead th {\n",
       "        text-align: right;\n",
       "    }\n",
       "</style>\n",
       "<table border=\"1\" class=\"dataframe\">\n",
       "  <thead>\n",
       "    <tr style=\"text-align: right;\">\n",
       "      <th></th>\n",
       "      <th>ccp alpha</th>\n",
       "      <th>TPR</th>\n",
       "      <th>FPR</th>\n",
       "    </tr>\n",
       "  </thead>\n",
       "  <tbody>\n",
       "    <tr>\n",
       "      <th>0</th>\n",
       "      <td>0.0</td>\n",
       "      <td>0.528768</td>\n",
       "      <td>-0.018182</td>\n",
       "    </tr>\n",
       "    <tr>\n",
       "      <th>1</th>\n",
       "      <td>0.0005</td>\n",
       "      <td>0.485442</td>\n",
       "      <td>-0.001731</td>\n",
       "    </tr>\n",
       "    <tr>\n",
       "      <th>2</th>\n",
       "      <td>0.001</td>\n",
       "      <td>0.486403</td>\n",
       "      <td>-0.003050</td>\n",
       "    </tr>\n",
       "    <tr>\n",
       "      <th>3</th>\n",
       "      <td>0.0015</td>\n",
       "      <td>0.493905</td>\n",
       "      <td>-0.004170</td>\n",
       "    </tr>\n",
       "    <tr>\n",
       "      <th>4</th>\n",
       "      <td>0.002</td>\n",
       "      <td>0.493905</td>\n",
       "      <td>-0.004170</td>\n",
       "    </tr>\n",
       "    <tr>\n",
       "      <th>5</th>\n",
       "      <td>0.0025</td>\n",
       "      <td>0.480846</td>\n",
       "      <td>-0.003511</td>\n",
       "    </tr>\n",
       "    <tr>\n",
       "      <th>6</th>\n",
       "      <td>0.003</td>\n",
       "      <td>0.477215</td>\n",
       "      <td>-0.003066</td>\n",
       "    </tr>\n",
       "    <tr>\n",
       "      <th>7</th>\n",
       "      <td>0.0035</td>\n",
       "      <td>0.477215</td>\n",
       "      <td>-0.003066</td>\n",
       "    </tr>\n",
       "    <tr>\n",
       "      <th>8</th>\n",
       "      <td>0.004</td>\n",
       "      <td>0.477215</td>\n",
       "      <td>-0.003066</td>\n",
       "    </tr>\n",
       "    <tr>\n",
       "      <th>9</th>\n",
       "      <td>0.0045</td>\n",
       "      <td>0.477215</td>\n",
       "      <td>-0.003066</td>\n",
       "    </tr>\n",
       "    <tr>\n",
       "      <th>10</th>\n",
       "      <td>0.005</td>\n",
       "      <td>0.477215</td>\n",
       "      <td>-0.003066</td>\n",
       "    </tr>\n",
       "    <tr>\n",
       "      <th>11</th>\n",
       "      <td>0.0055</td>\n",
       "      <td>0.477215</td>\n",
       "      <td>-0.003066</td>\n",
       "    </tr>\n",
       "    <tr>\n",
       "      <th>12</th>\n",
       "      <td>0.006</td>\n",
       "      <td>0.477215</td>\n",
       "      <td>-0.003066</td>\n",
       "    </tr>\n",
       "    <tr>\n",
       "      <th>13</th>\n",
       "      <td>0.0065</td>\n",
       "      <td>0.477215</td>\n",
       "      <td>-0.003066</td>\n",
       "    </tr>\n",
       "    <tr>\n",
       "      <th>14</th>\n",
       "      <td>0.007</td>\n",
       "      <td>0.477215</td>\n",
       "      <td>-0.003066</td>\n",
       "    </tr>\n",
       "    <tr>\n",
       "      <th>15</th>\n",
       "      <td>0.0075</td>\n",
       "      <td>0.477215</td>\n",
       "      <td>-0.003066</td>\n",
       "    </tr>\n",
       "    <tr>\n",
       "      <th>16</th>\n",
       "      <td>0.008</td>\n",
       "      <td>0.477215</td>\n",
       "      <td>-0.003066</td>\n",
       "    </tr>\n",
       "    <tr>\n",
       "      <th>17</th>\n",
       "      <td>0.0085</td>\n",
       "      <td>0.477215</td>\n",
       "      <td>-0.003066</td>\n",
       "    </tr>\n",
       "    <tr>\n",
       "      <th>18</th>\n",
       "      <td>0.009</td>\n",
       "      <td>0.477215</td>\n",
       "      <td>-0.003066</td>\n",
       "    </tr>\n",
       "    <tr>\n",
       "      <th>19</th>\n",
       "      <td>0.0095</td>\n",
       "      <td>0.477215</td>\n",
       "      <td>-0.003066</td>\n",
       "    </tr>\n",
       "    <tr>\n",
       "      <th>20</th>\n",
       "      <td>0.01</td>\n",
       "      <td>0.477215</td>\n",
       "      <td>-0.003066</td>\n",
       "    </tr>\n",
       "    <tr>\n",
       "      <th>21</th>\n",
       "      <td>0.0105</td>\n",
       "      <td>0.344606</td>\n",
       "      <td>-0.002341</td>\n",
       "    </tr>\n",
       "    <tr>\n",
       "      <th>22</th>\n",
       "      <td>0.011</td>\n",
       "      <td>0.344606</td>\n",
       "      <td>-0.002341</td>\n",
       "    </tr>\n",
       "    <tr>\n",
       "      <th>23</th>\n",
       "      <td>0.0115</td>\n",
       "      <td>0.344606</td>\n",
       "      <td>-0.002341</td>\n",
       "    </tr>\n",
       "    <tr>\n",
       "      <th>24</th>\n",
       "      <td>0.012</td>\n",
       "      <td>0.293516</td>\n",
       "      <td>-0.001879</td>\n",
       "    </tr>\n",
       "    <tr>\n",
       "      <th>25</th>\n",
       "      <td>0.0125</td>\n",
       "      <td>0.293516</td>\n",
       "      <td>-0.001879</td>\n",
       "    </tr>\n",
       "    <tr>\n",
       "      <th>26</th>\n",
       "      <td>0.013</td>\n",
       "      <td>0.258692</td>\n",
       "      <td>-0.001681</td>\n",
       "    </tr>\n",
       "    <tr>\n",
       "      <th>27</th>\n",
       "      <td>0.0135</td>\n",
       "      <td>0.258692</td>\n",
       "      <td>-0.001681</td>\n",
       "    </tr>\n",
       "    <tr>\n",
       "      <th>28</th>\n",
       "      <td>0.014</td>\n",
       "      <td>0.258692</td>\n",
       "      <td>-0.001681</td>\n",
       "    </tr>\n",
       "    <tr>\n",
       "      <th>29</th>\n",
       "      <td>0.0145</td>\n",
       "      <td>0.258692</td>\n",
       "      <td>-0.001681</td>\n",
       "    </tr>\n",
       "  </tbody>\n",
       "</table>\n",
       "</div>"
      ],
      "text/plain": [
       "   ccp alpha       TPR       FPR\n",
       "0        0.0  0.528768 -0.018182\n",
       "1     0.0005  0.485442 -0.001731\n",
       "2      0.001  0.486403 -0.003050\n",
       "3     0.0015  0.493905 -0.004170\n",
       "4      0.002  0.493905 -0.004170\n",
       "5     0.0025  0.480846 -0.003511\n",
       "6      0.003  0.477215 -0.003066\n",
       "7     0.0035  0.477215 -0.003066\n",
       "8      0.004  0.477215 -0.003066\n",
       "9     0.0045  0.477215 -0.003066\n",
       "10     0.005  0.477215 -0.003066\n",
       "11    0.0055  0.477215 -0.003066\n",
       "12     0.006  0.477215 -0.003066\n",
       "13    0.0065  0.477215 -0.003066\n",
       "14     0.007  0.477215 -0.003066\n",
       "15    0.0075  0.477215 -0.003066\n",
       "16     0.008  0.477215 -0.003066\n",
       "17    0.0085  0.477215 -0.003066\n",
       "18     0.009  0.477215 -0.003066\n",
       "19    0.0095  0.477215 -0.003066\n",
       "20      0.01  0.477215 -0.003066\n",
       "21    0.0105  0.344606 -0.002341\n",
       "22     0.011  0.344606 -0.002341\n",
       "23    0.0115  0.344606 -0.002341\n",
       "24     0.012  0.293516 -0.001879\n",
       "25    0.0125  0.293516 -0.001879\n",
       "26     0.013  0.258692 -0.001681\n",
       "27    0.0135  0.258692 -0.001681\n",
       "28     0.014  0.258692 -0.001681\n",
       "29    0.0145  0.258692 -0.001681"
      ]
     },
     "execution_count": 73,
     "metadata": {},
     "output_type": "execute_result"
    }
   ],
   "source": [
    "tpr_cart = dtc_cv2_logloss.cv_results_['mean_test_tpr']# what sklearn calls mean_test_score is the holdout set, i.e. the validation set.\n",
    "fpr_cart = dtc_cv2_logloss.cv_results_['mean_test_fpr']\n",
    "ccp = dtc_cv2_logloss.cv_results_['param_ccp_alpha'].data\n",
    "\n",
    "pd.DataFrame({'ccp alpha' : ccp, 'TPR': tpr_cart, 'FPR':fpr_cart}).head(30)"
   ]
  },
  {
   "cell_type": "code",
   "execution_count": 72,
   "metadata": {},
   "outputs": [
    {
     "data": {
      "image/png": "[encoded data removed]",
      "text/plain": [
       "<Figure size 576x432 with 1 Axes>"
      ]
     },
     "metadata": {
      "needs_background": "light"
     },
     "output_type": "display_data"
    }
   ],
   "source": [
    "plt.figure(figsize=(8, 6))\n",
    "plt.xlabel('TPR', fontsize=16)\n",
    "plt.ylabel('FPR', fontsize=16)\n",
    "plt.scatter(tpr_cart, fpr_cart, s=10)\n",
    "# plt.plot(ccp, fpr_cart, linewidth=3)\n",
    "plt.grid(True, which='both')\n",
    "plt.show()"
   ]
  },
  {
   "cell_type": "markdown",
   "metadata": {},
   "source": [
    "### cart1 with ccp_alpha=0.01"
   ]
  },
  {
   "cell_type": "code",
   "execution_count": 46,
   "metadata": {},
   "outputs": [],
   "source": [
    "dtc1 = DecisionTreeClassifier(ccp_alpha=0.01, min_samples_leaf=5, min_samples_split=20, max_depth=30, random_state=88)\n",
    "dtc1.fit(X1_train_enc, y1_train_enc)\n",
    "y1_cart1_label = dtc1.predict(X1_test_enc)"
   ]
  },
  {
   "cell_type": "code",
   "execution_count": 47,
   "metadata": {},
   "outputs": [],
   "source": [
    "def tpr(y_true, y_pred):\n",
    "    cm = confusion_matrix(y_true, y_pred)\n",
    "    tpr = cm.ravel()[3] / (cm.ravel()[2] + cm.ravel()[3])\n",
    "    \n",
    "    return tpr\n",
    "\n",
    "def fpr(y_true, y_pred):\n",
    "    cm = confusion_matrix(y_true, y_pred)\n",
    "    fpr = cm.ravel()[1] / (cm.ravel()[0] + cm.ravel()[1])\n",
    "    \n",
    "    return fpr"
   ]
  },
  {
   "cell_type": "code",
   "execution_count": 48,
   "metadata": {},
   "outputs": [
    {
     "name": "stdout",
     "output_type": "stream",
     "text": [
      "tpr for cart is:  0.6414708886618999\n",
      "fpr for cart is:  0.003288271830471319\n"
     ]
    }
   ],
   "source": [
    "tpr_dtc = tpr(y1_test_enc, y1_cart1_label)\n",
    "print('tpr for cart is: ', tpr_dtc)\n",
    "fpr_dtc = fpr(y1_test_enc, y1_cart1_label)\n",
    "print('fpr for cart is: ', fpr_dtc)"
   ]
  },
  {
   "cell_type": "markdown",
   "metadata": {},
   "source": [
    "### Random Forest \n"
   ]
  },
  {
   "cell_type": "markdown",
   "metadata": {},
   "source": [
    "#### CV of Random Forest parameters"
   ]
  },
  {
   "cell_type": "code",
   "execution_count": 79,
   "metadata": {},
   "outputs": [
    {
     "data": {
      "text/plain": [
       "(23854, 98)"
      ]
     },
     "execution_count": 79,
     "metadata": {},
     "output_type": "execute_result"
    }
   ],
   "source": [
    "X1_test_enc.shape"
   ]
  },
  {
   "cell_type": "code",
   "execution_count": null,
   "metadata": {
    "collapsed": true
   },
   "outputs": [
    {
     "name": "stdout",
     "output_type": "stream",
     "text": [
      "Fitting 5 folds for each of 98 candidates, totalling 490 fits\n"
     ]
    },
    {
     "name": "stderr",
     "output_type": "stream",
     "text": [
      "/opt/anaconda3/lib/python3.8/site-packages/sklearn/model_selection/_validation.py:593: DataConversionWarning: A column-vector y was passed when a 1d array was expected. Please change the shape of y to (n_samples,), for example using ravel().\n",
      "  estimator.fit(X_train, y_train, **fit_params)\n"
     ]
    },
    {
     "name": "stdout",
     "output_type": "stream",
     "text": [
      "[CV] END max_depth=30, max_features=1, min_samples_leaf=5, n_estimators=500, random_state=88; total time=   6.1s\n"
     ]
    },
    {
     "name": "stderr",
     "output_type": "stream",
     "text": [
      "/opt/anaconda3/lib/python3.8/site-packages/sklearn/model_selection/_validation.py:593: DataConversionWarning: A column-vector y was passed when a 1d array was expected. Please change the shape of y to (n_samples,), for example using ravel().\n",
      "  estimator.fit(X_train, y_train, **fit_params)\n"
     ]
    },
    {
     "name": "stdout",
     "output_type": "stream",
     "text": [
      "[CV] END max_depth=30, max_features=1, min_samples_leaf=5, n_estimators=500, random_state=88; total time=   6.5s\n"
     ]
    },
    {
     "name": "stderr",
     "output_type": "stream",
     "text": [
      "/opt/anaconda3/lib/python3.8/site-packages/sklearn/model_selection/_validation.py:593: DataConversionWarning: A column-vector y was passed when a 1d array was expected. Please change the shape of y to (n_samples,), for example using ravel().\n",
      "  estimator.fit(X_train, y_train, **fit_params)\n"
     ]
    },
    {
     "name": "stdout",
     "output_type": "stream",
     "text": [
      "[CV] END max_depth=30, max_features=1, min_samples_leaf=5, n_estimators=500, random_state=88; total time=   6.5s\n"
     ]
    },
    {
     "name": "stderr",
     "output_type": "stream",
     "text": [
      "/opt/anaconda3/lib/python3.8/site-packages/sklearn/model_selection/_validation.py:593: DataConversionWarning: A column-vector y was passed when a 1d array was expected. Please change the shape of y to (n_samples,), for example using ravel().\n",
      "  estimator.fit(X_train, y_train, **fit_params)\n"
     ]
    },
    {
     "name": "stdout",
     "output_type": "stream",
     "text": [
      "[CV] END max_depth=30, max_features=1, min_samples_leaf=5, n_estimators=500, random_state=88; total time=   6.2s\n"
     ]
    },
    {
     "name": "stderr",
     "output_type": "stream",
     "text": [
      "/opt/anaconda3/lib/python3.8/site-packages/sklearn/model_selection/_validation.py:593: DataConversionWarning: A column-vector y was passed when a 1d array was expected. Please change the shape of y to (n_samples,), for example using ravel().\n",
      "  estimator.fit(X_train, y_train, **fit_params)\n"
     ]
    },
    {
     "name": "stdout",
     "output_type": "stream",
     "text": [
      "[CV] END max_depth=30, max_features=1, min_samples_leaf=5, n_estimators=500, random_state=88; total time=   6.2s\n"
     ]
    },
    {
     "name": "stderr",
     "output_type": "stream",
     "text": [
      "/opt/anaconda3/lib/python3.8/site-packages/sklearn/model_selection/_validation.py:593: DataConversionWarning: A column-vector y was passed when a 1d array was expected. Please change the shape of y to (n_samples,), for example using ravel().\n",
      "  estimator.fit(X_train, y_train, **fit_params)\n"
     ]
    },
    {
     "name": "stdout",
     "output_type": "stream",
     "text": [
      "[CV] END max_depth=30, max_features=2, min_samples_leaf=5, n_estimators=500, random_state=88; total time=   9.7s\n"
     ]
    },
    {
     "name": "stderr",
     "output_type": "stream",
     "text": [
      "/opt/anaconda3/lib/python3.8/site-packages/sklearn/model_selection/_validation.py:593: DataConversionWarning: A column-vector y was passed when a 1d array was expected. Please change the shape of y to (n_samples,), for example using ravel().\n",
      "  estimator.fit(X_train, y_train, **fit_params)\n"
     ]
    },
    {
     "name": "stdout",
     "output_type": "stream",
     "text": [
      "[CV] END max_depth=30, max_features=2, min_samples_leaf=5, n_estimators=500, random_state=88; total time=   9.7s\n"
     ]
    },
    {
     "name": "stderr",
     "output_type": "stream",
     "text": [
      "/opt/anaconda3/lib/python3.8/site-packages/sklearn/model_selection/_validation.py:593: DataConversionWarning: A column-vector y was passed when a 1d array was expected. Please change the shape of y to (n_samples,), for example using ravel().\n",
      "  estimator.fit(X_train, y_train, **fit_params)\n"
     ]
    },
    {
     "name": "stdout",
     "output_type": "stream",
     "text": [
      "[CV] END max_depth=30, max_features=2, min_samples_leaf=5, n_estimators=500, random_state=88; total time=   9.7s\n"
     ]
    },
    {
     "name": "stderr",
     "output_type": "stream",
     "text": [
      "/opt/anaconda3/lib/python3.8/site-packages/sklearn/model_selection/_validation.py:593: DataConversionWarning: A column-vector y was passed when a 1d array was expected. Please change the shape of y to (n_samples,), for example using ravel().\n",
      "  estimator.fit(X_train, y_train, **fit_params)\n"
     ]
    },
    {
     "name": "stdout",
     "output_type": "stream",
     "text": [
      "[CV] END max_depth=30, max_features=2, min_samples_leaf=5, n_estimators=500, random_state=88; total time=  10.0s\n"
     ]
    },
    {
     "name": "stderr",
     "output_type": "stream",
     "text": [
      "/opt/anaconda3/lib/python3.8/site-packages/sklearn/model_selection/_validation.py:593: DataConversionWarning: A column-vector y was passed when a 1d array was expected. Please change the shape of y to (n_samples,), for example using ravel().\n",
      "  estimator.fit(X_train, y_train, **fit_params)\n"
     ]
    },
    {
     "name": "stdout",
     "output_type": "stream",
     "text": [
      "[CV] END max_depth=30, max_features=2, min_samples_leaf=5, n_estimators=500, random_state=88; total time=   9.3s\n"
     ]
    },
    {
     "name": "stderr",
     "output_type": "stream",
     "text": [
      "/opt/anaconda3/lib/python3.8/site-packages/sklearn/model_selection/_validation.py:593: DataConversionWarning: A column-vector y was passed when a 1d array was expected. Please change the shape of y to (n_samples,), for example using ravel().\n",
      "  estimator.fit(X_train, y_train, **fit_params)\n"
     ]
    },
    {
     "name": "stdout",
     "output_type": "stream",
     "text": [
      "[CV] END max_depth=30, max_features=3, min_samples_leaf=5, n_estimators=500, random_state=88; total time=  12.0s\n"
     ]
    },
    {
     "name": "stderr",
     "output_type": "stream",
     "text": [
      "/opt/anaconda3/lib/python3.8/site-packages/sklearn/model_selection/_validation.py:593: DataConversionWarning: A column-vector y was passed when a 1d array was expected. Please change the shape of y to (n_samples,), for example using ravel().\n",
      "  estimator.fit(X_train, y_train, **fit_params)\n"
     ]
    },
    {
     "name": "stdout",
     "output_type": "stream",
     "text": [
      "[CV] END max_depth=30, max_features=3, min_samples_leaf=5, n_estimators=500, random_state=88; total time=  12.2s\n"
     ]
    },
    {
     "name": "stderr",
     "output_type": "stream",
     "text": [
      "/opt/anaconda3/lib/python3.8/site-packages/sklearn/model_selection/_validation.py:593: DataConversionWarning: A column-vector y was passed when a 1d array was expected. Please change the shape of y to (n_samples,), for example using ravel().\n",
      "  estimator.fit(X_train, y_train, **fit_params)\n"
     ]
    },
    {
     "name": "stdout",
     "output_type": "stream",
     "text": [
      "[CV] END max_depth=30, max_features=3, min_samples_leaf=5, n_estimators=500, random_state=88; total time=  15.0s\n"
     ]
    },
    {
     "name": "stderr",
     "output_type": "stream",
     "text": [
      "/opt/anaconda3/lib/python3.8/site-packages/sklearn/model_selection/_validation.py:593: DataConversionWarning: A column-vector y was passed when a 1d array was expected. Please change the shape of y to (n_samples,), for example using ravel().\n",
      "  estimator.fit(X_train, y_train, **fit_params)\n"
     ]
    },
    {
     "name": "stdout",
     "output_type": "stream",
     "text": [
      "[CV] END max_depth=30, max_features=3, min_samples_leaf=5, n_estimators=500, random_state=88; total time=  12.1s\n"
     ]
    },
    {
     "name": "stderr",
     "output_type": "stream",
     "text": [
      "/opt/anaconda3/lib/python3.8/site-packages/sklearn/model_selection/_validation.py:593: DataConversionWarning: A column-vector y was passed when a 1d array was expected. Please change the shape of y to (n_samples,), for example using ravel().\n",
      "  estimator.fit(X_train, y_train, **fit_params)\n"
     ]
    },
    {
     "name": "stdout",
     "output_type": "stream",
     "text": [
      "[CV] END max_depth=30, max_features=3, min_samples_leaf=5, n_estimators=500, random_state=88; total time=  15.1s\n"
     ]
    },
    {
     "name": "stderr",
     "output_type": "stream",
     "text": [
      "/opt/anaconda3/lib/python3.8/site-packages/sklearn/model_selection/_validation.py:593: DataConversionWarning: A column-vector y was passed when a 1d array was expected. Please change the shape of y to (n_samples,), for example using ravel().\n",
      "  estimator.fit(X_train, y_train, **fit_params)\n"
     ]
    },
    {
     "name": "stdout",
     "output_type": "stream",
     "text": [
      "[CV] END max_depth=30, max_features=4, min_samples_leaf=5, n_estimators=500, random_state=88; total time=  18.0s\n"
     ]
    },
    {
     "name": "stderr",
     "output_type": "stream",
     "text": [
      "/opt/anaconda3/lib/python3.8/site-packages/sklearn/model_selection/_validation.py:593: DataConversionWarning: A column-vector y was passed when a 1d array was expected. Please change the shape of y to (n_samples,), for example using ravel().\n",
      "  estimator.fit(X_train, y_train, **fit_params)\n"
     ]
    },
    {
     "name": "stdout",
     "output_type": "stream",
     "text": [
      "[CV] END max_depth=30, max_features=4, min_samples_leaf=5, n_estimators=500, random_state=88; total time=  18.3s\n"
     ]
    },
    {
     "name": "stderr",
     "output_type": "stream",
     "text": [
      "/opt/anaconda3/lib/python3.8/site-packages/sklearn/model_selection/_validation.py:593: DataConversionWarning: A column-vector y was passed when a 1d array was expected. Please change the shape of y to (n_samples,), for example using ravel().\n",
      "  estimator.fit(X_train, y_train, **fit_params)\n"
     ]
    },
    {
     "name": "stdout",
     "output_type": "stream",
     "text": [
      "[CV] END max_depth=30, max_features=4, min_samples_leaf=5, n_estimators=500, random_state=88; total time=  18.5s\n"
     ]
    },
    {
     "name": "stderr",
     "output_type": "stream",
     "text": [
      "/opt/anaconda3/lib/python3.8/site-packages/sklearn/model_selection/_validation.py:593: DataConversionWarning: A column-vector y was passed when a 1d array was expected. Please change the shape of y to (n_samples,), for example using ravel().\n",
      "  estimator.fit(X_train, y_train, **fit_params)\n"
     ]
    },
    {
     "name": "stdout",
     "output_type": "stream",
     "text": [
      "[CV] END max_depth=30, max_features=4, min_samples_leaf=5, n_estimators=500, random_state=88; total time=  16.0s\n"
     ]
    },
    {
     "name": "stderr",
     "output_type": "stream",
     "text": [
      "/opt/anaconda3/lib/python3.8/site-packages/sklearn/model_selection/_validation.py:593: DataConversionWarning: A column-vector y was passed when a 1d array was expected. Please change the shape of y to (n_samples,), for example using ravel().\n",
      "  estimator.fit(X_train, y_train, **fit_params)\n"
     ]
    },
    {
     "name": "stdout",
     "output_type": "stream",
     "text": [
      "[CV] END max_depth=30, max_features=4, min_samples_leaf=5, n_estimators=500, random_state=88; total time=  18.9s\n"
     ]
    },
    {
     "name": "stderr",
     "output_type": "stream",
     "text": [
      "/opt/anaconda3/lib/python3.8/site-packages/sklearn/model_selection/_validation.py:593: DataConversionWarning: A column-vector y was passed when a 1d array was expected. Please change the shape of y to (n_samples,), for example using ravel().\n",
      "  estimator.fit(X_train, y_train, **fit_params)\n"
     ]
    },
    {
     "name": "stdout",
     "output_type": "stream",
     "text": [
      "[CV] END max_depth=30, max_features=5, min_samples_leaf=5, n_estimators=500, random_state=88; total time=  20.7s\n"
     ]
    },
    {
     "name": "stderr",
     "output_type": "stream",
     "text": [
      "/opt/anaconda3/lib/python3.8/site-packages/sklearn/model_selection/_validation.py:593: DataConversionWarning: A column-vector y was passed when a 1d array was expected. Please change the shape of y to (n_samples,), for example using ravel().\n",
      "  estimator.fit(X_train, y_train, **fit_params)\n"
     ]
    },
    {
     "name": "stdout",
     "output_type": "stream",
     "text": [
      "[CV] END max_depth=30, max_features=5, min_samples_leaf=5, n_estimators=500, random_state=88; total time=  21.6s\n"
     ]
    },
    {
     "name": "stderr",
     "output_type": "stream",
     "text": [
      "/opt/anaconda3/lib/python3.8/site-packages/sklearn/model_selection/_validation.py:593: DataConversionWarning: A column-vector y was passed when a 1d array was expected. Please change the shape of y to (n_samples,), for example using ravel().\n",
      "  estimator.fit(X_train, y_train, **fit_params)\n"
     ]
    },
    {
     "name": "stdout",
     "output_type": "stream",
     "text": [
      "[CV] END max_depth=30, max_features=5, min_samples_leaf=5, n_estimators=500, random_state=88; total time=  21.6s\n"
     ]
    },
    {
     "name": "stderr",
     "output_type": "stream",
     "text": [
      "/opt/anaconda3/lib/python3.8/site-packages/sklearn/model_selection/_validation.py:593: DataConversionWarning: A column-vector y was passed when a 1d array was expected. Please change the shape of y to (n_samples,), for example using ravel().\n",
      "  estimator.fit(X_train, y_train, **fit_params)\n"
     ]
    },
    {
     "name": "stdout",
     "output_type": "stream",
     "text": [
      "[CV] END max_depth=30, max_features=5, min_samples_leaf=5, n_estimators=500, random_state=88; total time=  21.9s\n"
     ]
    },
    {
     "name": "stderr",
     "output_type": "stream",
     "text": [
      "/opt/anaconda3/lib/python3.8/site-packages/sklearn/model_selection/_validation.py:593: DataConversionWarning: A column-vector y was passed when a 1d array was expected. Please change the shape of y to (n_samples,), for example using ravel().\n",
      "  estimator.fit(X_train, y_train, **fit_params)\n"
     ]
    },
    {
     "name": "stdout",
     "output_type": "stream",
     "text": [
      "[CV] END max_depth=30, max_features=5, min_samples_leaf=5, n_estimators=500, random_state=88; total time=  22.5s\n"
     ]
    },
    {
     "name": "stderr",
     "output_type": "stream",
     "text": [
      "/opt/anaconda3/lib/python3.8/site-packages/sklearn/model_selection/_validation.py:593: DataConversionWarning: A column-vector y was passed when a 1d array was expected. Please change the shape of y to (n_samples,), for example using ravel().\n",
      "  estimator.fit(X_train, y_train, **fit_params)\n"
     ]
    },
    {
     "name": "stdout",
     "output_type": "stream",
     "text": [
      "[CV] END max_depth=30, max_features=6, min_samples_leaf=5, n_estimators=500, random_state=88; total time=  23.9s\n"
     ]
    },
    {
     "name": "stderr",
     "output_type": "stream",
     "text": [
      "/opt/anaconda3/lib/python3.8/site-packages/sklearn/model_selection/_validation.py:593: DataConversionWarning: A column-vector y was passed when a 1d array was expected. Please change the shape of y to (n_samples,), for example using ravel().\n",
      "  estimator.fit(X_train, y_train, **fit_params)\n"
     ]
    },
    {
     "name": "stdout",
     "output_type": "stream",
     "text": [
      "[CV] END max_depth=30, max_features=6, min_samples_leaf=5, n_estimators=500, random_state=88; total time=  24.5s\n"
     ]
    },
    {
     "name": "stderr",
     "output_type": "stream",
     "text": [
      "/opt/anaconda3/lib/python3.8/site-packages/sklearn/model_selection/_validation.py:593: DataConversionWarning: A column-vector y was passed when a 1d array was expected. Please change the shape of y to (n_samples,), for example using ravel().\n",
      "  estimator.fit(X_train, y_train, **fit_params)\n"
     ]
    },
    {
     "name": "stdout",
     "output_type": "stream",
     "text": [
      "[CV] END max_depth=30, max_features=6, min_samples_leaf=5, n_estimators=500, random_state=88; total time=  25.0s\n"
     ]
    },
    {
     "name": "stderr",
     "output_type": "stream",
     "text": [
      "/opt/anaconda3/lib/python3.8/site-packages/sklearn/model_selection/_validation.py:593: DataConversionWarning: A column-vector y was passed when a 1d array was expected. Please change the shape of y to (n_samples,), for example using ravel().\n",
      "  estimator.fit(X_train, y_train, **fit_params)\n"
     ]
    },
    {
     "name": "stdout",
     "output_type": "stream",
     "text": [
      "[CV] END max_depth=30, max_features=6, min_samples_leaf=5, n_estimators=500, random_state=88; total time=  24.8s\n"
     ]
    },
    {
     "name": "stderr",
     "output_type": "stream",
     "text": [
      "/opt/anaconda3/lib/python3.8/site-packages/sklearn/model_selection/_validation.py:593: DataConversionWarning: A column-vector y was passed when a 1d array was expected. Please change the shape of y to (n_samples,), for example using ravel().\n",
      "  estimator.fit(X_train, y_train, **fit_params)\n"
     ]
    },
    {
     "name": "stdout",
     "output_type": "stream",
     "text": [
      "[CV] END max_depth=30, max_features=6, min_samples_leaf=5, n_estimators=500, random_state=88; total time=  25.2s\n"
     ]
    },
    {
     "name": "stderr",
     "output_type": "stream",
     "text": [
      "/opt/anaconda3/lib/python3.8/site-packages/sklearn/model_selection/_validation.py:593: DataConversionWarning: A column-vector y was passed when a 1d array was expected. Please change the shape of y to (n_samples,), for example using ravel().\n",
      "  estimator.fit(X_train, y_train, **fit_params)\n"
     ]
    },
    {
     "name": "stdout",
     "output_type": "stream",
     "text": [
      "[CV] END max_depth=30, max_features=7, min_samples_leaf=5, n_estimators=500, random_state=88; total time=  25.8s\n"
     ]
    },
    {
     "name": "stderr",
     "output_type": "stream",
     "text": [
      "/opt/anaconda3/lib/python3.8/site-packages/sklearn/model_selection/_validation.py:593: DataConversionWarning: A column-vector y was passed when a 1d array was expected. Please change the shape of y to (n_samples,), for example using ravel().\n",
      "  estimator.fit(X_train, y_train, **fit_params)\n"
     ]
    },
    {
     "name": "stdout",
     "output_type": "stream",
     "text": [
      "[CV] END max_depth=30, max_features=7, min_samples_leaf=5, n_estimators=500, random_state=88; total time=  27.1s\n"
     ]
    },
    {
     "name": "stderr",
     "output_type": "stream",
     "text": [
      "/opt/anaconda3/lib/python3.8/site-packages/sklearn/model_selection/_validation.py:593: DataConversionWarning: A column-vector y was passed when a 1d array was expected. Please change the shape of y to (n_samples,), for example using ravel().\n",
      "  estimator.fit(X_train, y_train, **fit_params)\n"
     ]
    },
    {
     "name": "stdout",
     "output_type": "stream",
     "text": [
      "[CV] END max_depth=30, max_features=7, min_samples_leaf=5, n_estimators=500, random_state=88; total time=  27.3s\n"
     ]
    },
    {
     "name": "stderr",
     "output_type": "stream",
     "text": [
      "/opt/anaconda3/lib/python3.8/site-packages/sklearn/model_selection/_validation.py:593: DataConversionWarning: A column-vector y was passed when a 1d array was expected. Please change the shape of y to (n_samples,), for example using ravel().\n",
      "  estimator.fit(X_train, y_train, **fit_params)\n"
     ]
    },
    {
     "name": "stdout",
     "output_type": "stream",
     "text": [
      "[CV] END max_depth=30, max_features=7, min_samples_leaf=5, n_estimators=500, random_state=88; total time=  27.9s\n"
     ]
    },
    {
     "name": "stderr",
     "output_type": "stream",
     "text": [
      "/opt/anaconda3/lib/python3.8/site-packages/sklearn/model_selection/_validation.py:593: DataConversionWarning: A column-vector y was passed when a 1d array was expected. Please change the shape of y to (n_samples,), for example using ravel().\n",
      "  estimator.fit(X_train, y_train, **fit_params)\n"
     ]
    },
    {
     "name": "stdout",
     "output_type": "stream",
     "text": [
      "[CV] END max_depth=30, max_features=7, min_samples_leaf=5, n_estimators=500, random_state=88; total time=  28.5s\n"
     ]
    },
    {
     "name": "stderr",
     "output_type": "stream",
     "text": [
      "/opt/anaconda3/lib/python3.8/site-packages/sklearn/model_selection/_validation.py:593: DataConversionWarning: A column-vector y was passed when a 1d array was expected. Please change the shape of y to (n_samples,), for example using ravel().\n",
      "  estimator.fit(X_train, y_train, **fit_params)\n"
     ]
    },
    {
     "name": "stdout",
     "output_type": "stream",
     "text": [
      "[CV] END max_depth=30, max_features=8, min_samples_leaf=5, n_estimators=500, random_state=88; total time=  27.8s\n"
     ]
    },
    {
     "name": "stderr",
     "output_type": "stream",
     "text": [
      "/opt/anaconda3/lib/python3.8/site-packages/sklearn/model_selection/_validation.py:593: DataConversionWarning: A column-vector y was passed when a 1d array was expected. Please change the shape of y to (n_samples,), for example using ravel().\n",
      "  estimator.fit(X_train, y_train, **fit_params)\n"
     ]
    },
    {
     "name": "stdout",
     "output_type": "stream",
     "text": [
      "[CV] END max_depth=30, max_features=8, min_samples_leaf=5, n_estimators=500, random_state=88; total time=  28.8s\n"
     ]
    },
    {
     "name": "stderr",
     "output_type": "stream",
     "text": [
      "/opt/anaconda3/lib/python3.8/site-packages/sklearn/model_selection/_validation.py:593: DataConversionWarning: A column-vector y was passed when a 1d array was expected. Please change the shape of y to (n_samples,), for example using ravel().\n",
      "  estimator.fit(X_train, y_train, **fit_params)\n"
     ]
    },
    {
     "name": "stdout",
     "output_type": "stream",
     "text": [
      "[CV] END max_depth=30, max_features=8, min_samples_leaf=5, n_estimators=500, random_state=88; total time=  30.1s\n"
     ]
    },
    {
     "name": "stderr",
     "output_type": "stream",
     "text": [
      "/opt/anaconda3/lib/python3.8/site-packages/sklearn/model_selection/_validation.py:593: DataConversionWarning: A column-vector y was passed when a 1d array was expected. Please change the shape of y to (n_samples,), for example using ravel().\n",
      "  estimator.fit(X_train, y_train, **fit_params)\n"
     ]
    },
    {
     "name": "stdout",
     "output_type": "stream",
     "text": [
      "[CV] END max_depth=30, max_features=8, min_samples_leaf=5, n_estimators=500, random_state=88; total time=  30.2s\n"
     ]
    },
    {
     "name": "stderr",
     "output_type": "stream",
     "text": [
      "/opt/anaconda3/lib/python3.8/site-packages/sklearn/model_selection/_validation.py:593: DataConversionWarning: A column-vector y was passed when a 1d array was expected. Please change the shape of y to (n_samples,), for example using ravel().\n",
      "  estimator.fit(X_train, y_train, **fit_params)\n"
     ]
    },
    {
     "name": "stdout",
     "output_type": "stream",
     "text": [
      "[CV] END max_depth=30, max_features=8, min_samples_leaf=5, n_estimators=500, random_state=88; total time=  30.5s\n"
     ]
    },
    {
     "name": "stderr",
     "output_type": "stream",
     "text": [
      "/opt/anaconda3/lib/python3.8/site-packages/sklearn/model_selection/_validation.py:593: DataConversionWarning: A column-vector y was passed when a 1d array was expected. Please change the shape of y to (n_samples,), for example using ravel().\n",
      "  estimator.fit(X_train, y_train, **fit_params)\n"
     ]
    },
    {
     "name": "stdout",
     "output_type": "stream",
     "text": [
      "[CV] END max_depth=30, max_features=9, min_samples_leaf=5, n_estimators=500, random_state=88; total time=  29.6s\n"
     ]
    },
    {
     "name": "stderr",
     "output_type": "stream",
     "text": [
      "/opt/anaconda3/lib/python3.8/site-packages/sklearn/model_selection/_validation.py:593: DataConversionWarning: A column-vector y was passed when a 1d array was expected. Please change the shape of y to (n_samples,), for example using ravel().\n",
      "  estimator.fit(X_train, y_train, **fit_params)\n"
     ]
    },
    {
     "name": "stdout",
     "output_type": "stream",
     "text": [
      "[CV] END max_depth=30, max_features=9, min_samples_leaf=5, n_estimators=500, random_state=88; total time=  31.0s\n"
     ]
    },
    {
     "name": "stderr",
     "output_type": "stream",
     "text": [
      "/opt/anaconda3/lib/python3.8/site-packages/sklearn/model_selection/_validation.py:593: DataConversionWarning: A column-vector y was passed when a 1d array was expected. Please change the shape of y to (n_samples,), for example using ravel().\n",
      "  estimator.fit(X_train, y_train, **fit_params)\n"
     ]
    },
    {
     "name": "stdout",
     "output_type": "stream",
     "text": [
      "[CV] END max_depth=30, max_features=9, min_samples_leaf=5, n_estimators=500, random_state=88; total time=  32.2s\n"
     ]
    },
    {
     "name": "stderr",
     "output_type": "stream",
     "text": [
      "/opt/anaconda3/lib/python3.8/site-packages/sklearn/model_selection/_validation.py:593: DataConversionWarning: A column-vector y was passed when a 1d array was expected. Please change the shape of y to (n_samples,), for example using ravel().\n",
      "  estimator.fit(X_train, y_train, **fit_params)\n"
     ]
    },
    {
     "name": "stdout",
     "output_type": "stream",
     "text": [
      "[CV] END max_depth=30, max_features=9, min_samples_leaf=5, n_estimators=500, random_state=88; total time= 2.8min\n"
     ]
    },
    {
     "name": "stderr",
     "output_type": "stream",
     "text": [
      "/opt/anaconda3/lib/python3.8/site-packages/sklearn/model_selection/_validation.py:593: DataConversionWarning: A column-vector y was passed when a 1d array was expected. Please change the shape of y to (n_samples,), for example using ravel().\n",
      "  estimator.fit(X_train, y_train, **fit_params)\n"
     ]
    },
    {
     "name": "stdout",
     "output_type": "stream",
     "text": [
      "[CV] END max_depth=30, max_features=9, min_samples_leaf=5, n_estimators=500, random_state=88; total time=  30.2s\n"
     ]
    },
    {
     "name": "stderr",
     "output_type": "stream",
     "text": [
      "/opt/anaconda3/lib/python3.8/site-packages/sklearn/model_selection/_validation.py:593: DataConversionWarning: A column-vector y was passed when a 1d array was expected. Please change the shape of y to (n_samples,), for example using ravel().\n",
      "  estimator.fit(X_train, y_train, **fit_params)\n"
     ]
    },
    {
     "name": "stdout",
     "output_type": "stream",
     "text": [
      "[CV] END max_depth=30, max_features=10, min_samples_leaf=5, n_estimators=500, random_state=88; total time=  31.7s\n"
     ]
    },
    {
     "name": "stderr",
     "output_type": "stream",
     "text": [
      "/opt/anaconda3/lib/python3.8/site-packages/sklearn/model_selection/_validation.py:593: DataConversionWarning: A column-vector y was passed when a 1d array was expected. Please change the shape of y to (n_samples,), for example using ravel().\n",
      "  estimator.fit(X_train, y_train, **fit_params)\n"
     ]
    },
    {
     "name": "stdout",
     "output_type": "stream",
     "text": [
      "[CV] END max_depth=30, max_features=10, min_samples_leaf=5, n_estimators=500, random_state=88; total time=  33.2s\n"
     ]
    },
    {
     "name": "stderr",
     "output_type": "stream",
     "text": [
      "/opt/anaconda3/lib/python3.8/site-packages/sklearn/model_selection/_validation.py:593: DataConversionWarning: A column-vector y was passed when a 1d array was expected. Please change the shape of y to (n_samples,), for example using ravel().\n",
      "  estimator.fit(X_train, y_train, **fit_params)\n"
     ]
    },
    {
     "name": "stdout",
     "output_type": "stream",
     "text": [
      "[CV] END max_depth=30, max_features=10, min_samples_leaf=5, n_estimators=500, random_state=88; total time=  34.9s\n"
     ]
    },
    {
     "name": "stderr",
     "output_type": "stream",
     "text": [
      "/opt/anaconda3/lib/python3.8/site-packages/sklearn/model_selection/_validation.py:593: DataConversionWarning: A column-vector y was passed when a 1d array was expected. Please change the shape of y to (n_samples,), for example using ravel().\n",
      "  estimator.fit(X_train, y_train, **fit_params)\n"
     ]
    },
    {
     "name": "stdout",
     "output_type": "stream",
     "text": [
      "[CV] END max_depth=30, max_features=10, min_samples_leaf=5, n_estimators=500, random_state=88; total time=  34.6s\n"
     ]
    },
    {
     "name": "stderr",
     "output_type": "stream",
     "text": [
      "/opt/anaconda3/lib/python3.8/site-packages/sklearn/model_selection/_validation.py:593: DataConversionWarning: A column-vector y was passed when a 1d array was expected. Please change the shape of y to (n_samples,), for example using ravel().\n",
      "  estimator.fit(X_train, y_train, **fit_params)\n"
     ]
    },
    {
     "name": "stdout",
     "output_type": "stream",
     "text": [
      "[CV] END max_depth=30, max_features=10, min_samples_leaf=5, n_estimators=500, random_state=88; total time=  34.8s\n"
     ]
    },
    {
     "name": "stderr",
     "output_type": "stream",
     "text": [
      "/opt/anaconda3/lib/python3.8/site-packages/sklearn/model_selection/_validation.py:593: DataConversionWarning: A column-vector y was passed when a 1d array was expected. Please change the shape of y to (n_samples,), for example using ravel().\n",
      "  estimator.fit(X_train, y_train, **fit_params)\n"
     ]
    },
    {
     "name": "stdout",
     "output_type": "stream",
     "text": [
      "[CV] END max_depth=30, max_features=11, min_samples_leaf=5, n_estimators=500, random_state=88; total time=  33.5s\n"
     ]
    },
    {
     "name": "stderr",
     "output_type": "stream",
     "text": [
      "/opt/anaconda3/lib/python3.8/site-packages/sklearn/model_selection/_validation.py:593: DataConversionWarning: A column-vector y was passed when a 1d array was expected. Please change the shape of y to (n_samples,), for example using ravel().\n",
      "  estimator.fit(X_train, y_train, **fit_params)\n"
     ]
    },
    {
     "name": "stdout",
     "output_type": "stream",
     "text": [
      "[CV] END max_depth=30, max_features=11, min_samples_leaf=5, n_estimators=500, random_state=88; total time=  35.3s\n"
     ]
    },
    {
     "name": "stderr",
     "output_type": "stream",
     "text": [
      "/opt/anaconda3/lib/python3.8/site-packages/sklearn/model_selection/_validation.py:593: DataConversionWarning: A column-vector y was passed when a 1d array was expected. Please change the shape of y to (n_samples,), for example using ravel().\n",
      "  estimator.fit(X_train, y_train, **fit_params)\n"
     ]
    },
    {
     "name": "stdout",
     "output_type": "stream",
     "text": [
      "[CV] END max_depth=30, max_features=11, min_samples_leaf=5, n_estimators=500, random_state=88; total time=  36.6s\n"
     ]
    },
    {
     "name": "stderr",
     "output_type": "stream",
     "text": [
      "/opt/anaconda3/lib/python3.8/site-packages/sklearn/model_selection/_validation.py:593: DataConversionWarning: A column-vector y was passed when a 1d array was expected. Please change the shape of y to (n_samples,), for example using ravel().\n",
      "  estimator.fit(X_train, y_train, **fit_params)\n"
     ]
    },
    {
     "name": "stdout",
     "output_type": "stream",
     "text": [
      "[CV] END max_depth=30, max_features=11, min_samples_leaf=5, n_estimators=500, random_state=88; total time=  36.6s\n"
     ]
    },
    {
     "name": "stderr",
     "output_type": "stream",
     "text": [
      "/opt/anaconda3/lib/python3.8/site-packages/sklearn/model_selection/_validation.py:593: DataConversionWarning: A column-vector y was passed when a 1d array was expected. Please change the shape of y to (n_samples,), for example using ravel().\n",
      "  estimator.fit(X_train, y_train, **fit_params)\n"
     ]
    },
    {
     "name": "stdout",
     "output_type": "stream",
     "text": [
      "[CV] END max_depth=30, max_features=11, min_samples_leaf=5, n_estimators=500, random_state=88; total time=  37.3s\n"
     ]
    },
    {
     "name": "stderr",
     "output_type": "stream",
     "text": [
      "/opt/anaconda3/lib/python3.8/site-packages/sklearn/model_selection/_validation.py:593: DataConversionWarning: A column-vector y was passed when a 1d array was expected. Please change the shape of y to (n_samples,), for example using ravel().\n",
      "  estimator.fit(X_train, y_train, **fit_params)\n"
     ]
    },
    {
     "name": "stdout",
     "output_type": "stream",
     "text": [
      "[CV] END max_depth=30, max_features=12, min_samples_leaf=5, n_estimators=500, random_state=88; total time=  35.2s\n"
     ]
    },
    {
     "name": "stderr",
     "output_type": "stream",
     "text": [
      "/opt/anaconda3/lib/python3.8/site-packages/sklearn/model_selection/_validation.py:593: DataConversionWarning: A column-vector y was passed when a 1d array was expected. Please change the shape of y to (n_samples,), for example using ravel().\n",
      "  estimator.fit(X_train, y_train, **fit_params)\n"
     ]
    },
    {
     "name": "stdout",
     "output_type": "stream",
     "text": [
      "[CV] END max_depth=30, max_features=12, min_samples_leaf=5, n_estimators=500, random_state=88; total time=  36.7s\n"
     ]
    },
    {
     "name": "stderr",
     "output_type": "stream",
     "text": [
      "/opt/anaconda3/lib/python3.8/site-packages/sklearn/model_selection/_validation.py:593: DataConversionWarning: A column-vector y was passed when a 1d array was expected. Please change the shape of y to (n_samples,), for example using ravel().\n",
      "  estimator.fit(X_train, y_train, **fit_params)\n"
     ]
    },
    {
     "name": "stdout",
     "output_type": "stream",
     "text": [
      "[CV] END max_depth=30, max_features=12, min_samples_leaf=5, n_estimators=500, random_state=88; total time=  38.7s\n"
     ]
    },
    {
     "name": "stderr",
     "output_type": "stream",
     "text": [
      "/opt/anaconda3/lib/python3.8/site-packages/sklearn/model_selection/_validation.py:593: DataConversionWarning: A column-vector y was passed when a 1d array was expected. Please change the shape of y to (n_samples,), for example using ravel().\n",
      "  estimator.fit(X_train, y_train, **fit_params)\n"
     ]
    },
    {
     "name": "stdout",
     "output_type": "stream",
     "text": [
      "[CV] END max_depth=30, max_features=12, min_samples_leaf=5, n_estimators=500, random_state=88; total time= 4.7min\n"
     ]
    },
    {
     "name": "stderr",
     "output_type": "stream",
     "text": [
      "/opt/anaconda3/lib/python3.8/site-packages/sklearn/model_selection/_validation.py:593: DataConversionWarning: A column-vector y was passed when a 1d array was expected. Please change the shape of y to (n_samples,), for example using ravel().\n",
      "  estimator.fit(X_train, y_train, **fit_params)\n"
     ]
    },
    {
     "name": "stdout",
     "output_type": "stream",
     "text": [
      "[CV] END max_depth=30, max_features=12, min_samples_leaf=5, n_estimators=500, random_state=88; total time=  37.3s\n"
     ]
    },
    {
     "name": "stderr",
     "output_type": "stream",
     "text": [
      "/opt/anaconda3/lib/python3.8/site-packages/sklearn/model_selection/_validation.py:593: DataConversionWarning: A column-vector y was passed when a 1d array was expected. Please change the shape of y to (n_samples,), for example using ravel().\n",
      "  estimator.fit(X_train, y_train, **fit_params)\n"
     ]
    },
    {
     "name": "stdout",
     "output_type": "stream",
     "text": [
      "[CV] END max_depth=30, max_features=13, min_samples_leaf=5, n_estimators=500, random_state=88; total time=  37.2s\n"
     ]
    },
    {
     "name": "stderr",
     "output_type": "stream",
     "text": [
      "/opt/anaconda3/lib/python3.8/site-packages/sklearn/model_selection/_validation.py:593: DataConversionWarning: A column-vector y was passed when a 1d array was expected. Please change the shape of y to (n_samples,), for example using ravel().\n",
      "  estimator.fit(X_train, y_train, **fit_params)\n"
     ]
    },
    {
     "name": "stdout",
     "output_type": "stream",
     "text": [
      "[CV] END max_depth=30, max_features=13, min_samples_leaf=5, n_estimators=500, random_state=88; total time=  38.3s\n"
     ]
    },
    {
     "name": "stderr",
     "output_type": "stream",
     "text": [
      "/opt/anaconda3/lib/python3.8/site-packages/sklearn/model_selection/_validation.py:593: DataConversionWarning: A column-vector y was passed when a 1d array was expected. Please change the shape of y to (n_samples,), for example using ravel().\n",
      "  estimator.fit(X_train, y_train, **fit_params)\n"
     ]
    },
    {
     "name": "stdout",
     "output_type": "stream",
     "text": [
      "[CV] END max_depth=30, max_features=13, min_samples_leaf=5, n_estimators=500, random_state=88; total time=  40.9s\n"
     ]
    },
    {
     "name": "stderr",
     "output_type": "stream",
     "text": [
      "/opt/anaconda3/lib/python3.8/site-packages/sklearn/model_selection/_validation.py:593: DataConversionWarning: A column-vector y was passed when a 1d array was expected. Please change the shape of y to (n_samples,), for example using ravel().\n",
      "  estimator.fit(X_train, y_train, **fit_params)\n"
     ]
    },
    {
     "name": "stdout",
     "output_type": "stream",
     "text": [
      "[CV] END max_depth=30, max_features=13, min_samples_leaf=5, n_estimators=500, random_state=88; total time=  41.1s\n"
     ]
    },
    {
     "name": "stderr",
     "output_type": "stream",
     "text": [
      "/opt/anaconda3/lib/python3.8/site-packages/sklearn/model_selection/_validation.py:593: DataConversionWarning: A column-vector y was passed when a 1d array was expected. Please change the shape of y to (n_samples,), for example using ravel().\n",
      "  estimator.fit(X_train, y_train, **fit_params)\n"
     ]
    },
    {
     "name": "stdout",
     "output_type": "stream",
     "text": [
      "[CV] END max_depth=30, max_features=13, min_samples_leaf=5, n_estimators=500, random_state=88; total time=  41.9s\n"
     ]
    },
    {
     "name": "stderr",
     "output_type": "stream",
     "text": [
      "/opt/anaconda3/lib/python3.8/site-packages/sklearn/model_selection/_validation.py:593: DataConversionWarning: A column-vector y was passed when a 1d array was expected. Please change the shape of y to (n_samples,), for example using ravel().\n",
      "  estimator.fit(X_train, y_train, **fit_params)\n"
     ]
    },
    {
     "name": "stdout",
     "output_type": "stream",
     "text": [
      "[CV] END max_depth=30, max_features=14, min_samples_leaf=5, n_estimators=500, random_state=88; total time=  38.7s\n"
     ]
    },
    {
     "name": "stderr",
     "output_type": "stream",
     "text": [
      "/opt/anaconda3/lib/python3.8/site-packages/sklearn/model_selection/_validation.py:593: DataConversionWarning: A column-vector y was passed when a 1d array was expected. Please change the shape of y to (n_samples,), for example using ravel().\n",
      "  estimator.fit(X_train, y_train, **fit_params)\n"
     ]
    },
    {
     "name": "stdout",
     "output_type": "stream",
     "text": [
      "[CV] END max_depth=30, max_features=14, min_samples_leaf=5, n_estimators=500, random_state=88; total time=  40.1s\n"
     ]
    },
    {
     "name": "stderr",
     "output_type": "stream",
     "text": [
      "/opt/anaconda3/lib/python3.8/site-packages/sklearn/model_selection/_validation.py:593: DataConversionWarning: A column-vector y was passed when a 1d array was expected. Please change the shape of y to (n_samples,), for example using ravel().\n",
      "  estimator.fit(X_train, y_train, **fit_params)\n"
     ]
    },
    {
     "name": "stdout",
     "output_type": "stream",
     "text": [
      "[CV] END max_depth=30, max_features=14, min_samples_leaf=5, n_estimators=500, random_state=88; total time=  42.9s\n"
     ]
    },
    {
     "name": "stderr",
     "output_type": "stream",
     "text": [
      "/opt/anaconda3/lib/python3.8/site-packages/sklearn/model_selection/_validation.py:593: DataConversionWarning: A column-vector y was passed when a 1d array was expected. Please change the shape of y to (n_samples,), for example using ravel().\n",
      "  estimator.fit(X_train, y_train, **fit_params)\n"
     ]
    },
    {
     "name": "stdout",
     "output_type": "stream",
     "text": [
      "[CV] END max_depth=30, max_features=14, min_samples_leaf=5, n_estimators=500, random_state=88; total time=  43.3s\n"
     ]
    },
    {
     "name": "stderr",
     "output_type": "stream",
     "text": [
      "/opt/anaconda3/lib/python3.8/site-packages/sklearn/model_selection/_validation.py:593: DataConversionWarning: A column-vector y was passed when a 1d array was expected. Please change the shape of y to (n_samples,), for example using ravel().\n",
      "  estimator.fit(X_train, y_train, **fit_params)\n"
     ]
    },
    {
     "name": "stdout",
     "output_type": "stream",
     "text": [
      "[CV] END max_depth=30, max_features=14, min_samples_leaf=5, n_estimators=500, random_state=88; total time=  44.4s\n"
     ]
    },
    {
     "name": "stderr",
     "output_type": "stream",
     "text": [
      "/opt/anaconda3/lib/python3.8/site-packages/sklearn/model_selection/_validation.py:593: DataConversionWarning: A column-vector y was passed when a 1d array was expected. Please change the shape of y to (n_samples,), for example using ravel().\n",
      "  estimator.fit(X_train, y_train, **fit_params)\n"
     ]
    },
    {
     "name": "stdout",
     "output_type": "stream",
     "text": [
      "[CV] END max_depth=30, max_features=15, min_samples_leaf=5, n_estimators=500, random_state=88; total time=  41.2s\n"
     ]
    },
    {
     "name": "stderr",
     "output_type": "stream",
     "text": [
      "/opt/anaconda3/lib/python3.8/site-packages/sklearn/model_selection/_validation.py:593: DataConversionWarning: A column-vector y was passed when a 1d array was expected. Please change the shape of y to (n_samples,), for example using ravel().\n",
      "  estimator.fit(X_train, y_train, **fit_params)\n"
     ]
    },
    {
     "name": "stdout",
     "output_type": "stream",
     "text": [
      "[CV] END max_depth=30, max_features=15, min_samples_leaf=5, n_estimators=500, random_state=88; total time=  42.7s\n"
     ]
    },
    {
     "name": "stderr",
     "output_type": "stream",
     "text": [
      "/opt/anaconda3/lib/python3.8/site-packages/sklearn/model_selection/_validation.py:593: DataConversionWarning: A column-vector y was passed when a 1d array was expected. Please change the shape of y to (n_samples,), for example using ravel().\n",
      "  estimator.fit(X_train, y_train, **fit_params)\n"
     ]
    },
    {
     "name": "stdout",
     "output_type": "stream",
     "text": [
      "[CV] END max_depth=30, max_features=15, min_samples_leaf=5, n_estimators=500, random_state=88; total time=  45.2s\n"
     ]
    },
    {
     "name": "stderr",
     "output_type": "stream",
     "text": [
      "/opt/anaconda3/lib/python3.8/site-packages/sklearn/model_selection/_validation.py:593: DataConversionWarning: A column-vector y was passed when a 1d array was expected. Please change the shape of y to (n_samples,), for example using ravel().\n",
      "  estimator.fit(X_train, y_train, **fit_params)\n"
     ]
    },
    {
     "name": "stdout",
     "output_type": "stream",
     "text": [
      "[CV] END max_depth=30, max_features=15, min_samples_leaf=5, n_estimators=500, random_state=88; total time=  45.0s\n"
     ]
    },
    {
     "name": "stderr",
     "output_type": "stream",
     "text": [
      "/opt/anaconda3/lib/python3.8/site-packages/sklearn/model_selection/_validation.py:593: DataConversionWarning: A column-vector y was passed when a 1d array was expected. Please change the shape of y to (n_samples,), for example using ravel().\n",
      "  estimator.fit(X_train, y_train, **fit_params)\n"
     ]
    },
    {
     "name": "stdout",
     "output_type": "stream",
     "text": [
      "[CV] END max_depth=30, max_features=15, min_samples_leaf=5, n_estimators=500, random_state=88; total time=  45.6s\n"
     ]
    },
    {
     "name": "stderr",
     "output_type": "stream",
     "text": [
      "/opt/anaconda3/lib/python3.8/site-packages/sklearn/model_selection/_validation.py:593: DataConversionWarning: A column-vector y was passed when a 1d array was expected. Please change the shape of y to (n_samples,), for example using ravel().\n",
      "  estimator.fit(X_train, y_train, **fit_params)\n"
     ]
    },
    {
     "name": "stdout",
     "output_type": "stream",
     "text": [
      "[CV] END max_depth=30, max_features=16, min_samples_leaf=5, n_estimators=500, random_state=88; total time=  42.4s\n"
     ]
    },
    {
     "name": "stderr",
     "output_type": "stream",
     "text": [
      "/opt/anaconda3/lib/python3.8/site-packages/sklearn/model_selection/_validation.py:593: DataConversionWarning: A column-vector y was passed when a 1d array was expected. Please change the shape of y to (n_samples,), for example using ravel().\n",
      "  estimator.fit(X_train, y_train, **fit_params)\n"
     ]
    },
    {
     "name": "stdout",
     "output_type": "stream",
     "text": [
      "[CV] END max_depth=30, max_features=16, min_samples_leaf=5, n_estimators=500, random_state=88; total time= 5.8min\n"
     ]
    },
    {
     "name": "stderr",
     "output_type": "stream",
     "text": [
      "/opt/anaconda3/lib/python3.8/site-packages/sklearn/model_selection/_validation.py:593: DataConversionWarning: A column-vector y was passed when a 1d array was expected. Please change the shape of y to (n_samples,), for example using ravel().\n",
      "  estimator.fit(X_train, y_train, **fit_params)\n"
     ]
    }
   ],
   "source": [
    "# find suitable parameters\n",
    "# other parameters are given in 242 lab\n",
    "from sklearn.model_selection import GridSearchCV\n",
    "from sklearn.ensemble import RandomForestClassifier\n",
    "import time\n",
    "\n",
    "def tpr(y_true, y_pred):\n",
    "    cm = confusion_matrix(y_true, y_pred)\n",
    "    tpr = cm.ravel()[3] / (cm.ravel()[2] + cm.ravel()[3])\n",
    "    \n",
    "    return tpr\n",
    "\n",
    "def fpr(y_true, y_pred):\n",
    "    cm = confusion_matrix(y_true, y_pred)\n",
    "    fpr = cm.ravel()[1] / (cm.ravel()[0] + cm.ravel()[1])\n",
    "    \n",
    "    return fpr\n",
    "\n",
    "grid_values = {'max_features': np.linspace(1,98,98, dtype='int32'),\n",
    "               'min_samples_leaf': [5],\n",
    "               'max_depth':[30],\n",
    "               'n_estimators': [500],\n",
    "               'random_state': [88]} \n",
    "\n",
    "tic = time.time()\n",
    "\n",
    "rf2 = RandomForestClassifier() \n",
    "rf_cv = GridSearchCV(rf2, param_grid=grid_values, \n",
    "                     scoring={'tpr':make_scorer(tpr), 'fpr':make_scorer(fpr,greater_is_better=False)}, \n",
    "                     cv=5, verbose=2, refit=False)\n",
    "rf_cv.fit(X1_train_enc, y1_train_enc)\n",
    "\n",
    "toc = time.time()\n",
    "\n",
    "print('time:', round(toc-tic, 2),'s')"
   ]
  },
  {
   "cell_type": "markdown",
   "metadata": {},
   "source": [
    "#### Feature Importance for Random Forest"
   ]
  },
  {
   "cell_type": "code",
   "execution_count": null,
   "metadata": {},
   "outputs": [],
   "source": [
    "# importance score \n",
    "importance_score = pd.DataFrame({'Feature' : X1_train_enc.columns, \n",
    "              'Importance score': 100*rf_cv.best_estimator_.feature_importances_}).round(1)"
   ]
  },
  {
   "cell_type": "code",
   "execution_count": null,
   "metadata": {
    "scrolled": true
   },
   "outputs": [],
   "source": [
    "# top 50 importance score\n",
    "top50_is = importance_score.sort_values('Importance score',ascending=False).head(50)\n",
    "top50_is"
   ]
  },
  {
   "cell_type": "markdown",
   "metadata": {},
   "source": [
    "### Visualization"
   ]
  },
  {
   "cell_type": "code",
   "execution_count": null,
   "metadata": {},
   "outputs": [],
   "source": [
    "# prepare for visualization\n",
    "ad_imp2clk_Vis = ad_imp2clk.copy()"
   ]
  },
  {
   "cell_type": "markdown",
   "metadata": {},
   "source": [
    "#### distribution of `Paying Price` based on `has click`"
   ]
  },
  {
   "cell_type": "code",
   "execution_count": null,
   "metadata": {},
   "outputs": [],
   "source": [
    "# mapping the label name \n",
    "has_click = {0 : 'not click', 1 :'click'}"
   ]
  },
  {
   "cell_type": "code",
   "execution_count": null,
   "metadata": {},
   "outputs": [],
   "source": [
    "ad_imp2clk_Vis['has click'] = ad_imp2clk_Vis['has click'].map(has_click)"
   ]
  },
  {
   "cell_type": "code",
   "execution_count": null,
   "metadata": {},
   "outputs": [],
   "source": [
    "ad_imp2clk_Vis['has click'].head()"
   ]
  },
  {
   "cell_type": "code",
   "execution_count": null,
   "metadata": {},
   "outputs": [],
   "source": [
    "import seaborn as sns\n",
    "sns.set_theme(style='whitegrid')\n",
    "ax = sns.boxplot(x='has click', y='Paying Price', data=ad_imp2clk_Vis)"
   ]
  },
  {
   "cell_type": "markdown",
   "metadata": {},
   "source": [
    "#### user profile `11278` based on `has click`"
   ]
  },
  {
   "cell_type": "code",
   "execution_count": null,
   "metadata": {},
   "outputs": [],
   "source": [
    "ad_imp2clk_Vis.groupby('has click').sum()['11278']"
   ]
  },
  {
   "cell_type": "code",
   "execution_count": null,
   "metadata": {},
   "outputs": [],
   "source": [
    "ad_imp_NoClk = ad_imp2clk[ad_imp2clk['has click'] == 0]"
   ]
  },
  {
   "cell_type": "code",
   "execution_count": null,
   "metadata": {},
   "outputs": [],
   "source": [
    "# click\n",
    "ad_clk['11278'].value_counts()"
   ]
  },
  {
   "cell_type": "code",
   "execution_count": null,
   "metadata": {},
   "outputs": [],
   "source": [
    "# not click\n",
    "ad_imp_NoClk['11278'].value_counts()"
   ]
  },
  {
   "cell_type": "code",
   "execution_count": null,
   "metadata": {},
   "outputs": [],
   "source": [
    "# 11278: In-market/clothing、shoes&bags\n",
    "from IPython.display import Image\n",
    "Image(filename='/Users/jzw/Downloads/0 CAPSTONE/ipinyou.contest.dataset/data_exploration/11278.png') "
   ]
  },
  {
   "cell_type": "markdown",
   "metadata": {},
   "source": [
    "#### `Paying price` and  `has click`"
   ]
  },
  {
   "cell_type": "code",
   "execution_count": null,
   "metadata": {},
   "outputs": [],
   "source": [
    "fig, ax = plt.subplots()\n",
    "groups = ad_imp2clk.groupby('Region ID_clicks')\n",
    "ax.margins(0.05)\n",
    "for name, group in groups:\n",
    "    ax.plot(group['Paying Price'], group['has click'], marker='o', linestyle='', ms=12, label=name)\n",
    "# ax.legend(loc='best')\n",
    "plt.ylim([-0.01, 1.04])\n",
    "plt.xlabel('Paying Price')\n",
    "plt.ylabel('click label')"
   ]
  },
  {
   "cell_type": "markdown",
   "metadata": {},
   "source": [
    "#### `Timestamp` and `has click` "
   ]
  },
  {
   "cell_type": "code",
   "execution_count": null,
   "metadata": {},
   "outputs": [],
   "source": [
    "import matplotlib\n",
    "import matplotlib.pyplot as plt\n",
    "\n",
    "plt.figure()\n",
    "plt.scatter(ad_imp2clk['Timestamp_imp'], ad_imp2clk['has click'])\n",
    "plt.ylim([-0.01, 1.00])\n",
    "plt.xlabel('Timestamp')\n",
    "plt.ylabel('click label')"
   ]
  },
  {
   "cell_type": "code",
   "execution_count": null,
   "metadata": {},
   "outputs": [],
   "source": [
    "import matplotlib\n",
    "import matplotlib.pyplot as plt\n",
    "import numpy as np\n",
    "\n",
    "x = [4,8,12,16,1,4,9,16]\n",
    "y = [1,4,9,16,4,8,12,3]\n",
    "label = [0,1,2,3,0,1,2,3]\n",
    "colors = ['red','green','blue','purple']\n",
    "\n",
    "fig = plt.figure(figsize=(8,8))\n",
    "plt.scatter(x, y, c=label, cmap=matplotlib.colors.ListedColormap(colors))\n",
    "\n",
    "cb = plt.colorbar()\n",
    "loc = np.arange(0,max(label),max(label)/float(len(colors)))\n",
    "cb.set_ticks(loc)\n",
    "cb.set_ticklabels(colors)\n"
   ]
  },
  {
   "cell_type": "code",
   "execution_count": null,
   "metadata": {},
   "outputs": [],
   "source": []
  }
 ],
 "metadata": {
  "colab": {
   "collapsed_sections": [],
   "name": "Data Modeling.ipynb",
   "provenance": []
  },
  "kernelspec": {
   "display_name": "Python 3",
   "language": "python",
   "name": "python3"
  },
  "language_info": {
   "codemirror_mode": {
    "name": "ipython",
    "version": 3
   },
   "file_extension": ".py",
   "mimetype": "text/x-python",
   "name": "python",
   "nbconvert_exporter": "python",
   "pygments_lexer": "ipython3",
   "version": "3.8.8"
  }
 },
 "nbformat": 4,
 "nbformat_minor": 1
}
