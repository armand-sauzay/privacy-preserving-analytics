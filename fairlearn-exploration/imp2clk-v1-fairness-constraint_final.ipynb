{
 "cells": [
  {
   "cell_type": "markdown",
   "metadata": {},
   "source": [
    "### Record"
   ]
  },
  {
   "cell_type": "markdown",
   "metadata": {},
   "source": [
    "This version is used for comparing the tradeoff\n",
    "\n",
    "** Prepare two datasets for training and extracting sensitive attributes separately\n",
    "1. Traning dataset: get dummy variables for gender\n",
    "2. Sensitive attribute: gender is set to object\n",
    "\n",
    "roc_auc needs predicted probability\n",
    "what is selection rate? do we need it?\n",
    "which dataset to use for predictions?\n",
    "\n",
    "----\n",
    "Process\n",
    "1. Data preparation\n",
    "   * \\# of rows: 131097, # of clicks: 6091\n",
    "   * choose gender as sensitive attribute \n",
    "   * \\# of rows: 131097 -> 88652\n",
    " \n",
    "2. Choose baseline model\n",
    "    * logitsic regression predicting all the obs to 0\n",
    "        * tpr and fpr are 0 when c changes from 0.01 to 10000\n",
    "    * label predictions of cart changes as ccp_alpha changes\n",
    "        * use default threshold\n",
    "        * choose ccp_alpha in terms of tpr and fpr\n",
    "3. Evaluate fairness in the baseline model using testing data\n",
    "4. Incorparate fairness constraint\n",
    "    * default\n",
    "    * a list of difference_bound\n",
    "    * a list of ratio_bound\n",
    "5. Tradeoff \n",
    "    * percentage change of auc\n",
    "    * percentage change of F1-score\n",
    "    * percentage change of tpr and fpr\n",
    "----\n",
    "\n",
    "Question\n",
    "\n",
    "1. What metrics to use for choosing hyperparameters in cart and random forest?\n",
    "2. Can we implement logistic regression in fairlearn?\n"
   ]
  },
  {
   "cell_type": "code",
   "execution_count": 1,
   "metadata": {},
   "outputs": [],
   "source": [
    "import pandas as pd\n",
    "import numpy as np\n",
    "import datetime as dt\n",
    "import matplotlib.pyplot as plt \n",
    "import seaborn as sns\n",
    "from sklearn.ensemble import RandomForestClassifier\n",
    "from sklearn.tree import DecisionTreeClassifier\n",
    "from fairlearn.metrics import MetricFrame\n",
    "# from sklearn.metrics import log_loss"
   ]
  },
  {
   "cell_type": "markdown",
   "metadata": {},
   "source": [
    "## II. Fairness constraint"
   ]
  },
  {
   "cell_type": "markdown",
   "metadata": {},
   "source": [
    "### Evaluating fairness"
   ]
  },
  {
   "cell_type": "code",
   "execution_count": 35,
   "metadata": {},
   "outputs": [],
   "source": [
    "# Sensitive attribute 10110 used for training\n",
    "gender_train = X1_train['is_male']"
   ]
  },
  {
   "cell_type": "code",
   "execution_count": 36,
   "metadata": {},
   "outputs": [],
   "source": [
    "# sensitive attribute used for testing\n",
    "gender_test = X1_test['is_male']"
   ]
  },
  {
   "cell_type": "code",
   "execution_count": 39,
   "metadata": {
    "collapsed": true
   },
   "outputs": [
    {
     "data": {
      "text/plain": [
       "94335     0.0\n",
       "94337     0.0\n",
       "94341     1.0\n",
       "94346     1.0\n",
       "94347     1.0\n",
       "         ... \n",
       "131092    1.0\n",
       "131093    1.0\n",
       "131094    1.0\n",
       "131095    1.0\n",
       "131096    0.0\n",
       "Name: is_male, Length: 23854, dtype: object"
      ]
     },
     "execution_count": 39,
     "metadata": {},
     "output_type": "execute_result"
    }
   ],
   "source": [
    "gender_test"
   ]
  },
  {
   "cell_type": "markdown",
   "metadata": {},
   "source": [
    "### Metigating disparity "
   ]
  },
  {
   "cell_type": "markdown",
   "metadata": {},
   "source": [
    "#### CART"
   ]
  },
  {
   "cell_type": "code",
   "execution_count": 40,
   "metadata": {},
   "outputs": [],
   "source": [
    "classifier_dtc = DecisionTreeClassifier(ccp_alpha=0.0, min_samples_leaf=5, min_samples_split=20, max_depth=30, random_state=88)"
   ]
  },
  {
   "cell_type": "code",
   "execution_count": 41,
   "metadata": {},
   "outputs": [
    {
     "data": {
      "text/plain": [
       "(64798, 99)"
      ]
     },
     "execution_count": 41,
     "metadata": {},
     "output_type": "execute_result"
    }
   ],
   "source": [
    "X1_train_enc.shape"
   ]
  },
  {
   "cell_type": "code",
   "execution_count": 42,
   "metadata": {},
   "outputs": [
    {
     "data": {
      "text/plain": [
       "(64798,)"
      ]
     },
     "execution_count": 42,
     "metadata": {},
     "output_type": "execute_result"
    }
   ],
   "source": [
    "y1_train_enc.shape"
   ]
  },
  {
   "cell_type": "code",
   "execution_count": 43,
   "metadata": {},
   "outputs": [
    {
     "name": "stdout",
     "output_type": "stream",
     "text": [
      "time: 73.56 s\n"
     ]
    }
   ],
   "source": [
    "from fairlearn.reductions import ExponentiatedGradient, DemographicParity\n",
    "import time \n",
    "\n",
    "tic = time.time()\n",
    "np.random.seed(0)\n",
    "constraint = DemographicParity()\n",
    "mitigator_dtc = ExponentiatedGradient(classifier_dtc, constraint)\n",
    "mitigator_dtc.fit(X1_train_enc, y1_train_enc, sensitive_features=gender_train)\n",
    "\n",
    "toc = time.time()\n",
    "\n",
    "print('time:', round(toc-tic, 2),'s')"
   ]
  },
  {
   "cell_type": "code",
   "execution_count": 44,
   "metadata": {},
   "outputs": [],
   "source": [
    "y1_pred_dtc_mitigated = mitigator_dtc.predict(X1_test_enc)"
   ]
  },
  {
   "cell_type": "code",
   "execution_count": 45,
   "metadata": {},
   "outputs": [],
   "source": [
    "from sklearn.metrics import confusion_matrix\n",
    "from sklearn.metrics import roc_auc_score\n",
    "\n",
    "def tpr(y_true, y_pred):\n",
    "    cm = confusion_matrix(y_true, y_pred)\n",
    "    tpr = cm.ravel()[3] / (cm.ravel()[2] + cm.ravel()[3])\n",
    "    return tpr\n",
    "\n",
    "def fpr(y_true, y_pred):\n",
    "    cm = confusion_matrix(y_true, y_pred)\n",
    "    fpr = cm.ravel()[1] / (cm.ravel()[0] + cm.ravel()[1])\n",
    "    return fpr"
   ]
  },
  {
   "cell_type": "code",
   "execution_count": 48,
   "metadata": {},
   "outputs": [],
   "source": [
    "classifier_dtc_base = DecisionTreeClassifier(ccp_alpha=0.0, min_samples_leaf=5, min_samples_split=20, max_depth=30, random_state=88)\n",
    "classifier_dtc_base.fit(X1_train_enc, y1_train_enc)\n",
    "y1_pred_dtc = classifier_dtc_base.predict(X1_test_enc)"
   ]
  },
  {
   "cell_type": "markdown",
   "metadata": {},
   "source": [
    "#### TPR"
   ]
  },
  {
   "cell_type": "code",
   "execution_count": 50,
   "metadata": {},
   "outputs": [],
   "source": [
    "tpr_dtc_mitigated = MetricFrame(tpr, y1_test_enc, y1_pred_dtc_mitigated, sensitive_features=gender_test)"
   ]
  },
  {
   "cell_type": "code",
   "execution_count": 51,
   "metadata": {
    "scrolled": true
   },
   "outputs": [
    {
     "name": "stdout",
     "output_type": "stream",
     "text": [
      "0.7441266598569969\n"
     ]
    }
   ],
   "source": [
    "print(tpr_dtc_mitigated.overall)"
   ]
  },
  {
   "cell_type": "code",
   "execution_count": 52,
   "metadata": {},
   "outputs": [
    {
     "name": "stdout",
     "output_type": "stream",
     "text": [
      "is_male\n",
      "0.0    0.814035\n",
      "1.0    0.689937\n",
      "Name: tpr, dtype: object\n"
     ]
    }
   ],
   "source": [
    "print(tpr_dtc_mitigated.by_group)"
   ]
  },
  {
   "cell_type": "code",
   "execution_count": 53,
   "metadata": {},
   "outputs": [
    {
     "data": {
      "text/plain": [
       "0.7334014300306435"
      ]
     },
     "execution_count": 53,
     "metadata": {},
     "output_type": "execute_result"
    }
   ],
   "source": [
    "tpr_dtc = tpr(y1_test_enc, y1_pred_dtc)\n",
    "tpr_dtc"
   ]
  },
  {
   "cell_type": "markdown",
   "metadata": {},
   "source": [
    "#### FPR"
   ]
  },
  {
   "cell_type": "code",
   "execution_count": 55,
   "metadata": {},
   "outputs": [
    {
     "name": "stdout",
     "output_type": "stream",
     "text": [
      "Mitigated fpr of CART is:  0.010595542564852027\n",
      "Mitigated fpr of CART by group is:\n",
      " is_male\n",
      "0.0    0.004321\n",
      "1.0    0.013803\n",
      "Name: fpr, dtype: object\n"
     ]
    }
   ],
   "source": [
    "fpr_dtc_mitigated = MetricFrame(fpr, y1_test_enc, y1_pred_dtc_mitigated, sensitive_features=gender_test)\n",
    "print('Mitigated fpr of CART is: ', fpr_dtc_mitigated.overall)\n",
    "print('Mitigated fpr of CART by group is:\\n', fpr_dtc_mitigated.by_group)"
   ]
  },
  {
   "cell_type": "code",
   "execution_count": 60,
   "metadata": {},
   "outputs": [
    {
     "data": {
      "text/plain": [
       "0.005708805261234929"
      ]
     },
     "execution_count": 60,
     "metadata": {},
     "output_type": "execute_result"
    }
   ],
   "source": [
    "fpr_dtc = fpr(y1_test_enc, y1_pred_dtc)\n",
    "fpr_dtc"
   ]
  },
  {
   "cell_type": "markdown",
   "metadata": {},
   "source": [
    "#### F1-score"
   ]
  },
  {
   "cell_type": "code",
   "execution_count": 56,
   "metadata": {},
   "outputs": [
    {
     "data": {
      "text/plain": [
       "0.7990128873046339"
      ]
     },
     "execution_count": 56,
     "metadata": {},
     "output_type": "execute_result"
    }
   ],
   "source": [
    "from sklearn.metrics import f1_score\n",
    "f1_dtc_mitigated = MetricFrame(f1_score, y1_test_enc, y1_pred_dtc_mitigated, sensitive_features=gender_test)\n",
    "f1_dtc_mitigated.overall"
   ]
  },
  {
   "cell_type": "code",
   "execution_count": 57,
   "metadata": {},
   "outputs": [
    {
     "data": {
      "text/plain": [
       "is_male\n",
       "0.0    0.879343\n",
       "1.0    0.737403\n",
       "Name: f1_score, dtype: object"
      ]
     },
     "execution_count": 57,
     "metadata": {},
     "output_type": "execute_result"
    }
   ],
   "source": [
    "f1_dtc_mitigated.by_group"
   ]
  },
  {
   "cell_type": "code",
   "execution_count": 59,
   "metadata": {},
   "outputs": [
    {
     "data": {
      "text/plain": [
       "0.8161409491332766"
      ]
     },
     "execution_count": 59,
     "metadata": {},
     "output_type": "execute_result"
    }
   ],
   "source": [
    "f1_dtc = f1_score(y1_test_enc, y1_pred_dtc)\n",
    "f1_dtc"
   ]
  },
  {
   "cell_type": "markdown",
   "metadata": {},
   "source": [
    "#### Comparison with baseline"
   ]
  },
  {
   "cell_type": "code",
   "execution_count": 67,
   "metadata": {},
   "outputs": [
    {
     "data": {
      "text/plain": [
       "-0.014623955431754813"
      ]
     },
     "execution_count": 67,
     "metadata": {},
     "output_type": "execute_result"
    }
   ],
   "source": [
    "# percentage decrease of TPR\n",
    "(tpr_dtc - tpr_dtc_mitigated.overall)/tpr_dtc"
   ]
  },
  {
   "cell_type": "code",
   "execution_count": 68,
   "metadata": {},
   "outputs": [
    {
     "data": {
      "text/plain": [
       "-0.856"
      ]
     },
     "execution_count": 68,
     "metadata": {},
     "output_type": "execute_result"
    }
   ],
   "source": [
    "# percentage decrease of FPR\n",
    "(fpr_dtc - fpr_dtc_mitigated.overall) / fpr_dtc"
   ]
  },
  {
   "cell_type": "markdown",
   "metadata": {},
   "source": [
    "#### Tradeoff"
   ]
  },
  {
   "cell_type": "code",
   "execution_count": 62,
   "metadata": {},
   "outputs": [],
   "source": [
    "# a list of difference_bound\n",
    "bound_list = list(np.linspace(0, 0.05, 50))\n",
    "# relative change of tpr\n",
    "tpr_dtc_list = [np.nan]*len(bound_list)\n",
    "# relative change of fpr\n",
    "fpr_dtc_list = [np.nan]*len(bound_list)\n",
    "# relative change of F1-score\n",
    "f1_dtc_list = [np.nan]*len(bound_list)"
   ]
  },
  {
   "cell_type": "code",
   "execution_count": 64,
   "metadata": {},
   "outputs": [
    {
     "name": "stdout",
     "output_type": "stream",
     "text": [
      "time: 4034.56 s\n"
     ]
    }
   ],
   "source": [
    "from fairlearn.reductions import ExponentiatedGradient, DemographicParity\n",
    "from sklearn.metrics import confusion_matrix\n",
    "from sklearn.metrics import f1_score\n",
    "import time\n",
    "\n",
    "\n",
    "def tpr(y_true, y_pred):\n",
    "    cm = confusion_matrix(y_true, y_pred)\n",
    "    tpr = cm.ravel()[3] / (cm.ravel()[2] + cm.ravel()[3])\n",
    "    return tpr\n",
    "\n",
    "def fpr(y_true, y_pred):\n",
    "    cm = confusion_matrix(y_true, y_pred)\n",
    "    fpr = cm.ravel()[1] / (cm.ravel()[0] + cm.ravel()[1])\n",
    "    return fpr\n",
    "\n",
    "# baseline\n",
    "classifier_dtc = DecisionTreeClassifier(ccp_alpha=0.0, min_samples_leaf=5, \n",
    "                                            min_samples_split=20, max_depth=30, random_state=88)\n",
    "\n",
    "tic = time.time()\n",
    "\n",
    "for i in range(len(bound_list)):\n",
    "    sample_i = bound_list[i]\n",
    "    # mitigating disparity\n",
    "    np.random.seed(0)\n",
    "    constraint = DemographicParity(difference_bound=sample_i)\n",
    "    mitigator_dtc = ExponentiatedGradient(classifier_dtc, constraint)\n",
    "    mitigator_dtc.fit(X1_train_enc, y1_train_enc, sensitive_features=gender_train)\n",
    "    y1_pred_dtc = mitigator_dtc.predict(X1_test_enc)\n",
    "    \n",
    "    # evaluating fairness in terms of f1-score\n",
    "    f1_mitigated_i = MetricFrame(f1_score, y1_test_enc, y1_pred_dtc, sensitive_features=gender_test)\n",
    "    relative_decrease_f1_i = (f1_dtc - f1_mitigated_i.overall) / f1_dtc\n",
    "    f1_dtc_list[i] = relative_decrease_f1_i\n",
    "    \n",
    "    # evaluating fairness in terms of tpr\n",
    "    tpr_dtc_mitigated_i = MetricFrame(tpr, y1_test_enc, y1_pred_dtc, sensitive_features=gender_test)\n",
    "    relative_decrease_tpr_i = (tpr_dtc - tpr_dtc_mitigated_i.overall) / tpr_dtc\n",
    "    tpr_dtc_list[i] = relative_decrease_tpr_i\n",
    "    \n",
    "    # evaluating fairness in terms of fpr\n",
    "    fpr_dtc_mitigated_i = MetricFrame(fpr, y1_test_enc, y1_pred_dtc, sensitive_features=gender_test)\n",
    "    relative_decrease_fpr_i = (fpr_dtc - fpr_dtc_mitigated_i.overall) / fpr_dtc\n",
    "    fpr_dtc_list[i] = relative_decrease_fpr_i\n",
    "    \n",
    "toc = time.time()\n",
    "\n",
    "print('time:', round(toc-tic,2), 's')"
   ]
  },
  {
   "cell_type": "code",
   "execution_count": 65,
   "metadata": {
    "collapsed": true
   },
   "outputs": [
    {
     "data": {
      "text/plain": [
       "[0.0,\n",
       " 0.0010204081632653062,\n",
       " 0.0020408163265306124,\n",
       " 0.0030612244897959186,\n",
       " 0.004081632653061225,\n",
       " 0.005102040816326531,\n",
       " 0.006122448979591837,\n",
       " 0.0071428571428571435,\n",
       " 0.00816326530612245,\n",
       " 0.009183673469387756,\n",
       " 0.010204081632653062,\n",
       " 0.011224489795918368,\n",
       " 0.012244897959183675,\n",
       " 0.01326530612244898,\n",
       " 0.014285714285714287,\n",
       " 0.015306122448979593,\n",
       " 0.0163265306122449,\n",
       " 0.017346938775510204,\n",
       " 0.018367346938775512,\n",
       " 0.01938775510204082,\n",
       " 0.020408163265306124,\n",
       " 0.02142857142857143,\n",
       " 0.022448979591836737,\n",
       " 0.023469387755102045,\n",
       " 0.02448979591836735,\n",
       " 0.025510204081632654,\n",
       " 0.02653061224489796,\n",
       " 0.02755102040816327,\n",
       " 0.028571428571428574,\n",
       " 0.02959183673469388,\n",
       " 0.030612244897959186,\n",
       " 0.031632653061224494,\n",
       " 0.0326530612244898,\n",
       " 0.0336734693877551,\n",
       " 0.03469387755102041,\n",
       " 0.03571428571428572,\n",
       " 0.036734693877551024,\n",
       " 0.03775510204081633,\n",
       " 0.03877551020408164,\n",
       " 0.039795918367346944,\n",
       " 0.04081632653061225,\n",
       " 0.04183673469387755,\n",
       " 0.04285714285714286,\n",
       " 0.04387755102040817,\n",
       " 0.04489795918367347,\n",
       " 0.04591836734693878,\n",
       " 0.04693877551020409,\n",
       " 0.047959183673469394,\n",
       " 0.0489795918367347,\n",
       " 0.05]"
      ]
     },
     "execution_count": 65,
     "metadata": {},
     "output_type": "execute_result"
    }
   ],
   "source": [
    "bound_list"
   ]
  },
  {
   "cell_type": "code",
   "execution_count": 66,
   "metadata": {
    "collapsed": true
   },
   "outputs": [
    {
     "data": {
      "text/plain": [
       "[0.0028642799404252598,\n",
       " 0.0007469663201191995,\n",
       " 7.644092149583184e-05,\n",
       " -0.0010747361350384357,\n",
       " -0.0031920497553443675,\n",
       " 0.0007662993119210988,\n",
       " -0.006138494910927474,\n",
       " -0.005886085962095885,\n",
       " -0.008008232830352324,\n",
       " -0.0046411060933835785,\n",
       " -0.003754272597938561,\n",
       " -0.004415131500661172,\n",
       " -0.0026101969057113193,\n",
       " -0.0035186315093148836,\n",
       " -0.002763969794414234,\n",
       " -0.001956439367295863,\n",
       " -0.0010912069800092634,\n",
       " -0.0002524089488314602,\n",
       " -8.896956422753181e-05,\n",
       " 0.00012733853259398953,\n",
       " 0.00012733853259398953,\n",
       " 0.00012733853259398953,\n",
       " -0.0001418382764452533,\n",
       " 0.00012733853259398953,\n",
       " 0.00012733853259398953,\n",
       " -0.0001418382764452533,\n",
       " 0.00012733853259398953,\n",
       " 0.00012733853259398953,\n",
       " 0.00012733853259398953,\n",
       " 0.00012733853259398953,\n",
       " -0.0001418382764452533,\n",
       " 0.00012733853259398953,\n",
       " 0.00012733853259398953,\n",
       " 0.00012733853259398953,\n",
       " -0.0001418382764452533,\n",
       " 0.00012733853259398953,\n",
       " -0.0001418382764452533,\n",
       " -0.0001418382764452533,\n",
       " 0.00012733853259398953,\n",
       " -0.0001418382764452533,\n",
       " 0.00012733853259398953,\n",
       " 0.00012733853259398953,\n",
       " -0.0001418382764452533,\n",
       " -0.0001418382764452533,\n",
       " -0.0001418382764452533,\n",
       " 0.00012733853259398953,\n",
       " 0.00012733853259398953,\n",
       " 0.00012733853259398953,\n",
       " 0.00012733853259398953,\n",
       " 0.00012733853259398953]"
      ]
     },
     "execution_count": 66,
     "metadata": {},
     "output_type": "execute_result"
    }
   ],
   "source": [
    "auc_delta_list"
   ]
  },
  {
   "cell_type": "code",
   "execution_count": null,
   "metadata": {},
   "outputs": [],
   "source": [
    "tpr_dtc_list\n",
    "# tpr_dtc_list_r = list(reversed(tpr_dtc_list))"
   ]
  },
  {
   "cell_type": "code",
   "execution_count": null,
   "metadata": {},
   "outputs": [],
   "source": [
    "fpr_dtc_list\n",
    "# fpr_dtc_list_r = list(reversed(fpr_dtc_list))"
   ]
  },
  {
   "cell_type": "code",
   "execution_count": 69,
   "metadata": {},
   "outputs": [],
   "source": [
    "comparison_dtc = pd.DataFrame({'difference_bound':bound_list, \n",
    "#                                'decrease%_auc': auc_delta_list,\n",
    "                               'decrease%_f1': f1_dtc_list,\n",
    "                               'decrease%_tpr': tpr_dtc_list,\n",
    "                               'decrease%_fpr': fpr_dtc_list})"
   ]
  },
  {
   "cell_type": "code",
   "execution_count": 70,
   "metadata": {},
   "outputs": [
    {
     "data": {
      "text/html": [
       "<div>\n",
       "<style scoped>\n",
       "    .dataframe tbody tr th:only-of-type {\n",
       "        vertical-align: middle;\n",
       "    }\n",
       "\n",
       "    .dataframe tbody tr th {\n",
       "        vertical-align: top;\n",
       "    }\n",
       "\n",
       "    .dataframe thead th {\n",
       "        text-align: right;\n",
       "    }\n",
       "</style>\n",
       "<table border=\"1\" class=\"dataframe\">\n",
       "  <thead>\n",
       "    <tr style=\"text-align: right;\">\n",
       "      <th></th>\n",
       "      <th>difference_bound</th>\n",
       "      <th>decrease%_auc</th>\n",
       "      <th>decrease%_f1</th>\n",
       "      <th>decrease%_tpr</th>\n",
       "      <th>decrease%_fpr</th>\n",
       "    </tr>\n",
       "  </thead>\n",
       "  <tbody>\n",
       "    <tr>\n",
       "      <th>0</th>\n",
       "      <td>0.000000</td>\n",
       "      <td>0.002864</td>\n",
       "      <td>0.052434</td>\n",
       "      <td>-0.006267</td>\n",
       "      <td>-1.672</td>\n",
       "    </tr>\n",
       "    <tr>\n",
       "      <th>1</th>\n",
       "      <td>0.001020</td>\n",
       "      <td>0.000747</td>\n",
       "      <td>0.046714</td>\n",
       "      <td>-0.010446</td>\n",
       "      <td>-1.568</td>\n",
       "    </tr>\n",
       "    <tr>\n",
       "      <th>2</th>\n",
       "      <td>0.002041</td>\n",
       "      <td>0.000076</td>\n",
       "      <td>0.045144</td>\n",
       "      <td>-0.011838</td>\n",
       "      <td>-1.544</td>\n",
       "    </tr>\n",
       "    <tr>\n",
       "      <th>3</th>\n",
       "      <td>0.003061</td>\n",
       "      <td>-0.001075</td>\n",
       "      <td>0.041373</td>\n",
       "      <td>-0.013928</td>\n",
       "      <td>-1.464</td>\n",
       "    </tr>\n",
       "    <tr>\n",
       "      <th>4</th>\n",
       "      <td>0.004082</td>\n",
       "      <td>-0.003192</td>\n",
       "      <td>0.035608</td>\n",
       "      <td>-0.018106</td>\n",
       "      <td>-1.360</td>\n",
       "    </tr>\n",
       "    <tr>\n",
       "      <th>5</th>\n",
       "      <td>0.005102</td>\n",
       "      <td>0.000766</td>\n",
       "      <td>0.036948</td>\n",
       "      <td>-0.007660</td>\n",
       "      <td>-1.216</td>\n",
       "    </tr>\n",
       "    <tr>\n",
       "      <th>6</th>\n",
       "      <td>0.006122</td>\n",
       "      <td>-0.006138</td>\n",
       "      <td>0.026663</td>\n",
       "      <td>-0.023677</td>\n",
       "      <td>-1.184</td>\n",
       "    </tr>\n",
       "    <tr>\n",
       "      <th>7</th>\n",
       "      <td>0.007143</td>\n",
       "      <td>-0.005886</td>\n",
       "      <td>0.021511</td>\n",
       "      <td>-0.021588</td>\n",
       "      <td>-0.992</td>\n",
       "    </tr>\n",
       "    <tr>\n",
       "      <th>8</th>\n",
       "      <td>0.008163</td>\n",
       "      <td>-0.008008</td>\n",
       "      <td>0.018179</td>\n",
       "      <td>-0.026462</td>\n",
       "      <td>-0.976</td>\n",
       "    </tr>\n",
       "    <tr>\n",
       "      <th>9</th>\n",
       "      <td>0.009184</td>\n",
       "      <td>-0.004641</td>\n",
       "      <td>0.018568</td>\n",
       "      <td>-0.017409</td>\n",
       "      <td>-0.832</td>\n",
       "    </tr>\n",
       "  </tbody>\n",
       "</table>\n",
       "</div>"
      ],
      "text/plain": [
       "   difference_bound  decrease%_auc  decrease%_f1  decrease%_tpr  decrease%_fpr\n",
       "0          0.000000       0.002864      0.052434      -0.006267         -1.672\n",
       "1          0.001020       0.000747      0.046714      -0.010446         -1.568\n",
       "2          0.002041       0.000076      0.045144      -0.011838         -1.544\n",
       "3          0.003061      -0.001075      0.041373      -0.013928         -1.464\n",
       "4          0.004082      -0.003192      0.035608      -0.018106         -1.360\n",
       "5          0.005102       0.000766      0.036948      -0.007660         -1.216\n",
       "6          0.006122      -0.006138      0.026663      -0.023677         -1.184\n",
       "7          0.007143      -0.005886      0.021511      -0.021588         -0.992\n",
       "8          0.008163      -0.008008      0.018179      -0.026462         -0.976\n",
       "9          0.009184      -0.004641      0.018568      -0.017409         -0.832"
      ]
     },
     "execution_count": 70,
     "metadata": {},
     "output_type": "execute_result"
    }
   ],
   "source": [
    "comparison_dtc.head(10)"
   ]
  },
  {
   "cell_type": "code",
   "execution_count": 72,
   "metadata": {
    "collapsed": true
   },
   "outputs": [
    {
     "data": {
      "text/plain": [
       "[0.0028642799404252598,\n",
       " 0.0007469663201191995,\n",
       " 7.644092149583184e-05,\n",
       " -0.0010747361350384357,\n",
       " -0.0031920497553443675,\n",
       " 0.0007662993119210988,\n",
       " -0.006138494910927474,\n",
       " -0.005886085962095885,\n",
       " -0.008008232830352324,\n",
       " -0.0046411060933835785,\n",
       " -0.003754272597938561,\n",
       " -0.004415131500661172,\n",
       " -0.0026101969057113193,\n",
       " -0.0035186315093148836,\n",
       " -0.002763969794414234,\n",
       " -0.001956439367295863,\n",
       " -0.0010912069800092634,\n",
       " -0.0002524089488314602,\n",
       " -8.896956422753181e-05,\n",
       " 0.00012733853259398953,\n",
       " 0.00012733853259398953,\n",
       " 0.00012733853259398953,\n",
       " -0.0001418382764452533,\n",
       " 0.00012733853259398953,\n",
       " 0.00012733853259398953,\n",
       " -0.0001418382764452533,\n",
       " 0.00012733853259398953,\n",
       " 0.00012733853259398953,\n",
       " 0.00012733853259398953,\n",
       " 0.00012733853259398953,\n",
       " -0.0001418382764452533,\n",
       " 0.00012733853259398953,\n",
       " 0.00012733853259398953,\n",
       " 0.00012733853259398953,\n",
       " -0.0001418382764452533,\n",
       " 0.00012733853259398953,\n",
       " -0.0001418382764452533,\n",
       " -0.0001418382764452533,\n",
       " 0.00012733853259398953,\n",
       " -0.0001418382764452533,\n",
       " 0.00012733853259398953,\n",
       " 0.00012733853259398953,\n",
       " -0.0001418382764452533,\n",
       " -0.0001418382764452533,\n",
       " -0.0001418382764452533,\n",
       " 0.00012733853259398953,\n",
       " 0.00012733853259398953,\n",
       " 0.00012733853259398953,\n",
       " 0.00012733853259398953,\n",
       " 0.00012733853259398953]"
      ]
     },
     "execution_count": 72,
     "metadata": {},
     "output_type": "execute_result"
    }
   ],
   "source": [
    "auc_delta_list"
   ]
  },
  {
   "cell_type": "code",
   "execution_count": 82,
   "metadata": {},
   "outputs": [
    {
     "data": {
      "text/plain": [
       "<matplotlib.collections.PathCollection at 0x7f9a4e4599a0>"
      ]
     },
     "execution_count": 82,
     "metadata": {},
     "output_type": "execute_result"
    },
    {
     "data": {
      "image/png": "[encoded data removed]",
      "text/plain": [
       "<Figure size 576x432 with 1 Axes>"
      ]
     },
     "metadata": {
      "needs_background": "light"
     },
     "output_type": "display_data"
    }
   ],
   "source": [
    "plt.figure(figsize=(8,6))\n",
    "plt.title('Decision Tree Classifier (F1-score)', fontsize=16)\n",
    "plt.xlabel('value of difference_bound', fontsize=16)\n",
    "plt.ylabel('percentage decrease of f1-score', fontsize=16)\n",
    "plt.ylim([-0.01, 0.06])\n",
    "plt.scatter(x=comparison_dtc['difference_bound'], y=comparison_dtc['decrease%_f1'])"
   ]
  },
  {
   "cell_type": "code",
   "execution_count": 83,
   "metadata": {},
   "outputs": [
    {
     "data": {
      "text/plain": [
       "<matplotlib.collections.PathCollection at 0x7f9a7abc4760>"
      ]
     },
     "execution_count": 83,
     "metadata": {},
     "output_type": "execute_result"
    },
    {
     "data": {
      "image/png": "[encoded data removed]",
      "text/plain": [
       "<Figure size 576x432 with 1 Axes>"
      ]
     },
     "metadata": {
      "needs_background": "light"
     },
     "output_type": "display_data"
    }
   ],
   "source": [
    "plt.figure(figsize=(8,6))\n",
    "plt.title('Decision Tree Classifier (TPR)', fontsize=16)\n",
    "plt.xlabel('value of difference_bound', fontsize=16)\n",
    "plt.ylabel('percentage decrease of tpr', fontsize=16)\n",
    "plt.ylim([-0.03, 0.005])\n",
    "plt.scatter(x=comparison_dtc['difference_bound'], y=comparison_dtc['decrease%_tpr'])"
   ]
  },
  {
   "cell_type": "code",
   "execution_count": 84,
   "metadata": {},
   "outputs": [
    {
     "data": {
      "text/plain": [
       "<matplotlib.collections.PathCollection at 0x7f9a79966670>"
      ]
     },
     "execution_count": 84,
     "metadata": {},
     "output_type": "execute_result"
    },
    {
     "data": {
      "image/png": "[encoded data removed]",
      "text/plain": [
       "<Figure size 576x432 with 1 Axes>"
      ]
     },
     "metadata": {
      "needs_background": "light"
     },
     "output_type": "display_data"
    }
   ],
   "source": [
    "plt.figure(figsize=(8,6))\n",
    "plt.title('Decision Tree Classifier (FPR)', fontsize=16)\n",
    "plt.xlabel('value of difference_bound', fontsize=16)\n",
    "plt.ylabel('percentage decrease of fpr', fontsize=16)\n",
    "plt.ylim([-2,0.2])\n",
    "plt.scatter(x=comparison_dtc['difference_bound'], y=comparison_dtc['decrease%_fpr'])"
   ]
  },
  {
   "cell_type": "code",
   "execution_count": 75,
   "metadata": {},
   "outputs": [
    {
     "data": {
      "text/html": [
       "<div>\n",
       "<style scoped>\n",
       "    .dataframe tbody tr th:only-of-type {\n",
       "        vertical-align: middle;\n",
       "    }\n",
       "\n",
       "    .dataframe tbody tr th {\n",
       "        vertical-align: top;\n",
       "    }\n",
       "\n",
       "    .dataframe thead th {\n",
       "        text-align: right;\n",
       "    }\n",
       "</style>\n",
       "<table border=\"1\" class=\"dataframe\">\n",
       "  <thead>\n",
       "    <tr style=\"text-align: right;\">\n",
       "      <th></th>\n",
       "      <th>difference_bound</th>\n",
       "      <th>decrease%_auc</th>\n",
       "      <th>decrease%_f1</th>\n",
       "      <th>decrease%_tpr</th>\n",
       "      <th>decrease%_fpr</th>\n",
       "    </tr>\n",
       "  </thead>\n",
       "  <tbody>\n",
       "    <tr>\n",
       "      <th>0</th>\n",
       "      <td>0.000000</td>\n",
       "      <td>0.002864</td>\n",
       "      <td>0.052434</td>\n",
       "      <td>-0.006267</td>\n",
       "      <td>-1.672</td>\n",
       "    </tr>\n",
       "    <tr>\n",
       "      <th>1</th>\n",
       "      <td>0.001020</td>\n",
       "      <td>0.000747</td>\n",
       "      <td>0.046714</td>\n",
       "      <td>-0.010446</td>\n",
       "      <td>-1.568</td>\n",
       "    </tr>\n",
       "    <tr>\n",
       "      <th>2</th>\n",
       "      <td>0.002041</td>\n",
       "      <td>0.000076</td>\n",
       "      <td>0.045144</td>\n",
       "      <td>-0.011838</td>\n",
       "      <td>-1.544</td>\n",
       "    </tr>\n",
       "    <tr>\n",
       "      <th>3</th>\n",
       "      <td>0.003061</td>\n",
       "      <td>-0.001075</td>\n",
       "      <td>0.041373</td>\n",
       "      <td>-0.013928</td>\n",
       "      <td>-1.464</td>\n",
       "    </tr>\n",
       "    <tr>\n",
       "      <th>4</th>\n",
       "      <td>0.004082</td>\n",
       "      <td>-0.003192</td>\n",
       "      <td>0.035608</td>\n",
       "      <td>-0.018106</td>\n",
       "      <td>-1.360</td>\n",
       "    </tr>\n",
       "    <tr>\n",
       "      <th>5</th>\n",
       "      <td>0.005102</td>\n",
       "      <td>0.000766</td>\n",
       "      <td>0.036948</td>\n",
       "      <td>-0.007660</td>\n",
       "      <td>-1.216</td>\n",
       "    </tr>\n",
       "    <tr>\n",
       "      <th>6</th>\n",
       "      <td>0.006122</td>\n",
       "      <td>-0.006138</td>\n",
       "      <td>0.026663</td>\n",
       "      <td>-0.023677</td>\n",
       "      <td>-1.184</td>\n",
       "    </tr>\n",
       "    <tr>\n",
       "      <th>7</th>\n",
       "      <td>0.007143</td>\n",
       "      <td>-0.005886</td>\n",
       "      <td>0.021511</td>\n",
       "      <td>-0.021588</td>\n",
       "      <td>-0.992</td>\n",
       "    </tr>\n",
       "    <tr>\n",
       "      <th>8</th>\n",
       "      <td>0.008163</td>\n",
       "      <td>-0.008008</td>\n",
       "      <td>0.018179</td>\n",
       "      <td>-0.026462</td>\n",
       "      <td>-0.976</td>\n",
       "    </tr>\n",
       "    <tr>\n",
       "      <th>9</th>\n",
       "      <td>0.009184</td>\n",
       "      <td>-0.004641</td>\n",
       "      <td>0.018568</td>\n",
       "      <td>-0.017409</td>\n",
       "      <td>-0.832</td>\n",
       "    </tr>\n",
       "  </tbody>\n",
       "</table>\n",
       "</div>"
      ],
      "text/plain": [
       "   difference_bound  decrease%_auc  decrease%_f1  decrease%_tpr  decrease%_fpr\n",
       "0          0.000000       0.002864      0.052434      -0.006267         -1.672\n",
       "1          0.001020       0.000747      0.046714      -0.010446         -1.568\n",
       "2          0.002041       0.000076      0.045144      -0.011838         -1.544\n",
       "3          0.003061      -0.001075      0.041373      -0.013928         -1.464\n",
       "4          0.004082      -0.003192      0.035608      -0.018106         -1.360\n",
       "5          0.005102       0.000766      0.036948      -0.007660         -1.216\n",
       "6          0.006122      -0.006138      0.026663      -0.023677         -1.184\n",
       "7          0.007143      -0.005886      0.021511      -0.021588         -0.992\n",
       "8          0.008163      -0.008008      0.018179      -0.026462         -0.976\n",
       "9          0.009184      -0.004641      0.018568      -0.017409         -0.832"
      ]
     },
     "execution_count": 75,
     "metadata": {},
     "output_type": "execute_result"
    }
   ],
   "source": [
    "comparison_dtc.head(10)"
   ]
  },
  {
   "cell_type": "markdown",
   "metadata": {},
   "source": [
    "#### Random forest"
   ]
  },
  {
   "cell_type": "code",
   "execution_count": 86,
   "metadata": {},
   "outputs": [],
   "source": [
    "classifier_rf = RandomForestClassifier(max_features=9, min_samples_leaf=5, max_depth=30, n_estimators=500, random_state=88)"
   ]
  },
  {
   "cell_type": "code",
   "execution_count": 87,
   "metadata": {},
   "outputs": [],
   "source": [
    "classifier_rf.fit(X1_train_enc, y1_train_enc)\n",
    "y1_pred_rf = classifier_rf.predict(X1_test_enc)"
   ]
  },
  {
   "cell_type": "code",
   "execution_count": 88,
   "metadata": {},
   "outputs": [],
   "source": [
    "tpr_rf = tpr(y1_test_enc, y1_pred_rf)\n",
    "fpr_rf = fpr(y1_test_enc, y1_pred_rf)"
   ]
  },
  {
   "cell_type": "code",
   "execution_count": 90,
   "metadata": {},
   "outputs": [
    {
     "name": "stdout",
     "output_type": "stream",
     "text": [
      "time: 1030.13 s\n"
     ]
    }
   ],
   "source": [
    "from fairlearn.reductions import ExponentiatedGradient, DemographicParity\n",
    "import time \n",
    "\n",
    "tic = time.time()\n",
    "\n",
    "np.random.seed(0)\n",
    "constraint = DemographicParity()\n",
    "mitigator_rf = ExponentiatedGradient(classifier_rf, constraint)\n",
    "mitigator_rf.fit(X1_train_enc, y1_train_enc, sensitive_features=gender_train)\n",
    "\n",
    "toc = time.time()\n",
    "\n",
    "print('time:', round(toc-tic, 2),'s')"
   ]
  },
  {
   "cell_type": "code",
   "execution_count": 91,
   "metadata": {},
   "outputs": [],
   "source": [
    "y1_pred_rf_mitigated = mitigator_rf.predict(X1_test_enc)"
   ]
  },
  {
   "cell_type": "code",
   "execution_count": 92,
   "metadata": {},
   "outputs": [
    {
     "name": "stdout",
     "output_type": "stream",
     "text": [
      "0.601123595505618\n",
      "is_male\n",
      "0.0    0.621053\n",
      "1.0    0.585675\n",
      "Name: tpr, dtype: object\n"
     ]
    }
   ],
   "source": [
    "# TPR\n",
    "tpr_rf_mitigated = MetricFrame(tpr, y1_test_enc, y1_pred_rf_mitigated, sensitive_features=gender_test)\n",
    "print(tpr_rf_mitigated.overall)\n",
    "print(tpr_rf_mitigated.by_group)"
   ]
  },
  {
   "cell_type": "code",
   "execution_count": 93,
   "metadata": {},
   "outputs": [
    {
     "data": {
      "text/plain": [
       "0.04850444624090539"
      ]
     },
     "execution_count": 93,
     "metadata": {},
     "output_type": "execute_result"
    }
   ],
   "source": [
    "# percentage decrease in tpr\n",
    "(tpr_rf - tpr_rf_mitigated.overall) / tpr_rf"
   ]
  },
  {
   "cell_type": "code",
   "execution_count": 94,
   "metadata": {},
   "outputs": [
    {
     "name": "stdout",
     "output_type": "stream",
     "text": [
      "0.0030142491779320425\n",
      "is_male\n",
      "0.0    0.000405\n",
      "1.0    0.004348\n",
      "Name: fpr, dtype: object\n"
     ]
    }
   ],
   "source": [
    "# FPR\n",
    "fpr_rf_mitigated = MetricFrame(fpr, y1_test_enc, y1_pred_rf_mitigated, sensitive_features=gender_test)\n",
    "print(fpr_rf_mitigated.overall)\n",
    "print(fpr_rf_mitigated.by_group)"
   ]
  },
  {
   "cell_type": "code",
   "execution_count": 95,
   "metadata": {},
   "outputs": [
    {
     "data": {
      "text/plain": [
       "-1.357142857142857"
      ]
     },
     "execution_count": 95,
     "metadata": {},
     "output_type": "execute_result"
    }
   ],
   "source": [
    "# percentage decrease in fpr\n",
    "(fpr_rf - fpr_rf_mitigated.overall) / fpr_rf"
   ]
  },
  {
   "cell_type": "code",
   "execution_count": 99,
   "metadata": {},
   "outputs": [
    {
     "data": {
      "text/plain": [
       "0.6942401960784313"
      ]
     },
     "execution_count": 99,
     "metadata": {},
     "output_type": "execute_result"
    }
   ],
   "source": [
    "f1_rf = f1_score(y1_test_enc, y1_pred_rf)\n",
    "f1_rf"
   ]
  },
  {
   "cell_type": "markdown",
   "metadata": {},
   "source": [
    "#### difference_bound"
   ]
  },
  {
   "cell_type": "code",
   "execution_count": 97,
   "metadata": {},
   "outputs": [],
   "source": [
    "# a list of difference_bound\n",
    "bound_list_rf = list(np.linspace(0, 0.01, 10))\n",
    "# relative change of tpr\n",
    "tpr_rf_list = [np.nan]*len(bound_list_rf)\n",
    "# relative change of fpr\n",
    "fpr_rf_list = [np.nan]*len(bound_list_rf)\n",
    "# relative change of f1-score\n",
    "f1_rf_list = [np.nan]*len(bound_list_rf)"
   ]
  },
  {
   "cell_type": "code",
   "execution_count": 100,
   "metadata": {},
   "outputs": [
    {
     "name": "stdout",
     "output_type": "stream",
     "text": [
      "time: 26439.68 s\n"
     ]
    }
   ],
   "source": [
    "from fairlearn.reductions import ExponentiatedGradient, DemographicParity\n",
    "from sklearn.metrics import confusion_matrix\n",
    "from sklearn.metrics import f1_score\n",
    "import time\n",
    "\n",
    "\n",
    "def tpr(y_true, y_pred):\n",
    "    cm = confusion_matrix(y_true, y_pred)\n",
    "    tpr = cm.ravel()[3] / (cm.ravel()[2] + cm.ravel()[3])\n",
    "    return tpr\n",
    "\n",
    "def fpr(y_true, y_pred):\n",
    "    cm = confusion_matrix(y_true, y_pred)\n",
    "    fpr = cm.ravel()[1] / (cm.ravel()[0] + cm.ravel()[1])\n",
    "    return fpr\n",
    "\n",
    "# baseline\n",
    "classifier_rf = RandomForestClassifier(max_features=9, min_samples_leaf=5, max_depth=30, n_estimators=500, random_state=88)\n",
    "\n",
    "tic = time.time()\n",
    "\n",
    "for i in range(len(bound_list_rf)):\n",
    "    sample_i = bound_list_rf[i]\n",
    "    # mitigating disparity\n",
    "    np.random.seed(0)\n",
    "    constraint = DemographicParity(difference_bound=sample_i)\n",
    "    mitigator_rf = ExponentiatedGradient(classifier_rf, constraint)\n",
    "    mitigator_rf.fit(X1_train_enc, y1_train_enc, sensitive_features=gender_train)\n",
    "    y1_pred_rf = mitigator_rf.predict(X1_test_enc)\n",
    "    \n",
    "#     # evaluating fairness in terms of auc\n",
    "#     auc_mitigated_i = MetricFrame(roc_auc_score, y1_test_enc, y1_pred_rf, sensitive_features=gender_test)\n",
    "#     relative_decrease_auc_i = (auc_rf - auc_mitigated_i.overall) / auc_rf\n",
    "#     auc_delta_list[i] = relative_decrease_auc_i\n",
    "    \n",
    "    # evaluating fairness in terms of f1-score\n",
    "    f1_mitigated_i = MetricFrame(f1_score, y1_test_enc, y1_pred_rf, sensitive_features=gender_test)\n",
    "    relative_decrease_f1_i = (f1_rf - f1_mitigated_i.overall) / f1_rf\n",
    "    f1_rf_list[i] = relative_decrease_f1_i\n",
    "    \n",
    "    # evaluating fairness in terms of tpr\n",
    "    tpr_rf_mitigated_i = MetricFrame(tpr, y1_test_enc, y1_pred_rf, sensitive_features=gender_test)\n",
    "    relative_decrease_tpr_i = (tpr_rf - tpr_rf_mitigated_i.overall) / tpr_rf\n",
    "    tpr_rf_list[i] = relative_decrease_tpr_i\n",
    "    \n",
    "    # evaluating fairness in terms of fpr\n",
    "    fpr_rf_mitigated_i = MetricFrame(fpr, y1_test_enc, y1_pred_rf, sensitive_features=gender_test)\n",
    "    relative_decrease_fpr_i = (fpr_rf - fpr_rf_mitigated_i.overall) / fpr_rf\n",
    "    fpr_rf_list[i] = relative_decrease_fpr_i\n",
    "    \n",
    "toc = time.time()\n",
    "\n",
    "print('time:', round(toc-tic,2), 's')"
   ]
  },
  {
   "cell_type": "code",
   "execution_count": 102,
   "metadata": {},
   "outputs": [],
   "source": [
    "comparison_rf = pd.DataFrame({'difference_bound':bound_list_rf, \n",
    "                               'decrease%_f1': f1_rf_list,\n",
    "                               'decrease%_tpr': tpr_rf_list,\n",
    "                               'decrease%_fpr': fpr_rf_list})"
   ]
  },
  {
   "cell_type": "code",
   "execution_count": 103,
   "metadata": {},
   "outputs": [
    {
     "data": {
      "text/html": [
       "<div>\n",
       "<style scoped>\n",
       "    .dataframe tbody tr th:only-of-type {\n",
       "        vertical-align: middle;\n",
       "    }\n",
       "\n",
       "    .dataframe tbody tr th {\n",
       "        vertical-align: top;\n",
       "    }\n",
       "\n",
       "    .dataframe thead th {\n",
       "        text-align: right;\n",
       "    }\n",
       "</style>\n",
       "<table border=\"1\" class=\"dataframe\">\n",
       "  <thead>\n",
       "    <tr style=\"text-align: right;\">\n",
       "      <th></th>\n",
       "      <th>difference_bound</th>\n",
       "      <th>decrease%_f1</th>\n",
       "      <th>decrease%_tpr</th>\n",
       "      <th>decrease%_fpr</th>\n",
       "    </tr>\n",
       "  </thead>\n",
       "  <tbody>\n",
       "    <tr>\n",
       "      <th>0</th>\n",
       "      <td>0.000000</td>\n",
       "      <td>0.000000</td>\n",
       "      <td>0.084074</td>\n",
       "      <td>-5.178571</td>\n",
       "    </tr>\n",
       "    <tr>\n",
       "      <th>1</th>\n",
       "      <td>0.001111</td>\n",
       "      <td>-0.001996</td>\n",
       "      <td>0.074373</td>\n",
       "      <td>-5.750000</td>\n",
       "    </tr>\n",
       "    <tr>\n",
       "      <th>2</th>\n",
       "      <td>0.002222</td>\n",
       "      <td>-0.009737</td>\n",
       "      <td>0.064673</td>\n",
       "      <td>-5.642857</td>\n",
       "    </tr>\n",
       "    <tr>\n",
       "      <th>3</th>\n",
       "      <td>0.003333</td>\n",
       "      <td>-0.019699</td>\n",
       "      <td>0.056589</td>\n",
       "      <td>-5.142857</td>\n",
       "    </tr>\n",
       "    <tr>\n",
       "      <th>4</th>\n",
       "      <td>0.004444</td>\n",
       "      <td>-0.021399</td>\n",
       "      <td>0.076799</td>\n",
       "      <td>-3.321429</td>\n",
       "    </tr>\n",
       "    <tr>\n",
       "      <th>5</th>\n",
       "      <td>0.005556</td>\n",
       "      <td>-0.032266</td>\n",
       "      <td>0.068715</td>\n",
       "      <td>-2.750000</td>\n",
       "    </tr>\n",
       "    <tr>\n",
       "      <th>6</th>\n",
       "      <td>0.006667</td>\n",
       "      <td>-0.036818</td>\n",
       "      <td>0.065481</td>\n",
       "      <td>-2.500000</td>\n",
       "    </tr>\n",
       "    <tr>\n",
       "      <th>7</th>\n",
       "      <td>0.007778</td>\n",
       "      <td>-0.045048</td>\n",
       "      <td>0.059822</td>\n",
       "      <td>-2.035714</td>\n",
       "    </tr>\n",
       "    <tr>\n",
       "      <th>8</th>\n",
       "      <td>0.008889</td>\n",
       "      <td>-0.049709</td>\n",
       "      <td>0.057397</td>\n",
       "      <td>-1.714286</td>\n",
       "    </tr>\n",
       "    <tr>\n",
       "      <th>9</th>\n",
       "      <td>0.010000</td>\n",
       "      <td>-0.059281</td>\n",
       "      <td>0.048504</td>\n",
       "      <td>-1.357143</td>\n",
       "    </tr>\n",
       "  </tbody>\n",
       "</table>\n",
       "</div>"
      ],
      "text/plain": [
       "   difference_bound  decrease%_f1  decrease%_tpr  decrease%_fpr\n",
       "0          0.000000      0.000000       0.084074      -5.178571\n",
       "1          0.001111     -0.001996       0.074373      -5.750000\n",
       "2          0.002222     -0.009737       0.064673      -5.642857\n",
       "3          0.003333     -0.019699       0.056589      -5.142857\n",
       "4          0.004444     -0.021399       0.076799      -3.321429\n",
       "5          0.005556     -0.032266       0.068715      -2.750000\n",
       "6          0.006667     -0.036818       0.065481      -2.500000\n",
       "7          0.007778     -0.045048       0.059822      -2.035714\n",
       "8          0.008889     -0.049709       0.057397      -1.714286\n",
       "9          0.010000     -0.059281       0.048504      -1.357143"
      ]
     },
     "execution_count": 103,
     "metadata": {},
     "output_type": "execute_result"
    }
   ],
   "source": [
    "comparison_rf.head(10)"
   ]
  },
  {
   "cell_type": "code",
   "execution_count": 106,
   "metadata": {},
   "outputs": [
    {
     "data": {
      "text/plain": [
       "<matplotlib.collections.PathCollection at 0x7f9a4fe9b820>"
      ]
     },
     "execution_count": 106,
     "metadata": {},
     "output_type": "execute_result"
    },
    {
     "data": {
      "image/png": "[encoded data removed]",
      "text/plain": [
       "<Figure size 576x432 with 1 Axes>"
      ]
     },
     "metadata": {
      "needs_background": "light"
     },
     "output_type": "display_data"
    }
   ],
   "source": [
    "plt.figure(figsize=(8,6))\n",
    "plt.title('Random Forest Classifier (F1-score)', fontsize=16)\n",
    "plt.xlabel('value of difference_bound', fontsize=16)\n",
    "plt.ylabel('percentage decrease of f1-score', fontsize=16)\n",
    "plt.ylim([-0.07, 0.01])\n",
    "plt.scatter(x=comparison_rf['difference_bound'], y=comparison_rf['decrease%_f1'])"
   ]
  },
  {
   "cell_type": "code",
   "execution_count": 112,
   "metadata": {},
   "outputs": [
    {
     "data": {
      "text/plain": [
       "<matplotlib.collections.PathCollection at 0x7f9a3449eee0>"
      ]
     },
     "execution_count": 112,
     "metadata": {},
     "output_type": "execute_result"
    },
    {
     "data": {
      "image/png": "[encoded data removed]",
      "text/plain": [
       "<Figure size 576x432 with 1 Axes>"
      ]
     },
     "metadata": {
      "needs_background": "light"
     },
     "output_type": "display_data"
    }
   ],
   "source": [
    "plt.figure(figsize=(8,6))\n",
    "plt.title('Random Forest Classifier (TPR)', fontsize=16)\n",
    "plt.xlabel('value of difference_bound', fontsize=16)\n",
    "plt.ylabel('percentage decrease of tpr', fontsize=16)\n",
    "plt.ylim([0.03, 0.09])\n",
    "plt.scatter(x=comparison_rf['difference_bound'], y=comparison_rf['decrease%_tpr'])"
   ]
  },
  {
   "cell_type": "code",
   "execution_count": 117,
   "metadata": {},
   "outputs": [
    {
     "data": {
      "text/plain": [
       "<matplotlib.collections.PathCollection at 0x7f99ffc71bb0>"
      ]
     },
     "execution_count": 117,
     "metadata": {},
     "output_type": "execute_result"
    },
    {
     "data": {
      "image/png": "[encoded data removed]",
      "text/plain": [
       "<Figure size 576x432 with 1 Axes>"
      ]
     },
     "metadata": {
      "needs_background": "light"
     },
     "output_type": "display_data"
    }
   ],
   "source": [
    "plt.figure(figsize=(8,6))\n",
    "plt.title('Random Forest Classifier (FPR)', fontsize=16)\n",
    "plt.xlabel('value of difference_bound', fontsize=16)\n",
    "plt.ylabel('percentage decrease of fpr', fontsize=16)\n",
    "plt.ylim([-6,0])\n",
    "plt.scatter(x=comparison_rf['difference_bound'], y=comparison_rf['decrease%_fpr'])"
   ]
  },
  {
   "cell_type": "markdown",
   "metadata": {},
   "source": [
    "## I. Data preparation"
   ]
  },
  {
   "cell_type": "code",
   "execution_count": 2,
   "metadata": {
    "colab": {
     "base_uri": "https://localhost:8080/",
     "height": 702
    },
    "executionInfo": {
     "elapsed": 5599,
     "status": "ok",
     "timestamp": 1614207680959,
     "user": {
      "displayName": "Armand Sauzay",
      "photoUrl": "https://lh3.googleusercontent.com/a-/AOh14GhSIx1YAntEkGdNvdJfho_y-lCcaYPnyw9BHSfZ=s64",
      "userId": "07373814862822458780"
     },
     "user_tz": 480
    },
    "id": "3ItSS1njRTTB",
    "outputId": "e7f1c5ab-a7bb-4396-b5cf-0208348bd588",
    "scrolled": false
   },
   "outputs": [
    {
     "data": {
      "text/html": [
       "<div>\n",
       "<style scoped>\n",
       "    .dataframe tbody tr th:only-of-type {\n",
       "        vertical-align: middle;\n",
       "    }\n",
       "\n",
       "    .dataframe tbody tr th {\n",
       "        vertical-align: top;\n",
       "    }\n",
       "\n",
       "    .dataframe thead th {\n",
       "        text-align: right;\n",
       "    }\n",
       "</style>\n",
       "<table border=\"1\" class=\"dataframe\">\n",
       "  <thead>\n",
       "    <tr style=\"text-align: right;\">\n",
       "      <th></th>\n",
       "      <th>Timestamp_impressions</th>\n",
       "      <th>Log Type</th>\n",
       "      <th>User-Agent_impressions</th>\n",
       "      <th>Region ID_impressions</th>\n",
       "      <th>City ID</th>\n",
       "      <th>Ad Exchange</th>\n",
       "      <th>Ad Slot Width</th>\n",
       "      <th>Ad Slot Height</th>\n",
       "      <th>Ad Slot Visibility</th>\n",
       "      <th>Ad Slot Format</th>\n",
       "      <th>...</th>\n",
       "      <th>13678</th>\n",
       "      <th>13776</th>\n",
       "      <th>13800</th>\n",
       "      <th>13866</th>\n",
       "      <th>13874</th>\n",
       "      <th>14273</th>\n",
       "      <th>16593</th>\n",
       "      <th>16617</th>\n",
       "      <th>16661</th>\n",
       "      <th>16706</th>\n",
       "    </tr>\n",
       "  </thead>\n",
       "  <tbody>\n",
       "    <tr>\n",
       "      <th>0</th>\n",
       "      <td>20130606000104828</td>\n",
       "      <td>1</td>\n",
       "      <td>Mozilla/4.0 (compatible; MSIE 8.0; Windows NT ...</td>\n",
       "      <td>216</td>\n",
       "      <td>219</td>\n",
       "      <td>1</td>\n",
       "      <td>336</td>\n",
       "      <td>280</td>\n",
       "      <td>2</td>\n",
       "      <td>1</td>\n",
       "      <td>...</td>\n",
       "      <td>0.0</td>\n",
       "      <td>0.0</td>\n",
       "      <td>0.0</td>\n",
       "      <td>0.0</td>\n",
       "      <td>0.0</td>\n",
       "      <td>0.0</td>\n",
       "      <td>0.0</td>\n",
       "      <td>0.0</td>\n",
       "      <td>0.0</td>\n",
       "      <td>0.0</td>\n",
       "    </tr>\n",
       "    <tr>\n",
       "      <th>1</th>\n",
       "      <td>20130606000104915</td>\n",
       "      <td>1</td>\n",
       "      <td>Mozilla/5.0 (Windows NT 5.1) AppleWebKit/537.1...</td>\n",
       "      <td>333</td>\n",
       "      <td>334</td>\n",
       "      <td>2</td>\n",
       "      <td>250</td>\n",
       "      <td>250</td>\n",
       "      <td>2</td>\n",
       "      <td>0</td>\n",
       "      <td>...</td>\n",
       "      <td>0.0</td>\n",
       "      <td>0.0</td>\n",
       "      <td>1.0</td>\n",
       "      <td>1.0</td>\n",
       "      <td>0.0</td>\n",
       "      <td>1.0</td>\n",
       "      <td>0.0</td>\n",
       "      <td>0.0</td>\n",
       "      <td>0.0</td>\n",
       "      <td>0.0</td>\n",
       "    </tr>\n",
       "    <tr>\n",
       "      <th>2</th>\n",
       "      <td>20130606000105049</td>\n",
       "      <td>1</td>\n",
       "      <td>Mozilla/5.0 (Linux; U; Android 4.1.1; zh-cn; M...</td>\n",
       "      <td>216</td>\n",
       "      <td>234</td>\n",
       "      <td>1</td>\n",
       "      <td>950</td>\n",
       "      <td>90</td>\n",
       "      <td>0</td>\n",
       "      <td>1</td>\n",
       "      <td>...</td>\n",
       "      <td>NaN</td>\n",
       "      <td>NaN</td>\n",
       "      <td>NaN</td>\n",
       "      <td>NaN</td>\n",
       "      <td>NaN</td>\n",
       "      <td>NaN</td>\n",
       "      <td>NaN</td>\n",
       "      <td>NaN</td>\n",
       "      <td>NaN</td>\n",
       "      <td>NaN</td>\n",
       "    </tr>\n",
       "    <tr>\n",
       "      <th>3</th>\n",
       "      <td>20130606000105216</td>\n",
       "      <td>1</td>\n",
       "      <td>Mozilla/5.0 (Windows NT 6.1) AppleWebKit/537.2...</td>\n",
       "      <td>79</td>\n",
       "      <td>79</td>\n",
       "      <td>2</td>\n",
       "      <td>728</td>\n",
       "      <td>90</td>\n",
       "      <td>2</td>\n",
       "      <td>0</td>\n",
       "      <td>...</td>\n",
       "      <td>0.0</td>\n",
       "      <td>0.0</td>\n",
       "      <td>0.0</td>\n",
       "      <td>1.0</td>\n",
       "      <td>0.0</td>\n",
       "      <td>0.0</td>\n",
       "      <td>0.0</td>\n",
       "      <td>0.0</td>\n",
       "      <td>0.0</td>\n",
       "      <td>0.0</td>\n",
       "    </tr>\n",
       "    <tr>\n",
       "      <th>4</th>\n",
       "      <td>20130606000105295</td>\n",
       "      <td>1</td>\n",
       "      <td>Mozilla/5.0 (Windows NT 5.1) AppleWebKit/537.2...</td>\n",
       "      <td>80</td>\n",
       "      <td>86</td>\n",
       "      <td>1</td>\n",
       "      <td>300</td>\n",
       "      <td>250</td>\n",
       "      <td>0</td>\n",
       "      <td>1</td>\n",
       "      <td>...</td>\n",
       "      <td>NaN</td>\n",
       "      <td>NaN</td>\n",
       "      <td>NaN</td>\n",
       "      <td>NaN</td>\n",
       "      <td>NaN</td>\n",
       "      <td>NaN</td>\n",
       "      <td>NaN</td>\n",
       "      <td>NaN</td>\n",
       "      <td>NaN</td>\n",
       "      <td>NaN</td>\n",
       "    </tr>\n",
       "  </tbody>\n",
       "</table>\n",
       "<p>5 rows × 64 columns</p>\n",
       "</div>"
      ],
      "text/plain": [
       "   Timestamp_impressions  Log Type  \\\n",
       "0      20130606000104828         1   \n",
       "1      20130606000104915         1   \n",
       "2      20130606000105049         1   \n",
       "3      20130606000105216         1   \n",
       "4      20130606000105295         1   \n",
       "\n",
       "                              User-Agent_impressions  Region ID_impressions  \\\n",
       "0  Mozilla/4.0 (compatible; MSIE 8.0; Windows NT ...                    216   \n",
       "1  Mozilla/5.0 (Windows NT 5.1) AppleWebKit/537.1...                    333   \n",
       "2  Mozilla/5.0 (Linux; U; Android 4.1.1; zh-cn; M...                    216   \n",
       "3  Mozilla/5.0 (Windows NT 6.1) AppleWebKit/537.2...                     79   \n",
       "4  Mozilla/5.0 (Windows NT 5.1) AppleWebKit/537.2...                     80   \n",
       "\n",
       "   City ID  Ad Exchange  Ad Slot Width  Ad Slot Height  Ad Slot Visibility  \\\n",
       "0      219            1            336             280                   2   \n",
       "1      334            2            250             250                   2   \n",
       "2      234            1            950              90                   0   \n",
       "3       79            2            728              90                   2   \n",
       "4       86            1            300             250                   0   \n",
       "\n",
       "   Ad Slot Format  ...  13678  13776  13800  13866 13874  14273 16593 16617  \\\n",
       "0               1  ...    0.0    0.0    0.0    0.0   0.0    0.0   0.0   0.0   \n",
       "1               0  ...    0.0    0.0    1.0    1.0   0.0    1.0   0.0   0.0   \n",
       "2               1  ...    NaN    NaN    NaN    NaN   NaN    NaN   NaN   NaN   \n",
       "3               0  ...    0.0    0.0    0.0    1.0   0.0    0.0   0.0   0.0   \n",
       "4               1  ...    NaN    NaN    NaN    NaN   NaN    NaN   NaN   NaN   \n",
       "\n",
       "   16661  16706  \n",
       "0    0.0    0.0  \n",
       "1    0.0    0.0  \n",
       "2    NaN    NaN  \n",
       "3    0.0    0.0  \n",
       "4    NaN    NaN  \n",
       "\n",
       "[5 rows x 64 columns]"
      ]
     },
     "execution_count": 2,
     "metadata": {},
     "output_type": "execute_result"
    }
   ],
   "source": [
    "com_ad = pd.read_csv('imp_to_click_final.csv')\n",
    "com_ad.drop(['Unnamed: 0'], axis=1, inplace=True)\n",
    "# com_ad.info()\n",
    "com_ad.head()"
   ]
  },
  {
   "cell_type": "code",
   "execution_count": 3,
   "metadata": {},
   "outputs": [
    {
     "data": {
      "text/plain": [
       "(131097, 64)"
      ]
     },
     "execution_count": 3,
     "metadata": {},
     "output_type": "execute_result"
    }
   ],
   "source": [
    "com_ad.shape"
   ]
  },
  {
   "cell_type": "code",
   "execution_count": 4,
   "metadata": {},
   "outputs": [
    {
     "data": {
      "text/plain": [
       "Index(['Timestamp_impressions', 'Log Type', 'User-Agent_impressions',\n",
       "       'Region ID_impressions', 'City ID', 'Ad Exchange', 'Ad Slot Width',\n",
       "       'Ad Slot Height', 'Ad Slot Visibility', 'Ad Slot Format',\n",
       "       'Ad Slot Floor Price', 'Bidding Price', 'Paying Price', 'Advertiser ID',\n",
       "       'User Profile IDs_impressions', 'Timestamp_clicks', 'User-Agent_clicks',\n",
       "       'User Profile IDs_clicks', 'Region ID_clicks', 'n_clicks', 'has click',\n",
       "       '10006', '10024', '10031', '10048', '10052', '10057', '10059', '10063',\n",
       "       '10067', '10074', '10075', '10076', '10077', '10079', '10083', '10093',\n",
       "       '10102', '10110', '10111', '10684', '11092', '11278', '11379', '11423',\n",
       "       '11512', '11576', '11632', '11680', '11724', '11944', '13042', '13403',\n",
       "       '13496', '13678', '13776', '13800', '13866', '13874', '14273', '16593',\n",
       "       '16617', '16661', '16706'],\n",
       "      dtype='object')"
      ]
     },
     "execution_count": 4,
     "metadata": {},
     "output_type": "execute_result"
    }
   ],
   "source": [
    "com_ad.columns"
   ]
  },
  {
   "cell_type": "code",
   "execution_count": 5,
   "metadata": {},
   "outputs": [],
   "source": [
    "com_ad['gender'] = com_ad['10110'] + com_ad['10111']"
   ]
  },
  {
   "cell_type": "code",
   "execution_count": 6,
   "metadata": {},
   "outputs": [
    {
     "data": {
      "text/plain": [
       "(88652, 65)"
      ]
     },
     "execution_count": 6,
     "metadata": {},
     "output_type": "execute_result"
    }
   ],
   "source": [
    "com_ad = com_ad[com_ad['gender']==1]\n",
    "com_ad.shape"
   ]
  },
  {
   "cell_type": "code",
   "execution_count": 7,
   "metadata": {},
   "outputs": [
    {
     "data": {
      "text/plain": [
       "0"
      ]
     },
     "execution_count": 7,
     "metadata": {},
     "output_type": "execute_result"
    }
   ],
   "source": [
    "com_ad['10110'].isna().sum()"
   ]
  },
  {
   "cell_type": "code",
   "execution_count": 8,
   "metadata": {},
   "outputs": [
    {
     "data": {
      "text/plain": [
       "0"
      ]
     },
     "execution_count": 8,
     "metadata": {},
     "output_type": "execute_result"
    }
   ],
   "source": [
    "com_ad['10111'].isna().sum()"
   ]
  },
  {
   "cell_type": "code",
   "execution_count": 9,
   "metadata": {},
   "outputs": [],
   "source": [
    "com_ad = com_ad.drop(['gender','10111'],axis=1)\n",
    "com_ad = com_ad.rename(columns={'10110':'is_male'})"
   ]
  },
  {
   "cell_type": "markdown",
   "metadata": {},
   "source": [
    "#### fillna with 0 to indicate if a specific user profile exists excluding gender"
   ]
  },
  {
   "cell_type": "code",
   "execution_count": 10,
   "metadata": {},
   "outputs": [
    {
     "data": {
      "text/html": [
       "<div>\n",
       "<style scoped>\n",
       "    .dataframe tbody tr th:only-of-type {\n",
       "        vertical-align: middle;\n",
       "    }\n",
       "\n",
       "    .dataframe tbody tr th {\n",
       "        vertical-align: top;\n",
       "    }\n",
       "\n",
       "    .dataframe thead th {\n",
       "        text-align: right;\n",
       "    }\n",
       "</style>\n",
       "<table border=\"1\" class=\"dataframe\">\n",
       "  <thead>\n",
       "    <tr style=\"text-align: right;\">\n",
       "      <th></th>\n",
       "      <th>10006</th>\n",
       "      <th>10024</th>\n",
       "      <th>10031</th>\n",
       "      <th>10048</th>\n",
       "      <th>10052</th>\n",
       "      <th>10057</th>\n",
       "      <th>10059</th>\n",
       "      <th>10063</th>\n",
       "      <th>10067</th>\n",
       "      <th>10074</th>\n",
       "      <th>...</th>\n",
       "      <th>13678</th>\n",
       "      <th>13776</th>\n",
       "      <th>13800</th>\n",
       "      <th>13866</th>\n",
       "      <th>13874</th>\n",
       "      <th>14273</th>\n",
       "      <th>16593</th>\n",
       "      <th>16617</th>\n",
       "      <th>16661</th>\n",
       "      <th>16706</th>\n",
       "    </tr>\n",
       "  </thead>\n",
       "  <tbody>\n",
       "    <tr>\n",
       "      <th>0</th>\n",
       "      <td>1.0</td>\n",
       "      <td>0.0</td>\n",
       "      <td>0.0</td>\n",
       "      <td>0.0</td>\n",
       "      <td>0.0</td>\n",
       "      <td>0.0</td>\n",
       "      <td>0.0</td>\n",
       "      <td>0.0</td>\n",
       "      <td>0.0</td>\n",
       "      <td>0.0</td>\n",
       "      <td>...</td>\n",
       "      <td>0.0</td>\n",
       "      <td>0.0</td>\n",
       "      <td>0.0</td>\n",
       "      <td>0.0</td>\n",
       "      <td>0.0</td>\n",
       "      <td>0.0</td>\n",
       "      <td>0.0</td>\n",
       "      <td>0.0</td>\n",
       "      <td>0.0</td>\n",
       "      <td>0.0</td>\n",
       "    </tr>\n",
       "    <tr>\n",
       "      <th>1</th>\n",
       "      <td>1.0</td>\n",
       "      <td>1.0</td>\n",
       "      <td>1.0</td>\n",
       "      <td>0.0</td>\n",
       "      <td>1.0</td>\n",
       "      <td>0.0</td>\n",
       "      <td>0.0</td>\n",
       "      <td>1.0</td>\n",
       "      <td>0.0</td>\n",
       "      <td>0.0</td>\n",
       "      <td>...</td>\n",
       "      <td>0.0</td>\n",
       "      <td>0.0</td>\n",
       "      <td>1.0</td>\n",
       "      <td>1.0</td>\n",
       "      <td>0.0</td>\n",
       "      <td>1.0</td>\n",
       "      <td>0.0</td>\n",
       "      <td>0.0</td>\n",
       "      <td>0.0</td>\n",
       "      <td>0.0</td>\n",
       "    </tr>\n",
       "    <tr>\n",
       "      <th>3</th>\n",
       "      <td>1.0</td>\n",
       "      <td>1.0</td>\n",
       "      <td>0.0</td>\n",
       "      <td>0.0</td>\n",
       "      <td>1.0</td>\n",
       "      <td>1.0</td>\n",
       "      <td>0.0</td>\n",
       "      <td>1.0</td>\n",
       "      <td>0.0</td>\n",
       "      <td>0.0</td>\n",
       "      <td>...</td>\n",
       "      <td>0.0</td>\n",
       "      <td>0.0</td>\n",
       "      <td>0.0</td>\n",
       "      <td>1.0</td>\n",
       "      <td>0.0</td>\n",
       "      <td>0.0</td>\n",
       "      <td>0.0</td>\n",
       "      <td>0.0</td>\n",
       "      <td>0.0</td>\n",
       "      <td>0.0</td>\n",
       "    </tr>\n",
       "    <tr>\n",
       "      <th>9</th>\n",
       "      <td>1.0</td>\n",
       "      <td>0.0</td>\n",
       "      <td>1.0</td>\n",
       "      <td>1.0</td>\n",
       "      <td>0.0</td>\n",
       "      <td>0.0</td>\n",
       "      <td>1.0</td>\n",
       "      <td>1.0</td>\n",
       "      <td>0.0</td>\n",
       "      <td>0.0</td>\n",
       "      <td>...</td>\n",
       "      <td>0.0</td>\n",
       "      <td>0.0</td>\n",
       "      <td>0.0</td>\n",
       "      <td>1.0</td>\n",
       "      <td>0.0</td>\n",
       "      <td>1.0</td>\n",
       "      <td>0.0</td>\n",
       "      <td>0.0</td>\n",
       "      <td>0.0</td>\n",
       "      <td>0.0</td>\n",
       "    </tr>\n",
       "    <tr>\n",
       "      <th>12</th>\n",
       "      <td>0.0</td>\n",
       "      <td>0.0</td>\n",
       "      <td>0.0</td>\n",
       "      <td>0.0</td>\n",
       "      <td>0.0</td>\n",
       "      <td>0.0</td>\n",
       "      <td>0.0</td>\n",
       "      <td>1.0</td>\n",
       "      <td>0.0</td>\n",
       "      <td>0.0</td>\n",
       "      <td>...</td>\n",
       "      <td>0.0</td>\n",
       "      <td>0.0</td>\n",
       "      <td>0.0</td>\n",
       "      <td>0.0</td>\n",
       "      <td>0.0</td>\n",
       "      <td>0.0</td>\n",
       "      <td>0.0</td>\n",
       "      <td>0.0</td>\n",
       "      <td>0.0</td>\n",
       "      <td>0.0</td>\n",
       "    </tr>\n",
       "    <tr>\n",
       "      <th>...</th>\n",
       "      <td>...</td>\n",
       "      <td>...</td>\n",
       "      <td>...</td>\n",
       "      <td>...</td>\n",
       "      <td>...</td>\n",
       "      <td>...</td>\n",
       "      <td>...</td>\n",
       "      <td>...</td>\n",
       "      <td>...</td>\n",
       "      <td>...</td>\n",
       "      <td>...</td>\n",
       "      <td>...</td>\n",
       "      <td>...</td>\n",
       "      <td>...</td>\n",
       "      <td>...</td>\n",
       "      <td>...</td>\n",
       "      <td>...</td>\n",
       "      <td>...</td>\n",
       "      <td>...</td>\n",
       "      <td>...</td>\n",
       "      <td>...</td>\n",
       "    </tr>\n",
       "    <tr>\n",
       "      <th>131092</th>\n",
       "      <td>1.0</td>\n",
       "      <td>0.0</td>\n",
       "      <td>0.0</td>\n",
       "      <td>0.0</td>\n",
       "      <td>0.0</td>\n",
       "      <td>0.0</td>\n",
       "      <td>0.0</td>\n",
       "      <td>0.0</td>\n",
       "      <td>0.0</td>\n",
       "      <td>0.0</td>\n",
       "      <td>...</td>\n",
       "      <td>0.0</td>\n",
       "      <td>0.0</td>\n",
       "      <td>0.0</td>\n",
       "      <td>0.0</td>\n",
       "      <td>0.0</td>\n",
       "      <td>0.0</td>\n",
       "      <td>0.0</td>\n",
       "      <td>0.0</td>\n",
       "      <td>0.0</td>\n",
       "      <td>0.0</td>\n",
       "    </tr>\n",
       "    <tr>\n",
       "      <th>131093</th>\n",
       "      <td>1.0</td>\n",
       "      <td>1.0</td>\n",
       "      <td>0.0</td>\n",
       "      <td>0.0</td>\n",
       "      <td>1.0</td>\n",
       "      <td>1.0</td>\n",
       "      <td>0.0</td>\n",
       "      <td>1.0</td>\n",
       "      <td>0.0</td>\n",
       "      <td>0.0</td>\n",
       "      <td>...</td>\n",
       "      <td>0.0</td>\n",
       "      <td>0.0</td>\n",
       "      <td>0.0</td>\n",
       "      <td>0.0</td>\n",
       "      <td>0.0</td>\n",
       "      <td>0.0</td>\n",
       "      <td>0.0</td>\n",
       "      <td>0.0</td>\n",
       "      <td>0.0</td>\n",
       "      <td>0.0</td>\n",
       "    </tr>\n",
       "    <tr>\n",
       "      <th>131094</th>\n",
       "      <td>1.0</td>\n",
       "      <td>0.0</td>\n",
       "      <td>0.0</td>\n",
       "      <td>0.0</td>\n",
       "      <td>0.0</td>\n",
       "      <td>1.0</td>\n",
       "      <td>1.0</td>\n",
       "      <td>1.0</td>\n",
       "      <td>0.0</td>\n",
       "      <td>0.0</td>\n",
       "      <td>...</td>\n",
       "      <td>0.0</td>\n",
       "      <td>0.0</td>\n",
       "      <td>0.0</td>\n",
       "      <td>0.0</td>\n",
       "      <td>0.0</td>\n",
       "      <td>0.0</td>\n",
       "      <td>0.0</td>\n",
       "      <td>0.0</td>\n",
       "      <td>0.0</td>\n",
       "      <td>0.0</td>\n",
       "    </tr>\n",
       "    <tr>\n",
       "      <th>131095</th>\n",
       "      <td>1.0</td>\n",
       "      <td>1.0</td>\n",
       "      <td>0.0</td>\n",
       "      <td>0.0</td>\n",
       "      <td>1.0</td>\n",
       "      <td>1.0</td>\n",
       "      <td>1.0</td>\n",
       "      <td>1.0</td>\n",
       "      <td>0.0</td>\n",
       "      <td>0.0</td>\n",
       "      <td>...</td>\n",
       "      <td>0.0</td>\n",
       "      <td>0.0</td>\n",
       "      <td>0.0</td>\n",
       "      <td>0.0</td>\n",
       "      <td>0.0</td>\n",
       "      <td>1.0</td>\n",
       "      <td>0.0</td>\n",
       "      <td>0.0</td>\n",
       "      <td>0.0</td>\n",
       "      <td>0.0</td>\n",
       "    </tr>\n",
       "    <tr>\n",
       "      <th>131096</th>\n",
       "      <td>1.0</td>\n",
       "      <td>0.0</td>\n",
       "      <td>0.0</td>\n",
       "      <td>0.0</td>\n",
       "      <td>0.0</td>\n",
       "      <td>0.0</td>\n",
       "      <td>1.0</td>\n",
       "      <td>1.0</td>\n",
       "      <td>0.0</td>\n",
       "      <td>0.0</td>\n",
       "      <td>...</td>\n",
       "      <td>0.0</td>\n",
       "      <td>0.0</td>\n",
       "      <td>0.0</td>\n",
       "      <td>0.0</td>\n",
       "      <td>0.0</td>\n",
       "      <td>0.0</td>\n",
       "      <td>0.0</td>\n",
       "      <td>0.0</td>\n",
       "      <td>0.0</td>\n",
       "      <td>0.0</td>\n",
       "    </tr>\n",
       "  </tbody>\n",
       "</table>\n",
       "<p>88652 rows × 41 columns</p>\n",
       "</div>"
      ],
      "text/plain": [
       "        10006  10024  10031  10048  10052  10057  10059  10063  10067  10074  \\\n",
       "0         1.0    0.0    0.0    0.0    0.0    0.0    0.0    0.0    0.0    0.0   \n",
       "1         1.0    1.0    1.0    0.0    1.0    0.0    0.0    1.0    0.0    0.0   \n",
       "3         1.0    1.0    0.0    0.0    1.0    1.0    0.0    1.0    0.0    0.0   \n",
       "9         1.0    0.0    1.0    1.0    0.0    0.0    1.0    1.0    0.0    0.0   \n",
       "12        0.0    0.0    0.0    0.0    0.0    0.0    0.0    1.0    0.0    0.0   \n",
       "...       ...    ...    ...    ...    ...    ...    ...    ...    ...    ...   \n",
       "131092    1.0    0.0    0.0    0.0    0.0    0.0    0.0    0.0    0.0    0.0   \n",
       "131093    1.0    1.0    0.0    0.0    1.0    1.0    0.0    1.0    0.0    0.0   \n",
       "131094    1.0    0.0    0.0    0.0    0.0    1.0    1.0    1.0    0.0    0.0   \n",
       "131095    1.0    1.0    0.0    0.0    1.0    1.0    1.0    1.0    0.0    0.0   \n",
       "131096    1.0    0.0    0.0    0.0    0.0    0.0    1.0    1.0    0.0    0.0   \n",
       "\n",
       "        ...  13678  13776  13800  13866  13874  14273  16593  16617  16661  \\\n",
       "0       ...    0.0    0.0    0.0    0.0    0.0    0.0    0.0    0.0    0.0   \n",
       "1       ...    0.0    0.0    1.0    1.0    0.0    1.0    0.0    0.0    0.0   \n",
       "3       ...    0.0    0.0    0.0    1.0    0.0    0.0    0.0    0.0    0.0   \n",
       "9       ...    0.0    0.0    0.0    1.0    0.0    1.0    0.0    0.0    0.0   \n",
       "12      ...    0.0    0.0    0.0    0.0    0.0    0.0    0.0    0.0    0.0   \n",
       "...     ...    ...    ...    ...    ...    ...    ...    ...    ...    ...   \n",
       "131092  ...    0.0    0.0    0.0    0.0    0.0    0.0    0.0    0.0    0.0   \n",
       "131093  ...    0.0    0.0    0.0    0.0    0.0    0.0    0.0    0.0    0.0   \n",
       "131094  ...    0.0    0.0    0.0    0.0    0.0    0.0    0.0    0.0    0.0   \n",
       "131095  ...    0.0    0.0    0.0    0.0    0.0    1.0    0.0    0.0    0.0   \n",
       "131096  ...    0.0    0.0    0.0    0.0    0.0    0.0    0.0    0.0    0.0   \n",
       "\n",
       "        16706  \n",
       "0         0.0  \n",
       "1         0.0  \n",
       "3         0.0  \n",
       "9         0.0  \n",
       "12        0.0  \n",
       "...       ...  \n",
       "131092    0.0  \n",
       "131093    0.0  \n",
       "131094    0.0  \n",
       "131095    0.0  \n",
       "131096    0.0  \n",
       "\n",
       "[88652 rows x 41 columns]"
      ]
     },
     "execution_count": 10,
     "metadata": {},
     "output_type": "execute_result"
    }
   ],
   "source": [
    "# fillna with 0 to indicate if a specific user profile exists\n",
    "com_ad[['10006','10024', '10031', '10048', '10052', '10057', '10059', '10063', '10067',\n",
    "       '10074', '10075', '10076', '10077', '10079', '10083', '10093', '10102',\n",
    "       '10684', '11092', '11278', '11379', '11423', '11512',\n",
    "       '11576', '11632', '11680', '11724', '11944', '13042', '13403', '13496',\n",
    "       '13678', '13776', '13800', '13866', '13874', '14273', '16593', '16617',\n",
    "       '16661', '16706']] = com_ad[['10006','10024', '10031', '10048', '10052', '10057', '10059', '10063', '10067',\n",
    "       '10074', '10075', '10076', '10077', '10079', '10083', '10093', '10102',\n",
    "       '10684', '11092', '11278', '11379', '11423', '11512',\n",
    "       '11576', '11632', '11680', '11724', '11944', '13042', '13403', '13496',\n",
    "       '13678', '13776', '13800', '13866', '13874', '14273', '16593', '16617',\n",
    "       '16661', '16706']].fillna(0)\n",
    "\n",
    "com_ad[['10006','10024', '10031', '10048', '10052', '10057', '10059', '10063', '10067',\n",
    "       '10074', '10075', '10076', '10077', '10079', '10083', '10093', '10102',\n",
    "       '10684', '11092', '11278', '11379', '11423', '11512',\n",
    "       '11576', '11632', '11680', '11724', '11944', '13042', '13403', '13496',\n",
    "       '13678', '13776', '13800', '13866', '13874', '14273', '16593', '16617',\n",
    "       '16661', '16706']]"
   ]
  },
  {
   "cell_type": "markdown",
   "metadata": {},
   "source": [
    "#### Keep columns that are useful for model from imp to click"
   ]
  },
  {
   "cell_type": "code",
   "execution_count": 11,
   "metadata": {},
   "outputs": [
    {
     "data": {
      "text/plain": [
       "(88652, 56)"
      ]
     },
     "execution_count": 11,
     "metadata": {},
     "output_type": "execute_result"
    }
   ],
   "source": [
    "ad_imp = com_ad[['Timestamp_impressions', 'Log Type', \n",
    "       'Region ID_impressions', 'City ID', 'Ad Exchange', 'Ad Slot Width',\n",
    "       'Ad Slot Height', 'Ad Slot Visibility', 'Ad Slot Format',\n",
    "       'Ad Slot Floor Price', 'Bidding Price', 'Paying Price', 'Advertiser ID',\n",
    "       'has click',\n",
    "       '10006', '10024', '10031', '10048', '10052', '10057', '10059', '10063',\n",
    "       '10067', '10074', '10075', '10076', '10077', '10079', '10083', '10093',\n",
    "       '10102', 'is_male', '10684', '11092', '11278', '11379', '11423',\n",
    "       '11512', '11576', '11632', '11680', '11724', '11944', '13042', '13403',\n",
    "       '13496', '13678', '13776', '13800', '13866', '13874', '14273', '16593',\n",
    "       '16617', '16661', '16706']]\n",
    "\n",
    "ad_imp.shape"
   ]
  },
  {
   "cell_type": "code",
   "execution_count": 12,
   "metadata": {},
   "outputs": [
    {
     "data": {
      "text/plain": [
       "<AxesSubplot:>"
      ]
     },
     "execution_count": 12,
     "metadata": {},
     "output_type": "execute_result"
    },
    {
     "data": {
      "image/png": "[encoded data removed]",
      "text/plain": [
       "<Figure size 432x288 with 2 Axes>"
      ]
     },
     "metadata": {
      "needs_background": "light"
     },
     "output_type": "display_data"
    }
   ],
   "source": [
    "corr = ad_imp.corr()\n",
    "sns.heatmap(corr, xticklabels=corr.columns, yticklabels=corr.columns)"
   ]
  },
  {
   "cell_type": "code",
   "execution_count": 13,
   "metadata": {
    "collapsed": true
   },
   "outputs": [
    {
     "name": "stdout",
     "output_type": "stream",
     "text": [
      "Timestamp_impressions    1.000000\n",
      "Ad Slot Width            0.134777\n",
      "Name: Timestamp_impressions, dtype: float64\n",
      "Series([], Name: Log Type, dtype: float64)\n",
      "Region ID_impressions    1.000000\n",
      "City ID                  0.995189\n",
      "Name: Region ID_impressions, dtype: float64\n",
      "City ID                  1.000000\n",
      "Region ID_impressions    0.995189\n",
      "Name: City ID, dtype: float64\n",
      "Ad Exchange            1.000000\n",
      "Ad Slot Floor Price    0.685765\n",
      "Name: Ad Exchange, dtype: float64\n",
      "Ad Slot Width    1.000000\n",
      "Ad Exchange      0.582331\n",
      "Name: Ad Slot Width, dtype: float64\n",
      "Ad Slot Height    1.000000\n",
      "Ad Slot Format    0.282354\n",
      "Name: Ad Slot Height, dtype: float64\n",
      "Ad Slot Visibility    1.000000\n",
      "Ad Slot Format        0.098739\n",
      "Name: Ad Slot Visibility, dtype: float64\n",
      "Ad Slot Format    1.000000\n",
      "Ad Slot Height    0.282354\n",
      "Name: Ad Slot Format, dtype: float64\n",
      "Ad Slot Floor Price    1.000000\n",
      "Ad Exchange            0.685765\n",
      "Name: Ad Slot Floor Price, dtype: float64\n",
      "Bidding Price    1.000000\n",
      "Ad Exchange      0.148539\n",
      "Name: Bidding Price, dtype: float64\n",
      "Paying Price      1.000000\n",
      "Ad Slot Format    0.202974\n",
      "Name: Paying Price, dtype: float64\n",
      "Advertiser ID    1.000000\n",
      "is_male          0.122233\n",
      "Name: Advertiser ID, dtype: float64\n",
      "has click    1.000000\n",
      "11278        0.503989\n",
      "Name: has click, dtype: float64\n",
      "10006    1.000000\n",
      "13403    0.298718\n",
      "Name: 10006, dtype: float64\n",
      "10024    1.000000\n",
      "13800    0.265889\n",
      "Name: 10024, dtype: float64\n",
      "10031    1.000000\n",
      "13042    0.502527\n",
      "Name: 10031, dtype: float64\n",
      "10048    1.000000\n",
      "11944    0.279994\n",
      "Name: 10048, dtype: float64\n",
      "10052    1.000000\n",
      "14273    0.409722\n",
      "Name: 10052, dtype: float64\n",
      "10057    1.000000\n",
      "10052    0.258334\n",
      "Name: 10057, dtype: float64\n",
      "10059    1.000000\n",
      "10075    0.333905\n",
      "Name: 10059, dtype: float64\n",
      "10063    1.000000\n",
      "10059    0.244892\n",
      "Name: 10063, dtype: float64\n",
      "10067    1.000000\n",
      "11724    0.305852\n",
      "Name: 10067, dtype: float64\n",
      "10074    1.000000\n",
      "10048    0.214901\n",
      "Name: 10074, dtype: float64\n",
      "10075    1.000000\n",
      "10076    0.385118\n",
      "Name: 10075, dtype: float64\n",
      "10076    1.000000\n",
      "10075    0.385118\n",
      "Name: 10076, dtype: float64\n",
      "10077    1.000000\n",
      "10059    0.207144\n",
      "Name: 10077, dtype: float64\n",
      "10079    1.000000\n",
      "10048    0.253629\n",
      "Name: 10079, dtype: float64\n",
      "10083          1.000000\n",
      "Ad Exchange    0.299393\n",
      "Name: 10083, dtype: float64\n",
      "10093    1.000000\n",
      "13496    0.428838\n",
      "Name: 10093, dtype: float64\n",
      "10102    1.000000\n",
      "10075    0.086511\n",
      "Name: 10102, dtype: float64\n",
      "is_male    1.000000\n",
      "10083      0.282499\n",
      "Name: is_male, dtype: float64\n",
      "10684    1.000000\n",
      "11092    0.311819\n",
      "Name: 10684, dtype: float64\n",
      "11092    1.000000\n",
      "10684    0.311819\n",
      "Name: 11092, dtype: float64\n",
      "11278        1.000000\n",
      "has click    0.503989\n",
      "Name: 11278, dtype: float64\n",
      "11379    1.000000\n",
      "11680    0.197729\n",
      "Name: 11379, dtype: float64\n",
      "11423    1.000000\n",
      "11092    0.218386\n",
      "Name: 11423, dtype: float64\n",
      "11512    1.000000\n",
      "11724    0.024336\n",
      "Name: 11512, dtype: float64\n",
      "11576    1.000000\n",
      "10684    0.189645\n",
      "Name: 11576, dtype: float64\n",
      "11632    1.00000\n",
      "11576    0.16526\n",
      "Name: 11632, dtype: float64\n",
      "11680    1.000000\n",
      "11379    0.197729\n",
      "Name: 11680, dtype: float64\n",
      "11724    1.000000\n",
      "10067    0.305852\n",
      "Name: 11724, dtype: float64\n",
      "11944    1.000000\n",
      "10048    0.279994\n",
      "Name: 11944, dtype: float64\n",
      "13042    1.000000\n",
      "10031    0.502527\n",
      "Name: 13042, dtype: float64\n",
      "13403    1.000000\n",
      "10006    0.298718\n",
      "Name: 13403, dtype: float64\n",
      "13496    1.000000\n",
      "10093    0.428838\n",
      "Name: 13496, dtype: float64\n",
      "13678    1.000000\n",
      "10024    0.183172\n",
      "Name: 13678, dtype: float64\n",
      "13776    1.000000\n",
      "13496    0.083371\n",
      "Name: 13776, dtype: float64\n",
      "13800    1.000000\n",
      "10024    0.265889\n",
      "Name: 13800, dtype: float64\n",
      "13866             1.000000\n",
      "Ad Slot Height    0.193375\n",
      "Name: 13866, dtype: float64\n",
      "13874    1.000000\n",
      "11423    0.150401\n",
      "Name: 13874, dtype: float64\n",
      "14273    1.000000\n",
      "10052    0.409722\n",
      "Name: 14273, dtype: float64\n",
      "16593    1.000000\n",
      "16706    0.026517\n",
      "Name: 16593, dtype: float64\n",
      "16617    1.000000\n",
      "11680    0.073745\n",
      "Name: 16617, dtype: float64\n",
      "16661    1.000000\n",
      "11379    0.170334\n",
      "Name: 16661, dtype: float64\n",
      "16706    1.000000\n",
      "10048    0.068414\n",
      "Name: 16706, dtype: float64\n"
     ]
    }
   ],
   "source": [
    "# print top two correlations for each column \n",
    "for i in ad_imp.columns:\n",
    "    print(corr[i].nlargest(2))"
   ]
  },
  {
   "cell_type": "markdown",
   "metadata": {},
   "source": [
    "#### Remove the city id since it's highly related to region id"
   ]
  },
  {
   "cell_type": "code",
   "execution_count": 14,
   "metadata": {},
   "outputs": [
    {
     "data": {
      "text/plain": [
       "(88652, 55)"
      ]
     },
     "execution_count": 14,
     "metadata": {},
     "output_type": "execute_result"
    }
   ],
   "source": [
    "ad_imp = ad_imp.drop(['City ID'], axis=1)\n",
    "ad_imp.shape"
   ]
  },
  {
   "cell_type": "code",
   "execution_count": 15,
   "metadata": {},
   "outputs": [
    {
     "data": {
      "text/html": [
       "<div>\n",
       "<style scoped>\n",
       "    .dataframe tbody tr th:only-of-type {\n",
       "        vertical-align: middle;\n",
       "    }\n",
       "\n",
       "    .dataframe tbody tr th {\n",
       "        vertical-align: top;\n",
       "    }\n",
       "\n",
       "    .dataframe thead th {\n",
       "        text-align: right;\n",
       "    }\n",
       "</style>\n",
       "<table border=\"1\" class=\"dataframe\">\n",
       "  <thead>\n",
       "    <tr style=\"text-align: right;\">\n",
       "      <th></th>\n",
       "      <th>Timestamp_impressions</th>\n",
       "      <th>Log Type</th>\n",
       "      <th>Region ID_impressions</th>\n",
       "      <th>Ad Exchange</th>\n",
       "      <th>Ad Slot Width</th>\n",
       "      <th>Ad Slot Height</th>\n",
       "      <th>Ad Slot Visibility</th>\n",
       "      <th>Ad Slot Format</th>\n",
       "      <th>Ad Slot Floor Price</th>\n",
       "      <th>Bidding Price</th>\n",
       "      <th>...</th>\n",
       "      <th>13678</th>\n",
       "      <th>13776</th>\n",
       "      <th>13800</th>\n",
       "      <th>13866</th>\n",
       "      <th>13874</th>\n",
       "      <th>14273</th>\n",
       "      <th>16593</th>\n",
       "      <th>16617</th>\n",
       "      <th>16661</th>\n",
       "      <th>16706</th>\n",
       "    </tr>\n",
       "  </thead>\n",
       "  <tbody>\n",
       "    <tr>\n",
       "      <th>count</th>\n",
       "      <td>8.865200e+04</td>\n",
       "      <td>88652.0</td>\n",
       "      <td>88652.000000</td>\n",
       "      <td>88652.000000</td>\n",
       "      <td>88652.000000</td>\n",
       "      <td>88652.000000</td>\n",
       "      <td>88652.000000</td>\n",
       "      <td>88652.000000</td>\n",
       "      <td>88652.000000</td>\n",
       "      <td>88652.000000</td>\n",
       "      <td>...</td>\n",
       "      <td>88652.000000</td>\n",
       "      <td>88652.000000</td>\n",
       "      <td>88652.000000</td>\n",
       "      <td>88652.000000</td>\n",
       "      <td>88652.000000</td>\n",
       "      <td>88652.000000</td>\n",
       "      <td>88652.000000</td>\n",
       "      <td>88652.000000</td>\n",
       "      <td>88652.000000</td>\n",
       "      <td>88652.000000</td>\n",
       "    </tr>\n",
       "    <tr>\n",
       "      <th>mean</th>\n",
       "      <td>2.013061e+16</td>\n",
       "      <td>1.0</td>\n",
       "      <td>143.652033</td>\n",
       "      <td>2.074753</td>\n",
       "      <td>596.181812</td>\n",
       "      <td>192.394193</td>\n",
       "      <td>3.098091</td>\n",
       "      <td>0.364391</td>\n",
       "      <td>27.381920</td>\n",
       "      <td>268.064680</td>\n",
       "      <td>...</td>\n",
       "      <td>0.022932</td>\n",
       "      <td>0.061014</td>\n",
       "      <td>0.123663</td>\n",
       "      <td>0.236836</td>\n",
       "      <td>0.001072</td>\n",
       "      <td>0.129642</td>\n",
       "      <td>0.001286</td>\n",
       "      <td>0.001974</td>\n",
       "      <td>0.003305</td>\n",
       "      <td>0.002008</td>\n",
       "    </tr>\n",
       "    <tr>\n",
       "      <th>std</th>\n",
       "      <td>1.984319e+09</td>\n",
       "      <td>0.0</td>\n",
       "      <td>102.245699</td>\n",
       "      <td>0.839593</td>\n",
       "      <td>328.123548</td>\n",
       "      <td>132.482990</td>\n",
       "      <td>23.979628</td>\n",
       "      <td>0.681330</td>\n",
       "      <td>34.636356</td>\n",
       "      <td>30.345306</td>\n",
       "      <td>...</td>\n",
       "      <td>0.149689</td>\n",
       "      <td>0.239357</td>\n",
       "      <td>0.329199</td>\n",
       "      <td>0.425143</td>\n",
       "      <td>0.032718</td>\n",
       "      <td>0.335911</td>\n",
       "      <td>0.035837</td>\n",
       "      <td>0.044386</td>\n",
       "      <td>0.057395</td>\n",
       "      <td>0.044764</td>\n",
       "    </tr>\n",
       "    <tr>\n",
       "      <th>min</th>\n",
       "      <td>2.013061e+16</td>\n",
       "      <td>1.0</td>\n",
       "      <td>0.000000</td>\n",
       "      <td>1.000000</td>\n",
       "      <td>120.000000</td>\n",
       "      <td>60.000000</td>\n",
       "      <td>0.000000</td>\n",
       "      <td>0.000000</td>\n",
       "      <td>0.000000</td>\n",
       "      <td>227.000000</td>\n",
       "      <td>...</td>\n",
       "      <td>0.000000</td>\n",
       "      <td>0.000000</td>\n",
       "      <td>0.000000</td>\n",
       "      <td>0.000000</td>\n",
       "      <td>0.000000</td>\n",
       "      <td>0.000000</td>\n",
       "      <td>0.000000</td>\n",
       "      <td>0.000000</td>\n",
       "      <td>0.000000</td>\n",
       "      <td>0.000000</td>\n",
       "    </tr>\n",
       "    <tr>\n",
       "      <th>25%</th>\n",
       "      <td>2.013061e+16</td>\n",
       "      <td>1.0</td>\n",
       "      <td>65.000000</td>\n",
       "      <td>1.000000</td>\n",
       "      <td>300.000000</td>\n",
       "      <td>90.000000</td>\n",
       "      <td>0.000000</td>\n",
       "      <td>0.000000</td>\n",
       "      <td>0.000000</td>\n",
       "      <td>238.000000</td>\n",
       "      <td>...</td>\n",
       "      <td>0.000000</td>\n",
       "      <td>0.000000</td>\n",
       "      <td>0.000000</td>\n",
       "      <td>0.000000</td>\n",
       "      <td>0.000000</td>\n",
       "      <td>0.000000</td>\n",
       "      <td>0.000000</td>\n",
       "      <td>0.000000</td>\n",
       "      <td>0.000000</td>\n",
       "      <td>0.000000</td>\n",
       "    </tr>\n",
       "    <tr>\n",
       "      <th>50%</th>\n",
       "      <td>2.013061e+16</td>\n",
       "      <td>1.0</td>\n",
       "      <td>134.000000</td>\n",
       "      <td>2.000000</td>\n",
       "      <td>468.000000</td>\n",
       "      <td>90.000000</td>\n",
       "      <td>0.000000</td>\n",
       "      <td>0.000000</td>\n",
       "      <td>5.000000</td>\n",
       "      <td>254.000000</td>\n",
       "      <td>...</td>\n",
       "      <td>0.000000</td>\n",
       "      <td>0.000000</td>\n",
       "      <td>0.000000</td>\n",
       "      <td>0.000000</td>\n",
       "      <td>0.000000</td>\n",
       "      <td>0.000000</td>\n",
       "      <td>0.000000</td>\n",
       "      <td>0.000000</td>\n",
       "      <td>0.000000</td>\n",
       "      <td>0.000000</td>\n",
       "    </tr>\n",
       "    <tr>\n",
       "      <th>75%</th>\n",
       "      <td>2.013061e+16</td>\n",
       "      <td>1.0</td>\n",
       "      <td>216.000000</td>\n",
       "      <td>3.000000</td>\n",
       "      <td>1000.000000</td>\n",
       "      <td>250.000000</td>\n",
       "      <td>2.000000</td>\n",
       "      <td>1.000000</td>\n",
       "      <td>50.000000</td>\n",
       "      <td>300.000000</td>\n",
       "      <td>...</td>\n",
       "      <td>0.000000</td>\n",
       "      <td>0.000000</td>\n",
       "      <td>0.000000</td>\n",
       "      <td>0.000000</td>\n",
       "      <td>0.000000</td>\n",
       "      <td>0.000000</td>\n",
       "      <td>0.000000</td>\n",
       "      <td>0.000000</td>\n",
       "      <td>0.000000</td>\n",
       "      <td>0.000000</td>\n",
       "    </tr>\n",
       "    <tr>\n",
       "      <th>max</th>\n",
       "      <td>2.013061e+16</td>\n",
       "      <td>1.0</td>\n",
       "      <td>395.000000</td>\n",
       "      <td>3.000000</td>\n",
       "      <td>1000.000000</td>\n",
       "      <td>600.000000</td>\n",
       "      <td>255.000000</td>\n",
       "      <td>5.000000</td>\n",
       "      <td>295.000000</td>\n",
       "      <td>300.000000</td>\n",
       "      <td>...</td>\n",
       "      <td>1.000000</td>\n",
       "      <td>1.000000</td>\n",
       "      <td>1.000000</td>\n",
       "      <td>1.000000</td>\n",
       "      <td>1.000000</td>\n",
       "      <td>1.000000</td>\n",
       "      <td>1.000000</td>\n",
       "      <td>1.000000</td>\n",
       "      <td>1.000000</td>\n",
       "      <td>1.000000</td>\n",
       "    </tr>\n",
       "  </tbody>\n",
       "</table>\n",
       "<p>8 rows × 55 columns</p>\n",
       "</div>"
      ],
      "text/plain": [
       "       Timestamp_impressions  Log Type  Region ID_impressions   Ad Exchange  \\\n",
       "count           8.865200e+04   88652.0           88652.000000  88652.000000   \n",
       "mean            2.013061e+16       1.0             143.652033      2.074753   \n",
       "std             1.984319e+09       0.0             102.245699      0.839593   \n",
       "min             2.013061e+16       1.0               0.000000      1.000000   \n",
       "25%             2.013061e+16       1.0              65.000000      1.000000   \n",
       "50%             2.013061e+16       1.0             134.000000      2.000000   \n",
       "75%             2.013061e+16       1.0             216.000000      3.000000   \n",
       "max             2.013061e+16       1.0             395.000000      3.000000   \n",
       "\n",
       "       Ad Slot Width  Ad Slot Height  Ad Slot Visibility  Ad Slot Format  \\\n",
       "count   88652.000000    88652.000000        88652.000000    88652.000000   \n",
       "mean      596.181812      192.394193            3.098091        0.364391   \n",
       "std       328.123548      132.482990           23.979628        0.681330   \n",
       "min       120.000000       60.000000            0.000000        0.000000   \n",
       "25%       300.000000       90.000000            0.000000        0.000000   \n",
       "50%       468.000000       90.000000            0.000000        0.000000   \n",
       "75%      1000.000000      250.000000            2.000000        1.000000   \n",
       "max      1000.000000      600.000000          255.000000        5.000000   \n",
       "\n",
       "       Ad Slot Floor Price  Bidding Price  ...         13678         13776  \\\n",
       "count         88652.000000   88652.000000  ...  88652.000000  88652.000000   \n",
       "mean             27.381920     268.064680  ...      0.022932      0.061014   \n",
       "std              34.636356      30.345306  ...      0.149689      0.239357   \n",
       "min               0.000000     227.000000  ...      0.000000      0.000000   \n",
       "25%               0.000000     238.000000  ...      0.000000      0.000000   \n",
       "50%               5.000000     254.000000  ...      0.000000      0.000000   \n",
       "75%              50.000000     300.000000  ...      0.000000      0.000000   \n",
       "max             295.000000     300.000000  ...      1.000000      1.000000   \n",
       "\n",
       "              13800         13866         13874         14273         16593  \\\n",
       "count  88652.000000  88652.000000  88652.000000  88652.000000  88652.000000   \n",
       "mean       0.123663      0.236836      0.001072      0.129642      0.001286   \n",
       "std        0.329199      0.425143      0.032718      0.335911      0.035837   \n",
       "min        0.000000      0.000000      0.000000      0.000000      0.000000   \n",
       "25%        0.000000      0.000000      0.000000      0.000000      0.000000   \n",
       "50%        0.000000      0.000000      0.000000      0.000000      0.000000   \n",
       "75%        0.000000      0.000000      0.000000      0.000000      0.000000   \n",
       "max        1.000000      1.000000      1.000000      1.000000      1.000000   \n",
       "\n",
       "              16617         16661         16706  \n",
       "count  88652.000000  88652.000000  88652.000000  \n",
       "mean       0.001974      0.003305      0.002008  \n",
       "std        0.044386      0.057395      0.044764  \n",
       "min        0.000000      0.000000      0.000000  \n",
       "25%        0.000000      0.000000      0.000000  \n",
       "50%        0.000000      0.000000      0.000000  \n",
       "75%        0.000000      0.000000      0.000000  \n",
       "max        1.000000      1.000000      1.000000  \n",
       "\n",
       "[8 rows x 55 columns]"
      ]
     },
     "execution_count": 15,
     "metadata": {},
     "output_type": "execute_result"
    }
   ],
   "source": [
    "ad_imp_summary = ad_imp.describe()\n",
    "ad_imp_summary"
   ]
  },
  {
   "cell_type": "code",
   "execution_count": 16,
   "metadata": {
    "scrolled": true
   },
   "outputs": [
    {
     "data": {
      "text/plain": [
       "Log Type    0.0\n",
       "Name: std, dtype: float64"
      ]
     },
     "execution_count": 16,
     "metadata": {},
     "output_type": "execute_result"
    }
   ],
   "source": [
    "# filter constant feature [std = 0]\n",
    "ad_imp_summary.loc['std'][ad_imp_summary.loc['std'] == 0]"
   ]
  },
  {
   "cell_type": "code",
   "execution_count": 17,
   "metadata": {},
   "outputs": [
    {
     "data": {
      "text/plain": [
       "(88652, 54)"
      ]
     },
     "execution_count": 17,
     "metadata": {},
     "output_type": "execute_result"
    }
   ],
   "source": [
    "# drop feature Log Type because it's a constant\n",
    "ad_imp.drop(['Log Type'], axis=1, inplace=True)\n",
    "ad_imp.shape"
   ]
  },
  {
   "cell_type": "markdown",
   "metadata": {},
   "source": [
    "#### filter data with `impression` == 1"
   ]
  },
  {
   "cell_type": "code",
   "execution_count": 18,
   "metadata": {},
   "outputs": [],
   "source": [
    "# filter has impression == 1 to get the suitable dataset\n",
    "ad_imp2clk = ad_imp.copy()"
   ]
  },
  {
   "cell_type": "markdown",
   "metadata": {},
   "source": [
    "#### Convert some numerical variables to categorical variables"
   ]
  },
  {
   "cell_type": "markdown",
   "metadata": {},
   "source": [
    "* Ad Exchange: the source of replacement of this as\n",
    "\n",
    "* Ad Slot Visibility: relative location to the fold\n",
    "\n",
    "* Ad Slot Format: popup / fixed\n",
    "\n",
    "* Advertiser ID: advertiser field\n",
    "\n",
    "* Region ID\n",
    "\n",
    "NOT include in the dataset\n",
    "\n",
    "** Ad Slot ID: the location of current id\n",
    "\n",
    "** Creative ID:"
   ]
  },
  {
   "cell_type": "code",
   "execution_count": 19,
   "metadata": {
    "scrolled": true
   },
   "outputs": [],
   "source": [
    "# set ad exchange as object to get dummy variables\n",
    "ad_imp2clk['Ad Exchange'] = ad_imp2clk['Ad Exchange'].astype('object')\n",
    "# set ad slot visibility as object to get dummy variables\n",
    "ad_imp2clk['Ad Slot Visibility'] = ad_imp2clk['Ad Slot Visibility'].astype('object')\n",
    "# set ad slot format as object to get dummy variables\n",
    "ad_imp2clk['Ad Slot Format'] = ad_imp2clk['Ad Slot Format'].astype('object')\n",
    "# set advertiser id as object to get dummy variables\n",
    "ad_imp2clk['Advertiser ID'] = ad_imp2clk['Advertiser ID'].astype('object')\n",
    "# set region id as object to get dummy variables\n",
    "ad_imp2clk['Region ID_impressions'] = ad_imp2clk['Region ID_impressions'].astype('object')\n",
    "# set is_male as object to get dummy variables\n",
    "ad_imp2clk['is_male'] = ad_imp2clk['is_male'].astype('object')"
   ]
  },
  {
   "cell_type": "markdown",
   "metadata": {},
   "source": [
    "#### Training and testing data for fairlearn constraint"
   ]
  },
  {
   "cell_type": "markdown",
   "metadata": {},
   "source": [
    "* Only used for extracting sensitive attribute"
   ]
  },
  {
   "cell_type": "code",
   "execution_count": 20,
   "metadata": {},
   "outputs": [
    {
     "name": "stdout",
     "output_type": "stream",
     "text": [
      "(64798, 54)\n",
      "(23854, 54)\n"
     ]
    }
   ],
   "source": [
    "# use earlier five days as training data\n",
    "imp2clk_train = ad_imp2clk[ad_imp2clk['Timestamp_impressions']<20130611000000000]\n",
    "print(imp2clk_train.shape)\n",
    "# use the following two days as testing data\n",
    "imp2clk_test = ad_imp2clk[ad_imp2clk['Timestamp_impressions']>=20130611000000000]\n",
    "print(imp2clk_test.shape)"
   ]
  },
  {
   "cell_type": "code",
   "execution_count": 21,
   "metadata": {},
   "outputs": [
    {
     "data": {
      "text/plain": [
       "4133"
      ]
     },
     "execution_count": 21,
     "metadata": {},
     "output_type": "execute_result"
    }
   ],
   "source": [
    "imp2clk_train['has click'].sum()"
   ]
  },
  {
   "cell_type": "code",
   "execution_count": 22,
   "metadata": {},
   "outputs": [
    {
     "data": {
      "text/plain": [
       "(60665, 54)"
      ]
     },
     "execution_count": 22,
     "metadata": {},
     "output_type": "execute_result"
    }
   ],
   "source": [
    "imp2clk_train[imp2clk_train['has click']==0].shape"
   ]
  },
  {
   "cell_type": "code",
   "execution_count": 23,
   "metadata": {},
   "outputs": [],
   "source": [
    "# training set without dummy variables\n",
    "X1_train = imp2clk_train.drop('has click',axis=1)\n",
    "y1_train = imp2clk_train['has click']"
   ]
  },
  {
   "cell_type": "code",
   "execution_count": 24,
   "metadata": {},
   "outputs": [],
   "source": [
    "# testing set without dummy variables\n",
    "X1_test = imp2clk_test.drop('has click',axis=1)\n",
    "y1_test = imp2clk_test['has click']"
   ]
  },
  {
   "cell_type": "code",
   "execution_count": 25,
   "metadata": {},
   "outputs": [
    {
     "data": {
      "text/plain": [
       "Index(['Timestamp_impressions', 'Region ID_impressions', 'Ad Exchange',\n",
       "       'Ad Slot Width', 'Ad Slot Height', 'Ad Slot Visibility',\n",
       "       'Ad Slot Format', 'Ad Slot Floor Price', 'Bidding Price',\n",
       "       'Paying Price', 'Advertiser ID', '10006', '10024', '10031', '10048',\n",
       "       '10052', '10057', '10059', '10063', '10067', '10074', '10075', '10076',\n",
       "       '10077', '10079', '10083', '10093', '10102', 'is_male', '10684',\n",
       "       '11092', '11278', '11379', '11423', '11512', '11576', '11632', '11680',\n",
       "       '11724', '11944', '13042', '13403', '13496', '13678', '13776', '13800',\n",
       "       '13866', '13874', '14273', '16593', '16617', '16661', '16706'],\n",
       "      dtype='object')"
      ]
     },
     "execution_count": 25,
     "metadata": {},
     "output_type": "execute_result"
    }
   ],
   "source": [
    "X1_train.columns"
   ]
  },
  {
   "cell_type": "markdown",
   "metadata": {},
   "source": [
    "   #### Prepare training and testing dataset based on encoded impression dataset"
   ]
  },
  {
   "cell_type": "markdown",
   "metadata": {},
   "source": [
    "* Use encoded version in the modeling "
   ]
  },
  {
   "cell_type": "code",
   "execution_count": 26,
   "metadata": {
    "scrolled": true
   },
   "outputs": [
    {
     "data": {
      "text/html": [
       "<div>\n",
       "<style scoped>\n",
       "    .dataframe tbody tr th:only-of-type {\n",
       "        vertical-align: middle;\n",
       "    }\n",
       "\n",
       "    .dataframe tbody tr th {\n",
       "        vertical-align: top;\n",
       "    }\n",
       "\n",
       "    .dataframe thead th {\n",
       "        text-align: right;\n",
       "    }\n",
       "</style>\n",
       "<table border=\"1\" class=\"dataframe\">\n",
       "  <thead>\n",
       "    <tr style=\"text-align: right;\">\n",
       "      <th></th>\n",
       "      <th>Timestamp_impressions</th>\n",
       "      <th>Ad Slot Width</th>\n",
       "      <th>Ad Slot Height</th>\n",
       "      <th>Ad Slot Floor Price</th>\n",
       "      <th>Bidding Price</th>\n",
       "      <th>Paying Price</th>\n",
       "      <th>has click</th>\n",
       "      <th>10006</th>\n",
       "      <th>10024</th>\n",
       "      <th>10031</th>\n",
       "      <th>...</th>\n",
       "      <th>Region ID_impressions_393</th>\n",
       "      <th>Region ID_impressions_394</th>\n",
       "      <th>Region ID_impressions_395</th>\n",
       "      <th>Advertiser ID_1458</th>\n",
       "      <th>Advertiser ID_3358</th>\n",
       "      <th>Advertiser ID_3386</th>\n",
       "      <th>Advertiser ID_3427</th>\n",
       "      <th>Advertiser ID_3476</th>\n",
       "      <th>is_male_0.0</th>\n",
       "      <th>is_male_1.0</th>\n",
       "    </tr>\n",
       "  </thead>\n",
       "  <tbody>\n",
       "    <tr>\n",
       "      <th>0</th>\n",
       "      <td>20130606000104828</td>\n",
       "      <td>336</td>\n",
       "      <td>280</td>\n",
       "      <td>0</td>\n",
       "      <td>300</td>\n",
       "      <td>51</td>\n",
       "      <td>0</td>\n",
       "      <td>1.0</td>\n",
       "      <td>0.0</td>\n",
       "      <td>0.0</td>\n",
       "      <td>...</td>\n",
       "      <td>0</td>\n",
       "      <td>0</td>\n",
       "      <td>0</td>\n",
       "      <td>1</td>\n",
       "      <td>0</td>\n",
       "      <td>0</td>\n",
       "      <td>0</td>\n",
       "      <td>0</td>\n",
       "      <td>0</td>\n",
       "      <td>1</td>\n",
       "    </tr>\n",
       "    <tr>\n",
       "      <th>1</th>\n",
       "      <td>20130606000104915</td>\n",
       "      <td>250</td>\n",
       "      <td>250</td>\n",
       "      <td>23</td>\n",
       "      <td>249</td>\n",
       "      <td>68</td>\n",
       "      <td>0</td>\n",
       "      <td>1.0</td>\n",
       "      <td>1.0</td>\n",
       "      <td>1.0</td>\n",
       "      <td>...</td>\n",
       "      <td>0</td>\n",
       "      <td>0</td>\n",
       "      <td>0</td>\n",
       "      <td>0</td>\n",
       "      <td>0</td>\n",
       "      <td>0</td>\n",
       "      <td>0</td>\n",
       "      <td>1</td>\n",
       "      <td>0</td>\n",
       "      <td>1</td>\n",
       "    </tr>\n",
       "    <tr>\n",
       "      <th>3</th>\n",
       "      <td>20130606000105216</td>\n",
       "      <td>728</td>\n",
       "      <td>90</td>\n",
       "      <td>5</td>\n",
       "      <td>238</td>\n",
       "      <td>45</td>\n",
       "      <td>0</td>\n",
       "      <td>1.0</td>\n",
       "      <td>1.0</td>\n",
       "      <td>0.0</td>\n",
       "      <td>...</td>\n",
       "      <td>0</td>\n",
       "      <td>0</td>\n",
       "      <td>0</td>\n",
       "      <td>0</td>\n",
       "      <td>0</td>\n",
       "      <td>0</td>\n",
       "      <td>1</td>\n",
       "      <td>0</td>\n",
       "      <td>0</td>\n",
       "      <td>1</td>\n",
       "    </tr>\n",
       "    <tr>\n",
       "      <th>9</th>\n",
       "      <td>20130606000105938</td>\n",
       "      <td>728</td>\n",
       "      <td>90</td>\n",
       "      <td>5</td>\n",
       "      <td>249</td>\n",
       "      <td>45</td>\n",
       "      <td>0</td>\n",
       "      <td>1.0</td>\n",
       "      <td>0.0</td>\n",
       "      <td>1.0</td>\n",
       "      <td>...</td>\n",
       "      <td>0</td>\n",
       "      <td>0</td>\n",
       "      <td>0</td>\n",
       "      <td>0</td>\n",
       "      <td>0</td>\n",
       "      <td>0</td>\n",
       "      <td>0</td>\n",
       "      <td>1</td>\n",
       "      <td>0</td>\n",
       "      <td>1</td>\n",
       "    </tr>\n",
       "    <tr>\n",
       "      <th>12</th>\n",
       "      <td>20130606000106153</td>\n",
       "      <td>950</td>\n",
       "      <td>90</td>\n",
       "      <td>0</td>\n",
       "      <td>227</td>\n",
       "      <td>109</td>\n",
       "      <td>0</td>\n",
       "      <td>0.0</td>\n",
       "      <td>0.0</td>\n",
       "      <td>0.0</td>\n",
       "      <td>...</td>\n",
       "      <td>0</td>\n",
       "      <td>0</td>\n",
       "      <td>0</td>\n",
       "      <td>0</td>\n",
       "      <td>1</td>\n",
       "      <td>0</td>\n",
       "      <td>0</td>\n",
       "      <td>0</td>\n",
       "      <td>1</td>\n",
       "      <td>0</td>\n",
       "    </tr>\n",
       "  </tbody>\n",
       "</table>\n",
       "<p>5 rows × 100 columns</p>\n",
       "</div>"
      ],
      "text/plain": [
       "    Timestamp_impressions  Ad Slot Width  Ad Slot Height  Ad Slot Floor Price  \\\n",
       "0       20130606000104828            336             280                    0   \n",
       "1       20130606000104915            250             250                   23   \n",
       "3       20130606000105216            728              90                    5   \n",
       "9       20130606000105938            728              90                    5   \n",
       "12      20130606000106153            950              90                    0   \n",
       "\n",
       "    Bidding Price  Paying Price  has click  10006  10024  10031  ...  \\\n",
       "0             300            51          0    1.0    0.0    0.0  ...   \n",
       "1             249            68          0    1.0    1.0    1.0  ...   \n",
       "3             238            45          0    1.0    1.0    0.0  ...   \n",
       "9             249            45          0    1.0    0.0    1.0  ...   \n",
       "12            227           109          0    0.0    0.0    0.0  ...   \n",
       "\n",
       "    Region ID_impressions_393  Region ID_impressions_394  \\\n",
       "0                           0                          0   \n",
       "1                           0                          0   \n",
       "3                           0                          0   \n",
       "9                           0                          0   \n",
       "12                          0                          0   \n",
       "\n",
       "    Region ID_impressions_395  Advertiser ID_1458  Advertiser ID_3358  \\\n",
       "0                           0                   1                   0   \n",
       "1                           0                   0                   0   \n",
       "3                           0                   0                   0   \n",
       "9                           0                   0                   0   \n",
       "12                          0                   0                   1   \n",
       "\n",
       "    Advertiser ID_3386  Advertiser ID_3427  Advertiser ID_3476  is_male_0.0  \\\n",
       "0                    0                   0                   0            0   \n",
       "1                    0                   0                   1            0   \n",
       "3                    0                   1                   0            0   \n",
       "9                    0                   0                   1            0   \n",
       "12                   0                   0                   0            1   \n",
       "\n",
       "    is_male_1.0  \n",
       "0             1  \n",
       "1             1  \n",
       "3             1  \n",
       "9             1  \n",
       "12            0  \n",
       "\n",
       "[5 rows x 100 columns]"
      ]
     },
     "execution_count": 26,
     "metadata": {},
     "output_type": "execute_result"
    }
   ],
   "source": [
    "# convert region id into dummy variables\n",
    "ad_imp2clk_enc = pd.get_dummies(ad_imp2clk, columns = ['Ad Exchange', 'Ad Slot Visibility','Ad Slot Format','Region ID_impressions','Advertiser ID','is_male'])\n",
    "ad_imp2clk_enc.head()"
   ]
  },
  {
   "cell_type": "code",
   "execution_count": 27,
   "metadata": {},
   "outputs": [],
   "source": [
    "# use earlier five days as training data \n",
    "imp2clk_train_enc = ad_imp2clk_enc[ad_imp2clk_enc['Timestamp_impressions']<20130611000000000]\n",
    "# use the following two days as testing data\n",
    "imp2clk_test_enc = ad_imp2clk_enc[ad_imp2clk_enc['Timestamp_impressions'] >= 20130611000000000]"
   ]
  },
  {
   "cell_type": "code",
   "execution_count": 28,
   "metadata": {},
   "outputs": [
    {
     "name": "stdout",
     "output_type": "stream",
     "text": [
      "0    60665\n",
      "1     4133\n",
      "dtype: int64\n"
     ]
    }
   ],
   "source": [
    "# baseline model\n",
    "train_clk = np.sum(imp2clk_train_enc['has click']==1)\n",
    "train_not_clk = np.sum(imp2clk_train_enc['has click']==0)\n",
    "\n",
    "print(pd.Series({'0': train_not_clk, '1': train_clk}))\n",
    "\n",
    "# baseline model should predict not click for all observations in the test set"
   ]
  },
  {
   "cell_type": "code",
   "execution_count": 29,
   "metadata": {},
   "outputs": [
    {
     "data": {
      "text/plain": [
       "0.06378283280348158"
      ]
     },
     "execution_count": 29,
     "metadata": {},
     "output_type": "execute_result"
    }
   ],
   "source": [
    "# baseline model prediction probability\n",
    "baseline_clk_prob = train_clk / (train_clk + train_not_clk)\n",
    "baseline_clk_prob"
   ]
  },
  {
   "cell_type": "code",
   "execution_count": 30,
   "metadata": {},
   "outputs": [
    {
     "data": {
      "text/plain": [
       "Series([], Name: std, dtype: float64)"
      ]
     },
     "execution_count": 30,
     "metadata": {},
     "output_type": "execute_result"
    }
   ],
   "source": [
    "# filter all constant features in the impression training set\n",
    "imp2clk_train_enc_summary = imp2clk_train_enc.describe()\n",
    "imp2clk_train_enc_summary.loc['std'][imp2clk_train_enc_summary.loc['std'] == 0]"
   ]
  },
  {
   "cell_type": "code",
   "execution_count": 31,
   "metadata": {},
   "outputs": [],
   "source": [
    "# encoded training set\n",
    "X1_train_enc = imp2clk_train_enc.drop('has click', axis=1)\n",
    "y1_train_enc = imp2clk_train_enc['has click']"
   ]
  },
  {
   "cell_type": "code",
   "execution_count": 32,
   "metadata": {},
   "outputs": [],
   "source": [
    "# encoded testing set\n",
    "X1_test_enc = imp2clk_test_enc.drop('has click', axis=1)\n",
    "y1_test_enc = imp2clk_test_enc['has click']"
   ]
  },
  {
   "cell_type": "code",
   "execution_count": 33,
   "metadata": {},
   "outputs": [
    {
     "data": {
      "text/plain": [
       "1958"
      ]
     },
     "execution_count": 33,
     "metadata": {},
     "output_type": "execute_result"
    }
   ],
   "source": [
    "y1_test_enc.sum()"
   ]
  },
  {
   "cell_type": "code",
   "execution_count": 34,
   "metadata": {},
   "outputs": [
    {
     "data": {
      "text/plain": [
       "4133"
      ]
     },
     "execution_count": 34,
     "metadata": {},
     "output_type": "execute_result"
    }
   ],
   "source": [
    "y1_train_enc.sum()"
   ]
  },
  {
   "cell_type": "markdown",
   "metadata": {},
   "source": [
    "## Logistic Regression"
   ]
  },
  {
   "cell_type": "markdown",
   "metadata": {},
   "source": [
    "### default"
   ]
  },
  {
   "cell_type": "code",
   "execution_count": null,
   "metadata": {},
   "outputs": [],
   "source": [
    "# logistic regression model from linear_model\n",
    "from sklearn import linear_model\n",
    "logreg2 = linear_model.LogisticRegression(max_iter=500000,solver='saga')\n",
    "logreg2 = logreg2.fit(X1_train_enc,y1_train_enc)"
   ]
  },
  {
   "cell_type": "code",
   "execution_count": null,
   "metadata": {},
   "outputs": [],
   "source": [
    "# predict the label/class\n",
    "y1_logreg_label= logreg2.predict(X1_test_enc)"
   ]
  },
  {
   "cell_type": "code",
   "execution_count": null,
   "metadata": {},
   "outputs": [],
   "source": [
    "from sklearn.metrics import confusion_matrix\n",
    "\n",
    "cm_logreg = confusion_matrix(y1_test_enc, y1_logreg_label)\n",
    "cm_logreg\n",
    "# tn, fp, fn, tp"
   ]
  },
  {
   "cell_type": "code",
   "execution_count": null,
   "metadata": {},
   "outputs": [],
   "source": [
    "# true positive rate\n",
    "tpr_lr = cm_logreg.ravel()[3] / (cm_logreg.ravel()[2] + cm_logreg.ravel()[3])\n",
    "print('tpr for logistic regression is:', tpr_lr )\n",
    "# false positive rate\n",
    "fpr_lr = cm_logreg.ravel()[1] / (cm_logreg.ravel()[0] + cm_logreg.ravel()[1])\n",
    "print('fpr for logistic regression is:', fpr_lr)"
   ]
  },
  {
   "cell_type": "code",
   "execution_count": null,
   "metadata": {},
   "outputs": [],
   "source": [
    "import matplotlib.pyplot as plt\n",
    "from sklearn.metrics import roc_curve, auc\n",
    "\n",
    "fpr, tpr, _ = roc_curve(y1_test_enc, y1_logreg_label)\n",
    "roc_auc = auc(fpr, tpr)\n",
    "plt.figure(figsize=(8, 6))\n",
    "plt.title('ROC Curve', fontsize=18)\n",
    "plt.xlabel('FPR', fontsize=16)\n",
    "plt.ylabel('TPR', fontsize=16)\n",
    "plt.xlim([-0.01, 1.00])\n",
    "plt.ylim([-0.01, 1.01])\n",
    "plt.plot(fpr, tpr, lw=3, label='Logistic Regression (area = {:0.2f})'.format(roc_auc))\n",
    "plt.plot([0, 1], [0, 1], color='navy', lw=3, linestyle='--')\n",
    "plt.legend(loc='lower right', fontsize=14)\n",
    "plt.show()"
   ]
  },
  {
   "cell_type": "markdown",
   "metadata": {},
   "source": [
    "### cross-validation choosing c"
   ]
  },
  {
   "cell_type": "code",
   "execution_count": null,
   "metadata": {},
   "outputs": [],
   "source": [
    "from sklearn.metrics import confusion_matrix\n",
    "\n",
    "def tpr(y_true, y_pred):\n",
    "    cm = confusion_matrix(y_true, y_pred)\n",
    "    tpr = cm.ravel()[3] / (cm.ravel()[2] + cm.ravel()[3])\n",
    "    return tpr\n",
    "\n",
    "def fpr(y_true, y_pred):\n",
    "    cm = confusion_matrix(y_true, y_pred)\n",
    "    fpr = cm.ravel()[1] / (cm.ravel()[0] + cm.ravel()[1])\n",
    "    return fpr"
   ]
  },
  {
   "cell_type": "code",
   "execution_count": null,
   "metadata": {},
   "outputs": [],
   "source": [
    "y1_train_enc"
   ]
  },
  {
   "cell_type": "code",
   "execution_count": null,
   "metadata": {},
   "outputs": [],
   "source": [
    "from sklearn.model_selection import GridSearchCV\n",
    "from sklearn.metrics import roc_auc_score\n",
    "from sklearn.metrics import make_scorer\n",
    "\n",
    "grid_values = { 'C': [10000,100,10,1,0.1,0.01],\n",
    "                'max_iter': [50000000],\n",
    "                'solver': ['saga'],\n",
    "                'penalty': ['l2']\n",
    "}\n",
    "\n",
    "logreg = linear_model.LogisticRegression()\n",
    "logreg_cv = GridSearchCV(logreg, param_grid=grid_values, \n",
    "                         scoring='roc_auc',cv=5)\n",
    "logreg_cv.fit(X1_train_enc, y1_train_enc)"
   ]
  },
  {
   "cell_type": "code",
   "execution_count": null,
   "metadata": {},
   "outputs": [],
   "source": [
    "roc_auc_lr = logreg_cv.cv_results_['mean_test_score']\n",
    "c = logreg_cv.cv_results_['param_C'].data\n",
    "\n",
    "pd.DataFrame({'C': c, 'ROC_AUC':roc_auc_lr})"
   ]
  },
  {
   "cell_type": "markdown",
   "metadata": {},
   "source": [
    "## CART "
   ]
  },
  {
   "cell_type": "markdown",
   "metadata": {},
   "source": [
    "#### max_depth=30"
   ]
  },
  {
   "cell_type": "code",
   "execution_count": null,
   "metadata": {},
   "outputs": [],
   "source": [
    "from sklearn.metrics import recall_score\n",
    "from sklearn.metrics import confusion_matrix\n",
    "import time\n",
    "\n",
    "grid_values = {'ccp_alpha': np.linspace(0, 0.1, 201),\n",
    "               'min_samples_leaf': [5],\n",
    "               'min_samples_split': [20],\n",
    "               'max_depth': [30],\n",
    "#                'class_weight' : [{0: 1, 1: 20}],\n",
    "               'random_state': [88]} \n",
    "\n",
    "tic = time.time()\n",
    "\n",
    "dtc2 = DecisionTreeClassifier()\n",
    "dtc_cv2_logloss = GridSearchCV(dtc2, param_grid = grid_values,\n",
    "                               scoring='roc_auc',\n",
    "                               cv=5, verbose=2, refit=False) \n",
    "dtc_cv2_logloss.fit(X1_train_enc, y1_train_enc)\n",
    "\n",
    "toc = time.time()\n",
    "print('time:', round(toc-tic, 2),'s')"
   ]
  },
  {
   "cell_type": "code",
   "execution_count": null,
   "metadata": {},
   "outputs": [],
   "source": [
    "roc_auc_cart = dtc_cv2_logloss.cv_results_['mean_test_score']# what sklearn calls mean_test_score is the holdout set, i.e. the validation set.\n",
    "ccp = dtc_cv2_logloss.cv_results_['param_ccp_alpha'].data\n",
    "\n",
    "pd.DataFrame({'ccp alpha' : ccp, 'roc_auc': roc_auc_cart}).head(30)"
   ]
  },
  {
   "cell_type": "code",
   "execution_count": null,
   "metadata": {},
   "outputs": [],
   "source": [
    "plt.figure(figsize=(8, 6))\n",
    "plt.xlabel('ccp_alpha', fontsize=16)\n",
    "plt.ylabel('roc_auc', fontsize=16)\n",
    "plt.scatter(ccp, roc_auc_cart, s=10)\n",
    "# plt.plot(ccp, fpr_cart, linewidth=3)\n",
    "plt.grid(True, which='both')\n",
    "plt.show()"
   ]
  },
  {
   "cell_type": "code",
   "execution_count": null,
   "metadata": {},
   "outputs": [],
   "source": []
  },
  {
   "cell_type": "markdown",
   "metadata": {},
   "source": [
    "### cart1 with ccp_alpha=0.0"
   ]
  },
  {
   "cell_type": "code",
   "execution_count": null,
   "metadata": {},
   "outputs": [],
   "source": [
    "dtc1 = DecisionTreeClassifier(ccp_alpha=0.0, min_samples_leaf=5, min_samples_split=20, max_depth=30, random_state=88)\n",
    "dtc1.fit(X1_train_enc, y1_train_enc)\n",
    "y1_cart1_label = dtc1.predict(X1_test_enc)"
   ]
  },
  {
   "cell_type": "code",
   "execution_count": null,
   "metadata": {},
   "outputs": [],
   "source": [
    "def tpr(y_true, y_pred):\n",
    "    cm = confusion_matrix(y_true, y_pred)\n",
    "    tpr = cm.ravel()[3] / (cm.ravel()[2] + cm.ravel()[3])\n",
    "    \n",
    "    return tpr\n",
    "\n",
    "def fpr(y_true, y_pred):\n",
    "    cm = confusion_matrix(y_true, y_pred)\n",
    "    fpr = cm.ravel()[1] / (cm.ravel()[0] + cm.ravel()[1])\n",
    "    \n",
    "    return fpr"
   ]
  },
  {
   "cell_type": "code",
   "execution_count": null,
   "metadata": {},
   "outputs": [],
   "source": [
    "tpr_dtc = tpr(y1_test_enc, y1_cart1_label)\n",
    "print('tpr for cart is: ', tpr_dtc)\n",
    "fpr_dtc = fpr(y1_test_enc, y1_cart1_label)\n",
    "print('fpr for cart is: ', fpr_dtc)"
   ]
  },
  {
   "cell_type": "markdown",
   "metadata": {},
   "source": [
    "### Random Forest \n"
   ]
  },
  {
   "cell_type": "markdown",
   "metadata": {},
   "source": [
    "#### CV of Random Forest parameters"
   ]
  },
  {
   "cell_type": "code",
   "execution_count": null,
   "metadata": {},
   "outputs": [],
   "source": [
    "X1_test_enc.shape"
   ]
  },
  {
   "cell_type": "code",
   "execution_count": null,
   "metadata": {},
   "outputs": [],
   "source": [
    "# find suitable parameters\n",
    "# other parameters are given in 242 lab\n",
    "from sklearn.model_selection import GridSearchCV\n",
    "from sklearn.ensemble import RandomForestClassifier\n",
    "import time\n",
    "\n",
    "def tpr(y_true, y_pred):\n",
    "    cm = confusion_matrix(y_true, y_pred)\n",
    "    tpr = cm.ravel()[3] / (cm.ravel()[2] + cm.ravel()[3])\n",
    "    \n",
    "    return tpr\n",
    "\n",
    "def fpr(y_true, y_pred):\n",
    "    cm = confusion_matrix(y_true, y_pred)\n",
    "    fpr = cm.ravel()[1] / (cm.ravel()[0] + cm.ravel()[1])\n",
    "    \n",
    "    return fpr\n",
    "\n",
    "grid_values = {'max_features': np.linspace(1,98,98, dtype='int32'),\n",
    "               'min_samples_leaf': [5],\n",
    "               'max_depth':[30],\n",
    "               'n_estimators': [500],\n",
    "               'random_state': [88]} \n",
    "\n",
    "tic = time.time()\n",
    "\n",
    "rf2 = RandomForestClassifier() \n",
    "rf_cv = GridSearchCV(rf2, param_grid=grid_values, \n",
    "                     scoring={'tpr':make_scorer(tpr), 'fpr':make_scorer(fpr,greater_is_better=False)}, \n",
    "                     cv=5, verbose=2, refit=False)\n",
    "rf_cv.fit(X1_train_enc, y1_train_enc)\n",
    "\n",
    "toc = time.time()\n",
    "\n",
    "print('time:', round(toc-tic, 2),'s')"
   ]
  },
  {
   "cell_type": "markdown",
   "metadata": {},
   "source": [
    "#### Feature Importance for Random Forest"
   ]
  },
  {
   "cell_type": "code",
   "execution_count": null,
   "metadata": {},
   "outputs": [],
   "source": [
    "# importance score \n",
    "importance_score = pd.DataFrame({'Feature' : X1_train_enc.columns, \n",
    "              'Importance score': 100*rf_cv.best_estimator_.feature_importances_}).round(1)"
   ]
  },
  {
   "cell_type": "code",
   "execution_count": null,
   "metadata": {
    "scrolled": true
   },
   "outputs": [],
   "source": [
    "# top 50 importance score\n",
    "top50_is = importance_score.sort_values('Importance score',ascending=False).head(50)\n",
    "top50_is"
   ]
  },
  {
   "cell_type": "markdown",
   "metadata": {},
   "source": [
    "### Visualization"
   ]
  },
  {
   "cell_type": "code",
   "execution_count": null,
   "metadata": {},
   "outputs": [],
   "source": [
    "# prepare for visualization\n",
    "ad_imp2clk_Vis = ad_imp2clk.copy()"
   ]
  },
  {
   "cell_type": "markdown",
   "metadata": {},
   "source": [
    "#### distribution of `Paying Price` based on `has click`"
   ]
  },
  {
   "cell_type": "code",
   "execution_count": null,
   "metadata": {},
   "outputs": [],
   "source": [
    "# mapping the label name \n",
    "has_click = {0 : 'not click', 1 :'click'}"
   ]
  },
  {
   "cell_type": "code",
   "execution_count": null,
   "metadata": {},
   "outputs": [],
   "source": [
    "ad_imp2clk_Vis['has click'] = ad_imp2clk_Vis['has click'].map(has_click)"
   ]
  },
  {
   "cell_type": "code",
   "execution_count": null,
   "metadata": {},
   "outputs": [],
   "source": [
    "ad_imp2clk_Vis['has click'].head()"
   ]
  },
  {
   "cell_type": "code",
   "execution_count": null,
   "metadata": {},
   "outputs": [],
   "source": [
    "import seaborn as sns\n",
    "sns.set_theme(style='whitegrid')\n",
    "ax = sns.boxplot(x='has click', y='Paying Price', data=ad_imp2clk_Vis)"
   ]
  },
  {
   "cell_type": "markdown",
   "metadata": {},
   "source": [
    "#### user profile `11278` based on `has click`"
   ]
  },
  {
   "cell_type": "code",
   "execution_count": null,
   "metadata": {},
   "outputs": [],
   "source": [
    "ad_imp2clk_Vis.groupby('has click').sum()['11278']"
   ]
  },
  {
   "cell_type": "code",
   "execution_count": null,
   "metadata": {},
   "outputs": [],
   "source": [
    "ad_imp_NoClk = ad_imp2clk[ad_imp2clk['has click'] == 0]"
   ]
  },
  {
   "cell_type": "code",
   "execution_count": null,
   "metadata": {},
   "outputs": [],
   "source": [
    "# click\n",
    "ad_clk['11278'].value_counts()"
   ]
  },
  {
   "cell_type": "code",
   "execution_count": null,
   "metadata": {},
   "outputs": [],
   "source": [
    "# not click\n",
    "ad_imp_NoClk['11278'].value_counts()"
   ]
  },
  {
   "cell_type": "code",
   "execution_count": null,
   "metadata": {},
   "outputs": [],
   "source": [
    "# 11278: In-market/clothing、shoes&bags\n",
    "from IPython.display import Image\n",
    "Image(filename='/Users/jzw/Downloads/0 CAPSTONE/ipinyou.contest.dataset/data_exploration/11278.png') "
   ]
  },
  {
   "cell_type": "markdown",
   "metadata": {},
   "source": [
    "#### `Paying price` and  `has click`"
   ]
  },
  {
   "cell_type": "code",
   "execution_count": null,
   "metadata": {},
   "outputs": [],
   "source": [
    "fig, ax = plt.subplots()\n",
    "groups = ad_imp2clk.groupby('Region ID_clicks')\n",
    "ax.margins(0.05)\n",
    "for name, group in groups:\n",
    "    ax.plot(group['Paying Price'], group['has click'], marker='o', linestyle='', ms=12, label=name)\n",
    "# ax.legend(loc='best')\n",
    "plt.ylim([-0.01, 1.04])\n",
    "plt.xlabel('Paying Price')\n",
    "plt.ylabel('click label')"
   ]
  },
  {
   "cell_type": "markdown",
   "metadata": {},
   "source": [
    "#### `Timestamp` and `has click` "
   ]
  },
  {
   "cell_type": "code",
   "execution_count": null,
   "metadata": {},
   "outputs": [],
   "source": [
    "import matplotlib\n",
    "import matplotlib.pyplot as plt\n",
    "\n",
    "plt.figure()\n",
    "plt.scatter(ad_imp2clk['Timestamp_imp'], ad_imp2clk['has click'])\n",
    "plt.ylim([-0.01, 1.00])\n",
    "plt.xlabel('Timestamp')\n",
    "plt.ylabel('click label')"
   ]
  },
  {
   "cell_type": "code",
   "execution_count": null,
   "metadata": {},
   "outputs": [],
   "source": [
    "import matplotlib\n",
    "import matplotlib.pyplot as plt\n",
    "import numpy as np\n",
    "\n",
    "x = [4,8,12,16,1,4,9,16]\n",
    "y = [1,4,9,16,4,8,12,3]\n",
    "label = [0,1,2,3,0,1,2,3]\n",
    "colors = ['red','green','blue','purple']\n",
    "\n",
    "fig = plt.figure(figsize=(8,8))\n",
    "plt.scatter(x, y, c=label, cmap=matplotlib.colors.ListedColormap(colors))\n",
    "\n",
    "cb = plt.colorbar()\n",
    "loc = np.arange(0,max(label),max(label)/float(len(colors)))\n",
    "cb.set_ticks(loc)\n",
    "cb.set_ticklabels(colors)\n"
   ]
  },
  {
   "cell_type": "code",
   "execution_count": null,
   "metadata": {},
   "outputs": [],
   "source": []
  }
 ],
 "metadata": {
  "colab": {
   "collapsed_sections": [],
   "name": "Data Modeling.ipynb",
   "provenance": []
  },
  "kernelspec": {
   "display_name": "Python 3",
   "language": "python",
   "name": "python3"
  },
  "language_info": {
   "codemirror_mode": {
    "name": "ipython",
    "version": 3
   },
   "file_extension": ".py",
   "mimetype": "text/x-python",
   "name": "python",
   "nbconvert_exporter": "python",
   "pygments_lexer": "ipython3",
   "version": "3.8.8"
  }
 },
 "nbformat": 4,
 "nbformat_minor": 1
}
