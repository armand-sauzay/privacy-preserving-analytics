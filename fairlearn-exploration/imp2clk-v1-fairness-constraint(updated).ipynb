{
 "cells": [
  {
   "cell_type": "markdown",
   "metadata": {},
   "source": [
    "### Record"
   ]
  },
  {
   "cell_type": "markdown",
   "metadata": {},
   "source": [
    "This version is used for comparing the tradeoff\n",
    "\n",
    "** Prepare two datasets for training and extracting sensitive attributes separately\n",
    "1. Traning dataset: get dummy variables for gender\n",
    "2. Sensitive attribute: gender is set to object\n",
    "\n",
    "----\n",
    "Process\n",
    "1. Data preparation\n",
    "   * \\# of rows: 131097, # of clicks: 6091\n",
    "   * choose gender as sensitive attribute \n",
    "   * \\# of rows: 131097 -> 88652\n",
    " \n",
    "2. Choose baseline model\n",
    "    * logitsic regression predicting all the obs to 0\n",
    "        * tpr and fpr are 0 when c changes from 0.01 to 10000\n",
    "    * label predictions of cart changes as ccp_alpha changes\n",
    "        * use default threshold\n",
    "        * choose ccp_alpha in terms of tpr and fpr\n",
    "3. Evaluate fairness in the baseline model using testing data\n",
    "4. Incorparate fairness constraint\n",
    "    * default\n",
    "    * a list of difference_bound\n",
    "    * a list of ratio_bound\n",
    "5. Tradeoff \n",
    "    * percentage change of auc\n",
    "    * percentage change of F1-score\n",
    "    * percentage change of tpr and fpr\n",
    "----\n",
    "\n",
    "Question\n",
    "\n",
    "1. What metrics to use for choosing hyperparameters in cart and random forest?\n",
    "2.  Can we implement logistic regression in fairlearn?\n"
   ]
  },
  {
   "cell_type": "code",
   "execution_count": 1,
   "metadata": {},
   "outputs": [],
   "source": [
    "import pandas as pd\n",
    "import numpy as np\n",
    "import datetime as dt\n",
    "import matplotlib.pyplot as plt \n",
    "import seaborn as sns\n",
    "from sklearn.ensemble import RandomForestClassifier\n",
    "from sklearn.tree import DecisionTreeClassifier\n",
    "from fairlearn.metrics import MetricFrame\n",
    "# from sklearn.metrics import log_loss"
   ]
  },
  {
   "cell_type": "code",
   "execution_count": 2,
   "metadata": {},
   "outputs": [
    {
     "data": {
      "text/html": [
       "<div>\n",
       "<style scoped>\n",
       "    .dataframe tbody tr th:only-of-type {\n",
       "        vertical-align: middle;\n",
       "    }\n",
       "\n",
       "    .dataframe tbody tr th {\n",
       "        vertical-align: top;\n",
       "    }\n",
       "\n",
       "    .dataframe thead th {\n",
       "        text-align: right;\n",
       "    }\n",
       "</style>\n",
       "<table border=\"1\" class=\"dataframe\">\n",
       "  <thead>\n",
       "    <tr style=\"text-align: right;\">\n",
       "      <th></th>\n",
       "      <th>Timestamp_impressions</th>\n",
       "      <th>Log Type</th>\n",
       "      <th>User-Agent_impressions</th>\n",
       "      <th>Region ID_impressions</th>\n",
       "      <th>City ID</th>\n",
       "      <th>Ad Exchange</th>\n",
       "      <th>Ad Slot Width</th>\n",
       "      <th>Ad Slot Height</th>\n",
       "      <th>Ad Slot Visibility</th>\n",
       "      <th>Ad Slot Format</th>\n",
       "      <th>...</th>\n",
       "      <th>13678</th>\n",
       "      <th>13776</th>\n",
       "      <th>13800</th>\n",
       "      <th>13866</th>\n",
       "      <th>13874</th>\n",
       "      <th>14273</th>\n",
       "      <th>16593</th>\n",
       "      <th>16617</th>\n",
       "      <th>16661</th>\n",
       "      <th>16706</th>\n",
       "    </tr>\n",
       "  </thead>\n",
       "  <tbody>\n",
       "    <tr>\n",
       "      <th>0</th>\n",
       "      <td>20130606000104828</td>\n",
       "      <td>1</td>\n",
       "      <td>Mozilla/4.0 (compatible; MSIE 8.0; Windows NT ...</td>\n",
       "      <td>216</td>\n",
       "      <td>219</td>\n",
       "      <td>1</td>\n",
       "      <td>336</td>\n",
       "      <td>280</td>\n",
       "      <td>2</td>\n",
       "      <td>1</td>\n",
       "      <td>...</td>\n",
       "      <td>0.0</td>\n",
       "      <td>0.0</td>\n",
       "      <td>0.0</td>\n",
       "      <td>0.0</td>\n",
       "      <td>0.0</td>\n",
       "      <td>0.0</td>\n",
       "      <td>0.0</td>\n",
       "      <td>0.0</td>\n",
       "      <td>0.0</td>\n",
       "      <td>0.0</td>\n",
       "    </tr>\n",
       "    <tr>\n",
       "      <th>1</th>\n",
       "      <td>20130606000104915</td>\n",
       "      <td>1</td>\n",
       "      <td>Mozilla/5.0 (Windows NT 5.1) AppleWebKit/537.1...</td>\n",
       "      <td>333</td>\n",
       "      <td>334</td>\n",
       "      <td>2</td>\n",
       "      <td>250</td>\n",
       "      <td>250</td>\n",
       "      <td>2</td>\n",
       "      <td>0</td>\n",
       "      <td>...</td>\n",
       "      <td>0.0</td>\n",
       "      <td>0.0</td>\n",
       "      <td>1.0</td>\n",
       "      <td>1.0</td>\n",
       "      <td>0.0</td>\n",
       "      <td>1.0</td>\n",
       "      <td>0.0</td>\n",
       "      <td>0.0</td>\n",
       "      <td>0.0</td>\n",
       "      <td>0.0</td>\n",
       "    </tr>\n",
       "    <tr>\n",
       "      <th>2</th>\n",
       "      <td>20130606000105049</td>\n",
       "      <td>1</td>\n",
       "      <td>Mozilla/5.0 (Linux; U; Android 4.1.1; zh-cn; M...</td>\n",
       "      <td>216</td>\n",
       "      <td>234</td>\n",
       "      <td>1</td>\n",
       "      <td>950</td>\n",
       "      <td>90</td>\n",
       "      <td>0</td>\n",
       "      <td>1</td>\n",
       "      <td>...</td>\n",
       "      <td>NaN</td>\n",
       "      <td>NaN</td>\n",
       "      <td>NaN</td>\n",
       "      <td>NaN</td>\n",
       "      <td>NaN</td>\n",
       "      <td>NaN</td>\n",
       "      <td>NaN</td>\n",
       "      <td>NaN</td>\n",
       "      <td>NaN</td>\n",
       "      <td>NaN</td>\n",
       "    </tr>\n",
       "    <tr>\n",
       "      <th>3</th>\n",
       "      <td>20130606000105216</td>\n",
       "      <td>1</td>\n",
       "      <td>Mozilla/5.0 (Windows NT 6.1) AppleWebKit/537.2...</td>\n",
       "      <td>79</td>\n",
       "      <td>79</td>\n",
       "      <td>2</td>\n",
       "      <td>728</td>\n",
       "      <td>90</td>\n",
       "      <td>2</td>\n",
       "      <td>0</td>\n",
       "      <td>...</td>\n",
       "      <td>0.0</td>\n",
       "      <td>0.0</td>\n",
       "      <td>0.0</td>\n",
       "      <td>1.0</td>\n",
       "      <td>0.0</td>\n",
       "      <td>0.0</td>\n",
       "      <td>0.0</td>\n",
       "      <td>0.0</td>\n",
       "      <td>0.0</td>\n",
       "      <td>0.0</td>\n",
       "    </tr>\n",
       "    <tr>\n",
       "      <th>4</th>\n",
       "      <td>20130606000105295</td>\n",
       "      <td>1</td>\n",
       "      <td>Mozilla/5.0 (Windows NT 5.1) AppleWebKit/537.2...</td>\n",
       "      <td>80</td>\n",
       "      <td>86</td>\n",
       "      <td>1</td>\n",
       "      <td>300</td>\n",
       "      <td>250</td>\n",
       "      <td>0</td>\n",
       "      <td>1</td>\n",
       "      <td>...</td>\n",
       "      <td>NaN</td>\n",
       "      <td>NaN</td>\n",
       "      <td>NaN</td>\n",
       "      <td>NaN</td>\n",
       "      <td>NaN</td>\n",
       "      <td>NaN</td>\n",
       "      <td>NaN</td>\n",
       "      <td>NaN</td>\n",
       "      <td>NaN</td>\n",
       "      <td>NaN</td>\n",
       "    </tr>\n",
       "  </tbody>\n",
       "</table>\n",
       "<p>5 rows × 64 columns</p>\n",
       "</div>"
      ],
      "text/plain": [
       "   Timestamp_impressions  Log Type  \\\n",
       "0      20130606000104828         1   \n",
       "1      20130606000104915         1   \n",
       "2      20130606000105049         1   \n",
       "3      20130606000105216         1   \n",
       "4      20130606000105295         1   \n",
       "\n",
       "                              User-Agent_impressions  Region ID_impressions  \\\n",
       "0  Mozilla/4.0 (compatible; MSIE 8.0; Windows NT ...                    216   \n",
       "1  Mozilla/5.0 (Windows NT 5.1) AppleWebKit/537.1...                    333   \n",
       "2  Mozilla/5.0 (Linux; U; Android 4.1.1; zh-cn; M...                    216   \n",
       "3  Mozilla/5.0 (Windows NT 6.1) AppleWebKit/537.2...                     79   \n",
       "4  Mozilla/5.0 (Windows NT 5.1) AppleWebKit/537.2...                     80   \n",
       "\n",
       "   City ID  Ad Exchange  Ad Slot Width  Ad Slot Height  Ad Slot Visibility  \\\n",
       "0      219            1            336             280                   2   \n",
       "1      334            2            250             250                   2   \n",
       "2      234            1            950              90                   0   \n",
       "3       79            2            728              90                   2   \n",
       "4       86            1            300             250                   0   \n",
       "\n",
       "   Ad Slot Format  ...  13678  13776  13800  13866 13874  14273 16593 16617  \\\n",
       "0               1  ...    0.0    0.0    0.0    0.0   0.0    0.0   0.0   0.0   \n",
       "1               0  ...    0.0    0.0    1.0    1.0   0.0    1.0   0.0   0.0   \n",
       "2               1  ...    NaN    NaN    NaN    NaN   NaN    NaN   NaN   NaN   \n",
       "3               0  ...    0.0    0.0    0.0    1.0   0.0    0.0   0.0   0.0   \n",
       "4               1  ...    NaN    NaN    NaN    NaN   NaN    NaN   NaN   NaN   \n",
       "\n",
       "   16661  16706  \n",
       "0    0.0    0.0  \n",
       "1    0.0    0.0  \n",
       "2    NaN    NaN  \n",
       "3    0.0    0.0  \n",
       "4    NaN    NaN  \n",
       "\n",
       "[5 rows x 64 columns]"
      ]
     },
     "execution_count": 2,
     "metadata": {},
     "output_type": "execute_result"
    }
   ],
   "source": [
    "com_ad = pd.read_csv('/Users/huizhihan/Desktop/imp_to_click_final.csv')\n",
    "com_ad.drop(['Unnamed: 0'], axis=1, inplace=True)\n",
    "# com_ad.info()\n",
    "com_ad.head()"
   ]
  },
  {
   "cell_type": "code",
   "execution_count": 3,
   "metadata": {},
   "outputs": [],
   "source": [
    "com_ad['gender'] = com_ad['10110'] + com_ad['10111']"
   ]
  },
  {
   "cell_type": "code",
   "execution_count": 4,
   "metadata": {},
   "outputs": [
    {
     "data": {
      "text/plain": [
       "(88652, 65)"
      ]
     },
     "execution_count": 4,
     "metadata": {},
     "output_type": "execute_result"
    }
   ],
   "source": [
    "com_ad = com_ad[com_ad['gender']==1]\n",
    "com_ad.shape"
   ]
  },
  {
   "cell_type": "code",
   "execution_count": 5,
   "metadata": {},
   "outputs": [
    {
     "data": {
      "text/plain": [
       "0"
      ]
     },
     "execution_count": 5,
     "metadata": {},
     "output_type": "execute_result"
    }
   ],
   "source": [
    "com_ad['10110'].isna().sum()"
   ]
  },
  {
   "cell_type": "code",
   "execution_count": 6,
   "metadata": {},
   "outputs": [
    {
     "data": {
      "text/plain": [
       "0"
      ]
     },
     "execution_count": 6,
     "metadata": {},
     "output_type": "execute_result"
    }
   ],
   "source": [
    "com_ad['10111'].isna().sum()"
   ]
  },
  {
   "cell_type": "code",
   "execution_count": 7,
   "metadata": {},
   "outputs": [],
   "source": [
    "com_ad = com_ad.drop(['gender','10111'],axis=1)\n",
    "com_ad = com_ad.rename(columns={'10110':'is_male'})"
   ]
  },
  {
   "cell_type": "code",
   "execution_count": 8,
   "metadata": {},
   "outputs": [
    {
     "data": {
      "text/html": [
       "<div>\n",
       "<style scoped>\n",
       "    .dataframe tbody tr th:only-of-type {\n",
       "        vertical-align: middle;\n",
       "    }\n",
       "\n",
       "    .dataframe tbody tr th {\n",
       "        vertical-align: top;\n",
       "    }\n",
       "\n",
       "    .dataframe thead th {\n",
       "        text-align: right;\n",
       "    }\n",
       "</style>\n",
       "<table border=\"1\" class=\"dataframe\">\n",
       "  <thead>\n",
       "    <tr style=\"text-align: right;\">\n",
       "      <th></th>\n",
       "      <th>10006</th>\n",
       "      <th>10024</th>\n",
       "      <th>10031</th>\n",
       "      <th>10048</th>\n",
       "      <th>10052</th>\n",
       "      <th>10057</th>\n",
       "      <th>10059</th>\n",
       "      <th>10063</th>\n",
       "      <th>10067</th>\n",
       "      <th>10074</th>\n",
       "      <th>...</th>\n",
       "      <th>13678</th>\n",
       "      <th>13776</th>\n",
       "      <th>13800</th>\n",
       "      <th>13866</th>\n",
       "      <th>13874</th>\n",
       "      <th>14273</th>\n",
       "      <th>16593</th>\n",
       "      <th>16617</th>\n",
       "      <th>16661</th>\n",
       "      <th>16706</th>\n",
       "    </tr>\n",
       "  </thead>\n",
       "  <tbody>\n",
       "    <tr>\n",
       "      <th>0</th>\n",
       "      <td>1.0</td>\n",
       "      <td>0.0</td>\n",
       "      <td>0.0</td>\n",
       "      <td>0.0</td>\n",
       "      <td>0.0</td>\n",
       "      <td>0.0</td>\n",
       "      <td>0.0</td>\n",
       "      <td>0.0</td>\n",
       "      <td>0.0</td>\n",
       "      <td>0.0</td>\n",
       "      <td>...</td>\n",
       "      <td>0.0</td>\n",
       "      <td>0.0</td>\n",
       "      <td>0.0</td>\n",
       "      <td>0.0</td>\n",
       "      <td>0.0</td>\n",
       "      <td>0.0</td>\n",
       "      <td>0.0</td>\n",
       "      <td>0.0</td>\n",
       "      <td>0.0</td>\n",
       "      <td>0.0</td>\n",
       "    </tr>\n",
       "    <tr>\n",
       "      <th>1</th>\n",
       "      <td>1.0</td>\n",
       "      <td>1.0</td>\n",
       "      <td>1.0</td>\n",
       "      <td>0.0</td>\n",
       "      <td>1.0</td>\n",
       "      <td>0.0</td>\n",
       "      <td>0.0</td>\n",
       "      <td>1.0</td>\n",
       "      <td>0.0</td>\n",
       "      <td>0.0</td>\n",
       "      <td>...</td>\n",
       "      <td>0.0</td>\n",
       "      <td>0.0</td>\n",
       "      <td>1.0</td>\n",
       "      <td>1.0</td>\n",
       "      <td>0.0</td>\n",
       "      <td>1.0</td>\n",
       "      <td>0.0</td>\n",
       "      <td>0.0</td>\n",
       "      <td>0.0</td>\n",
       "      <td>0.0</td>\n",
       "    </tr>\n",
       "    <tr>\n",
       "      <th>3</th>\n",
       "      <td>1.0</td>\n",
       "      <td>1.0</td>\n",
       "      <td>0.0</td>\n",
       "      <td>0.0</td>\n",
       "      <td>1.0</td>\n",
       "      <td>1.0</td>\n",
       "      <td>0.0</td>\n",
       "      <td>1.0</td>\n",
       "      <td>0.0</td>\n",
       "      <td>0.0</td>\n",
       "      <td>...</td>\n",
       "      <td>0.0</td>\n",
       "      <td>0.0</td>\n",
       "      <td>0.0</td>\n",
       "      <td>1.0</td>\n",
       "      <td>0.0</td>\n",
       "      <td>0.0</td>\n",
       "      <td>0.0</td>\n",
       "      <td>0.0</td>\n",
       "      <td>0.0</td>\n",
       "      <td>0.0</td>\n",
       "    </tr>\n",
       "    <tr>\n",
       "      <th>9</th>\n",
       "      <td>1.0</td>\n",
       "      <td>0.0</td>\n",
       "      <td>1.0</td>\n",
       "      <td>1.0</td>\n",
       "      <td>0.0</td>\n",
       "      <td>0.0</td>\n",
       "      <td>1.0</td>\n",
       "      <td>1.0</td>\n",
       "      <td>0.0</td>\n",
       "      <td>0.0</td>\n",
       "      <td>...</td>\n",
       "      <td>0.0</td>\n",
       "      <td>0.0</td>\n",
       "      <td>0.0</td>\n",
       "      <td>1.0</td>\n",
       "      <td>0.0</td>\n",
       "      <td>1.0</td>\n",
       "      <td>0.0</td>\n",
       "      <td>0.0</td>\n",
       "      <td>0.0</td>\n",
       "      <td>0.0</td>\n",
       "    </tr>\n",
       "    <tr>\n",
       "      <th>12</th>\n",
       "      <td>0.0</td>\n",
       "      <td>0.0</td>\n",
       "      <td>0.0</td>\n",
       "      <td>0.0</td>\n",
       "      <td>0.0</td>\n",
       "      <td>0.0</td>\n",
       "      <td>0.0</td>\n",
       "      <td>1.0</td>\n",
       "      <td>0.0</td>\n",
       "      <td>0.0</td>\n",
       "      <td>...</td>\n",
       "      <td>0.0</td>\n",
       "      <td>0.0</td>\n",
       "      <td>0.0</td>\n",
       "      <td>0.0</td>\n",
       "      <td>0.0</td>\n",
       "      <td>0.0</td>\n",
       "      <td>0.0</td>\n",
       "      <td>0.0</td>\n",
       "      <td>0.0</td>\n",
       "      <td>0.0</td>\n",
       "    </tr>\n",
       "    <tr>\n",
       "      <th>...</th>\n",
       "      <td>...</td>\n",
       "      <td>...</td>\n",
       "      <td>...</td>\n",
       "      <td>...</td>\n",
       "      <td>...</td>\n",
       "      <td>...</td>\n",
       "      <td>...</td>\n",
       "      <td>...</td>\n",
       "      <td>...</td>\n",
       "      <td>...</td>\n",
       "      <td>...</td>\n",
       "      <td>...</td>\n",
       "      <td>...</td>\n",
       "      <td>...</td>\n",
       "      <td>...</td>\n",
       "      <td>...</td>\n",
       "      <td>...</td>\n",
       "      <td>...</td>\n",
       "      <td>...</td>\n",
       "      <td>...</td>\n",
       "      <td>...</td>\n",
       "    </tr>\n",
       "    <tr>\n",
       "      <th>131092</th>\n",
       "      <td>1.0</td>\n",
       "      <td>0.0</td>\n",
       "      <td>0.0</td>\n",
       "      <td>0.0</td>\n",
       "      <td>0.0</td>\n",
       "      <td>0.0</td>\n",
       "      <td>0.0</td>\n",
       "      <td>0.0</td>\n",
       "      <td>0.0</td>\n",
       "      <td>0.0</td>\n",
       "      <td>...</td>\n",
       "      <td>0.0</td>\n",
       "      <td>0.0</td>\n",
       "      <td>0.0</td>\n",
       "      <td>0.0</td>\n",
       "      <td>0.0</td>\n",
       "      <td>0.0</td>\n",
       "      <td>0.0</td>\n",
       "      <td>0.0</td>\n",
       "      <td>0.0</td>\n",
       "      <td>0.0</td>\n",
       "    </tr>\n",
       "    <tr>\n",
       "      <th>131093</th>\n",
       "      <td>1.0</td>\n",
       "      <td>1.0</td>\n",
       "      <td>0.0</td>\n",
       "      <td>0.0</td>\n",
       "      <td>1.0</td>\n",
       "      <td>1.0</td>\n",
       "      <td>0.0</td>\n",
       "      <td>1.0</td>\n",
       "      <td>0.0</td>\n",
       "      <td>0.0</td>\n",
       "      <td>...</td>\n",
       "      <td>0.0</td>\n",
       "      <td>0.0</td>\n",
       "      <td>0.0</td>\n",
       "      <td>0.0</td>\n",
       "      <td>0.0</td>\n",
       "      <td>0.0</td>\n",
       "      <td>0.0</td>\n",
       "      <td>0.0</td>\n",
       "      <td>0.0</td>\n",
       "      <td>0.0</td>\n",
       "    </tr>\n",
       "    <tr>\n",
       "      <th>131094</th>\n",
       "      <td>1.0</td>\n",
       "      <td>0.0</td>\n",
       "      <td>0.0</td>\n",
       "      <td>0.0</td>\n",
       "      <td>0.0</td>\n",
       "      <td>1.0</td>\n",
       "      <td>1.0</td>\n",
       "      <td>1.0</td>\n",
       "      <td>0.0</td>\n",
       "      <td>0.0</td>\n",
       "      <td>...</td>\n",
       "      <td>0.0</td>\n",
       "      <td>0.0</td>\n",
       "      <td>0.0</td>\n",
       "      <td>0.0</td>\n",
       "      <td>0.0</td>\n",
       "      <td>0.0</td>\n",
       "      <td>0.0</td>\n",
       "      <td>0.0</td>\n",
       "      <td>0.0</td>\n",
       "      <td>0.0</td>\n",
       "    </tr>\n",
       "    <tr>\n",
       "      <th>131095</th>\n",
       "      <td>1.0</td>\n",
       "      <td>1.0</td>\n",
       "      <td>0.0</td>\n",
       "      <td>0.0</td>\n",
       "      <td>1.0</td>\n",
       "      <td>1.0</td>\n",
       "      <td>1.0</td>\n",
       "      <td>1.0</td>\n",
       "      <td>0.0</td>\n",
       "      <td>0.0</td>\n",
       "      <td>...</td>\n",
       "      <td>0.0</td>\n",
       "      <td>0.0</td>\n",
       "      <td>0.0</td>\n",
       "      <td>0.0</td>\n",
       "      <td>0.0</td>\n",
       "      <td>1.0</td>\n",
       "      <td>0.0</td>\n",
       "      <td>0.0</td>\n",
       "      <td>0.0</td>\n",
       "      <td>0.0</td>\n",
       "    </tr>\n",
       "    <tr>\n",
       "      <th>131096</th>\n",
       "      <td>1.0</td>\n",
       "      <td>0.0</td>\n",
       "      <td>0.0</td>\n",
       "      <td>0.0</td>\n",
       "      <td>0.0</td>\n",
       "      <td>0.0</td>\n",
       "      <td>1.0</td>\n",
       "      <td>1.0</td>\n",
       "      <td>0.0</td>\n",
       "      <td>0.0</td>\n",
       "      <td>...</td>\n",
       "      <td>0.0</td>\n",
       "      <td>0.0</td>\n",
       "      <td>0.0</td>\n",
       "      <td>0.0</td>\n",
       "      <td>0.0</td>\n",
       "      <td>0.0</td>\n",
       "      <td>0.0</td>\n",
       "      <td>0.0</td>\n",
       "      <td>0.0</td>\n",
       "      <td>0.0</td>\n",
       "    </tr>\n",
       "  </tbody>\n",
       "</table>\n",
       "<p>88652 rows × 41 columns</p>\n",
       "</div>"
      ],
      "text/plain": [
       "        10006  10024  10031  10048  10052  10057  10059  10063  10067  10074  \\\n",
       "0         1.0    0.0    0.0    0.0    0.0    0.0    0.0    0.0    0.0    0.0   \n",
       "1         1.0    1.0    1.0    0.0    1.0    0.0    0.0    1.0    0.0    0.0   \n",
       "3         1.0    1.0    0.0    0.0    1.0    1.0    0.0    1.0    0.0    0.0   \n",
       "9         1.0    0.0    1.0    1.0    0.0    0.0    1.0    1.0    0.0    0.0   \n",
       "12        0.0    0.0    0.0    0.0    0.0    0.0    0.0    1.0    0.0    0.0   \n",
       "...       ...    ...    ...    ...    ...    ...    ...    ...    ...    ...   \n",
       "131092    1.0    0.0    0.0    0.0    0.0    0.0    0.0    0.0    0.0    0.0   \n",
       "131093    1.0    1.0    0.0    0.0    1.0    1.0    0.0    1.0    0.0    0.0   \n",
       "131094    1.0    0.0    0.0    0.0    0.0    1.0    1.0    1.0    0.0    0.0   \n",
       "131095    1.0    1.0    0.0    0.0    1.0    1.0    1.0    1.0    0.0    0.0   \n",
       "131096    1.0    0.0    0.0    0.0    0.0    0.0    1.0    1.0    0.0    0.0   \n",
       "\n",
       "        ...  13678  13776  13800  13866  13874  14273  16593  16617  16661  \\\n",
       "0       ...    0.0    0.0    0.0    0.0    0.0    0.0    0.0    0.0    0.0   \n",
       "1       ...    0.0    0.0    1.0    1.0    0.0    1.0    0.0    0.0    0.0   \n",
       "3       ...    0.0    0.0    0.0    1.0    0.0    0.0    0.0    0.0    0.0   \n",
       "9       ...    0.0    0.0    0.0    1.0    0.0    1.0    0.0    0.0    0.0   \n",
       "12      ...    0.0    0.0    0.0    0.0    0.0    0.0    0.0    0.0    0.0   \n",
       "...     ...    ...    ...    ...    ...    ...    ...    ...    ...    ...   \n",
       "131092  ...    0.0    0.0    0.0    0.0    0.0    0.0    0.0    0.0    0.0   \n",
       "131093  ...    0.0    0.0    0.0    0.0    0.0    0.0    0.0    0.0    0.0   \n",
       "131094  ...    0.0    0.0    0.0    0.0    0.0    0.0    0.0    0.0    0.0   \n",
       "131095  ...    0.0    0.0    0.0    0.0    0.0    1.0    0.0    0.0    0.0   \n",
       "131096  ...    0.0    0.0    0.0    0.0    0.0    0.0    0.0    0.0    0.0   \n",
       "\n",
       "        16706  \n",
       "0         0.0  \n",
       "1         0.0  \n",
       "3         0.0  \n",
       "9         0.0  \n",
       "12        0.0  \n",
       "...       ...  \n",
       "131092    0.0  \n",
       "131093    0.0  \n",
       "131094    0.0  \n",
       "131095    0.0  \n",
       "131096    0.0  \n",
       "\n",
       "[88652 rows x 41 columns]"
      ]
     },
     "execution_count": 8,
     "metadata": {},
     "output_type": "execute_result"
    }
   ],
   "source": [
    "# fillna with 0 to indicate if a specific user profile exists\n",
    "com_ad[['10006','10024', '10031', '10048', '10052', '10057', '10059', '10063', '10067',\n",
    "       '10074', '10075', '10076', '10077', '10079', '10083', '10093', '10102',\n",
    "       '10684', '11092', '11278', '11379', '11423', '11512',\n",
    "       '11576', '11632', '11680', '11724', '11944', '13042', '13403', '13496',\n",
    "       '13678', '13776', '13800', '13866', '13874', '14273', '16593', '16617',\n",
    "       '16661', '16706']] = com_ad[['10006','10024', '10031', '10048', '10052', '10057', '10059', '10063', '10067',\n",
    "       '10074', '10075', '10076', '10077', '10079', '10083', '10093', '10102',\n",
    "       '10684', '11092', '11278', '11379', '11423', '11512',\n",
    "       '11576', '11632', '11680', '11724', '11944', '13042', '13403', '13496',\n",
    "       '13678', '13776', '13800', '13866', '13874', '14273', '16593', '16617',\n",
    "       '16661', '16706']].fillna(0)\n",
    "\n",
    "com_ad[['10006','10024', '10031', '10048', '10052', '10057', '10059', '10063', '10067',\n",
    "       '10074', '10075', '10076', '10077', '10079', '10083', '10093', '10102',\n",
    "       '10684', '11092', '11278', '11379', '11423', '11512',\n",
    "       '11576', '11632', '11680', '11724', '11944', '13042', '13403', '13496',\n",
    "       '13678', '13776', '13800', '13866', '13874', '14273', '16593', '16617',\n",
    "       '16661', '16706']]"
   ]
  },
  {
   "cell_type": "code",
   "execution_count": 9,
   "metadata": {},
   "outputs": [
    {
     "data": {
      "text/plain": [
       "(88652, 56)"
      ]
     },
     "execution_count": 9,
     "metadata": {},
     "output_type": "execute_result"
    }
   ],
   "source": [
    "ad_imp = com_ad[['Timestamp_impressions', 'Log Type', \n",
    "       'Region ID_impressions', 'City ID', 'Ad Exchange', 'Ad Slot Width',\n",
    "       'Ad Slot Height', 'Ad Slot Visibility', 'Ad Slot Format',\n",
    "       'Ad Slot Floor Price', 'Bidding Price', 'Paying Price', 'Advertiser ID',\n",
    "       'has click',\n",
    "       '10006', '10024', '10031', '10048', '10052', '10057', '10059', '10063',\n",
    "       '10067', '10074', '10075', '10076', '10077', '10079', '10083', '10093',\n",
    "       '10102', 'is_male', '10684', '11092', '11278', '11379', '11423',\n",
    "       '11512', '11576', '11632', '11680', '11724', '11944', '13042', '13403',\n",
    "       '13496', '13678', '13776', '13800', '13866', '13874', '14273', '16593',\n",
    "       '16617', '16661', '16706']]\n",
    "\n",
    "ad_imp.shape"
   ]
  },
  {
   "cell_type": "code",
   "execution_count": 10,
   "metadata": {},
   "outputs": [
    {
     "data": {
      "text/plain": [
       "(88652, 55)"
      ]
     },
     "execution_count": 10,
     "metadata": {},
     "output_type": "execute_result"
    }
   ],
   "source": [
    "ad_imp = ad_imp.drop(['City ID'], axis=1)\n",
    "ad_imp.shape"
   ]
  },
  {
   "cell_type": "code",
   "execution_count": 11,
   "metadata": {},
   "outputs": [
    {
     "data": {
      "text/html": [
       "<div>\n",
       "<style scoped>\n",
       "    .dataframe tbody tr th:only-of-type {\n",
       "        vertical-align: middle;\n",
       "    }\n",
       "\n",
       "    .dataframe tbody tr th {\n",
       "        vertical-align: top;\n",
       "    }\n",
       "\n",
       "    .dataframe thead th {\n",
       "        text-align: right;\n",
       "    }\n",
       "</style>\n",
       "<table border=\"1\" class=\"dataframe\">\n",
       "  <thead>\n",
       "    <tr style=\"text-align: right;\">\n",
       "      <th></th>\n",
       "      <th>Timestamp_impressions</th>\n",
       "      <th>Log Type</th>\n",
       "      <th>Region ID_impressions</th>\n",
       "      <th>Ad Exchange</th>\n",
       "      <th>Ad Slot Width</th>\n",
       "      <th>Ad Slot Height</th>\n",
       "      <th>Ad Slot Visibility</th>\n",
       "      <th>Ad Slot Format</th>\n",
       "      <th>Ad Slot Floor Price</th>\n",
       "      <th>Bidding Price</th>\n",
       "      <th>...</th>\n",
       "      <th>13678</th>\n",
       "      <th>13776</th>\n",
       "      <th>13800</th>\n",
       "      <th>13866</th>\n",
       "      <th>13874</th>\n",
       "      <th>14273</th>\n",
       "      <th>16593</th>\n",
       "      <th>16617</th>\n",
       "      <th>16661</th>\n",
       "      <th>16706</th>\n",
       "    </tr>\n",
       "  </thead>\n",
       "  <tbody>\n",
       "    <tr>\n",
       "      <th>count</th>\n",
       "      <td>8.865200e+04</td>\n",
       "      <td>88652.0</td>\n",
       "      <td>88652.000000</td>\n",
       "      <td>88652.000000</td>\n",
       "      <td>88652.000000</td>\n",
       "      <td>88652.000000</td>\n",
       "      <td>88652.000000</td>\n",
       "      <td>88652.000000</td>\n",
       "      <td>88652.000000</td>\n",
       "      <td>88652.000000</td>\n",
       "      <td>...</td>\n",
       "      <td>88652.000000</td>\n",
       "      <td>88652.000000</td>\n",
       "      <td>88652.000000</td>\n",
       "      <td>88652.000000</td>\n",
       "      <td>88652.000000</td>\n",
       "      <td>88652.000000</td>\n",
       "      <td>88652.000000</td>\n",
       "      <td>88652.000000</td>\n",
       "      <td>88652.000000</td>\n",
       "      <td>88652.000000</td>\n",
       "    </tr>\n",
       "    <tr>\n",
       "      <th>mean</th>\n",
       "      <td>2.013061e+16</td>\n",
       "      <td>1.0</td>\n",
       "      <td>143.652033</td>\n",
       "      <td>2.074753</td>\n",
       "      <td>596.181812</td>\n",
       "      <td>192.394193</td>\n",
       "      <td>3.098091</td>\n",
       "      <td>0.364391</td>\n",
       "      <td>27.381920</td>\n",
       "      <td>268.064680</td>\n",
       "      <td>...</td>\n",
       "      <td>0.022932</td>\n",
       "      <td>0.061014</td>\n",
       "      <td>0.123663</td>\n",
       "      <td>0.236836</td>\n",
       "      <td>0.001072</td>\n",
       "      <td>0.129642</td>\n",
       "      <td>0.001286</td>\n",
       "      <td>0.001974</td>\n",
       "      <td>0.003305</td>\n",
       "      <td>0.002008</td>\n",
       "    </tr>\n",
       "    <tr>\n",
       "      <th>std</th>\n",
       "      <td>1.984319e+09</td>\n",
       "      <td>0.0</td>\n",
       "      <td>102.245699</td>\n",
       "      <td>0.839593</td>\n",
       "      <td>328.123548</td>\n",
       "      <td>132.482990</td>\n",
       "      <td>23.979628</td>\n",
       "      <td>0.681330</td>\n",
       "      <td>34.636356</td>\n",
       "      <td>30.345306</td>\n",
       "      <td>...</td>\n",
       "      <td>0.149689</td>\n",
       "      <td>0.239357</td>\n",
       "      <td>0.329199</td>\n",
       "      <td>0.425143</td>\n",
       "      <td>0.032718</td>\n",
       "      <td>0.335911</td>\n",
       "      <td>0.035837</td>\n",
       "      <td>0.044386</td>\n",
       "      <td>0.057395</td>\n",
       "      <td>0.044764</td>\n",
       "    </tr>\n",
       "    <tr>\n",
       "      <th>min</th>\n",
       "      <td>2.013061e+16</td>\n",
       "      <td>1.0</td>\n",
       "      <td>0.000000</td>\n",
       "      <td>1.000000</td>\n",
       "      <td>120.000000</td>\n",
       "      <td>60.000000</td>\n",
       "      <td>0.000000</td>\n",
       "      <td>0.000000</td>\n",
       "      <td>0.000000</td>\n",
       "      <td>227.000000</td>\n",
       "      <td>...</td>\n",
       "      <td>0.000000</td>\n",
       "      <td>0.000000</td>\n",
       "      <td>0.000000</td>\n",
       "      <td>0.000000</td>\n",
       "      <td>0.000000</td>\n",
       "      <td>0.000000</td>\n",
       "      <td>0.000000</td>\n",
       "      <td>0.000000</td>\n",
       "      <td>0.000000</td>\n",
       "      <td>0.000000</td>\n",
       "    </tr>\n",
       "    <tr>\n",
       "      <th>25%</th>\n",
       "      <td>2.013061e+16</td>\n",
       "      <td>1.0</td>\n",
       "      <td>65.000000</td>\n",
       "      <td>1.000000</td>\n",
       "      <td>300.000000</td>\n",
       "      <td>90.000000</td>\n",
       "      <td>0.000000</td>\n",
       "      <td>0.000000</td>\n",
       "      <td>0.000000</td>\n",
       "      <td>238.000000</td>\n",
       "      <td>...</td>\n",
       "      <td>0.000000</td>\n",
       "      <td>0.000000</td>\n",
       "      <td>0.000000</td>\n",
       "      <td>0.000000</td>\n",
       "      <td>0.000000</td>\n",
       "      <td>0.000000</td>\n",
       "      <td>0.000000</td>\n",
       "      <td>0.000000</td>\n",
       "      <td>0.000000</td>\n",
       "      <td>0.000000</td>\n",
       "    </tr>\n",
       "    <tr>\n",
       "      <th>50%</th>\n",
       "      <td>2.013061e+16</td>\n",
       "      <td>1.0</td>\n",
       "      <td>134.000000</td>\n",
       "      <td>2.000000</td>\n",
       "      <td>468.000000</td>\n",
       "      <td>90.000000</td>\n",
       "      <td>0.000000</td>\n",
       "      <td>0.000000</td>\n",
       "      <td>5.000000</td>\n",
       "      <td>254.000000</td>\n",
       "      <td>...</td>\n",
       "      <td>0.000000</td>\n",
       "      <td>0.000000</td>\n",
       "      <td>0.000000</td>\n",
       "      <td>0.000000</td>\n",
       "      <td>0.000000</td>\n",
       "      <td>0.000000</td>\n",
       "      <td>0.000000</td>\n",
       "      <td>0.000000</td>\n",
       "      <td>0.000000</td>\n",
       "      <td>0.000000</td>\n",
       "    </tr>\n",
       "    <tr>\n",
       "      <th>75%</th>\n",
       "      <td>2.013061e+16</td>\n",
       "      <td>1.0</td>\n",
       "      <td>216.000000</td>\n",
       "      <td>3.000000</td>\n",
       "      <td>1000.000000</td>\n",
       "      <td>250.000000</td>\n",
       "      <td>2.000000</td>\n",
       "      <td>1.000000</td>\n",
       "      <td>50.000000</td>\n",
       "      <td>300.000000</td>\n",
       "      <td>...</td>\n",
       "      <td>0.000000</td>\n",
       "      <td>0.000000</td>\n",
       "      <td>0.000000</td>\n",
       "      <td>0.000000</td>\n",
       "      <td>0.000000</td>\n",
       "      <td>0.000000</td>\n",
       "      <td>0.000000</td>\n",
       "      <td>0.000000</td>\n",
       "      <td>0.000000</td>\n",
       "      <td>0.000000</td>\n",
       "    </tr>\n",
       "    <tr>\n",
       "      <th>max</th>\n",
       "      <td>2.013061e+16</td>\n",
       "      <td>1.0</td>\n",
       "      <td>395.000000</td>\n",
       "      <td>3.000000</td>\n",
       "      <td>1000.000000</td>\n",
       "      <td>600.000000</td>\n",
       "      <td>255.000000</td>\n",
       "      <td>5.000000</td>\n",
       "      <td>295.000000</td>\n",
       "      <td>300.000000</td>\n",
       "      <td>...</td>\n",
       "      <td>1.000000</td>\n",
       "      <td>1.000000</td>\n",
       "      <td>1.000000</td>\n",
       "      <td>1.000000</td>\n",
       "      <td>1.000000</td>\n",
       "      <td>1.000000</td>\n",
       "      <td>1.000000</td>\n",
       "      <td>1.000000</td>\n",
       "      <td>1.000000</td>\n",
       "      <td>1.000000</td>\n",
       "    </tr>\n",
       "  </tbody>\n",
       "</table>\n",
       "<p>8 rows × 55 columns</p>\n",
       "</div>"
      ],
      "text/plain": [
       "       Timestamp_impressions  Log Type  Region ID_impressions   Ad Exchange  \\\n",
       "count           8.865200e+04   88652.0           88652.000000  88652.000000   \n",
       "mean            2.013061e+16       1.0             143.652033      2.074753   \n",
       "std             1.984319e+09       0.0             102.245699      0.839593   \n",
       "min             2.013061e+16       1.0               0.000000      1.000000   \n",
       "25%             2.013061e+16       1.0              65.000000      1.000000   \n",
       "50%             2.013061e+16       1.0             134.000000      2.000000   \n",
       "75%             2.013061e+16       1.0             216.000000      3.000000   \n",
       "max             2.013061e+16       1.0             395.000000      3.000000   \n",
       "\n",
       "       Ad Slot Width  Ad Slot Height  Ad Slot Visibility  Ad Slot Format  \\\n",
       "count   88652.000000    88652.000000        88652.000000    88652.000000   \n",
       "mean      596.181812      192.394193            3.098091        0.364391   \n",
       "std       328.123548      132.482990           23.979628        0.681330   \n",
       "min       120.000000       60.000000            0.000000        0.000000   \n",
       "25%       300.000000       90.000000            0.000000        0.000000   \n",
       "50%       468.000000       90.000000            0.000000        0.000000   \n",
       "75%      1000.000000      250.000000            2.000000        1.000000   \n",
       "max      1000.000000      600.000000          255.000000        5.000000   \n",
       "\n",
       "       Ad Slot Floor Price  Bidding Price  ...         13678         13776  \\\n",
       "count         88652.000000   88652.000000  ...  88652.000000  88652.000000   \n",
       "mean             27.381920     268.064680  ...      0.022932      0.061014   \n",
       "std              34.636356      30.345306  ...      0.149689      0.239357   \n",
       "min               0.000000     227.000000  ...      0.000000      0.000000   \n",
       "25%               0.000000     238.000000  ...      0.000000      0.000000   \n",
       "50%               5.000000     254.000000  ...      0.000000      0.000000   \n",
       "75%              50.000000     300.000000  ...      0.000000      0.000000   \n",
       "max             295.000000     300.000000  ...      1.000000      1.000000   \n",
       "\n",
       "              13800         13866         13874         14273         16593  \\\n",
       "count  88652.000000  88652.000000  88652.000000  88652.000000  88652.000000   \n",
       "mean       0.123663      0.236836      0.001072      0.129642      0.001286   \n",
       "std        0.329199      0.425143      0.032718      0.335911      0.035837   \n",
       "min        0.000000      0.000000      0.000000      0.000000      0.000000   \n",
       "25%        0.000000      0.000000      0.000000      0.000000      0.000000   \n",
       "50%        0.000000      0.000000      0.000000      0.000000      0.000000   \n",
       "75%        0.000000      0.000000      0.000000      0.000000      0.000000   \n",
       "max        1.000000      1.000000      1.000000      1.000000      1.000000   \n",
       "\n",
       "              16617         16661         16706  \n",
       "count  88652.000000  88652.000000  88652.000000  \n",
       "mean       0.001974      0.003305      0.002008  \n",
       "std        0.044386      0.057395      0.044764  \n",
       "min        0.000000      0.000000      0.000000  \n",
       "25%        0.000000      0.000000      0.000000  \n",
       "50%        0.000000      0.000000      0.000000  \n",
       "75%        0.000000      0.000000      0.000000  \n",
       "max        1.000000      1.000000      1.000000  \n",
       "\n",
       "[8 rows x 55 columns]"
      ]
     },
     "execution_count": 11,
     "metadata": {},
     "output_type": "execute_result"
    }
   ],
   "source": [
    "ad_imp_summary = ad_imp.describe()\n",
    "ad_imp_summary"
   ]
  },
  {
   "cell_type": "code",
   "execution_count": 12,
   "metadata": {},
   "outputs": [
    {
     "data": {
      "text/plain": [
       "Log Type    0.0\n",
       "Name: std, dtype: float64"
      ]
     },
     "execution_count": 12,
     "metadata": {},
     "output_type": "execute_result"
    }
   ],
   "source": [
    "# filter constant feature [std = 0]\n",
    "ad_imp_summary.loc['std'][ad_imp_summary.loc['std'] == 0]"
   ]
  },
  {
   "cell_type": "code",
   "execution_count": 13,
   "metadata": {},
   "outputs": [
    {
     "data": {
      "text/plain": [
       "(88652, 54)"
      ]
     },
     "execution_count": 13,
     "metadata": {},
     "output_type": "execute_result"
    }
   ],
   "source": [
    "# drop feature Log Type because it's a constant\n",
    "ad_imp.drop(['Log Type'], axis=1, inplace=True)\n",
    "ad_imp.shape"
   ]
  },
  {
   "cell_type": "code",
   "execution_count": 14,
   "metadata": {},
   "outputs": [],
   "source": [
    "# filter has impression == 1 to get the suitable dataset\n",
    "ad_imp2clk = ad_imp.copy()"
   ]
  },
  {
   "cell_type": "code",
   "execution_count": 15,
   "metadata": {},
   "outputs": [],
   "source": [
    "# set ad exchange as object to get dummy variables\n",
    "ad_imp2clk['Ad Exchange'] = ad_imp2clk['Ad Exchange'].astype('object')\n",
    "# set ad slot visibility as object to get dummy variables\n",
    "ad_imp2clk['Ad Slot Visibility'] = ad_imp2clk['Ad Slot Visibility'].astype('object')\n",
    "# set ad slot format as object to get dummy variables\n",
    "ad_imp2clk['Ad Slot Format'] = ad_imp2clk['Ad Slot Format'].astype('object')\n",
    "# set advertiser id as object to get dummy variables\n",
    "ad_imp2clk['Advertiser ID'] = ad_imp2clk['Advertiser ID'].astype('object')\n",
    "# set region id as object to get dummy variables\n",
    "ad_imp2clk['Region ID_impressions'] = ad_imp2clk['Region ID_impressions'].astype('object')\n",
    "# set is_male as object to get dummy variables\n",
    "ad_imp2clk['is_male'] = ad_imp2clk['is_male'].astype('object')"
   ]
  },
  {
   "cell_type": "code",
   "execution_count": 16,
   "metadata": {},
   "outputs": [
    {
     "name": "stdout",
     "output_type": "stream",
     "text": [
      "(64798, 54)\n",
      "(23854, 54)\n"
     ]
    }
   ],
   "source": [
    "# use earlier five days as training data\n",
    "imp2clk_train = ad_imp2clk[ad_imp2clk['Timestamp_impressions']<20130611000000000]\n",
    "print(imp2clk_train.shape)\n",
    "# use the following two days as testing data\n",
    "imp2clk_test = ad_imp2clk[ad_imp2clk['Timestamp_impressions']>=20130611000000000]\n",
    "print(imp2clk_test.shape)"
   ]
  },
  {
   "cell_type": "code",
   "execution_count": 18,
   "metadata": {},
   "outputs": [
    {
     "data": {
      "text/plain": [
       "(60665, 54)"
      ]
     },
     "execution_count": 18,
     "metadata": {},
     "output_type": "execute_result"
    }
   ],
   "source": [
    "imp2clk_train[imp2clk_train['has click']==0].shape"
   ]
  },
  {
   "cell_type": "code",
   "execution_count": 19,
   "metadata": {},
   "outputs": [],
   "source": [
    "# training set without dummy variables\n",
    "X1_train = imp2clk_train.drop('has click',axis=1)\n",
    "y1_train = imp2clk_train['has click']"
   ]
  },
  {
   "cell_type": "code",
   "execution_count": 20,
   "metadata": {},
   "outputs": [],
   "source": [
    "# testing set without dummy variables\n",
    "X1_test = imp2clk_test.drop('has click',axis=1)\n",
    "y1_test = imp2clk_test['has click']"
   ]
  },
  {
   "cell_type": "code",
   "execution_count": 21,
   "metadata": {},
   "outputs": [
    {
     "data": {
      "text/plain": [
       "Index(['Timestamp_impressions', 'Region ID_impressions', 'Ad Exchange',\n",
       "       'Ad Slot Width', 'Ad Slot Height', 'Ad Slot Visibility',\n",
       "       'Ad Slot Format', 'Ad Slot Floor Price', 'Bidding Price',\n",
       "       'Paying Price', 'Advertiser ID', '10006', '10024', '10031', '10048',\n",
       "       '10052', '10057', '10059', '10063', '10067', '10074', '10075', '10076',\n",
       "       '10077', '10079', '10083', '10093', '10102', 'is_male', '10684',\n",
       "       '11092', '11278', '11379', '11423', '11512', '11576', '11632', '11680',\n",
       "       '11724', '11944', '13042', '13403', '13496', '13678', '13776', '13800',\n",
       "       '13866', '13874', '14273', '16593', '16617', '16661', '16706'],\n",
       "      dtype='object')"
      ]
     },
     "execution_count": 21,
     "metadata": {},
     "output_type": "execute_result"
    }
   ],
   "source": [
    "X1_train.columns"
   ]
  },
  {
   "cell_type": "code",
   "execution_count": 22,
   "metadata": {},
   "outputs": [
    {
     "data": {
      "text/html": [
       "<div>\n",
       "<style scoped>\n",
       "    .dataframe tbody tr th:only-of-type {\n",
       "        vertical-align: middle;\n",
       "    }\n",
       "\n",
       "    .dataframe tbody tr th {\n",
       "        vertical-align: top;\n",
       "    }\n",
       "\n",
       "    .dataframe thead th {\n",
       "        text-align: right;\n",
       "    }\n",
       "</style>\n",
       "<table border=\"1\" class=\"dataframe\">\n",
       "  <thead>\n",
       "    <tr style=\"text-align: right;\">\n",
       "      <th></th>\n",
       "      <th>Timestamp_impressions</th>\n",
       "      <th>Ad Slot Width</th>\n",
       "      <th>Ad Slot Height</th>\n",
       "      <th>Ad Slot Floor Price</th>\n",
       "      <th>Bidding Price</th>\n",
       "      <th>Paying Price</th>\n",
       "      <th>has click</th>\n",
       "      <th>10006</th>\n",
       "      <th>10024</th>\n",
       "      <th>10031</th>\n",
       "      <th>...</th>\n",
       "      <th>Region ID_impressions_393</th>\n",
       "      <th>Region ID_impressions_394</th>\n",
       "      <th>Region ID_impressions_395</th>\n",
       "      <th>Advertiser ID_1458</th>\n",
       "      <th>Advertiser ID_3358</th>\n",
       "      <th>Advertiser ID_3386</th>\n",
       "      <th>Advertiser ID_3427</th>\n",
       "      <th>Advertiser ID_3476</th>\n",
       "      <th>is_male_0.0</th>\n",
       "      <th>is_male_1.0</th>\n",
       "    </tr>\n",
       "  </thead>\n",
       "  <tbody>\n",
       "    <tr>\n",
       "      <th>0</th>\n",
       "      <td>20130606000104828</td>\n",
       "      <td>336</td>\n",
       "      <td>280</td>\n",
       "      <td>0</td>\n",
       "      <td>300</td>\n",
       "      <td>51</td>\n",
       "      <td>0</td>\n",
       "      <td>1.0</td>\n",
       "      <td>0.0</td>\n",
       "      <td>0.0</td>\n",
       "      <td>...</td>\n",
       "      <td>0</td>\n",
       "      <td>0</td>\n",
       "      <td>0</td>\n",
       "      <td>1</td>\n",
       "      <td>0</td>\n",
       "      <td>0</td>\n",
       "      <td>0</td>\n",
       "      <td>0</td>\n",
       "      <td>0</td>\n",
       "      <td>1</td>\n",
       "    </tr>\n",
       "    <tr>\n",
       "      <th>1</th>\n",
       "      <td>20130606000104915</td>\n",
       "      <td>250</td>\n",
       "      <td>250</td>\n",
       "      <td>23</td>\n",
       "      <td>249</td>\n",
       "      <td>68</td>\n",
       "      <td>0</td>\n",
       "      <td>1.0</td>\n",
       "      <td>1.0</td>\n",
       "      <td>1.0</td>\n",
       "      <td>...</td>\n",
       "      <td>0</td>\n",
       "      <td>0</td>\n",
       "      <td>0</td>\n",
       "      <td>0</td>\n",
       "      <td>0</td>\n",
       "      <td>0</td>\n",
       "      <td>0</td>\n",
       "      <td>1</td>\n",
       "      <td>0</td>\n",
       "      <td>1</td>\n",
       "    </tr>\n",
       "    <tr>\n",
       "      <th>3</th>\n",
       "      <td>20130606000105216</td>\n",
       "      <td>728</td>\n",
       "      <td>90</td>\n",
       "      <td>5</td>\n",
       "      <td>238</td>\n",
       "      <td>45</td>\n",
       "      <td>0</td>\n",
       "      <td>1.0</td>\n",
       "      <td>1.0</td>\n",
       "      <td>0.0</td>\n",
       "      <td>...</td>\n",
       "      <td>0</td>\n",
       "      <td>0</td>\n",
       "      <td>0</td>\n",
       "      <td>0</td>\n",
       "      <td>0</td>\n",
       "      <td>0</td>\n",
       "      <td>1</td>\n",
       "      <td>0</td>\n",
       "      <td>0</td>\n",
       "      <td>1</td>\n",
       "    </tr>\n",
       "    <tr>\n",
       "      <th>9</th>\n",
       "      <td>20130606000105938</td>\n",
       "      <td>728</td>\n",
       "      <td>90</td>\n",
       "      <td>5</td>\n",
       "      <td>249</td>\n",
       "      <td>45</td>\n",
       "      <td>0</td>\n",
       "      <td>1.0</td>\n",
       "      <td>0.0</td>\n",
       "      <td>1.0</td>\n",
       "      <td>...</td>\n",
       "      <td>0</td>\n",
       "      <td>0</td>\n",
       "      <td>0</td>\n",
       "      <td>0</td>\n",
       "      <td>0</td>\n",
       "      <td>0</td>\n",
       "      <td>0</td>\n",
       "      <td>1</td>\n",
       "      <td>0</td>\n",
       "      <td>1</td>\n",
       "    </tr>\n",
       "    <tr>\n",
       "      <th>12</th>\n",
       "      <td>20130606000106153</td>\n",
       "      <td>950</td>\n",
       "      <td>90</td>\n",
       "      <td>0</td>\n",
       "      <td>227</td>\n",
       "      <td>109</td>\n",
       "      <td>0</td>\n",
       "      <td>0.0</td>\n",
       "      <td>0.0</td>\n",
       "      <td>0.0</td>\n",
       "      <td>...</td>\n",
       "      <td>0</td>\n",
       "      <td>0</td>\n",
       "      <td>0</td>\n",
       "      <td>0</td>\n",
       "      <td>1</td>\n",
       "      <td>0</td>\n",
       "      <td>0</td>\n",
       "      <td>0</td>\n",
       "      <td>1</td>\n",
       "      <td>0</td>\n",
       "    </tr>\n",
       "  </tbody>\n",
       "</table>\n",
       "<p>5 rows × 100 columns</p>\n",
       "</div>"
      ],
      "text/plain": [
       "    Timestamp_impressions  Ad Slot Width  Ad Slot Height  Ad Slot Floor Price  \\\n",
       "0       20130606000104828            336             280                    0   \n",
       "1       20130606000104915            250             250                   23   \n",
       "3       20130606000105216            728              90                    5   \n",
       "9       20130606000105938            728              90                    5   \n",
       "12      20130606000106153            950              90                    0   \n",
       "\n",
       "    Bidding Price  Paying Price  has click  10006  10024  10031  ...  \\\n",
       "0             300            51          0    1.0    0.0    0.0  ...   \n",
       "1             249            68          0    1.0    1.0    1.0  ...   \n",
       "3             238            45          0    1.0    1.0    0.0  ...   \n",
       "9             249            45          0    1.0    0.0    1.0  ...   \n",
       "12            227           109          0    0.0    0.0    0.0  ...   \n",
       "\n",
       "    Region ID_impressions_393  Region ID_impressions_394  \\\n",
       "0                           0                          0   \n",
       "1                           0                          0   \n",
       "3                           0                          0   \n",
       "9                           0                          0   \n",
       "12                          0                          0   \n",
       "\n",
       "    Region ID_impressions_395  Advertiser ID_1458  Advertiser ID_3358  \\\n",
       "0                           0                   1                   0   \n",
       "1                           0                   0                   0   \n",
       "3                           0                   0                   0   \n",
       "9                           0                   0                   0   \n",
       "12                          0                   0                   1   \n",
       "\n",
       "    Advertiser ID_3386  Advertiser ID_3427  Advertiser ID_3476  is_male_0.0  \\\n",
       "0                    0                   0                   0            0   \n",
       "1                    0                   0                   1            0   \n",
       "3                    0                   1                   0            0   \n",
       "9                    0                   0                   1            0   \n",
       "12                   0                   0                   0            1   \n",
       "\n",
       "    is_male_1.0  \n",
       "0             1  \n",
       "1             1  \n",
       "3             1  \n",
       "9             1  \n",
       "12            0  \n",
       "\n",
       "[5 rows x 100 columns]"
      ]
     },
     "execution_count": 22,
     "metadata": {},
     "output_type": "execute_result"
    }
   ],
   "source": [
    "# convert region id into dummy variables\n",
    "ad_imp2clk_enc = pd.get_dummies(ad_imp2clk, columns = ['Ad Exchange', 'Ad Slot Visibility','Ad Slot Format','Region ID_impressions','Advertiser ID','is_male'])\n",
    "ad_imp2clk_enc.head()"
   ]
  },
  {
   "cell_type": "code",
   "execution_count": 23,
   "metadata": {},
   "outputs": [],
   "source": [
    "# use earlier five days as training data \n",
    "imp2clk_train_enc = ad_imp2clk_enc[ad_imp2clk_enc['Timestamp_impressions']<20130611000000000]\n",
    "# use the following two days as testing data\n",
    "imp2clk_test_enc = ad_imp2clk_enc[ad_imp2clk_enc['Timestamp_impressions'] >= 20130611000000000]"
   ]
  },
  {
   "cell_type": "code",
   "execution_count": 24,
   "metadata": {},
   "outputs": [
    {
     "name": "stdout",
     "output_type": "stream",
     "text": [
      "0    60665\n",
      "1     4133\n",
      "dtype: int64\n"
     ]
    }
   ],
   "source": [
    "# baseline model\n",
    "train_clk = np.sum(imp2clk_train_enc['has click']==1)\n",
    "train_not_clk = np.sum(imp2clk_train_enc['has click']==0)\n",
    "\n",
    "print(pd.Series({'0': train_not_clk, '1': train_clk}))\n",
    "\n",
    "# baseline model should predict not click for all observations in the test set"
   ]
  },
  {
   "cell_type": "code",
   "execution_count": 25,
   "metadata": {},
   "outputs": [
    {
     "data": {
      "text/plain": [
       "0.06378283280348158"
      ]
     },
     "execution_count": 25,
     "metadata": {},
     "output_type": "execute_result"
    }
   ],
   "source": [
    "# baseline model prediction probability\n",
    "baseline_clk_prob = train_clk / (train_clk + train_not_clk)\n",
    "baseline_clk_prob"
   ]
  },
  {
   "cell_type": "code",
   "execution_count": 26,
   "metadata": {},
   "outputs": [
    {
     "data": {
      "text/plain": [
       "Series([], Name: std, dtype: float64)"
      ]
     },
     "execution_count": 26,
     "metadata": {},
     "output_type": "execute_result"
    }
   ],
   "source": [
    "# filter all constant features in the impression training set\n",
    "imp2clk_train_enc_summary = imp2clk_train_enc.describe()\n",
    "imp2clk_train_enc_summary.loc['std'][imp2clk_train_enc_summary.loc['std'] == 0]"
   ]
  },
  {
   "cell_type": "code",
   "execution_count": 27,
   "metadata": {},
   "outputs": [],
   "source": [
    "# encoded training set\n",
    "X1_train_enc = imp2clk_train_enc.drop('has click', axis=1)\n",
    "y1_train_enc = imp2clk_train_enc['has click']"
   ]
  },
  {
   "cell_type": "code",
   "execution_count": 28,
   "metadata": {},
   "outputs": [],
   "source": [
    "# encoded testing set\n",
    "X1_test_enc = imp2clk_test_enc.drop('has click', axis=1)\n",
    "y1_test_enc = imp2clk_test_enc['has click']"
   ]
  },
  {
   "cell_type": "code",
   "execution_count": 29,
   "metadata": {},
   "outputs": [
    {
     "data": {
      "text/plain": [
       "1958"
      ]
     },
     "execution_count": 29,
     "metadata": {},
     "output_type": "execute_result"
    }
   ],
   "source": [
    "y1_test_enc.sum()"
   ]
  },
  {
   "cell_type": "code",
   "execution_count": 30,
   "metadata": {},
   "outputs": [
    {
     "data": {
      "text/plain": [
       "4133"
      ]
     },
     "execution_count": 30,
     "metadata": {},
     "output_type": "execute_result"
    }
   ],
   "source": [
    "y1_train_enc.sum()"
   ]
  },
  {
   "cell_type": "markdown",
   "metadata": {},
   "source": [
    "### Evaluating fairness"
   ]
  },
  {
   "cell_type": "code",
   "execution_count": 34,
   "metadata": {},
   "outputs": [],
   "source": [
    "# Sensitive attribute 10110 used for training\n",
    "gender_train = X1_train['is_male']"
   ]
  },
  {
   "cell_type": "code",
   "execution_count": 35,
   "metadata": {},
   "outputs": [],
   "source": [
    "# sensitive attribute used for testing\n",
    "gender_test = X1_test['is_male']"
   ]
  },
  {
   "cell_type": "code",
   "execution_count": 36,
   "metadata": {},
   "outputs": [
    {
     "data": {
      "text/plain": [
       "94335     0.0\n",
       "94337     0.0\n",
       "94341     1.0\n",
       "94346     1.0\n",
       "94347     1.0\n",
       "         ... \n",
       "131092    1.0\n",
       "131093    1.0\n",
       "131094    1.0\n",
       "131095    1.0\n",
       "131096    0.0\n",
       "Name: is_male, Length: 23854, dtype: object"
      ]
     },
     "execution_count": 36,
     "metadata": {},
     "output_type": "execute_result"
    }
   ],
   "source": [
    "gender_test"
   ]
  },
  {
   "cell_type": "markdown",
   "metadata": {},
   "source": [
    "## Metigating disparity "
   ]
  },
  {
   "cell_type": "markdown",
   "metadata": {},
   "source": [
    "#### CART"
   ]
  },
  {
   "cell_type": "code",
   "execution_count": 37,
   "metadata": {},
   "outputs": [],
   "source": [
    "classifier_dtc = DecisionTreeClassifier(ccp_alpha=0.0, min_samples_leaf=5, min_samples_split=20, max_depth=30, random_state=88)"
   ]
  },
  {
   "cell_type": "code",
   "execution_count": 38,
   "metadata": {},
   "outputs": [
    {
     "data": {
      "text/plain": [
       "(64798, 99)"
      ]
     },
     "execution_count": 38,
     "metadata": {},
     "output_type": "execute_result"
    }
   ],
   "source": [
    "X1_train_enc.shape"
   ]
  },
  {
   "cell_type": "code",
   "execution_count": 39,
   "metadata": {},
   "outputs": [
    {
     "data": {
      "text/plain": [
       "(64798,)"
      ]
     },
     "execution_count": 39,
     "metadata": {},
     "output_type": "execute_result"
    }
   ],
   "source": [
    "y1_train_enc.shape"
   ]
  },
  {
   "cell_type": "code",
   "execution_count": 40,
   "metadata": {},
   "outputs": [
    {
     "name": "stdout",
     "output_type": "stream",
     "text": [
      "time: 86.73 s\n"
     ]
    }
   ],
   "source": [
    "from fairlearn.reductions import ExponentiatedGradient, DemographicParity\n",
    "import time \n",
    "\n",
    "tic = time.time()\n",
    "np.random.seed(0)\n",
    "constraint = DemographicParity()\n",
    "mitigator_dtc = ExponentiatedGradient(classifier_dtc, constraint)\n",
    "mitigator_dtc.fit(X1_train_enc, y1_train_enc, sensitive_features=gender_train)\n",
    "\n",
    "toc = time.time()\n",
    "\n",
    "print('time:', round(toc-tic, 2),'s')"
   ]
  },
  {
   "cell_type": "code",
   "execution_count": 41,
   "metadata": {},
   "outputs": [],
   "source": [
    "y1_pred_dtc_mitigated = mitigator_dtc.predict(X1_train_enc)"
   ]
  },
  {
   "cell_type": "code",
   "execution_count": 42,
   "metadata": {},
   "outputs": [],
   "source": [
    "from sklearn.metrics import confusion_matrix\n",
    "from sklearn.metrics import roc_auc_score\n",
    "\n",
    "def tpr(y_true, y_pred):\n",
    "    cm = confusion_matrix(y_true, y_pred)\n",
    "    tpr = cm.ravel()[3] / (cm.ravel()[2] + cm.ravel()[3])\n",
    "    return tpr\n",
    "\n",
    "def fpr(y_true, y_pred):\n",
    "    cm = confusion_matrix(y_true, y_pred)\n",
    "    fpr = cm.ravel()[1] / (cm.ravel()[0] + cm.ravel()[1])\n",
    "    return fpr"
   ]
  },
  {
   "cell_type": "code",
   "execution_count": 43,
   "metadata": {},
   "outputs": [],
   "source": [
    "classifier_dtc_base = DecisionTreeClassifier(ccp_alpha=0.0, min_samples_leaf=5, min_samples_split=20, max_depth=30, random_state=88)\n",
    "classifier_dtc_base.fit(X1_train_enc, y1_train_enc)\n",
    "y1_pred_dtc = classifier_dtc_base.predict(X1_train_enc)"
   ]
  },
  {
   "cell_type": "markdown",
   "metadata": {},
   "source": [
    "#### TPR"
   ]
  },
  {
   "cell_type": "code",
   "execution_count": 49,
   "metadata": {},
   "outputs": [],
   "source": [
    "tpr_dtc_mitigated = MetricFrame(tpr, y1_train_enc, y1_pred_dtc_mitigated, sensitive_features=gender_train)"
   ]
  },
  {
   "cell_type": "code",
   "execution_count": 50,
   "metadata": {
    "scrolled": true
   },
   "outputs": [
    {
     "name": "stdout",
     "output_type": "stream",
     "text": [
      "0.5981127510283087\n"
     ]
    }
   ],
   "source": [
    "print(tpr_dtc_mitigated.overall)"
   ]
  },
  {
   "cell_type": "code",
   "execution_count": 51,
   "metadata": {},
   "outputs": [
    {
     "name": "stdout",
     "output_type": "stream",
     "text": [
      "is_male\n",
      "0.0    0.628995\n",
      "1.0    0.575388\n",
      "Name: tpr, dtype: object\n"
     ]
    }
   ],
   "source": [
    "print(tpr_dtc_mitigated.by_group)"
   ]
  },
  {
   "cell_type": "code",
   "execution_count": 52,
   "metadata": {},
   "outputs": [
    {
     "data": {
      "text/plain": [
       "0.567384466489233"
      ]
     },
     "execution_count": 52,
     "metadata": {},
     "output_type": "execute_result"
    }
   ],
   "source": [
    "tpr_dtc = tpr(y1_train_enc, y1_pred_dtc)\n",
    "tpr_dtc"
   ]
  },
  {
   "cell_type": "markdown",
   "metadata": {},
   "source": [
    "#### FPR"
   ]
  },
  {
   "cell_type": "code",
   "execution_count": 53,
   "metadata": {},
   "outputs": [
    {
     "name": "stdout",
     "output_type": "stream",
     "text": [
      "Mitigated fpr of CART is:  0.006478199950548092\n",
      "Mitigated fpr of CART by group is:\n",
      " is_male\n",
      "0.0    0.001925\n",
      "1.0    0.008591\n",
      "Name: fpr, dtype: object\n"
     ]
    }
   ],
   "source": [
    "fpr_dtc_mitigated = MetricFrame(fpr, y1_train_enc, y1_pred_dtc_mitigated, sensitive_features=gender_train)\n",
    "print('Mitigated fpr of CART is: ', fpr_dtc_mitigated.overall)\n",
    "print('Mitigated fpr of CART by group is:\\n', fpr_dtc_mitigated.by_group)"
   ]
  },
  {
   "cell_type": "code",
   "execution_count": 54,
   "metadata": {},
   "outputs": [
    {
     "data": {
      "text/plain": [
       "0.0027857908184290778"
      ]
     },
     "execution_count": 54,
     "metadata": {},
     "output_type": "execute_result"
    }
   ],
   "source": [
    "fpr_dtc = fpr(y1_train_enc, y1_pred_dtc)\n",
    "fpr_dtc"
   ]
  },
  {
   "cell_type": "markdown",
   "metadata": {},
   "source": [
    "#### F1-score"
   ]
  },
  {
   "cell_type": "code",
   "execution_count": 55,
   "metadata": {},
   "outputs": [
    {
     "data": {
      "text/plain": [
       "0.7064875678765361"
      ]
     },
     "execution_count": 55,
     "metadata": {},
     "output_type": "execute_result"
    }
   ],
   "source": [
    "from sklearn.metrics import f1_score\n",
    "f1_dtc_mitigated = MetricFrame(f1_score, y1_train_enc, y1_pred_dtc_mitigated, sensitive_features=gender_train)\n",
    "f1_dtc_mitigated.overall"
   ]
  },
  {
   "cell_type": "code",
   "execution_count": 56,
   "metadata": {},
   "outputs": [
    {
     "data": {
      "text/plain": [
       "is_male\n",
       "0.0    0.762366\n",
       "1.0    0.667154\n",
       "Name: f1_score, dtype: object"
      ]
     },
     "execution_count": 56,
     "metadata": {},
     "output_type": "execute_result"
    }
   ],
   "source": [
    "f1_dtc_mitigated.by_group"
   ]
  },
  {
   "cell_type": "code",
   "execution_count": 57,
   "metadata": {},
   "outputs": [
    {
     "data": {
      "text/plain": [
       "0.7055814653227019"
      ]
     },
     "execution_count": 57,
     "metadata": {},
     "output_type": "execute_result"
    }
   ],
   "source": [
    "f1_dtc = f1_score(y1_train_enc, y1_pred_dtc)\n",
    "f1_dtc"
   ]
  },
  {
   "cell_type": "markdown",
   "metadata": {},
   "source": [
    "#### Comparison with baseline"
   ]
  },
  {
   "cell_type": "code",
   "execution_count": 58,
   "metadata": {},
   "outputs": [
    {
     "data": {
      "text/plain": [
       "-0.05415778251599145"
      ]
     },
     "execution_count": 58,
     "metadata": {},
     "output_type": "execute_result"
    }
   ],
   "source": [
    "# percentage decrease of TPR\n",
    "(tpr_dtc - tpr_dtc_mitigated.overall)/tpr_dtc"
   ]
  },
  {
   "cell_type": "code",
   "execution_count": 59,
   "metadata": {},
   "outputs": [
    {
     "data": {
      "text/plain": [
       "-1.3254437869822484"
      ]
     },
     "execution_count": 59,
     "metadata": {},
     "output_type": "execute_result"
    }
   ],
   "source": [
    "# percentage decrease of FPR\n",
    "(fpr_dtc - fpr_dtc_mitigated.overall) / fpr_dtc"
   ]
  },
  {
   "cell_type": "markdown",
   "metadata": {},
   "source": [
    "#### Tradeoff"
   ]
  },
  {
   "cell_type": "code",
   "execution_count": 60,
   "metadata": {},
   "outputs": [],
   "source": [
    "# a list of difference_bound\n",
    "bound_list = list(np.linspace(0, 0.05, 50))\n",
    "# relative change of tpr\n",
    "tpr_dtc_list = [np.nan]*len(bound_list)\n",
    "# relative change of fpr\n",
    "fpr_dtc_list = [np.nan]*len(bound_list)\n",
    "# relative change of F1-score\n",
    "f1_dtc_list = [np.nan]*len(bound_list)"
   ]
  },
  {
   "cell_type": "code",
   "execution_count": 61,
   "metadata": {},
   "outputs": [
    {
     "name": "stdout",
     "output_type": "stream",
     "text": [
      "time: 1931.94 s\n"
     ]
    }
   ],
   "source": [
    "from fairlearn.reductions import ExponentiatedGradient, DemographicParity\n",
    "from sklearn.metrics import confusion_matrix\n",
    "from sklearn.metrics import f1_score\n",
    "import time\n",
    "\n",
    "\n",
    "# baseline\n",
    "classifier_dtc = DecisionTreeClassifier(ccp_alpha=0.0, min_samples_leaf=5, \n",
    "                                            min_samples_split=20, max_depth=30, random_state=88)\n",
    "\n",
    "tic = time.time()\n",
    "\n",
    "for i in range(len(bound_list)):\n",
    "    sample_i = bound_list[i]\n",
    "    # mitigating disparity\n",
    "    np.random.seed(0)\n",
    "    constraint = DemographicParity(difference_bound=sample_i)\n",
    "    mitigator_dtc = ExponentiatedGradient(classifier_dtc, constraint)\n",
    "    mitigator_dtc.fit(X1_train_enc, y1_train_enc, sensitive_features=gender_train)\n",
    "    y1_pred_dtc = mitigator_dtc.predict(X1_test_enc)\n",
    "   \n",
    "    \n",
    "    # evaluating fairness in terms of f1-score\n",
    "    f1_mitigated_i = MetricFrame(f1_score, y1_test_enc, y1_pred_dtc, sensitive_features=gender_test)\n",
    "    relative_decrease_f1_i = (f1_dtc - f1_mitigated_i.overall) / f1_dtc\n",
    "    f1_dtc_list[i] = relative_decrease_f1_i\n",
    "    \n",
    "    # evaluating fairness in terms of tpr\n",
    "    tpr_dtc_mitigated_i = MetricFrame(tpr, y1_test_enc, y1_pred_dtc, sensitive_features=gender_test)\n",
    "    relative_decrease_tpr_i = (tpr_dtc - tpr_dtc_mitigated_i.overall) / tpr_dtc\n",
    "    tpr_dtc_list[i] = relative_decrease_tpr_i\n",
    "    \n",
    "    # evaluating fairness in terms of fpr\n",
    "    fpr_dtc_mitigated_i = MetricFrame(fpr, y1_test_enc, y1_pred_dtc, sensitive_features=gender_test)\n",
    "    relative_decrease_fpr_i = (fpr_dtc - fpr_dtc_mitigated_i.overall) / fpr_dtc\n",
    "    fpr_dtc_list[i] = relative_decrease_fpr_i\n",
    "    \n",
    "toc = time.time()\n",
    "\n",
    "print('time:', round(toc-tic,2), 's')"
   ]
  },
  {
   "cell_type": "code",
   "execution_count": 62,
   "metadata": {},
   "outputs": [
    {
     "data": {
      "text/plain": [
       "[0.0,\n",
       " 0.0010526315789473684,\n",
       " 0.002105263157894737,\n",
       " 0.003157894736842105,\n",
       " 0.004210526315789474,\n",
       " 0.005263157894736842,\n",
       " 0.00631578947368421,\n",
       " 0.007368421052631579,\n",
       " 0.008421052631578947,\n",
       " 0.009473684210526315,\n",
       " 0.010526315789473684,\n",
       " 0.011578947368421053,\n",
       " 0.01263157894736842,\n",
       " 0.013684210526315788,\n",
       " 0.014736842105263158,\n",
       " 0.015789473684210527,\n",
       " 0.016842105263157894,\n",
       " 0.017894736842105262,\n",
       " 0.01894736842105263,\n",
       " 0.02]"
      ]
     },
     "execution_count": 62,
     "metadata": {},
     "output_type": "execute_result"
    }
   ],
   "source": [
    "bound_list"
   ]
  },
  {
   "cell_type": "code",
   "execution_count": 63,
   "metadata": {},
   "outputs": [
    {
     "data": {
      "text/plain": [
       "[-0.09936034115138587,\n",
       " -0.1019189765458422,\n",
       " -0.09978678038379529,\n",
       " -0.09978678038379529,\n",
       " -0.09680170575692955,\n",
       " -0.09552238805970148,\n",
       " -0.09040511727078883,\n",
       " -0.06908315565031979,\n",
       " -0.060554371002132165,\n",
       " -0.05586353944562894,\n",
       " -0.053304904051172615,\n",
       " -0.049893390191897646,\n",
       " -0.043496801705756934,\n",
       " -0.034541577825159896,\n",
       " -0.026439232409381695,\n",
       " -0.021748400852878467,\n",
       " -0.015778251599147173,\n",
       " -0.017910447761194076,\n",
       " -0.016631130063965816,\n",
       " -0.016631130063965816]"
      ]
     },
     "execution_count": 63,
     "metadata": {},
     "output_type": "execute_result"
    }
   ],
   "source": [
    "tpr_dtc_list\n",
    "# tpr_dtc_list_r = list(reversed(tpr_dtc_list))"
   ]
  },
  {
   "cell_type": "code",
   "execution_count": 64,
   "metadata": {},
   "outputs": [
    {
     "data": {
      "text/plain": [
       "[-2.840236686390533,\n",
       " -2.7633136094674553,\n",
       " -2.6272189349112427,\n",
       " -2.5266272189349115,\n",
       " -2.337278106508876,\n",
       " -2.106508875739645,\n",
       " -2.0118343195266273,\n",
       " -1.668639053254438,\n",
       " -1.4378698224852071,\n",
       " -1.378698224852071,\n",
       " -1.21301775147929,\n",
       " -1.0710059171597635,\n",
       " -1.0059171597633136,\n",
       " -0.8816568047337277,\n",
       " -0.7337278106508877,\n",
       " -0.5502958579881656,\n",
       " -0.4319526627218936,\n",
       " -0.30769230769230765,\n",
       " -0.21893491124260359,\n",
       " -0.21893491124260359]"
      ]
     },
     "execution_count": 64,
     "metadata": {},
     "output_type": "execute_result"
    }
   ],
   "source": [
    "fpr_dtc_list\n",
    "# fpr_dtc_list_r = list(reversed(fpr_dtc_list))"
   ]
  },
  {
   "cell_type": "code",
   "execution_count": 65,
   "metadata": {},
   "outputs": [],
   "source": [
    "comparison_dtc = pd.DataFrame({'difference_bound':bound_list, \n",
    "                               'decrease%_f1': f1_dtc_list,\n",
    "                               'decrease%_tpr': tpr_dtc_list,\n",
    "                               'decrease%_fpr': fpr_dtc_list})"
   ]
  },
  {
   "cell_type": "code",
   "execution_count": 66,
   "metadata": {},
   "outputs": [
    {
     "data": {
      "text/html": [
       "<div>\n",
       "<style scoped>\n",
       "    .dataframe tbody tr th:only-of-type {\n",
       "        vertical-align: middle;\n",
       "    }\n",
       "\n",
       "    .dataframe tbody tr th {\n",
       "        vertical-align: top;\n",
       "    }\n",
       "\n",
       "    .dataframe thead th {\n",
       "        text-align: right;\n",
       "    }\n",
       "</style>\n",
       "<table border=\"1\" class=\"dataframe\">\n",
       "  <thead>\n",
       "    <tr style=\"text-align: right;\">\n",
       "      <th></th>\n",
       "      <th>difference_bound</th>\n",
       "      <th>decrease%_f1</th>\n",
       "      <th>decrease%_tpr</th>\n",
       "      <th>decrease%_fpr</th>\n",
       "    </tr>\n",
       "  </thead>\n",
       "  <tbody>\n",
       "    <tr>\n",
       "      <th>0</th>\n",
       "      <td>0.000000</td>\n",
       "      <td>0.007140</td>\n",
       "      <td>-0.099360</td>\n",
       "      <td>-2.840237</td>\n",
       "    </tr>\n",
       "    <tr>\n",
       "      <th>1</th>\n",
       "      <td>0.001053</td>\n",
       "      <td>0.003882</td>\n",
       "      <td>-0.101919</td>\n",
       "      <td>-2.763314</td>\n",
       "    </tr>\n",
       "    <tr>\n",
       "      <th>2</th>\n",
       "      <td>0.002105</td>\n",
       "      <td>0.002009</td>\n",
       "      <td>-0.099787</td>\n",
       "      <td>-2.627219</td>\n",
       "    </tr>\n",
       "    <tr>\n",
       "      <th>3</th>\n",
       "      <td>0.003158</td>\n",
       "      <td>-0.000312</td>\n",
       "      <td>-0.099787</td>\n",
       "      <td>-2.526627</td>\n",
       "    </tr>\n",
       "    <tr>\n",
       "      <th>4</th>\n",
       "      <td>0.004211</td>\n",
       "      <td>-0.002950</td>\n",
       "      <td>-0.096802</td>\n",
       "      <td>-2.337278</td>\n",
       "    </tr>\n",
       "    <tr>\n",
       "      <th>5</th>\n",
       "      <td>0.005263</td>\n",
       "      <td>-0.007602</td>\n",
       "      <td>-0.095522</td>\n",
       "      <td>-2.106509</td>\n",
       "    </tr>\n",
       "    <tr>\n",
       "      <th>6</th>\n",
       "      <td>0.006316</td>\n",
       "      <td>-0.006796</td>\n",
       "      <td>-0.090405</td>\n",
       "      <td>-2.011834</td>\n",
       "    </tr>\n",
       "    <tr>\n",
       "      <th>7</th>\n",
       "      <td>0.007368</td>\n",
       "      <td>-0.002143</td>\n",
       "      <td>-0.069083</td>\n",
       "      <td>-1.668639</td>\n",
       "    </tr>\n",
       "    <tr>\n",
       "      <th>8</th>\n",
       "      <td>0.008421</td>\n",
       "      <td>-0.002489</td>\n",
       "      <td>-0.060554</td>\n",
       "      <td>-1.437870</td>\n",
       "    </tr>\n",
       "    <tr>\n",
       "      <th>9</th>\n",
       "      <td>0.009474</td>\n",
       "      <td>-0.001045</td>\n",
       "      <td>-0.055864</td>\n",
       "      <td>-1.378698</td>\n",
       "    </tr>\n",
       "  </tbody>\n",
       "</table>\n",
       "</div>"
      ],
      "text/plain": [
       "   difference_bound  decrease%_f1  decrease%_tpr  decrease%_fpr\n",
       "0          0.000000      0.007140      -0.099360      -2.840237\n",
       "1          0.001053      0.003882      -0.101919      -2.763314\n",
       "2          0.002105      0.002009      -0.099787      -2.627219\n",
       "3          0.003158     -0.000312      -0.099787      -2.526627\n",
       "4          0.004211     -0.002950      -0.096802      -2.337278\n",
       "5          0.005263     -0.007602      -0.095522      -2.106509\n",
       "6          0.006316     -0.006796      -0.090405      -2.011834\n",
       "7          0.007368     -0.002143      -0.069083      -1.668639\n",
       "8          0.008421     -0.002489      -0.060554      -1.437870\n",
       "9          0.009474     -0.001045      -0.055864      -1.378698"
      ]
     },
     "execution_count": 66,
     "metadata": {},
     "output_type": "execute_result"
    }
   ],
   "source": [
    "comparison_dtc.head(10)"
   ]
  },
  {
   "cell_type": "code",
   "execution_count": 67,
   "metadata": {},
   "outputs": [
    {
     "data": {
      "text/plain": [
       "<matplotlib.collections.PathCollection at 0x7fc1c94130d0>"
      ]
     },
     "execution_count": 67,
     "metadata": {},
     "output_type": "execute_result"
    },
    {
     "data": {
      "image/png": "[encoded data removed]",
      "text/plain": [
       "<Figure size 576x432 with 1 Axes>"
      ]
     },
     "metadata": {
      "needs_background": "light"
     },
     "output_type": "display_data"
    }
   ],
   "source": [
    "plt.figure(figsize=(8,6))\n",
    "plt.title('Decision Tree Classifier (F1-score)', fontsize=16)\n",
    "plt.xlabel('value of difference_bound', fontsize=16)\n",
    "plt.ylabel('relative decrease of f1-score', fontsize=16)\n",
    "plt.ylim([-0.01, 0.06])\n",
    "plt.scatter(x=comparison_dtc['difference_bound'], y=comparison_dtc['decrease%_f1'])"
   ]
  },
  {
   "cell_type": "code",
   "execution_count": 74,
   "metadata": {},
   "outputs": [
    {
     "data": {
      "text/plain": [
       "<matplotlib.collections.PathCollection at 0x7fc1c853c520>"
      ]
     },
     "execution_count": 74,
     "metadata": {},
     "output_type": "execute_result"
    },
    {
     "data": {
      "image/png": "[encoded data removed]",
      "text/plain": [
       "<Figure size 576x432 with 1 Axes>"
      ]
     },
     "metadata": {
      "needs_background": "light"
     },
     "output_type": "display_data"
    }
   ],
   "source": [
    "plt.figure(figsize=(8,6))\n",
    "plt.title('Decision Tree Classifier (TPR)', fontsize=16)\n",
    "plt.xlabel('value of difference_bound', fontsize=16)\n",
    "plt.ylabel('relative decrease of tpr', fontsize=16)\n",
    "plt.ylim([-0.15, 0.01])\n",
    "plt.scatter(x=comparison_dtc['difference_bound'], y=comparison_dtc['decrease%_tpr'])"
   ]
  },
  {
   "cell_type": "code",
   "execution_count": 77,
   "metadata": {},
   "outputs": [
    {
     "data": {
      "text/plain": [
       "<matplotlib.collections.PathCollection at 0x7fc1c88073d0>"
      ]
     },
     "execution_count": 77,
     "metadata": {},
     "output_type": "execute_result"
    },
    {
     "data": {
      "image/png": "[encoded data removed]",
      "text/plain": [
       "<Figure size 576x432 with 1 Axes>"
      ]
     },
     "metadata": {
      "needs_background": "light"
     },
     "output_type": "display_data"
    }
   ],
   "source": [
    "plt.figure(figsize=(8,6))\n",
    "plt.title('Decision Tree Classifier (FPR)', fontsize=16)\n",
    "plt.xlabel('value of difference_bound', fontsize=16)\n",
    "plt.ylabel('relative decrease of fpr', fontsize=16)\n",
    "plt.ylim([-3,0.2])\n",
    "plt.scatter(x=comparison_dtc['difference_bound'], y=comparison_dtc['decrease%_fpr'])"
   ]
  },
  {
   "cell_type": "code",
   "execution_count": 70,
   "metadata": {},
   "outputs": [
    {
     "data": {
      "text/html": [
       "<div>\n",
       "<style scoped>\n",
       "    .dataframe tbody tr th:only-of-type {\n",
       "        vertical-align: middle;\n",
       "    }\n",
       "\n",
       "    .dataframe tbody tr th {\n",
       "        vertical-align: top;\n",
       "    }\n",
       "\n",
       "    .dataframe thead th {\n",
       "        text-align: right;\n",
       "    }\n",
       "</style>\n",
       "<table border=\"1\" class=\"dataframe\">\n",
       "  <thead>\n",
       "    <tr style=\"text-align: right;\">\n",
       "      <th></th>\n",
       "      <th>difference_bound</th>\n",
       "      <th>decrease%_f1</th>\n",
       "      <th>decrease%_tpr</th>\n",
       "      <th>decrease%_fpr</th>\n",
       "    </tr>\n",
       "  </thead>\n",
       "  <tbody>\n",
       "    <tr>\n",
       "      <th>0</th>\n",
       "      <td>0.000000</td>\n",
       "      <td>0.007140</td>\n",
       "      <td>-0.099360</td>\n",
       "      <td>-2.840237</td>\n",
       "    </tr>\n",
       "    <tr>\n",
       "      <th>1</th>\n",
       "      <td>0.001053</td>\n",
       "      <td>0.003882</td>\n",
       "      <td>-0.101919</td>\n",
       "      <td>-2.763314</td>\n",
       "    </tr>\n",
       "    <tr>\n",
       "      <th>2</th>\n",
       "      <td>0.002105</td>\n",
       "      <td>0.002009</td>\n",
       "      <td>-0.099787</td>\n",
       "      <td>-2.627219</td>\n",
       "    </tr>\n",
       "    <tr>\n",
       "      <th>3</th>\n",
       "      <td>0.003158</td>\n",
       "      <td>-0.000312</td>\n",
       "      <td>-0.099787</td>\n",
       "      <td>-2.526627</td>\n",
       "    </tr>\n",
       "    <tr>\n",
       "      <th>4</th>\n",
       "      <td>0.004211</td>\n",
       "      <td>-0.002950</td>\n",
       "      <td>-0.096802</td>\n",
       "      <td>-2.337278</td>\n",
       "    </tr>\n",
       "    <tr>\n",
       "      <th>5</th>\n",
       "      <td>0.005263</td>\n",
       "      <td>-0.007602</td>\n",
       "      <td>-0.095522</td>\n",
       "      <td>-2.106509</td>\n",
       "    </tr>\n",
       "    <tr>\n",
       "      <th>6</th>\n",
       "      <td>0.006316</td>\n",
       "      <td>-0.006796</td>\n",
       "      <td>-0.090405</td>\n",
       "      <td>-2.011834</td>\n",
       "    </tr>\n",
       "    <tr>\n",
       "      <th>7</th>\n",
       "      <td>0.007368</td>\n",
       "      <td>-0.002143</td>\n",
       "      <td>-0.069083</td>\n",
       "      <td>-1.668639</td>\n",
       "    </tr>\n",
       "    <tr>\n",
       "      <th>8</th>\n",
       "      <td>0.008421</td>\n",
       "      <td>-0.002489</td>\n",
       "      <td>-0.060554</td>\n",
       "      <td>-1.437870</td>\n",
       "    </tr>\n",
       "    <tr>\n",
       "      <th>9</th>\n",
       "      <td>0.009474</td>\n",
       "      <td>-0.001045</td>\n",
       "      <td>-0.055864</td>\n",
       "      <td>-1.378698</td>\n",
       "    </tr>\n",
       "  </tbody>\n",
       "</table>\n",
       "</div>"
      ],
      "text/plain": [
       "   difference_bound  decrease%_f1  decrease%_tpr  decrease%_fpr\n",
       "0          0.000000      0.007140      -0.099360      -2.840237\n",
       "1          0.001053      0.003882      -0.101919      -2.763314\n",
       "2          0.002105      0.002009      -0.099787      -2.627219\n",
       "3          0.003158     -0.000312      -0.099787      -2.526627\n",
       "4          0.004211     -0.002950      -0.096802      -2.337278\n",
       "5          0.005263     -0.007602      -0.095522      -2.106509\n",
       "6          0.006316     -0.006796      -0.090405      -2.011834\n",
       "7          0.007368     -0.002143      -0.069083      -1.668639\n",
       "8          0.008421     -0.002489      -0.060554      -1.437870\n",
       "9          0.009474     -0.001045      -0.055864      -1.378698"
      ]
     },
     "execution_count": 70,
     "metadata": {},
     "output_type": "execute_result"
    }
   ],
   "source": [
    "comparison_dtc.head(10)"
   ]
  },
  {
   "cell_type": "markdown",
   "metadata": {},
   "source": [
    "#### Random forest"
   ]
  },
  {
   "cell_type": "code",
   "execution_count": 83,
   "metadata": {},
   "outputs": [],
   "source": [
    "classifier_rf = RandomForestClassifier(max_features=9, min_samples_leaf=5, max_depth=30, n_estimators=500, random_state=88)"
   ]
  },
  {
   "cell_type": "code",
   "execution_count": 84,
   "metadata": {},
   "outputs": [],
   "source": [
    "classifier_rf.fit(X1_train_enc, y1_train_enc)\n",
    "y1_pred_rf = classifier_rf.predict(X1_train_enc)"
   ]
  },
  {
   "cell_type": "code",
   "execution_count": 85,
   "metadata": {},
   "outputs": [],
   "source": [
    "tpr_rf = tpr(y1_train_enc, y1_pred_rf)\n",
    "fpr_rf = fpr(y1_train_enc, y1_pred_rf)"
   ]
  },
  {
   "cell_type": "code",
   "execution_count": 86,
   "metadata": {},
   "outputs": [],
   "source": [
    "f1_rf=f1_score(y1_train_enc, y1_pred_rf)"
   ]
  },
  {
   "cell_type": "markdown",
   "metadata": {},
   "source": [
    "#### difference_bound"
   ]
  },
  {
   "cell_type": "code",
   "execution_count": 87,
   "metadata": {},
   "outputs": [],
   "source": [
    "# # a list of difference_bound\n",
    "\n",
    "bound_list = list(np.linspace(0, 0.05, 50))\n",
    "# relative change of tpr\n",
    "tpr_rf_list = [np.nan]*len(bound_list)\n",
    "# relative change of fpr\n",
    "fpr_rf_list = [np.nan]*len(bound_list)\n",
    "# relative change of F1-score\n",
    "f1_rf_list = [np.nan]*len(bound_list)\n"
   ]
  },
  {
   "cell_type": "code",
   "execution_count": 88,
   "metadata": {},
   "outputs": [
    {
     "name": "stdout",
     "output_type": "stream",
     "text": [
      "time: 30063.36 s\n"
     ]
    }
   ],
   "source": [
    "from fairlearn.reductions import ExponentiatedGradient, DemographicParity\n",
    "from sklearn.metrics import confusion_matrix\n",
    "import time\n",
    "\n",
    "\n",
    "# baseline\n",
    "classifier_rf = RandomForestClassifier(max_features=9, min_samples_leaf=5, \n",
    "                                       max_depth=30, n_estimators=500, random_state=88)\n",
    "\n",
    "tic = time.time()\n",
    "\n",
    "for i in range(len(bound_list)):\n",
    "    sample_i = bound_list[i]\n",
    "    # mitigating disparity\n",
    "    np.random.seed(0)\n",
    "    constraint = DemographicParity(difference_bound=sample_i)\n",
    "    mitigator_rf = ExponentiatedGradient(classifier_rf, constraint)\n",
    "    mitigator_rf.fit(X1_train_enc, y1_train_enc, sensitive_features=gender_train)\n",
    "    y1_pred_rf = mitigator_rf.predict(X1_test_enc)\n",
    "    \n",
    "    \n",
    "    # evaluating fairness in terms of f1-score\n",
    "    f1_rf_mitigated_i = MetricFrame(f1_score, y1_test_enc, y1_pred_rf, sensitive_features=gender_test)\n",
    "    relative_change_f1_i = (f1_rf - f1_rf_mitigated_i.overall) / f1_rf\n",
    "    f1_rf_list[i] = relative_change_f1_i\n",
    "    \n",
    "    \n",
    "    # evaluating fairness in terms of tpr\n",
    "    tpr_rf_mitigated_i = MetricFrame(tpr, y1_test_enc, y1_pred_rf, sensitive_features=gender_test)\n",
    "    relative_change_tpr_i = (tpr_rf - tpr_rf_mitigated_i.overall) / tpr_rf\n",
    "    tpr_rf_list[i] = relative_change_tpr_i\n",
    "    \n",
    "    #evaluating fairness in terms of fpr\n",
    "    fpr_rf_mitigated_i = MetricFrame(fpr, y1_test_enc, y1_pred_rf, sensitive_features=gender_test)\n",
    "    relative_change_fpr_i = (fpr_rf - fpr_rf_mitigated_i.overall) / fpr_rf\n",
    "    fpr_rf_list[i] = relative_change_fpr_i\n",
    "    \n",
    "toc = time.time()\n",
    "\n",
    "print('time:', round(toc-tic,2), 's')"
   ]
  },
  {
   "cell_type": "code",
   "execution_count": 89,
   "metadata": {},
   "outputs": [
    {
     "data": {
      "text/plain": [
       "[0.0,\n",
       " 0.0010526315789473684,\n",
       " 0.002105263157894737,\n",
       " 0.003157894736842105,\n",
       " 0.004210526315789474,\n",
       " 0.005263157894736842,\n",
       " 0.00631578947368421,\n",
       " 0.007368421052631579,\n",
       " 0.008421052631578947,\n",
       " 0.009473684210526315,\n",
       " 0.010526315789473684,\n",
       " 0.011578947368421053,\n",
       " 0.01263157894736842,\n",
       " 0.013684210526315788,\n",
       " 0.014736842105263158,\n",
       " 0.015789473684210527,\n",
       " 0.016842105263157894,\n",
       " 0.017894736842105262,\n",
       " 0.01894736842105263,\n",
       " 0.02]"
      ]
     },
     "execution_count": 89,
     "metadata": {},
     "output_type": "execute_result"
    }
   ],
   "source": [
    "bound_list"
   ]
  },
  {
   "cell_type": "code",
   "execution_count": 90,
   "metadata": {},
   "outputs": [
    {
     "data": {
      "text/plain": [
       "[-0.006711409395973166,\n",
       " -0.033040784718637084,\n",
       " -0.006195147134744416,\n",
       " -0.03871966959215275,\n",
       " -0.0020650490449147657,\n",
       " -0.03458957150232322,\n",
       " 0.0015487867836861335,\n",
       " -0.041300980898296265,\n",
       " -0.04078471863706763,\n",
       " -0.04336602994321115,\n",
       " 0.013422818791946333,\n",
       " -0.03510583376355185,\n",
       " -0.029426948890036064,\n",
       " 0.010325245224574066,\n",
       " 0.004646360351058401,\n",
       " -0.022199277232834266,\n",
       " 0.0025813113061435165,\n",
       " -0.01652039235931848,\n",
       " -0.017036654620547233,\n",
       " -0.018069179143004616]"
      ]
     },
     "execution_count": 90,
     "metadata": {},
     "output_type": "execute_result"
    }
   ],
   "source": [
    "tpr_rf_list"
   ]
  },
  {
   "cell_type": "code",
   "execution_count": 91,
   "metadata": {},
   "outputs": [
    {
     "data": {
      "text/plain": [
       "[-10.666666666666666,\n",
       " -11.925925925925926,\n",
       " -8.444444444444445,\n",
       " -11.037037037037036,\n",
       " -6.518518518518519,\n",
       " -9.629629629629632,\n",
       " -5.0,\n",
       " -7.703703703703703,\n",
       " -7.148148148148148,\n",
       " -6.444444444444445,\n",
       " -2.2222222222222223,\n",
       " -4.7407407407407405,\n",
       " -3.3703703703703702,\n",
       " -0.29629629629629634,\n",
       " 0.03703703703703707,\n",
       " -2.1851851851851856,\n",
       " -0.03703703703703707,\n",
       " -0.03703703703703707,\n",
       " -0.03703703703703707,\n",
       " -0.07407407407407414]"
      ]
     },
     "execution_count": 91,
     "metadata": {},
     "output_type": "execute_result"
    }
   ],
   "source": [
    "fpr_rf_list"
   ]
  },
  {
   "cell_type": "code",
   "execution_count": 92,
   "metadata": {},
   "outputs": [],
   "source": [
    "comparison_rf = pd.DataFrame({'difference_bound':bound_list, \n",
    "                               'decrease%_f1': f1_rf_list,\n",
    "                               'decrease%_tpr': tpr_rf_list,\n",
    "                               'decrease%_fpr': fpr_rf_list})"
   ]
  },
  {
   "cell_type": "code",
   "execution_count": 93,
   "metadata": {},
   "outputs": [
    {
     "data": {
      "text/html": [
       "<div>\n",
       "<style scoped>\n",
       "    .dataframe tbody tr th:only-of-type {\n",
       "        vertical-align: middle;\n",
       "    }\n",
       "\n",
       "    .dataframe tbody tr th {\n",
       "        vertical-align: top;\n",
       "    }\n",
       "\n",
       "    .dataframe thead th {\n",
       "        text-align: right;\n",
       "    }\n",
       "</style>\n",
       "<table border=\"1\" class=\"dataframe\">\n",
       "  <thead>\n",
       "    <tr style=\"text-align: right;\">\n",
       "      <th></th>\n",
       "      <th>difference_bound</th>\n",
       "      <th>decrease%_f1</th>\n",
       "      <th>decrease%_tpr</th>\n",
       "      <th>decrease%_fpr</th>\n",
       "    </tr>\n",
       "  </thead>\n",
       "  <tbody>\n",
       "    <tr>\n",
       "      <th>0</th>\n",
       "      <td>0.000000</td>\n",
       "      <td>-0.116168</td>\n",
       "      <td>-0.006711</td>\n",
       "      <td>-10.666667</td>\n",
       "    </tr>\n",
       "    <tr>\n",
       "      <th>1</th>\n",
       "      <td>0.001053</td>\n",
       "      <td>-0.116168</td>\n",
       "      <td>-0.033041</td>\n",
       "      <td>-11.925926</td>\n",
       "    </tr>\n",
       "    <tr>\n",
       "      <th>2</th>\n",
       "      <td>0.002105</td>\n",
       "      <td>-0.116168</td>\n",
       "      <td>-0.006195</td>\n",
       "      <td>-8.444444</td>\n",
       "    </tr>\n",
       "    <tr>\n",
       "      <th>3</th>\n",
       "      <td>0.003158</td>\n",
       "      <td>-0.116168</td>\n",
       "      <td>-0.038720</td>\n",
       "      <td>-11.037037</td>\n",
       "    </tr>\n",
       "    <tr>\n",
       "      <th>4</th>\n",
       "      <td>0.004211</td>\n",
       "      <td>-0.116168</td>\n",
       "      <td>-0.002065</td>\n",
       "      <td>-6.518519</td>\n",
       "    </tr>\n",
       "    <tr>\n",
       "      <th>5</th>\n",
       "      <td>0.005263</td>\n",
       "      <td>-0.116168</td>\n",
       "      <td>-0.034590</td>\n",
       "      <td>-9.629630</td>\n",
       "    </tr>\n",
       "    <tr>\n",
       "      <th>6</th>\n",
       "      <td>0.006316</td>\n",
       "      <td>-0.116168</td>\n",
       "      <td>0.001549</td>\n",
       "      <td>-5.000000</td>\n",
       "    </tr>\n",
       "    <tr>\n",
       "      <th>7</th>\n",
       "      <td>0.007368</td>\n",
       "      <td>-0.116168</td>\n",
       "      <td>-0.041301</td>\n",
       "      <td>-7.703704</td>\n",
       "    </tr>\n",
       "    <tr>\n",
       "      <th>8</th>\n",
       "      <td>0.008421</td>\n",
       "      <td>-0.116168</td>\n",
       "      <td>-0.040785</td>\n",
       "      <td>-7.148148</td>\n",
       "    </tr>\n",
       "    <tr>\n",
       "      <th>9</th>\n",
       "      <td>0.009474</td>\n",
       "      <td>-0.116168</td>\n",
       "      <td>-0.043366</td>\n",
       "      <td>-6.444444</td>\n",
       "    </tr>\n",
       "  </tbody>\n",
       "</table>\n",
       "</div>"
      ],
      "text/plain": [
       "   difference_bound  decrease%_f1  decrease%_tpr  decrease%_fpr\n",
       "0          0.000000     -0.116168      -0.006711     -10.666667\n",
       "1          0.001053     -0.116168      -0.033041     -11.925926\n",
       "2          0.002105     -0.116168      -0.006195      -8.444444\n",
       "3          0.003158     -0.116168      -0.038720     -11.037037\n",
       "4          0.004211     -0.116168      -0.002065      -6.518519\n",
       "5          0.005263     -0.116168      -0.034590      -9.629630\n",
       "6          0.006316     -0.116168       0.001549      -5.000000\n",
       "7          0.007368     -0.116168      -0.041301      -7.703704\n",
       "8          0.008421     -0.116168      -0.040785      -7.148148\n",
       "9          0.009474     -0.116168      -0.043366      -6.444444"
      ]
     },
     "execution_count": 93,
     "metadata": {},
     "output_type": "execute_result"
    }
   ],
   "source": [
    "comparison_rf.head(10)"
   ]
  },
  {
   "cell_type": "code",
   "execution_count": 104,
   "metadata": {},
   "outputs": [
    {
     "data": {
      "text/plain": [
       "<matplotlib.collections.PathCollection at 0x7fc129e1bcd0>"
      ]
     },
     "execution_count": 104,
     "metadata": {},
     "output_type": "execute_result"
    },
    {
     "data": {
      "image/png": "[encoded data removed]",
      "text/plain": [
       "<Figure size 576x432 with 1 Axes>"
      ]
     },
     "metadata": {
      "needs_background": "light"
     },
     "output_type": "display_data"
    }
   ],
   "source": [
    "plt.figure(figsize=(8,6))\n",
    "plt.title('Random Forest Classifier (F1-score)', fontsize=16)\n",
    "plt.xlabel('value of difference_bound', fontsize=16)\n",
    "plt.ylabel('relative decrease of f1-score', fontsize=16)\n",
    "plt.ylim([-1, 1])\n",
    "plt.scatter(x=comparison_rf['difference_bound'], y=comparison_rf['decrease%_f1'])"
   ]
  },
  {
   "cell_type": "code",
   "execution_count": 98,
   "metadata": {},
   "outputs": [
    {
     "data": {
      "text/plain": [
       "<matplotlib.collections.PathCollection at 0x7fc1788a2820>"
      ]
     },
     "execution_count": 98,
     "metadata": {},
     "output_type": "execute_result"
    },
    {
     "data": {
      "image/png": "[encoded data removed]",
      "text/plain": [
       "<Figure size 576x432 with 1 Axes>"
      ]
     },
     "metadata": {
      "needs_background": "light"
     },
     "output_type": "display_data"
    }
   ],
   "source": [
    "plt.figure(figsize=(8,6))\n",
    "plt.title('Random Forest Classifier (TPR)', fontsize=16)\n",
    "plt.xlabel('value of difference_bound', fontsize=16)\n",
    "plt.ylabel('relative decrease of tpr', fontsize=16)\n",
    "plt.ylim([-0.15, 0.1])\n",
    "plt.scatter(x=comparison_rf['difference_bound'], y=comparison_rf['decrease%_tpr'])"
   ]
  },
  {
   "cell_type": "code",
   "execution_count": 103,
   "metadata": {},
   "outputs": [
    {
     "data": {
      "text/plain": [
       "<matplotlib.collections.PathCollection at 0x7fc1286ade50>"
      ]
     },
     "execution_count": 103,
     "metadata": {},
     "output_type": "execute_result"
    },
    {
     "data": {
      "image/png": "[encoded data removed]",
      "text/plain": [
       "<Figure size 576x432 with 1 Axes>"
      ]
     },
     "metadata": {
      "needs_background": "light"
     },
     "output_type": "display_data"
    }
   ],
   "source": [
    "plt.figure(figsize=(8,6))\n",
    "plt.title('Random Forest Classifier (FPR)', fontsize=16)\n",
    "plt.xlabel('value of difference_bound', fontsize=16)\n",
    "plt.ylabel('relative decrease of fpr', fontsize=16)\n",
    "plt.ylim([-13,1])\n",
    "plt.scatter(x=comparison_rf['difference_bound'], y=comparison_rf['decrease%_fpr'])"
   ]
  },
  {
   "cell_type": "code",
   "execution_count": null,
   "metadata": {},
   "outputs": [],
   "source": []
  },
  {
   "cell_type": "code",
   "execution_count": null,
   "metadata": {},
   "outputs": [],
   "source": []
  },
  {
   "cell_type": "code",
   "execution_count": null,
   "metadata": {},
   "outputs": [],
   "source": []
  }
 ],
 "metadata": {
  "colab": {
   "collapsed_sections": [],
   "name": "Data Modeling.ipynb",
   "provenance": []
  },
  "kernelspec": {
   "display_name": "Python 3",
   "language": "python",
   "name": "python3"
  },
  "language_info": {
   "codemirror_mode": {
    "name": "ipython",
    "version": 3
   },
   "file_extension": ".py",
   "mimetype": "text/x-python",
   "name": "python",
   "nbconvert_exporter": "python",
   "pygments_lexer": "ipython3",
   "version": "3.8.8"
  }
 },
 "nbformat": 4,
 "nbformat_minor": 1
}
