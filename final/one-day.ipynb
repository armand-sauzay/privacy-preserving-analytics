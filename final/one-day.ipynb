{
 "metadata": {
  "language_info": {
   "codemirror_mode": {
    "name": "ipython",
    "version": 3
   },
   "file_extension": ".py",
   "mimetype": "text/x-python",
   "name": "python",
   "nbconvert_exporter": "python",
   "pygments_lexer": "ipython3",
   "version": "3.9.1"
  },
  "orig_nbformat": 2,
  "kernelspec": {
   "name": "python3",
   "display_name": "Python 3.9.1 64-bit ('test': conda)",
   "metadata": {
    "interpreter": {
     "hash": "94e314bcb2e2c94098a96ce8345f3056e80c3e177e83b5f756ccedf62ae30c5b"
    }
   }
  }
 },
 "nbformat": 4,
 "nbformat_minor": 2,
 "cells": [
  {
   "cell_type": "code",
   "execution_count": 7,
   "metadata": {},
   "outputs": [
    {
     "output_type": "stream",
     "name": "stdout",
     "text": [
      "shape of bids is (9586949, 21)\nshape of impressions is (1821350, 24)\nshape of clicks is (1289, 24)\nshape of conversions is (43, 24)\n"
     ]
    }
   ],
   "source": [
    "date='20130606'\n",
    "os.chdir('/Users/Armand/Capstone/ipinyou.contest.dataset/training2nd')\n",
    "# 2. Define Parameters\n",
    "header_season2_bids=[\n",
    "    'Bid ID'\n",
    "    ,'Timestamp'\n",
    "    ,'iPinYou ID'\n",
    "    ,'User-Agent'\n",
    "    ,'IP'\n",
    "    ,'Region ID'\n",
    "    ,'City ID'\n",
    "    ,'Ad Exchange'\n",
    "    ,'Domain'\n",
    "    ,'URL'\n",
    "    ,'Anonymous URL'\n",
    "    ,'Ad Slot ID'\n",
    "    ,'Ad Slot Width'\n",
    "    ,'Ad Slot Height'\n",
    "    ,'Ad Slot Visibility'\n",
    "    ,'Ad Slot Format'\n",
    "    ,'Ad Slot Floor Price'\n",
    "    ,'Creative ID'\n",
    "    ,'Bidding Price'\n",
    "    ,'Advertiser ID'\n",
    "    ,'User Profile IDs']\n",
    "\n",
    "header_season2=[\n",
    "    'Bid ID'\n",
    "    ,'Timestamp'\n",
    "    ,'Log Type'\n",
    "    ,'iPinYou ID'\n",
    "    ,'User-Agent'\n",
    "    ,'IP'\n",
    "    ,'Region ID'\n",
    "    ,'City ID'\n",
    "    ,'Ad Exchange'\n",
    "    ,'Domain'\n",
    "    ,'URL'\n",
    "    ,'Anonymous URL'\n",
    "    ,'Ad Slot ID'\n",
    "    ,'Ad Slot Width'\n",
    "    ,'Ad Slot Height'\n",
    "    ,'Ad Slot Visibility'\n",
    "    ,'Ad Slot Format'\n",
    "    ,'Ad Slot Floor Price'\n",
    "    ,'Creative ID'\n",
    "    ,'Bidding Price'\n",
    "    ,'Paying Price'\n",
    "    ,'Landing Page URL'\n",
    "    ,'Advertiser ID'\n",
    "    ,'User Profile IDs']\n",
    "\n",
    "unzipped_file = bz2.BZ2File('bid.'+date+'.txt.bz2', \"r\")\n",
    "bids=pd.read_table(unzipped_file, names=header_season2_bids)\n",
    "unzipped_file = bz2.BZ2File('imp.'+date+'.txt.bz2', \"r\")\n",
    "impressions=pd.read_table(unzipped_file, names=header_season2)\n",
    "    \n",
    "unzipped_file = bz2.BZ2File('clk.'+date+'.txt.bz2', \"r\")\n",
    "clicks=pd.read_table(unzipped_file, names=header_season2)\n",
    "    \n",
    "unzipped_file = bz2.BZ2File('conv.'+date+'.txt.bz2', \"r\")\n",
    "conversions=pd.read_table(unzipped_file, names=header_season2)\n",
    "all_data={'bids': bids, 'impressions':impressions, 'clicks':clicks, 'conversions':conversions}\n",
    "for key, value in all_data.items(): \n",
    "    print('shape of %s is %s'%(key, value.shape))\n",
    "#ASSUMPTION 1: SOME COLUMNS CAN BE DROPPED BECAUSE THEY HAVE NO PREDICTIVE POWER\n",
    "cols_to_drop=['iPinYou ID'\n",
    "            ,'IP'\n",
    "            ,'Domain'\n",
    "            ,'URL'\n",
    "            ,'Anonymous URL'\n",
    "            ,'Ad Slot ID'\n",
    "            ,'Creative ID']\n",
    "for index, value in all_data.items(): \n",
    "    value.drop(cols_to_drop, axis=1, inplace =True)\n",
    "    if index!='bids': \n",
    "        value.drop('Landing Page URL', axis=1, inplace=True)\n",
    "#PRESSION MERGE \n",
    "## ASSUMPTION 2.1:COUNT DUPLICATES ON BID ID FOR IMPRESSIONS AND ADD THEM TO LINE\n",
    "## ASSUMPTION 2.2: ONLY KEEP COLUMNS THAT ACTUALLY DIFFER IN THE IMPRESSION TABLE\n",
    "impression_count=impressions.groupby(['Bid ID']).size()\n",
    "impression_to_merge =pd.merge(impressions[['Bid ID'\n",
    "        , 'Timestamp'\n",
    "        , 'User-Agent'\n",
    "        , 'Log Type'\n",
    "        , 'Paying Price'\n",
    "        , 'User Profile IDs']].drop_duplicates('Bid ID'), impression_count.rename('n_impressions'), left_on='Bid ID',right_index=True)\n",
    "df=pd.merge(bids, impression_to_merge, on=\"Bid ID\", suffixes=('_bid', '_imp'), how=\"left\")\n",
    "#CKS MERGE\n",
    "## ASSUMPTION 3.1: COUNT DUPLICATES FOR BID ID FOR CLICKS AND ADD THEM  \n",
    "## ASSUMPTION 3.2: ONLY KEEP COLUMNS THAT ACTUALLY DIFFER IN THE CLICKS TABLE\n",
    "clicks_count=clicks.groupby(['Bid ID']).size()\n",
    "clicks_to_merge =pd.merge(clicks[['Bid ID'\n",
    "                    , 'Timestamp'\n",
    "                    , 'User-Agent'\n",
    "                    , 'User Profile IDs'\n",
    "                    , 'Region ID'\n",
    "                    ]].drop_duplicates('Bid ID'), clicks_count.rename('n_clicks'), left_on='Bid ID',right_index=True)     \n",
    "df=pd.merge(df, clicks_to_merge, left_on=\"Bid ID\",right_on=\"Bid ID\", suffixes=('_bids_join_impressions', '_clicks'), how=\"left\")\n",
    "# ADD COLUMNS (QUITE REDUNDANT WITH n_clicks & n_impressions)\n",
    "df['has impression']=~(df['Timestamp_imp'].isna())\n",
    "df['has click']=~(df['Region ID_clicks'].isna())\n",
    "#CONVERT BOOL TO INT \n",
    "df['has impression']=df['has impression'].astype(int)\n",
    "df['has click']=df['has click'].astype(int)\n",
    "#REDUCE SIZE   \n",
    "cols_to_drop = ['Bid ID']\n",
    "df.drop(cols_to_drop, axis=1, inplace =True)"
   ]
  },
  {
   "cell_type": "code",
   "execution_count": 9,
   "metadata": {},
   "outputs": [
    {
     "output_type": "execute_result",
     "data": {
      "text/plain": [
       "(9586949, 26)"
      ]
     },
     "metadata": {},
     "execution_count": 9
    }
   ],
   "source": [
    "df.shape"
   ]
  },
  {
   "cell_type": "code",
   "execution_count": 13,
   "metadata": {},
   "outputs": [
    {
     "output_type": "execute_result",
     "data": {
      "text/plain": [
       "4.485264290025951e-06"
      ]
     },
     "metadata": {},
     "execution_count": 13
    }
   ],
   "source": [
    "43/9586949"
   ]
  },
  {
   "cell_type": "code",
   "execution_count": null,
   "metadata": {},
   "outputs": [],
   "source": []
  }
 ]
}