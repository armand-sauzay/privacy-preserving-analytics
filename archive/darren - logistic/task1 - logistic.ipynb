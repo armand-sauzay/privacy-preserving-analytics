{
 "cells": [
  {
   "cell_type": "code",
   "execution_count": 1,
   "metadata": {
    "executionInfo": {
     "elapsed": 1107,
     "status": "ok",
     "timestamp": 1614294032466,
     "user": {
      "displayName": "Armand Sauzay",
      "photoUrl": "https://lh3.googleusercontent.com/a-/AOh14GhSIx1YAntEkGdNvdJfho_y-lCcaYPnyw9BHSfZ=s64",
      "userId": "07373814862822458780"
     },
     "user_tz": 480
    },
    "id": "A4xwuO02QQIA"
   },
   "outputs": [],
   "source": [
    "#from google.colab import drive\n",
    "import pandas as pd\n",
    "import numpy as np\n",
    "import datetime as dt\n",
    "import matplotlib.pyplot as plt \n",
    "import seaborn as sns\n",
    "import sklearn\n",
    "from IPython.core.interactiveshell import InteractiveShell\n",
    "InteractiveShell.ast_node_interactivity = \"all\"\n",
    "#import plotly.graph_objects as go\n",
    "#import plotly.express as px\n",
    "#from plotly.subplots import make_subplots\n",
    "from sklearn.model_selection import train_test_split"
   ]
  },
  {
   "cell_type": "code",
   "execution_count": 2,
   "metadata": {
    "colab": {
     "base_uri": "https://localhost:8080/"
    },
    "executionInfo": {
     "elapsed": 1104,
     "status": "ok",
     "timestamp": 1614294032468,
     "user": {
      "displayName": "Armand Sauzay",
      "photoUrl": "https://lh3.googleusercontent.com/a-/AOh14GhSIx1YAntEkGdNvdJfho_y-lCcaYPnyw9BHSfZ=s64",
      "userId": "07373814862822458780"
     },
     "user_tz": 480
    },
    "id": "6O3ZeXhARQp4",
    "outputId": "f51cb757-01fb-4119-c0b9-8d53e9fd9b5c"
   },
   "outputs": [],
   "source": [
    "#i didn't run this\n",
    "#drive.mount('/content/drive')"
   ]
  },
  {
   "cell_type": "code",
   "execution_count": 2,
   "metadata": {
    "colab": {
     "base_uri": "https://localhost:8080/",
     "height": 702
    },
    "executionInfo": {
     "elapsed": 5345,
     "status": "ok",
     "timestamp": 1614294036715,
     "user": {
      "displayName": "Armand Sauzay",
      "photoUrl": "https://lh3.googleusercontent.com/a-/AOh14GhSIx1YAntEkGdNvdJfho_y-lCcaYPnyw9BHSfZ=s64",
      "userId": "07373814862822458780"
     },
     "user_tz": 480
    },
    "id": "3ItSS1njRTTB",
    "outputId": "cad16ad8-02e1-4e8c-d646-a0308c24ea2f"
   },
   "outputs": [
    {
     "output_type": "execute_result",
     "data": {
      "text/plain": [
       "       Timestamp_bid                                     User-Agent_bid  \\\n",
       "0  20130606000104044  mozilla/4.0 (compatible; msie 8.0; windows nt ...   \n",
       "1  20130607000103558  Mozilla/4.0 (compatible; MSIE 7.0; Windows NT ...   \n",
       "2  20130607000103600  mozilla/5.0 (windows nt 6.1) applewebkit/537.1...   \n",
       "3  20130610000102963  Mozilla/5.0 (Windows NT 5.1) AppleWebKit/537.1...   \n",
       "4  20130608000103201  mozilla/4.0 (compatible; msie 6.0; windows nt ...   \n",
       "\n",
       "   Region ID_bids_join_impressions  City ID  Ad Exchange  Ad Slot Width  \\\n",
       "0                               80       80            1            300   \n",
       "1                              106      107            2            728   \n",
       "2                               94       95            1            300   \n",
       "3                              275      275            2            120   \n",
       "4                               80       89            1            300   \n",
       "\n",
       "   Ad Slot Height  Ad Slot Visibility  Ad Slot Format  Ad Slot Floor Price  \\\n",
       "0             250                   0               1                    0   \n",
       "1              90                   0               0                  162   \n",
       "2             250                   2               1                    0   \n",
       "3             600                   0               0                  250   \n",
       "4             250                   1               1                    0   \n",
       "\n",
       "   ...  13678  13776  13800  13866 13874  14273  16593 16617  16661  16706  \n",
       "0  ...    0.0    0.0    0.0    0.0   0.0    0.0    0.0   0.0    0.0    0.0  \n",
       "1  ...    NaN    NaN    NaN    NaN   NaN    NaN    NaN   NaN    NaN    NaN  \n",
       "2  ...    0.0    0.0    0.0    0.0   0.0    0.0    0.0   0.0    0.0    0.0  \n",
       "3  ...    0.0    0.0    0.0    0.0   0.0    0.0    0.0   0.0    0.0    0.0  \n",
       "4  ...    0.0    0.0    0.0    0.0   0.0    0.0    0.0   0.0    0.0    0.0  \n",
       "\n",
       "[5 rows x 69 columns]"
      ],
      "text/html": "<div>\n<style scoped>\n    .dataframe tbody tr th:only-of-type {\n        vertical-align: middle;\n    }\n\n    .dataframe tbody tr th {\n        vertical-align: top;\n    }\n\n    .dataframe thead th {\n        text-align: right;\n    }\n</style>\n<table border=\"1\" class=\"dataframe\">\n  <thead>\n    <tr style=\"text-align: right;\">\n      <th></th>\n      <th>Timestamp_bid</th>\n      <th>User-Agent_bid</th>\n      <th>Region ID_bids_join_impressions</th>\n      <th>City ID</th>\n      <th>Ad Exchange</th>\n      <th>Ad Slot Width</th>\n      <th>Ad Slot Height</th>\n      <th>Ad Slot Visibility</th>\n      <th>Ad Slot Format</th>\n      <th>Ad Slot Floor Price</th>\n      <th>...</th>\n      <th>13678</th>\n      <th>13776</th>\n      <th>13800</th>\n      <th>13866</th>\n      <th>13874</th>\n      <th>14273</th>\n      <th>16593</th>\n      <th>16617</th>\n      <th>16661</th>\n      <th>16706</th>\n    </tr>\n  </thead>\n  <tbody>\n    <tr>\n      <th>0</th>\n      <td>20130606000104044</td>\n      <td>mozilla/4.0 (compatible; msie 8.0; windows nt ...</td>\n      <td>80</td>\n      <td>80</td>\n      <td>1</td>\n      <td>300</td>\n      <td>250</td>\n      <td>0</td>\n      <td>1</td>\n      <td>0</td>\n      <td>...</td>\n      <td>0.0</td>\n      <td>0.0</td>\n      <td>0.0</td>\n      <td>0.0</td>\n      <td>0.0</td>\n      <td>0.0</td>\n      <td>0.0</td>\n      <td>0.0</td>\n      <td>0.0</td>\n      <td>0.0</td>\n    </tr>\n    <tr>\n      <th>1</th>\n      <td>20130607000103558</td>\n      <td>Mozilla/4.0 (compatible; MSIE 7.0; Windows NT ...</td>\n      <td>106</td>\n      <td>107</td>\n      <td>2</td>\n      <td>728</td>\n      <td>90</td>\n      <td>0</td>\n      <td>0</td>\n      <td>162</td>\n      <td>...</td>\n      <td>NaN</td>\n      <td>NaN</td>\n      <td>NaN</td>\n      <td>NaN</td>\n      <td>NaN</td>\n      <td>NaN</td>\n      <td>NaN</td>\n      <td>NaN</td>\n      <td>NaN</td>\n      <td>NaN</td>\n    </tr>\n    <tr>\n      <th>2</th>\n      <td>20130607000103600</td>\n      <td>mozilla/5.0 (windows nt 6.1) applewebkit/537.1...</td>\n      <td>94</td>\n      <td>95</td>\n      <td>1</td>\n      <td>300</td>\n      <td>250</td>\n      <td>2</td>\n      <td>1</td>\n      <td>0</td>\n      <td>...</td>\n      <td>0.0</td>\n      <td>0.0</td>\n      <td>0.0</td>\n      <td>0.0</td>\n      <td>0.0</td>\n      <td>0.0</td>\n      <td>0.0</td>\n      <td>0.0</td>\n      <td>0.0</td>\n      <td>0.0</td>\n    </tr>\n    <tr>\n      <th>3</th>\n      <td>20130610000102963</td>\n      <td>Mozilla/5.0 (Windows NT 5.1) AppleWebKit/537.1...</td>\n      <td>275</td>\n      <td>275</td>\n      <td>2</td>\n      <td>120</td>\n      <td>600</td>\n      <td>0</td>\n      <td>0</td>\n      <td>250</td>\n      <td>...</td>\n      <td>0.0</td>\n      <td>0.0</td>\n      <td>0.0</td>\n      <td>0.0</td>\n      <td>0.0</td>\n      <td>0.0</td>\n      <td>0.0</td>\n      <td>0.0</td>\n      <td>0.0</td>\n      <td>0.0</td>\n    </tr>\n    <tr>\n      <th>4</th>\n      <td>20130608000103201</td>\n      <td>mozilla/4.0 (compatible; msie 6.0; windows nt ...</td>\n      <td>80</td>\n      <td>89</td>\n      <td>1</td>\n      <td>300</td>\n      <td>250</td>\n      <td>1</td>\n      <td>1</td>\n      <td>0</td>\n      <td>...</td>\n      <td>0.0</td>\n      <td>0.0</td>\n      <td>0.0</td>\n      <td>0.0</td>\n      <td>0.0</td>\n      <td>0.0</td>\n      <td>0.0</td>\n      <td>0.0</td>\n      <td>0.0</td>\n      <td>0.0</td>\n    </tr>\n  </tbody>\n</table>\n<p>5 rows × 69 columns</p>\n</div>"
     },
     "metadata": {},
     "execution_count": 2
    }
   ],
   "source": [
    "df = pd.read_csv('final_training_testing (1).csv', low_memory=False)\n",
    "df.drop(['Unnamed: 0'], axis=1, inplace=True)\n",
    "df.head(5)"
   ]
  },
  {
   "cell_type": "code",
   "execution_count": 3,
   "metadata": {
    "colab": {
     "base_uri": "https://localhost:8080/"
    },
    "executionInfo": {
     "elapsed": 5340,
     "status": "ok",
     "timestamp": 1614294036715,
     "user": {
      "displayName": "Armand Sauzay",
      "photoUrl": "https://lh3.googleusercontent.com/a-/AOh14GhSIx1YAntEkGdNvdJfho_y-lCcaYPnyw9BHSfZ=s64",
      "userId": "07373814862822458780"
     },
     "user_tz": 480
    },
    "id": "dNSV3WzWRms9",
    "outputId": "3f06c235-5ff1-49f2-c0cd-af48b88ef898"
   },
   "outputs": [
    {
     "output_type": "execute_result",
     "data": {
      "text/plain": [
       "(532897, 69)"
      ]
     },
     "metadata": {},
     "execution_count": 3
    }
   ],
   "source": [
    "df.shape"
   ]
  },
  {
   "cell_type": "markdown",
   "metadata": {
    "id": "QkR1yRNOMbZ7"
   },
   "source": [
    "# Question for modeling\n",
    "- 100,000 records per day or should we do otherwise? \n",
    "- random sampling or keep the same distribution in bids/impressions/clicks"
   ]
  },
  {
   "cell_type": "markdown",
   "metadata": {
    "id": "wuYGoqx9Uip6"
   },
   "source": [
    "## Train test split"
   ]
  },
  {
   "cell_type": "code",
   "execution_count": 4,
   "metadata": {},
   "outputs": [
    {
     "output_type": "execute_result",
     "data": {
      "text/plain": [
       "20130607000103558"
      ]
     },
     "metadata": {},
     "execution_count": 4
    }
   ],
   "source": [
    "df['Timestamp_bid'][1]"
   ]
  },
  {
   "cell_type": "code",
   "execution_count": 5,
   "metadata": {},
   "outputs": [],
   "source": [
    "df['date']=df['Timestamp_bid']\n",
    "df['date']=df['date'].astype(str)\n",
    "df['date']=df['date'].str.slice(0,8)\n",
    "df['date']=df['date'].astype(int)"
   ]
  },
  {
   "cell_type": "code",
   "execution_count": 6,
   "metadata": {},
   "outputs": [
    {
     "output_type": "execute_result",
     "data": {
      "text/plain": [
       "date\n",
       "20130606     95870\n",
       "20130607    111326\n",
       "20130608     52270\n",
       "20130609    118809\n",
       "20130610     56108\n",
       "20130611     50949\n",
       "20130612     47565\n",
       "dtype: int64"
      ]
     },
     "metadata": {},
     "execution_count": 6
    }
   ],
   "source": [
    "df.groupby(['date']).size()"
   ]
  },
  {
   "cell_type": "code",
   "execution_count": 7,
   "metadata": {},
   "outputs": [],
   "source": [
    "df['exact_time']=pd.to_datetime(df['Timestamp_bid'], format='%Y%m%d%H%M%S%f')\n",
    "#df['exact_time']=pd.to_datetime(df['Timestamp_bid'], format='%H')"
   ]
  },
  {
   "cell_type": "code",
   "execution_count": 51,
   "metadata": {
    "colab": {
     "base_uri": "https://localhost:8080/"
    },
    "executionInfo": {
     "elapsed": 288,
     "status": "ok",
     "timestamp": 1614295681978,
     "user": {
      "displayName": "Armand Sauzay",
      "photoUrl": "https://lh3.googleusercontent.com/a-/AOh14GhSIx1YAntEkGdNvdJfho_y-lCcaYPnyw9BHSfZ=s64",
      "userId": "07373814862822458780"
     },
     "user_tz": 480
    },
    "id": "VdfYJc-8UltT",
    "outputId": "07a776ba-e8f1-45b2-c9f0-f2ae84640228"
   },
   "outputs": [
    {
     "output_type": "stream",
     "name": "stdout",
     "text": [
      "train: (434383, 71) \ntest:  (98514, 71)\n"
     ]
    }
   ],
   "source": [
    "train=df[df['date']<=20130610]\n",
    "test=df[df['date']>20130610]\n",
    "print('train:', train.shape\n",
    "      , '\\ntest: ', test.shape )"
   ]
  },
  {
   "cell_type": "code",
   "execution_count": 52,
   "metadata": {},
   "outputs": [
    {
     "output_type": "execute_result",
     "data": {
      "text/plain": [
       "<bound method NDFrame.head of             Timestamp_bid                                     User-Agent_bid  \\\n",
       "0       20130606000104044  mozilla/4.0 (compatible; msie 8.0; windows nt ...   \n",
       "1       20130607000103558  Mozilla/4.0 (compatible; MSIE 7.0; Windows NT ...   \n",
       "2       20130607000103600  mozilla/5.0 (windows nt 6.1) applewebkit/537.1...   \n",
       "3       20130610000102963  Mozilla/5.0 (Windows NT 5.1) AppleWebKit/537.1...   \n",
       "4       20130608000103201  mozilla/4.0 (compatible; msie 6.0; windows nt ...   \n",
       "...                   ...                                                ...   \n",
       "532892  20130609233809996  Mozilla/5.0 (Windows NT 5.1) AppleWebKit/537.1...   \n",
       "532893  20130609233810097  Mozilla/5.0 (compatible; MSIE 9.0; Windows NT ...   \n",
       "532894  20130609233811270  Mozilla/4.0 (compatible; MSIE 7.0; Windows NT ...   \n",
       "532895  20130609233811450  Mozilla/4.0 (compatible; MSIE 6.0; Windows NT ...   \n",
       "532896  20130609233811463  Mozilla/4.0 (compatible; MSIE 6.0; Windows NT ...   \n",
       "\n",
       "        Region ID_bids_join_impressions  City ID  Ad Exchange  Ad Slot Width  \\\n",
       "0                                    80       80            1            300   \n",
       "1                                   106      107            2            728   \n",
       "2                                    94       95            1            300   \n",
       "3                                   275      275            2            120   \n",
       "4                                    80       89            1            300   \n",
       "...                                 ...      ...          ...            ...   \n",
       "532892                              216      219            3           1000   \n",
       "532893                                2        2            3           1000   \n",
       "532894                              146      155            3            300   \n",
       "532895                              164      168            3            300   \n",
       "532896                               40       51            3            300   \n",
       "\n",
       "        Ad Slot Height  Ad Slot Visibility  Ad Slot Format  \\\n",
       "0                  250                   0               1   \n",
       "1                   90                   0               0   \n",
       "2                  250                   2               1   \n",
       "3                  600                   0               0   \n",
       "4                  250                   1               1   \n",
       "...                ...                 ...             ...   \n",
       "532892              90                   0               0   \n",
       "532893              90                   0               0   \n",
       "532894             250                   0               0   \n",
       "532895             250                   0               0   \n",
       "532896             250                   0               0   \n",
       "\n",
       "        Ad Slot Floor Price  ...  13800  13866  13874  14273 16593  16617  \\\n",
       "0                         0  ...    0.0    0.0    0.0    0.0   0.0    0.0   \n",
       "1                       162  ...    NaN    NaN    NaN    NaN   NaN    NaN   \n",
       "2                         0  ...    0.0    0.0    0.0    0.0   0.0    0.0   \n",
       "3                       250  ...    0.0    0.0    0.0    0.0   0.0    0.0   \n",
       "4                         0  ...    0.0    0.0    0.0    0.0   0.0    0.0   \n",
       "...                     ...  ...    ...    ...    ...    ...   ...    ...   \n",
       "532892                   20  ...    0.0    0.0    0.0    0.0   0.0    0.0   \n",
       "532893                   70  ...    0.0    0.0    0.0    0.0   0.0    0.0   \n",
       "532894                  100  ...    NaN    NaN    NaN    NaN   NaN    NaN   \n",
       "532895                  100  ...    NaN    NaN    NaN    NaN   NaN    NaN   \n",
       "532896                  100  ...    NaN    NaN    NaN    NaN   NaN    NaN   \n",
       "\n",
       "        16661 16706      date              exact_time  \n",
       "0         0.0   0.0  20130606 2013-06-06 00:01:04.044  \n",
       "1         NaN   NaN  20130607 2013-06-07 00:01:03.558  \n",
       "2         0.0   0.0  20130607 2013-06-07 00:01:03.600  \n",
       "3         0.0   0.0  20130610 2013-06-10 00:01:02.963  \n",
       "4         0.0   0.0  20130608 2013-06-08 00:01:03.201  \n",
       "...       ...   ...       ...                     ...  \n",
       "532892    0.0   0.0  20130609 2013-06-09 23:38:09.996  \n",
       "532893    0.0   0.0  20130609 2013-06-09 23:38:10.097  \n",
       "532894    NaN   NaN  20130609 2013-06-09 23:38:11.270  \n",
       "532895    NaN   NaN  20130609 2013-06-09 23:38:11.450  \n",
       "532896    NaN   NaN  20130609 2013-06-09 23:38:11.463  \n",
       "\n",
       "[434383 rows x 71 columns]>"
      ]
     },
     "metadata": {},
     "execution_count": 52
    }
   ],
   "source": [
    "train.head"
   ]
  },
  {
   "cell_type": "code",
   "execution_count": 12,
   "metadata": {
    "colab": {
     "base_uri": "https://localhost:8080/"
    },
    "executionInfo": {
     "elapsed": 916,
     "status": "ok",
     "timestamp": 1614296216236,
     "user": {
      "displayName": "Armand Sauzay",
      "photoUrl": "https://lh3.googleusercontent.com/a-/AOh14GhSIx1YAntEkGdNvdJfho_y-lCcaYPnyw9BHSfZ=s64",
      "userId": "07373814862822458780"
     },
     "user_tz": 480
    },
    "id": "iWv-PTYJhUpI",
    "outputId": "54b13151-5980-4bb0-d08e-fe27f1084d2c"
   },
   "outputs": [],
   "source": [
    "#print(max(df.iloc[0:100000].Timestamp_bid))\n",
    "#print(min(test.Timestamp_bid))"
   ]
  },
  {
   "cell_type": "markdown",
   "metadata": {
    "id": "ChkE6y1FOutK"
   },
   "source": [
    "# Bids to impressions"
   ]
  },
  {
   "cell_type": "markdown",
   "metadata": {
    "id": "Cabp-f_8Mtd3"
   },
   "source": [
    "## X/y\n",
    "- features: data from bids\n",
    "- target: impression or not"
   ]
  },
  {
   "cell_type": "code",
   "execution_count": 10,
   "metadata": {},
   "outputs": [],
   "source": [
    "hasImpression = df[df['has impression']==1]"
   ]
  },
  {
   "cell_type": "code",
   "execution_count": 11,
   "metadata": {},
   "outputs": [],
   "source": [
    "cityIDranking = hasImpression.groupby(['City ID']).size().sort_values(ascending=False)"
   ]
  },
  {
   "cell_type": "code",
   "execution_count": 12,
   "metadata": {},
   "outputs": [
    {
     "output_type": "execute_result",
     "data": {
      "text/plain": [
       "Int64Index([1, 219, 217, 79, 275], dtype='int64', name='City ID')"
      ]
     },
     "metadata": {},
     "execution_count": 12
    }
   ],
   "source": [
    "cityIDranking[0:5].index"
   ]
  },
  {
   "cell_type": "code",
   "execution_count": 13,
   "metadata": {
    "executionInfo": {
     "elapsed": 5332,
     "status": "ok",
     "timestamp": 1614294036716,
     "user": {
      "displayName": "Armand Sauzay",
      "photoUrl": "https://lh3.googleusercontent.com/a-/AOh14GhSIx1YAntEkGdNvdJfho_y-lCcaYPnyw9BHSfZ=s64",
      "userId": "07373814862822458780"
     },
     "user_tz": 480
    },
    "id": "dsLOvMx8OfMV"
   },
   "outputs": [],
   "source": [
    "features1=['exact_time'\n",
    "  , 'User-Agent_bid'\n",
    "  , 'Region ID_bids_join_impressions'\n",
    "  , 'City ID'\t\n",
    "  , 'Ad Exchange'\n",
    "  ,\t'Ad Slot Width'\t\n",
    "  , 'Ad Slot Height'\t\n",
    "  , 'Ad Slot Visibility'\t\n",
    "  , 'Ad Slot Format'\t\n",
    "  , 'Ad Slot Floor Price'\t\n",
    "  , 'Bidding Price'\n",
    "  , 'Advertiser ID'  \n",
    "\n",
    "  ]\n",
    "\n",
    "target1='has impression'"
   ]
  },
  {
   "cell_type": "code",
   "execution_count": 53,
   "metadata": {
    "colab": {
     "base_uri": "https://localhost:8080/"
    },
    "executionInfo": {
     "elapsed": 5329,
     "status": "ok",
     "timestamp": 1614294036717,
     "user": {
      "displayName": "Armand Sauzay",
      "photoUrl": "https://lh3.googleusercontent.com/a-/AOh14GhSIx1YAntEkGdNvdJfho_y-lCcaYPnyw9BHSfZ=s64",
      "userId": "07373814862822458780"
     },
     "user_tz": 480
    },
    "id": "yrCp5jC5P-7g",
    "outputId": "f1b31017-e15d-420d-884d-6f3f2db7e1a5"
   },
   "outputs": [
    {
     "output_type": "stream",
     "name": "stdout",
     "text": [
      "X1_train: (434383, 12) \nX1_test:  (98514, 12) \ny1_train: (434383,) \ny1_test:  (98514,)\n"
     ]
    }
   ],
   "source": [
    "X1_train=train[features1]\n",
    "X1_test=test[features1]\n",
    "\n",
    "y1_train=train[target1]\n",
    "y1_test=test[target1]\n",
    "print('X1_train:', X1_train.shape\n",
    "      , '\\nX1_test: ', X1_test.shape \n",
    "      , '\\ny1_train:', y1_train.shape\n",
    "      , '\\ny1_test: ', y1_test.shape)"
   ]
  },
  {
   "cell_type": "markdown",
   "metadata": {},
   "source": [
    "produce the train set and test set with all variables, with categorical ones in dummy form"
   ]
  },
  {
   "cell_type": "code",
   "execution_count": 15,
   "metadata": {},
   "outputs": [],
   "source": [
    "X1_train_all = X1_train\n",
    "X1_test_all = X1_test"
   ]
  },
  {
   "cell_type": "code",
   "execution_count": 19,
   "metadata": {},
   "outputs": [],
   "source": [
    "X1_train_all=X1_train_all.drop(['User-Agent_bid'],axis=1)\n",
    "\n",
    "X1_test_all = X1_test_all.drop(['User-Agent_bid'],axis=1)"
   ]
  },
  {
   "cell_type": "code",
   "execution_count": 20,
   "metadata": {},
   "outputs": [
    {
     "name": "stdout",
     "output_type": "stream",
     "text": [
      "(434383, 11)\n",
      "(98514, 11)\n"
     ]
    }
   ],
   "source": [
    "print (X1_train_all.shape)\n",
    "print (X1_test_all.shape)"
   ]
  },
  {
   "cell_type": "code",
   "execution_count": 21,
   "metadata": {},
   "outputs": [],
   "source": [
    "X1_train_all['hour'] = pd.DatetimeIndex(X1_train_all['exact_time']).hour\n",
    "\n",
    "X1_test_all['hour'] = pd.DatetimeIndex(X1_test_all['exact_time']).hour"
   ]
  },
  {
   "cell_type": "code",
   "execution_count": 22,
   "metadata": {},
   "outputs": [],
   "source": [
    "X1_train_all['timeframe_early_morning']=np.where((X1_train_all['hour']>=2) & (X1_train_all['hour']<7),1,0)\n",
    "X1_train_all['timeframe_morning']=np.where((X1_train_all['hour']>=7) & (X1_train_all['hour']<12),1,0)\n",
    "X1_train_all['timeframe_afternoon']=np.where((X1_train_all['hour']>=12) & (X1_train_all['hour']<18),1,0)\n",
    "\n",
    "X1_test_all['timeframe_early_morning']=np.where((X1_test_all['hour']>=2) & (X1_test_all['hour']<7),1,0)\n",
    "X1_test_all['timeframe_morning']=np.where((X1_test_all['hour']>=7) & (X1_test_all['hour']<12),1,0)\n",
    "X1_test_all['timeframe_afternoon']=np.where((X1_test_all['hour']>=12) & (X1_test_all['hour']<18),1,0)\n",
    "\n"
   ]
  },
  {
   "cell_type": "code",
   "execution_count": 23,
   "metadata": {},
   "outputs": [
    {
     "name": "stdout",
     "output_type": "stream",
     "text": [
      "(434383, 15)\n",
      "(98514, 15)\n"
     ]
    }
   ],
   "source": [
    "print (X1_train_all.shape)\n",
    "print (X1_test_all.shape)"
   ]
  },
  {
   "cell_type": "code",
   "execution_count": 24,
   "metadata": {},
   "outputs": [],
   "source": [
    "X1_train_all=X1_train_all.drop(['exact_time'],axis=1)\n",
    "\n",
    "X1_test_all = X1_test_all.drop(['exact_time'],axis=1)"
   ]
  },
  {
   "cell_type": "code",
   "execution_count": 25,
   "metadata": {},
   "outputs": [],
   "source": [
    "X1_train_all=X1_train_all.drop(['hour'],axis=1)\n",
    "\n",
    "X1_test_all = X1_test_all.drop(['hour'],axis=1)"
   ]
  },
  {
   "cell_type": "code",
   "execution_count": 26,
   "metadata": {},
   "outputs": [
    {
     "name": "stdout",
     "output_type": "stream",
     "text": [
      "(434383, 13)\n",
      "(98514, 13)\n"
     ]
    }
   ],
   "source": [
    "print (X1_train_all.shape)\n",
    "print (X1_test_all.shape)"
   ]
  },
  {
   "cell_type": "code",
   "execution_count": 27,
   "metadata": {},
   "outputs": [],
   "source": [
    "X1_train_all.rename(columns = {X1_train_all.columns[0]: 'Region ID'}, inplace = True)\n",
    "X1_test_all.rename(columns = {X1_test_all.columns[0]: 'Region ID'}, inplace = True)"
   ]
  },
  {
   "cell_type": "code",
   "execution_count": 28,
   "metadata": {},
   "outputs": [],
   "source": [
    "def addpre(allcolumns,stringA):\n",
    "    newcolumn = []\n",
    "    for column in allcolumns:\n",
    "        \n",
    "        newstring = stringA+'_'+str(column)\n",
    "        \n",
    "        newcolumn.append(newstring)\n",
    "    return newcolumn\n",
    "\n",
    "def renamecolumn(dataframe,newColumnName):\n",
    "    dataframe.columns = newColumnName"
   ]
  },
  {
   "cell_type": "code",
   "execution_count": 29,
   "metadata": {},
   "outputs": [],
   "source": [
    "dummy_AdExchange = pd.get_dummies(X1_train_all[\"Ad Exchange\"], drop_first=True)\n",
    "dummy_AdSlotFormat = pd.get_dummies(X1_train_all[\"Ad Slot Format\"], drop_first=True)\n",
    "#dummy_regionID = pd.get_dummies(X1_train_all[\"Region ID\"], drop_first=True)\n",
    "dummy_cityID = pd.get_dummies(X1_train_all[\"City ID\"], drop_first=True)\n",
    "\n",
    "dummy_AdExchange_test = pd.get_dummies(X1_test_all[\"Ad Exchange\"], drop_first=True)\n",
    "dummy_AdSlotFormat_test = pd.get_dummies(X1_test_all[\"Ad Slot Format\"], drop_first=True)\n",
    "#dummy_regionID_test = pd.get_dummies(X1_test_all[\"Region ID\"], drop_first=True)\n",
    "dummy_cityID_test = pd.get_dummies(X1_test_all[\"City ID\"], drop_first=True)\n",
    "\n",
    "\n"
   ]
  },
  {
   "cell_type": "code",
   "execution_count": 30,
   "metadata": {},
   "outputs": [],
   "source": [
    "adExchange_column_dummy = addpre(dummy_AdExchange.columns, \"AdExchange\")\n",
    "adSlot_column_dummy = addpre(dummy_AdSlotFormat.columns, \"AdSlot\")\n",
    "city_column_dummy = addpre(dummy_cityID.columns,\"City\")\n",
    "\n",
    "adExchange_column_dummy_test = addpre(dummy_AdExchange_test.columns, \"AdExchange\")\n",
    "adSlot_column_dummy_test = addpre(dummy_AdSlotFormat_test.columns, \"AdSlot\")\n",
    "city_column_dummy_test = addpre(dummy_cityID_test.columns,\"City\")\n",
    "\n",
    "renamecolumn(dummy_AdExchange,adExchange_column_dummy)\n",
    "renamecolumn(dummy_AdSlotFormat,adSlot_column_dummy)\n",
    "renamecolumn(dummy_cityID,city_column_dummy)\n",
    "\n",
    "renamecolumn(dummy_AdExchange_test,adExchange_column_dummy_test)\n",
    "renamecolumn(dummy_AdSlotFormat_test,adSlot_column_dummy_test)\n",
    "renamecolumn(dummy_cityID_test,city_column_dummy_test)"
   ]
  },
  {
   "cell_type": "code",
   "execution_count": 31,
   "metadata": {},
   "outputs": [],
   "source": [
    "X1_train_all_dummies = pd.concat([X1_train_all,dummy_AdExchange,dummy_AdSlotFormat,dummy_cityID],axis=1)\n",
    "\n",
    "X1_test_all_dummies = pd.concat([X1_test_all,dummy_AdExchange_test,dummy_AdSlotFormat_test,dummy_cityID_test],axis=1)"
   ]
  },
  {
   "cell_type": "code",
   "execution_count": 32,
   "metadata": {
    "scrolled": true
   },
   "outputs": [
    {
     "data": {
      "text/plain": [
       "(434383, 387)"
      ]
     },
     "execution_count": 32,
     "metadata": {},
     "output_type": "execute_result"
    }
   ],
   "source": [
    "X1_train_all_dummies.shape"
   ]
  },
  {
   "cell_type": "code",
   "execution_count": 33,
   "metadata": {},
   "outputs": [
    {
     "data": {
      "text/plain": [
       "(434383,)"
      ]
     },
     "execution_count": 33,
     "metadata": {},
     "output_type": "execute_result"
    }
   ],
   "source": [
    "y1_train.shape"
   ]
  },
  {
   "cell_type": "code",
   "execution_count": 34,
   "metadata": {
    "scrolled": true
   },
   "outputs": [
    {
     "data": {
      "text/plain": [
       "(98514, 384)"
      ]
     },
     "execution_count": 34,
     "metadata": {},
     "output_type": "execute_result"
    }
   ],
   "source": [
    "X1_test_all_dummies.shape"
   ]
  },
  {
   "cell_type": "code",
   "execution_count": 35,
   "metadata": {},
   "outputs": [],
   "source": [
    "X1_train_all_dummies = X1_train_all_dummies.drop(['City ID','Ad Exchange','Ad Slot Visibility'],axis=1)"
   ]
  },
  {
   "cell_type": "markdown",
   "metadata": {},
   "source": [
    "Baseline model"
   ]
  },
  {
   "cell_type": "code",
   "execution_count": 16,
   "metadata": {},
   "outputs": [
    {
     "output_type": "execute_result",
     "data": {
      "text/plain": [
       "1"
      ]
     },
     "metadata": {},
     "execution_count": 16
    }
   ],
   "source": [
    "y1_train[0]"
   ]
  },
  {
   "cell_type": "code",
   "execution_count": 17,
   "metadata": {},
   "outputs": [],
   "source": [
    "y1_train_result = y1_train.to_frame()['has impression'].value_counts()"
   ]
  },
  {
   "cell_type": "code",
   "execution_count": 18,
   "metadata": {},
   "outputs": [],
   "source": [
    "emperical = y1_train_result[1]/len(y1_train)"
   ]
  },
  {
   "cell_type": "code",
   "execution_count": 19,
   "metadata": {},
   "outputs": [
    {
     "output_type": "execute_result",
     "data": {
      "text/plain": [
       "0.20261842659588428"
      ]
     },
     "metadata": {},
     "execution_count": 19
    }
   ],
   "source": [
    "emperical"
   ]
  },
  {
   "cell_type": "code",
   "execution_count": 20,
   "metadata": {},
   "outputs": [],
   "source": [
    "y1_test_baselinePredict = np.repeat(emperical,len(y1_test))"
   ]
  },
  {
   "cell_type": "code",
   "execution_count": 21,
   "metadata": {},
   "outputs": [
    {
     "output_type": "execute_result",
     "data": {
      "text/plain": [
       "array([0.20261843, 0.20261843, 0.20261843, ..., 0.20261843, 0.20261843,\n",
       "       0.20261843])"
      ]
     },
     "metadata": {},
     "execution_count": 21
    }
   ],
   "source": [
    "y1_test_baselinePredict"
   ]
  },
  {
   "cell_type": "code",
   "execution_count": 22,
   "metadata": {},
   "outputs": [
    {
     "output_type": "execute_result",
     "data": {
      "text/plain": [
       "0.6977214413148615"
      ]
     },
     "metadata": {},
     "execution_count": 22
    }
   ],
   "source": [
    "sklearn.metrics.log_loss(y1_test, y1_test_baselinePredict) "
   ]
  },
  {
   "cell_type": "markdown",
   "metadata": {},
   "source": [
    "The code that takes very very long time to run. Don't run this"
   ]
  },
  {
   "cell_type": "code",
   "execution_count": 23,
   "metadata": {},
   "outputs": [],
   "source": [
    "#from sklearn.linear_model import LogisticRegression\n",
    "#logreg_model=LogisticRegression(penalty='l1', solver='saga', max_iter=100000)\n",
    "#logreg_model.fit(X1_train_all_dummies, y1_train)"
   ]
  },
  {
   "cell_type": "markdown",
   "metadata": {},
   "source": [
    "This part is the real preprocessing to reduce the numbers of columns to 20 ish"
   ]
  },
  {
   "cell_type": "code",
   "execution_count": 54,
   "metadata": {
    "scrolled": true
   },
   "outputs": [
    {
     "output_type": "stream",
     "name": "stdout",
     "text": [
      "(434383, 11)\n(98514, 11)\n"
     ]
    }
   ],
   "source": [
    "X1_train=X1_train.drop(['User-Agent_bid'],axis=1)\n",
    "X1_test=X1_test.drop(['User-Agent_bid'],axis=1)\n",
    "print(X1_train.shape)\n",
    "print(X1_test.shape)"
   ]
  },
  {
   "cell_type": "code",
   "execution_count": 55,
   "metadata": {},
   "outputs": [],
   "source": [
    "X1_train['city1']=np.where(X1_train['City ID']==1,1,0)\n",
    "X1_train['city219']=np.where(X1_train['City ID']==219,1,0)\n",
    "X1_train['city217']=np.where(X1_train['City ID']==217,1,0)\n",
    "X1_train['city79']=np.where(X1_train['City ID']==79,1,0)\n",
    "X1_train['city215']=np.where(X1_train['City ID']==215,1,0)"
   ]
  },
  {
   "cell_type": "code",
   "execution_count": 56,
   "metadata": {},
   "outputs": [],
   "source": [
    "X1_train=X1_train.drop('City ID',axis=1)"
   ]
  },
  {
   "cell_type": "code",
   "execution_count": 57,
   "metadata": {},
   "outputs": [],
   "source": [
    "X1_test['city1']=np.where(X1_test['City ID']==1,1,0)\n",
    "X1_test['city219']=np.where(X1_test['City ID']==219,1,0)\n",
    "X1_test['city217']=np.where(X1_test['City ID']==217,1,0)\n",
    "X1_test['city79']=np.where(X1_test['City ID']==79,1,0)\n",
    "X1_test['city215']=np.where(X1_test['City ID']==215,1,0)\n",
    "\n",
    "X1_test=X1_test.drop('City ID',axis=1)"
   ]
  },
  {
   "cell_type": "code",
   "execution_count": 58,
   "metadata": {},
   "outputs": [],
   "source": [
    "X1_train['hour'] = pd.DatetimeIndex(X1_train['exact_time']).hour\n",
    "\n",
    "X1_test['hour'] = pd.DatetimeIndex(X1_test['exact_time']).hour"
   ]
  },
  {
   "cell_type": "code",
   "execution_count": 59,
   "metadata": {},
   "outputs": [
    {
     "output_type": "stream",
     "name": "stdout",
     "text": [
      "(434383, 16)\n(98514, 16)\n"
     ]
    }
   ],
   "source": [
    "print(X1_train.shape)\n",
    "print(X1_test.shape)"
   ]
  },
  {
   "cell_type": "code",
   "execution_count": 60,
   "metadata": {},
   "outputs": [],
   "source": [
    "X1_train['timeframe_early_morning']=np.where((X1_train['hour']>=2) & (X1_train['hour']<7),1,0)\n",
    "X1_train['timeframe_morning']=np.where((X1_train['hour']>=7) & (X1_train['hour']<12),1,0)\n",
    "X1_train['timeframe_afternoon']=np.where((X1_train['hour']>=12) & (X1_train['hour']<18),1,0)\n",
    "\n",
    "X1_test['timeframe_early_morning']=np.where((X1_test['hour']>=2) & (X1_test['hour']<7),1,0)\n",
    "X1_test['timeframe_morning']=np.where((X1_test['hour']>=7) & (X1_test['hour']<12),1,0)\n",
    "X1_test['timeframe_afternoon']=np.where((X1_test['hour']>=12) & (X1_test['hour']<18),1,0)\n",
    "\n",
    "\n",
    "\n"
   ]
  },
  {
   "cell_type": "code",
   "execution_count": 61,
   "metadata": {},
   "outputs": [],
   "source": [
    "X1_train=X1_train.drop(['exact_time'],axis=1)"
   ]
  },
  {
   "cell_type": "code",
   "execution_count": 62,
   "metadata": {},
   "outputs": [],
   "source": [
    "X1_train=X1_train.drop(['Advertiser ID'],axis=1)"
   ]
  },
  {
   "cell_type": "code",
   "execution_count": 63,
   "metadata": {},
   "outputs": [],
   "source": [
    "X1_train=X1_train.drop(['hour'],axis=1)"
   ]
  },
  {
   "cell_type": "code",
   "execution_count": 64,
   "metadata": {},
   "outputs": [],
   "source": [
    "X1_train=X1_train.drop(['Region ID_bids_join_impressions'],axis=1)"
   ]
  },
  {
   "cell_type": "code",
   "execution_count": 65,
   "metadata": {},
   "outputs": [],
   "source": [
    "X1_test=X1_test.drop(['exact_time'],axis=1)\n",
    "X1_test=X1_test.drop(['Advertiser ID'],axis=1)\n",
    "X1_test=X1_test.drop(['hour'],axis=1)\n",
    "X1_test=X1_test.drop(['Region ID_bids_join_impressions'],axis=1)"
   ]
  },
  {
   "cell_type": "code",
   "execution_count": 66,
   "metadata": {
    "scrolled": true
   },
   "outputs": [
    {
     "output_type": "stream",
     "name": "stdout",
     "text": [
      "(434383, 15)\n(98514, 15)\n"
     ]
    }
   ],
   "source": [
    "print(X1_train.shape)\n",
    "print(X1_test.shape)"
   ]
  },
  {
   "cell_type": "code",
   "execution_count": 67,
   "metadata": {},
   "outputs": [],
   "source": [
    "dummy_AdExchange = pd.get_dummies(X1_train[\"Ad Exchange\"], drop_first=True, prefix=\"Exchng\")\n",
    "dummy_AdSlotFormat = pd.get_dummies(X1_train[\"Ad Slot Format\"], drop_first=True,prefix=\"Format\")\n",
    "dummy_AdSlotVisibility = pd.get_dummies(X1_train[\"Ad Slot Visibility\"], drop_first=True,prefix=\"Visb\")\n",
    "\n",
    "dummy_AdExchange_test = pd.get_dummies(X1_test[\"Ad Exchange\"], drop_first=True,prefix=\"Exchng\")\n",
    "dummy_AdSlotFormat_test = pd.get_dummies(X1_test[\"Ad Slot Format\"], drop_first=True,prefix=\"Format\")\n",
    "dummy_AdSlotVisibility_test = pd.get_dummies(X1_test[\"Ad Slot Visibility\"], drop_first=True,prefix=\"Visb\")\n",
    "\n"
   ]
  },
  {
   "cell_type": "code",
   "execution_count": 68,
   "metadata": {},
   "outputs": [],
   "source": [
    "X1_train_dummies = pd.concat([X1_train,dummy_AdExchange,dummy_AdSlotFormat,dummy_AdSlotVisibility],axis=1)\n",
    "\n",
    "X1_test_dummies = pd.concat([X1_test,dummy_AdExchange_test,dummy_AdSlotFormat_test,dummy_AdSlotVisibility_test],axis=1)\n",
    "\n",
    "\n",
    "\n"
   ]
  },
  {
   "cell_type": "code",
   "execution_count": 69,
   "metadata": {
    "scrolled": true
   },
   "outputs": [
    {
     "output_type": "stream",
     "name": "stdout",
     "text": [
      "(434383, 22)\n(98514, 22)\n"
     ]
    }
   ],
   "source": [
    "print(X1_train_dummies.shape)\n",
    "print(X1_test_dummies.shape)"
   ]
  },
  {
   "cell_type": "code",
   "execution_count": 70,
   "metadata": {},
   "outputs": [],
   "source": [
    "X1_train_dummies_modified = X1_train_dummies.drop([\"Ad Exchange\",\"Ad Slot Format\", \"Ad Slot Visibility\"],axis=1)\n",
    "\n",
    "X1_test_dummies_modified = X1_test_dummies.drop([\"Ad Exchange\",\"Ad Slot Format\", \"Ad Slot Visibility\"],axis=1)"
   ]
  },
  {
   "cell_type": "code",
   "execution_count": 71,
   "metadata": {},
   "outputs": [
    {
     "output_type": "stream",
     "name": "stdout",
     "text": [
      "(434383, 19)\n(98514, 19)\n"
     ]
    }
   ],
   "source": [
    "print(X1_train_dummies_modified.shape)\n",
    "print(X1_test_dummies_modified.shape)"
   ]
  },
  {
   "cell_type": "code",
   "execution_count": 42,
   "metadata": {},
   "outputs": [
    {
     "output_type": "execute_result",
     "data": {
      "text/plain": [
       "LogisticRegression(max_iter=100000)"
      ]
     },
     "metadata": {},
     "execution_count": 42
    }
   ],
   "source": [
    "from sklearn.linear_model import LogisticRegression\n",
    "logreg_model = LogisticRegression(max_iter=100000)\n",
    "\n",
    "logreg_model.fit(X1_train_dummies_modified, y1_train)"
   ]
  },
  {
   "cell_type": "code",
   "execution_count": 72,
   "metadata": {},
   "outputs": [],
   "source": [
    "y1_test_predicted_1=logreg_model.predict_proba(X1_test_dummies_modified)[:,1]\n"
   ]
  },
  {
   "cell_type": "code",
   "execution_count": 73,
   "metadata": {},
   "outputs": [
    {
     "output_type": "execute_result",
     "data": {
      "text/plain": [
       "0.5636113221443281"
      ]
     },
     "metadata": {},
     "execution_count": 73
    }
   ],
   "source": [
    "y1_test=test[target1]\n",
    "sklearn.metrics.log_loss(y1_test, y1_test_predicted_1) \n"
   ]
  },
  {
   "source": [
    "NO NEED TO RUN AFTER HERE, AS THE PERFORMANCE OF THE MODEL WITH HYPERPARAMETER TUNING IS NOT THAT SIGNIFICANTLY BETTER."
   ],
   "cell_type": "markdown",
   "metadata": {}
  },
  {
   "cell_type": "code",
   "execution_count": 64,
   "metadata": {},
   "outputs": [],
   "source": [
    "from sklearn.model_selection import KFold\n",
    "\n",
    "kfold = KFold(n_splits=3, shuffle=True,random_state=0)"
   ]
  },
  {
   "cell_type": "code",
   "execution_count": 65,
   "metadata": {},
   "outputs": [
    {
     "data": {
      "text/plain": [
       "LogisticRegression(C=0.01, max_iter=100000)"
      ]
     },
     "execution_count": 65,
     "metadata": {},
     "output_type": "execute_result"
    },
    {
     "data": {
      "text/plain": [
       "LogisticRegression(C=0.01, max_iter=100000)"
      ]
     },
     "execution_count": 65,
     "metadata": {},
     "output_type": "execute_result"
    },
    {
     "data": {
      "text/plain": [
       "LogisticRegression(C=0.01, max_iter=100000)"
      ]
     },
     "execution_count": 65,
     "metadata": {},
     "output_type": "execute_result"
    },
    {
     "data": {
      "text/plain": [
       "LogisticRegression(C=0.0372759372031494, max_iter=100000)"
      ]
     },
     "execution_count": 65,
     "metadata": {},
     "output_type": "execute_result"
    },
    {
     "data": {
      "text/plain": [
       "LogisticRegression(C=0.0372759372031494, max_iter=100000)"
      ]
     },
     "execution_count": 65,
     "metadata": {},
     "output_type": "execute_result"
    },
    {
     "data": {
      "text/plain": [
       "LogisticRegression(C=0.0372759372031494, max_iter=100000)"
      ]
     },
     "execution_count": 65,
     "metadata": {},
     "output_type": "execute_result"
    },
    {
     "data": {
      "text/plain": [
       "LogisticRegression(C=0.13894954943731375, max_iter=100000)"
      ]
     },
     "execution_count": 65,
     "metadata": {},
     "output_type": "execute_result"
    },
    {
     "data": {
      "text/plain": [
       "LogisticRegression(C=0.13894954943731375, max_iter=100000)"
      ]
     },
     "execution_count": 65,
     "metadata": {},
     "output_type": "execute_result"
    },
    {
     "data": {
      "text/plain": [
       "LogisticRegression(C=0.13894954943731375, max_iter=100000)"
      ]
     },
     "execution_count": 65,
     "metadata": {},
     "output_type": "execute_result"
    },
    {
     "data": {
      "text/plain": [
       "LogisticRegression(C=0.517947467923121, max_iter=100000)"
      ]
     },
     "execution_count": 65,
     "metadata": {},
     "output_type": "execute_result"
    },
    {
     "data": {
      "text/plain": [
       "LogisticRegression(C=0.517947467923121, max_iter=100000)"
      ]
     },
     "execution_count": 65,
     "metadata": {},
     "output_type": "execute_result"
    },
    {
     "data": {
      "text/plain": [
       "LogisticRegression(C=0.517947467923121, max_iter=100000)"
      ]
     },
     "execution_count": 65,
     "metadata": {},
     "output_type": "execute_result"
    },
    {
     "data": {
      "text/plain": [
       "LogisticRegression(C=1.9306977288832496, max_iter=100000)"
      ]
     },
     "execution_count": 65,
     "metadata": {},
     "output_type": "execute_result"
    },
    {
     "data": {
      "text/plain": [
       "LogisticRegression(C=1.9306977288832496, max_iter=100000)"
      ]
     },
     "execution_count": 65,
     "metadata": {},
     "output_type": "execute_result"
    },
    {
     "data": {
      "text/plain": [
       "LogisticRegression(C=1.9306977288832496, max_iter=100000)"
      ]
     },
     "execution_count": 65,
     "metadata": {},
     "output_type": "execute_result"
    },
    {
     "data": {
      "text/plain": [
       "LogisticRegression(C=7.196856730011514, max_iter=100000)"
      ]
     },
     "execution_count": 65,
     "metadata": {},
     "output_type": "execute_result"
    },
    {
     "data": {
      "text/plain": [
       "LogisticRegression(C=7.196856730011514, max_iter=100000)"
      ]
     },
     "execution_count": 65,
     "metadata": {},
     "output_type": "execute_result"
    },
    {
     "data": {
      "text/plain": [
       "LogisticRegression(C=7.196856730011514, max_iter=100000)"
      ]
     },
     "execution_count": 65,
     "metadata": {},
     "output_type": "execute_result"
    },
    {
     "data": {
      "text/plain": [
       "LogisticRegression(C=26.826957952797247, max_iter=100000)"
      ]
     },
     "execution_count": 65,
     "metadata": {},
     "output_type": "execute_result"
    },
    {
     "data": {
      "text/plain": [
       "LogisticRegression(C=26.826957952797247, max_iter=100000)"
      ]
     },
     "execution_count": 65,
     "metadata": {},
     "output_type": "execute_result"
    },
    {
     "data": {
      "text/plain": [
       "LogisticRegression(C=26.826957952797247, max_iter=100000)"
      ]
     },
     "execution_count": 65,
     "metadata": {},
     "output_type": "execute_result"
    },
    {
     "data": {
      "text/plain": [
       "LogisticRegression(C=100.0, max_iter=100000)"
      ]
     },
     "execution_count": 65,
     "metadata": {},
     "output_type": "execute_result"
    },
    {
     "data": {
      "text/plain": [
       "LogisticRegression(C=100.0, max_iter=100000)"
      ]
     },
     "execution_count": 65,
     "metadata": {},
     "output_type": "execute_result"
    },
    {
     "data": {
      "text/plain": [
       "LogisticRegression(C=100.0, max_iter=100000)"
      ]
     },
     "execution_count": 65,
     "metadata": {},
     "output_type": "execute_result"
    }
   ],
   "source": [
    "from sklearn.linear_model import LogisticRegression\n",
    "C_grid = np.logspace(-2,2,8)\n",
    "\n",
    "loglossList=[]\n",
    "\n",
    "for c in C_grid:\n",
    "    loglossList_oneC=[]\n",
    "    for train_ix, test_ix in kfold.split(X1_train_dummies_modified):\n",
    "        train_X, test_X = X1_train_dummies_modified.iloc[train_ix], X1_train_dummies_modified.iloc[test_ix]\n",
    "        train_y, test_y = y1_train.iloc[train_ix], y1_train.iloc[test_ix]\n",
    "    \n",
    "        logreg_model = LogisticRegression(C=c, max_iter=100000)\n",
    "        logreg_model.fit(train_X, train_y)\n",
    "    \n",
    "        y1_val_predicteddProb=logreg_model.predict_proba(test_X)[:,1]\n",
    "        logloss = sklearn.metrics.log_loss(test_y, y1_val_predicteddProb) \n",
    "        loglossList_oneC.append(logloss)\n",
    "    loglossList.append(np.mean(loglossList_oneC))"
   ]
  },
  {
   "cell_type": "code",
   "execution_count": 66,
   "metadata": {},
   "outputs": [],
   "source": [
    "minLoss = 100\n",
    "bestIdx = 0\n",
    "for idx in range(len(loglossList)):\n",
    "    if loglossList[idx] <= minLoss:\n",
    "        minLoss = loglossList[idx]\n",
    "        bestIdx = idx"
   ]
  },
  {
   "cell_type": "code",
   "execution_count": 67,
   "metadata": {},
   "outputs": [
    {
     "data": {
      "text/plain": [
       "LogisticRegression(C=26.826957952797247, max_iter=100000)"
      ]
     },
     "execution_count": 67,
     "metadata": {},
     "output_type": "execute_result"
    }
   ],
   "source": [
    "bestC = C_grid[bestIdx]\n",
    "logreg_model2 = LogisticRegression(C=bestC, max_iter=100000)\n",
    "logreg_model2.fit(X1_train_dummies_modified, y1_train)"
   ]
  },
  {
   "cell_type": "code",
   "execution_count": 68,
   "metadata": {},
   "outputs": [
    {
     "data": {
      "text/plain": [
       "0.5641104892578688"
      ]
     },
     "execution_count": 68,
     "metadata": {},
     "output_type": "execute_result"
    }
   ],
   "source": [
    "y1_test_predicted_2=logreg_model2.predict_proba(X1_test_dummies_modified)[:,1]\n",
    "y1_test=test[target1]\n",
    "sklearn.metrics.log_loss(y1_test, y1_test_predicted_2) "
   ]
  },
  {
   "cell_type": "code",
   "execution_count": 75,
   "metadata": {},
   "outputs": [
    {
     "data": {
      "text/plain": [
       "LogisticRegression(l1_ratio=0.1, max_iter=100000, penalty='elasticnet',\n",
       "                   solver='saga')"
      ]
     },
     "execution_count": 75,
     "metadata": {},
     "output_type": "execute_result"
    },
    {
     "data": {
      "text/plain": [
       "LogisticRegression(l1_ratio=0.1, max_iter=100000, penalty='elasticnet',\n",
       "                   solver='saga')"
      ]
     },
     "execution_count": 75,
     "metadata": {},
     "output_type": "execute_result"
    },
    {
     "data": {
      "text/plain": [
       "LogisticRegression(l1_ratio=0.1, max_iter=100000, penalty='elasticnet',\n",
       "                   solver='saga')"
      ]
     },
     "execution_count": 75,
     "metadata": {},
     "output_type": "execute_result"
    },
    {
     "data": {
      "text/plain": [
       "LogisticRegression(l1_ratio=0.2, max_iter=100000, penalty='elasticnet',\n",
       "                   solver='saga')"
      ]
     },
     "execution_count": 75,
     "metadata": {},
     "output_type": "execute_result"
    },
    {
     "data": {
      "text/plain": [
       "LogisticRegression(l1_ratio=0.2, max_iter=100000, penalty='elasticnet',\n",
       "                   solver='saga')"
      ]
     },
     "execution_count": 75,
     "metadata": {},
     "output_type": "execute_result"
    },
    {
     "data": {
      "text/plain": [
       "LogisticRegression(l1_ratio=0.2, max_iter=100000, penalty='elasticnet',\n",
       "                   solver='saga')"
      ]
     },
     "execution_count": 75,
     "metadata": {},
     "output_type": "execute_result"
    },
    {
     "data": {
      "text/plain": [
       "LogisticRegression(l1_ratio=0.3, max_iter=100000, penalty='elasticnet',\n",
       "                   solver='saga')"
      ]
     },
     "execution_count": 75,
     "metadata": {},
     "output_type": "execute_result"
    },
    {
     "data": {
      "text/plain": [
       "LogisticRegression(l1_ratio=0.3, max_iter=100000, penalty='elasticnet',\n",
       "                   solver='saga')"
      ]
     },
     "execution_count": 75,
     "metadata": {},
     "output_type": "execute_result"
    },
    {
     "data": {
      "text/plain": [
       "LogisticRegression(l1_ratio=0.3, max_iter=100000, penalty='elasticnet',\n",
       "                   solver='saga')"
      ]
     },
     "execution_count": 75,
     "metadata": {},
     "output_type": "execute_result"
    },
    {
     "data": {
      "text/plain": [
       "LogisticRegression(l1_ratio=0.4, max_iter=100000, penalty='elasticnet',\n",
       "                   solver='saga')"
      ]
     },
     "execution_count": 75,
     "metadata": {},
     "output_type": "execute_result"
    },
    {
     "data": {
      "text/plain": [
       "LogisticRegression(l1_ratio=0.4, max_iter=100000, penalty='elasticnet',\n",
       "                   solver='saga')"
      ]
     },
     "execution_count": 75,
     "metadata": {},
     "output_type": "execute_result"
    },
    {
     "data": {
      "text/plain": [
       "LogisticRegression(l1_ratio=0.4, max_iter=100000, penalty='elasticnet',\n",
       "                   solver='saga')"
      ]
     },
     "execution_count": 75,
     "metadata": {},
     "output_type": "execute_result"
    },
    {
     "data": {
      "text/plain": [
       "LogisticRegression(l1_ratio=0.5, max_iter=100000, penalty='elasticnet',\n",
       "                   solver='saga')"
      ]
     },
     "execution_count": 75,
     "metadata": {},
     "output_type": "execute_result"
    },
    {
     "data": {
      "text/plain": [
       "LogisticRegression(l1_ratio=0.5, max_iter=100000, penalty='elasticnet',\n",
       "                   solver='saga')"
      ]
     },
     "execution_count": 75,
     "metadata": {},
     "output_type": "execute_result"
    },
    {
     "data": {
      "text/plain": [
       "LogisticRegression(l1_ratio=0.5, max_iter=100000, penalty='elasticnet',\n",
       "                   solver='saga')"
      ]
     },
     "execution_count": 75,
     "metadata": {},
     "output_type": "execute_result"
    },
    {
     "data": {
      "text/plain": [
       "LogisticRegression(l1_ratio=0.6, max_iter=100000, penalty='elasticnet',\n",
       "                   solver='saga')"
      ]
     },
     "execution_count": 75,
     "metadata": {},
     "output_type": "execute_result"
    },
    {
     "data": {
      "text/plain": [
       "LogisticRegression(l1_ratio=0.6, max_iter=100000, penalty='elasticnet',\n",
       "                   solver='saga')"
      ]
     },
     "execution_count": 75,
     "metadata": {},
     "output_type": "execute_result"
    },
    {
     "data": {
      "text/plain": [
       "LogisticRegression(l1_ratio=0.6, max_iter=100000, penalty='elasticnet',\n",
       "                   solver='saga')"
      ]
     },
     "execution_count": 75,
     "metadata": {},
     "output_type": "execute_result"
    },
    {
     "data": {
      "text/plain": [
       "LogisticRegression(l1_ratio=0.7, max_iter=100000, penalty='elasticnet',\n",
       "                   solver='saga')"
      ]
     },
     "execution_count": 75,
     "metadata": {},
     "output_type": "execute_result"
    },
    {
     "data": {
      "text/plain": [
       "LogisticRegression(l1_ratio=0.7, max_iter=100000, penalty='elasticnet',\n",
       "                   solver='saga')"
      ]
     },
     "execution_count": 75,
     "metadata": {},
     "output_type": "execute_result"
    },
    {
     "data": {
      "text/plain": [
       "LogisticRegression(l1_ratio=0.7, max_iter=100000, penalty='elasticnet',\n",
       "                   solver='saga')"
      ]
     },
     "execution_count": 75,
     "metadata": {},
     "output_type": "execute_result"
    },
    {
     "data": {
      "text/plain": [
       "LogisticRegression(l1_ratio=0.8, max_iter=100000, penalty='elasticnet',\n",
       "                   solver='saga')"
      ]
     },
     "execution_count": 75,
     "metadata": {},
     "output_type": "execute_result"
    },
    {
     "data": {
      "text/plain": [
       "LogisticRegression(l1_ratio=0.8, max_iter=100000, penalty='elasticnet',\n",
       "                   solver='saga')"
      ]
     },
     "execution_count": 75,
     "metadata": {},
     "output_type": "execute_result"
    },
    {
     "data": {
      "text/plain": [
       "LogisticRegression(l1_ratio=0.8, max_iter=100000, penalty='elasticnet',\n",
       "                   solver='saga')"
      ]
     },
     "execution_count": 75,
     "metadata": {},
     "output_type": "execute_result"
    },
    {
     "data": {
      "text/plain": [
       "LogisticRegression(l1_ratio=0.9, max_iter=100000, penalty='elasticnet',\n",
       "                   solver='saga')"
      ]
     },
     "execution_count": 75,
     "metadata": {},
     "output_type": "execute_result"
    },
    {
     "data": {
      "text/plain": [
       "LogisticRegression(l1_ratio=0.9, max_iter=100000, penalty='elasticnet',\n",
       "                   solver='saga')"
      ]
     },
     "execution_count": 75,
     "metadata": {},
     "output_type": "execute_result"
    },
    {
     "data": {
      "text/plain": [
       "LogisticRegression(l1_ratio=0.9, max_iter=100000, penalty='elasticnet',\n",
       "                   solver='saga')"
      ]
     },
     "execution_count": 75,
     "metadata": {},
     "output_type": "execute_result"
    }
   ],
   "source": [
    "from sklearn.linear_model import LogisticRegression\n",
    "l1_ratio = [0.1,0.2,0.3,0.4,0.5,0.6,0.7,0.8,0.9]\n",
    "\n",
    "loglossList2=[]\n",
    "\n",
    "for l1 in l1_ratio:\n",
    "    loglossList_onel1=[]\n",
    "    for train_ix, test_ix in kfold.split(X1_train_dummies_modified):\n",
    "        train_X, test_X = X1_train_dummies_modified.iloc[train_ix], X1_train_dummies_modified.iloc[test_ix]\n",
    "        train_y, test_y = y1_train.iloc[train_ix], y1_train.iloc[test_ix]\n",
    "    \n",
    "        logreg_model3 = LogisticRegression(penalty='elasticnet', solver='saga', max_iter=100000,l1_ratio=l1)\n",
    "        logreg_model3.fit(train_X, train_y)\n",
    "    \n",
    "        y1_val_predicteddProb=logreg_model.predict_proba(test_X)[:,1]\n",
    "        logloss = sklearn.metrics.log_loss(test_y, y1_val_predicteddProb) \n",
    "        loglossList_onel1.append(logloss)\n",
    "    loglossList2.append(np.mean(loglossList_oneC))"
   ]
  },
  {
   "cell_type": "code",
   "execution_count": 76,
   "metadata": {},
   "outputs": [
    {
     "data": {
      "text/plain": [
       "[0.41877313676774675,\n",
       " 0.41877313676774675,\n",
       " 0.41877313676774675,\n",
       " 0.41877313676774675,\n",
       " 0.41877313676774675,\n",
       " 0.41877313676774675,\n",
       " 0.41877313676774675,\n",
       " 0.41877313676774675,\n",
       " 0.41877313676774675]"
      ]
     },
     "execution_count": 76,
     "metadata": {},
     "output_type": "execute_result"
    }
   ],
   "source": [
    "loglossList2"
   ]
  },
  {
   "cell_type": "code",
   "execution_count": 77,
   "metadata": {},
   "outputs": [
    {
     "data": {
      "text/plain": [
       "LogisticRegression(l1_ratio=0.1, max_iter=100000, penalty='elasticnet',\n",
       "                   solver='saga')"
      ]
     },
     "execution_count": 77,
     "metadata": {},
     "output_type": "execute_result"
    }
   ],
   "source": [
    "logreg_model3 = LogisticRegression(penalty='elasticnet', solver='saga', max_iter=100000,l1_ratio=0.1)\n",
    "logreg_model3.fit(X1_train_dummies_modified, y1_train)"
   ]
  },
  {
   "cell_type": "code",
   "execution_count": 78,
   "metadata": {},
   "outputs": [
    {
     "data": {
      "text/plain": [
       "0.5651220163500302"
      ]
     },
     "execution_count": 78,
     "metadata": {},
     "output_type": "execute_result"
    }
   ],
   "source": [
    "y1_test_predicted_3=logreg_model3.predict_proba(X1_test_dummies_modified)[:,1]\n",
    "y1_test=test[target1]\n",
    "sklearn.metrics.log_loss(y1_test, y1_test_predicted_3) "
   ]
  },
  {
   "cell_type": "code",
   "execution_count": null,
   "metadata": {},
   "outputs": [],
   "source": [
    "bestC = C_grid[minIdx]\n"
   ]
  },
  {
   "cell_type": "code",
   "execution_count": null,
   "metadata": {},
   "outputs": [],
   "source": [
    "bestC"
   ]
  },
  {
   "cell_type": "code",
   "execution_count": null,
   "metadata": {},
   "outputs": [],
   "source": []
  },
  {
   "cell_type": "code",
   "execution_count": null,
   "metadata": {},
   "outputs": [],
   "source": [
    "y1_test_predicted=logreg_model.predict_proba(X1_test_dummies_modified)[:,1]"
   ]
  },
  {
   "cell_type": "code",
   "execution_count": null,
   "metadata": {},
   "outputs": [],
   "source": [
    "y1_test_predicted"
   ]
  },
  {
   "cell_type": "code",
   "execution_count": null,
   "metadata": {},
   "outputs": [],
   "source": [
    "y1_test=test[target1]\n",
    "sklearn.metrics.log_loss(y1_test, y1_test_predicted) "
   ]
  },
  {
   "cell_type": "code",
   "execution_count": null,
   "metadata": {},
   "outputs": [],
   "source": [
    "import numpy as np\n",
    "np.sort(np.absolute(list(abs(logreg_model.coef_[0]))))\n"
   ]
  },
  {
   "cell_type": "code",
   "execution_count": null,
   "metadata": {},
   "outputs": [],
   "source": [
    "oneData=np.array(X1_train_dummies_modified.iloc[0]).reshape(1,-1)"
   ]
  },
  {
   "cell_type": "code",
   "execution_count": null,
   "metadata": {},
   "outputs": [],
   "source": [
    "xlist=[]\n",
    "probabilityList=[]\n",
    "for setPrice in range(1,2000):\n",
    "    xlist.append(setPrice)\n",
    "    oneData[0,4]=setPrice\n",
    "    prob=logreg_model.predict_proba(oneData)[:,1]\n",
    "    probabilityList.append(prob)\n",
    "    "
   ]
  },
  {
   "cell_type": "code",
   "execution_count": null,
   "metadata": {},
   "outputs": [],
   "source": [
    "import matplotlib.pyplot as plt\n",
    "plt.plot(xlist,probabilityList,'o')\n",
    "plt.xlabel('Paying Price')\n",
    "plt.ylabel('Probablity of winning the ad')"
   ]
  },
  {
   "cell_type": "code",
   "execution_count": null,
   "metadata": {},
   "outputs": [],
   "source": [
    "pricelist=list(range(1,2001))\n",
    "\n",
    "y_array=np.ones((100,2000))\n",
    "\n",
    "for position in range(0,100):\n",
    "    oneData=np.array(X1_train_dummies_modified.iloc[position]).reshape(1,-1)\n",
    "    probabilityList=[]\n",
    "    for setPrice in range(1,2001):\n",
    "        oneData[0,4]=setPrice\n",
    "        prob=logreg_model.predict_proba(oneData)[:,1]\n",
    "        probabilityList.append(prob)\n",
    "    y_array[position,:]=probabilityList"
   ]
  },
  {
   "cell_type": "code",
   "execution_count": null,
   "metadata": {},
   "outputs": [],
   "source": [
    "for i in range (0,100):\n",
    "    rgb = np.random.rand(3,)\n",
    "    plt.plot( pricelist, y_array[i,:],color=rgb,linewidth=2)\n",
    "\n",
    "plt.xlabel('Paying Price')\n",
    "plt.ylabel('Probablity of winning the ad')  \n"
   ]
  },
  {
   "cell_type": "code",
   "execution_count": null,
   "metadata": {},
   "outputs": [],
   "source": [
    "logreg_model.coef_"
   ]
  },
  {
   "cell_type": "code",
   "execution_count": null,
   "metadata": {},
   "outputs": [],
   "source": [
    "np.ones((10,2))"
   ]
  },
  {
   "cell_type": "code",
   "execution_count": null,
   "metadata": {},
   "outputs": [],
   "source": [
    "train_ix"
   ]
  },
  {
   "cell_type": "code",
   "execution_count": null,
   "metadata": {},
   "outputs": [],
   "source": [
    "X1_train_dummies_modified.iloc[train_ix]"
   ]
  },
  {
   "cell_type": "code",
   "execution_count": null,
   "metadata": {},
   "outputs": [],
   "source": [
    "cv = KFold(n_splits=5, random_state=1, shuffle=True)\n",
    "\n",
    "C_grid = np.logspace(-2,2,10)\n",
    "\n",
    "for c in C_grid:\n",
    "    logreg_model = LogisticRegression(penalty='l1', C=c, solver='saga', max_iter=100000)\n",
    "    scores = cross_val_score(logreg_model, X1_train_dummies_modified, y1_train, scoring='accuracy', cv=cv, n_jobs=-1)"
   ]
  },
  {
   "cell_type": "code",
   "execution_count": null,
   "metadata": {},
   "outputs": [],
   "source": []
  },
  {
   "cell_type": "code",
   "execution_count": null,
   "metadata": {},
   "outputs": [],
   "source": [
    "X1_train_modified = X1_train_dummies_modified.values\n",
    "\n",
    "\n"
   ]
  },
  {
   "cell_type": "code",
   "execution_count": null,
   "metadata": {},
   "outputs": [],
   "source": [
    "X1 = np.concatenate((X1_train_modified, np.ones((X1_train_modified.shape[0],1))), axis=1)"
   ]
  },
  {
   "cell_type": "code",
   "execution_count": null,
   "metadata": {},
   "outputs": [],
   "source": [
    "X1.shape"
   ]
  },
  {
   "cell_type": "code",
   "execution_count": null,
   "metadata": {
    "scrolled": true
   },
   "outputs": [],
   "source": [
    "from sklearn.linear_model import LogisticRegression\n",
    "logreg_model = LogisticRegression(max_iter=100000000,multi_class='ovr')\n",
    "\n",
    "logreg_model.fit(X1, y1_train)"
   ]
  },
  {
   "cell_type": "code",
   "execution_count": null,
   "metadata": {},
   "outputs": [],
   "source": [
    "y1_train_pred=logreg_model.predict(X1)\n",
    "y1_train"
   ]
  },
  {
   "cell_type": "code",
   "execution_count": null,
   "metadata": {},
   "outputs": [],
   "source": [
    "training_accuracy=logreg_model.score(X1,y1_train) # SOLUTION\n",
    "print ('Training Accuracy:',training_accuracy)\n",
    "\n",
    "\n",
    "#test_accuracy=logreg_model.score(X1_test,y1_test) # SOLUTION\n",
    "#print ('Testing Accuracy:',test_accuracy)"
   ]
  },
  {
   "cell_type": "code",
   "execution_count": null,
   "metadata": {},
   "outputs": [],
   "source": [
    "from collections import Counter\n",
    "result=Counter(y1_train)\n",
    "\n",
    "result\n"
   ]
  },
  {
   "cell_type": "code",
   "execution_count": null,
   "metadata": {},
   "outputs": [],
   "source": [
    "len(y1_test[y1_test==0])/len(y1_test)"
   ]
  },
  {
   "cell_type": "markdown",
   "metadata": {
    "id": "c3QHvpVdOUB8"
   },
   "source": [
    "# Impressions to clicks (2)"
   ]
  },
  {
   "cell_type": "markdown",
   "metadata": {
    "id": "HQAmoTpMO8lR"
   },
   "source": [
    "## X2/y2 "
   ]
  },
  {
   "cell_type": "code",
   "execution_count": null,
   "metadata": {
    "executionInfo": {
     "elapsed": 429,
     "status": "ok",
     "timestamp": 1614294289890,
     "user": {
      "displayName": "Armand Sauzay",
      "photoUrl": "https://lh3.googleusercontent.com/a-/AOh14GhSIx1YAntEkGdNvdJfho_y-lCcaYPnyw9BHSfZ=s64",
      "userId": "07373814862822458780"
     },
     "user_tz": 480
    },
    "id": "tc5JWYh-PA1-"
   },
   "outputs": [],
   "source": [
    "features2=df.drop(['has click' #target\n",
    "  , 'n_clicks' #target 1:1\n",
    "  , 'User Profile IDs_bid' #useless\n",
    "  , 'User Profile IDs_imp' #redundant with dummification\n",
    "  , 'Timestamp_bid'\n",
    "  , 'Timestamp_imp'\n",
    "  , 'Timestamp' #related to click\n",
    "  , 'User-Agent' #related to click\n",
    "  , 'User Profile IDs' #related to click\n",
    "  , 'Region ID_clicks' #related to click\n",
    "  , 'Log Type' #useless in our data format \n",
    "  , 'n_impressions'\n",
    "\n",
    "  , 'User-Agent_bid' # for now let's ignore this as string too complex\n",
    "  , 'User-Agent_imp' # for now let's ignore this as string too complex\n",
    "  ], axis=1).columns\n",
    "target2='has click'"
   ]
  },
  {
   "cell_type": "code",
   "execution_count": null,
   "metadata": {
    "colab": {
     "base_uri": "https://localhost:8080/"
    },
    "executionInfo": {
     "elapsed": 577,
     "status": "ok",
     "timestamp": 1614294553298,
     "user": {
      "displayName": "Armand Sauzay",
      "photoUrl": "https://lh3.googleusercontent.com/a-/AOh14GhSIx1YAntEkGdNvdJfho_y-lCcaYPnyw9BHSfZ=s64",
      "userId": "07373814862822458780"
     },
     "user_tz": 480
    },
    "id": "5ZewMOipXo0C",
    "outputId": "f71d4681-1a29-4309-943a-248ed4136598"
   },
   "outputs": [],
   "source": [
    "#df[features2].isna().sum() --> we can fill na with 0 as there are some only for paying price and null profile ids\n",
    "\n",
    "X2_train = train[features2].fillna(0)\n",
    "X2_test = test[features2].fillna(0)\n",
    "\n",
    "y2_train = train[target2]\n",
    "y2_test = test[target2]\n",
    "\n",
    "print('X2_train:', X2_train.shape\n",
    "      , '\\nX2_test: ', X2_test.shape \n",
    "      , '\\ny2_train:', y2_train.shape\n",
    "      , '\\ny2_test: ', y2_test.shape)"
   ]
  },
  {
   "cell_type": "code",
   "execution_count": null,
   "metadata": {
    "colab": {
     "base_uri": "https://localhost:8080/"
    },
    "executionInfo": {
     "elapsed": 321,
     "status": "ok",
     "timestamp": 1614294592842,
     "user": {
      "displayName": "Armand Sauzay",
      "photoUrl": "https://lh3.googleusercontent.com/a-/AOh14GhSIx1YAntEkGdNvdJfho_y-lCcaYPnyw9BHSfZ=s64",
      "userId": "07373814862822458780"
     },
     "user_tz": 480
    },
    "id": "JCEnHPSNX319",
    "outputId": "f968ca6e-f0c0-4dc2-9b53-bc46861f52ff"
   },
   "outputs": [],
   "source": [
    "y2_train.sum()"
   ]
  },
  {
   "cell_type": "code",
   "execution_count": null,
   "metadata": {
    "colab": {
     "base_uri": "https://localhost:8080/"
    },
    "executionInfo": {
     "elapsed": 287,
     "status": "ok",
     "timestamp": 1614294639004,
     "user": {
      "displayName": "Armand Sauzay",
      "photoUrl": "https://lh3.googleusercontent.com/a-/AOh14GhSIx1YAntEkGdNvdJfho_y-lCcaYPnyw9BHSfZ=s64",
      "userId": "07373814862822458780"
     },
     "user_tz": 480
    },
    "id": "88PcshfGdEwk",
    "outputId": "db17f49a-a6ea-434d-ede8-ba636321bddf"
   },
   "outputs": [],
   "source": [
    "1000/10000000*700000"
   ]
  },
  {
   "cell_type": "code",
   "execution_count": null,
   "metadata": {
    "id": "Pdwtr-uBdRmL"
   },
   "outputs": [],
   "source": []
  }
 ],
 "metadata": {
  "colab": {
   "collapsed_sections": [],
   "name": "Data Modeling.ipynb",
   "provenance": []
  },
  "kernelspec": {
   "name": "python383jvsc74a57bd0277bf4d403cddb92e38949240bb15fdbb18710816fe05ed6328e90baee24cafd",
   "display_name": "Python 3.8.3 64-bit ('base': conda)"
  },
  "language_info": {
   "codemirror_mode": {
    "name": "ipython",
    "version": 3
   },
   "file_extension": ".py",
   "mimetype": "text/x-python",
   "name": "python",
   "nbconvert_exporter": "python",
   "pygments_lexer": "ipython3",
   "version": "3.8.3-final"
  }
 },
 "nbformat": 4,
 "nbformat_minor": 1
}