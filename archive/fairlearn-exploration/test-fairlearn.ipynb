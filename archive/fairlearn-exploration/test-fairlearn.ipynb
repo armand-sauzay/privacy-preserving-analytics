{
 "cells": [
  {
   "cell_type": "code",
   "execution_count": 1,
   "id": "controversial-shopper",
   "metadata": {},
   "outputs": [],
   "source": [
    "#pip install sklearn\n",
    "#!pip install fairlearn\n",
    "#!pip install ipywidgets"
   ]
  },
  {
   "cell_type": "code",
   "execution_count": 2,
   "id": "specified-musician",
   "metadata": {},
   "outputs": [],
   "source": [
    "import pandas as pd\n",
    "from timeit import default_timer as timer\n",
    "from sklearn import linear_model\n",
    "import fairlearn"
   ]
  },
  {
   "cell_type": "code",
   "execution_count": 3,
   "id": "sharing-planning",
   "metadata": {},
   "outputs": [],
   "source": [
    "df=pd.read_csv('/Users/Armand/Capstone/final_training_testing.csv')\n",
    "df.drop(['Unnamed: 0'], axis=1, inplace=True)\n",
    "df.head(2)\n",
    "sorted_df=df.sort_values(by='Timestamp_bid', ascending=True)"
   ]
  },
  {
   "cell_type": "code",
   "execution_count": 4,
   "id": "emotional-mineral",
   "metadata": {},
   "outputs": [
    {
     "output_type": "execute_result",
     "data": {
      "text/plain": [
       "Index(['Timestamp_bid', 'User-Agent_bid', 'Region ID_bids_join_impressions',\n",
       "       'City ID', 'Ad Exchange', 'Ad Slot Width', 'Ad Slot Height',\n",
       "       'Ad Slot Visibility', 'Ad Slot Format', 'Ad Slot Floor Price',\n",
       "       'Bidding Price', 'Advertiser ID', 'User Profile IDs_bid',\n",
       "       'Timestamp_imp', 'User-Agent_imp', 'Log Type', 'Paying Price',\n",
       "       'User Profile IDs_imp', 'n_impressions', 'Timestamp', 'User-Agent',\n",
       "       'User Profile IDs', 'Region ID_clicks', 'n_clicks', 'has impression',\n",
       "       'has click', '10006', '10024', '10031', '10048', '10052', '10057',\n",
       "       '10059', '10063', '10067', '10074', '10075', '10076', '10077', '10079',\n",
       "       '10083', '10093', '10102', '10110', '10111', '10684', '11092', '11278',\n",
       "       '11379', '11423', '11512', '11576', '11632', '11680', '11724', '11944',\n",
       "       '13042', '13403', '13496', '13678', '13776', '13800', '13866', '13874',\n",
       "       '14273', '16593', '16617', '16661', '16706'],\n",
       "      dtype='object')"
      ]
     },
     "metadata": {},
     "execution_count": 4
    }
   ],
   "source": [
    "sorted_df.columns"
   ]
  },
  {
   "cell_type": "code",
   "execution_count": 5,
   "id": "broke-touch",
   "metadata": {},
   "outputs": [],
   "source": [
    "count_clicks=sorted_df[['Advertiser ID', 'has click']].groupby(['Advertiser ID']).sum()"
   ]
  },
  {
   "cell_type": "code",
   "execution_count": 6,
   "id": "desperate-sugar",
   "metadata": {},
   "outputs": [],
   "source": [
    "count_values=sorted_df['Advertiser ID'].value_counts()"
   ]
  },
  {
   "cell_type": "code",
   "execution_count": 7,
   "id": "silver-layout",
   "metadata": {},
   "outputs": [
    {
     "output_type": "execute_result",
     "data": {
      "text/plain": [
       "               has click\n",
       "Advertiser ID           \n",
       "1458                  40\n",
       "3358                  30\n",
       "3386                  37\n",
       "3427                  35\n",
       "3476                  10"
      ],
      "text/html": "<div>\n<style scoped>\n    .dataframe tbody tr th:only-of-type {\n        vertical-align: middle;\n    }\n\n    .dataframe tbody tr th {\n        vertical-align: top;\n    }\n\n    .dataframe thead th {\n        text-align: right;\n    }\n</style>\n<table border=\"1\" class=\"dataframe\">\n  <thead>\n    <tr style=\"text-align: right;\">\n      <th></th>\n      <th>has click</th>\n    </tr>\n    <tr>\n      <th>Advertiser ID</th>\n      <th></th>\n    </tr>\n  </thead>\n  <tbody>\n    <tr>\n      <th>1458</th>\n      <td>40</td>\n    </tr>\n    <tr>\n      <th>3358</th>\n      <td>30</td>\n    </tr>\n    <tr>\n      <th>3386</th>\n      <td>37</td>\n    </tr>\n    <tr>\n      <th>3427</th>\n      <td>35</td>\n    </tr>\n    <tr>\n      <th>3476</th>\n      <td>10</td>\n    </tr>\n  </tbody>\n</table>\n</div>"
     },
     "metadata": {},
     "execution_count": 7
    }
   ],
   "source": [
    "count_clicks"
   ]
  },
  {
   "cell_type": "code",
   "execution_count": 8,
   "id": "exact-valentine",
   "metadata": {},
   "outputs": [
    {
     "output_type": "execute_result",
     "data": {
      "text/plain": [
       "1458    196612\n",
       "3386    190251\n",
       "3427    162758\n",
       "3476     86603\n",
       "3358     63776\n",
       "Name: Advertiser ID, dtype: int64"
      ]
     },
     "metadata": {},
     "execution_count": 8
    }
   ],
   "source": [
    "count_values"
   ]
  },
  {
   "cell_type": "code",
   "execution_count": 9,
   "id": "coral-plate",
   "metadata": {},
   "outputs": [
    {
     "output_type": "execute_result",
     "data": {
      "text/plain": [
       "1458    0.000203\n",
       "3358    0.000470\n",
       "3386    0.000194\n",
       "3427    0.000215\n",
       "3476    0.000115\n",
       "dtype: float64"
      ]
     },
     "metadata": {},
     "execution_count": 9
    }
   ],
   "source": [
    "count_clicks['has click']/count_values"
   ]
  },
  {
   "cell_type": "code",
   "execution_count": 10,
   "id": "chinese-specification",
   "metadata": {},
   "outputs": [
    {
     "output_type": "execute_result",
     "data": {
      "text/plain": [
       "152"
      ]
     },
     "metadata": {},
     "execution_count": 10
    }
   ],
   "source": [
    "sorted_df['has click'].sum()"
   ]
  },
  {
   "cell_type": "code",
   "execution_count": 41,
   "id": "pressed-three",
   "metadata": {},
   "outputs": [],
   "source": [
    "features1=[#'Timestamp_bid'\n",
    "  #, 'User-Agent_bid'\n",
    "  #'Region ID_bids_join_impressions'\n",
    "  'City ID'\n",
    "  , 'Ad Exchange'\n",
    "  , 'Ad Slot Width'\n",
    "  , 'Ad Slot Height'\n",
    "  , 'Ad Slot Visibility'\n",
    "  , 'Ad Slot Format'\n",
    "  , 'Ad Slot Floor Price'\n",
    "  , 'Bidding Price'\n",
    "  , 'Advertiser ID'  \n",
    "  ]\n",
    "\n",
    "target1='has impression'"
   ]
  },
  {
   "cell_type": "code",
   "execution_count": 42,
   "id": "israeli-tradition",
   "metadata": {},
   "outputs": [
    {
     "output_type": "stream",
     "name": "stdout",
     "text": [
      "X_train: (10000, 9) \nX_test:  (1000, 9) \ny_train: (10000,) \ny_test:  (1000,)\n"
     ]
    }
   ],
   "source": [
    "\n",
    "X1_train_v1=sorted_df[features1][:10000]\n",
    "X1_test_v1=sorted_df[features1][10000:11000]\n",
    "\n",
    "y1_train_v1=sorted_df[target1][:10000]\n",
    "y1_test_v1=sorted_df[target1][10000:11000]\n",
    "\n",
    "print('X_train:', X1_train_v1.shape\n",
    "      , '\\nX_test: ', X1_test_v1.shape \n",
    "      , '\\ny_train:', y1_train_v1.shape\n",
    "      , '\\ny_test: ', y1_test_v1.shape)"
   ]
  },
  {
   "cell_type": "markdown",
   "id": "raised-philadelphia",
   "metadata": {},
   "source": [
    "# Baseline"
   ]
  },
  {
   "cell_type": "code",
   "execution_count": 43,
   "id": "transparent-juvenile",
   "metadata": {},
   "outputs": [
    {
     "output_type": "stream",
     "name": "stdout",
     "text": [
      "(10000, 9)\n(1000, 9)\n(10000,)\n(1000,)\nTraining Accuracy: 0.9549\nTraining Accuracy: 0.806\n"
     ]
    }
   ],
   "source": [
    "print(X1_train_v1.shape)\n",
    "print(X1_test_v1.shape)\n",
    "print(y1_train_v1.shape)\n",
    "print(y1_test_v1.shape)\n",
    "\n",
    "training_accuracy=len(X1_train_v1[y1_train_v1==0])/len(y1_train_v1)\n",
    "print ('Training Accuracy:',training_accuracy)\n",
    "\n",
    "testing_accuracy=len(y1_test_v1[y1_test_v1==0])/len(y1_test_v1)\n",
    "print ('Training Accuracy:',testing_accuracy)"
   ]
  },
  {
   "cell_type": "code",
   "execution_count": 44,
   "id": "elegant-treatment",
   "metadata": {},
   "outputs": [
    {
     "output_type": "execute_result",
     "data": {
      "text/plain": [
       "    City ID  Ad Exchange  Ad Slot Width  Ad Slot Height  Ad Slot Visibility  \\\n",
       "0        85            2            336             280                   2   \n",
       "4        23            2            300             250                   2   \n",
       "11       81            2            336             280                   2   \n",
       "18      100            1            300             250                   1   \n",
       "20      341            1            300             250                   2   \n",
       "\n",
       "    Ad Slot Format  Ad Slot Floor Price  Bidding Price  Advertiser ID  \n",
       "0                0                    5            300           3386  \n",
       "4                0                    5            238           3358  \n",
       "11               0                    5            238           3358  \n",
       "18               1                    0            227           3358  \n",
       "20               1                    0            227           3358  "
      ],
      "text/html": "<div>\n<style scoped>\n    .dataframe tbody tr th:only-of-type {\n        vertical-align: middle;\n    }\n\n    .dataframe tbody tr th {\n        vertical-align: top;\n    }\n\n    .dataframe thead th {\n        text-align: right;\n    }\n</style>\n<table border=\"1\" class=\"dataframe\">\n  <thead>\n    <tr style=\"text-align: right;\">\n      <th></th>\n      <th>City ID</th>\n      <th>Ad Exchange</th>\n      <th>Ad Slot Width</th>\n      <th>Ad Slot Height</th>\n      <th>Ad Slot Visibility</th>\n      <th>Ad Slot Format</th>\n      <th>Ad Slot Floor Price</th>\n      <th>Bidding Price</th>\n      <th>Advertiser ID</th>\n    </tr>\n  </thead>\n  <tbody>\n    <tr>\n      <th>0</th>\n      <td>85</td>\n      <td>2</td>\n      <td>336</td>\n      <td>280</td>\n      <td>2</td>\n      <td>0</td>\n      <td>5</td>\n      <td>300</td>\n      <td>3386</td>\n    </tr>\n    <tr>\n      <th>4</th>\n      <td>23</td>\n      <td>2</td>\n      <td>300</td>\n      <td>250</td>\n      <td>2</td>\n      <td>0</td>\n      <td>5</td>\n      <td>238</td>\n      <td>3358</td>\n    </tr>\n    <tr>\n      <th>11</th>\n      <td>81</td>\n      <td>2</td>\n      <td>336</td>\n      <td>280</td>\n      <td>2</td>\n      <td>0</td>\n      <td>5</td>\n      <td>238</td>\n      <td>3358</td>\n    </tr>\n    <tr>\n      <th>18</th>\n      <td>100</td>\n      <td>1</td>\n      <td>300</td>\n      <td>250</td>\n      <td>1</td>\n      <td>1</td>\n      <td>0</td>\n      <td>227</td>\n      <td>3358</td>\n    </tr>\n    <tr>\n      <th>20</th>\n      <td>341</td>\n      <td>1</td>\n      <td>300</td>\n      <td>250</td>\n      <td>2</td>\n      <td>1</td>\n      <td>0</td>\n      <td>227</td>\n      <td>3358</td>\n    </tr>\n  </tbody>\n</table>\n</div>"
     },
     "metadata": {},
     "execution_count": 44
    }
   ],
   "source": [
    "X1_train_v1.head()"
   ]
  },
  {
   "cell_type": "markdown",
   "id": "environmental-wildlife",
   "metadata": {},
   "source": [
    "# Logreg"
   ]
  },
  {
   "cell_type": "code",
   "execution_count": 45,
   "id": "soviet-fitting",
   "metadata": {},
   "outputs": [
    {
     "output_type": "stream",
     "name": "stdout",
     "text": [
      "Wall time for training logit: 12.966739438998047 second\nTraining Accuracy: 0.9564\nAccuracy of the model on unseen test data:  0.813\n"
     ]
    }
   ],
   "source": [
    "time_start = timer()\n",
    "LogRegModel = linear_model.LogisticRegression(solver='saga', max_iter=20000)\n",
    "LogRegModel = LogRegModel.fit(X1_train_v1,y1_train_v1)\n",
    "time_end= timer()\n",
    "print (\"Wall time for training logit: %s second\"%(time_end-time_start))\n",
    "\n",
    "training_accuracy=LogRegModel.score(X1_train_v1,y1_train_v1)\n",
    "print ('Training Accuracy:',training_accuracy)\n",
    "test_accuracy = LogRegModel.score(X1_test_v1,y1_test_v1) \n",
    "print('Accuracy of the model on unseen test data: ', test_accuracy)"
   ]
  },
  {
   "cell_type": "code",
   "execution_count": 36,
   "metadata": {},
   "outputs": [
    {
     "output_type": "execute_result",
     "data": {
      "text/plain": [
       "            Timestamp_bid  Region ID_bids_join_impressions  City ID  \\\n",
       "101564  20130606001420484                               80       81   \n",
       "101570  20130606001420516                              201      202   \n",
       "101590  20130606001420691                              276      277   \n",
       "101594  20130606001420727                               79       79   \n",
       "101600  20130606001420760                              276      287   \n",
       "\n",
       "        Ad Exchange  Ad Slot Width  Ad Slot Height  Ad Slot Visibility  \\\n",
       "101564            2            160             600                   2   \n",
       "101570            2            728              90                   2   \n",
       "101590            2            336             280                   2   \n",
       "101594            2            728              90                   1   \n",
       "101600            2            468              60                   2   \n",
       "\n",
       "        Ad Slot Format  Ad Slot Floor Price  Bidding Price  Advertiser ID  \n",
       "101564               0                    5            300           1458  \n",
       "101570               0                    5            300           1458  \n",
       "101590               0                    5            300           1458  \n",
       "101594               0                    5            300           1458  \n",
       "101600               0                    5            300           1458  "
      ],
      "text/html": "<div>\n<style scoped>\n    .dataframe tbody tr th:only-of-type {\n        vertical-align: middle;\n    }\n\n    .dataframe tbody tr th {\n        vertical-align: top;\n    }\n\n    .dataframe thead th {\n        text-align: right;\n    }\n</style>\n<table border=\"1\" class=\"dataframe\">\n  <thead>\n    <tr style=\"text-align: right;\">\n      <th></th>\n      <th>Timestamp_bid</th>\n      <th>Region ID_bids_join_impressions</th>\n      <th>City ID</th>\n      <th>Ad Exchange</th>\n      <th>Ad Slot Width</th>\n      <th>Ad Slot Height</th>\n      <th>Ad Slot Visibility</th>\n      <th>Ad Slot Format</th>\n      <th>Ad Slot Floor Price</th>\n      <th>Bidding Price</th>\n      <th>Advertiser ID</th>\n    </tr>\n  </thead>\n  <tbody>\n    <tr>\n      <th>101564</th>\n      <td>20130606001420484</td>\n      <td>80</td>\n      <td>81</td>\n      <td>2</td>\n      <td>160</td>\n      <td>600</td>\n      <td>2</td>\n      <td>0</td>\n      <td>5</td>\n      <td>300</td>\n      <td>1458</td>\n    </tr>\n    <tr>\n      <th>101570</th>\n      <td>20130606001420516</td>\n      <td>201</td>\n      <td>202</td>\n      <td>2</td>\n      <td>728</td>\n      <td>90</td>\n      <td>2</td>\n      <td>0</td>\n      <td>5</td>\n      <td>300</td>\n      <td>1458</td>\n    </tr>\n    <tr>\n      <th>101590</th>\n      <td>20130606001420691</td>\n      <td>276</td>\n      <td>277</td>\n      <td>2</td>\n      <td>336</td>\n      <td>280</td>\n      <td>2</td>\n      <td>0</td>\n      <td>5</td>\n      <td>300</td>\n      <td>1458</td>\n    </tr>\n    <tr>\n      <th>101594</th>\n      <td>20130606001420727</td>\n      <td>79</td>\n      <td>79</td>\n      <td>2</td>\n      <td>728</td>\n      <td>90</td>\n      <td>1</td>\n      <td>0</td>\n      <td>5</td>\n      <td>300</td>\n      <td>1458</td>\n    </tr>\n    <tr>\n      <th>101600</th>\n      <td>20130606001420760</td>\n      <td>276</td>\n      <td>287</td>\n      <td>2</td>\n      <td>468</td>\n      <td>60</td>\n      <td>2</td>\n      <td>0</td>\n      <td>5</td>\n      <td>300</td>\n      <td>1458</td>\n    </tr>\n  </tbody>\n</table>\n</div>"
     },
     "metadata": {},
     "execution_count": 36
    }
   ],
   "source": [
    "X1_test_v1.head()"
   ]
  },
  {
   "cell_type": "code",
   "execution_count": 37,
   "id": "certified-profession",
   "metadata": {},
   "outputs": [
    {
     "output_type": "display_data",
     "data": {
      "text/plain": "FairlearnWidget(value={'true_y': [0, 0, 0, 0, 0, 0, 0, 0, 0, 0, 0, 0, 0, 0, 0, 0, 0, 0, 0, 0, 0, 0, 0, 0, 0, 0…",
      "application/vnd.jupyter.widget-view+json": {
       "version_major": 2,
       "version_minor": 0,
       "model_id": "560aef57724c48d1a1bd23a90fab23df"
      }
     },
     "metadata": {}
    },
    {
     "output_type": "execute_result",
     "data": {
      "text/plain": [
       "<fairlearn.widget._fairlearn_dashboard.FairlearnDashboard at 0x7fd27d4d7a90>"
      ]
     },
     "metadata": {},
     "execution_count": 37
    }
   ],
   "source": [
    "from fairlearn.widget import FairlearnDashboard\n",
    "\n",
    "FairlearnDashboard(y_true = y1_test_v1,\n",
    "                   y_pred = LogRegModel.predict(X1_test_v1),\n",
    "                   sensitive_features = X1_test_v1[['City ID']],\n",
    "                   #sensitive_feature_names = [\"City ID\"]\n",
    "                   )"
   ]
  },
  {
   "cell_type": "code",
   "execution_count": null,
   "id": "sized-legend",
   "metadata": {},
   "outputs": [],
   "source": [
    "'''from raiwidgets import FairnessDashboard\n",
    "\n",
    "FairnessDashboard(y_true = y1_test_v1,\n",
    "                   y_pred = LogRegModel.predict(X1_test_v1),\n",
    "                   sensitive_features = X1_test_v1['City ID']\n",
    "                   #sensitive_feature_names = [\"City ID\"]\n",
    "                  )'''"
   ]
  },
  {
   "cell_type": "markdown",
   "id": "choice-holly",
   "metadata": {},
   "source": [
    "# Fairlearn Example"
   ]
  },
  {
   "cell_type": "code",
   "execution_count": null,
   "id": "stretch-martin",
   "metadata": {},
   "outputs": [],
   "source": [
    "from fairlearn.metrics import MetricFrame\n",
    "from sklearn.metrics import accuracy_score\n",
    "\n",
    "\n",
    "classifier = LogRegModel\n",
    "classifier.fit(X1_train_v1, y1_train_v1)\n",
    "\n",
    "y_pred = classifier.predict(X1_test_v1)\n",
    "gm = MetricFrame(accuracy_score, y1_test_v1, y_pred, sensitive_features=X1_test_v1['Ad Exchange'])\n",
    "print(gm.overall)\n",
    "print(gm.by_group)"
   ]
  },
  {
   "cell_type": "code",
   "execution_count": 46,
   "id": "latest-aspect",
   "metadata": {},
   "outputs": [
    {
     "data": {
      "text/plain": [
       "[<matplotlib.lines.Line2D at 0x7fd6191698e0>]"
      ]
     },
     "execution_count": 46,
     "metadata": {},
     "output_type": "execute_result"
    },
    {
     "data": {
      "image/png": "[encoded data removed]",
      "text/plain": [
       "<Figure size 432x288 with 1 Axes>"
      ]
     },
     "metadata": {
      "needs_background": "light"
     },
     "output_type": "display_data"
    }
   ],
   "source": [
    "plt.plot(gm.by_group)"
   ]
  },
  {
   "cell_type": "markdown",
   "id": "champion-evening",
   "metadata": {},
   "source": [
    "# Test on clicks"
   ]
  },
  {
   "cell_type": "code",
   "execution_count": 21,
   "id": "worldwide-paint",
   "metadata": {},
   "outputs": [],
   "source": [
    "features2=df.drop(['has click' #target\n",
    "  , 'n_clicks' #target 1:1\n",
    "  , 'User Profile IDs_bid' #useless\n",
    "  , 'User Profile IDs_imp' #redundant with dummification\n",
    "  , 'Timestamp_bid'\n",
    "  , 'Timestamp_imp'\n",
    "  , 'Timestamp' #related to click\n",
    "  , 'User-Agent' #related to click\n",
    "  , 'User Profile IDs' #related to click\n",
    "  , 'Region ID_clicks' #related to click\n",
    "  , 'Log Type' #useless in our data format \n",
    "  , 'n_impressions'\n",
    "\n",
    "  , 'User-Agent_bid' # for now let's ignore this as string too complex\n",
    "  , 'User-Agent_imp' # for now let's ignore this as string too complex\n",
    "  ], axis=1).columns\n",
    "target2='has click'"
   ]
  },
  {
   "cell_type": "code",
   "execution_count": 22,
   "id": "traditional-arnold",
   "metadata": {},
   "outputs": [
    {
     "output_type": "stream",
     "name": "stdout",
     "text": [
      "X2_train: (100000, 55) \nX2_test:  (10000, 55) \ny2_train: (100000,) \ny2_test:  (10000,)\n"
     ]
    }
   ],
   "source": [
    "#df[features2].isna().sum() --> we can fill na with 0 as there are some only for paying price and null profile ids\n",
    "\n",
    "X2_train = sorted_df[features2][:100000].fillna(0)\n",
    "X2_test = sorted_df[features2][100000:110000].fillna(0)\n",
    "\n",
    "y2_train = sorted_df[target2][:100000]\n",
    "y2_test = sorted_df[target2][100000:110000]\n",
    "\n",
    "print('X2_train:', X2_train.shape\n",
    "      , '\\nX2_test: ', X2_test.shape \n",
    "      , '\\ny2_train:', y2_train.shape\n",
    "      , '\\ny2_test: ', y2_test.shape)"
   ]
  },
  {
   "cell_type": "code",
   "execution_count": 23,
   "id": "unlike-hobby",
   "metadata": {},
   "outputs": [
    {
     "output_type": "execute_result",
     "data": {
      "text/plain": [
       "Region ID_bids_join_impressions     15523553.0\n",
       "City ID                             16060256.0\n",
       "Ad Exchange                           264280.0\n",
       "Ad Slot Width                       58046244.0\n",
       "Ad Slot Height                      18465080.0\n",
       "Ad Slot Visibility                     99073.0\n",
       "Ad Slot Format                          9656.0\n",
       "Ad Slot Floor Price                  5268206.0\n",
       "Bidding Price                       27925199.0\n",
       "Advertiser ID                      274847328.0\n",
       "Paying Price                         1404803.0\n",
       "has impression                         18716.0\n",
       "10006                                  13816.0\n",
       "10024                                   5430.0\n",
       "10031                                   4574.0\n",
       "10048                                   1427.0\n",
       "10052                                   3524.0\n",
       "10057                                   4395.0\n",
       "10059                                   4832.0\n",
       "10063                                  14348.0\n",
       "10067                                    518.0\n",
       "10074                                    374.0\n",
       "10075                                   4582.0\n",
       "10076                                   2010.0\n",
       "10077                                   2384.0\n",
       "10079                                    771.0\n",
       "10083                                   5530.0\n",
       "10093                                   1169.0\n",
       "10102                                    208.0\n",
       "10110                                  10145.0\n",
       "10111                                   4889.0\n",
       "10684                                    425.0\n",
       "11092                                     88.0\n",
       "11278                                     33.0\n",
       "11379                                     49.0\n",
       "11423                                     36.0\n",
       "11512                                      1.0\n",
       "11576                                     88.0\n",
       "11632                                      8.0\n",
       "11680                                      7.0\n",
       "11724                                     53.0\n",
       "11944                                    365.0\n",
       "13042                                   1960.0\n",
       "13403                                   4327.0\n",
       "13496                                    286.0\n",
       "13678                                    403.0\n",
       "13776                                   1174.0\n",
       "13800                                   2426.0\n",
       "13866                                   3958.0\n",
       "13874                                      9.0\n",
       "14273                                   2325.0\n",
       "16593                                     25.0\n",
       "16617                                     38.0\n",
       "16661                                     38.0\n",
       "16706                                     37.0\n",
       "dtype: float64"
      ]
     },
     "metadata": {},
     "execution_count": 23
    }
   ],
   "source": [
    "X2_train.sum()"
   ]
  },
  {
   "cell_type": "code",
   "execution_count": 24,
   "id": "animated-seven",
   "metadata": {},
   "outputs": [
    {
     "output_type": "stream",
     "name": "stdout",
     "text": [
      "Wall time for training logit: 72.94821515700096 second\nTraining Accuracy: 0.99989\nAccuracy of the model on unseen test data:  0.9997\n"
     ]
    }
   ],
   "source": [
    "time_start = timer()\n",
    "LogRegModel2 = linear_model.LogisticRegression(solver='saga', max_iter=20000)\n",
    "LogRegModel2 = LogRegModel.fit(X2_train,y2_train)\n",
    "time_end= timer()\n",
    "print (\"Wall time for training logit: %s second\"%(time_end-time_start))\n",
    "\n",
    "training_accuracy=LogRegModel.score(X2_train,y2_train)\n",
    "print ('Training Accuracy:',training_accuracy)\n",
    "test_accuracy = LogRegModel.score(X2_test,y2_test) \n",
    "print('Accuracy of the model on unseen test data: ', test_accuracy)"
   ]
  },
  {
   "cell_type": "code",
   "execution_count": 31,
   "metadata": {},
   "outputs": [
    {
     "output_type": "display_data",
     "data": {
      "text/plain": "FairlearnWidget(value={'true_y': [0, 0, 0, 0, 0, 0, 0, 0, 0, 0, 0, 0, 0, 0, 0, 0, 0, 0, 0, 0, 0, 0, 0, 0, 0, 0…",
      "application/vnd.jupyter.widget-view+json": {
       "version_major": 2,
       "version_minor": 0,
       "model_id": "10dbb4c5153f414ba80d5813f9546af8"
      }
     },
     "metadata": {}
    },
    {
     "output_type": "execute_result",
     "data": {
      "text/plain": [
       "<fairlearn.widget._fairlearn_dashboard.FairlearnDashboard at 0x7fd26adeab20>"
      ]
     },
     "metadata": {},
     "execution_count": 31
    }
   ],
   "source": [
    "from fairlearn.widget import FairlearnDashboard\n",
    "\n",
    "FairlearnDashboard(y_true = y2_test,\n",
    "                   y_pred = LogRegModel2.predict(X2_test),\n",
    "                   sensitive_features = X2_test,\n",
    "                   sensitive_feature_names = X2_test.columns.to_list()\n",
    "                   )"
   ]
  },
  {
   "cell_type": "code",
   "execution_count": 25,
   "id": "legal-salmon",
   "metadata": {},
   "outputs": [
    {
     "output_type": "error",
     "ename": "NameError",
     "evalue": "name 'MetricFrame' is not defined",
     "traceback": [
      "\u001b[0;31m---------------------------------------------------------------------------\u001b[0m",
      "\u001b[0;31mNameError\u001b[0m                                 Traceback (most recent call last)",
      "\u001b[0;32m<ipython-input-25-e00fe7e1213b>\u001b[0m in \u001b[0;36m<module>\u001b[0;34m\u001b[0m\n\u001b[1;32m      3\u001b[0m \u001b[0;34m\u001b[0m\u001b[0m\n\u001b[1;32m      4\u001b[0m \u001b[0my_pred\u001b[0m \u001b[0;34m=\u001b[0m \u001b[0mclassifier\u001b[0m\u001b[0;34m.\u001b[0m\u001b[0mpredict\u001b[0m\u001b[0;34m(\u001b[0m\u001b[0mX2_test\u001b[0m\u001b[0;34m)\u001b[0m\u001b[0;34m\u001b[0m\u001b[0;34m\u001b[0m\u001b[0m\n\u001b[0;32m----> 5\u001b[0;31m \u001b[0mgm\u001b[0m \u001b[0;34m=\u001b[0m \u001b[0mMetricFrame\u001b[0m\u001b[0;34m(\u001b[0m\u001b[0maccuracy_score\u001b[0m\u001b[0;34m,\u001b[0m \u001b[0my2_test\u001b[0m\u001b[0;34m,\u001b[0m \u001b[0my_pred\u001b[0m\u001b[0;34m,\u001b[0m \u001b[0msensitive_features\u001b[0m\u001b[0;34m=\u001b[0m\u001b[0mX2_test\u001b[0m\u001b[0;34m[\u001b[0m\u001b[0;34m'10063'\u001b[0m\u001b[0;34m]\u001b[0m\u001b[0;34m)\u001b[0m\u001b[0;34m\u001b[0m\u001b[0;34m\u001b[0m\u001b[0m\n\u001b[0m\u001b[1;32m      6\u001b[0m \u001b[0mprint\u001b[0m\u001b[0;34m(\u001b[0m\u001b[0mgm\u001b[0m\u001b[0;34m.\u001b[0m\u001b[0moverall\u001b[0m\u001b[0;34m)\u001b[0m\u001b[0;34m\u001b[0m\u001b[0;34m\u001b[0m\u001b[0m\n\u001b[1;32m      7\u001b[0m \u001b[0mprint\u001b[0m\u001b[0;34m(\u001b[0m\u001b[0mgm\u001b[0m\u001b[0;34m.\u001b[0m\u001b[0mby_group\u001b[0m\u001b[0;34m)\u001b[0m\u001b[0;34m\u001b[0m\u001b[0;34m\u001b[0m\u001b[0m\n",
      "\u001b[0;31mNameError\u001b[0m: name 'MetricFrame' is not defined"
     ]
    }
   ],
   "source": [
    "\n",
    "classifier = LogRegModel2\n",
    "classifier.fit(X2_train, y2_train)\n",
    "\n",
    "y_pred = classifier.predict(X2_test)\n",
    "gm = MetricFrame(accuracy_score, y2_test, y_pred, sensitive_features=X2_test['10063'])\n",
    "print(gm.overall)\n",
    "print(gm.by_group)"
   ]
  },
  {
   "cell_type": "code",
   "execution_count": null,
   "id": "ecological-service",
   "metadata": {},
   "outputs": [],
   "source": [
    "plt.plot(gm.by_group)"
   ]
  },
  {
   "cell_type": "code",
   "execution_count": null,
   "metadata": {},
   "outputs": [],
   "source": []
  },
  {
   "cell_type": "markdown",
   "id": "quarterly-moscow",
   "metadata": {},
   "source": [
    "## Test sklearn dataset"
   ]
  },
  {
   "cell_type": "code",
   "execution_count": 1,
   "id": "palestinian-aquarium",
   "metadata": {},
   "outputs": [
    {
     "data": {
      "text/plain": [
       "Male      32650\n",
       "Female    16192\n",
       "Name: sex, dtype: int64"
      ]
     },
     "execution_count": 1,
     "metadata": {},
     "output_type": "execute_result"
    }
   ],
   "source": [
    "import numpy as np\n",
    "import pandas as pd\n",
    "import matplotlib.pyplot as plt\n",
    "from sklearn.datasets import fetch_openml\n",
    "data = fetch_openml(data_id=1590, as_frame=True)\n",
    "X = pd.get_dummies(data.data)\n",
    "y_true = (data.target == '>50K') * 1\n",
    "sex = data.data['sex']\n",
    "sex.value_counts()"
   ]
  },
  {
   "cell_type": "code",
   "execution_count": 2,
   "id": "careful-uganda",
   "metadata": {},
   "outputs": [
    {
     "name": "stdout",
     "output_type": "stream",
     "text": [
      "0.8443552680070431\n",
      "sex\n",
      "Female    0.925148\n",
      "Male      0.804288\n",
      "Name: accuracy_score, dtype: object\n"
     ]
    }
   ],
   "source": [
    "from fairlearn.metrics import MetricFrame\n",
    "from sklearn.metrics import accuracy_score\n",
    "from sklearn.tree import DecisionTreeClassifier\n",
    "\n",
    "classifier = DecisionTreeClassifier(min_samples_leaf=10, max_depth=4)\n",
    "classifier.fit(X, y_true)\n",
    "\n",
    "y_pred = classifier.predict(X)\n",
    "gm = MetricFrame(accuracy_score, y_true, y_pred, sensitive_features=sex)\n",
    "print(gm.overall)\n",
    "print(gm.by_group)"
   ]
  },
  {
   "cell_type": "code",
   "execution_count": 3,
   "id": "adjusted-confidentiality",
   "metadata": {},
   "outputs": [
    {
     "data": {
      "text/plain": [
       "0.16385487899758405"
      ]
     },
     "execution_count": 3,
     "metadata": {},
     "output_type": "execute_result"
    }
   ],
   "source": [
    "from fairlearn.metrics import selection_rate\n",
    "sr = MetricFrame(selection_rate, y_true, y_pred, sensitive_features=sex)\n",
    "sr.overall"
   ]
  },
  {
   "cell_type": "code",
   "execution_count": null,
   "id": "according-priest",
   "metadata": {},
   "outputs": [],
   "source": [
    "from raiwidgets import FairnessDashboard\n",
    "\n",
    "FairnessDashboard(sensitive_features=sex,\n",
    "                    #sensitive_feature_names=['sex'],\n",
    "                    y_true=y_true,\n",
    "                    y_pred={\"initial model\": y_pred}) "
   ]
  },
  {
   "cell_type": "code",
   "execution_count": null,
   "id": "parental-juvenile",
   "metadata": {},
   "outputs": [],
   "source": []
  }
 ],
 "metadata": {
  "kernelspec": {
   "display_name": "Python 3",
   "language": "python",
   "name": "python3"
  },
  "language_info": {
   "codemirror_mode": {
    "name": "ipython",
    "version": 3
   },
   "file_extension": ".py",
   "mimetype": "text/x-python",
   "name": "python",
   "nbconvert_exporter": "python",
   "pygments_lexer": "ipython3",
   "version": "3.8.8-final"
  }
 },
 "nbformat": 4,
 "nbformat_minor": 5
}