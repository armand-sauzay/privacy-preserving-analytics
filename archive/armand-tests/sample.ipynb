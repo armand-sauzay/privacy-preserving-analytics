{
 "metadata": {
  "language_info": {
   "codemirror_mode": {
    "name": "ipython",
    "version": 3
   },
   "file_extension": ".py",
   "mimetype": "text/x-python",
   "name": "python",
   "nbconvert_exporter": "python",
   "pygments_lexer": "ipython3",
   "version": "3.9.1-final"
  },
  "orig_nbformat": 2,
  "kernelspec": {
   "name": "python3",
   "display_name": "Python 3.9.1 64-bit ('test': conda)",
   "metadata": {
    "interpreter": {
     "hash": "94e314bcb2e2c94098a96ce8345f3056e80c3e177e83b5f756ccedf62ae30c5b"
    }
   }
  }
 },
 "nbformat": 4,
 "nbformat_minor": 2,
 "cells": [
  {
   "cell_type": "code",
   "execution_count": 58,
   "metadata": {},
   "outputs": [
    {
     "output_type": "stream",
     "name": "stdout",
     "text": [
      "Collecting imblearn\n",
      "  Downloading imblearn-0.0-py2.py3-none-any.whl (1.9 kB)\n",
      "Collecting imbalanced-learn\n",
      "  Downloading imbalanced_learn-0.8.0-py3-none-any.whl (206 kB)\n",
      "\u001b[K     |████████████████████████████████| 206 kB 229 kB/s \n",
      "\u001b[?25hRequirement already satisfied: scikit-learn>=0.24 in /Users/Armand/anaconda3/envs/test/lib/python3.9/site-packages (from imbalanced-learn->imblearn) (0.24.1)\n",
      "Requirement already satisfied: numpy>=1.13.3 in /Users/Armand/anaconda3/envs/test/lib/python3.9/site-packages (from imbalanced-learn->imblearn) (1.20.2)\n",
      "Requirement already satisfied: joblib>=0.11 in /Users/Armand/anaconda3/envs/test/lib/python3.9/site-packages (from imbalanced-learn->imblearn) (1.0.1)\n",
      "Requirement already satisfied: scipy>=0.19.1 in /Users/Armand/anaconda3/envs/test/lib/python3.9/site-packages (from imbalanced-learn->imblearn) (1.6.2)\n",
      "Requirement already satisfied: threadpoolctl>=2.0.0 in /Users/Armand/anaconda3/envs/test/lib/python3.9/site-packages (from scikit-learn>=0.24->imbalanced-learn->imblearn) (2.1.0)\n",
      "Installing collected packages: imbalanced-learn, imblearn\n",
      "Successfully installed imbalanced-learn-0.8.0 imblearn-0.0\n",
      "Note: you may need to restart the kernel to use updated packages.\n"
     ]
    }
   ],
   "source": [
    "pip install imblearn"
   ]
  },
  {
   "cell_type": "code",
   "execution_count": 1,
   "metadata": {},
   "outputs": [],
   "source": [
    "\n",
    "import os \n",
    "import numpy as np\n",
    "import pandas as pd\n",
    "\n",
    "from sklearn.model_selection import train_test_split\n",
    "import bz2\n",
    "from sklearn.datasets import make_classification\n",
    "pd.set_option('display.max_colwidth', None)\n",
    "pd.set_option('display.max_columns', None)\n",
    "from collections import Counter\n",
    "from imblearn.under_sampling import RandomUnderSampler\n",
    "import json"
   ]
  },
  {
   "cell_type": "code",
   "execution_count": 2,
   "metadata": {},
   "outputs": [],
   "source": [
    "import make_csv_imp"
   ]
  },
  {
   "cell_type": "code",
   "execution_count": 3,
   "metadata": {},
   "outputs": [
    {
     "output_type": "stream",
     "name": "stdout",
     "text": [
      "reading data for 20130606\n",
      "shape of impressions is (1821350, 24)\n",
      "shape of clicks is (1289, 24)\n",
      "Resampled dataset shape Counter({0: 1820, 1: 1161})\n",
      "reading data for 20130607\n",
      "shape of impressions is (1805953, 24)\n",
      "shape of clicks is (1158, 24)\n",
      "Resampled dataset shape Counter({0: 1804, 1: 1055})\n",
      "shape of df is (2859, 21)\n",
      "shape of df_final is (5840, 21)\n"
     ]
    }
   ],
   "source": [
    "datashapes_final, df_final=make_csv_imp.make_full_week_dataset(['20130606', '20130607'], imp_frac_to_take=0.001)"
   ]
  },
  {
   "cell_type": "code",
   "execution_count": 3,
   "metadata": {},
   "outputs": [
    {
     "output_type": "stream",
     "name": "stdout",
     "text": [
      "reading data for 20130606\n",
      "shape of impressions is (1821350, 24)\n",
      "shape of clicks is (1289, 24)\n",
      "Resampled dataset shape Counter({0: 1820, 1: 1161})\n",
      "reading data for 20130607\n",
      "shape of impressions is (1805953, 24)\n",
      "shape of clicks is (1158, 24)\n",
      "Resampled dataset shape Counter({0: 1804, 1: 1055})\n",
      "shape of df is (2859, 21)\n",
      "shape of df_final is (5840, 21)\n",
      "reading data for 20130608\n",
      "shape of impressions is (1634830, 24)\n",
      "shape of clicks is (1302, 24)\n",
      "Resampled dataset shape Counter({0: 1633, 1: 1165})\n",
      "shape of df is (2798, 21)\n",
      "shape of df_final is (8638, 21)\n",
      "reading data for 20130609\n",
      "shape of impressions is (1651524, 24)\n",
      "shape of clicks is (1250, 24)\n",
      "Resampled dataset shape Counter({0: 1650, 1: 1143})\n",
      "shape of df is (2793, 21)\n",
      "shape of df_final is (11431, 21)\n",
      "reading data for 20130610\n",
      "shape of impressions is (1920370, 24)\n",
      "shape of clicks is (1779, 24)\n",
      "Resampled dataset shape Counter({0: 1918, 1: 1535})\n",
      "shape of df is (3453, 21)\n",
      "shape of df_final is (14884, 21)\n",
      "reading data for 20130611\n",
      "shape of impressions is (1745722, 24)\n",
      "shape of clicks is (1593, 24)\n",
      "Resampled dataset shape Counter({0: 1744, 1: 1391})\n",
      "shape of df is (3135, 21)\n",
      "shape of df_final is (18019, 21)\n",
      "reading data for 20130612\n",
      "shape of impressions is (1657338, 24)\n",
      "shape of clicks is (1607, 24)\n",
      "Resampled dataset shape Counter({0: 1655, 1: 1369})\n",
      "shape of df is (3024, 21)\n",
      "shape of df_final is (21043, 21)\n",
      "reading data for 20130606\n",
      "shape of impressions is (1821350, 24)\n",
      "shape of clicks is (1289, 24)\n",
      "Resampled dataset shape Counter({0: 3640, 1: 1161})\n",
      "reading data for 20130607\n",
      "shape of impressions is (1805953, 24)\n",
      "shape of clicks is (1158, 24)\n",
      "Resampled dataset shape Counter({0: 3609, 1: 1055})\n",
      "shape of df is (4664, 21)\n",
      "shape of df_final is (9465, 21)\n",
      "reading data for 20130608\n",
      "shape of impressions is (1634830, 24)\n",
      "shape of clicks is (1302, 24)\n",
      "Resampled dataset shape Counter({0: 3267, 1: 1165})\n",
      "shape of df is (4432, 21)\n",
      "shape of df_final is (13897, 21)\n",
      "reading data for 20130609\n",
      "shape of impressions is (1651524, 24)\n",
      "shape of clicks is (1250, 24)\n",
      "Resampled dataset shape Counter({0: 3300, 1: 1143})\n",
      "shape of df is (4443, 21)\n",
      "shape of df_final is (18340, 21)\n",
      "reading data for 20130610\n",
      "shape of impressions is (1920370, 24)\n",
      "shape of clicks is (1779, 24)\n",
      "Resampled dataset shape Counter({0: 3837, 1: 1535})\n",
      "shape of df is (5372, 21)\n",
      "shape of df_final is (23712, 21)\n",
      "reading data for 20130611\n",
      "shape of impressions is (1745722, 24)\n",
      "shape of clicks is (1593, 24)\n",
      "Resampled dataset shape Counter({0: 3488, 1: 1391})\n",
      "shape of df is (4879, 21)\n",
      "shape of df_final is (28591, 21)\n",
      "reading data for 20130612\n",
      "shape of impressions is (1657338, 24)\n",
      "shape of clicks is (1607, 24)\n",
      "Resampled dataset shape Counter({0: 3311, 1: 1369})\n",
      "shape of df is (4680, 21)\n",
      "shape of df_final is (33271, 21)\n",
      "reading data for 20130606\n",
      "shape of impressions is (1821350, 24)\n",
      "shape of clicks is (1289, 24)\n",
      "Resampled dataset shape Counter({0: 9100, 1: 1161})\n",
      "reading data for 20130607\n",
      "shape of impressions is (1805953, 24)\n",
      "shape of clicks is (1158, 24)\n",
      "Resampled dataset shape Counter({0: 9024, 1: 1055})\n",
      "shape of df is (10079, 21)\n",
      "shape of df_final is (20340, 21)\n",
      "reading data for 20130608\n",
      "shape of impressions is (1634830, 24)\n",
      "shape of clicks is (1302, 24)\n",
      "Resampled dataset shape Counter({0: 8168, 1: 1165})\n",
      "shape of df is (9333, 21)\n",
      "shape of df_final is (29673, 21)\n",
      "reading data for 20130609\n",
      "shape of impressions is (1651524, 24)\n",
      "shape of clicks is (1250, 24)\n",
      "Resampled dataset shape Counter({0: 8251, 1: 1143})\n",
      "shape of df is (9394, 21)\n",
      "shape of df_final is (39067, 21)\n",
      "reading data for 20130610\n",
      "shape of impressions is (1920370, 24)\n",
      "shape of clicks is (1779, 24)\n",
      "Resampled dataset shape Counter({0: 9594, 1: 1535})\n",
      "shape of df is (11129, 21)\n",
      "shape of df_final is (50196, 21)\n",
      "reading data for 20130611\n",
      "shape of impressions is (1745722, 24)\n",
      "shape of clicks is (1593, 24)\n",
      "Resampled dataset shape Counter({0: 8721, 1: 1391})\n",
      "shape of df is (10112, 21)\n",
      "shape of df_final is (60308, 21)\n",
      "reading data for 20130612\n",
      "shape of impressions is (1657338, 24)\n",
      "shape of clicks is (1607, 24)\n",
      "Resampled dataset shape Counter({0: 8279, 1: 1369})\n",
      "shape of df is (9648, 21)\n",
      "shape of df_final is (69956, 21)\n",
      "reading data for 20130606\n",
      "shape of impressions is (1821350, 24)\n",
      "shape of clicks is (1289, 24)\n",
      "Resampled dataset shape Counter({0: 18201, 1: 1161})\n",
      "reading data for 20130607\n",
      "shape of impressions is (1805953, 24)\n",
      "shape of clicks is (1158, 24)\n",
      "Resampled dataset shape Counter({0: 18048, 1: 1055})\n",
      "shape of df is (19103, 21)\n",
      "shape of df_final is (38465, 21)\n",
      "reading data for 20130608\n",
      "shape of impressions is (1634830, 24)\n",
      "shape of clicks is (1302, 24)\n",
      "Resampled dataset shape Counter({0: 16336, 1: 1165})\n",
      "shape of df is (17501, 21)\n",
      "shape of df_final is (55966, 21)\n",
      "reading data for 20130609\n",
      "shape of impressions is (1651524, 24)\n",
      "shape of clicks is (1250, 24)\n",
      "Resampled dataset shape Counter({0: 16503, 1: 1143})\n",
      "shape of df is (17646, 21)\n",
      "shape of df_final is (73612, 21)\n",
      "reading data for 20130610\n",
      "shape of impressions is (1920370, 24)\n",
      "shape of clicks is (1779, 24)\n",
      "Resampled dataset shape Counter({0: 19188, 1: 1535})\n",
      "shape of df is (20723, 21)\n",
      "shape of df_final is (94335, 21)\n",
      "reading data for 20130611\n",
      "shape of impressions is (1745722, 24)\n",
      "shape of clicks is (1593, 24)\n",
      "Resampled dataset shape Counter({0: 17443, 1: 1391})\n",
      "shape of df is (18834, 21)\n",
      "shape of df_final is (113169, 21)\n",
      "reading data for 20130612\n",
      "shape of impressions is (1657338, 24)\n",
      "shape of clicks is (1607, 24)\n",
      "Resampled dataset shape Counter({0: 16559, 1: 1369})\n",
      "shape of df is (17928, 21)\n",
      "shape of df_final is (131097, 21)\n",
      "reading data for 20130606\n",
      "shape of impressions is (1821350, 24)\n",
      "shape of clicks is (1289, 24)\n",
      "Resampled dataset shape Counter({0: 364037, 1: 1161})\n",
      "reading data for 20130607\n",
      "shape of impressions is (1805953, 24)\n",
      "shape of clicks is (1158, 24)\n",
      "Resampled dataset shape Counter({0: 360979, 1: 1055})\n",
      "shape of df is (362034, 21)\n",
      "shape of df_final is (727232, 21)\n",
      "reading data for 20130608\n",
      "shape of impressions is (1634830, 24)\n",
      "shape of clicks is (1302, 24)\n",
      "Resampled dataset shape Counter({0: 326733, 1: 1165})\n",
      "shape of df is (327898, 21)\n",
      "shape of df_final is (1055130, 21)\n",
      "reading data for 20130609\n",
      "shape of impressions is (1651524, 24)\n",
      "shape of clicks is (1250, 24)\n",
      "Resampled dataset shape Counter({0: 330076, 1: 1143})\n",
      "shape of df is (331219, 21)\n",
      "shape of df_final is (1386349, 21)\n",
      "reading data for 20130610\n",
      "shape of impressions is (1920370, 24)\n",
      "shape of clicks is (1779, 24)\n",
      "Resampled dataset shape Counter({0: 383767, 1: 1535})\n",
      "shape of df is (385302, 21)\n",
      "shape of df_final is (1771651, 21)\n",
      "reading data for 20130611\n",
      "shape of impressions is (1745722, 24)\n",
      "shape of clicks is (1593, 24)\n",
      "Resampled dataset shape Counter({0: 348866, 1: 1391})\n",
      "shape of df is (350257, 21)\n",
      "shape of df_final is (2121908, 21)\n",
      "reading data for 20130612\n",
      "shape of impressions is (1657338, 24)\n",
      "shape of clicks is (1607, 24)\n",
      "Resampled dataset shape Counter({0: 331193, 1: 1369})\n",
      "shape of df is (332562, 21)\n",
      "shape of df_final is (2454470, 21)\n",
      "reading data for 20130606\n",
      "shape of impressions is (1821350, 24)\n",
      "shape of clicks is (1289, 24)\n",
      "Resampled dataset shape Counter({0: 728075, 1: 1161})\n",
      "reading data for 20130607\n",
      "shape of impressions is (1805953, 24)\n",
      "shape of clicks is (1158, 24)\n",
      "Resampled dataset shape Counter({0: 721959, 1: 1055})\n",
      "shape of df is (723014, 21)\n",
      "shape of df_final is (1452250, 21)\n",
      "reading data for 20130608\n",
      "shape of impressions is (1634830, 24)\n",
      "shape of clicks is (1302, 24)\n",
      "Resampled dataset shape Counter({0: 653466, 1: 1165})\n",
      "shape of df is (654631, 21)\n",
      "shape of df_final is (2106881, 21)\n",
      "reading data for 20130609\n",
      "shape of impressions is (1651524, 24)\n",
      "shape of clicks is (1250, 24)\n",
      "Resampled dataset shape Counter({0: 660152, 1: 1143})\n",
      "shape of df is (661295, 21)\n",
      "shape of df_final is (2768176, 21)\n",
      "reading data for 20130610\n",
      "shape of impressions is (1920370, 24)\n",
      "shape of clicks is (1779, 24)\n",
      "Resampled dataset shape Counter({0: 767534, 1: 1535})\n",
      "shape of df is (769069, 21)\n",
      "shape of df_final is (3537245, 21)\n",
      "reading data for 20130611\n",
      "shape of impressions is (1745722, 24)\n",
      "shape of clicks is (1593, 24)\n",
      "Resampled dataset shape Counter({0: 697732, 1: 1391})\n",
      "shape of df is (699123, 21)\n",
      "shape of df_final is (4236368, 21)\n",
      "reading data for 20130612\n",
      "shape of impressions is (1657338, 24)\n",
      "shape of clicks is (1607, 24)\n",
      "Resampled dataset shape Counter({0: 662387, 1: 1369})\n",
      "shape of df is (663756, 21)\n",
      "shape of df_final is (4900124, 21)\n"
     ]
    },
    {
     "output_type": "error",
     "ename": "KeyboardInterrupt",
     "evalue": "",
     "traceback": [
      "\u001b[0;31m---------------------------------------------------------------------------\u001b[0m",
      "\u001b[0;31mKeyboardInterrupt\u001b[0m                         Traceback (most recent call last)",
      "\u001b[0;32m<ipython-input-3-55575430df57>\u001b[0m in \u001b[0;36m<module>\u001b[0;34m\u001b[0m\n\u001b[1;32m      1\u001b[0m \u001b[0mgrid_fracs\u001b[0m\u001b[0;34m=\u001b[0m\u001b[0;34m[\u001b[0m\u001b[0;36m0.001\u001b[0m\u001b[0;34m,\u001b[0m\u001b[0;36m0.002\u001b[0m\u001b[0;34m,\u001b[0m \u001b[0;36m0.005\u001b[0m\u001b[0;34m,\u001b[0m\u001b[0;36m0.01\u001b[0m\u001b[0;34m,\u001b[0m\u001b[0;36m0.2\u001b[0m\u001b[0;34m,\u001b[0m \u001b[0;36m0.4\u001b[0m\u001b[0;34m]\u001b[0m\u001b[0;34m\u001b[0m\u001b[0;34m\u001b[0m\u001b[0m\n\u001b[1;32m      2\u001b[0m \u001b[0;32mfor\u001b[0m \u001b[0mfrac\u001b[0m \u001b[0;32min\u001b[0m \u001b[0mgrid_fracs\u001b[0m\u001b[0;34m:\u001b[0m\u001b[0;34m\u001b[0m\u001b[0;34m\u001b[0m\u001b[0m\n\u001b[0;32m----> 3\u001b[0;31m     \u001b[0mmake_csv_imp\u001b[0m\u001b[0;34m.\u001b[0m\u001b[0mmake_full_week_dataset\u001b[0m\u001b[0;34m(\u001b[0m\u001b[0mimp_frac_to_take\u001b[0m\u001b[0;34m=\u001b[0m\u001b[0mfrac\u001b[0m\u001b[0;34m)\u001b[0m\u001b[0;34m\u001b[0m\u001b[0;34m\u001b[0m\u001b[0m\n\u001b[0m",
      "\u001b[0;32m~/Capstone/privacy-preserving-analytics/final/make_csv_imp.py\u001b[0m in \u001b[0;36mmake_full_week_dataset\u001b[0;34m(dates_list, imp_frac_to_take)\u001b[0m\n\u001b[1;32m    192\u001b[0m     \u001b[0msorted_df\u001b[0m\u001b[0;34m=\u001b[0m\u001b[0msorted_df\u001b[0m\u001b[0;34m[\u001b[0m\u001b[0msorted_df\u001b[0m\u001b[0;34m[\u001b[0m\u001b[0;34m'User Profile IDs_impressions'\u001b[0m\u001b[0;34m]\u001b[0m\u001b[0;34m.\u001b[0m\u001b[0misna\u001b[0m\u001b[0;34m(\u001b[0m\u001b[0;34m)\u001b[0m\u001b[0;34m==\u001b[0m\u001b[0;36m0\u001b[0m\u001b[0;34m]\u001b[0m\u001b[0;34m\u001b[0m\u001b[0;34m\u001b[0m\u001b[0m\n\u001b[1;32m    193\u001b[0m     \u001b[0ms\u001b[0m\u001b[0;34m=\u001b[0m\u001b[0msorted_df\u001b[0m\u001b[0;34m[\u001b[0m\u001b[0;34m'User Profile IDs_impressions'\u001b[0m\u001b[0;34m]\u001b[0m\u001b[0;34m.\u001b[0m\u001b[0mstr\u001b[0m\u001b[0;34m.\u001b[0m\u001b[0msplit\u001b[0m\u001b[0;34m(\u001b[0m\u001b[0mpat\u001b[0m\u001b[0;34m=\u001b[0m\u001b[0;34m','\u001b[0m\u001b[0;34m)\u001b[0m\u001b[0;34m\u001b[0m\u001b[0;34m\u001b[0m\u001b[0m\n\u001b[0;32m--> 194\u001b[0;31m     \u001b[0mdummies_to_concatenate\u001b[0m\u001b[0;34m=\u001b[0m\u001b[0mpd\u001b[0m\u001b[0;34m.\u001b[0m\u001b[0mget_dummies\u001b[0m\u001b[0;34m(\u001b[0m\u001b[0ms\u001b[0m\u001b[0;34m.\u001b[0m\u001b[0mapply\u001b[0m\u001b[0;34m(\u001b[0m\u001b[0mpd\u001b[0m\u001b[0;34m.\u001b[0m\u001b[0mSeries\u001b[0m\u001b[0;34m)\u001b[0m\u001b[0;34m.\u001b[0m\u001b[0mstack\u001b[0m\u001b[0;34m(\u001b[0m\u001b[0;34m)\u001b[0m\u001b[0;34m)\u001b[0m\u001b[0;34m.\u001b[0m\u001b[0msum\u001b[0m\u001b[0;34m(\u001b[0m\u001b[0mlevel\u001b[0m\u001b[0;34m=\u001b[0m\u001b[0;36m0\u001b[0m\u001b[0;34m)\u001b[0m\u001b[0;34m\u001b[0m\u001b[0;34m\u001b[0m\u001b[0m\n\u001b[0m\u001b[1;32m    195\u001b[0m     \u001b[0mdf_dummy\u001b[0m\u001b[0;34m=\u001b[0m\u001b[0mpd\u001b[0m\u001b[0;34m.\u001b[0m\u001b[0mconcat\u001b[0m\u001b[0;34m(\u001b[0m\u001b[0;34m[\u001b[0m\u001b[0msorted_df\u001b[0m\u001b[0;34m,\u001b[0m \u001b[0mdummies_to_concatenate\u001b[0m\u001b[0;34m]\u001b[0m\u001b[0;34m,\u001b[0m \u001b[0maxis\u001b[0m\u001b[0;34m=\u001b[0m\u001b[0;36m1\u001b[0m\u001b[0;34m)\u001b[0m\u001b[0;34m\u001b[0m\u001b[0;34m\u001b[0m\u001b[0m\n\u001b[1;32m    196\u001b[0m     \u001b[0mdf_dummy\u001b[0m\u001b[0;34m.\u001b[0m\u001b[0mto_csv\u001b[0m\u001b[0;34m(\u001b[0m\u001b[0;34m'/Users/Armand/Capstone/privacy-preserving-analytics/final/0.dataset/dummy/impression_balanced_'\u001b[0m\u001b[0;34m+\u001b[0m\u001b[0mstr\u001b[0m\u001b[0;34m(\u001b[0m\u001b[0mimp_frac_to_take\u001b[0m\u001b[0;34m)\u001b[0m\u001b[0;34m+\u001b[0m\u001b[0;34m'.csv'\u001b[0m\u001b[0;34m)\u001b[0m\u001b[0;34m\u001b[0m\u001b[0;34m\u001b[0m\u001b[0m\n",
      "\u001b[0;32m~/anaconda3/envs/test/lib/python3.9/site-packages/pandas/core/generic.py\u001b[0m in \u001b[0;36msum\u001b[0;34m(self, axis, skipna, level, numeric_only, min_count, **kwargs)\u001b[0m\n\u001b[1;32m  11069\u001b[0m             \u001b[0;34m**\u001b[0m\u001b[0mkwargs\u001b[0m\u001b[0;34m,\u001b[0m\u001b[0;34m\u001b[0m\u001b[0;34m\u001b[0m\u001b[0m\n\u001b[1;32m  11070\u001b[0m         ):\n\u001b[0;32m> 11071\u001b[0;31m             return NDFrame.sum(\n\u001b[0m\u001b[1;32m  11072\u001b[0m                 \u001b[0mself\u001b[0m\u001b[0;34m,\u001b[0m \u001b[0maxis\u001b[0m\u001b[0;34m,\u001b[0m \u001b[0mskipna\u001b[0m\u001b[0;34m,\u001b[0m \u001b[0mlevel\u001b[0m\u001b[0;34m,\u001b[0m \u001b[0mnumeric_only\u001b[0m\u001b[0;34m,\u001b[0m \u001b[0mmin_count\u001b[0m\u001b[0;34m,\u001b[0m \u001b[0;34m**\u001b[0m\u001b[0mkwargs\u001b[0m\u001b[0;34m\u001b[0m\u001b[0;34m\u001b[0m\u001b[0m\n\u001b[1;32m  11073\u001b[0m             )\n",
      "\u001b[0;32m~/anaconda3/envs/test/lib/python3.9/site-packages/pandas/core/generic.py\u001b[0m in \u001b[0;36msum\u001b[0;34m(self, axis, skipna, level, numeric_only, min_count, **kwargs)\u001b[0m\n\u001b[1;32m  10789\u001b[0m         \u001b[0;34m**\u001b[0m\u001b[0mkwargs\u001b[0m\u001b[0;34m,\u001b[0m\u001b[0;34m\u001b[0m\u001b[0;34m\u001b[0m\u001b[0m\n\u001b[1;32m  10790\u001b[0m     ):\n\u001b[0;32m> 10791\u001b[0;31m         return self._min_count_stat_function(\n\u001b[0m\u001b[1;32m  10792\u001b[0m             \u001b[0;34m\"sum\"\u001b[0m\u001b[0;34m,\u001b[0m \u001b[0mnanops\u001b[0m\u001b[0;34m.\u001b[0m\u001b[0mnansum\u001b[0m\u001b[0;34m,\u001b[0m \u001b[0maxis\u001b[0m\u001b[0;34m,\u001b[0m \u001b[0mskipna\u001b[0m\u001b[0;34m,\u001b[0m \u001b[0mlevel\u001b[0m\u001b[0;34m,\u001b[0m \u001b[0mnumeric_only\u001b[0m\u001b[0;34m,\u001b[0m \u001b[0mmin_count\u001b[0m\u001b[0;34m,\u001b[0m \u001b[0;34m**\u001b[0m\u001b[0mkwargs\u001b[0m\u001b[0;34m\u001b[0m\u001b[0;34m\u001b[0m\u001b[0m\n\u001b[1;32m  10793\u001b[0m         )\n",
      "\u001b[0;32m~/anaconda3/envs/test/lib/python3.9/site-packages/pandas/core/generic.py\u001b[0m in \u001b[0;36m_min_count_stat_function\u001b[0;34m(self, name, func, axis, skipna, level, numeric_only, min_count, **kwargs)\u001b[0m\n\u001b[1;32m  10768\u001b[0m             \u001b[0maxis\u001b[0m \u001b[0;34m=\u001b[0m \u001b[0mself\u001b[0m\u001b[0;34m.\u001b[0m\u001b[0m_stat_axis_number\u001b[0m\u001b[0;34m\u001b[0m\u001b[0;34m\u001b[0m\u001b[0m\n\u001b[1;32m  10769\u001b[0m         \u001b[0;32mif\u001b[0m \u001b[0mlevel\u001b[0m \u001b[0;32mis\u001b[0m \u001b[0;32mnot\u001b[0m \u001b[0;32mNone\u001b[0m\u001b[0;34m:\u001b[0m\u001b[0;34m\u001b[0m\u001b[0;34m\u001b[0m\u001b[0m\n\u001b[0;32m> 10770\u001b[0;31m             return self._agg_by_level(\n\u001b[0m\u001b[1;32m  10771\u001b[0m                 \u001b[0mname\u001b[0m\u001b[0;34m,\u001b[0m \u001b[0maxis\u001b[0m\u001b[0;34m=\u001b[0m\u001b[0maxis\u001b[0m\u001b[0;34m,\u001b[0m \u001b[0mlevel\u001b[0m\u001b[0;34m=\u001b[0m\u001b[0mlevel\u001b[0m\u001b[0;34m,\u001b[0m \u001b[0mskipna\u001b[0m\u001b[0;34m=\u001b[0m\u001b[0mskipna\u001b[0m\u001b[0;34m,\u001b[0m \u001b[0mmin_count\u001b[0m\u001b[0;34m=\u001b[0m\u001b[0mmin_count\u001b[0m\u001b[0;34m\u001b[0m\u001b[0;34m\u001b[0m\u001b[0m\n\u001b[1;32m  10772\u001b[0m             )\n",
      "\u001b[0;32m~/anaconda3/envs/test/lib/python3.9/site-packages/pandas/core/generic.py\u001b[0m in \u001b[0;36m_agg_by_level\u001b[0;34m(self, name, axis, level, skipna, **kwargs)\u001b[0m\n\u001b[1;32m  10557\u001b[0m         \u001b[0mgrouped\u001b[0m \u001b[0;34m=\u001b[0m \u001b[0mself\u001b[0m\u001b[0;34m.\u001b[0m\u001b[0mgroupby\u001b[0m\u001b[0;34m(\u001b[0m\u001b[0mlevel\u001b[0m\u001b[0;34m=\u001b[0m\u001b[0mlevel\u001b[0m\u001b[0;34m,\u001b[0m \u001b[0maxis\u001b[0m\u001b[0;34m=\u001b[0m\u001b[0maxis\u001b[0m\u001b[0;34m,\u001b[0m \u001b[0msort\u001b[0m\u001b[0;34m=\u001b[0m\u001b[0;32mFalse\u001b[0m\u001b[0;34m)\u001b[0m\u001b[0;34m\u001b[0m\u001b[0;34m\u001b[0m\u001b[0m\n\u001b[1;32m  10558\u001b[0m         \u001b[0;32mif\u001b[0m \u001b[0mhasattr\u001b[0m\u001b[0;34m(\u001b[0m\u001b[0mgrouped\u001b[0m\u001b[0;34m,\u001b[0m \u001b[0mname\u001b[0m\u001b[0;34m)\u001b[0m \u001b[0;32mand\u001b[0m \u001b[0mskipna\u001b[0m\u001b[0;34m:\u001b[0m\u001b[0;34m\u001b[0m\u001b[0;34m\u001b[0m\u001b[0m\n\u001b[0;32m> 10559\u001b[0;31m             \u001b[0;32mreturn\u001b[0m \u001b[0mgetattr\u001b[0m\u001b[0;34m(\u001b[0m\u001b[0mgrouped\u001b[0m\u001b[0;34m,\u001b[0m \u001b[0mname\u001b[0m\u001b[0;34m)\u001b[0m\u001b[0;34m(\u001b[0m\u001b[0;34m**\u001b[0m\u001b[0mkwargs\u001b[0m\u001b[0;34m)\u001b[0m\u001b[0;34m\u001b[0m\u001b[0;34m\u001b[0m\u001b[0m\n\u001b[0m\u001b[1;32m  10560\u001b[0m         \u001b[0maxis\u001b[0m \u001b[0;34m=\u001b[0m \u001b[0mself\u001b[0m\u001b[0;34m.\u001b[0m\u001b[0m_get_axis_number\u001b[0m\u001b[0;34m(\u001b[0m\u001b[0maxis\u001b[0m\u001b[0;34m)\u001b[0m\u001b[0;34m\u001b[0m\u001b[0;34m\u001b[0m\u001b[0m\n\u001b[1;32m  10561\u001b[0m         \u001b[0mmethod\u001b[0m \u001b[0;34m=\u001b[0m \u001b[0mgetattr\u001b[0m\u001b[0;34m(\u001b[0m\u001b[0mtype\u001b[0m\u001b[0;34m(\u001b[0m\u001b[0mself\u001b[0m\u001b[0;34m)\u001b[0m\u001b[0;34m,\u001b[0m \u001b[0mname\u001b[0m\u001b[0;34m)\u001b[0m\u001b[0;34m\u001b[0m\u001b[0;34m\u001b[0m\u001b[0m\n",
      "\u001b[0;32m~/anaconda3/envs/test/lib/python3.9/site-packages/pandas/core/groupby/groupby.py\u001b[0m in \u001b[0;36msum\u001b[0;34m(self, numeric_only, min_count)\u001b[0m\n\u001b[1;32m   1648\u001b[0m         \u001b[0;31m# _agg_general() returns. GH #31422\u001b[0m\u001b[0;34m\u001b[0m\u001b[0;34m\u001b[0m\u001b[0;34m\u001b[0m\u001b[0m\n\u001b[1;32m   1649\u001b[0m         \u001b[0;32mwith\u001b[0m \u001b[0mcom\u001b[0m\u001b[0;34m.\u001b[0m\u001b[0mtemp_setattr\u001b[0m\u001b[0;34m(\u001b[0m\u001b[0mself\u001b[0m\u001b[0;34m,\u001b[0m \u001b[0;34m\"observed\"\u001b[0m\u001b[0;34m,\u001b[0m \u001b[0;32mTrue\u001b[0m\u001b[0;34m)\u001b[0m\u001b[0;34m:\u001b[0m\u001b[0;34m\u001b[0m\u001b[0;34m\u001b[0m\u001b[0m\n\u001b[0;32m-> 1650\u001b[0;31m             result = self._agg_general(\n\u001b[0m\u001b[1;32m   1651\u001b[0m                 \u001b[0mnumeric_only\u001b[0m\u001b[0;34m=\u001b[0m\u001b[0mnumeric_only\u001b[0m\u001b[0;34m,\u001b[0m\u001b[0;34m\u001b[0m\u001b[0;34m\u001b[0m\u001b[0m\n\u001b[1;32m   1652\u001b[0m                 \u001b[0mmin_count\u001b[0m\u001b[0;34m=\u001b[0m\u001b[0mmin_count\u001b[0m\u001b[0;34m,\u001b[0m\u001b[0;34m\u001b[0m\u001b[0;34m\u001b[0m\u001b[0m\n",
      "\u001b[0;32m~/anaconda3/envs/test/lib/python3.9/site-packages/pandas/core/groupby/groupby.py\u001b[0m in \u001b[0;36m_agg_general\u001b[0;34m(self, numeric_only, min_count, alias, npfunc)\u001b[0m\n\u001b[1;32m   1022\u001b[0m             \u001b[0mresult\u001b[0m \u001b[0;34m=\u001b[0m \u001b[0;32mNone\u001b[0m\u001b[0;34m\u001b[0m\u001b[0;34m\u001b[0m\u001b[0m\n\u001b[1;32m   1023\u001b[0m             \u001b[0;32mtry\u001b[0m\u001b[0;34m:\u001b[0m\u001b[0;34m\u001b[0m\u001b[0;34m\u001b[0m\u001b[0m\n\u001b[0;32m-> 1024\u001b[0;31m                 result = self._cython_agg_general(\n\u001b[0m\u001b[1;32m   1025\u001b[0m                     \u001b[0mhow\u001b[0m\u001b[0;34m=\u001b[0m\u001b[0malias\u001b[0m\u001b[0;34m,\u001b[0m\u001b[0;34m\u001b[0m\u001b[0;34m\u001b[0m\u001b[0m\n\u001b[1;32m   1026\u001b[0m                     \u001b[0malt\u001b[0m\u001b[0;34m=\u001b[0m\u001b[0mnpfunc\u001b[0m\u001b[0;34m,\u001b[0m\u001b[0;34m\u001b[0m\u001b[0;34m\u001b[0m\u001b[0m\n",
      "\u001b[0;32m~/anaconda3/envs/test/lib/python3.9/site-packages/pandas/core/groupby/generic.py\u001b[0m in \u001b[0;36m_cython_agg_general\u001b[0;34m(self, how, alt, numeric_only, min_count)\u001b[0m\n\u001b[1;32m   1013\u001b[0m         \u001b[0mself\u001b[0m\u001b[0;34m,\u001b[0m \u001b[0mhow\u001b[0m\u001b[0;34m:\u001b[0m \u001b[0mstr\u001b[0m\u001b[0;34m,\u001b[0m \u001b[0malt\u001b[0m\u001b[0;34m=\u001b[0m\u001b[0;32mNone\u001b[0m\u001b[0;34m,\u001b[0m \u001b[0mnumeric_only\u001b[0m\u001b[0;34m:\u001b[0m \u001b[0mbool\u001b[0m \u001b[0;34m=\u001b[0m \u001b[0;32mTrue\u001b[0m\u001b[0;34m,\u001b[0m \u001b[0mmin_count\u001b[0m\u001b[0;34m:\u001b[0m \u001b[0mint\u001b[0m \u001b[0;34m=\u001b[0m \u001b[0;34m-\u001b[0m\u001b[0;36m1\u001b[0m\u001b[0;34m\u001b[0m\u001b[0;34m\u001b[0m\u001b[0m\n\u001b[1;32m   1014\u001b[0m     ) -> DataFrame:\n\u001b[0;32m-> 1015\u001b[0;31m         agg_mgr = self._cython_agg_blocks(\n\u001b[0m\u001b[1;32m   1016\u001b[0m             \u001b[0mhow\u001b[0m\u001b[0;34m,\u001b[0m \u001b[0malt\u001b[0m\u001b[0;34m=\u001b[0m\u001b[0malt\u001b[0m\u001b[0;34m,\u001b[0m \u001b[0mnumeric_only\u001b[0m\u001b[0;34m=\u001b[0m\u001b[0mnumeric_only\u001b[0m\u001b[0;34m,\u001b[0m \u001b[0mmin_count\u001b[0m\u001b[0;34m=\u001b[0m\u001b[0mmin_count\u001b[0m\u001b[0;34m\u001b[0m\u001b[0;34m\u001b[0m\u001b[0m\n\u001b[1;32m   1017\u001b[0m         )\n",
      "\u001b[0;32m~/anaconda3/envs/test/lib/python3.9/site-packages/pandas/core/groupby/generic.py\u001b[0m in \u001b[0;36m_cython_agg_blocks\u001b[0;34m(self, how, alt, numeric_only, min_count)\u001b[0m\n\u001b[1;32m   1116\u001b[0m         \u001b[0;31m#  continue and exclude the block\u001b[0m\u001b[0;34m\u001b[0m\u001b[0;34m\u001b[0m\u001b[0;34m\u001b[0m\u001b[0m\n\u001b[1;32m   1117\u001b[0m         \u001b[0;31m# NotImplementedError -> \"ohlc\" with wrong dtype\u001b[0m\u001b[0;34m\u001b[0m\u001b[0;34m\u001b[0m\u001b[0;34m\u001b[0m\u001b[0m\n\u001b[0;32m-> 1118\u001b[0;31m         \u001b[0mnew_mgr\u001b[0m \u001b[0;34m=\u001b[0m \u001b[0mdata\u001b[0m\u001b[0;34m.\u001b[0m\u001b[0mapply\u001b[0m\u001b[0;34m(\u001b[0m\u001b[0mblk_func\u001b[0m\u001b[0;34m,\u001b[0m \u001b[0mignore_failures\u001b[0m\u001b[0;34m=\u001b[0m\u001b[0;32mTrue\u001b[0m\u001b[0;34m)\u001b[0m\u001b[0;34m\u001b[0m\u001b[0;34m\u001b[0m\u001b[0m\n\u001b[0m\u001b[1;32m   1119\u001b[0m \u001b[0;34m\u001b[0m\u001b[0m\n\u001b[1;32m   1120\u001b[0m         \u001b[0;32mif\u001b[0m \u001b[0;32mnot\u001b[0m \u001b[0mlen\u001b[0m\u001b[0;34m(\u001b[0m\u001b[0mnew_mgr\u001b[0m\u001b[0;34m)\u001b[0m\u001b[0;34m:\u001b[0m\u001b[0;34m\u001b[0m\u001b[0;34m\u001b[0m\u001b[0m\n",
      "\u001b[0;32m~/anaconda3/envs/test/lib/python3.9/site-packages/pandas/core/internals/managers.py\u001b[0m in \u001b[0;36mapply\u001b[0;34m(self, f, align_keys, ignore_failures, **kwargs)\u001b[0m\n\u001b[1;32m    423\u001b[0m             \u001b[0;32mtry\u001b[0m\u001b[0;34m:\u001b[0m\u001b[0;34m\u001b[0m\u001b[0;34m\u001b[0m\u001b[0m\n\u001b[1;32m    424\u001b[0m                 \u001b[0;32mif\u001b[0m \u001b[0mcallable\u001b[0m\u001b[0;34m(\u001b[0m\u001b[0mf\u001b[0m\u001b[0;34m)\u001b[0m\u001b[0;34m:\u001b[0m\u001b[0;34m\u001b[0m\u001b[0;34m\u001b[0m\u001b[0m\n\u001b[0;32m--> 425\u001b[0;31m                     \u001b[0mapplied\u001b[0m \u001b[0;34m=\u001b[0m \u001b[0mb\u001b[0m\u001b[0;34m.\u001b[0m\u001b[0mapply\u001b[0m\u001b[0;34m(\u001b[0m\u001b[0mf\u001b[0m\u001b[0;34m,\u001b[0m \u001b[0;34m**\u001b[0m\u001b[0mkwargs\u001b[0m\u001b[0;34m)\u001b[0m\u001b[0;34m\u001b[0m\u001b[0;34m\u001b[0m\u001b[0m\n\u001b[0m\u001b[1;32m    426\u001b[0m                 \u001b[0;32melse\u001b[0m\u001b[0;34m:\u001b[0m\u001b[0;34m\u001b[0m\u001b[0;34m\u001b[0m\u001b[0m\n\u001b[1;32m    427\u001b[0m                     \u001b[0mapplied\u001b[0m \u001b[0;34m=\u001b[0m \u001b[0mgetattr\u001b[0m\u001b[0;34m(\u001b[0m\u001b[0mb\u001b[0m\u001b[0;34m,\u001b[0m \u001b[0mf\u001b[0m\u001b[0;34m)\u001b[0m\u001b[0;34m(\u001b[0m\u001b[0;34m**\u001b[0m\u001b[0mkwargs\u001b[0m\u001b[0;34m)\u001b[0m\u001b[0;34m\u001b[0m\u001b[0;34m\u001b[0m\u001b[0m\n",
      "\u001b[0;32m~/anaconda3/envs/test/lib/python3.9/site-packages/pandas/core/internals/blocks.py\u001b[0m in \u001b[0;36mapply\u001b[0;34m(self, func, **kwargs)\u001b[0m\n\u001b[1;32m    376\u001b[0m         \"\"\"\n\u001b[1;32m    377\u001b[0m         \u001b[0;32mwith\u001b[0m \u001b[0mnp\u001b[0m\u001b[0;34m.\u001b[0m\u001b[0merrstate\u001b[0m\u001b[0;34m(\u001b[0m\u001b[0mall\u001b[0m\u001b[0;34m=\u001b[0m\u001b[0;34m\"ignore\"\u001b[0m\u001b[0;34m)\u001b[0m\u001b[0;34m:\u001b[0m\u001b[0;34m\u001b[0m\u001b[0;34m\u001b[0m\u001b[0m\n\u001b[0;32m--> 378\u001b[0;31m             \u001b[0mresult\u001b[0m \u001b[0;34m=\u001b[0m \u001b[0mfunc\u001b[0m\u001b[0;34m(\u001b[0m\u001b[0mself\u001b[0m\u001b[0;34m.\u001b[0m\u001b[0mvalues\u001b[0m\u001b[0;34m,\u001b[0m \u001b[0;34m**\u001b[0m\u001b[0mkwargs\u001b[0m\u001b[0;34m)\u001b[0m\u001b[0;34m\u001b[0m\u001b[0;34m\u001b[0m\u001b[0m\n\u001b[0m\u001b[1;32m    379\u001b[0m \u001b[0;34m\u001b[0m\u001b[0m\n\u001b[1;32m    380\u001b[0m         \u001b[0;32mreturn\u001b[0m \u001b[0mself\u001b[0m\u001b[0;34m.\u001b[0m\u001b[0m_split_op_result\u001b[0m\u001b[0;34m(\u001b[0m\u001b[0mresult\u001b[0m\u001b[0;34m)\u001b[0m\u001b[0;34m\u001b[0m\u001b[0;34m\u001b[0m\u001b[0m\n",
      "\u001b[0;32m~/anaconda3/envs/test/lib/python3.9/site-packages/pandas/core/groupby/generic.py\u001b[0m in \u001b[0;36mblk_func\u001b[0;34m(bvalues)\u001b[0m\n\u001b[1;32m   1095\u001b[0m \u001b[0;34m\u001b[0m\u001b[0m\n\u001b[1;32m   1096\u001b[0m             \u001b[0;32mtry\u001b[0m\u001b[0;34m:\u001b[0m\u001b[0;34m\u001b[0m\u001b[0;34m\u001b[0m\u001b[0m\n\u001b[0;32m-> 1097\u001b[0;31m                 result = self.grouper._cython_operation(\n\u001b[0m\u001b[1;32m   1098\u001b[0m                     \u001b[0;34m\"aggregate\"\u001b[0m\u001b[0;34m,\u001b[0m \u001b[0mbvalues\u001b[0m\u001b[0;34m,\u001b[0m \u001b[0mhow\u001b[0m\u001b[0;34m,\u001b[0m \u001b[0maxis\u001b[0m\u001b[0;34m=\u001b[0m\u001b[0;36m1\u001b[0m\u001b[0;34m,\u001b[0m \u001b[0mmin_count\u001b[0m\u001b[0;34m=\u001b[0m\u001b[0mmin_count\u001b[0m\u001b[0;34m\u001b[0m\u001b[0;34m\u001b[0m\u001b[0m\n\u001b[1;32m   1099\u001b[0m                 )\n",
      "\u001b[0;32m~/anaconda3/envs/test/lib/python3.9/site-packages/pandas/core/groupby/ops.py\u001b[0m in \u001b[0;36m_cython_operation\u001b[0;34m(self, kind, values, how, axis, min_count, **kwargs)\u001b[0m\n\u001b[1;32m    627\u001b[0m             \u001b[0mresult\u001b[0m \u001b[0;34m=\u001b[0m \u001b[0mmaybe_fill\u001b[0m\u001b[0;34m(\u001b[0m\u001b[0mnp\u001b[0m\u001b[0;34m.\u001b[0m\u001b[0mempty\u001b[0m\u001b[0;34m(\u001b[0m\u001b[0mout_shape\u001b[0m\u001b[0;34m,\u001b[0m \u001b[0mdtype\u001b[0m\u001b[0;34m=\u001b[0m\u001b[0mout_dtype\u001b[0m\u001b[0;34m)\u001b[0m\u001b[0;34m,\u001b[0m \u001b[0mfill_value\u001b[0m\u001b[0;34m=\u001b[0m\u001b[0mnp\u001b[0m\u001b[0;34m.\u001b[0m\u001b[0mnan\u001b[0m\u001b[0;34m)\u001b[0m\u001b[0;34m\u001b[0m\u001b[0;34m\u001b[0m\u001b[0m\n\u001b[1;32m    628\u001b[0m             \u001b[0mcounts\u001b[0m \u001b[0;34m=\u001b[0m \u001b[0mnp\u001b[0m\u001b[0;34m.\u001b[0m\u001b[0mzeros\u001b[0m\u001b[0;34m(\u001b[0m\u001b[0mself\u001b[0m\u001b[0;34m.\u001b[0m\u001b[0mngroups\u001b[0m\u001b[0;34m,\u001b[0m \u001b[0mdtype\u001b[0m\u001b[0;34m=\u001b[0m\u001b[0mnp\u001b[0m\u001b[0;34m.\u001b[0m\u001b[0mint64\u001b[0m\u001b[0;34m)\u001b[0m\u001b[0;34m\u001b[0m\u001b[0;34m\u001b[0m\u001b[0m\n\u001b[0;32m--> 629\u001b[0;31m             \u001b[0mresult\u001b[0m \u001b[0;34m=\u001b[0m \u001b[0mself\u001b[0m\u001b[0;34m.\u001b[0m\u001b[0m_aggregate\u001b[0m\u001b[0;34m(\u001b[0m\u001b[0mresult\u001b[0m\u001b[0;34m,\u001b[0m \u001b[0mcounts\u001b[0m\u001b[0;34m,\u001b[0m \u001b[0mvalues\u001b[0m\u001b[0;34m,\u001b[0m \u001b[0mcodes\u001b[0m\u001b[0;34m,\u001b[0m \u001b[0mfunc\u001b[0m\u001b[0;34m,\u001b[0m \u001b[0mmin_count\u001b[0m\u001b[0;34m)\u001b[0m\u001b[0;34m\u001b[0m\u001b[0;34m\u001b[0m\u001b[0m\n\u001b[0m\u001b[1;32m    630\u001b[0m         \u001b[0;32melif\u001b[0m \u001b[0mkind\u001b[0m \u001b[0;34m==\u001b[0m \u001b[0;34m\"transform\"\u001b[0m\u001b[0;34m:\u001b[0m\u001b[0;34m\u001b[0m\u001b[0;34m\u001b[0m\u001b[0m\n\u001b[1;32m    631\u001b[0m             result = maybe_fill(\n",
      "\u001b[0;32m~/anaconda3/envs/test/lib/python3.9/site-packages/pandas/core/groupby/ops.py\u001b[0m in \u001b[0;36m_aggregate\u001b[0;34m(self, result, counts, values, comp_ids, agg_func, min_count)\u001b[0m\n\u001b[1;32m    670\u001b[0m             \u001b[0magg_func\u001b[0m\u001b[0;34m(\u001b[0m\u001b[0mresult\u001b[0m\u001b[0;34m,\u001b[0m \u001b[0mcounts\u001b[0m\u001b[0;34m,\u001b[0m \u001b[0mvalues\u001b[0m\u001b[0;34m,\u001b[0m \u001b[0mcomp_ids\u001b[0m\u001b[0;34m,\u001b[0m \u001b[0mmin_count\u001b[0m\u001b[0;34m,\u001b[0m \u001b[0mrank\u001b[0m\u001b[0;34m=\u001b[0m\u001b[0;36m1\u001b[0m\u001b[0;34m)\u001b[0m\u001b[0;34m\u001b[0m\u001b[0;34m\u001b[0m\u001b[0m\n\u001b[1;32m    671\u001b[0m         \u001b[0;32melse\u001b[0m\u001b[0;34m:\u001b[0m\u001b[0;34m\u001b[0m\u001b[0;34m\u001b[0m\u001b[0m\n\u001b[0;32m--> 672\u001b[0;31m             \u001b[0magg_func\u001b[0m\u001b[0;34m(\u001b[0m\u001b[0mresult\u001b[0m\u001b[0;34m,\u001b[0m \u001b[0mcounts\u001b[0m\u001b[0;34m,\u001b[0m \u001b[0mvalues\u001b[0m\u001b[0;34m,\u001b[0m \u001b[0mcomp_ids\u001b[0m\u001b[0;34m,\u001b[0m \u001b[0mmin_count\u001b[0m\u001b[0;34m)\u001b[0m\u001b[0;34m\u001b[0m\u001b[0;34m\u001b[0m\u001b[0m\n\u001b[0m\u001b[1;32m    673\u001b[0m \u001b[0;34m\u001b[0m\u001b[0m\n\u001b[1;32m    674\u001b[0m         \u001b[0;32mreturn\u001b[0m \u001b[0mresult\u001b[0m\u001b[0;34m\u001b[0m\u001b[0;34m\u001b[0m\u001b[0m\n",
      "\u001b[0;31mKeyboardInterrupt\u001b[0m: "
     ]
    }
   ],
   "source": [
    "grid_fracs=[0.001,0.002, 0.005,0.01,0.2, 0.4]\n",
    "for frac in grid_fracs:\n",
    "    make_csv_imp.make_full_week_dataset(imp_frac_to_take=frac)\n"
   ]
  },
  {
   "cell_type": "code",
   "execution_count": 3,
   "metadata": {},
   "outputs": [
    {
     "output_type": "stream",
     "name": "stdout",
     "text": [
      "reading data for 20130606\n",
      "shape of impressions is (1821350, 24)\n",
      "shape of clicks is (1289, 24)\n",
      "Resampled dataset shape Counter({0: 1820, 1: 1161})\n",
      "reading data for 20130607\n",
      "shape of impressions is (1805953, 24)\n",
      "shape of clicks is (1158, 24)\n",
      "Resampled dataset shape Counter({0: 1804, 1: 1055})\n",
      "shape of df is (2859, 21)\n",
      "shape of df_final is (5840, 21)\n",
      "reading data for 20130608\n",
      "shape of impressions is (1634830, 24)\n",
      "shape of clicks is (1302, 24)\n",
      "Resampled dataset shape Counter({0: 1633, 1: 1165})\n",
      "shape of df is (2798, 21)\n",
      "shape of df_final is (8638, 21)\n",
      "reading data for 20130609\n",
      "shape of impressions is (1651524, 24)\n",
      "shape of clicks is (1250, 24)\n",
      "Resampled dataset shape Counter({0: 1650, 1: 1143})\n",
      "shape of df is (2793, 21)\n",
      "shape of df_final is (11431, 21)\n",
      "reading data for 20130610\n",
      "shape of impressions is (1920370, 24)\n",
      "shape of clicks is (1779, 24)\n",
      "Resampled dataset shape Counter({0: 1918, 1: 1535})\n",
      "shape of df is (3453, 21)\n",
      "shape of df_final is (14884, 21)\n",
      "reading data for 20130611\n",
      "shape of impressions is (1745722, 24)\n",
      "shape of clicks is (1593, 24)\n",
      "Resampled dataset shape Counter({0: 1744, 1: 1391})\n",
      "shape of df is (3135, 21)\n",
      "shape of df_final is (18019, 21)\n",
      "reading data for 20130612\n",
      "shape of impressions is (1657338, 24)\n",
      "shape of clicks is (1607, 24)\n",
      "Resampled dataset shape Counter({0: 1655, 1: 1369})\n",
      "shape of df is (3024, 21)\n",
      "shape of df_final is (21043, 21)\n"
     ]
    },
    {
     "output_type": "error",
     "ename": "InvalidIndexError",
     "evalue": "Reindexing only valid with uniquely valued Index objects",
     "traceback": [
      "\u001b[0;31m---------------------------------------------------------------------------\u001b[0m",
      "\u001b[0;31mInvalidIndexError\u001b[0m                         Traceback (most recent call last)",
      "\u001b[0;32m<ipython-input-3-e8bb529f0228>\u001b[0m in \u001b[0;36m<module>\u001b[0;34m\u001b[0m\n\u001b[0;32m----> 1\u001b[0;31m \u001b[0mmake_csv_imp\u001b[0m\u001b[0;34m.\u001b[0m\u001b[0mmake_full_week_dataset\u001b[0m\u001b[0;34m(\u001b[0m\u001b[0mimp_frac_to_take\u001b[0m\u001b[0;34m=\u001b[0m\u001b[0;36m0.001\u001b[0m\u001b[0;34m)\u001b[0m\u001b[0;34m\u001b[0m\u001b[0;34m\u001b[0m\u001b[0m\n\u001b[0m",
      "\u001b[0;32m~/Capstone/privacy-preserving-analytics/final/make_csv_imp.py\u001b[0m in \u001b[0;36mmake_full_week_dataset\u001b[0;34m(dates_list, imp_frac_to_take)\u001b[0m\n\u001b[1;32m    192\u001b[0m     \u001b[0ms\u001b[0m\u001b[0;34m=\u001b[0m\u001b[0msorted_df\u001b[0m\u001b[0;34m[\u001b[0m\u001b[0;34m'User Profile IDs_impressions'\u001b[0m\u001b[0;34m]\u001b[0m\u001b[0;34m.\u001b[0m\u001b[0mstr\u001b[0m\u001b[0;34m.\u001b[0m\u001b[0msplit\u001b[0m\u001b[0;34m(\u001b[0m\u001b[0mpat\u001b[0m\u001b[0;34m=\u001b[0m\u001b[0;34m','\u001b[0m\u001b[0;34m)\u001b[0m\u001b[0;34m\u001b[0m\u001b[0;34m\u001b[0m\u001b[0m\n\u001b[1;32m    193\u001b[0m     \u001b[0mdummies_to_concatenate\u001b[0m\u001b[0;34m=\u001b[0m\u001b[0mpd\u001b[0m\u001b[0;34m.\u001b[0m\u001b[0mget_dummies\u001b[0m\u001b[0;34m(\u001b[0m\u001b[0ms\u001b[0m\u001b[0;34m.\u001b[0m\u001b[0mapply\u001b[0m\u001b[0;34m(\u001b[0m\u001b[0mpd\u001b[0m\u001b[0;34m.\u001b[0m\u001b[0mSeries\u001b[0m\u001b[0;34m)\u001b[0m\u001b[0;34m.\u001b[0m\u001b[0mstack\u001b[0m\u001b[0;34m(\u001b[0m\u001b[0;34m)\u001b[0m\u001b[0;34m)\u001b[0m\u001b[0;34m.\u001b[0m\u001b[0msum\u001b[0m\u001b[0;34m(\u001b[0m\u001b[0mlevel\u001b[0m\u001b[0;34m=\u001b[0m\u001b[0;36m0\u001b[0m\u001b[0;34m)\u001b[0m\u001b[0;34m\u001b[0m\u001b[0;34m\u001b[0m\u001b[0m\n\u001b[0;32m--> 194\u001b[0;31m     \u001b[0mdf_dummy\u001b[0m\u001b[0;34m=\u001b[0m\u001b[0mpd\u001b[0m\u001b[0;34m.\u001b[0m\u001b[0mconcat\u001b[0m\u001b[0;34m(\u001b[0m\u001b[0;34m[\u001b[0m\u001b[0msorted_df\u001b[0m\u001b[0;34m,\u001b[0m \u001b[0mdummies_to_concatenate\u001b[0m\u001b[0;34m]\u001b[0m\u001b[0;34m,\u001b[0m \u001b[0maxis\u001b[0m\u001b[0;34m=\u001b[0m\u001b[0;36m1\u001b[0m\u001b[0;34m)\u001b[0m\u001b[0;34m\u001b[0m\u001b[0;34m\u001b[0m\u001b[0m\n\u001b[0m\u001b[1;32m    195\u001b[0m     \u001b[0mdf_dummy\u001b[0m\u001b[0;34m.\u001b[0m\u001b[0mto_csv\u001b[0m\u001b[0;34m(\u001b[0m\u001b[0;34m'/Users/Armand/Capstone/privacy-preserving-analytics/final/0.dataset/impression_balanced_'\u001b[0m\u001b[0;34m+\u001b[0m\u001b[0mstr\u001b[0m\u001b[0;34m(\u001b[0m\u001b[0mimp_frac_to_take\u001b[0m\u001b[0;34m)\u001b[0m\u001b[0;34m+\u001b[0m\u001b[0;34m'.csv'\u001b[0m\u001b[0;34m)\u001b[0m\u001b[0;34m\u001b[0m\u001b[0;34m\u001b[0m\u001b[0m\n\u001b[1;32m    196\u001b[0m \u001b[0;34m\u001b[0m\u001b[0m\n",
      "\u001b[0;32m~/anaconda3/envs/test/lib/python3.9/site-packages/pandas/core/reshape/concat.py\u001b[0m in \u001b[0;36mconcat\u001b[0;34m(objs, axis, join, ignore_index, keys, levels, names, verify_integrity, sort, copy)\u001b[0m\n\u001b[1;32m    296\u001b[0m     )\n\u001b[1;32m    297\u001b[0m \u001b[0;34m\u001b[0m\u001b[0m\n\u001b[0;32m--> 298\u001b[0;31m     \u001b[0;32mreturn\u001b[0m \u001b[0mop\u001b[0m\u001b[0;34m.\u001b[0m\u001b[0mget_result\u001b[0m\u001b[0;34m(\u001b[0m\u001b[0;34m)\u001b[0m\u001b[0;34m\u001b[0m\u001b[0;34m\u001b[0m\u001b[0m\n\u001b[0m\u001b[1;32m    299\u001b[0m \u001b[0;34m\u001b[0m\u001b[0m\n\u001b[1;32m    300\u001b[0m \u001b[0;34m\u001b[0m\u001b[0m\n",
      "\u001b[0;32m~/anaconda3/envs/test/lib/python3.9/site-packages/pandas/core/reshape/concat.py\u001b[0m in \u001b[0;36mget_result\u001b[0;34m(self)\u001b[0m\n\u001b[1;32m    514\u001b[0m                     \u001b[0mobj_labels\u001b[0m \u001b[0;34m=\u001b[0m \u001b[0mobj\u001b[0m\u001b[0;34m.\u001b[0m\u001b[0maxes\u001b[0m\u001b[0;34m[\u001b[0m\u001b[0;36m1\u001b[0m \u001b[0;34m-\u001b[0m \u001b[0max\u001b[0m\u001b[0;34m]\u001b[0m\u001b[0;34m\u001b[0m\u001b[0;34m\u001b[0m\u001b[0m\n\u001b[1;32m    515\u001b[0m                     \u001b[0;32mif\u001b[0m \u001b[0;32mnot\u001b[0m \u001b[0mnew_labels\u001b[0m\u001b[0;34m.\u001b[0m\u001b[0mequals\u001b[0m\u001b[0;34m(\u001b[0m\u001b[0mobj_labels\u001b[0m\u001b[0;34m)\u001b[0m\u001b[0;34m:\u001b[0m\u001b[0;34m\u001b[0m\u001b[0;34m\u001b[0m\u001b[0m\n\u001b[0;32m--> 516\u001b[0;31m                         \u001b[0mindexers\u001b[0m\u001b[0;34m[\u001b[0m\u001b[0max\u001b[0m\u001b[0;34m]\u001b[0m \u001b[0;34m=\u001b[0m \u001b[0mobj_labels\u001b[0m\u001b[0;34m.\u001b[0m\u001b[0mget_indexer\u001b[0m\u001b[0;34m(\u001b[0m\u001b[0mnew_labels\u001b[0m\u001b[0;34m)\u001b[0m\u001b[0;34m\u001b[0m\u001b[0;34m\u001b[0m\u001b[0m\n\u001b[0m\u001b[1;32m    517\u001b[0m \u001b[0;34m\u001b[0m\u001b[0m\n\u001b[1;32m    518\u001b[0m                 \u001b[0mmgrs_indexers\u001b[0m\u001b[0;34m.\u001b[0m\u001b[0mappend\u001b[0m\u001b[0;34m(\u001b[0m\u001b[0;34m(\u001b[0m\u001b[0mobj\u001b[0m\u001b[0;34m.\u001b[0m\u001b[0m_mgr\u001b[0m\u001b[0;34m,\u001b[0m \u001b[0mindexers\u001b[0m\u001b[0;34m)\u001b[0m\u001b[0;34m)\u001b[0m\u001b[0;34m\u001b[0m\u001b[0;34m\u001b[0m\u001b[0m\n",
      "\u001b[0;32m~/anaconda3/envs/test/lib/python3.9/site-packages/pandas/core/indexes/base.py\u001b[0m in \u001b[0;36mget_indexer\u001b[0;34m(self, target, method, limit, tolerance)\u001b[0m\n\u001b[1;32m   3169\u001b[0m \u001b[0;34m\u001b[0m\u001b[0m\n\u001b[1;32m   3170\u001b[0m         \u001b[0;32mif\u001b[0m \u001b[0;32mnot\u001b[0m \u001b[0mself\u001b[0m\u001b[0;34m.\u001b[0m\u001b[0mis_unique\u001b[0m\u001b[0;34m:\u001b[0m\u001b[0;34m\u001b[0m\u001b[0;34m\u001b[0m\u001b[0m\n\u001b[0;32m-> 3171\u001b[0;31m             raise InvalidIndexError(\n\u001b[0m\u001b[1;32m   3172\u001b[0m                 \u001b[0;34m\"Reindexing only valid with uniquely valued Index objects\"\u001b[0m\u001b[0;34m\u001b[0m\u001b[0;34m\u001b[0m\u001b[0m\n\u001b[1;32m   3173\u001b[0m             )\n",
      "\u001b[0;31mInvalidIndexError\u001b[0m: Reindexing only valid with uniquely valued Index objects"
     ]
    }
   ],
   "source": [
    "make_csv_imp.make_full_week_dataset(imp_frac_to_take=0.001)"
   ]
  },
  {
   "cell_type": "code",
   "execution_count": 7,
   "metadata": {},
   "outputs": [
    {
     "output_type": "error",
     "ename": "NameError",
     "evalue": "name 'test' is not defined",
     "traceback": [
      "\u001b[0;31m---------------------------------------------------------------------------\u001b[0m",
      "\u001b[0;31mNameError\u001b[0m                                 Traceback (most recent call last)",
      "\u001b[0;32m<ipython-input-7-ce3fe3f842d6>\u001b[0m in \u001b[0;36m<module>\u001b[0;34m\u001b[0m\n\u001b[0;32m----> 1\u001b[0;31m \u001b[0mdf_final\u001b[0m\u001b[0;34m=\u001b[0m\u001b[0mtest\u001b[0m\u001b[0;34m[\u001b[0m\u001b[0;36m1\u001b[0m\u001b[0;34m]\u001b[0m\u001b[0;34m\u001b[0m\u001b[0;34m\u001b[0m\u001b[0m\n\u001b[0m\u001b[1;32m      2\u001b[0m \u001b[0ms\u001b[0m\u001b[0;34m=\u001b[0m\u001b[0mdf_final\u001b[0m\u001b[0;34m[\u001b[0m\u001b[0;34m'User Profile IDs_impressions'\u001b[0m\u001b[0;34m]\u001b[0m\u001b[0;34m.\u001b[0m\u001b[0mstr\u001b[0m\u001b[0;34m.\u001b[0m\u001b[0msplit\u001b[0m\u001b[0;34m(\u001b[0m\u001b[0mpat\u001b[0m\u001b[0;34m=\u001b[0m\u001b[0;34m','\u001b[0m\u001b[0;34m)\u001b[0m\u001b[0;34m\u001b[0m\u001b[0;34m\u001b[0m\u001b[0m\n\u001b[1;32m      3\u001b[0m \u001b[0mdummies_to_concatenate\u001b[0m\u001b[0;34m=\u001b[0m\u001b[0mpd\u001b[0m\u001b[0;34m.\u001b[0m\u001b[0mget_dummies\u001b[0m\u001b[0;34m(\u001b[0m\u001b[0ms\u001b[0m\u001b[0;34m.\u001b[0m\u001b[0mapply\u001b[0m\u001b[0;34m(\u001b[0m\u001b[0mpd\u001b[0m\u001b[0;34m.\u001b[0m\u001b[0mSeries\u001b[0m\u001b[0;34m)\u001b[0m\u001b[0;34m.\u001b[0m\u001b[0mstack\u001b[0m\u001b[0;34m(\u001b[0m\u001b[0;34m)\u001b[0m\u001b[0;34m)\u001b[0m\u001b[0;34m.\u001b[0m\u001b[0msum\u001b[0m\u001b[0;34m(\u001b[0m\u001b[0mlevel\u001b[0m\u001b[0;34m=\u001b[0m\u001b[0;36m0\u001b[0m\u001b[0;34m)\u001b[0m\u001b[0;34m\u001b[0m\u001b[0;34m\u001b[0m\u001b[0m\n\u001b[1;32m      4\u001b[0m \u001b[0mdf_dummified\u001b[0m \u001b[0;34m=\u001b[0m \u001b[0mdf_final\u001b[0m\u001b[0;34m.\u001b[0m\u001b[0mmerge\u001b[0m\u001b[0;34m(\u001b[0m\u001b[0mdummies_to_concatenate\u001b[0m\u001b[0;34m,\u001b[0m \u001b[0mleft_index\u001b[0m\u001b[0;34m=\u001b[0m\u001b[0;32mTrue\u001b[0m\u001b[0;34m,\u001b[0m \u001b[0mright_index\u001b[0m\u001b[0;34m=\u001b[0m\u001b[0;32mTrue\u001b[0m\u001b[0;34m,\u001b[0m \u001b[0mhow\u001b[0m\u001b[0;34m=\u001b[0m\u001b[0;34m'left'\u001b[0m\u001b[0;34m)\u001b[0m\u001b[0;34m\u001b[0m\u001b[0;34m\u001b[0m\u001b[0m\n",
      "\u001b[0;31mNameError\u001b[0m: name 'test' is not defined"
     ]
    }
   ],
   "source": [
    "df_final=test[1]\n",
    "s=df_final['User Profile IDs_impressions'].str.split(pat=',')\n",
    "dummies_to_concatenate=pd.get_dummies(s.apply(pd.Series).stack()).sum(level=0)\n",
    "df_dummified = df_final.merge(dummies_to_concatenate, left_index=True, right_index=True, how='left')"
   ]
  },
  {
   "cell_type": "code",
   "execution_count": 5,
   "metadata": {},
   "outputs": [],
   "source": [
    "df_final=pd.read_csv('/Users/Armand/Capstone/privacy-preserving-analytics/final/0.dataset/impression_balanced_0.001_no_dummies.csv')\n",
    "#s=df_final['User Profile IDs_impressions'].str.split(pat=',')\n",
    "#dummies_to_concatenate=pd.get_dummies(s.apply(pd.Series).stack()).sum(level=0)\n",
    "#df_dummified = df_final.merge(dummies_to_concatenate, left_index=True, right_index=True, how='left')\n"
   ]
  },
  {
   "cell_type": "code",
   "execution_count": 6,
   "metadata": {},
   "outputs": [],
   "source": [
    "sorted_df=df_final.sort_values(by='Timestamp_impressions', ascending=True)\n",
    "s=sorted_df['User Profile IDs_impressions'].str.split(pat=',')\n",
    "dummies_to_concatenate=pd.get_dummies(s.apply(pd.Series).stack()).sum(level=0)\n",
    "df_dummy=pd.concat([sorted_df, dummies_to_concatenate], axis=1)"
   ]
  },
  {
   "cell_type": "code",
   "execution_count": 7,
   "metadata": {},
   "outputs": [
    {
     "output_type": "execute_result",
     "data": {
      "text/plain": [
       "   Unnamed: 0  Timestamp_impressions  Log Type  \\\n",
       "0           0      20130606132728922         1   \n",
       "1           1      20130606184511938         1   \n",
       "2           2      20130606151411489         1   \n",
       "3           3      20130606233008542         1   \n",
       "4           4      20130606180121237         1   \n",
       "\n",
       "                                                                                                                                    User-Agent_impressions  \\\n",
       "0                                     Mozilla/5.0 (Windows NT 5.1) AppleWebKit/535.1 (KHTML, like Gecko) Chrome/14.0.802.30 Safari/535.1 SE 2.X MetaSr 1.0   \n",
       "1                                                                               Mozilla/5.0 (compatible; MSIE 10.0; Windows NT 6.1; Trident/6.0; KB974488)   \n",
       "2                                                      Mozilla/5.0 (Windows NT 5.1) AppleWebKit/537.1 (KHTML, like Gecko) Chrome/21.0.1180.89 Safari/537.1   \n",
       "3                                                                          Mozilla/4.0 (compatible; MSIE 7.0; Windows NT 5.1; Trident/4.0; QQDownload 718)   \n",
       "4  Mozilla/4.0 (compatible; MSIE 7.0; Windows NT 6.1; Trident/6.0; SLCC2; .NET CLR 2.0.50727; .NET CLR 3.5.30729; .NET CLR 3.0.30729; Media Center PC 6.0)   \n",
       "\n",
       "   Region ID_impressions  City ID  Ad Exchange  Ad Slot Width  Ad Slot Height  \\\n",
       "0                    164      177            1            300             250   \n",
       "1                    216      217            2            728              90   \n",
       "2                     15       20            2            336             280   \n",
       "3                    164      165            1            728              90   \n",
       "4                     94       97            1            300             250   \n",
       "\n",
       "   Ad Slot Visibility  Ad Slot Format  Ad Slot Floor Price  Bidding Price  \\\n",
       "0                   0               1                    0            300   \n",
       "1                   2               0                    5            300   \n",
       "2                   2               0                    5            300   \n",
       "3                   2               1                    0            300   \n",
       "4                   0               1                    0            300   \n",
       "\n",
       "   Paying Price  Advertiser ID               User Profile IDs_impressions  \\\n",
       "0           105           3386  10063,13866,10077,13800,10006,10024,10111   \n",
       "1            44           1458                                        NaN   \n",
       "2            30           1458                                10077,10111   \n",
       "3            21           1458        13403,13866,10067,10063,10006,10111   \n",
       "4           214           3386                          10006,10063,10110   \n",
       "\n",
       "   Timestamp_clicks User-Agent_clicks User Profile IDs_clicks  \\\n",
       "0               NaN               NaN                     NaN   \n",
       "1               NaN               NaN                     NaN   \n",
       "2               NaN               NaN                     NaN   \n",
       "3               NaN               NaN                     NaN   \n",
       "4               NaN               NaN                     NaN   \n",
       "\n",
       "   Region ID_clicks  n_clicks  has click  10006  10024  10031  10048  10052  \\\n",
       "0               NaN       NaN          0    1.0    1.0    0.0    0.0    0.0   \n",
       "1               NaN       NaN          0    NaN    NaN    NaN    NaN    NaN   \n",
       "2               NaN       NaN          0    0.0    0.0    0.0    0.0    0.0   \n",
       "3               NaN       NaN          0    1.0    0.0    0.0    0.0    0.0   \n",
       "4               NaN       NaN          0    1.0    0.0    0.0    0.0    0.0   \n",
       "\n",
       "   10057  10059  10063  10067  10074  10075  10076  10077  10079  10083  \\\n",
       "0    0.0    0.0    1.0    0.0    0.0    0.0    0.0    1.0    0.0    0.0   \n",
       "1    NaN    NaN    NaN    NaN    NaN    NaN    NaN    NaN    NaN    NaN   \n",
       "2    0.0    0.0    0.0    0.0    0.0    0.0    0.0    1.0    0.0    0.0   \n",
       "3    0.0    0.0    1.0    1.0    0.0    0.0    0.0    0.0    0.0    0.0   \n",
       "4    0.0    0.0    1.0    0.0    0.0    0.0    0.0    0.0    0.0    0.0   \n",
       "\n",
       "   10093  10102  10110  10111  10684  11092  11278  11379  11423  11576  \\\n",
       "0    0.0    0.0    0.0    1.0    0.0    0.0    0.0    0.0    0.0    0.0   \n",
       "1    NaN    NaN    NaN    NaN    NaN    NaN    NaN    NaN    NaN    NaN   \n",
       "2    0.0    0.0    0.0    1.0    0.0    0.0    0.0    0.0    0.0    0.0   \n",
       "3    0.0    0.0    0.0    1.0    0.0    0.0    0.0    0.0    0.0    0.0   \n",
       "4    0.0    0.0    1.0    0.0    0.0    0.0    0.0    0.0    0.0    0.0   \n",
       "\n",
       "   11680  11724  11944  13042  13403  13496  13678  13776  13800  13866  \\\n",
       "0    0.0    0.0    0.0    0.0    0.0    0.0    0.0    0.0    1.0    1.0   \n",
       "1    NaN    NaN    NaN    NaN    NaN    NaN    NaN    NaN    NaN    NaN   \n",
       "2    0.0    0.0    0.0    0.0    0.0    0.0    0.0    0.0    0.0    0.0   \n",
       "3    0.0    0.0    0.0    0.0    1.0    0.0    0.0    0.0    0.0    1.0   \n",
       "4    0.0    0.0    0.0    0.0    0.0    0.0    0.0    0.0    0.0    0.0   \n",
       "\n",
       "   13874  14273  16593  16617  16661  16706  \n",
       "0    0.0    0.0    0.0    0.0    0.0    0.0  \n",
       "1    NaN    NaN    NaN    NaN    NaN    NaN  \n",
       "2    0.0    0.0    0.0    0.0    0.0    0.0  \n",
       "3    0.0    0.0    0.0    0.0    0.0    0.0  \n",
       "4    0.0    0.0    0.0    0.0    0.0    0.0  "
      ],
      "text/html": "<div>\n<style scoped>\n    .dataframe tbody tr th:only-of-type {\n        vertical-align: middle;\n    }\n\n    .dataframe tbody tr th {\n        vertical-align: top;\n    }\n\n    .dataframe thead th {\n        text-align: right;\n    }\n</style>\n<table border=\"1\" class=\"dataframe\">\n  <thead>\n    <tr style=\"text-align: right;\">\n      <th></th>\n      <th>Unnamed: 0</th>\n      <th>Timestamp_impressions</th>\n      <th>Log Type</th>\n      <th>User-Agent_impressions</th>\n      <th>Region ID_impressions</th>\n      <th>City ID</th>\n      <th>Ad Exchange</th>\n      <th>Ad Slot Width</th>\n      <th>Ad Slot Height</th>\n      <th>Ad Slot Visibility</th>\n      <th>Ad Slot Format</th>\n      <th>Ad Slot Floor Price</th>\n      <th>Bidding Price</th>\n      <th>Paying Price</th>\n      <th>Advertiser ID</th>\n      <th>User Profile IDs_impressions</th>\n      <th>Timestamp_clicks</th>\n      <th>User-Agent_clicks</th>\n      <th>User Profile IDs_clicks</th>\n      <th>Region ID_clicks</th>\n      <th>n_clicks</th>\n      <th>has click</th>\n      <th>10006</th>\n      <th>10024</th>\n      <th>10031</th>\n      <th>10048</th>\n      <th>10052</th>\n      <th>10057</th>\n      <th>10059</th>\n      <th>10063</th>\n      <th>10067</th>\n      <th>10074</th>\n      <th>10075</th>\n      <th>10076</th>\n      <th>10077</th>\n      <th>10079</th>\n      <th>10083</th>\n      <th>10093</th>\n      <th>10102</th>\n      <th>10110</th>\n      <th>10111</th>\n      <th>10684</th>\n      <th>11092</th>\n      <th>11278</th>\n      <th>11379</th>\n      <th>11423</th>\n      <th>11576</th>\n      <th>11680</th>\n      <th>11724</th>\n      <th>11944</th>\n      <th>13042</th>\n      <th>13403</th>\n      <th>13496</th>\n      <th>13678</th>\n      <th>13776</th>\n      <th>13800</th>\n      <th>13866</th>\n      <th>13874</th>\n      <th>14273</th>\n      <th>16593</th>\n      <th>16617</th>\n      <th>16661</th>\n      <th>16706</th>\n    </tr>\n  </thead>\n  <tbody>\n    <tr>\n      <th>0</th>\n      <td>0</td>\n      <td>20130606132728922</td>\n      <td>1</td>\n      <td>Mozilla/5.0 (Windows NT 5.1) AppleWebKit/535.1 (KHTML, like Gecko) Chrome/14.0.802.30 Safari/535.1 SE 2.X MetaSr 1.0</td>\n      <td>164</td>\n      <td>177</td>\n      <td>1</td>\n      <td>300</td>\n      <td>250</td>\n      <td>0</td>\n      <td>1</td>\n      <td>0</td>\n      <td>300</td>\n      <td>105</td>\n      <td>3386</td>\n      <td>10063,13866,10077,13800,10006,10024,10111</td>\n      <td>NaN</td>\n      <td>NaN</td>\n      <td>NaN</td>\n      <td>NaN</td>\n      <td>NaN</td>\n      <td>0</td>\n      <td>1.0</td>\n      <td>1.0</td>\n      <td>0.0</td>\n      <td>0.0</td>\n      <td>0.0</td>\n      <td>0.0</td>\n      <td>0.0</td>\n      <td>1.0</td>\n      <td>0.0</td>\n      <td>0.0</td>\n      <td>0.0</td>\n      <td>0.0</td>\n      <td>1.0</td>\n      <td>0.0</td>\n      <td>0.0</td>\n      <td>0.0</td>\n      <td>0.0</td>\n      <td>0.0</td>\n      <td>1.0</td>\n      <td>0.0</td>\n      <td>0.0</td>\n      <td>0.0</td>\n      <td>0.0</td>\n      <td>0.0</td>\n      <td>0.0</td>\n      <td>0.0</td>\n      <td>0.0</td>\n      <td>0.0</td>\n      <td>0.0</td>\n      <td>0.0</td>\n      <td>0.0</td>\n      <td>0.0</td>\n      <td>0.0</td>\n      <td>1.0</td>\n      <td>1.0</td>\n      <td>0.0</td>\n      <td>0.0</td>\n      <td>0.0</td>\n      <td>0.0</td>\n      <td>0.0</td>\n      <td>0.0</td>\n    </tr>\n    <tr>\n      <th>1</th>\n      <td>1</td>\n      <td>20130606184511938</td>\n      <td>1</td>\n      <td>Mozilla/5.0 (compatible; MSIE 10.0; Windows NT 6.1; Trident/6.0; KB974488)</td>\n      <td>216</td>\n      <td>217</td>\n      <td>2</td>\n      <td>728</td>\n      <td>90</td>\n      <td>2</td>\n      <td>0</td>\n      <td>5</td>\n      <td>300</td>\n      <td>44</td>\n      <td>1458</td>\n      <td>NaN</td>\n      <td>NaN</td>\n      <td>NaN</td>\n      <td>NaN</td>\n      <td>NaN</td>\n      <td>NaN</td>\n      <td>0</td>\n      <td>NaN</td>\n      <td>NaN</td>\n      <td>NaN</td>\n      <td>NaN</td>\n      <td>NaN</td>\n      <td>NaN</td>\n      <td>NaN</td>\n      <td>NaN</td>\n      <td>NaN</td>\n      <td>NaN</td>\n      <td>NaN</td>\n      <td>NaN</td>\n      <td>NaN</td>\n      <td>NaN</td>\n      <td>NaN</td>\n      <td>NaN</td>\n      <td>NaN</td>\n      <td>NaN</td>\n      <td>NaN</td>\n      <td>NaN</td>\n      <td>NaN</td>\n      <td>NaN</td>\n      <td>NaN</td>\n      <td>NaN</td>\n      <td>NaN</td>\n      <td>NaN</td>\n      <td>NaN</td>\n      <td>NaN</td>\n      <td>NaN</td>\n      <td>NaN</td>\n      <td>NaN</td>\n      <td>NaN</td>\n      <td>NaN</td>\n      <td>NaN</td>\n      <td>NaN</td>\n      <td>NaN</td>\n      <td>NaN</td>\n      <td>NaN</td>\n      <td>NaN</td>\n      <td>NaN</td>\n      <td>NaN</td>\n    </tr>\n    <tr>\n      <th>2</th>\n      <td>2</td>\n      <td>20130606151411489</td>\n      <td>1</td>\n      <td>Mozilla/5.0 (Windows NT 5.1) AppleWebKit/537.1 (KHTML, like Gecko) Chrome/21.0.1180.89 Safari/537.1</td>\n      <td>15</td>\n      <td>20</td>\n      <td>2</td>\n      <td>336</td>\n      <td>280</td>\n      <td>2</td>\n      <td>0</td>\n      <td>5</td>\n      <td>300</td>\n      <td>30</td>\n      <td>1458</td>\n      <td>10077,10111</td>\n      <td>NaN</td>\n      <td>NaN</td>\n      <td>NaN</td>\n      <td>NaN</td>\n      <td>NaN</td>\n      <td>0</td>\n      <td>0.0</td>\n      <td>0.0</td>\n      <td>0.0</td>\n      <td>0.0</td>\n      <td>0.0</td>\n      <td>0.0</td>\n      <td>0.0</td>\n      <td>0.0</td>\n      <td>0.0</td>\n      <td>0.0</td>\n      <td>0.0</td>\n      <td>0.0</td>\n      <td>1.0</td>\n      <td>0.0</td>\n      <td>0.0</td>\n      <td>0.0</td>\n      <td>0.0</td>\n      <td>0.0</td>\n      <td>1.0</td>\n      <td>0.0</td>\n      <td>0.0</td>\n      <td>0.0</td>\n      <td>0.0</td>\n      <td>0.0</td>\n      <td>0.0</td>\n      <td>0.0</td>\n      <td>0.0</td>\n      <td>0.0</td>\n      <td>0.0</td>\n      <td>0.0</td>\n      <td>0.0</td>\n      <td>0.0</td>\n      <td>0.0</td>\n      <td>0.0</td>\n      <td>0.0</td>\n      <td>0.0</td>\n      <td>0.0</td>\n      <td>0.0</td>\n      <td>0.0</td>\n      <td>0.0</td>\n      <td>0.0</td>\n    </tr>\n    <tr>\n      <th>3</th>\n      <td>3</td>\n      <td>20130606233008542</td>\n      <td>1</td>\n      <td>Mozilla/4.0 (compatible; MSIE 7.0; Windows NT 5.1; Trident/4.0; QQDownload 718)</td>\n      <td>164</td>\n      <td>165</td>\n      <td>1</td>\n      <td>728</td>\n      <td>90</td>\n      <td>2</td>\n      <td>1</td>\n      <td>0</td>\n      <td>300</td>\n      <td>21</td>\n      <td>1458</td>\n      <td>13403,13866,10067,10063,10006,10111</td>\n      <td>NaN</td>\n      <td>NaN</td>\n      <td>NaN</td>\n      <td>NaN</td>\n      <td>NaN</td>\n      <td>0</td>\n      <td>1.0</td>\n      <td>0.0</td>\n      <td>0.0</td>\n      <td>0.0</td>\n      <td>0.0</td>\n      <td>0.0</td>\n      <td>0.0</td>\n      <td>1.0</td>\n      <td>1.0</td>\n      <td>0.0</td>\n      <td>0.0</td>\n      <td>0.0</td>\n      <td>0.0</td>\n      <td>0.0</td>\n      <td>0.0</td>\n      <td>0.0</td>\n      <td>0.0</td>\n      <td>0.0</td>\n      <td>1.0</td>\n      <td>0.0</td>\n      <td>0.0</td>\n      <td>0.0</td>\n      <td>0.0</td>\n      <td>0.0</td>\n      <td>0.0</td>\n      <td>0.0</td>\n      <td>0.0</td>\n      <td>0.0</td>\n      <td>0.0</td>\n      <td>1.0</td>\n      <td>0.0</td>\n      <td>0.0</td>\n      <td>0.0</td>\n      <td>0.0</td>\n      <td>1.0</td>\n      <td>0.0</td>\n      <td>0.0</td>\n      <td>0.0</td>\n      <td>0.0</td>\n      <td>0.0</td>\n      <td>0.0</td>\n    </tr>\n    <tr>\n      <th>4</th>\n      <td>4</td>\n      <td>20130606180121237</td>\n      <td>1</td>\n      <td>Mozilla/4.0 (compatible; MSIE 7.0; Windows NT 6.1; Trident/6.0; SLCC2; .NET CLR 2.0.50727; .NET CLR 3.5.30729; .NET CLR 3.0.30729; Media Center PC 6.0)</td>\n      <td>94</td>\n      <td>97</td>\n      <td>1</td>\n      <td>300</td>\n      <td>250</td>\n      <td>0</td>\n      <td>1</td>\n      <td>0</td>\n      <td>300</td>\n      <td>214</td>\n      <td>3386</td>\n      <td>10006,10063,10110</td>\n      <td>NaN</td>\n      <td>NaN</td>\n      <td>NaN</td>\n      <td>NaN</td>\n      <td>NaN</td>\n      <td>0</td>\n      <td>1.0</td>\n      <td>0.0</td>\n      <td>0.0</td>\n      <td>0.0</td>\n      <td>0.0</td>\n      <td>0.0</td>\n      <td>0.0</td>\n      <td>1.0</td>\n      <td>0.0</td>\n      <td>0.0</td>\n      <td>0.0</td>\n      <td>0.0</td>\n      <td>0.0</td>\n      <td>0.0</td>\n      <td>0.0</td>\n      <td>0.0</td>\n      <td>0.0</td>\n      <td>1.0</td>\n      <td>0.0</td>\n      <td>0.0</td>\n      <td>0.0</td>\n      <td>0.0</td>\n      <td>0.0</td>\n      <td>0.0</td>\n      <td>0.0</td>\n      <td>0.0</td>\n      <td>0.0</td>\n      <td>0.0</td>\n      <td>0.0</td>\n      <td>0.0</td>\n      <td>0.0</td>\n      <td>0.0</td>\n      <td>0.0</td>\n      <td>0.0</td>\n      <td>0.0</td>\n      <td>0.0</td>\n      <td>0.0</td>\n      <td>0.0</td>\n      <td>0.0</td>\n      <td>0.0</td>\n      <td>0.0</td>\n    </tr>\n  </tbody>\n</table>\n</div>"
     },
     "metadata": {},
     "execution_count": 7
    }
   ],
   "source": [
    "df_dummy.head()"
   ]
  },
  {
   "cell_type": "code",
   "execution_count": 4,
   "metadata": {},
   "outputs": [
    {
     "output_type": "execute_result",
     "data": {
      "text/plain": [
       "   Timestamp_impressions  Log Type  \\\n",
       "0      20130606000105216         1   \n",
       "1      20130606000106212         1   \n",
       "2      20130606000106340         1   \n",
       "3      20130606000106775         1   \n",
       "4      20130606000107621         1   \n",
       "\n",
       "                                                                                                                                            User-Agent_impressions  \\\n",
       "0                                                           Mozilla/5.0 (Windows NT 6.1) AppleWebKit/537.22 (KHTML, like Gecko) Chrome/25.0.1364.172 Safari/537.22   \n",
       "1                                                       Mozilla/5.0 (Windows NT 6.1; WOW64) AppleWebKit/537.1 (KHTML, like Gecko) Chrome/21.0.1180.89 Safari/537.1   \n",
       "2  Mozilla/4.0 (compatible; MSIE 8.0; Windows NT 6.1; Trident/4.0; GTB7.4; SLCC2; .NET CLR 2.0.50727; .NET CLR 3.5.30729; .NET CLR 3.0.30729; Media Center PC 6.0)   \n",
       "3                                                  Mozilla/5.0 (Windows NT 5.1) AppleWebKit/537.1 (KHTML, like Gecko) Maxthon/3.0 Chrome/22.0.1229.79 Safari/537.1   \n",
       "4       Mozilla/5.0 (Linux; U; Android 4.0.4; zh-cn; MOT-XT788 Build/IRPMCT_B_02.64.00RPD) AppleWebKit/534.30 (KHTML, like Gecko) Version/4.0 Mobile Safari/534.30   \n",
       "\n",
       "   Region ID_impressions  City ID  Ad Exchange  Ad Slot Width  Ad Slot Height  \\\n",
       "0                     79       79            2            728              90   \n",
       "1                     80       81            1            336             280   \n",
       "2                    201      202            1            728              90   \n",
       "3                    374      384            1            336             280   \n",
       "4                    308      309            1            300             250   \n",
       "\n",
       "   Ad Slot Visibility  Ad Slot Format  Ad Slot Floor Price  Bidding Price  \\\n",
       "0                   2               0                    5            238   \n",
       "1                 255               1                    0            300   \n",
       "2                   1               1                    0            238   \n",
       "3                   2               1                    0            300   \n",
       "4                   1               5                    0            227   \n",
       "\n",
       "   Paying Price  Advertiser ID  \\\n",
       "0            45           3427   \n",
       "1            76           1458   \n",
       "2             4           3476   \n",
       "3            24           1458   \n",
       "4            89           3358   \n",
       "\n",
       "                                  User Profile IDs_impressions  \\\n",
       "0              10006,13866,10052,10083,10057,10024,10063,10110   \n",
       "1                                10052,10057,13866,10024,13800   \n",
       "2                          14273,10006,10063,10031,10052,10110   \n",
       "3                                                  10006,10110   \n",
       "4  10063,10052,11379,11092,13866,10083,10684,11423,14273,10111   \n",
       "\n",
       "   Timestamp_clicks  \\\n",
       "0               NaN   \n",
       "1               NaN   \n",
       "2               NaN   \n",
       "3               NaN   \n",
       "4      2.013061e+16   \n",
       "\n",
       "                                                                                                                                            User-Agent_clicks  \\\n",
       "0                                                                                                                                                         NaN   \n",
       "1                                                                                                                                                         NaN   \n",
       "2                                                                                                                                                         NaN   \n",
       "3                                                                                                                                                         NaN   \n",
       "4  Mozilla/5.0 (Linux; U; Android 4.0.4; zh-cn; MOT-XT788 Build/IRPMCT_B_02.64.00RPD) AppleWebKit/534.30 (KHTML, like Gecko) Version/4.0 Mobile Safari/534.30   \n",
       "\n",
       "                                       User Profile IDs_clicks  \\\n",
       "0                                                          NaN   \n",
       "1                                                          NaN   \n",
       "2                                                          NaN   \n",
       "3                                                          NaN   \n",
       "4  10063,10052,11379,11092,13866,10083,10684,11423,14273,10111   \n",
       "\n",
       "   Region ID_clicks  n_clicks  has click  10006  10024  10031  10048  10052  \\\n",
       "0               NaN       NaN          0      1      1      0      0      1   \n",
       "1               NaN       NaN          0      0      1      0      0      1   \n",
       "2               NaN       NaN          0      1      0      1      0      1   \n",
       "3               NaN       NaN          0      1      0      0      0      0   \n",
       "4             308.0       1.0          1      0      0      0      0      1   \n",
       "\n",
       "   10057  10059  10063  10067  10074  10075  10076  10077  10079  10083  \\\n",
       "0      1      0      1      0      0      0      0      0      0      1   \n",
       "1      1      0      0      0      0      0      0      0      0      0   \n",
       "2      0      0      1      0      0      0      0      0      0      0   \n",
       "3      0      0      0      0      0      0      0      0      0      0   \n",
       "4      0      0      1      0      0      0      0      0      0      1   \n",
       "\n",
       "   10093  10102  10110  10111  10684  11092  11278  11379  11423  11576  \\\n",
       "0      0      0      1      0      0      0      0      0      0      0   \n",
       "1      0      0      0      0      0      0      0      0      0      0   \n",
       "2      0      0      1      0      0      0      0      0      0      0   \n",
       "3      0      0      1      0      0      0      0      0      0      0   \n",
       "4      0      0      0      1      1      1      0      1      1      0   \n",
       "\n",
       "   11680  11724  11944  13042  13403  13496  13678  13776  13800  13866  \\\n",
       "0      0      0      0      0      0      0      0      0      0      1   \n",
       "1      0      0      0      0      0      0      0      0      1      1   \n",
       "2      0      0      0      0      0      0      0      0      0      0   \n",
       "3      0      0      0      0      0      0      0      0      0      0   \n",
       "4      0      0      0      0      0      0      0      0      0      1   \n",
       "\n",
       "   13874  14273  16593  16617  16661  16706  \n",
       "0      0      0      0      0      0      0  \n",
       "1      0      0      0      0      0      0  \n",
       "2      0      1      0      0      0      0  \n",
       "3      0      0      0      0      0      0  \n",
       "4      0      1      0      0      0      0  "
      ],
      "text/html": "<div>\n<style scoped>\n    .dataframe tbody tr th:only-of-type {\n        vertical-align: middle;\n    }\n\n    .dataframe tbody tr th {\n        vertical-align: top;\n    }\n\n    .dataframe thead th {\n        text-align: right;\n    }\n</style>\n<table border=\"1\" class=\"dataframe\">\n  <thead>\n    <tr style=\"text-align: right;\">\n      <th></th>\n      <th>Timestamp_impressions</th>\n      <th>Log Type</th>\n      <th>User-Agent_impressions</th>\n      <th>Region ID_impressions</th>\n      <th>City ID</th>\n      <th>Ad Exchange</th>\n      <th>Ad Slot Width</th>\n      <th>Ad Slot Height</th>\n      <th>Ad Slot Visibility</th>\n      <th>Ad Slot Format</th>\n      <th>Ad Slot Floor Price</th>\n      <th>Bidding Price</th>\n      <th>Paying Price</th>\n      <th>Advertiser ID</th>\n      <th>User Profile IDs_impressions</th>\n      <th>Timestamp_clicks</th>\n      <th>User-Agent_clicks</th>\n      <th>User Profile IDs_clicks</th>\n      <th>Region ID_clicks</th>\n      <th>n_clicks</th>\n      <th>has click</th>\n      <th>10006</th>\n      <th>10024</th>\n      <th>10031</th>\n      <th>10048</th>\n      <th>10052</th>\n      <th>10057</th>\n      <th>10059</th>\n      <th>10063</th>\n      <th>10067</th>\n      <th>10074</th>\n      <th>10075</th>\n      <th>10076</th>\n      <th>10077</th>\n      <th>10079</th>\n      <th>10083</th>\n      <th>10093</th>\n      <th>10102</th>\n      <th>10110</th>\n      <th>10111</th>\n      <th>10684</th>\n      <th>11092</th>\n      <th>11278</th>\n      <th>11379</th>\n      <th>11423</th>\n      <th>11576</th>\n      <th>11680</th>\n      <th>11724</th>\n      <th>11944</th>\n      <th>13042</th>\n      <th>13403</th>\n      <th>13496</th>\n      <th>13678</th>\n      <th>13776</th>\n      <th>13800</th>\n      <th>13866</th>\n      <th>13874</th>\n      <th>14273</th>\n      <th>16593</th>\n      <th>16617</th>\n      <th>16661</th>\n      <th>16706</th>\n    </tr>\n  </thead>\n  <tbody>\n    <tr>\n      <th>0</th>\n      <td>20130606000105216</td>\n      <td>1</td>\n      <td>Mozilla/5.0 (Windows NT 6.1) AppleWebKit/537.22 (KHTML, like Gecko) Chrome/25.0.1364.172 Safari/537.22</td>\n      <td>79</td>\n      <td>79</td>\n      <td>2</td>\n      <td>728</td>\n      <td>90</td>\n      <td>2</td>\n      <td>0</td>\n      <td>5</td>\n      <td>238</td>\n      <td>45</td>\n      <td>3427</td>\n      <td>10006,13866,10052,10083,10057,10024,10063,10110</td>\n      <td>NaN</td>\n      <td>NaN</td>\n      <td>NaN</td>\n      <td>NaN</td>\n      <td>NaN</td>\n      <td>0</td>\n      <td>1</td>\n      <td>1</td>\n      <td>0</td>\n      <td>0</td>\n      <td>1</td>\n      <td>1</td>\n      <td>0</td>\n      <td>1</td>\n      <td>0</td>\n      <td>0</td>\n      <td>0</td>\n      <td>0</td>\n      <td>0</td>\n      <td>0</td>\n      <td>1</td>\n      <td>0</td>\n      <td>0</td>\n      <td>1</td>\n      <td>0</td>\n      <td>0</td>\n      <td>0</td>\n      <td>0</td>\n      <td>0</td>\n      <td>0</td>\n      <td>0</td>\n      <td>0</td>\n      <td>0</td>\n      <td>0</td>\n      <td>0</td>\n      <td>0</td>\n      <td>0</td>\n      <td>0</td>\n      <td>0</td>\n      <td>0</td>\n      <td>1</td>\n      <td>0</td>\n      <td>0</td>\n      <td>0</td>\n      <td>0</td>\n      <td>0</td>\n      <td>0</td>\n    </tr>\n    <tr>\n      <th>1</th>\n      <td>20130606000106212</td>\n      <td>1</td>\n      <td>Mozilla/5.0 (Windows NT 6.1; WOW64) AppleWebKit/537.1 (KHTML, like Gecko) Chrome/21.0.1180.89 Safari/537.1</td>\n      <td>80</td>\n      <td>81</td>\n      <td>1</td>\n      <td>336</td>\n      <td>280</td>\n      <td>255</td>\n      <td>1</td>\n      <td>0</td>\n      <td>300</td>\n      <td>76</td>\n      <td>1458</td>\n      <td>10052,10057,13866,10024,13800</td>\n      <td>NaN</td>\n      <td>NaN</td>\n      <td>NaN</td>\n      <td>NaN</td>\n      <td>NaN</td>\n      <td>0</td>\n      <td>0</td>\n      <td>1</td>\n      <td>0</td>\n      <td>0</td>\n      <td>1</td>\n      <td>1</td>\n      <td>0</td>\n      <td>0</td>\n      <td>0</td>\n      <td>0</td>\n      <td>0</td>\n      <td>0</td>\n      <td>0</td>\n      <td>0</td>\n      <td>0</td>\n      <td>0</td>\n      <td>0</td>\n      <td>0</td>\n      <td>0</td>\n      <td>0</td>\n      <td>0</td>\n      <td>0</td>\n      <td>0</td>\n      <td>0</td>\n      <td>0</td>\n      <td>0</td>\n      <td>0</td>\n      <td>0</td>\n      <td>0</td>\n      <td>0</td>\n      <td>0</td>\n      <td>0</td>\n      <td>0</td>\n      <td>1</td>\n      <td>1</td>\n      <td>0</td>\n      <td>0</td>\n      <td>0</td>\n      <td>0</td>\n      <td>0</td>\n      <td>0</td>\n    </tr>\n    <tr>\n      <th>2</th>\n      <td>20130606000106340</td>\n      <td>1</td>\n      <td>Mozilla/4.0 (compatible; MSIE 8.0; Windows NT 6.1; Trident/4.0; GTB7.4; SLCC2; .NET CLR 2.0.50727; .NET CLR 3.5.30729; .NET CLR 3.0.30729; Media Center PC 6.0)</td>\n      <td>201</td>\n      <td>202</td>\n      <td>1</td>\n      <td>728</td>\n      <td>90</td>\n      <td>1</td>\n      <td>1</td>\n      <td>0</td>\n      <td>238</td>\n      <td>4</td>\n      <td>3476</td>\n      <td>14273,10006,10063,10031,10052,10110</td>\n      <td>NaN</td>\n      <td>NaN</td>\n      <td>NaN</td>\n      <td>NaN</td>\n      <td>NaN</td>\n      <td>0</td>\n      <td>1</td>\n      <td>0</td>\n      <td>1</td>\n      <td>0</td>\n      <td>1</td>\n      <td>0</td>\n      <td>0</td>\n      <td>1</td>\n      <td>0</td>\n      <td>0</td>\n      <td>0</td>\n      <td>0</td>\n      <td>0</td>\n      <td>0</td>\n      <td>0</td>\n      <td>0</td>\n      <td>0</td>\n      <td>1</td>\n      <td>0</td>\n      <td>0</td>\n      <td>0</td>\n      <td>0</td>\n      <td>0</td>\n      <td>0</td>\n      <td>0</td>\n      <td>0</td>\n      <td>0</td>\n      <td>0</td>\n      <td>0</td>\n      <td>0</td>\n      <td>0</td>\n      <td>0</td>\n      <td>0</td>\n      <td>0</td>\n      <td>0</td>\n      <td>0</td>\n      <td>1</td>\n      <td>0</td>\n      <td>0</td>\n      <td>0</td>\n      <td>0</td>\n    </tr>\n    <tr>\n      <th>3</th>\n      <td>20130606000106775</td>\n      <td>1</td>\n      <td>Mozilla/5.0 (Windows NT 5.1) AppleWebKit/537.1 (KHTML, like Gecko) Maxthon/3.0 Chrome/22.0.1229.79 Safari/537.1</td>\n      <td>374</td>\n      <td>384</td>\n      <td>1</td>\n      <td>336</td>\n      <td>280</td>\n      <td>2</td>\n      <td>1</td>\n      <td>0</td>\n      <td>300</td>\n      <td>24</td>\n      <td>1458</td>\n      <td>10006,10110</td>\n      <td>NaN</td>\n      <td>NaN</td>\n      <td>NaN</td>\n      <td>NaN</td>\n      <td>NaN</td>\n      <td>0</td>\n      <td>1</td>\n      <td>0</td>\n      <td>0</td>\n      <td>0</td>\n      <td>0</td>\n      <td>0</td>\n      <td>0</td>\n      <td>0</td>\n      <td>0</td>\n      <td>0</td>\n      <td>0</td>\n      <td>0</td>\n      <td>0</td>\n      <td>0</td>\n      <td>0</td>\n      <td>0</td>\n      <td>0</td>\n      <td>1</td>\n      <td>0</td>\n      <td>0</td>\n      <td>0</td>\n      <td>0</td>\n      <td>0</td>\n      <td>0</td>\n      <td>0</td>\n      <td>0</td>\n      <td>0</td>\n      <td>0</td>\n      <td>0</td>\n      <td>0</td>\n      <td>0</td>\n      <td>0</td>\n      <td>0</td>\n      <td>0</td>\n      <td>0</td>\n      <td>0</td>\n      <td>0</td>\n      <td>0</td>\n      <td>0</td>\n      <td>0</td>\n      <td>0</td>\n    </tr>\n    <tr>\n      <th>4</th>\n      <td>20130606000107621</td>\n      <td>1</td>\n      <td>Mozilla/5.0 (Linux; U; Android 4.0.4; zh-cn; MOT-XT788 Build/IRPMCT_B_02.64.00RPD) AppleWebKit/534.30 (KHTML, like Gecko) Version/4.0 Mobile Safari/534.30</td>\n      <td>308</td>\n      <td>309</td>\n      <td>1</td>\n      <td>300</td>\n      <td>250</td>\n      <td>1</td>\n      <td>5</td>\n      <td>0</td>\n      <td>227</td>\n      <td>89</td>\n      <td>3358</td>\n      <td>10063,10052,11379,11092,13866,10083,10684,11423,14273,10111</td>\n      <td>2.013061e+16</td>\n      <td>Mozilla/5.0 (Linux; U; Android 4.0.4; zh-cn; MOT-XT788 Build/IRPMCT_B_02.64.00RPD) AppleWebKit/534.30 (KHTML, like Gecko) Version/4.0 Mobile Safari/534.30</td>\n      <td>10063,10052,11379,11092,13866,10083,10684,11423,14273,10111</td>\n      <td>308.0</td>\n      <td>1.0</td>\n      <td>1</td>\n      <td>0</td>\n      <td>0</td>\n      <td>0</td>\n      <td>0</td>\n      <td>1</td>\n      <td>0</td>\n      <td>0</td>\n      <td>1</td>\n      <td>0</td>\n      <td>0</td>\n      <td>0</td>\n      <td>0</td>\n      <td>0</td>\n      <td>0</td>\n      <td>1</td>\n      <td>0</td>\n      <td>0</td>\n      <td>0</td>\n      <td>1</td>\n      <td>1</td>\n      <td>1</td>\n      <td>0</td>\n      <td>1</td>\n      <td>1</td>\n      <td>0</td>\n      <td>0</td>\n      <td>0</td>\n      <td>0</td>\n      <td>0</td>\n      <td>0</td>\n      <td>0</td>\n      <td>0</td>\n      <td>0</td>\n      <td>0</td>\n      <td>1</td>\n      <td>0</td>\n      <td>1</td>\n      <td>0</td>\n      <td>0</td>\n      <td>0</td>\n      <td>0</td>\n    </tr>\n  </tbody>\n</table>\n</div>"
     },
     "metadata": {},
     "execution_count": 4
    }
   ],
   "source": [
    "df_final=pd.read_csv('/Users/Armand/Capstone/privacy-preserving-analytics/final/0.dataset/impression_balanced_0.001.csv')\n",
    "df_final.drop(['Unnamed: 0'], axis=1,inplace=True)\n",
    "df_final.head()"
   ]
  },
  {
   "cell_type": "code",
   "execution_count": null,
   "metadata": {},
   "outputs": [],
   "source": []
  },
  {
   "cell_type": "code",
   "execution_count": 23,
   "metadata": {},
   "outputs": [],
   "source": [
    "dict_test['20130607']=dict_test['20130606']"
   ]
  },
  {
   "cell_type": "code",
   "execution_count": 24,
   "metadata": {},
   "outputs": [
    {
     "output_type": "execute_result",
     "data": {
      "text/plain": [
       "{'20130606': {'impression': 1821350,\n",
       "  'impression sampled': 19374,\n",
       "  'clicks': 1289,\n",
       "  'clicks sampled': 1290.0,\n",
       "  'click?': 1159,\n",
       "  'click? sampled': 1161},\n",
       " '20130607': {'impression': 1821350,\n",
       "  'impression sampled': 19374,\n",
       "  'clicks': 1289,\n",
       "  'clicks sampled': 1290.0,\n",
       "  'click?': 1159,\n",
       "  'click? sampled': 1161}}"
      ]
     },
     "metadata": {},
     "execution_count": 24
    }
   ],
   "source": [
    "dict_test"
   ]
  },
  {
   "cell_type": "code",
   "execution_count": 25,
   "metadata": {},
   "outputs": [
    {
     "output_type": "execute_result",
     "data": {
      "text/plain": [
       "                     20130606   20130607\n",
       "impression          1821350.0  1821350.0\n",
       "impression sampled    19374.0    19374.0\n",
       "clicks                 1289.0     1289.0\n",
       "clicks sampled         1290.0     1290.0\n",
       "click?                 1159.0     1159.0\n",
       "click? sampled         1161.0     1161.0"
      ],
      "text/html": "<div>\n<style scoped>\n    .dataframe tbody tr th:only-of-type {\n        vertical-align: middle;\n    }\n\n    .dataframe tbody tr th {\n        vertical-align: top;\n    }\n\n    .dataframe thead th {\n        text-align: right;\n    }\n</style>\n<table border=\"1\" class=\"dataframe\">\n  <thead>\n    <tr style=\"text-align: right;\">\n      <th></th>\n      <th>20130606</th>\n      <th>20130607</th>\n    </tr>\n  </thead>\n  <tbody>\n    <tr>\n      <th>impression</th>\n      <td>1821350.0</td>\n      <td>1821350.0</td>\n    </tr>\n    <tr>\n      <th>impression sampled</th>\n      <td>19374.0</td>\n      <td>19374.0</td>\n    </tr>\n    <tr>\n      <th>clicks</th>\n      <td>1289.0</td>\n      <td>1289.0</td>\n    </tr>\n    <tr>\n      <th>clicks sampled</th>\n      <td>1290.0</td>\n      <td>1290.0</td>\n    </tr>\n    <tr>\n      <th>click?</th>\n      <td>1159.0</td>\n      <td>1159.0</td>\n    </tr>\n    <tr>\n      <th>click? sampled</th>\n      <td>1161.0</td>\n      <td>1161.0</td>\n    </tr>\n  </tbody>\n</table>\n</div>"
     },
     "metadata": {},
     "execution_count": 25
    }
   ],
   "source": [
    "pd.DataFrame(dict_test)"
   ]
  },
  {
   "cell_type": "code",
   "execution_count": 59,
   "metadata": {},
   "outputs": [],
   "source": [
    "X, y = make_classification(n_samples=10000, weights=[0.99], flip_y=0)"
   ]
  },
  {
   "cell_type": "code",
   "execution_count": 60,
   "metadata": {},
   "outputs": [
    {
     "output_type": "execute_result",
     "data": {
      "text/plain": [
       "Counter({0: 9900, 1: 100})"
      ]
     },
     "metadata": {},
     "execution_count": 60
    }
   ],
   "source": [
    "Counter(y)"
   ]
  },
  {
   "cell_type": "code",
   "execution_count": 5,
   "metadata": {},
   "outputs": [
    {
     "output_type": "error",
     "ename": "NameError",
     "evalue": "name 'df_final' is not defined",
     "traceback": [
      "\u001b[0;31m---------------------------------------------------------------------------\u001b[0m",
      "\u001b[0;31mNameError\u001b[0m                                 Traceback (most recent call last)",
      "\u001b[0;32m<ipython-input-5-b73eba978b48>\u001b[0m in \u001b[0;36m<module>\u001b[0;34m\u001b[0m\n\u001b[0;32m----> 1\u001b[0;31m \u001b[0mdf_final\u001b[0m\u001b[0;34m[\u001b[0m\u001b[0;34m'n_clicks'\u001b[0m\u001b[0;34m]\u001b[0m\u001b[0;34m.\u001b[0m\u001b[0msum\u001b[0m\u001b[0;34m(\u001b[0m\u001b[0;34m)\u001b[0m\u001b[0;34m\u001b[0m\u001b[0;34m\u001b[0m\u001b[0m\n\u001b[0m",
      "\u001b[0;31mNameError\u001b[0m: name 'df_final' is not defined"
     ]
    }
   ],
   "source": [
    "df_final['n_clicks'].sum()"
   ]
  },
  {
   "cell_type": "code",
   "execution_count": 90,
   "metadata": {},
   "outputs": [
    {
     "output_type": "stream",
     "name": "stdout",
     "text": [
      "Original dataset shape Counter({1: 900, 0: 100})\nResampled dataset shape Counter({1: 900, 0: 100})\n"
     ]
    }
   ],
   "source": [
    "from collections import Counter\n",
    "from sklearn.datasets import make_classification\n",
    "from imblearn.under_sampling import RandomUnderSampler \n",
    "\n",
    "X, y = make_classification(n_classes=2, class_sep=2, weights=[0.1, 0.9], n_informative=3, n_redundant=1, flip_y=0,\n",
    "n_features=20, n_clusters_per_class=1, n_samples=1000, random_state=10)\n",
    "\n",
    "print('Original dataset shape %s' % Counter(y))\n",
    "rus = RandomUnderSampler(sampling_strategy={1:900, 0:100})\n",
    "X_res, y_res = rus.fit_resample(X, y)\n",
    "print('Resampled dataset shape %s' % Counter(y_res))\n"
   ]
  },
  {
   "cell_type": "code",
   "execution_count": 78,
   "metadata": {},
   "outputs": [
    {
     "output_type": "execute_result",
     "data": {
      "text/plain": [
       "(1821350, 21)"
      ]
     },
     "metadata": {},
     "execution_count": 78
    }
   ],
   "source": [
    "df_final.shape"
   ]
  },
  {
   "cell_type": "code",
   "execution_count": 102,
   "metadata": {},
   "outputs": [],
   "source": [
    "X=df_final.drop(['has click'], axis=1)\n",
    "y=df_final['has click']"
   ]
  },
  {
   "cell_type": "code",
   "execution_count": 103,
   "metadata": {},
   "outputs": [
    {
     "output_type": "execute_result",
     "data": {
      "text/plain": [
       "Timestamp_impressions             int64\n",
       "Log Type                          int64\n",
       "User-Agent_impressions           object\n",
       "Region ID_impressions             int64\n",
       "City ID                           int64\n",
       "Ad Exchange                       int64\n",
       "Ad Slot Width                     int64\n",
       "Ad Slot Height                    int64\n",
       "Ad Slot Visibility                int64\n",
       "Ad Slot Format                    int64\n",
       "Ad Slot Floor Price               int64\n",
       "Bidding Price                     int64\n",
       "Paying Price                      int64\n",
       "Advertiser ID                     int64\n",
       "User Profile IDs_impressions     object\n",
       "Timestamp_clicks                float64\n",
       "User-Agent_clicks                object\n",
       "User Profile IDs_clicks          object\n",
       "Region ID_clicks                float64\n",
       "n_clicks                        float64\n",
       "has click                         int64\n",
       "dtype: object"
      ]
     },
     "metadata": {},
     "execution_count": 103
    }
   ],
   "source": [
    "df_final.dtypes"
   ]
  },
  {
   "cell_type": "code",
   "execution_count": 107,
   "metadata": {},
   "outputs": [
    {
     "output_type": "stream",
     "name": "stdout",
     "text": [
      "Resampled dataset shape Counter({0: 18213, 1: 1161})\n"
     ]
    }
   ],
   "source": [
    "n_1=df_final['has click'].sum()\n",
    "n_0=int(0.01*len(df_final))\n",
    "\n",
    "rus = RandomUnderSampler(sampling_strategy={1:n_1, 0:n_0})\n",
    "X_res, y_res = rus.fit_resample(X, y)\n",
    "print('Resampled dataset shape %s' % Counter(y_res))"
   ]
  },
  {
   "cell_type": "code",
   "execution_count": 110,
   "metadata": {},
   "outputs": [
    {
     "output_type": "execute_result",
     "data": {
      "text/plain": [
       "0    18201.89\n",
       "1       11.61\n",
       "Name: has click, dtype: float64"
      ]
     },
     "metadata": {},
     "execution_count": 110
    }
   ],
   "source": [
    "df_final['has click'].value_counts()/100"
   ]
  },
  {
   "cell_type": "code",
   "execution_count": null,
   "metadata": {},
   "outputs": [],
   "source": [
    "rus = RandomUnderSampler()"
   ]
  },
  {
   "cell_type": "code",
   "execution_count": null,
   "metadata": {},
   "outputs": [],
   "source": []
  },
  {
   "cell_type": "code",
   "execution_count": null,
   "metadata": {},
   "outputs": [],
   "source": []
  },
  {
   "cell_type": "code",
   "execution_count": 74,
   "metadata": {},
   "outputs": [
    {
     "output_type": "stream",
     "name": "stdout",
     "text": [
      "reading data for 20130606\n",
      "shape of impressions is (1821350, 24)\n",
      "shape of clicks is (1289, 24)\n"
     ]
    }
   ],
   "source": [
    "\n",
    "\"\"\"\n",
    "This script aims at creating a training and a testing set from the iPinYou data contest\n",
    "\n",
    "This script is composed of 4 parts \n",
    "1. Import librairies and change directory to where the data lies \n",
    "    ACTION REQUIRED: you need to update the path to your folder \n",
    "\n",
    "2. Define parameters \n",
    "\n",
    "3. Define function for extracting day of the data and sampling it \n",
    "\n",
    "4. Script to build full dataset \n",
    "ACTION REQUIRED: \n",
    "- Update random state in parameters  \n",
    "- Update n_sampling \n",
    "\n",
    "\n",
    "Author: Armand Sauzay\n",
    "Email: armand.sauzay@berkeley.edu\n",
    "\"\"\"\n",
    "# 1. Import librairies\n",
    "import os \n",
    "import numpy as np\n",
    "import pandas as pd\n",
    "from sklearn.preprocessing import MultiLabelBinarizer\n",
    "from sklearn import linear_model\n",
    "from sklearn.model_selection import train_test_split\n",
    "import bz2\n",
    "\n",
    "#Change directory to where the data lies (training2nd --> 2nd session of contest)\n",
    "os.chdir('/Users/Armand/Capstone/ipinyou.contest.dataset/training2nd')\n",
    "\n",
    "# 2. Define Parameters\n",
    "header_season2=[\n",
    "    'Bid ID'\n",
    "    ,'Timestamp'\n",
    "    ,'Log Type'\n",
    "    ,'iPinYou ID'\n",
    "    ,'User-Agent'\n",
    "    ,'IP'\n",
    "    ,'Region ID'\n",
    "    ,'City ID'\n",
    "    ,'Ad Exchange'\n",
    "    ,'Domain'\n",
    "    ,'URL'\n",
    "    ,'Anonymous URL'\n",
    "    ,'Ad Slot ID'\n",
    "    ,'Ad Slot Width'\n",
    "    ,'Ad Slot Height'\n",
    "    ,'Ad Slot Visibility'\n",
    "    ,'Ad Slot Format'\n",
    "    ,'Ad Slot Floor Price'\n",
    "    ,'Creative ID'\n",
    "    ,'Bidding Price'\n",
    "    ,'Paying Price'\n",
    "    ,'Landing Page URL'\n",
    "    ,'Advertiser ID'\n",
    "    ,'User Profile IDs']\n",
    "\n",
    "dates_list=['20130606'\n",
    "           , '20130607'\n",
    "           , '20130608'\n",
    "           , '20130609'\n",
    "           , '20130610'\n",
    "           , '20130611'\n",
    "           , '20130612']\n",
    "\n",
    "random_state=100\n",
    "frac_to_take=0.01\n",
    "n_sampling=100000\n",
    "\n",
    "\n",
    "#3. one day data\n",
    "def one_day_training_testing(date):\n",
    "    # READ DATA FOR 1 DAY \n",
    "    print('reading data for %s'%date)\n",
    "    #unzipped_file = bz2.BZ2File('bid.'+date+'.txt.bz2', \"r\")\n",
    "    #bids=pd.read_table(unzipped_file, names=header_season2_bids)\n",
    "\n",
    "    unzipped_file = bz2.BZ2File('imp.'+date+'.txt.bz2', \"r\")\n",
    "    impressions=pd.read_table(unzipped_file, names=header_season2)\n",
    "    \n",
    "    unzipped_file = bz2.BZ2File('clk.'+date+'.txt.bz2', \"r\")\n",
    "    clicks=pd.read_table(unzipped_file, names=header_season2)\n",
    "    \n",
    "    #unzipped_file = bz2.BZ2File('conv.'+date+'.txt.bz2', \"r\")\n",
    "    #conversions=pd.read_table(unzipped_file, names=header_season2)\n",
    "\n",
    "    all_data={'impressions':impressions, 'clicks':clicks}\n",
    "    for key, value in all_data.items(): \n",
    "        print('shape of %s is %s'%(key, value.shape))\n",
    "\n",
    "    #ASSUMPTION 1: SOME COLUMNS CAN BE DROPPED BECAUSE THEY HAVE NO PREDICTIVE POWER\n",
    "    cols_to_drop=['iPinYou ID'\n",
    "                ,'IP'\n",
    "                ,'Domain'\n",
    "                ,'URL'\n",
    "                ,'Anonymous URL'\n",
    "                ,'Ad Slot ID'\n",
    "                ,'Creative ID']\n",
    "\n",
    "    for index, value in all_data.items(): \n",
    "        value.drop(cols_to_drop, axis=1, inplace =True)\n",
    "        if index!='bids': \n",
    "            value.drop('Landing Page URL', axis=1, inplace=True)\n",
    "\n",
    "# IMPRESSION MERGE \n",
    "    ## ASSUMPTION 2.1:COUNT DUPLICATES ON BID ID FOR IMPRESSIONS AND ADD THEM TO LINE\n",
    "    ## ASSUMPTION 2.2: ONLY KEEP COLUMNS THAT ACTUALLY DIFFER IN THE IMPRESSION TABLE\n",
    "    \n",
    "    '''impression_count=impressions.groupby(['Bid ID']).size()\n",
    "    #impression_to_merge =pd.merge(impressions[['Bid ID'\n",
    "            , 'Timestamp'\n",
    "            , 'User-Agent'\n",
    "            , 'Log Type'\n",
    "            , 'Paying Price'\n",
    "            , 'User Profile IDs']].drop_duplicates('Bid ID'), impression_count.rename('n_impressions'), left_on='Bid ID',right_index=True)\n",
    "    #df=pd.merge(bids, impression_to_merge, on=\"Bid ID\", suffixes=('_bid', '_imp'), how=\"left\")'''\n",
    "\n",
    "#CLICKS MERGE\n",
    "    ## ASSUMPTION 3.1: COUNT DUPLICATES FOR BID ID FOR CLICKS AND ADD THEM  \n",
    "    ## ASSUMPTION 3.2: ONLY KEEP COLUMNS THAT ACTUALLY DIFFER IN THE CLICKS TABLE\n",
    "    clicks_count=clicks.groupby(['Bid ID']).size()\n",
    "    clicks_to_merge =pd.merge(clicks[['Bid ID'\n",
    "                        , 'Timestamp'\n",
    "                        , 'User-Agent'\n",
    "                        , 'User Profile IDs'\n",
    "                        , 'Region ID'\n",
    "                        ]].drop_duplicates('Bid ID'), clicks_count.rename('n_clicks'), left_on='Bid ID',right_index=True)     \n",
    "    df=pd.merge(impressions, clicks_to_merge, left_on=\"Bid ID\",right_on=\"Bid ID\", suffixes=('_impressions', '_clicks'), how=\"left\")\n",
    "\n",
    "    # ADD COLUMNS (QUITE REDUNDANT WITH n_clicks & n_impressions)\n",
    "    #df['has impression']=~(df['Timestamp_imp'].isna())\n",
    "    df['has click']=~(df['Region ID_clicks'].isna())\n",
    "    #CONVERT BOOL TO INT \n",
    "    #df['has impression']=df['has impression'].astype(int)\n",
    "    df['has click']=df['has click'].astype(int)\n",
    "\n",
    "    #REDUCE SIZE   \n",
    "    cols_to_drop = ['Bid ID']\n",
    "    df.drop(cols_to_drop, axis=1, inplace =True)\n",
    "\n",
    "    #SAMPLE THE DATASET\n",
    "    #df=df.sample(n=n_sampling, random_state=random_state)\n",
    "    return(df)\n",
    "\n",
    "df_final=one_day_training_testing('20130606')\n"
   ]
  },
  {
   "cell_type": "code",
   "execution_count": null,
   "metadata": {},
   "outputs": [],
   "source": [
    "for date in dates_list[1:]:    \n",
    "    df=one_day_training_testing(date)\n",
    "    print('shape of df is %s'%str(df.shape))\n",
    "    df_final=df_final.append(df)\n",
    "    print('shape of df_final is %s'%str(df_final.shape))\n",
    "\n",
    "#take mapping for user profile\n",
    "#mapping=pd.read_table('/Users/Armand/Capstone/ipinyou.contest.dataset/user.profile.tags.en.txt', names=('key','value'))\n",
    "\n",
    "#dummify user profile\n",
    "s=df_final['User Profile IDs_imp'].str.split(pat=',')\n",
    "dummies_to_concatenate=pd.get_dummies(s.apply(pd.Series).stack()).sum(level=0)\n",
    "\n",
    "df_dummified = df_final.merge(dummies_to_concatenate, left_index=True, right_index=True, how='left')\n",
    "\n",
    "df_dummified.to_csv('/Users/Armand/Capstone/final_training_testing.csv')"
   ]
  },
  {
   "cell_type": "code",
   "execution_count": null,
   "metadata": {},
   "outputs": [],
   "source": []
  }
 ]
}