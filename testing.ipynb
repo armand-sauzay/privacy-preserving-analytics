{
 "cells": [
  {
   "cell_type": "code",
   "execution_count": 2,
   "metadata": {},
   "outputs": [],
   "source": [
    "import numpy as np\n",
    "import pandas as pd"
   ]
  },
  {
   "cell_type": "code",
   "execution_count": 15,
   "metadata": {},
   "outputs": [],
   "source": [
    "test_orig = pd.read_csv(\"leaderboard.test.data.20130613_15.txt\", sep=\"\\t\")"
   ]
  },
  {
   "cell_type": "code",
   "execution_count": 16,
   "metadata": {},
   "outputs": [
    {
     "name": "stdout",
     "output_type": "stream",
     "text": [
      "(2521629, 26)\n"
     ]
    },
    {
     "data": {
      "text/html": [
       "<div>\n",
       "<style scoped>\n",
       "    .dataframe tbody tr th:only-of-type {\n",
       "        vertical-align: middle;\n",
       "    }\n",
       "\n",
       "    .dataframe tbody tr th {\n",
       "        vertical-align: top;\n",
       "    }\n",
       "\n",
       "    .dataframe thead th {\n",
       "        text-align: right;\n",
       "    }\n",
       "</style>\n",
       "<table border=\"1\" class=\"dataframe\">\n",
       "  <thead>\n",
       "    <tr style=\"text-align: right;\">\n",
       "      <th></th>\n",
       "      <th>bidid</th>\n",
       "      <th>timestamp</th>\n",
       "      <th>logtype</th>\n",
       "      <th>ipinyouid</th>\n",
       "      <th>useragent</th>\n",
       "      <th>IP</th>\n",
       "      <th>region</th>\n",
       "      <th>city</th>\n",
       "      <th>adexchange</th>\n",
       "      <th>domain</th>\n",
       "      <th>...</th>\n",
       "      <th>slotformat</th>\n",
       "      <th>slotprice</th>\n",
       "      <th>creative</th>\n",
       "      <th>bidprice</th>\n",
       "      <th>payprice</th>\n",
       "      <th>keypage</th>\n",
       "      <th>advertiser</th>\n",
       "      <th>usertag</th>\n",
       "      <th>RelateClicks</th>\n",
       "      <th>IfHasConv</th>\n",
       "    </tr>\n",
       "  </thead>\n",
       "  <tbody>\n",
       "    <tr>\n",
       "      <th>0</th>\n",
       "      <td>77c5c149c234a0de420eefe9b6e16517</td>\n",
       "      <td>20130613000101391</td>\n",
       "      <td>1</td>\n",
       "      <td>Vh1HP3FpOUx6kgL</td>\n",
       "      <td>Mozilla/5.0 (Windows NT 6.1) AppleWebKit/537.1...</td>\n",
       "      <td>221.0.14.*</td>\n",
       "      <td>146</td>\n",
       "      <td>147</td>\n",
       "      <td>1</td>\n",
       "      <td>trqRTu1YP5scFsf</td>\n",
       "      <td>...</td>\n",
       "      <td>1</td>\n",
       "      <td>0</td>\n",
       "      <td>fa8f0532dd5144b5fa748459e8d90b49</td>\n",
       "      <td>227</td>\n",
       "      <td>20</td>\n",
       "      <td>0f951a030abdaedd733ee8d114ce2944</td>\n",
       "      <td>3427</td>\n",
       "      <td>13403,10006,10063,13866,10126,10117,10110</td>\n",
       "      <td>0</td>\n",
       "      <td>0</td>\n",
       "    </tr>\n",
       "    <tr>\n",
       "      <th>1</th>\n",
       "      <td>a45fe947ffb7a52f452308bb50b4a572</td>\n",
       "      <td>20130613000101428</td>\n",
       "      <td>1</td>\n",
       "      <td>Vh5zPuc9DvT2lGk</td>\n",
       "      <td>Mozilla/5.0 (compatible; MSIE 9.0; Windows NT ...</td>\n",
       "      <td>180.173.50.*</td>\n",
       "      <td>79</td>\n",
       "      <td>79</td>\n",
       "      <td>2</td>\n",
       "      <td>3K9RquSEQqk7gh5mumpWUvj</td>\n",
       "      <td>...</td>\n",
       "      <td>0</td>\n",
       "      <td>5</td>\n",
       "      <td>7184c9560e68e977187e67e45a4f3198</td>\n",
       "      <td>238</td>\n",
       "      <td>63</td>\n",
       "      <td>0f951a030abdaedd733ee8d114ce2944</td>\n",
       "      <td>3427</td>\n",
       "      <td>13042,10052,10075,10006,10031,10063,13800,1013...</td>\n",
       "      <td>0</td>\n",
       "      <td>0</td>\n",
       "    </tr>\n",
       "    <tr>\n",
       "      <th>2</th>\n",
       "      <td>184d6f9a71c3c53336cff407e5b7ae</td>\n",
       "      <td>20130613000101438</td>\n",
       "      <td>1</td>\n",
       "      <td>Vh5KZAnrPoddkMf</td>\n",
       "      <td>Mozilla/5.0 (Windows NT 6.1; WOW64) AppleWebKi...</td>\n",
       "      <td>175.148.162.*</td>\n",
       "      <td>40</td>\n",
       "      <td>51</td>\n",
       "      <td>1</td>\n",
       "      <td>eF1gtK9cXqT7jOMoarjWvpdh</td>\n",
       "      <td>...</td>\n",
       "      <td>5</td>\n",
       "      <td>0</td>\n",
       "      <td>44966cc8da1ed40c95d59e863c8c75f0</td>\n",
       "      <td>300</td>\n",
       "      <td>293</td>\n",
       "      <td>361e128affece850342293213691a043</td>\n",
       "      <td>3386</td>\n",
       "      <td>13866,10111</td>\n",
       "      <td>0</td>\n",
       "      <td>0</td>\n",
       "    </tr>\n",
       "    <tr>\n",
       "      <th>3</th>\n",
       "      <td>11415ce7ca9c7e1950b41bf3468fb288</td>\n",
       "      <td>20130613000101456</td>\n",
       "      <td>1</td>\n",
       "      <td>VhdiPkNq3QNvwQL</td>\n",
       "      <td>Mozilla/5.0 (Windows NT 5.1) AppleWebKit/537.1...</td>\n",
       "      <td>111.179.205.*</td>\n",
       "      <td>183</td>\n",
       "      <td>193</td>\n",
       "      <td>1</td>\n",
       "      <td>trqRTummPvas1m58uG</td>\n",
       "      <td>...</td>\n",
       "      <td>1</td>\n",
       "      <td>0</td>\n",
       "      <td>911b2d84826786018761e8c0b0a3a60c</td>\n",
       "      <td>227</td>\n",
       "      <td>120</td>\n",
       "      <td>d29e59bf0f7f8243858b8183f14d4412</td>\n",
       "      <td>3358</td>\n",
       "      <td>13042,10031,10063,10006,10075,10126,10116,10110</td>\n",
       "      <td>0</td>\n",
       "      <td>0</td>\n",
       "    </tr>\n",
       "    <tr>\n",
       "      <th>4</th>\n",
       "      <td>576d490a9079575951af613aef400d73</td>\n",
       "      <td>20130613000101465</td>\n",
       "      <td>1</td>\n",
       "      <td>Vh5KZAnrP4ah3s8</td>\n",
       "      <td>Mozilla/5.0 (compatible; MSIE 10.0; Windows NT...</td>\n",
       "      <td>110.73.196.*</td>\n",
       "      <td>238</td>\n",
       "      <td>248</td>\n",
       "      <td>1</td>\n",
       "      <td>DFpETuxoGQdcFNKbuKz</td>\n",
       "      <td>...</td>\n",
       "      <td>1</td>\n",
       "      <td>0</td>\n",
       "      <td>dc0998c10f8f0b623b5d949e8272e4c7</td>\n",
       "      <td>227</td>\n",
       "      <td>20</td>\n",
       "      <td>d29e59bf0f7f8243858b8183f14d4412</td>\n",
       "      <td>3358</td>\n",
       "      <td>10006,10110</td>\n",
       "      <td>0</td>\n",
       "      <td>0</td>\n",
       "    </tr>\n",
       "  </tbody>\n",
       "</table>\n",
       "<p>5 rows × 26 columns</p>\n",
       "</div>"
      ],
      "text/plain": [
       "                              bidid          timestamp  logtype   \\\n",
       "0  77c5c149c234a0de420eefe9b6e16517  20130613000101391         1   \n",
       "1  a45fe947ffb7a52f452308bb50b4a572  20130613000101428         1   \n",
       "2    184d6f9a71c3c53336cff407e5b7ae  20130613000101438         1   \n",
       "3  11415ce7ca9c7e1950b41bf3468fb288  20130613000101456         1   \n",
       "4  576d490a9079575951af613aef400d73  20130613000101465         1   \n",
       "\n",
       "         ipinyouid                                          useragent  \\\n",
       "0  Vh1HP3FpOUx6kgL  Mozilla/5.0 (Windows NT 6.1) AppleWebKit/537.1...   \n",
       "1  Vh5zPuc9DvT2lGk  Mozilla/5.0 (compatible; MSIE 9.0; Windows NT ...   \n",
       "2  Vh5KZAnrPoddkMf  Mozilla/5.0 (Windows NT 6.1; WOW64) AppleWebKi...   \n",
       "3  VhdiPkNq3QNvwQL  Mozilla/5.0 (Windows NT 5.1) AppleWebKit/537.1...   \n",
       "4  Vh5KZAnrP4ah3s8  Mozilla/5.0 (compatible; MSIE 10.0; Windows NT...   \n",
       "\n",
       "              IP  region    city  adexchange                    domain  ...  \\\n",
       "0     221.0.14.*       146   147           1           trqRTu1YP5scFsf  ...   \n",
       "1   180.173.50.*        79    79           2   3K9RquSEQqk7gh5mumpWUvj  ...   \n",
       "2  175.148.162.*        40    51           1  eF1gtK9cXqT7jOMoarjWvpdh  ...   \n",
       "3  111.179.205.*       183   193           1        trqRTummPvas1m58uG  ...   \n",
       "4   110.73.196.*       238   248           1       DFpETuxoGQdcFNKbuKz  ...   \n",
       "\n",
       "  slotformat  slotprice                          creative  bidprice   \\\n",
       "0          1          0  fa8f0532dd5144b5fa748459e8d90b49        227   \n",
       "1          0          5  7184c9560e68e977187e67e45a4f3198        238   \n",
       "2          5          0  44966cc8da1ed40c95d59e863c8c75f0        300   \n",
       "3          1          0  911b2d84826786018761e8c0b0a3a60c        227   \n",
       "4          1          0  dc0998c10f8f0b623b5d949e8272e4c7        227   \n",
       "\n",
       "   payprice                           keypage  advertiser  \\\n",
       "0        20  0f951a030abdaedd733ee8d114ce2944        3427   \n",
       "1        63  0f951a030abdaedd733ee8d114ce2944        3427   \n",
       "2       293  361e128affece850342293213691a043        3386   \n",
       "3       120  d29e59bf0f7f8243858b8183f14d4412        3358   \n",
       "4        20  d29e59bf0f7f8243858b8183f14d4412        3358   \n",
       "\n",
       "                                             usertag RelateClicks  IfHasConv  \n",
       "0          13403,10006,10063,13866,10126,10117,10110            0          0  \n",
       "1  13042,10052,10075,10006,10031,10063,13800,1013...            0          0  \n",
       "2                                        13866,10111            0          0  \n",
       "3    13042,10031,10063,10006,10075,10126,10116,10110            0          0  \n",
       "4                                        10006,10110            0          0  \n",
       "\n",
       "[5 rows x 26 columns]"
      ]
     },
     "execution_count": 16,
     "metadata": {},
     "output_type": "execute_result"
    }
   ],
   "source": [
    "test_orig.columns=[\"bidid\", \"timestamp\", \"logtype\", \"ipinyouid\", \"useragent\", \"IP\", \"region  \", \n",
    "                    \"city\", \"adexchange\", \"domain\", \"url\", \"urlid\", \"slotid\", \"slotwidth\", \"slotheight\", \n",
    "                    \"slotvisibility\", \"slotformat\", \"slotprice\", \"creative\", \"bidprice \", \"payprice\", \n",
    "                    \"keypage\", \"advertiser\", \"usertag\", \"RelateClicks\", \"IfHasConv\"]\n",
    "print(test_orig.shape)\n",
    "test_orig.head()\n"
   ]
  },
  {
   "cell_type": "code",
   "execution_count": 19,
   "metadata": {},
   "outputs": [],
   "source": [
    "test_new = pd.concat([test_orig.drop('usertag', 1), test_orig['usertag'].str.get_dummies(sep=\",\")], 1)"
   ]
  },
  {
   "cell_type": "code",
   "execution_count": 124,
   "metadata": {},
   "outputs": [
    {
     "name": "stdout",
     "output_type": "stream",
     "text": [
      "(2521629, 93)\n"
     ]
    },
    {
     "data": {
      "text/plain": [
       "2075"
      ]
     },
     "execution_count": 124,
     "metadata": {},
     "output_type": "execute_result"
    }
   ],
   "source": [
    "print(test_new.shape)\n",
    "sum(test_new[\"RelateClicks\"])"
   ]
  },
  {
   "cell_type": "code",
   "execution_count": 125,
   "metadata": {},
   "outputs": [
    {
     "name": "stdout",
     "output_type": "stream",
     "text": [
      "0    2519756\n",
      "1       1739\n",
      "2        103\n",
      "3         17\n",
      "5          4\n",
      "7          3\n",
      "6          3\n",
      "4          3\n",
      "8          1\n",
      "Name: RelateClicks, dtype: int64\n"
     ]
    }
   ],
   "source": [
    "print(test_new['RelateClicks'].value_counts())\n",
    "test_new[\"Click_f\"] = [int(x) for x in test_new['RelateClicks'] > 0]"
   ]
  },
  {
   "cell_type": "code",
   "execution_count": 45,
   "metadata": {},
   "outputs": [
    {
     "name": "stdout",
     "output_type": "stream",
     "text": [
      "Index(['bidid', 'timestamp', 'logtype ', 'ipinyouid', 'useragent', 'IP',\n",
      "       'region  ', 'city', 'adexchange', 'domain', 'url', 'urlid', 'slotid',\n",
      "       'slotwidth', 'slotheight', 'slotvisibility', 'slotformat', 'slotprice',\n",
      "       'creative', 'bidprice ', 'payprice', 'keypage', 'advertiser',\n",
      "       'RelateClicks', 'IfHasConv', '10006', '10024', '10031', '10048',\n",
      "       '10052', '10057', '10059', '10063', '10067', '10074', '10075', '10076',\n",
      "       '10077', '10079', '10083', '10093', '10102', '10110', '10111', '10114',\n",
      "       '10115', '10116', '10117', '10118', '10120', '10123', '10125', '10126',\n",
      "       '10127', '10129', '10130', '10131', '10133', '10138', '10140', '10142',\n",
      "       '10145', '10146', '10147', '10148', '10149', '10684', '11092', '11278',\n",
      "       '11379', '11423', '11512', '11576', '11632', '11680', '11724', '11944',\n",
      "       '13042', '13403', '13496', '13678', '13776', '13800', '13866', '13874',\n",
      "       '14273', '15398', '16593', '16617', '16661', '16706', '16753',\n",
      "       'Click_f'],\n",
      "      dtype='object')\n"
     ]
    },
    {
     "data": {
      "text/plain": [
       "0    2519756\n",
       "1       1873\n",
       "Name: Click_f, dtype: int64"
      ]
     },
     "execution_count": 45,
     "metadata": {},
     "output_type": "execute_result"
    }
   ],
   "source": [
    "print(test_new.columns)\n",
    "test_new[\"Click_f\"].value_counts()"
   ]
  },
  {
   "cell_type": "code",
   "execution_count": 79,
   "metadata": {},
   "outputs": [],
   "source": [
    "test = test_new.drop(columns=[\"bidid\", \"keypage\", \"logtype \", \"ipinyouid\", \"useragent\", \"IP\", \"creative\",\"url\", \"domain\",\"urlid\", \"slotid\", \"RelateClicks\"] )"
   ]
  },
  {
   "cell_type": "code",
   "execution_count": 126,
   "metadata": {},
   "outputs": [
    {
     "data": {
      "text/plain": [
       "(2521629, 81)"
      ]
     },
     "execution_count": 126,
     "metadata": {},
     "output_type": "execute_result"
    }
   ],
   "source": [
    "test.shape"
   ]
  },
  {
   "cell_type": "code",
   "execution_count": 136,
   "metadata": {},
   "outputs": [],
   "source": [
    "from sklearn.model_selection import train_test_split\n",
    "X_train, X_test, y_train, y_test = train_test_split(test.drop(columns=[\"Click_f\"]), test[\"Click_f\"],stratify=test[\"Click_f\"],test_size=0.2)"
   ]
  },
  {
   "cell_type": "code",
   "execution_count": 137,
   "metadata": {},
   "outputs": [],
   "source": [
    "from imblearn.over_sampling import RandomOverSampler "
   ]
  },
  {
   "cell_type": "code",
   "execution_count": 138,
   "metadata": {},
   "outputs": [],
   "source": [
    "oversample = RandomOverSampler(sampling_strategy=0.5)\n",
    "X, y = oversample.fit_resample(X_train, y_train)"
   ]
  },
  {
   "cell_type": "code",
   "execution_count": 119,
   "metadata": {},
   "outputs": [
    {
     "data": {
      "text/plain": [
       "0    2519756\n",
       "1    1259878\n",
       "Name: Click_f, dtype: int64"
      ]
     },
     "execution_count": 119,
     "metadata": {},
     "output_type": "execute_result"
    }
   ],
   "source": [
    "y.value_counts()"
   ]
  },
  {
   "cell_type": "code",
   "execution_count": 139,
   "metadata": {},
   "outputs": [],
   "source": [
    "from sklearn.linear_model import LogisticRegression\n",
    "clf = LogisticRegression().fit(X, y)"
   ]
  },
  {
   "cell_type": "code",
   "execution_count": 141,
   "metadata": {},
   "outputs": [
    {
     "data": {
      "text/plain": [
       "0.6666667769066249"
      ]
     },
     "execution_count": 141,
     "metadata": {},
     "output_type": "execute_result"
    }
   ],
   "source": [
    "predictions_train = clf.predict(X)\n",
    "sum(predictions_train == y)/len(y)"
   ]
  },
  {
   "cell_type": "code",
   "execution_count": 142,
   "metadata": {},
   "outputs": [
    {
     "data": {
      "text/plain": [
       "0.9992564333387531"
      ]
     },
     "execution_count": 142,
     "metadata": {},
     "output_type": "execute_result"
    }
   ],
   "source": [
    "predictions_test = clf.predict(X_test)\n",
    "sum(predictions_test == y_test)/len(y_test)"
   ]
  },
  {
   "cell_type": "code",
   "execution_count": 143,
   "metadata": {},
   "outputs": [
    {
     "data": {
      "text/plain": [
       "0"
      ]
     },
     "execution_count": 143,
     "metadata": {},
     "output_type": "execute_result"
    }
   ],
   "source": [
    "sum(predictions_test)"
   ]
  },
  {
   "cell_type": "code",
   "execution_count": 145,
   "metadata": {},
   "outputs": [],
   "source": [
    "from sklearn.ensemble import RandomForestClassifier\n",
    "clf_rf = RandomForestClassifier().fit(X, y)"
   ]
  },
  {
   "cell_type": "code",
   "execution_count": 150,
   "metadata": {},
   "outputs": [
    {
     "data": {
      "text/plain": [
       "0.9992978817061309"
      ]
     },
     "execution_count": 150,
     "metadata": {},
     "output_type": "execute_result"
    }
   ],
   "source": [
    "predictions_train = clf_rf.predict(X)\n",
    "sum(predictions_train == y)/len(y)"
   ]
  },
  {
   "cell_type": "code",
   "execution_count": 151,
   "metadata": {},
   "outputs": [
    {
     "data": {
      "text/plain": [
       "1010025"
      ]
     },
     "execution_count": 151,
     "metadata": {},
     "output_type": "execute_result"
    }
   ],
   "source": [
    "sum(predictions_train)"
   ]
  },
  {
   "cell_type": "code",
   "execution_count": 152,
   "metadata": {},
   "outputs": [
    {
     "data": {
      "text/plain": [
       "0.9982134571685775"
      ]
     },
     "execution_count": 152,
     "metadata": {},
     "output_type": "execute_result"
    }
   ],
   "source": [
    "predictions_test = clf_rf.predict(X_test)\n",
    "sum(predictions_test == y_test)/len(y_test)"
   ]
  },
  {
   "cell_type": "code",
   "execution_count": 153,
   "metadata": {},
   "outputs": [
    {
     "data": {
      "text/plain": [
       "734"
      ]
     },
     "execution_count": 153,
     "metadata": {},
     "output_type": "execute_result"
    }
   ],
   "source": [
    "sum(predictions_test)"
   ]
  }
 ],
 "metadata": {
  "kernelspec": {
   "display_name": "Python 3",
   "language": "python",
   "name": "python3"
  },
  "language_info": {
   "codemirror_mode": {
    "name": "ipython",
    "version": 3
   },
   "file_extension": ".py",
   "mimetype": "text/x-python",
   "name": "python",
   "nbconvert_exporter": "python",
   "pygments_lexer": "ipython3",
   "version": "3.8.5"
  }
 },
 "nbformat": 4,
 "nbformat_minor": 4
}
